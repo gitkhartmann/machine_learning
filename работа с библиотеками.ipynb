{
 "cells": [
  {
   "cell_type": "markdown",
   "metadata": {
    "id": "n-kI_Y8ylTjI"
   },
   "source": [
    "В этом занятии:\n",
    "* Научимся устанавливать библиотеки `pandas`, `numpy`, `scipy`, `matplotlib`.\n",
    "\n",
    "* Познакомимся с основными реализациями математических обьектов из `numpy`.\n",
    "\n",
    "* Научимся загружать данные и рабоать с `pandas` так, чтобы не думать больше об excel.\n",
    "\n",
    "* Узнаем как решать алгебраические уравнения в  `scipy`.\n",
    "\n",
    "* Научимся строить элементарыне графики с помощью `matplotlib`.\n",
    "\n",
    "___"
   ]
  },
  {
   "cell_type": "markdown",
   "metadata": {
    "id": "7mPufk-fCDza"
   },
   "source": [
    "# Введение\n",
    "\n",
    "Прежде чем перейти к работе с [*python* библиотеками](https://pypi.org/) их нужно установить.\n",
    "\n",
    "Одним из способов установки библиотеки является использование командной строки и пакетного менеджера `pip`.\n",
    "\n",
    "Чтобы вызвать командную строку в ячейке `Jupyter Notebook` достаточно к начальной команде добвить символ: `!`."
   ]
  },
  {
   "cell_type": "markdown",
   "metadata": {
    "id": "7FW6goWRG5Nj"
   },
   "source": [
    "Давайте приступим к установке библиотек:  *pandas, numpy, scipy, matplotlib* через пакетный менеджер *pip*.\n",
    "\n",
    "Для этого введите в *Jupyter Notebook* следующую команду.\n",
    "\n",
    "***Пользователям Google Colab делать это не нужно***"
   ]
  },
  {
   "cell_type": "code",
   "execution_count": 1,
   "metadata": {
    "id": "B61kqIvjH9XI"
   },
   "outputs": [
    {
     "name": "stdout",
     "output_type": "stream",
     "text": [
      "Collecting pandas\n",
      "  Downloading pandas-2.1.1-cp311-cp311-macosx_11_0_arm64.whl.metadata (18 kB)\n",
      "Collecting numpy\n",
      "  Downloading numpy-1.26.1-cp311-cp311-macosx_11_0_arm64.whl.metadata (115 kB)\n",
      "\u001b[2K     \u001b[38;2;114;156;31m━━━━━━━━━━━━━━━━━━━━━━━━━━━━━━━━━━━━━━━\u001b[0m \u001b[32m115.1/115.1 kB\u001b[0m \u001b[31m1.5 MB/s\u001b[0m eta \u001b[36m0:00:00\u001b[0m[36m0:00:01\u001b[0mm eta \u001b[36m0:00:01\u001b[0m\n",
      "\u001b[?25hCollecting scipy\n",
      "  Downloading scipy-1.11.3-cp311-cp311-macosx_12_0_arm64.whl.metadata (165 kB)\n",
      "\u001b[2K     \u001b[38;2;114;156;31m━━━━━━━━━━━━━━━━━━━━━━━━━━━━━━━━━━━━━━━\u001b[0m \u001b[32m165.4/165.4 kB\u001b[0m \u001b[31m3.4 MB/s\u001b[0m eta \u001b[36m0:00:00\u001b[0m[31m7.3 MB/s\u001b[0m eta \u001b[36m0:00:01\u001b[0m\n",
      "\u001b[?25hCollecting matplotlib\n",
      "  Downloading matplotlib-3.8.0-cp311-cp311-macosx_11_0_arm64.whl.metadata (5.8 kB)\n",
      "Requirement already satisfied: python-dateutil>=2.8.2 in /Library/Frameworks/Python.framework/Versions/3.11/lib/python3.11/site-packages (from pandas) (2.8.2)\n",
      "Collecting pytz>=2020.1 (from pandas)\n",
      "  Downloading pytz-2023.3.post1-py2.py3-none-any.whl.metadata (22 kB)\n",
      "Collecting tzdata>=2022.1 (from pandas)\n",
      "  Downloading tzdata-2023.3-py2.py3-none-any.whl (341 kB)\n",
      "\u001b[2K     \u001b[38;2;114;156;31m━━━━━━━━━━━━━━━━━━━━━━━━━━━━━━━━━━━━━━━\u001b[0m \u001b[32m341.8/341.8 kB\u001b[0m \u001b[31m4.4 MB/s\u001b[0m eta \u001b[36m0:00:00\u001b[0m MB/s\u001b[0m eta \u001b[36m0:00:01\u001b[0m\n",
      "\u001b[?25hCollecting contourpy>=1.0.1 (from matplotlib)\n",
      "  Downloading contourpy-1.1.1-cp311-cp311-macosx_11_0_arm64.whl.metadata (5.9 kB)\n",
      "Collecting cycler>=0.10 (from matplotlib)\n",
      "  Downloading cycler-0.12.1-py3-none-any.whl.metadata (3.8 kB)\n",
      "Collecting fonttools>=4.22.0 (from matplotlib)\n",
      "  Downloading fonttools-4.43.1-cp311-cp311-macosx_10_9_universal2.whl.metadata (152 kB)\n",
      "\u001b[2K     \u001b[38;2;114;156;31m━━━━━━━━━━━━━━━━━━━━━━━━━━━━━━━━━━━━━━━\u001b[0m \u001b[32m152.4/152.4 kB\u001b[0m \u001b[31m7.1 MB/s\u001b[0m eta \u001b[36m0:00:00\u001b[0m\n",
      "\u001b[?25hCollecting kiwisolver>=1.0.1 (from matplotlib)\n",
      "  Downloading kiwisolver-1.4.5-cp311-cp311-macosx_11_0_arm64.whl.metadata (6.4 kB)\n",
      "Requirement already satisfied: packaging>=20.0 in /Library/Frameworks/Python.framework/Versions/3.11/lib/python3.11/site-packages (from matplotlib) (23.2)\n",
      "Collecting pillow>=6.2.0 (from matplotlib)\n",
      "  Downloading Pillow-10.1.0-cp311-cp311-macosx_11_0_arm64.whl.metadata (9.5 kB)\n",
      "Collecting pyparsing>=2.3.1 (from matplotlib)\n",
      "  Downloading pyparsing-3.1.1-py3-none-any.whl.metadata (5.1 kB)\n",
      "Requirement already satisfied: six>=1.5 in /Library/Frameworks/Python.framework/Versions/3.11/lib/python3.11/site-packages (from python-dateutil>=2.8.2->pandas) (1.16.0)\n",
      "Downloading pandas-2.1.1-cp311-cp311-macosx_11_0_arm64.whl (10.8 MB)\n",
      "\u001b[2K   \u001b[38;2;114;156;31m━━━━━━━━━━━━━━━━━━━━━━━━━━━━━━━━━━━━━━━━\u001b[0m \u001b[32m10.8/10.8 MB\u001b[0m \u001b[31m4.7 MB/s\u001b[0m eta \u001b[36m0:00:00\u001b[0mm eta \u001b[36m0:00:01\u001b[0m[36m0:00:01\u001b[0m\n",
      "\u001b[?25hDownloading numpy-1.26.1-cp311-cp311-macosx_11_0_arm64.whl (14.0 MB)\n",
      "\u001b[2K   \u001b[38;2;114;156;31m━━━━━━━━━━━━━━━━━━━━━━━━━━━━━━━━━━━━━━━━\u001b[0m \u001b[32m14.0/14.0 MB\u001b[0m \u001b[31m5.0 MB/s\u001b[0m eta \u001b[36m0:00:00\u001b[0mm eta \u001b[36m0:00:01\u001b[0m[36m0:00:01\u001b[0m\n",
      "\u001b[?25hDownloading scipy-1.11.3-cp311-cp311-macosx_12_0_arm64.whl (29.7 MB)\n",
      "\u001b[2K   \u001b[38;2;114;156;31m━━━━━━━━━━━━━━━━━━━━━━━━━━━━━━━━━━━━━━━━\u001b[0m \u001b[32m29.7/29.7 MB\u001b[0m \u001b[31m5.2 MB/s\u001b[0m eta \u001b[36m0:00:00\u001b[0mm eta \u001b[36m0:00:01\u001b[0m0:01\u001b[0m:02\u001b[0m\n",
      "\u001b[?25hDownloading matplotlib-3.8.0-cp311-cp311-macosx_11_0_arm64.whl (7.5 MB)\n",
      "\u001b[2K   \u001b[38;2;114;156;31m━━━━━━━━━━━━━━━━━━━━━━━━━━━━━━━━━━━━━━━━\u001b[0m \u001b[32m7.5/7.5 MB\u001b[0m \u001b[31m6.1 MB/s\u001b[0m eta \u001b[36m0:00:00\u001b[0mm eta \u001b[36m0:00:01\u001b[0m[36m0:00:01\u001b[0m\n",
      "\u001b[?25hDownloading contourpy-1.1.1-cp311-cp311-macosx_11_0_arm64.whl (233 kB)\n",
      "\u001b[2K   \u001b[38;2;114;156;31m━━━━━━━━━━━━━━━━━━━━━━━━━━━━━━━━━━━━━━━━\u001b[0m \u001b[32m233.6/233.6 kB\u001b[0m \u001b[31m4.4 MB/s\u001b[0m eta \u001b[36m0:00:00\u001b[0m MB/s\u001b[0m eta \u001b[36m0:00:01\u001b[0m\n",
      "\u001b[?25hDownloading cycler-0.12.1-py3-none-any.whl (8.3 kB)\n",
      "Downloading fonttools-4.43.1-cp311-cp311-macosx_10_9_universal2.whl (2.7 MB)\n",
      "\u001b[2K   \u001b[38;2;114;156;31m━━━━━━━━━━━━━━━━━━━━━━━━━━━━━━━━━━━━━━━━\u001b[0m \u001b[32m2.7/2.7 MB\u001b[0m \u001b[31m5.9 MB/s\u001b[0m eta \u001b[36m0:00:00\u001b[0m[31m5.9 MB/s\u001b[0m eta \u001b[36m0:00:01\u001b[0m\n",
      "\u001b[?25hDownloading kiwisolver-1.4.5-cp311-cp311-macosx_11_0_arm64.whl (66 kB)\n",
      "\u001b[2K   \u001b[38;2;114;156;31m━━━━━━━━━━━━━━━━━━━━━━━━━━━━━━━━━━━━━━━━\u001b[0m \u001b[32m66.2/66.2 kB\u001b[0m \u001b[31m2.6 MB/s\u001b[0m eta \u001b[36m0:00:00\u001b[0m\n",
      "\u001b[?25hDownloading Pillow-10.1.0-cp311-cp311-macosx_11_0_arm64.whl (3.3 MB)\n",
      "\u001b[2K   \u001b[38;2;114;156;31m━━━━━━━━━━━━━━━━━━━━━━━━━━━━━━━━━━━━━━━━\u001b[0m \u001b[32m3.3/3.3 MB\u001b[0m \u001b[31m6.5 MB/s\u001b[0m eta \u001b[36m0:00:00\u001b[0mm eta \u001b[36m0:00:01\u001b[0m[36m0:00:01\u001b[0m\n",
      "\u001b[?25hDownloading pyparsing-3.1.1-py3-none-any.whl (103 kB)\n",
      "\u001b[2K   \u001b[38;2;114;156;31m━━━━━━━━━━━━━━━━━━━━━━━━━━━━━━━━━━━━━━━━\u001b[0m \u001b[32m103.1/103.1 kB\u001b[0m \u001b[31m3.3 MB/s\u001b[0m eta \u001b[36m0:00:00\u001b[0m\n",
      "\u001b[?25hDownloading pytz-2023.3.post1-py2.py3-none-any.whl (502 kB)\n",
      "\u001b[2K   \u001b[38;2;114;156;31m━━━━━━━━━━━━━━━━━━━━━━━━━━━━━━━━━━━━━━━━\u001b[0m \u001b[32m502.5/502.5 kB\u001b[0m \u001b[31m7.3 MB/s\u001b[0m eta \u001b[36m0:00:00\u001b[0m[31m10.3 MB/s\u001b[0m eta \u001b[36m0:00:01\u001b[0m\n",
      "\u001b[?25hInstalling collected packages: pytz, tzdata, pyparsing, pillow, numpy, kiwisolver, fonttools, cycler, scipy, pandas, contourpy, matplotlib\n",
      "Successfully installed contourpy-1.1.1 cycler-0.12.1 fonttools-4.43.1 kiwisolver-1.4.5 matplotlib-3.8.0 numpy-1.26.1 pandas-2.1.1 pillow-10.1.0 pyparsing-3.1.1 pytz-2023.3.post1 scipy-1.11.3 tzdata-2023.3\n"
     ]
    }
   ],
   "source": [
    "!pip3 install pandas numpy scipy matplotlib"
   ]
  },
  {
   "cell_type": "markdown",
   "metadata": {
    "id": "0nAP7WUUCK-g"
   },
   "source": [
    "После установки подключим библиотеки через директиву `import` с использованием псевдонимов."
   ]
  },
  {
   "cell_type": "code",
   "execution_count": 4,
   "metadata": {
    "id": "VvUzGUO7HosR"
   },
   "outputs": [],
   "source": [
    "import pandas as pd\n",
    "import numpy as np\n",
    "import scipy as sp\n",
    "import matplotlib.pyplot as plt"
   ]
  },
  {
   "cell_type": "markdown",
   "metadata": {
    "id": "KNYKGnVPHoZy"
   },
   "source": [
    "# Numpy\n",
    "\n",
    "Нашим первым объектом для изучения будет [NumPy](https://numpy.org) — библиотека Python, которую применяют для математических вычислений: начиная с базовых функций и заканчивая линейной алгеброй.\n",
    "\n",
    "Полное название библиотеки — Numerical Python extensions, или «Числовые расширения Python»."
   ]
  },
  {
   "cell_type": "markdown",
   "metadata": {
    "id": "etPkhwCTREZi"
   },
   "source": [
    "## Создание *numpy-массивов* и их индексация"
   ]
  },
  {
   "cell_type": "markdown",
   "metadata": {
    "id": "oQyLmRxrQUkZ"
   },
   "source": [
    "Создать *numpy-массив* можно из обычного списка *python* используя функцию `array`."
   ]
  },
  {
   "cell_type": "code",
   "execution_count": null,
   "metadata": {
    "colab": {
     "base_uri": "https://localhost:8080/"
    },
    "id": "aJJeN8FtMQ2y",
    "outputId": "017748b6-0462-4d7e-84a7-1bce16779eb9"
   },
   "outputs": [
    {
     "data": {
      "text/plain": [
       "array([0, 1, 2, 3, 4, 5])"
      ]
     },
     "execution_count": 3,
     "metadata": {},
     "output_type": "execute_result"
    }
   ],
   "source": [
    "array = np.array([0, 1, 2, 3, 4, 5])\n",
    "array"
   ]
  },
  {
   "cell_type": "markdown",
   "metadata": {
    "id": "4qZ73Bo3OqDT"
   },
   "source": [
    "Для создания *numpy-массива* состоящего из элементов возрастающей последовательности удобно использовать функцию `arange`, в качестве параметров которой мы передадим границы одномерного массива(его левую и правую границы соответственно)."
   ]
  },
  {
   "cell_type": "code",
   "execution_count": null,
   "metadata": {
    "colab": {
     "base_uri": "https://localhost:8080/"
    },
    "id": "oWG-MEfAK_cJ",
    "outputId": "aa581fdf-6cde-4841-e4c5-9ef9160eb0a6"
   },
   "outputs": [
    {
     "data": {
      "text/plain": [
       "array([-5, -4, -3, -2, -1,  0,  1,  2,  3,  4,  5])"
      ]
     },
     "execution_count": 4,
     "metadata": {},
     "output_type": "execute_result"
    }
   ],
   "source": [
    "another_array = np.arange(-5, 6)\n",
    "another_array"
   ]
  },
  {
   "cell_type": "markdown",
   "metadata": {
    "id": "KrOYVR7lGwT4"
   },
   "source": [
    "### **[Задание 1]**\n",
    "\n",
    "Создайте датасет значений от -99 до 100."
   ]
  },
  {
   "cell_type": "code",
   "execution_count": 6,
   "metadata": {
    "id": "JI8HzvrmOJo1"
   },
   "outputs": [
    {
     "data": {
      "text/plain": [
       "array([-99, -98, -97, -96, -95, -94, -93, -92, -91, -90, -89, -88, -87,\n",
       "       -86, -85, -84, -83, -82, -81, -80, -79, -78, -77, -76, -75, -74,\n",
       "       -73, -72, -71, -70, -69, -68, -67, -66, -65, -64, -63, -62, -61,\n",
       "       -60, -59, -58, -57, -56, -55, -54, -53, -52, -51, -50, -49, -48,\n",
       "       -47, -46, -45, -44, -43, -42, -41, -40, -39, -38, -37, -36, -35,\n",
       "       -34, -33, -32, -31, -30, -29, -28, -27, -26, -25, -24, -23, -22,\n",
       "       -21, -20, -19, -18, -17, -16, -15, -14, -13, -12, -11, -10,  -9,\n",
       "        -8,  -7,  -6,  -5,  -4,  -3,  -2,  -1,   0,   1,   2,   3,   4,\n",
       "         5,   6,   7,   8,   9,  10,  11,  12,  13,  14,  15,  16,  17,\n",
       "        18,  19,  20,  21,  22,  23,  24,  25,  26,  27,  28,  29,  30,\n",
       "        31,  32,  33,  34,  35,  36,  37,  38,  39,  40,  41,  42,  43,\n",
       "        44,  45,  46,  47,  48,  49,  50,  51,  52,  53,  54,  55,  56,\n",
       "        57,  58,  59,  60,  61,  62,  63,  64,  65,  66,  67,  68,  69,\n",
       "        70,  71,  72,  73,  74,  75,  76,  77,  78,  79,  80,  81,  82,\n",
       "        83,  84,  85,  86,  87,  88,  89,  90,  91,  92,  93,  94,  95,\n",
       "        96,  97,  98,  99])"
      ]
     },
     "execution_count": 6,
     "metadata": {},
     "output_type": "execute_result"
    }
   ],
   "source": [
    "third_array = np.arange(-99, 100)\n",
    "third_array"
   ]
  },
  {
   "cell_type": "markdown",
   "metadata": {
    "id": "kT3XSCYBRfas"
   },
   "source": [
    "Получение элементов *numpy-массива* не отличается от списков в *python*"
   ]
  },
  {
   "cell_type": "code",
   "execution_count": null,
   "metadata": {
    "colab": {
     "base_uri": "https://localhost:8080/"
    },
    "id": "jApw9iG9Rv4J",
    "outputId": "d5bde56e-4c44-4532-bc71-960ae53e628e"
   },
   "outputs": [
    {
     "data": {
      "text/plain": [
       "2"
      ]
     },
     "execution_count": 6,
     "metadata": {},
     "output_type": "execute_result"
    }
   ],
   "source": [
    "# Получить второй элемент\n",
    "array[2]"
   ]
  },
  {
   "cell_type": "code",
   "execution_count": null,
   "metadata": {
    "colab": {
     "base_uri": "https://localhost:8080/"
    },
    "id": "sT9qpd3JMQza",
    "outputId": "ba474ba4-b468-453d-9d68-61d964ca404b"
   },
   "outputs": [
    {
     "data": {
      "text/plain": [
       "array([-96, -95, -94, -93, -92])"
      ]
     },
     "execution_count": 7,
     "metadata": {},
     "output_type": "execute_result"
    }
   ],
   "source": [
    "# Получить срез с 3 элемента по 7\n",
    "another_array[3:8]"
   ]
  },
  {
   "cell_type": "markdown",
   "metadata": {
    "id": "gFRI7VdtS2C1"
   },
   "source": [
    "Списки являются mutable(изменяемыми) объектами. А потому можно присвоить конкретное значение одному или нескольким элементам *numpy-массива*"
   ]
  },
  {
   "cell_type": "code",
   "execution_count": null,
   "metadata": {
    "colab": {
     "base_uri": "https://localhost:8080/"
    },
    "id": "DrRQB3iFS0Qd",
    "outputId": "527747b7-8514-44df-fce0-3f446519d3b1"
   },
   "outputs": [
    {
     "data": {
      "text/plain": [
       "array([-99, -98, -97, -96, -95, 999, -93, -92, -91, -90, -89, -88, -87,\n",
       "       -86, -85, -84, -83, -82, -81, -80, -79, -78, -77, -76, -75, -74,\n",
       "       -73, -72, -71, -70, -69, -68, -67, -66, -65, -64, -63, -62, -61,\n",
       "       -60, -59, -58, -57, -56, -55, -54, -53, -52, -51, -50, -49, -48,\n",
       "       -47, -46, -45, -44, -43, -42, -41, -40, -39, -38, -37, -36, -35,\n",
       "       -34, -33, -32, -31, -30, -29, -28, -27, -26, -25, -24, -23, -22,\n",
       "       -21, -20, -19, -18, -17, -16, -15, -14, -13, -12, -11, -10,  -9,\n",
       "        -8,  -7,  -6,  -5,  -4,  -3,  -2,  -1,   0,   1,   2,   3,   4,\n",
       "         5,   6,   7,   8,   9,  10,  11,  12,  13,  14,  15,  16,  17,\n",
       "        18,  19,  20,  21,  22,  23,  24,  25,  26,  27,  28,  29,  30,\n",
       "        31,  32,  33,  34,  35,  36,  37,  38,  39,  40,  41,  42,  43,\n",
       "        44,  45,  46,  47,  48,  49,  50,  51,  52,  53,  54,  55,  56,\n",
       "        57,  58,  59,  60,  61,  62,  63,  64,  65,  66,  67,  68,  69,\n",
       "        70,  71,  72,  73,  74,  75,  76,  77,  78,  79,  80,  81,  82,\n",
       "        83,  84,  85,  86,  87,  88,  89,  90,  91,  92,  93,  94,  95,\n",
       "        96,  97,  98,  99])"
      ]
     },
     "execution_count": 8,
     "metadata": {},
     "output_type": "execute_result"
    }
   ],
   "source": [
    "# Присвоение значения одной ячейке\n",
    "another_array[5] = 999\n",
    "another_array"
   ]
  },
  {
   "cell_type": "code",
   "execution_count": null,
   "metadata": {
    "colab": {
     "base_uri": "https://localhost:8080/"
    },
    "id": "IUaGVme4S0Bp",
    "outputId": "90191cec-ca25-4338-e399-436af7f9f229"
   },
   "outputs": [
    {
     "data": {
      "text/plain": [
       "array([-99, -98, -66, -66, -66, -66, -66, -66, -66, -90, -89, -88, -87,\n",
       "       -86, -85, -84, -83, -82, -81, -80, -79, -78, -77, -76, -75, -74,\n",
       "       -73, -72, -71, -70, -69, -68, -67, -66, -65, -64, -63, -62, -61,\n",
       "       -60, -59, -58, -57, -56, -55, -54, -53, -52, -51, -50, -49, -48,\n",
       "       -47, -46, -45, -44, -43, -42, -41, -40, -39, -38, -37, -36, -35,\n",
       "       -34, -33, -32, -31, -30, -29, -28, -27, -26, -25, -24, -23, -22,\n",
       "       -21, -20, -19, -18, -17, -16, -15, -14, -13, -12, -11, -10,  -9,\n",
       "        -8,  -7,  -6,  -5,  -4,  -3,  -2,  -1,   0,   1,   2,   3,   4,\n",
       "         5,   6,   7,   8,   9,  10,  11,  12,  13,  14,  15,  16,  17,\n",
       "        18,  19,  20,  21,  22,  23,  24,  25,  26,  27,  28,  29,  30,\n",
       "        31,  32,  33,  34,  35,  36,  37,  38,  39,  40,  41,  42,  43,\n",
       "        44,  45,  46,  47,  48,  49,  50,  51,  52,  53,  54,  55,  56,\n",
       "        57,  58,  59,  60,  61,  62,  63,  64,  65,  66,  67,  68,  69,\n",
       "        70,  71,  72,  73,  74,  75,  76,  77,  78,  79,  80,  81,  82,\n",
       "        83,  84,  85,  86,  87,  88,  89,  90,  91,  92,  93,  94,  95,\n",
       "        96,  97,  98,  99])"
      ]
     },
     "execution_count": 9,
     "metadata": {},
     "output_type": "execute_result"
    }
   ],
   "source": [
    "# Присвоение значения срезу из массива\n",
    "another_array[2:9] = -66\n",
    "another_array"
   ]
  },
  {
   "cell_type": "markdown",
   "metadata": {
    "id": "ss_Ep6XUMfgB"
   },
   "source": [
    "### **[Задание 2]**\n",
    "\n",
    "Мы заготовили массив `task_array`. Замените в нем все отрицательные значения, которые делятся на 7 на число 0. Результат сохраните в переменной `my_array`.\n",
    "\n",
    "В лоб сделать это можно с помощью обхода цикла или, если вы похитрее, то можете воспользоваться лямбда-функциями.\n",
    "\n",
    "А если вы самый хитрый, то можно применить сортировку по условию."
   ]
  },
  {
   "cell_type": "code",
   "execution_count": null,
   "metadata": {
    "colab": {
     "base_uri": "https://localhost:8080/"
    },
    "id": "nhdX0Tp0OMDG",
    "outputId": "9e2d3042-9696-489c-b163-fba737d22940"
   },
   "outputs": [
    {
     "name": "stdout",
     "output_type": "stream",
     "text": [
      "[-50   0 -48 -47 -46 -45 -44 -43   0 -41 -40 -39 -38 -37 -36   0 -34 -33\n",
      " -32 -31 -30 -29   0 -27 -26 -25 -24 -23 -22   0 -20 -19 -18 -17 -16 -15\n",
      "   0 -13 -12 -11 -10  -9  -8   0  -6  -5  -4  -3  -2  -1   0   1   2   3\n",
      "   4   5   6   7   8   9]\n"
     ]
    }
   ],
   "source": [
    "task_array = np.arange(-50, 10)\n"
   ]
  },
  {
   "cell_type": "markdown",
   "metadata": {
    "id": "TwEWfM1EPGGD"
   },
   "source": [
    "Подсказка: https://stackoverflow.com/questions/19766757/replacing-numpy-elements-if-condition-is-met"
   ]
  },
  {
   "cell_type": "markdown",
   "metadata": {
    "id": "qYCXOi0cTyFN"
   },
   "source": [
    "Если нужно произвести изменение только в некотором срезе *numpy-массива*, **без изменения** исходного массива, то нужно создать копию первоначального массива и затем уже модифицировать срез копии *numpy-массива*."
   ]
  },
  {
   "cell_type": "code",
   "execution_count": null,
   "metadata": {
    "colab": {
     "base_uri": "https://localhost:8080/"
    },
    "id": "ZtnAJc07Tu6l",
    "outputId": "352dbebe-7ab0-4056-ee71-32fdd810110e"
   },
   "outputs": [
    {
     "data": {
      "text/plain": [
       "array([ 2, 77, 77])"
      ]
     },
     "execution_count": 11,
     "metadata": {},
     "output_type": "execute_result"
    }
   ],
   "source": [
    "# Копируем массив array\n",
    "array_clone = array.copy()\n",
    "\n",
    "# Создаем срез\n",
    "my_slice = array_clone[2:5]\n",
    "# Присваиваем значение  77 всем элементам среза начиная с первого\n",
    "my_slice[1:] = 77\n",
    "my_slice"
   ]
  },
  {
   "cell_type": "code",
   "execution_count": null,
   "metadata": {
    "colab": {
     "base_uri": "https://localhost:8080/"
    },
    "id": "CPbr56ikVunv",
    "outputId": "99355856-0704-4e93-c827-3a3adceefca8"
   },
   "outputs": [
    {
     "data": {
      "text/plain": [
       "array([0, 1, 2, 3, 4, 5])"
      ]
     },
     "execution_count": 12,
     "metadata": {},
     "output_type": "execute_result"
    }
   ],
   "source": [
    "array"
   ]
  },
  {
   "cell_type": "markdown",
   "metadata": {
    "id": "ihzo-e98Pb19"
   },
   "source": [
    "### **[Задание 3]**\n",
    "\n",
    "Склонируйте всю неположительную часть массива `my_array`."
   ]
  },
  {
   "cell_type": "code",
   "execution_count": null,
   "metadata": {
    "id": "2nk5HBbWJVWe"
   },
   "outputs": [],
   "source": []
  },
  {
   "cell_type": "markdown",
   "metadata": {
    "id": "WAYjkBLhg-DP"
   },
   "source": [
    "## Двумерные массивы"
   ]
  },
  {
   "cell_type": "markdown",
   "metadata": {
    "id": "vqAGFhQ5hJ8b"
   },
   "source": [
    "Для некоторых задач машинного обучения возникает необходимость использовать\n",
    "матрицы. В *numpy* их можно реализовать через создание массива с массивами."
   ]
  },
  {
   "cell_type": "code",
   "execution_count": null,
   "metadata": {
    "colab": {
     "base_uri": "https://localhost:8080/"
    },
    "id": "dUQ9kGODhDmK",
    "outputId": "ea004ac5-2b92-4f5a-b8de-fa643843394d"
   },
   "outputs": [
    {
     "data": {
      "text/plain": [
       "6"
      ]
     },
     "execution_count": 14,
     "metadata": {},
     "output_type": "execute_result"
    }
   ],
   "source": [
    "# Создаем матрицу, как массив массивов\n",
    "matrix = np.array([\n",
    "    [1, 2, 3],\n",
    "    [4, 5, 6],\n",
    "    [7, 8, 9]\n",
    "])\n",
    "\n",
    "# Получаем элемент из первой строки и 2 столбца строку\n",
    "matrix[1][2]"
   ]
  },
  {
   "cell_type": "code",
   "execution_count": null,
   "metadata": {
    "colab": {
     "base_uri": "https://localhost:8080/"
    },
    "id": "CExu5BV2jwoP",
    "outputId": "e3ea2d36-ca9e-49a5-c389-5f57e00f6978"
   },
   "outputs": [
    {
     "data": {
      "text/plain": [
       "array([[4, 5, 6]])"
      ]
     },
     "execution_count": 15,
     "metadata": {},
     "output_type": "execute_result"
    }
   ],
   "source": [
    "# Получаем первую строку матрицы\n",
    "matrix[1:2, :]"
   ]
  },
  {
   "cell_type": "code",
   "execution_count": null,
   "metadata": {
    "colab": {
     "base_uri": "https://localhost:8080/"
    },
    "id": "ClGOVvgQl7FT",
    "outputId": "d14b29b1-3d9b-4092-cd93-19fa8338069d"
   },
   "outputs": [
    {
     "data": {
      "text/plain": [
       "array([4, 5, 6])"
      ]
     },
     "execution_count": 16,
     "metadata": {},
     "output_type": "execute_result"
    }
   ],
   "source": [
    "# Получаем значения из первой строки матрицы\n",
    "matrix[1, :]"
   ]
  },
  {
   "cell_type": "code",
   "execution_count": null,
   "metadata": {
    "colab": {
     "base_uri": "https://localhost:8080/"
    },
    "id": "LOGkvvH0k2ug",
    "outputId": "fa433004-d95b-40f2-b643-5554a69c46b9"
   },
   "outputs": [
    {
     "data": {
      "text/plain": [
       "array([[2],\n",
       "       [5],\n",
       "       [8]])"
      ]
     },
     "execution_count": 17,
     "metadata": {},
     "output_type": "execute_result"
    }
   ],
   "source": [
    "# Получаем первый столбец\n",
    "matrix[:, 1:2]"
   ]
  },
  {
   "cell_type": "code",
   "execution_count": null,
   "metadata": {
    "colab": {
     "base_uri": "https://localhost:8080/"
    },
    "id": "YEjQl-EWj8-v",
    "outputId": "1a307005-1a4c-4eed-c9f1-24552e57c5c4"
   },
   "outputs": [
    {
     "data": {
      "text/plain": [
       "array([2, 5, 8])"
      ]
     },
     "execution_count": 18,
     "metadata": {},
     "output_type": "execute_result"
    }
   ],
   "source": [
    "# Получаем значения из первого столбца\n",
    "matrix[:, 1]"
   ]
  },
  {
   "cell_type": "markdown",
   "metadata": {
    "id": "I7zv1QIOo16x"
   },
   "source": [
    "Посмотрим, каким типом данных является матрица"
   ]
  },
  {
   "cell_type": "code",
   "execution_count": null,
   "metadata": {
    "colab": {
     "base_uri": "https://localhost:8080/"
    },
    "id": "h5pg2F9mmHQ1",
    "outputId": "ee612a5d-72eb-453c-f537-34adc893baf7"
   },
   "outputs": [
    {
     "data": {
      "text/plain": [
       "numpy.ndarray"
      ]
     },
     "execution_count": 19,
     "metadata": {},
     "output_type": "execute_result"
    }
   ],
   "source": [
    "type(matrix)"
   ]
  },
  {
   "cell_type": "markdown",
   "metadata": {
    "id": "-E3w8ofupXR6"
   },
   "source": [
    "У типа данных `numpy.ndarray` есть несколько полезных методов. Начнем с `shape`."
   ]
  },
  {
   "cell_type": "code",
   "execution_count": null,
   "metadata": {
    "colab": {
     "base_uri": "https://localhost:8080/"
    },
    "id": "NrDw7ue1pM9h",
    "outputId": "cd97d0d0-bc1e-4c7c-b8dc-2bfc2d97c8a8"
   },
   "outputs": [
    {
     "data": {
      "text/plain": [
       "(3, 3)"
      ]
     },
     "execution_count": 20,
     "metadata": {},
     "output_type": "execute_result"
    }
   ],
   "source": [
    "# Узнаем количество строк и столбцов в матрице\n",
    "matrix.shape"
   ]
  },
  {
   "cell_type": "markdown",
   "metadata": {
    "id": "FQ-ijgNop-cF"
   },
   "source": [
    "Иногда бывает удобным двумерный массив представить как одномерный или одномерный массив превратить в двумерный. Для этого стоит использовать метод `reshape`, которому в скобках нужно передать через запятую желаемый размер"
   ]
  },
  {
   "cell_type": "code",
   "execution_count": null,
   "metadata": {
    "colab": {
     "base_uri": "https://localhost:8080/"
    },
    "id": "VIe6Ly_kr7n6",
    "outputId": "067752a8-cddf-49e3-d988-f207ac5cb4f5"
   },
   "outputs": [
    {
     "data": {
      "text/plain": [
       "array([0, 1, 2, 3, 4, 5])"
      ]
     },
     "execution_count": 21,
     "metadata": {},
     "output_type": "execute_result"
    }
   ],
   "source": [
    "array"
   ]
  },
  {
   "cell_type": "code",
   "execution_count": null,
   "metadata": {
    "colab": {
     "base_uri": "https://localhost:8080/"
    },
    "id": "Cc6yPc2ZlFSZ",
    "outputId": "1fd2b392-175c-43d3-d1a6-66ba2ca3442c"
   },
   "outputs": [
    {
     "data": {
      "text/plain": [
       "array([[0, 1, 2],\n",
       "       [3, 4, 5]])"
      ]
     },
     "execution_count": 22,
     "metadata": {},
     "output_type": "execute_result"
    }
   ],
   "source": [
    "# Преобразуем массив в двумерный массив\n",
    "matrix_from_arr = array.reshape(2, 3)\n",
    "matrix_from_arr"
   ]
  },
  {
   "cell_type": "code",
   "execution_count": null,
   "metadata": {
    "colab": {
     "base_uri": "https://localhost:8080/"
    },
    "id": "WTUGZjipqjko",
    "outputId": "22a8d4ed-d070-4f0c-9ca9-f7e49d39fd7d"
   },
   "outputs": [
    {
     "data": {
      "text/plain": [
       "array([0, 1, 2, 3, 4, 5])"
      ]
     },
     "execution_count": 23,
     "metadata": {},
     "output_type": "execute_result"
    }
   ],
   "source": [
    "# Обратное преобразование двумерного массива в одномерный массив\n",
    "back_to_array = matrix_from_arr.reshape(-1)\n",
    "back_to_array"
   ]
  },
  {
   "cell_type": "markdown",
   "metadata": {
    "id": "7UrRNv8sX9bP"
   },
   "source": [
    "### **[Задание 4]**\n",
    "\n",
    "Мы очень хотели показать вам красивого кота, нарисованного в ASCII, но наш семинарист потерял двумерный массив со строчками для отрисовки.\n",
    "\n",
    "У нас осталась только одномерная версия `sad_cat`, которую нужно привести к двумерному виду. Мы помним, что в исходном котике было 4 строки и 13 столбцов. Результат сохраните в переменной `cat`."
   ]
  },
  {
   "cell_type": "code",
   "execution_count": 21,
   "metadata": {
    "id": "OszPDbo7WSb4"
   },
   "outputs": [],
   "source": [
    "sad_cat=np.array(['\\u200c', '\\u200c', '\\u200c', '\\u200c', ' ', '\\u200f', '／', 'l', '、', ' ', ' ', '', '', '（', 'ﾟ', '､', ' ', '｡', '７', ' ', ' ', '', '', ' ', ' ','', '\\u200c', '\\u200e', '⠀', '\\u200e', 'l', '、', 'ﾞ', '~', 'ヽ',' ', ' ', '', '', '\\u200c', '\\u200c', '\\u200c', '\\u200f', ' ', 'じ', 'し', '(', '_', ',', ' ', ')', 'ノ'])\n",
    "cat = sad_cat.reshape(4, 13)"
   ]
  },
  {
   "cell_type": "markdown",
   "metadata": {
    "id": "fztygil2b7sx"
   },
   "source": [
    "Не волнуйтесь, код для отрисовки получившегося кота ниже:"
   ]
  },
  {
   "cell_type": "code",
   "execution_count": 22,
   "metadata": {
    "colab": {
     "base_uri": "https://localhost:8080/"
    },
    "id": "sLctwvnVb17P",
    "outputId": "1e16d7b0-4577-4deb-d127-43bc63cd6bde"
   },
   "outputs": [
    {
     "name": "stdout",
     "output_type": "stream",
     "text": [
      "‌‌‌‌ ‏／l、  \n",
      "（ﾟ､ ｡７    \n",
      "‌‎⠀‎l、ﾞ~ヽ  \n",
      "‌‌‌‏ じし(_, )ノ\n"
     ]
    }
   ],
   "source": [
    "for row in cat:\n",
    "    print(\"\".join(row))"
   ]
  },
  {
   "cell_type": "markdown",
   "metadata": {
    "id": "TMOrmO9Gsg1W"
   },
   "source": [
    "## Генерации случайных значений"
   ]
  },
  {
   "cell_type": "markdown",
   "metadata": {
    "id": "3uadurMKtOtZ"
   },
   "source": [
    "В *numpy* существует удобный модуль `random`.\n",
    "\n",
    "Его стоит использовать для генерации различных случайных объектов.\n",
    "\n",
    "Например, создадим матрицу из пяти строк и шести столбцов, заполненную целыми случайными числами\n",
    "из отрезка $[-5, 5].$"
   ]
  },
  {
   "cell_type": "code",
   "execution_count": null,
   "metadata": {
    "colab": {
     "base_uri": "https://localhost:8080/"
    },
    "id": "t0QFheSasl6b",
    "outputId": "4dda0826-1e9a-4e4b-fba3-b6ce8c2080a1"
   },
   "outputs": [
    {
     "data": {
      "text/plain": [
       "array([[-3, -2, -2, -1,  1, -5],\n",
       "       [-5, -2,  3, -1,  4, -4],\n",
       "       [ 4, -3,  1,  4, -3,  5],\n",
       "       [-5, -4,  5,  1,  4,  5],\n",
       "       [ 3,  1,  5, -5,  2,  1]])"
      ]
     },
     "execution_count": 26,
     "metadata": {},
     "output_type": "execute_result"
    }
   ],
   "source": [
    "# Создание матрицы\n",
    "random_matrix = np.random.randint(-5, 6,  size=(5, 6))\n",
    "random_matrix"
   ]
  },
  {
   "cell_type": "markdown",
   "metadata": {
    "id": "kLebLhgAzivG"
   },
   "source": [
    "При повторном запуске ячейки выше будет происходить генерация случайных чисел, важно отметить, что генераторы случайных чисел в *nympy* не обладают криптографической стойкостью.\n",
    "\n",
    "Иногда возникает необходимость, чтобы при каждом запуске ячейки в ней генерировались одни и те же случайные числа.\n",
    "\n",
    "Для это нужно использовать функцию `seed`, которая в качестве начального аргумента принимает целое число, фиксирующее конкретное состояние генератора случайных чисел внутри вызванной ячейки."
   ]
  },
  {
   "cell_type": "code",
   "execution_count": null,
   "metadata": {
    "colab": {
     "base_uri": "https://localhost:8080/"
    },
    "id": "Dtx-2KBysl23",
    "outputId": "650fa376-45b6-4c50-89d9-8d9070973f96"
   },
   "outputs": [
    {
     "data": {
      "text/plain": [
       "array([[  0,  -7,  -2],\n",
       "       [-10,   9,   0],\n",
       "       [  1,  -1,   0]])"
      ]
     },
     "execution_count": 27,
     "metadata": {},
     "output_type": "execute_result"
    }
   ],
   "source": [
    "# Фиксируем состояние генератора\n",
    "np.random.seed(3)\n",
    "\n",
    "random_freeze_matrix = np.random.randint(-10, 11,  size=(3, 3))\n",
    "random_freeze_matrix"
   ]
  },
  {
   "cell_type": "markdown",
   "metadata": {
    "id": "uwZj9VCGcX9I"
   },
   "source": [
    "### **[Задание 5]**\n",
    "\n",
    "Сгенерируйте массив размером 5 на 5 со случайными числами в диапазоне от 0 до 1. Зафиксируйте `seed` в значении `666`.\n",
    "\n",
    "Подсказка: у задачи есть два решения, одно из которых использует `reshape`, а второе может обойтись без него с помощью стандартных методов `numpy`."
   ]
  },
  {
   "cell_type": "code",
   "execution_count": 23,
   "metadata": {
    "id": "ygGZcBAAhVAt"
   },
   "outputs": [
    {
     "data": {
      "text/plain": [
       "array([[0, 0, 1, 0, 0],\n",
       "       [0, 1, 0, 0, 1],\n",
       "       [1, 0, 1, 0, 1],\n",
       "       [0, 0, 1, 1, 0],\n",
       "       [0, 0, 1, 1, 0]])"
      ]
     },
     "execution_count": 23,
     "metadata": {},
     "output_type": "execute_result"
    }
   ],
   "source": [
    "#Ваш код\n",
    "np.random.seed(666)\n",
    "\n",
    "random_freeze_matrix = np.random.randint(0, 2,  size=(5, 5))\n",
    "random_freeze_matrix\n"
   ]
  },
  {
   "cell_type": "markdown",
   "metadata": {
    "id": "Wc3qlUHZsQaN"
   },
   "source": [
    "## Операции"
   ]
  },
  {
   "cell_type": "markdown",
   "metadata": {
    "id": "zk9RFTj0K_v8"
   },
   "source": [
    "Одной из ключевых особенностей *numpy* являются *numpy-массивы*, так с ними можно проводить те же операции, что и с математическими векторами.\n",
    "\n"
   ]
  },
  {
   "cell_type": "code",
   "execution_count": null,
   "metadata": {
    "colab": {
     "base_uri": "https://localhost:8080/"
    },
    "id": "NKtuQ1tcsUnN",
    "outputId": "25053764-bff0-4a05-cf9f-2b5a516e622c"
   },
   "outputs": [
    {
     "data": {
      "text/plain": [
       "array([ 3,  3,  1, -3,  3])"
      ]
     },
     "execution_count": 29,
     "metadata": {},
     "output_type": "execute_result"
    }
   ],
   "source": [
    "np.random.seed(2)\n",
    "# Создаем массив, состоящий из пяти случайных элементов\n",
    "vec_1 = np.random.randint(-5, 6,  size=(5))\n",
    "vec_1"
   ]
  },
  {
   "cell_type": "code",
   "execution_count": null,
   "metadata": {
    "colab": {
     "base_uri": "https://localhost:8080/"
    },
    "id": "IlF3lipg4ofQ",
    "outputId": "78cf98d5-115a-4758-8d81-490a34bbd1e7"
   },
   "outputs": [
    {
     "data": {
      "text/plain": [
       "array([ 5,  3,  4, -2,  3])"
      ]
     },
     "execution_count": 30,
     "metadata": {},
     "output_type": "execute_result"
    }
   ],
   "source": [
    "np.random.seed(3)\n",
    "# Создаем другой массив, состоящий из пяти случайных элементов\n",
    "vec_2 = np.random.randint(-5, 6,  size=(5))\n",
    "vec_2"
   ]
  },
  {
   "cell_type": "code",
   "execution_count": null,
   "metadata": {
    "colab": {
     "base_uri": "https://localhost:8080/"
    },
    "id": "SgCZ9muT482J",
    "outputId": "e35f5905-6b3a-43e1-f04e-c6faa51d2310"
   },
   "outputs": [
    {
     "data": {
      "text/plain": [
       "array([ 8,  6,  5, -5,  6])"
      ]
     },
     "execution_count": 31,
     "metadata": {},
     "output_type": "execute_result"
    }
   ],
   "source": [
    "# Сложение массивов\n",
    "vec_1 + vec_2"
   ]
  },
  {
   "cell_type": "code",
   "execution_count": null,
   "metadata": {
    "colab": {
     "base_uri": "https://localhost:8080/"
    },
    "id": "bXXaACzksUkb",
    "outputId": "cf760348-bf89-4687-8954-bdefe8ad5a70"
   },
   "outputs": [
    {
     "data": {
      "text/plain": [
       "array([ 6,  6,  2, -6,  6])"
      ]
     },
     "execution_count": 32,
     "metadata": {},
     "output_type": "execute_result"
    }
   ],
   "source": [
    "# Умножение на скаляр\n",
    "vec_1 * 2"
   ]
  },
  {
   "cell_type": "code",
   "execution_count": null,
   "metadata": {
    "colab": {
     "base_uri": "https://localhost:8080/"
    },
    "id": "Ocg2upVN4bEZ",
    "outputId": "2286b9cf-5ce2-45c1-90a0-3691983dd4dc"
   },
   "outputs": [
    {
     "data": {
      "text/plain": [
       "array([8, 8, 6, 2, 8])"
      ]
     },
     "execution_count": 33,
     "metadata": {},
     "output_type": "execute_result"
    }
   ],
   "source": [
    "# Прибавление скаляра ко всем элементам массива\n",
    "vec_1 + 5"
   ]
  },
  {
   "cell_type": "markdown",
   "metadata": {
    "id": "jyK-e1DE68Ig"
   },
   "source": [
    "Вышеописанные операции аналогичным образом работают и для многомерных *numpy-массивов*."
   ]
  },
  {
   "cell_type": "code",
   "execution_count": null,
   "metadata": {
    "colab": {
     "base_uri": "https://localhost:8080/"
    },
    "id": "NPVxIi7h7HwQ",
    "outputId": "cfa8655c-d013-4f4b-da80-18c8e7af82e4"
   },
   "outputs": [
    {
     "data": {
      "text/plain": [
       "array([[ 3, -5,  0, -2,  5],\n",
       "       [ 4,  4,  5,  0,  2],\n",
       "       [ 1, -5, -1,  2,  3]])"
      ]
     },
     "execution_count": 34,
     "metadata": {},
     "output_type": "execute_result"
    }
   ],
   "source": [
    "# Создаем матрицу\n",
    "matrix = np.random.randint(-5, 6,  size=(3,5))\n",
    "matrix"
   ]
  },
  {
   "cell_type": "markdown",
   "metadata": {
    "id": "fCuf8oD98KfS"
   },
   "source": [
    "В *numpy* через символ \"@\" определено матричное умножение. Существует несколько способов вычисления, которые зависят от желаемого результирующего типа данных. В одном случае можно получить ответ в виде массива, а другой в виде матрицы."
   ]
  },
  {
   "cell_type": "code",
   "execution_count": null,
   "metadata": {
    "colab": {
     "base_uri": "https://localhost:8080/"
    },
    "id": "W3ASG8y683MR",
    "outputId": "2b0c5445-695b-418d-9d92-ed6c8fc6d2ea"
   },
   "outputs": [
    {
     "data": {
      "text/plain": [
       "array([ 3,  3,  1, -3,  3])"
      ]
     },
     "execution_count": 35,
     "metadata": {},
     "output_type": "execute_result"
    }
   ],
   "source": [
    "vec_1"
   ]
  },
  {
   "cell_type": "code",
   "execution_count": null,
   "metadata": {
    "colab": {
     "base_uri": "https://localhost:8080/"
    },
    "id": "kwqDYrml9YHb",
    "outputId": "3b3ff46c-cfd0-4029-ebbc-c54c2cc0d62d"
   },
   "outputs": [
    {
     "data": {
      "text/plain": [
       "array([[ 3],\n",
       "       [ 3],\n",
       "       [ 1],\n",
       "       [-3],\n",
       "       [ 3]])"
      ]
     },
     "execution_count": 36,
     "metadata": {},
     "output_type": "execute_result"
    }
   ],
   "source": [
    "vec_1.reshape(-1,1)"
   ]
  },
  {
   "cell_type": "code",
   "execution_count": null,
   "metadata": {
    "colab": {
     "base_uri": "https://localhost:8080/"
    },
    "id": "ffV_Qm7s9Gtf",
    "outputId": "58f8b780-5cea-45a9-bff6-110792c5565b"
   },
   "outputs": [
    {
     "data": {
      "text/plain": [
       "array([ 15,  35, -10])"
      ]
     },
     "execution_count": 37,
     "metadata": {},
     "output_type": "execute_result"
    }
   ],
   "source": [
    "# Результат  матричного умножения в виде массива\n",
    "matrix @ vec_1"
   ]
  },
  {
   "cell_type": "code",
   "execution_count": null,
   "metadata": {
    "colab": {
     "base_uri": "https://localhost:8080/"
    },
    "id": "kL7I_nzD8TNT",
    "outputId": "1ddc2eca-7fc9-4e47-c050-014fa508a3ee"
   },
   "outputs": [
    {
     "data": {
      "text/plain": [
       "array([[ 15],\n",
       "       [ 35],\n",
       "       [-10]])"
      ]
     },
     "execution_count": 38,
     "metadata": {},
     "output_type": "execute_result"
    }
   ],
   "source": [
    "# Результат матричного умножения, в виде вектор-столбца\n",
    "matrix @ vec_1.reshape(-1,1)"
   ]
  },
  {
   "cell_type": "markdown",
   "metadata": {
    "id": "MtEN9fwubgcG"
   },
   "source": [
    "# Pandas"
   ]
  },
  {
   "cell_type": "markdown",
   "metadata": {
    "id": "G6NDojzGLCjH"
   },
   "source": [
    "[Pandas](https://github.com/numpy/numpy) — это open-source библиотека Python для обработки и анализа структурированных данных (таблиц, json-файлов, текстовых данных). Чтобы анализировать их с помощью Pandas, нужно понять, как устроены структуры этих данных внутри библиотеки.\n",
    "\n",
    "В первую очередь разберем, что такое DataFrame и Series, а после изучим методы работы с ними."
   ]
  },
  {
   "cell_type": "markdown",
   "metadata": {
    "id": "CnGmYaDbO6Ei"
   },
   "source": [
    "## Series"
   ]
  },
  {
   "cell_type": "markdown",
   "metadata": {
    "id": "AKEtkkEtPONN"
   },
   "source": [
    "**`Series`** - это проиндексированный одномерный массив значений. Он очень похож на массив `numpy` (в его основе как раз и лежит массив `numpy`). Отличие `Series` в том, что в нём для каждого элемента можно указать некоторое название (метка - `label`). В результате можно обращаться к отдельному элементу `Series` не только по его номеру внутри массива, как в `numpy`, но и по значению метки. В этом отношении `Series` очень похож на словарь (`Dictionary`). Метки могут быть любого типа данных, необязательно числа или строки.\n",
    "\n",
    "С подробной информацией о `DataFrame`*можно ознакомиться, если вызвать справку о данном объекте:"
   ]
  },
  {
   "cell_type": "code",
   "execution_count": 105,
   "metadata": {
    "id": "xf-p40i-swx6"
   },
   "outputs": [],
   "source": [
    "#help(pd.Series)"
   ]
  },
  {
   "cell_type": "markdown",
   "metadata": {
    "id": "876gyN79PtJd"
   },
   "source": [
    "### Как создать Series?\n",
    "\n",
    "Так как `Series` - это проиндексированный одномерный массив значений, то логично, что создать его можно из списков стандартной библиотеки `python`, массивов `numpy Array`, а также из словарей.\n",
    "\n",
    "Создадим несколько списков для демонстрации:"
   ]
  },
  {
   "cell_type": "code",
   "execution_count": 27,
   "metadata": {
    "id": "LDXpDKv7QuLO"
   },
   "outputs": [],
   "source": [
    "myindex = ['France', 'China', 'Mexico']\n",
    "mydata = [1776, 1234, 2995]\n",
    "mynumpy = np.array([1, 23, 5, 6, 7])\n",
    "mycolleagues = {'Sammy': 25, 'Frank': 30, 'Spike': 27}"
   ]
  },
  {
   "cell_type": "markdown",
   "metadata": {
    "id": "woJc-sD6Rbk4"
   },
   "source": [
    "Проверим их типы"
   ]
  },
  {
   "cell_type": "code",
   "execution_count": null,
   "metadata": {
    "colab": {
     "base_uri": "https://localhost:8080/"
    },
    "id": "RoW-QTQ0RbG9",
    "outputId": "318005e5-7c2e-42fb-d6ae-41a71d181e9d"
   },
   "outputs": [
    {
     "name": "stdout",
     "output_type": "stream",
     "text": [
      "<class 'list'> <class 'list'> <class 'numpy.ndarray'> <class 'dict'>\n"
     ]
    }
   ],
   "source": [
    "print( type(myindex), type(mydata), type(mynumpy),  type(mycolleagues))"
   ]
  },
  {
   "cell_type": "markdown",
   "metadata": {
    "id": "F6Kxhmt9Rutx"
   },
   "source": [
    "Теперь преобразуем списки к типу `Series` с помощью метода `Series` и выведем один из получившихся объектов\n",
    "\n"
   ]
  },
  {
   "cell_type": "code",
   "execution_count": 28,
   "metadata": {
    "colab": {
     "base_uri": "https://localhost:8080/"
    },
    "id": "YM3GvcvkR3Q_",
    "outputId": "c313891a-044d-48b2-f1c7-cd84a5c2c5c7"
   },
   "outputs": [
    {
     "name": "stdout",
     "output_type": "stream",
     "text": [
      "0    France\n",
      "1     China\n",
      "2    Mexico\n",
      "dtype: object\n"
     ]
    }
   ],
   "source": [
    "myindex_pandas = pd.Series(data=myindex)\n",
    "mydata_pandas = pd.Series(data=mydata)\n",
    "mycolleagues_pandas = pd.Series(mycolleagues)\n",
    "mydata_pandas = pd.Series(data=mynumpy)\n",
    "\n",
    "print(myindex_pandas)"
   ]
  },
  {
   "cell_type": "code",
   "execution_count": 29,
   "metadata": {
    "colab": {
     "base_uri": "https://localhost:8080/"
    },
    "id": "dyZME3VhUvYy",
    "outputId": "2d573cbd-f3c7-414a-f857-7eda75278817"
   },
   "outputs": [
    {
     "data": {
      "text/plain": [
       "0     1\n",
       "1    23\n",
       "2     5\n",
       "3     6\n",
       "4     7\n",
       "dtype: int64"
      ]
     },
     "execution_count": 29,
     "metadata": {},
     "output_type": "execute_result"
    }
   ],
   "source": [
    "mydata_pandas"
   ]
  },
  {
   "cell_type": "code",
   "execution_count": null,
   "metadata": {
    "colab": {
     "base_uri": "https://localhost:8080/"
    },
    "id": "-T_0lqYIUw3m",
    "outputId": "113ced23-48f5-4ef6-bfcc-008d9e67fdaa"
   },
   "outputs": [
    {
     "data": {
      "text/plain": [
       "0     1\n",
       "1    23\n",
       "2     5\n",
       "3     6\n",
       "4     7\n",
       "dtype: int64"
      ]
     },
     "execution_count": 44,
     "metadata": {},
     "output_type": "execute_result"
    }
   ],
   "source": [
    "mydata_pandas"
   ]
  },
  {
   "cell_type": "code",
   "execution_count": 30,
   "metadata": {
    "colab": {
     "base_uri": "https://localhost:8080/"
    },
    "id": "OTZhJGuuUy-_",
    "outputId": "8cf0bf3e-ad1b-484f-a9ff-7fb19f6f8f9a"
   },
   "outputs": [
    {
     "data": {
      "text/plain": [
       "Sammy    25\n",
       "Frank    30\n",
       "Spike    27\n",
       "dtype: int64"
      ]
     },
     "execution_count": 30,
     "metadata": {},
     "output_type": "execute_result"
    }
   ],
   "source": [
    "mycolleagues_pandas"
   ]
  },
  {
   "cell_type": "markdown",
   "metadata": {
    "id": "FsvOO7y_SZLx"
   },
   "source": [
    "Изучим, например, объект `myindex_pandas`. Визуально он похож на пронумерованный список: слева в колонке находятся индексы элементов, а справа — сами элементы.\n",
    "\n",
    "Индексом может быть числовой показатель (0, 1, 2…), буквенные значения (a, b, c…) или другие данные. Если индекс не задан, то автоматически проставляются числа. Например, от 0 до 2 как в примере выше. Такая нумерация называется `RangeIndex`, в ней всегда содержатся числа от 0 до определенного числа N. Количество элементов в таком объекте равно N+1.\n",
    "\n",
    "Теперь попробуем назначить собственные индексы. Для этого в метод *Series* передадим два парамера: `data` и `index`.\n"
   ]
  },
  {
   "cell_type": "code",
   "execution_count": 31,
   "metadata": {
    "colab": {
     "base_uri": "https://localhost:8080/"
    },
    "id": "3tSaNjEUToZR",
    "outputId": "589bceaa-1383-4e6d-d00e-f30a2eca1d51"
   },
   "outputs": [
    {
     "data": {
      "text/plain": [
       "France    1776\n",
       "China     1234\n",
       "Mexico    2995\n",
       "dtype: int64"
      ]
     },
     "execution_count": 31,
     "metadata": {},
     "output_type": "execute_result"
    }
   ],
   "source": [
    "pd.Series(data=mydata, index=myindex)"
   ]
  },
  {
   "cell_type": "code",
   "execution_count": null,
   "metadata": {
    "id": "9eZRXnEgk5Qi"
   },
   "outputs": [],
   "source": []
  },
  {
   "cell_type": "markdown",
   "metadata": {
    "id": "zHwTXQtNk7p7"
   },
   "source": [
    "### **[Задание 6]**\n",
    "\n",
    "\n",
    "Вы работаете в стартапе, где вас попросили собрать число коммитов за каждый день недельного спринта и отправить эти данные тимлиду.\n",
    "\n",
    "Ваша команда усердно трудилась и результаты получились ошеломляющими:\n",
    "\n",
    "*   В понедельник было заброшено 10 коммитов\n",
    "*   Во вторник - 15\n",
    "*  В среду - 20\n",
    "* В четверг 12\n",
    "* В пятницу - 8\n",
    "* В субботу - 16 // не удивляйтесь: в стартапах иногда работают по субботам\n",
    "* В воскресение - 10 // и по воскресениям тоже\n",
    "\n",
    "Сохраните данные в типе `Series` и в переменной commits."
   ]
  },
  {
   "cell_type": "code",
   "execution_count": 57,
   "metadata": {
    "id": "XBGUebBulJBO"
   },
   "outputs": [
    {
     "data": {
      "text/plain": [
       "понедельник    10\n",
       "вторник        15\n",
       "среда          20\n",
       "четверг        12\n",
       "пятница         8\n",
       "суббота        16\n",
       "воскресенье    18\n",
       "dtype: int64"
      ]
     },
     "execution_count": 57,
     "metadata": {},
     "output_type": "execute_result"
    }
   ],
   "source": [
    "days = ['понедельник', 'вторник', 'среда', 'четверг', 'пятница', 'суббота', 'воскресенье']\n",
    "commits = [10, 15, 20, 12, 8, 16, 18]\n",
    "\n",
    "pd.Series(data=commits, index=days)\n"
   ]
  },
  {
   "cell_type": "markdown",
   "metadata": {
    "id": "mq1jIIEBVfrE"
   },
   "source": [
    "### Как работать с объектами Series?\n",
    "\n",
    "Допустим у нас есть данные о количестве капибар в зоопарках различных стран."
   ]
  },
  {
   "cell_type": "code",
   "execution_count": 49,
   "metadata": {
    "id": "cr0_NP_2WSfy"
   },
   "outputs": [],
   "source": [
    "c1 = {'Japan': 80, 'China': 450, 'India': 200, 'USA': 250}"
   ]
  },
  {
   "cell_type": "code",
   "execution_count": 50,
   "metadata": {
    "id": "eSy6P8Flg0UW"
   },
   "outputs": [],
   "source": [
    "# Преобразуем данные в Pandas Series\n",
    "amount_c1 = pd.Series(c1)"
   ]
  },
  {
   "cell_type": "code",
   "execution_count": 51,
   "metadata": {
    "colab": {
     "base_uri": "https://localhost:8080/"
    },
    "id": "hI1b7h4tg1dz",
    "outputId": "e8054e4f-e641-4d98-9a4a-fdbc1d178920"
   },
   "outputs": [
    {
     "data": {
      "text/plain": [
       "Japan     80\n",
       "China    450\n",
       "India    200\n",
       "USA      250\n",
       "dtype: int64"
      ]
     },
     "execution_count": 51,
     "metadata": {},
     "output_type": "execute_result"
    }
   ],
   "source": [
    "amount_c1"
   ]
  },
  {
   "cell_type": "markdown",
   "metadata": {
    "id": "bksCr9bWg8T0"
   },
   "source": [
    "Что делать, если мы хотим узнать количество капибар в отдельной стране?"
   ]
  },
  {
   "cell_type": "code",
   "execution_count": 52,
   "metadata": {
    "colab": {
     "base_uri": "https://localhost:8080/"
    },
    "id": "lj5QmAZWhDqd",
    "outputId": "1a49079e-5c14-48b4-d243-cc4b4c73e15d"
   },
   "outputs": [
    {
     "data": {
      "text/plain": [
       "450"
      ]
     },
     "execution_count": 52,
     "metadata": {},
     "output_type": "execute_result"
    }
   ],
   "source": [
    "# Получаем отдельный элемент массива с помощью его названия\n",
    "amount_c1['China']"
   ]
  },
  {
   "cell_type": "code",
   "execution_count": 55,
   "metadata": {
    "colab": {
     "base_uri": "https://localhost:8080/"
    },
    "id": "mo54Z1BshPbz",
    "outputId": "f6a2ae48-f001-4176-8490-8efdc88c6710"
   },
   "outputs": [
    {
     "name": "stderr",
     "output_type": "stream",
     "text": [
      "/var/folders/ht/l0sd8rtn2010mhg9ndg5tf500000gp/T/ipykernel_1483/3186391724.py:2: FutureWarning: Series.__getitem__ treating keys as positions is deprecated. In a future version, integer keys will always be treated as labels (consistent with DataFrame behavior). To access a value by position, use `ser.iloc[pos]`\n",
      "  amount_c1[1]\n"
     ]
    },
    {
     "data": {
      "text/plain": [
       "450"
      ]
     },
     "execution_count": 55,
     "metadata": {},
     "output_type": "execute_result"
    }
   ],
   "source": [
    "# Также сохраняется возможность получить элемент по его номеру позиции внутри массива!\n",
    "amount_c1[1]"
   ]
  },
  {
   "cell_type": "markdown",
   "metadata": {
    "id": "iSwpfrfxhBGb"
   },
   "source": [
    "**Однако будьте аккуратны! Если вы неправильно укажете индекс, то возникнет ошибка `KeyError`.**\n",
    "\n",
    "Мы подготовили несколько частотных случаев, когда это случается."
   ]
  },
  {
   "cell_type": "code",
   "execution_count": 56,
   "metadata": {
    "id": "ooW-jONuhkrK"
   },
   "outputs": [
    {
     "data": {
      "text/plain": [
       "450"
      ]
     },
     "execution_count": 56,
     "metadata": {},
     "output_type": "execute_result"
    }
   ],
   "source": [
    "amount_c1['China']"
   ]
  },
  {
   "cell_type": "code",
   "execution_count": null,
   "metadata": {
    "id": "9Pb1q7sXho4-"
   },
   "outputs": [],
   "source": [
    "# Лишний пробел в названии тоже создаст ошибку\n",
    "# amount_c1['USA ']"
   ]
  },
  {
   "cell_type": "code",
   "execution_count": null,
   "metadata": {
    "id": "ahn81KoQhqaJ"
   },
   "outputs": [],
   "source": [
    "# Случайно написали название не в том регистре - маленькими буквами\n",
    "# amount_c1['usa']"
   ]
  },
  {
   "cell_type": "markdown",
   "metadata": {
    "id": "usvziSIch9ty"
   },
   "source": [
    "Что делать, если нужно получить индексы `Series`?"
   ]
  },
  {
   "cell_type": "code",
   "execution_count": null,
   "metadata": {
    "colab": {
     "base_uri": "https://localhost:8080/"
    },
    "id": "zZD1RfaciEL2",
    "outputId": "161d79f9-8b4e-4ee4-c054-0ca424ab4f5e"
   },
   "outputs": [
    {
     "data": {
      "text/plain": [
       "Index(['Japan', 'China', 'India', 'USA'], dtype='object')"
      ]
     },
     "execution_count": 56,
     "metadata": {},
     "output_type": "execute_result"
    }
   ],
   "source": [
    "amount_c1.keys()"
   ]
  },
  {
   "cell_type": "markdown",
   "metadata": {
    "id": "HErbgagjiQzc"
   },
   "source": [
    "Также для объектов `Series` доступны broadcast-действия (аналогичные операции мы уже делали с numpy-массивами).\n",
    "Например, можно умножить все элементы `Series` на число:"
   ]
  },
  {
   "cell_type": "code",
   "execution_count": null,
   "metadata": {
    "colab": {
     "base_uri": "https://localhost:8080/"
    },
    "id": "v2AQZB37i25H",
    "outputId": "26ad063a-170e-4f26-d50c-ce4a4558ad1b"
   },
   "outputs": [
    {
     "data": {
      "text/plain": [
       "Japan    160\n",
       "China    900\n",
       "India    400\n",
       "USA      500\n",
       "dtype: int64"
      ]
     },
     "execution_count": 57,
     "metadata": {},
     "output_type": "execute_result"
    }
   ],
   "source": [
    "amount_c1 * 2"
   ]
  },
  {
   "cell_type": "code",
   "execution_count": null,
   "metadata": {
    "colab": {
     "base_uri": "https://localhost:8080/"
    },
    "id": "-zt5D-dNi672",
    "outputId": "bf65eb26-8cd0-4091-9210-80a87085b0c0"
   },
   "outputs": [
    {
     "data": {
      "text/plain": [
       "Japan      6400\n",
       "China    202500\n",
       "India     40000\n",
       "USA       62500\n",
       "dtype: int64"
      ]
     },
     "execution_count": 58,
     "metadata": {},
     "output_type": "execute_result"
    }
   ],
   "source": [
    "amount_c1 * amount_c1"
   ]
  },
  {
   "cell_type": "markdown",
   "metadata": {
    "id": "Dzp97VDkm0Vg"
   },
   "source": [
    "### **[Задание 7]**\n",
    "\n",
    "Теперь снова вернемся к объекту `commits`: тимлид просит скинуть ему максимальное число коммитов в день и всю сумму коммитов за неделю. Результаты нужно сохранить в переменные `total_sales` и `max_sales`.\n",
    "\n",
    "Здесь можно поступить двумя путями:\n",
    "\n",
    "— Пройти по объекту `commits` с помощью цикла.\n",
    "\n",
    "— Найти подходящие [методы](https://pandas.pydata.org/docs/reference/api/pandas.Series.html) из `pd.Series`."
   ]
  },
  {
   "cell_type": "code",
   "execution_count": 62,
   "metadata": {
    "colab": {
     "base_uri": "https://localhost:8080/"
    },
    "id": "uMv_7tcAoJaC",
    "outputId": "71289745-d9da-44b9-c72e-5925216818fc"
   },
   "outputs": [
    {
     "data": {
      "text/plain": [
       "99"
      ]
     },
     "execution_count": 62,
     "metadata": {},
     "output_type": "execute_result"
    }
   ],
   "source": [
    "days = ['понедельник', 'вторник', 'среда', 'четверг', 'пятница', 'суббота', 'воскресенье']\n",
    "commits = [10, 15, 20, 12, 8, 16, 18]\n",
    "\n",
    "ta = pd.Series(data=commits, index=days)\n",
    "ta.max()\n",
    "ta.sum()"
   ]
  },
  {
   "cell_type": "markdown",
   "metadata": {
    "id": "34D9c9fsO-uF"
   },
   "source": [
    "## DataFrame\n",
    "\n",
    "На протяжении всего курса мы будем очень много работать с объектами `DataFrame`. Они являются естественным продолжением `Pandas Series`.\n",
    "\n",
    "Определение `DataFrame` следующее:\n",
    "Pandas `DataFrame` состоит из нескольких объектов `Pandas Series` с общими значениями индекса.\n",
    "По сути, если `Series` - это одномерный проиндексированный массив, то `DataFrame` - многомерный проиндексированный массив, в котором каждый столбец является массивом `Series`.\n",
    "\n",
    "При этом для столбцов и строк вводятся свои индексы.\n",
    "\n",
    "С подробной информацией о `DataFrame` можно ознакомиться, если вызвать справку о данном объекте:"
   ]
  },
  {
   "cell_type": "code",
   "execution_count": null,
   "metadata": {
    "id": "azYU0h3-LCPM"
   },
   "outputs": [],
   "source": [
    "#help(pd.DataFrame)"
   ]
  },
  {
   "cell_type": "markdown",
   "metadata": {
    "id": "lwsXfdeXlHB-"
   },
   "source": [
    "### Как создавать DataFrame?\n",
    "\n",
    "Для работы нам понадобится зафиксировать параметры генерации случайных чисел с помощью команды `np.random.seed()`. Подробнее о ней можно узнать по [ссылке](https://stackoverflow.com/questions/21494489/what-does-numpy-random-seed0-do).\n",
    "\n",
    "Сгенерируем матрицу со случайными значениями:\n"
   ]
  },
  {
   "cell_type": "code",
   "execution_count": 65,
   "metadata": {
    "id": "0uLOY4bFlGzo"
   },
   "outputs": [],
   "source": [
    "np.random.seed(101)\n",
    "mydata = np.random.randint(0, 101, (4, 3))"
   ]
  },
  {
   "cell_type": "code",
   "execution_count": 66,
   "metadata": {
    "colab": {
     "base_uri": "https://localhost:8080/"
    },
    "id": "P3JOJur1l1vT",
    "outputId": "e5078a83-12c6-4d1d-da5a-cec30a9cfa01"
   },
   "outputs": [
    {
     "data": {
      "text/plain": [
       "array([[95, 11, 81],\n",
       "       [70, 63, 87],\n",
       "       [75,  9, 77],\n",
       "       [40,  4, 63]])"
      ]
     },
     "execution_count": 66,
     "metadata": {},
     "output_type": "execute_result"
    }
   ],
   "source": [
    "mydata"
   ]
  },
  {
   "cell_type": "markdown",
   "metadata": {
    "id": "hT446RXPmaou"
   },
   "source": [
    "Сгенерируем списки индексов"
   ]
  },
  {
   "cell_type": "code",
   "execution_count": 67,
   "metadata": {
    "id": "nnT_1z0bmRNd"
   },
   "outputs": [],
   "source": [
    "myindex = ['KZ', 'RU', 'JP', 'US']"
   ]
  },
  {
   "cell_type": "code",
   "execution_count": 68,
   "metadata": {
    "id": "krzODj45mpOx"
   },
   "outputs": [],
   "source": [
    "mycolumns = ['Jan', 'Feb', 'Mar']"
   ]
  },
  {
   "cell_type": "markdown",
   "metadata": {
    "id": "17f_hLucmtpZ"
   },
   "source": [
    "Создадим объект `DataFrame` из матрицы `mydata` c помощью одноименного метода."
   ]
  },
  {
   "cell_type": "code",
   "execution_count": 69,
   "metadata": {
    "colab": {
     "base_uri": "https://localhost:8080/",
     "height": 173
    },
    "id": "qR3b4HLim755",
    "outputId": "60ce0486-4bd0-469f-9b85-508e30f39331"
   },
   "outputs": [
    {
     "data": {
      "text/html": [
       "<div>\n",
       "<style scoped>\n",
       "    .dataframe tbody tr th:only-of-type {\n",
       "        vertical-align: middle;\n",
       "    }\n",
       "\n",
       "    .dataframe tbody tr th {\n",
       "        vertical-align: top;\n",
       "    }\n",
       "\n",
       "    .dataframe thead th {\n",
       "        text-align: right;\n",
       "    }\n",
       "</style>\n",
       "<table border=\"1\" class=\"dataframe\">\n",
       "  <thead>\n",
       "    <tr style=\"text-align: right;\">\n",
       "      <th></th>\n",
       "      <th>0</th>\n",
       "      <th>1</th>\n",
       "      <th>2</th>\n",
       "    </tr>\n",
       "  </thead>\n",
       "  <tbody>\n",
       "    <tr>\n",
       "      <th>0</th>\n",
       "      <td>95</td>\n",
       "      <td>11</td>\n",
       "      <td>81</td>\n",
       "    </tr>\n",
       "    <tr>\n",
       "      <th>1</th>\n",
       "      <td>70</td>\n",
       "      <td>63</td>\n",
       "      <td>87</td>\n",
       "    </tr>\n",
       "    <tr>\n",
       "      <th>2</th>\n",
       "      <td>75</td>\n",
       "      <td>9</td>\n",
       "      <td>77</td>\n",
       "    </tr>\n",
       "    <tr>\n",
       "      <th>3</th>\n",
       "      <td>40</td>\n",
       "      <td>4</td>\n",
       "      <td>63</td>\n",
       "    </tr>\n",
       "  </tbody>\n",
       "</table>\n",
       "</div>"
      ],
      "text/plain": [
       "    0   1   2\n",
       "0  95  11  81\n",
       "1  70  63  87\n",
       "2  75   9  77\n",
       "3  40   4  63"
      ]
     },
     "execution_count": 69,
     "metadata": {},
     "output_type": "execute_result"
    }
   ],
   "source": [
    "df = pd.DataFrame(data=mydata)\n",
    "df"
   ]
  },
  {
   "cell_type": "markdown",
   "metadata": {
    "id": "trqe9ZyOnyIU"
   },
   "source": [
    "У данного `DataFrame` индексы числовые. Однако, это неудобно для работы с крупными таблицами. Поэтому мы создадим `DataFrame` c индексами для строк и столбцов. Для этого в метод `pd.DataFrame` мы передадим еще и параметры `index` и `columns`:\n"
   ]
  },
  {
   "cell_type": "code",
   "execution_count": 70,
   "metadata": {
    "colab": {
     "base_uri": "https://localhost:8080/",
     "height": 173
    },
    "id": "3k6bkRuso3mY",
    "outputId": "3d15baf4-0e71-4d0a-f27b-c11adfa49b80"
   },
   "outputs": [
    {
     "data": {
      "text/html": [
       "<div>\n",
       "<style scoped>\n",
       "    .dataframe tbody tr th:only-of-type {\n",
       "        vertical-align: middle;\n",
       "    }\n",
       "\n",
       "    .dataframe tbody tr th {\n",
       "        vertical-align: top;\n",
       "    }\n",
       "\n",
       "    .dataframe thead th {\n",
       "        text-align: right;\n",
       "    }\n",
       "</style>\n",
       "<table border=\"1\" class=\"dataframe\">\n",
       "  <thead>\n",
       "    <tr style=\"text-align: right;\">\n",
       "      <th></th>\n",
       "      <th>Jan</th>\n",
       "      <th>Feb</th>\n",
       "      <th>Mar</th>\n",
       "    </tr>\n",
       "  </thead>\n",
       "  <tbody>\n",
       "    <tr>\n",
       "      <th>KZ</th>\n",
       "      <td>95</td>\n",
       "      <td>11</td>\n",
       "      <td>81</td>\n",
       "    </tr>\n",
       "    <tr>\n",
       "      <th>RU</th>\n",
       "      <td>70</td>\n",
       "      <td>63</td>\n",
       "      <td>87</td>\n",
       "    </tr>\n",
       "    <tr>\n",
       "      <th>JP</th>\n",
       "      <td>75</td>\n",
       "      <td>9</td>\n",
       "      <td>77</td>\n",
       "    </tr>\n",
       "    <tr>\n",
       "      <th>US</th>\n",
       "      <td>40</td>\n",
       "      <td>4</td>\n",
       "      <td>63</td>\n",
       "    </tr>\n",
       "  </tbody>\n",
       "</table>\n",
       "</div>"
      ],
      "text/plain": [
       "    Jan  Feb  Mar\n",
       "KZ   95   11   81\n",
       "RU   70   63   87\n",
       "JP   75    9   77\n",
       "US   40    4   63"
      ]
     },
     "execution_count": 70,
     "metadata": {},
     "output_type": "execute_result"
    }
   ],
   "source": [
    "df = pd.DataFrame(data=mydata, index=myindex, columns=mycolumns)\n",
    "df"
   ]
  },
  {
   "cell_type": "code",
   "execution_count": 71,
   "metadata": {
    "colab": {
     "base_uri": "https://localhost:8080/",
     "height": 173
    },
    "id": "VqWXQGLHpDzF",
    "outputId": "d9016785-a20f-4f3e-e953-d624e539d504"
   },
   "outputs": [
    {
     "data": {
      "text/html": [
       "<div>\n",
       "<style scoped>\n",
       "    .dataframe tbody tr th:only-of-type {\n",
       "        vertical-align: middle;\n",
       "    }\n",
       "\n",
       "    .dataframe tbody tr th {\n",
       "        vertical-align: top;\n",
       "    }\n",
       "\n",
       "    .dataframe thead th {\n",
       "        text-align: right;\n",
       "    }\n",
       "</style>\n",
       "<table border=\"1\" class=\"dataframe\">\n",
       "  <thead>\n",
       "    <tr style=\"text-align: right;\">\n",
       "      <th></th>\n",
       "      <th>0</th>\n",
       "      <th>1</th>\n",
       "      <th>2</th>\n",
       "    </tr>\n",
       "  </thead>\n",
       "  <tbody>\n",
       "    <tr>\n",
       "      <th>KZ</th>\n",
       "      <td>95</td>\n",
       "      <td>11</td>\n",
       "      <td>81</td>\n",
       "    </tr>\n",
       "    <tr>\n",
       "      <th>RU</th>\n",
       "      <td>70</td>\n",
       "      <td>63</td>\n",
       "      <td>87</td>\n",
       "    </tr>\n",
       "    <tr>\n",
       "      <th>JP</th>\n",
       "      <td>75</td>\n",
       "      <td>9</td>\n",
       "      <td>77</td>\n",
       "    </tr>\n",
       "    <tr>\n",
       "      <th>US</th>\n",
       "      <td>40</td>\n",
       "      <td>4</td>\n",
       "      <td>63</td>\n",
       "    </tr>\n",
       "  </tbody>\n",
       "</table>\n",
       "</div>"
      ],
      "text/plain": [
       "     0   1   2\n",
       "KZ  95  11  81\n",
       "RU  70  63  87\n",
       "JP  75   9  77\n",
       "US  40   4  63"
      ]
     },
     "execution_count": 71,
     "metadata": {},
     "output_type": "execute_result"
    }
   ],
   "source": [
    "# Кстати, библиотека не запрещает передавать только параметр index или параметр columns\n",
    "df = pd.DataFrame(data=mydata, index=myindex)\n",
    "df"
   ]
  },
  {
   "cell_type": "markdown",
   "metadata": {
    "id": "I9m3HG25o7_8"
   },
   "source": [
    "### **[Задание 8]**\n",
    "\n",
    "У вас есть несколько списков с информацией о различных cотрудниках: их имена, возраст и количество реализованных ими фич. Вам необходимо создать объект `DataFrame` из этих списков, где каждый сотрудник будет представлен в виде `Series` с именем сотрудника в качестве индекса и информацией о нем в виде значений.\n",
    "\n",
    "Списки с информацией о сотрудниках:\n",
    "  - names = \"Алиса\", \"Боб\", \"Наташка\", \"Андрей\"\n",
    "  - ages = 22, 20, 21, 19\n",
    "  - grades = 85, 92, 88, 79\n",
    "- DataFrame должен иметь столбцы: \"Возраст\" и \"Количество фичей\"\n"
   ]
  },
  {
   "cell_type": "code",
   "execution_count": 80,
   "metadata": {
    "colab": {
     "base_uri": "https://localhost:8080/"
    },
    "id": "G6-F3e3JPMHt",
    "outputId": "fe52e022-7b7f-49f2-a2d5-0b6bb4c6a1fb"
   },
   "outputs": [
    {
     "data": {
      "text/html": [
       "<div>\n",
       "<style scoped>\n",
       "    .dataframe tbody tr th:only-of-type {\n",
       "        vertical-align: middle;\n",
       "    }\n",
       "\n",
       "    .dataframe tbody tr th {\n",
       "        vertical-align: top;\n",
       "    }\n",
       "\n",
       "    .dataframe thead th {\n",
       "        text-align: right;\n",
       "    }\n",
       "</style>\n",
       "<table border=\"1\" class=\"dataframe\">\n",
       "  <thead>\n",
       "    <tr style=\"text-align: right;\">\n",
       "      <th></th>\n",
       "      <th>Возраст</th>\n",
       "      <th>Количество фичей</th>\n",
       "    </tr>\n",
       "  </thead>\n",
       "  <tbody>\n",
       "    <tr>\n",
       "      <th>Алиса</th>\n",
       "      <td>22</td>\n",
       "      <td>85</td>\n",
       "    </tr>\n",
       "    <tr>\n",
       "      <th>Боб</th>\n",
       "      <td>20</td>\n",
       "      <td>92</td>\n",
       "    </tr>\n",
       "    <tr>\n",
       "      <th>Наташка</th>\n",
       "      <td>21</td>\n",
       "      <td>88</td>\n",
       "    </tr>\n",
       "    <tr>\n",
       "      <th>Андрей</th>\n",
       "      <td>19</td>\n",
       "      <td>79</td>\n",
       "    </tr>\n",
       "  </tbody>\n",
       "</table>\n",
       "</div>"
      ],
      "text/plain": [
       "         Возраст  Количество фичей\n",
       "Алиса         22                85\n",
       "Боб           20                92\n",
       "Наташка       21                88\n",
       "Андрей        19                79"
      ]
     },
     "execution_count": 80,
     "metadata": {},
     "output_type": "execute_result"
    }
   ],
   "source": [
    "names = ['Алиса', 'Боб', 'Наташка', 'Андрей']\n",
    "ages = [22, 20, 21, 19]\n",
    "grades = [85, 92, 88, 79]\n",
    "d = {'Возраст': ages, 'Количество фичей': grades}\n",
    "my_df = pd.DataFrame(data=d, index=names, columns=columns)\n",
    "my_df"
   ]
  },
  {
   "cell_type": "markdown",
   "metadata": {
    "id": "sQM-cnvGr9HH"
   },
   "source": [
    "## Работа с таблицами:\n",
    "\n",
    "\n",
    "***Замечание: Позже в этом курсе мы рассмотрим много различных типов файлов — `.html`, `.csv`, `.xlsx` и другие. Но сейчас мы ограничимся только форматом `.csv`.***\n",
    "\n",
    "Часто данные для исследования предоставлены в формате .csv (Comma Separated Values), в котором содержатся отдельные значения данных, отделённые друг от друга с помощью знаков-разделителей (чаще всего запятых)."
   ]
  },
  {
   "cell_type": "markdown",
   "metadata": {
    "id": "rWu5wng2bgcO"
   },
   "source": [
    "### Получение информации о датасете"
   ]
  },
  {
   "cell_type": "markdown",
   "metadata": {
    "id": "t6BdQIak93g-"
   },
   "source": [
    "Мы будем работать с датасетом [Countries of the World - 2023](https://www.kaggle.com/datasets/nelgiriyewithana/countries-of-the-world-2023?resource=download)\n",
    "\n",
    "Этот набор данных предоставляет обширную информацию обо всех странах мира. Она охватывает демографическую статистику, экономические показатели, факторы окружающей среды, показатели здравоохранения, статистику образования и многое другое. Поскольку представлена каждая страна, этот набор данных предлагает полный глобальный взгляд на различные аспекты жизни наций, позволяя проводить углубленный анализ и  сравнения стран.\n"
   ]
  },
  {
   "cell_type": "markdown",
   "metadata": {
    "id": "RVbQaTTdzpYt"
   },
   "source": [
    "### Загрузка датасета\n"
   ]
  },
  {
   "cell_type": "markdown",
   "metadata": {
    "id": "s7mqrxCT906p"
   },
   "source": [
    "\n",
    "**Путь к файлу**\n",
    "\n",
    "Когда нужно обратиться к файлу в pandas, используется метод `pd.read_csv`, в который нужно передать строку с путем к файлу:\n",
    "\n",
    "1. Если Ваш файл .csv находится **в той же самой** папке, что и файл .py или блокнот .ipynb, то можно просто указать название этого файла .csv. Например:\n",
    "    \n",
    "        df = pd.read_csv('some_file.csv')\n",
    "        \n",
    "2. Либо второй вариант - если файл .csv находится в другой папке, то можно указать полный путь к нему. Обратите внимание, что путь должен быть на 100% правильным. Например:\n",
    "\n",
    "        df = pd.read_csv(\"C:\\\\Users\\\\myself\\\\files\\\\some_file.csv\")\n",
    "\n",
    "\n",
    "Загрузим датасет для занятия:"
   ]
  },
  {
   "cell_type": "code",
   "execution_count": 45,
   "metadata": {
    "id": "VLsvrC_ir8c5"
   },
   "outputs": [],
   "source": [
    "import pandas as pd\n",
    "df = pd.read_csv('world-data-2023.csv')"
   ]
  },
  {
   "cell_type": "code",
   "execution_count": 46,
   "metadata": {
    "colab": {
     "base_uri": "https://localhost:8080/",
     "height": 534
    },
    "id": "ik5gpMwCwBTB",
    "outputId": "f32b73e1-98b5-4ad0-ec3e-46285bcc7710"
   },
   "outputs": [
    {
     "data": {
      "text/html": [
       "<div>\n",
       "<style scoped>\n",
       "    .dataframe tbody tr th:only-of-type {\n",
       "        vertical-align: middle;\n",
       "    }\n",
       "\n",
       "    .dataframe tbody tr th {\n",
       "        vertical-align: top;\n",
       "    }\n",
       "\n",
       "    .dataframe thead th {\n",
       "        text-align: right;\n",
       "    }\n",
       "</style>\n",
       "<table border=\"1\" class=\"dataframe\">\n",
       "  <thead>\n",
       "    <tr style=\"text-align: right;\">\n",
       "      <th></th>\n",
       "      <th>Country</th>\n",
       "      <th>Density\\n(P/Km2)</th>\n",
       "      <th>Abbreviation</th>\n",
       "      <th>Agricultural Land( %)</th>\n",
       "      <th>Land Area(Km2)</th>\n",
       "      <th>Armed Forces size</th>\n",
       "      <th>Birth Rate</th>\n",
       "      <th>Calling Code</th>\n",
       "      <th>Capital/Major City</th>\n",
       "      <th>Co2-Emissions</th>\n",
       "      <th>...</th>\n",
       "      <th>Out of pocket health expenditure</th>\n",
       "      <th>Physicians per thousand</th>\n",
       "      <th>Population</th>\n",
       "      <th>Population: Labor force participation (%)</th>\n",
       "      <th>Tax revenue (%)</th>\n",
       "      <th>Total tax rate</th>\n",
       "      <th>Unemployment rate</th>\n",
       "      <th>Urban_population</th>\n",
       "      <th>Latitude</th>\n",
       "      <th>Longitude</th>\n",
       "    </tr>\n",
       "  </thead>\n",
       "  <tbody>\n",
       "    <tr>\n",
       "      <th>0</th>\n",
       "      <td>Afghanistan</td>\n",
       "      <td>60</td>\n",
       "      <td>AF</td>\n",
       "      <td>58.10%</td>\n",
       "      <td>652,230</td>\n",
       "      <td>323,000</td>\n",
       "      <td>32.49</td>\n",
       "      <td>93.0</td>\n",
       "      <td>Kabul</td>\n",
       "      <td>8,672</td>\n",
       "      <td>...</td>\n",
       "      <td>78.40%</td>\n",
       "      <td>0.28</td>\n",
       "      <td>38,041,754</td>\n",
       "      <td>48.90%</td>\n",
       "      <td>9.30%</td>\n",
       "      <td>71.40%</td>\n",
       "      <td>11.12%</td>\n",
       "      <td>9,797,273</td>\n",
       "      <td>33.939110</td>\n",
       "      <td>67.709953</td>\n",
       "    </tr>\n",
       "    <tr>\n",
       "      <th>1</th>\n",
       "      <td>Albania</td>\n",
       "      <td>105</td>\n",
       "      <td>AL</td>\n",
       "      <td>43.10%</td>\n",
       "      <td>28,748</td>\n",
       "      <td>9,000</td>\n",
       "      <td>11.78</td>\n",
       "      <td>355.0</td>\n",
       "      <td>Tirana</td>\n",
       "      <td>4,536</td>\n",
       "      <td>...</td>\n",
       "      <td>56.90%</td>\n",
       "      <td>1.20</td>\n",
       "      <td>2,854,191</td>\n",
       "      <td>55.70%</td>\n",
       "      <td>18.60%</td>\n",
       "      <td>36.60%</td>\n",
       "      <td>12.33%</td>\n",
       "      <td>1,747,593</td>\n",
       "      <td>41.153332</td>\n",
       "      <td>20.168331</td>\n",
       "    </tr>\n",
       "    <tr>\n",
       "      <th>2</th>\n",
       "      <td>Algeria</td>\n",
       "      <td>18</td>\n",
       "      <td>DZ</td>\n",
       "      <td>17.40%</td>\n",
       "      <td>2,381,741</td>\n",
       "      <td>317,000</td>\n",
       "      <td>24.28</td>\n",
       "      <td>213.0</td>\n",
       "      <td>Algiers</td>\n",
       "      <td>150,006</td>\n",
       "      <td>...</td>\n",
       "      <td>28.10%</td>\n",
       "      <td>1.72</td>\n",
       "      <td>43,053,054</td>\n",
       "      <td>41.20%</td>\n",
       "      <td>37.20%</td>\n",
       "      <td>66.10%</td>\n",
       "      <td>11.70%</td>\n",
       "      <td>31,510,100</td>\n",
       "      <td>28.033886</td>\n",
       "      <td>1.659626</td>\n",
       "    </tr>\n",
       "    <tr>\n",
       "      <th>3</th>\n",
       "      <td>Andorra</td>\n",
       "      <td>164</td>\n",
       "      <td>AD</td>\n",
       "      <td>40.00%</td>\n",
       "      <td>468</td>\n",
       "      <td>NaN</td>\n",
       "      <td>7.20</td>\n",
       "      <td>376.0</td>\n",
       "      <td>Andorra la Vella</td>\n",
       "      <td>469</td>\n",
       "      <td>...</td>\n",
       "      <td>36.40%</td>\n",
       "      <td>3.33</td>\n",
       "      <td>77,142</td>\n",
       "      <td>NaN</td>\n",
       "      <td>NaN</td>\n",
       "      <td>NaN</td>\n",
       "      <td>NaN</td>\n",
       "      <td>67,873</td>\n",
       "      <td>42.506285</td>\n",
       "      <td>1.521801</td>\n",
       "    </tr>\n",
       "    <tr>\n",
       "      <th>4</th>\n",
       "      <td>Angola</td>\n",
       "      <td>26</td>\n",
       "      <td>AO</td>\n",
       "      <td>47.50%</td>\n",
       "      <td>1,246,700</td>\n",
       "      <td>117,000</td>\n",
       "      <td>40.73</td>\n",
       "      <td>244.0</td>\n",
       "      <td>Luanda</td>\n",
       "      <td>34,693</td>\n",
       "      <td>...</td>\n",
       "      <td>33.40%</td>\n",
       "      <td>0.21</td>\n",
       "      <td>31,825,295</td>\n",
       "      <td>77.50%</td>\n",
       "      <td>9.20%</td>\n",
       "      <td>49.10%</td>\n",
       "      <td>6.89%</td>\n",
       "      <td>21,061,025</td>\n",
       "      <td>-11.202692</td>\n",
       "      <td>17.873887</td>\n",
       "    </tr>\n",
       "    <tr>\n",
       "      <th>...</th>\n",
       "      <td>...</td>\n",
       "      <td>...</td>\n",
       "      <td>...</td>\n",
       "      <td>...</td>\n",
       "      <td>...</td>\n",
       "      <td>...</td>\n",
       "      <td>...</td>\n",
       "      <td>...</td>\n",
       "      <td>...</td>\n",
       "      <td>...</td>\n",
       "      <td>...</td>\n",
       "      <td>...</td>\n",
       "      <td>...</td>\n",
       "      <td>...</td>\n",
       "      <td>...</td>\n",
       "      <td>...</td>\n",
       "      <td>...</td>\n",
       "      <td>...</td>\n",
       "      <td>...</td>\n",
       "      <td>...</td>\n",
       "      <td>...</td>\n",
       "    </tr>\n",
       "    <tr>\n",
       "      <th>190</th>\n",
       "      <td>Venezuela</td>\n",
       "      <td>32</td>\n",
       "      <td>VE</td>\n",
       "      <td>24.50%</td>\n",
       "      <td>912,050</td>\n",
       "      <td>343,000</td>\n",
       "      <td>17.88</td>\n",
       "      <td>58.0</td>\n",
       "      <td>Caracas</td>\n",
       "      <td>164,175</td>\n",
       "      <td>...</td>\n",
       "      <td>45.80%</td>\n",
       "      <td>1.92</td>\n",
       "      <td>28,515,829</td>\n",
       "      <td>59.70%</td>\n",
       "      <td>NaN</td>\n",
       "      <td>73.30%</td>\n",
       "      <td>8.80%</td>\n",
       "      <td>25,162,368</td>\n",
       "      <td>6.423750</td>\n",
       "      <td>-66.589730</td>\n",
       "    </tr>\n",
       "    <tr>\n",
       "      <th>191</th>\n",
       "      <td>Vietnam</td>\n",
       "      <td>314</td>\n",
       "      <td>VN</td>\n",
       "      <td>39.30%</td>\n",
       "      <td>331,210</td>\n",
       "      <td>522,000</td>\n",
       "      <td>16.75</td>\n",
       "      <td>84.0</td>\n",
       "      <td>Hanoi</td>\n",
       "      <td>192,668</td>\n",
       "      <td>...</td>\n",
       "      <td>43.50%</td>\n",
       "      <td>0.82</td>\n",
       "      <td>96,462,106</td>\n",
       "      <td>77.40%</td>\n",
       "      <td>19.10%</td>\n",
       "      <td>37.60%</td>\n",
       "      <td>2.01%</td>\n",
       "      <td>35,332,140</td>\n",
       "      <td>14.058324</td>\n",
       "      <td>108.277199</td>\n",
       "    </tr>\n",
       "    <tr>\n",
       "      <th>192</th>\n",
       "      <td>Yemen</td>\n",
       "      <td>56</td>\n",
       "      <td>YE</td>\n",
       "      <td>44.60%</td>\n",
       "      <td>527,968</td>\n",
       "      <td>40,000</td>\n",
       "      <td>30.45</td>\n",
       "      <td>967.0</td>\n",
       "      <td>Sanaa</td>\n",
       "      <td>10,609</td>\n",
       "      <td>...</td>\n",
       "      <td>81.00%</td>\n",
       "      <td>0.31</td>\n",
       "      <td>29,161,922</td>\n",
       "      <td>38.00%</td>\n",
       "      <td>NaN</td>\n",
       "      <td>26.60%</td>\n",
       "      <td>12.91%</td>\n",
       "      <td>10,869,523</td>\n",
       "      <td>15.552727</td>\n",
       "      <td>48.516388</td>\n",
       "    </tr>\n",
       "    <tr>\n",
       "      <th>193</th>\n",
       "      <td>Zambia</td>\n",
       "      <td>25</td>\n",
       "      <td>ZM</td>\n",
       "      <td>32.10%</td>\n",
       "      <td>752,618</td>\n",
       "      <td>16,000</td>\n",
       "      <td>36.19</td>\n",
       "      <td>260.0</td>\n",
       "      <td>Lusaka</td>\n",
       "      <td>5,141</td>\n",
       "      <td>...</td>\n",
       "      <td>27.50%</td>\n",
       "      <td>1.19</td>\n",
       "      <td>17,861,030</td>\n",
       "      <td>74.60%</td>\n",
       "      <td>16.20%</td>\n",
       "      <td>15.60%</td>\n",
       "      <td>11.43%</td>\n",
       "      <td>7,871,713</td>\n",
       "      <td>-13.133897</td>\n",
       "      <td>27.849332</td>\n",
       "    </tr>\n",
       "    <tr>\n",
       "      <th>194</th>\n",
       "      <td>Zimbabwe</td>\n",
       "      <td>38</td>\n",
       "      <td>ZW</td>\n",
       "      <td>41.90%</td>\n",
       "      <td>390,757</td>\n",
       "      <td>51,000</td>\n",
       "      <td>30.68</td>\n",
       "      <td>263.0</td>\n",
       "      <td>Harare</td>\n",
       "      <td>10,983</td>\n",
       "      <td>...</td>\n",
       "      <td>25.80%</td>\n",
       "      <td>0.21</td>\n",
       "      <td>14,645,468</td>\n",
       "      <td>83.10%</td>\n",
       "      <td>20.70%</td>\n",
       "      <td>31.60%</td>\n",
       "      <td>4.95%</td>\n",
       "      <td>4,717,305</td>\n",
       "      <td>-19.015438</td>\n",
       "      <td>29.154857</td>\n",
       "    </tr>\n",
       "  </tbody>\n",
       "</table>\n",
       "<p>195 rows × 35 columns</p>\n",
       "</div>"
      ],
      "text/plain": [
       "         Country Density\\n(P/Km2) Abbreviation Agricultural Land( %)  \\\n",
       "0    Afghanistan               60           AF                58.10%   \n",
       "1        Albania              105           AL                43.10%   \n",
       "2        Algeria               18           DZ                17.40%   \n",
       "3        Andorra              164           AD                40.00%   \n",
       "4         Angola               26           AO                47.50%   \n",
       "..           ...              ...          ...                   ...   \n",
       "190    Venezuela               32           VE                24.50%   \n",
       "191      Vietnam              314           VN                39.30%   \n",
       "192        Yemen               56           YE                44.60%   \n",
       "193       Zambia               25           ZM                32.10%   \n",
       "194     Zimbabwe               38           ZW                41.90%   \n",
       "\n",
       "    Land Area(Km2) Armed Forces size  Birth Rate  Calling Code  \\\n",
       "0          652,230           323,000       32.49          93.0   \n",
       "1           28,748             9,000       11.78         355.0   \n",
       "2        2,381,741           317,000       24.28         213.0   \n",
       "3              468               NaN        7.20         376.0   \n",
       "4        1,246,700           117,000       40.73         244.0   \n",
       "..             ...               ...         ...           ...   \n",
       "190        912,050           343,000       17.88          58.0   \n",
       "191        331,210           522,000       16.75          84.0   \n",
       "192        527,968            40,000       30.45         967.0   \n",
       "193        752,618            16,000       36.19         260.0   \n",
       "194        390,757            51,000       30.68         263.0   \n",
       "\n",
       "    Capital/Major City Co2-Emissions  ... Out of pocket health expenditure  \\\n",
       "0                Kabul         8,672  ...                           78.40%   \n",
       "1               Tirana         4,536  ...                           56.90%   \n",
       "2              Algiers       150,006  ...                           28.10%   \n",
       "3     Andorra la Vella           469  ...                           36.40%   \n",
       "4               Luanda        34,693  ...                           33.40%   \n",
       "..                 ...           ...  ...                              ...   \n",
       "190            Caracas       164,175  ...                           45.80%   \n",
       "191              Hanoi       192,668  ...                           43.50%   \n",
       "192              Sanaa        10,609  ...                           81.00%   \n",
       "193             Lusaka         5,141  ...                           27.50%   \n",
       "194             Harare        10,983  ...                           25.80%   \n",
       "\n",
       "    Physicians per thousand  Population  \\\n",
       "0                      0.28  38,041,754   \n",
       "1                      1.20   2,854,191   \n",
       "2                      1.72  43,053,054   \n",
       "3                      3.33      77,142   \n",
       "4                      0.21  31,825,295   \n",
       "..                      ...         ...   \n",
       "190                    1.92  28,515,829   \n",
       "191                    0.82  96,462,106   \n",
       "192                    0.31  29,161,922   \n",
       "193                    1.19  17,861,030   \n",
       "194                    0.21  14,645,468   \n",
       "\n",
       "     Population: Labor force participation (%) Tax revenue (%) Total tax rate  \\\n",
       "0                                       48.90%           9.30%         71.40%   \n",
       "1                                       55.70%          18.60%         36.60%   \n",
       "2                                       41.20%          37.20%         66.10%   \n",
       "3                                          NaN             NaN            NaN   \n",
       "4                                       77.50%           9.20%         49.10%   \n",
       "..                                         ...             ...            ...   \n",
       "190                                     59.70%             NaN         73.30%   \n",
       "191                                     77.40%          19.10%         37.60%   \n",
       "192                                     38.00%             NaN         26.60%   \n",
       "193                                     74.60%          16.20%         15.60%   \n",
       "194                                     83.10%          20.70%         31.60%   \n",
       "\n",
       "    Unemployment rate Urban_population   Latitude   Longitude  \n",
       "0              11.12%        9,797,273  33.939110   67.709953  \n",
       "1              12.33%        1,747,593  41.153332   20.168331  \n",
       "2              11.70%       31,510,100  28.033886    1.659626  \n",
       "3                 NaN           67,873  42.506285    1.521801  \n",
       "4               6.89%       21,061,025 -11.202692   17.873887  \n",
       "..                ...              ...        ...         ...  \n",
       "190             8.80%       25,162,368   6.423750  -66.589730  \n",
       "191             2.01%       35,332,140  14.058324  108.277199  \n",
       "192            12.91%       10,869,523  15.552727   48.516388  \n",
       "193            11.43%        7,871,713 -13.133897   27.849332  \n",
       "194             4.95%        4,717,305 -19.015438   29.154857  \n",
       "\n",
       "[195 rows x 35 columns]"
      ]
     },
     "execution_count": 46,
     "metadata": {},
     "output_type": "execute_result"
    }
   ],
   "source": [
    "df"
   ]
  },
  {
   "cell_type": "code",
   "execution_count": null,
   "metadata": {
    "colab": {
     "base_uri": "https://localhost:8080/"
    },
    "id": "KxCZ0iZ9wB3O",
    "outputId": "e18dc1e3-d635-4d61-c0d9-e2f4ca31c633"
   },
   "outputs": [
    {
     "data": {
      "text/plain": [
       "Index(['Country', 'Density\\n(P/Km2)', 'Abbreviation', 'Agricultural Land( %)',\n",
       "       'Land Area(Km2)', 'Armed Forces size', 'Birth Rate', 'Calling Code',\n",
       "       'Capital/Major City', 'Co2-Emissions', 'CPI', 'CPI Change (%)',\n",
       "       'Currency-Code', 'Fertility Rate', 'Forested Area (%)',\n",
       "       'Gasoline Price', 'GDP', 'Gross primary education enrollment (%)',\n",
       "       'Gross tertiary education enrollment (%)', 'Infant mortality',\n",
       "       'Largest city', 'Life expectancy', 'Maternal mortality ratio',\n",
       "       'Minimum wage', 'Official language', 'Out of pocket health expenditure',\n",
       "       'Physicians per thousand', 'Population',\n",
       "       'Population: Labor force participation (%)', 'Tax revenue (%)',\n",
       "       'Total tax rate', 'Unemployment rate', 'Urban_population', 'Latitude',\n",
       "       'Longitude'],\n",
       "      dtype='object')"
      ]
     },
     "execution_count": 71,
     "metadata": {},
     "output_type": "execute_result"
    }
   ],
   "source": [
    "#Выведем список названий столбцов датасета\n",
    "df.columns"
   ]
  },
  {
   "cell_type": "code",
   "execution_count": 84,
   "metadata": {
    "colab": {
     "base_uri": "https://localhost:8080/"
    },
    "id": "X23Jea-zwLNV",
    "outputId": "b7bb7afd-0dbc-41c2-f156-e05abec3cdd0"
   },
   "outputs": [
    {
     "data": {
      "text/plain": [
       "RangeIndex(start=0, stop=195, step=1)"
      ]
     },
     "execution_count": 84,
     "metadata": {},
     "output_type": "execute_result"
    }
   ],
   "source": [
    "#Выведем список названий строк датасета\n",
    "#Отметим, что в нашем датасете строки пронумерованы с помощью объекта RangeIndex\n",
    "df.index"
   ]
  },
  {
   "cell_type": "markdown",
   "metadata": {
    "id": "gy75dXWMCueL"
   },
   "source": [
    "У Series и Dataframe индексы можно менять:"
   ]
  },
  {
   "cell_type": "code",
   "execution_count": 85,
   "metadata": {
    "id": "9YciNPVFC4ea"
   },
   "outputs": [],
   "source": [
    "df = df.set_index('Country')"
   ]
  },
  {
   "cell_type": "code",
   "execution_count": 86,
   "metadata": {
    "colab": {
     "base_uri": "https://localhost:8080/",
     "height": 565
    },
    "id": "omz30TkTC90C",
    "outputId": "06b1bdaf-27c3-47df-eab0-f82bf553b88f"
   },
   "outputs": [
    {
     "data": {
      "text/html": [
       "<div>\n",
       "<style scoped>\n",
       "    .dataframe tbody tr th:only-of-type {\n",
       "        vertical-align: middle;\n",
       "    }\n",
       "\n",
       "    .dataframe tbody tr th {\n",
       "        vertical-align: top;\n",
       "    }\n",
       "\n",
       "    .dataframe thead th {\n",
       "        text-align: right;\n",
       "    }\n",
       "</style>\n",
       "<table border=\"1\" class=\"dataframe\">\n",
       "  <thead>\n",
       "    <tr style=\"text-align: right;\">\n",
       "      <th></th>\n",
       "      <th>Density\\n(P/Km2)</th>\n",
       "      <th>Abbreviation</th>\n",
       "      <th>Agricultural Land( %)</th>\n",
       "      <th>Land Area(Km2)</th>\n",
       "      <th>Armed Forces size</th>\n",
       "      <th>Birth Rate</th>\n",
       "      <th>Calling Code</th>\n",
       "      <th>Capital/Major City</th>\n",
       "      <th>Co2-Emissions</th>\n",
       "      <th>CPI</th>\n",
       "      <th>...</th>\n",
       "      <th>Out of pocket health expenditure</th>\n",
       "      <th>Physicians per thousand</th>\n",
       "      <th>Population</th>\n",
       "      <th>Population: Labor force participation (%)</th>\n",
       "      <th>Tax revenue (%)</th>\n",
       "      <th>Total tax rate</th>\n",
       "      <th>Unemployment rate</th>\n",
       "      <th>Urban_population</th>\n",
       "      <th>Latitude</th>\n",
       "      <th>Longitude</th>\n",
       "    </tr>\n",
       "    <tr>\n",
       "      <th>Country</th>\n",
       "      <th></th>\n",
       "      <th></th>\n",
       "      <th></th>\n",
       "      <th></th>\n",
       "      <th></th>\n",
       "      <th></th>\n",
       "      <th></th>\n",
       "      <th></th>\n",
       "      <th></th>\n",
       "      <th></th>\n",
       "      <th></th>\n",
       "      <th></th>\n",
       "      <th></th>\n",
       "      <th></th>\n",
       "      <th></th>\n",
       "      <th></th>\n",
       "      <th></th>\n",
       "      <th></th>\n",
       "      <th></th>\n",
       "      <th></th>\n",
       "      <th></th>\n",
       "    </tr>\n",
       "  </thead>\n",
       "  <tbody>\n",
       "    <tr>\n",
       "      <th>Afghanistan</th>\n",
       "      <td>60</td>\n",
       "      <td>AF</td>\n",
       "      <td>58.10%</td>\n",
       "      <td>652,230</td>\n",
       "      <td>323,000</td>\n",
       "      <td>32.49</td>\n",
       "      <td>93.0</td>\n",
       "      <td>Kabul</td>\n",
       "      <td>8,672</td>\n",
       "      <td>149.9</td>\n",
       "      <td>...</td>\n",
       "      <td>78.40%</td>\n",
       "      <td>0.28</td>\n",
       "      <td>38,041,754</td>\n",
       "      <td>48.90%</td>\n",
       "      <td>9.30%</td>\n",
       "      <td>71.40%</td>\n",
       "      <td>11.12%</td>\n",
       "      <td>9,797,273</td>\n",
       "      <td>33.939110</td>\n",
       "      <td>67.709953</td>\n",
       "    </tr>\n",
       "    <tr>\n",
       "      <th>Albania</th>\n",
       "      <td>105</td>\n",
       "      <td>AL</td>\n",
       "      <td>43.10%</td>\n",
       "      <td>28,748</td>\n",
       "      <td>9,000</td>\n",
       "      <td>11.78</td>\n",
       "      <td>355.0</td>\n",
       "      <td>Tirana</td>\n",
       "      <td>4,536</td>\n",
       "      <td>119.05</td>\n",
       "      <td>...</td>\n",
       "      <td>56.90%</td>\n",
       "      <td>1.20</td>\n",
       "      <td>2,854,191</td>\n",
       "      <td>55.70%</td>\n",
       "      <td>18.60%</td>\n",
       "      <td>36.60%</td>\n",
       "      <td>12.33%</td>\n",
       "      <td>1,747,593</td>\n",
       "      <td>41.153332</td>\n",
       "      <td>20.168331</td>\n",
       "    </tr>\n",
       "    <tr>\n",
       "      <th>Algeria</th>\n",
       "      <td>18</td>\n",
       "      <td>DZ</td>\n",
       "      <td>17.40%</td>\n",
       "      <td>2,381,741</td>\n",
       "      <td>317,000</td>\n",
       "      <td>24.28</td>\n",
       "      <td>213.0</td>\n",
       "      <td>Algiers</td>\n",
       "      <td>150,006</td>\n",
       "      <td>151.36</td>\n",
       "      <td>...</td>\n",
       "      <td>28.10%</td>\n",
       "      <td>1.72</td>\n",
       "      <td>43,053,054</td>\n",
       "      <td>41.20%</td>\n",
       "      <td>37.20%</td>\n",
       "      <td>66.10%</td>\n",
       "      <td>11.70%</td>\n",
       "      <td>31,510,100</td>\n",
       "      <td>28.033886</td>\n",
       "      <td>1.659626</td>\n",
       "    </tr>\n",
       "    <tr>\n",
       "      <th>Andorra</th>\n",
       "      <td>164</td>\n",
       "      <td>AD</td>\n",
       "      <td>40.00%</td>\n",
       "      <td>468</td>\n",
       "      <td>NaN</td>\n",
       "      <td>7.20</td>\n",
       "      <td>376.0</td>\n",
       "      <td>Andorra la Vella</td>\n",
       "      <td>469</td>\n",
       "      <td>NaN</td>\n",
       "      <td>...</td>\n",
       "      <td>36.40%</td>\n",
       "      <td>3.33</td>\n",
       "      <td>77,142</td>\n",
       "      <td>NaN</td>\n",
       "      <td>NaN</td>\n",
       "      <td>NaN</td>\n",
       "      <td>NaN</td>\n",
       "      <td>67,873</td>\n",
       "      <td>42.506285</td>\n",
       "      <td>1.521801</td>\n",
       "    </tr>\n",
       "    <tr>\n",
       "      <th>Angola</th>\n",
       "      <td>26</td>\n",
       "      <td>AO</td>\n",
       "      <td>47.50%</td>\n",
       "      <td>1,246,700</td>\n",
       "      <td>117,000</td>\n",
       "      <td>40.73</td>\n",
       "      <td>244.0</td>\n",
       "      <td>Luanda</td>\n",
       "      <td>34,693</td>\n",
       "      <td>261.73</td>\n",
       "      <td>...</td>\n",
       "      <td>33.40%</td>\n",
       "      <td>0.21</td>\n",
       "      <td>31,825,295</td>\n",
       "      <td>77.50%</td>\n",
       "      <td>9.20%</td>\n",
       "      <td>49.10%</td>\n",
       "      <td>6.89%</td>\n",
       "      <td>21,061,025</td>\n",
       "      <td>-11.202692</td>\n",
       "      <td>17.873887</td>\n",
       "    </tr>\n",
       "    <tr>\n",
       "      <th>...</th>\n",
       "      <td>...</td>\n",
       "      <td>...</td>\n",
       "      <td>...</td>\n",
       "      <td>...</td>\n",
       "      <td>...</td>\n",
       "      <td>...</td>\n",
       "      <td>...</td>\n",
       "      <td>...</td>\n",
       "      <td>...</td>\n",
       "      <td>...</td>\n",
       "      <td>...</td>\n",
       "      <td>...</td>\n",
       "      <td>...</td>\n",
       "      <td>...</td>\n",
       "      <td>...</td>\n",
       "      <td>...</td>\n",
       "      <td>...</td>\n",
       "      <td>...</td>\n",
       "      <td>...</td>\n",
       "      <td>...</td>\n",
       "      <td>...</td>\n",
       "    </tr>\n",
       "    <tr>\n",
       "      <th>Venezuela</th>\n",
       "      <td>32</td>\n",
       "      <td>VE</td>\n",
       "      <td>24.50%</td>\n",
       "      <td>912,050</td>\n",
       "      <td>343,000</td>\n",
       "      <td>17.88</td>\n",
       "      <td>58.0</td>\n",
       "      <td>Caracas</td>\n",
       "      <td>164,175</td>\n",
       "      <td>2,740.27</td>\n",
       "      <td>...</td>\n",
       "      <td>45.80%</td>\n",
       "      <td>1.92</td>\n",
       "      <td>28,515,829</td>\n",
       "      <td>59.70%</td>\n",
       "      <td>NaN</td>\n",
       "      <td>73.30%</td>\n",
       "      <td>8.80%</td>\n",
       "      <td>25,162,368</td>\n",
       "      <td>6.423750</td>\n",
       "      <td>-66.589730</td>\n",
       "    </tr>\n",
       "    <tr>\n",
       "      <th>Vietnam</th>\n",
       "      <td>314</td>\n",
       "      <td>VN</td>\n",
       "      <td>39.30%</td>\n",
       "      <td>331,210</td>\n",
       "      <td>522,000</td>\n",
       "      <td>16.75</td>\n",
       "      <td>84.0</td>\n",
       "      <td>Hanoi</td>\n",
       "      <td>192,668</td>\n",
       "      <td>163.52</td>\n",
       "      <td>...</td>\n",
       "      <td>43.50%</td>\n",
       "      <td>0.82</td>\n",
       "      <td>96,462,106</td>\n",
       "      <td>77.40%</td>\n",
       "      <td>19.10%</td>\n",
       "      <td>37.60%</td>\n",
       "      <td>2.01%</td>\n",
       "      <td>35,332,140</td>\n",
       "      <td>14.058324</td>\n",
       "      <td>108.277199</td>\n",
       "    </tr>\n",
       "    <tr>\n",
       "      <th>Yemen</th>\n",
       "      <td>56</td>\n",
       "      <td>YE</td>\n",
       "      <td>44.60%</td>\n",
       "      <td>527,968</td>\n",
       "      <td>40,000</td>\n",
       "      <td>30.45</td>\n",
       "      <td>967.0</td>\n",
       "      <td>Sanaa</td>\n",
       "      <td>10,609</td>\n",
       "      <td>157.58</td>\n",
       "      <td>...</td>\n",
       "      <td>81.00%</td>\n",
       "      <td>0.31</td>\n",
       "      <td>29,161,922</td>\n",
       "      <td>38.00%</td>\n",
       "      <td>NaN</td>\n",
       "      <td>26.60%</td>\n",
       "      <td>12.91%</td>\n",
       "      <td>10,869,523</td>\n",
       "      <td>15.552727</td>\n",
       "      <td>48.516388</td>\n",
       "    </tr>\n",
       "    <tr>\n",
       "      <th>Zambia</th>\n",
       "      <td>25</td>\n",
       "      <td>ZM</td>\n",
       "      <td>32.10%</td>\n",
       "      <td>752,618</td>\n",
       "      <td>16,000</td>\n",
       "      <td>36.19</td>\n",
       "      <td>260.0</td>\n",
       "      <td>Lusaka</td>\n",
       "      <td>5,141</td>\n",
       "      <td>212.31</td>\n",
       "      <td>...</td>\n",
       "      <td>27.50%</td>\n",
       "      <td>1.19</td>\n",
       "      <td>17,861,030</td>\n",
       "      <td>74.60%</td>\n",
       "      <td>16.20%</td>\n",
       "      <td>15.60%</td>\n",
       "      <td>11.43%</td>\n",
       "      <td>7,871,713</td>\n",
       "      <td>-13.133897</td>\n",
       "      <td>27.849332</td>\n",
       "    </tr>\n",
       "    <tr>\n",
       "      <th>Zimbabwe</th>\n",
       "      <td>38</td>\n",
       "      <td>ZW</td>\n",
       "      <td>41.90%</td>\n",
       "      <td>390,757</td>\n",
       "      <td>51,000</td>\n",
       "      <td>30.68</td>\n",
       "      <td>263.0</td>\n",
       "      <td>Harare</td>\n",
       "      <td>10,983</td>\n",
       "      <td>105.51</td>\n",
       "      <td>...</td>\n",
       "      <td>25.80%</td>\n",
       "      <td>0.21</td>\n",
       "      <td>14,645,468</td>\n",
       "      <td>83.10%</td>\n",
       "      <td>20.70%</td>\n",
       "      <td>31.60%</td>\n",
       "      <td>4.95%</td>\n",
       "      <td>4,717,305</td>\n",
       "      <td>-19.015438</td>\n",
       "      <td>29.154857</td>\n",
       "    </tr>\n",
       "  </tbody>\n",
       "</table>\n",
       "<p>195 rows × 34 columns</p>\n",
       "</div>"
      ],
      "text/plain": [
       "            Density\\n(P/Km2) Abbreviation Agricultural Land( %)  \\\n",
       "Country                                                           \n",
       "Afghanistan               60           AF                58.10%   \n",
       "Albania                  105           AL                43.10%   \n",
       "Algeria                   18           DZ                17.40%   \n",
       "Andorra                  164           AD                40.00%   \n",
       "Angola                    26           AO                47.50%   \n",
       "...                      ...          ...                   ...   \n",
       "Venezuela                 32           VE                24.50%   \n",
       "Vietnam                  314           VN                39.30%   \n",
       "Yemen                     56           YE                44.60%   \n",
       "Zambia                    25           ZM                32.10%   \n",
       "Zimbabwe                  38           ZW                41.90%   \n",
       "\n",
       "            Land Area(Km2) Armed Forces size  Birth Rate  Calling Code  \\\n",
       "Country                                                                  \n",
       "Afghanistan        652,230           323,000       32.49          93.0   \n",
       "Albania             28,748             9,000       11.78         355.0   \n",
       "Algeria          2,381,741           317,000       24.28         213.0   \n",
       "Andorra                468               NaN        7.20         376.0   \n",
       "Angola           1,246,700           117,000       40.73         244.0   \n",
       "...                    ...               ...         ...           ...   \n",
       "Venezuela          912,050           343,000       17.88          58.0   \n",
       "Vietnam            331,210           522,000       16.75          84.0   \n",
       "Yemen              527,968            40,000       30.45         967.0   \n",
       "Zambia             752,618            16,000       36.19         260.0   \n",
       "Zimbabwe           390,757            51,000       30.68         263.0   \n",
       "\n",
       "            Capital/Major City Co2-Emissions       CPI  ...  \\\n",
       "Country                                                 ...   \n",
       "Afghanistan              Kabul         8,672     149.9  ...   \n",
       "Albania                 Tirana         4,536    119.05  ...   \n",
       "Algeria                Algiers       150,006    151.36  ...   \n",
       "Andorra       Andorra la Vella           469       NaN  ...   \n",
       "Angola                  Luanda        34,693    261.73  ...   \n",
       "...                        ...           ...       ...  ...   \n",
       "Venezuela              Caracas       164,175  2,740.27  ...   \n",
       "Vietnam                  Hanoi       192,668    163.52  ...   \n",
       "Yemen                    Sanaa        10,609    157.58  ...   \n",
       "Zambia                  Lusaka         5,141    212.31  ...   \n",
       "Zimbabwe                Harare        10,983    105.51  ...   \n",
       "\n",
       "            Out of pocket health expenditure Physicians per thousand  \\\n",
       "Country                                                                \n",
       "Afghanistan                           78.40%                    0.28   \n",
       "Albania                               56.90%                    1.20   \n",
       "Algeria                               28.10%                    1.72   \n",
       "Andorra                               36.40%                    3.33   \n",
       "Angola                                33.40%                    0.21   \n",
       "...                                      ...                     ...   \n",
       "Venezuela                             45.80%                    1.92   \n",
       "Vietnam                               43.50%                    0.82   \n",
       "Yemen                                 81.00%                    0.31   \n",
       "Zambia                                27.50%                    1.19   \n",
       "Zimbabwe                              25.80%                    0.21   \n",
       "\n",
       "             Population Population: Labor force participation (%)  \\\n",
       "Country                                                             \n",
       "Afghanistan  38,041,754                                    48.90%   \n",
       "Albania       2,854,191                                    55.70%   \n",
       "Algeria      43,053,054                                    41.20%   \n",
       "Andorra          77,142                                       NaN   \n",
       "Angola       31,825,295                                    77.50%   \n",
       "...                 ...                                       ...   \n",
       "Venezuela    28,515,829                                    59.70%   \n",
       "Vietnam      96,462,106                                    77.40%   \n",
       "Yemen        29,161,922                                    38.00%   \n",
       "Zambia       17,861,030                                    74.60%   \n",
       "Zimbabwe     14,645,468                                    83.10%   \n",
       "\n",
       "            Tax revenue (%) Total tax rate Unemployment rate Urban_population  \\\n",
       "Country                                                                         \n",
       "Afghanistan           9.30%         71.40%            11.12%        9,797,273   \n",
       "Albania              18.60%         36.60%            12.33%        1,747,593   \n",
       "Algeria              37.20%         66.10%            11.70%       31,510,100   \n",
       "Andorra                 NaN            NaN               NaN           67,873   \n",
       "Angola                9.20%         49.10%             6.89%       21,061,025   \n",
       "...                     ...            ...               ...              ...   \n",
       "Venezuela               NaN         73.30%             8.80%       25,162,368   \n",
       "Vietnam              19.10%         37.60%             2.01%       35,332,140   \n",
       "Yemen                   NaN         26.60%            12.91%       10,869,523   \n",
       "Zambia               16.20%         15.60%            11.43%        7,871,713   \n",
       "Zimbabwe             20.70%         31.60%             4.95%        4,717,305   \n",
       "\n",
       "              Latitude   Longitude  \n",
       "Country                             \n",
       "Afghanistan  33.939110   67.709953  \n",
       "Albania      41.153332   20.168331  \n",
       "Algeria      28.033886    1.659626  \n",
       "Andorra      42.506285    1.521801  \n",
       "Angola      -11.202692   17.873887  \n",
       "...                ...         ...  \n",
       "Venezuela     6.423750  -66.589730  \n",
       "Vietnam      14.058324  108.277199  \n",
       "Yemen        15.552727   48.516388  \n",
       "Zambia      -13.133897   27.849332  \n",
       "Zimbabwe    -19.015438   29.154857  \n",
       "\n",
       "[195 rows x 34 columns]"
      ]
     },
     "execution_count": 86,
     "metadata": {},
     "output_type": "execute_result"
    }
   ],
   "source": [
    "df"
   ]
  },
  {
   "cell_type": "markdown",
   "metadata": {
    "id": "hZd5rtUy0RQh"
   },
   "source": [
    "Выведем первые 3 строки датасета с помощью команды `df.head(3)`."
   ]
  },
  {
   "cell_type": "code",
   "execution_count": 87,
   "metadata": {
    "colab": {
     "base_uri": "https://localhost:8080/",
     "height": 317
    },
    "id": "Cx08f8kcwMib",
    "outputId": "a859869d-40a9-4894-c3c3-1136f28871e6"
   },
   "outputs": [
    {
     "data": {
      "text/html": [
       "<div>\n",
       "<style scoped>\n",
       "    .dataframe tbody tr th:only-of-type {\n",
       "        vertical-align: middle;\n",
       "    }\n",
       "\n",
       "    .dataframe tbody tr th {\n",
       "        vertical-align: top;\n",
       "    }\n",
       "\n",
       "    .dataframe thead th {\n",
       "        text-align: right;\n",
       "    }\n",
       "</style>\n",
       "<table border=\"1\" class=\"dataframe\">\n",
       "  <thead>\n",
       "    <tr style=\"text-align: right;\">\n",
       "      <th></th>\n",
       "      <th>Density\\n(P/Km2)</th>\n",
       "      <th>Abbreviation</th>\n",
       "      <th>Agricultural Land( %)</th>\n",
       "      <th>Land Area(Km2)</th>\n",
       "      <th>Armed Forces size</th>\n",
       "      <th>Birth Rate</th>\n",
       "      <th>Calling Code</th>\n",
       "      <th>Capital/Major City</th>\n",
       "      <th>Co2-Emissions</th>\n",
       "      <th>CPI</th>\n",
       "      <th>...</th>\n",
       "      <th>Out of pocket health expenditure</th>\n",
       "      <th>Physicians per thousand</th>\n",
       "      <th>Population</th>\n",
       "      <th>Population: Labor force participation (%)</th>\n",
       "      <th>Tax revenue (%)</th>\n",
       "      <th>Total tax rate</th>\n",
       "      <th>Unemployment rate</th>\n",
       "      <th>Urban_population</th>\n",
       "      <th>Latitude</th>\n",
       "      <th>Longitude</th>\n",
       "    </tr>\n",
       "    <tr>\n",
       "      <th>Country</th>\n",
       "      <th></th>\n",
       "      <th></th>\n",
       "      <th></th>\n",
       "      <th></th>\n",
       "      <th></th>\n",
       "      <th></th>\n",
       "      <th></th>\n",
       "      <th></th>\n",
       "      <th></th>\n",
       "      <th></th>\n",
       "      <th></th>\n",
       "      <th></th>\n",
       "      <th></th>\n",
       "      <th></th>\n",
       "      <th></th>\n",
       "      <th></th>\n",
       "      <th></th>\n",
       "      <th></th>\n",
       "      <th></th>\n",
       "      <th></th>\n",
       "      <th></th>\n",
       "    </tr>\n",
       "  </thead>\n",
       "  <tbody>\n",
       "    <tr>\n",
       "      <th>Afghanistan</th>\n",
       "      <td>60</td>\n",
       "      <td>AF</td>\n",
       "      <td>58.10%</td>\n",
       "      <td>652,230</td>\n",
       "      <td>323,000</td>\n",
       "      <td>32.49</td>\n",
       "      <td>93.0</td>\n",
       "      <td>Kabul</td>\n",
       "      <td>8,672</td>\n",
       "      <td>149.9</td>\n",
       "      <td>...</td>\n",
       "      <td>78.40%</td>\n",
       "      <td>0.28</td>\n",
       "      <td>38,041,754</td>\n",
       "      <td>48.90%</td>\n",
       "      <td>9.30%</td>\n",
       "      <td>71.40%</td>\n",
       "      <td>11.12%</td>\n",
       "      <td>9,797,273</td>\n",
       "      <td>33.939110</td>\n",
       "      <td>67.709953</td>\n",
       "    </tr>\n",
       "    <tr>\n",
       "      <th>Albania</th>\n",
       "      <td>105</td>\n",
       "      <td>AL</td>\n",
       "      <td>43.10%</td>\n",
       "      <td>28,748</td>\n",
       "      <td>9,000</td>\n",
       "      <td>11.78</td>\n",
       "      <td>355.0</td>\n",
       "      <td>Tirana</td>\n",
       "      <td>4,536</td>\n",
       "      <td>119.05</td>\n",
       "      <td>...</td>\n",
       "      <td>56.90%</td>\n",
       "      <td>1.20</td>\n",
       "      <td>2,854,191</td>\n",
       "      <td>55.70%</td>\n",
       "      <td>18.60%</td>\n",
       "      <td>36.60%</td>\n",
       "      <td>12.33%</td>\n",
       "      <td>1,747,593</td>\n",
       "      <td>41.153332</td>\n",
       "      <td>20.168331</td>\n",
       "    </tr>\n",
       "    <tr>\n",
       "      <th>Algeria</th>\n",
       "      <td>18</td>\n",
       "      <td>DZ</td>\n",
       "      <td>17.40%</td>\n",
       "      <td>2,381,741</td>\n",
       "      <td>317,000</td>\n",
       "      <td>24.28</td>\n",
       "      <td>213.0</td>\n",
       "      <td>Algiers</td>\n",
       "      <td>150,006</td>\n",
       "      <td>151.36</td>\n",
       "      <td>...</td>\n",
       "      <td>28.10%</td>\n",
       "      <td>1.72</td>\n",
       "      <td>43,053,054</td>\n",
       "      <td>41.20%</td>\n",
       "      <td>37.20%</td>\n",
       "      <td>66.10%</td>\n",
       "      <td>11.70%</td>\n",
       "      <td>31,510,100</td>\n",
       "      <td>28.033886</td>\n",
       "      <td>1.659626</td>\n",
       "    </tr>\n",
       "  </tbody>\n",
       "</table>\n",
       "<p>3 rows × 34 columns</p>\n",
       "</div>"
      ],
      "text/plain": [
       "            Density\\n(P/Km2) Abbreviation Agricultural Land( %)  \\\n",
       "Country                                                           \n",
       "Afghanistan               60           AF                58.10%   \n",
       "Albania                  105           AL                43.10%   \n",
       "Algeria                   18           DZ                17.40%   \n",
       "\n",
       "            Land Area(Km2) Armed Forces size  Birth Rate  Calling Code  \\\n",
       "Country                                                                  \n",
       "Afghanistan        652,230           323,000       32.49          93.0   \n",
       "Albania             28,748             9,000       11.78         355.0   \n",
       "Algeria          2,381,741           317,000       24.28         213.0   \n",
       "\n",
       "            Capital/Major City Co2-Emissions     CPI  ...  \\\n",
       "Country                                               ...   \n",
       "Afghanistan              Kabul         8,672   149.9  ...   \n",
       "Albania                 Tirana         4,536  119.05  ...   \n",
       "Algeria                Algiers       150,006  151.36  ...   \n",
       "\n",
       "            Out of pocket health expenditure Physicians per thousand  \\\n",
       "Country                                                                \n",
       "Afghanistan                           78.40%                    0.28   \n",
       "Albania                               56.90%                    1.20   \n",
       "Algeria                               28.10%                    1.72   \n",
       "\n",
       "             Population Population: Labor force participation (%)  \\\n",
       "Country                                                             \n",
       "Afghanistan  38,041,754                                    48.90%   \n",
       "Albania       2,854,191                                    55.70%   \n",
       "Algeria      43,053,054                                    41.20%   \n",
       "\n",
       "            Tax revenue (%) Total tax rate Unemployment rate Urban_population  \\\n",
       "Country                                                                         \n",
       "Afghanistan           9.30%         71.40%            11.12%        9,797,273   \n",
       "Albania              18.60%         36.60%            12.33%        1,747,593   \n",
       "Algeria              37.20%         66.10%            11.70%       31,510,100   \n",
       "\n",
       "              Latitude  Longitude  \n",
       "Country                            \n",
       "Afghanistan  33.939110  67.709953  \n",
       "Albania      41.153332  20.168331  \n",
       "Algeria      28.033886   1.659626  \n",
       "\n",
       "[3 rows x 34 columns]"
      ]
     },
     "execution_count": 87,
     "metadata": {},
     "output_type": "execute_result"
    }
   ],
   "source": [
    "df.head(3)"
   ]
  },
  {
   "cell_type": "markdown",
   "metadata": {
    "id": "gDxYKcgd00ze"
   },
   "source": [
    "Аналогичным образом можно вывести последние 3 строки датасета с помощью команды `df.tail(3)`"
   ]
  },
  {
   "cell_type": "code",
   "execution_count": 88,
   "metadata": {
    "colab": {
     "base_uri": "https://localhost:8080/",
     "height": 317
    },
    "id": "T_CKJ41xwPCZ",
    "outputId": "bbfbee1b-afba-412f-c48f-0b0cd9fd58ed"
   },
   "outputs": [
    {
     "data": {
      "text/html": [
       "<div>\n",
       "<style scoped>\n",
       "    .dataframe tbody tr th:only-of-type {\n",
       "        vertical-align: middle;\n",
       "    }\n",
       "\n",
       "    .dataframe tbody tr th {\n",
       "        vertical-align: top;\n",
       "    }\n",
       "\n",
       "    .dataframe thead th {\n",
       "        text-align: right;\n",
       "    }\n",
       "</style>\n",
       "<table border=\"1\" class=\"dataframe\">\n",
       "  <thead>\n",
       "    <tr style=\"text-align: right;\">\n",
       "      <th></th>\n",
       "      <th>Density\\n(P/Km2)</th>\n",
       "      <th>Abbreviation</th>\n",
       "      <th>Agricultural Land( %)</th>\n",
       "      <th>Land Area(Km2)</th>\n",
       "      <th>Armed Forces size</th>\n",
       "      <th>Birth Rate</th>\n",
       "      <th>Calling Code</th>\n",
       "      <th>Capital/Major City</th>\n",
       "      <th>Co2-Emissions</th>\n",
       "      <th>CPI</th>\n",
       "      <th>...</th>\n",
       "      <th>Out of pocket health expenditure</th>\n",
       "      <th>Physicians per thousand</th>\n",
       "      <th>Population</th>\n",
       "      <th>Population: Labor force participation (%)</th>\n",
       "      <th>Tax revenue (%)</th>\n",
       "      <th>Total tax rate</th>\n",
       "      <th>Unemployment rate</th>\n",
       "      <th>Urban_population</th>\n",
       "      <th>Latitude</th>\n",
       "      <th>Longitude</th>\n",
       "    </tr>\n",
       "    <tr>\n",
       "      <th>Country</th>\n",
       "      <th></th>\n",
       "      <th></th>\n",
       "      <th></th>\n",
       "      <th></th>\n",
       "      <th></th>\n",
       "      <th></th>\n",
       "      <th></th>\n",
       "      <th></th>\n",
       "      <th></th>\n",
       "      <th></th>\n",
       "      <th></th>\n",
       "      <th></th>\n",
       "      <th></th>\n",
       "      <th></th>\n",
       "      <th></th>\n",
       "      <th></th>\n",
       "      <th></th>\n",
       "      <th></th>\n",
       "      <th></th>\n",
       "      <th></th>\n",
       "      <th></th>\n",
       "    </tr>\n",
       "  </thead>\n",
       "  <tbody>\n",
       "    <tr>\n",
       "      <th>Yemen</th>\n",
       "      <td>56</td>\n",
       "      <td>YE</td>\n",
       "      <td>44.60%</td>\n",
       "      <td>527,968</td>\n",
       "      <td>40,000</td>\n",
       "      <td>30.45</td>\n",
       "      <td>967.0</td>\n",
       "      <td>Sanaa</td>\n",
       "      <td>10,609</td>\n",
       "      <td>157.58</td>\n",
       "      <td>...</td>\n",
       "      <td>81.00%</td>\n",
       "      <td>0.31</td>\n",
       "      <td>29,161,922</td>\n",
       "      <td>38.00%</td>\n",
       "      <td>NaN</td>\n",
       "      <td>26.60%</td>\n",
       "      <td>12.91%</td>\n",
       "      <td>10,869,523</td>\n",
       "      <td>15.552727</td>\n",
       "      <td>48.516388</td>\n",
       "    </tr>\n",
       "    <tr>\n",
       "      <th>Zambia</th>\n",
       "      <td>25</td>\n",
       "      <td>ZM</td>\n",
       "      <td>32.10%</td>\n",
       "      <td>752,618</td>\n",
       "      <td>16,000</td>\n",
       "      <td>36.19</td>\n",
       "      <td>260.0</td>\n",
       "      <td>Lusaka</td>\n",
       "      <td>5,141</td>\n",
       "      <td>212.31</td>\n",
       "      <td>...</td>\n",
       "      <td>27.50%</td>\n",
       "      <td>1.19</td>\n",
       "      <td>17,861,030</td>\n",
       "      <td>74.60%</td>\n",
       "      <td>16.20%</td>\n",
       "      <td>15.60%</td>\n",
       "      <td>11.43%</td>\n",
       "      <td>7,871,713</td>\n",
       "      <td>-13.133897</td>\n",
       "      <td>27.849332</td>\n",
       "    </tr>\n",
       "    <tr>\n",
       "      <th>Zimbabwe</th>\n",
       "      <td>38</td>\n",
       "      <td>ZW</td>\n",
       "      <td>41.90%</td>\n",
       "      <td>390,757</td>\n",
       "      <td>51,000</td>\n",
       "      <td>30.68</td>\n",
       "      <td>263.0</td>\n",
       "      <td>Harare</td>\n",
       "      <td>10,983</td>\n",
       "      <td>105.51</td>\n",
       "      <td>...</td>\n",
       "      <td>25.80%</td>\n",
       "      <td>0.21</td>\n",
       "      <td>14,645,468</td>\n",
       "      <td>83.10%</td>\n",
       "      <td>20.70%</td>\n",
       "      <td>31.60%</td>\n",
       "      <td>4.95%</td>\n",
       "      <td>4,717,305</td>\n",
       "      <td>-19.015438</td>\n",
       "      <td>29.154857</td>\n",
       "    </tr>\n",
       "  </tbody>\n",
       "</table>\n",
       "<p>3 rows × 34 columns</p>\n",
       "</div>"
      ],
      "text/plain": [
       "         Density\\n(P/Km2) Abbreviation Agricultural Land( %) Land Area(Km2)  \\\n",
       "Country                                                                       \n",
       "Yemen                  56           YE                44.60%        527,968   \n",
       "Zambia                 25           ZM                32.10%        752,618   \n",
       "Zimbabwe               38           ZW                41.90%        390,757   \n",
       "\n",
       "         Armed Forces size  Birth Rate  Calling Code Capital/Major City  \\\n",
       "Country                                                                   \n",
       "Yemen               40,000       30.45         967.0              Sanaa   \n",
       "Zambia              16,000       36.19         260.0             Lusaka   \n",
       "Zimbabwe            51,000       30.68         263.0             Harare   \n",
       "\n",
       "         Co2-Emissions     CPI  ... Out of pocket health expenditure  \\\n",
       "Country                         ...                                    \n",
       "Yemen           10,609  157.58  ...                           81.00%   \n",
       "Zambia           5,141  212.31  ...                           27.50%   \n",
       "Zimbabwe        10,983  105.51  ...                           25.80%   \n",
       "\n",
       "         Physicians per thousand  Population  \\\n",
       "Country                                        \n",
       "Yemen                       0.31  29,161,922   \n",
       "Zambia                      1.19  17,861,030   \n",
       "Zimbabwe                    0.21  14,645,468   \n",
       "\n",
       "         Population: Labor force participation (%) Tax revenue (%)  \\\n",
       "Country                                                              \n",
       "Yemen                                       38.00%             NaN   \n",
       "Zambia                                      74.60%          16.20%   \n",
       "Zimbabwe                                    83.10%          20.70%   \n",
       "\n",
       "         Total tax rate Unemployment rate Urban_population   Latitude  \\\n",
       "Country                                                                 \n",
       "Yemen            26.60%            12.91%       10,869,523  15.552727   \n",
       "Zambia           15.60%            11.43%        7,871,713 -13.133897   \n",
       "Zimbabwe         31.60%             4.95%        4,717,305 -19.015438   \n",
       "\n",
       "          Longitude  \n",
       "Country              \n",
       "Yemen     48.516388  \n",
       "Zambia    27.849332  \n",
       "Zimbabwe  29.154857  \n",
       "\n",
       "[3 rows x 34 columns]"
      ]
     },
     "execution_count": 88,
     "metadata": {},
     "output_type": "execute_result"
    }
   ],
   "source": [
    "df.tail(3)"
   ]
  },
  {
   "cell_type": "markdown",
   "metadata": {
    "id": "_fBgM5Z41A69"
   },
   "source": [
    "Иногда датасеты бывают огромными, а потому в них очень сложно ориентироваться и находить информацию о том\n",
    "\n",
    "*   сколько пустых значений(`NaN`) есть в `DataFrame`?\n",
    "\n",
    "*   данные какого типа вводятся в каждом конкретном столбце?\n",
    "\n",
    "*   сколько весит датасет?\n",
    "\n",
    "Для этих целей есть метод `df.info()`\n",
    "\n"
   ]
  },
  {
   "cell_type": "code",
   "execution_count": 89,
   "metadata": {
    "colab": {
     "base_uri": "https://localhost:8080/"
    },
    "id": "m9wdXgvRwQVA",
    "outputId": "ea277c58-e9be-44ee-8e22-41c840934095"
   },
   "outputs": [
    {
     "name": "stdout",
     "output_type": "stream",
     "text": [
      "<class 'pandas.core.frame.DataFrame'>\n",
      "Index: 195 entries, Afghanistan to Zimbabwe\n",
      "Data columns (total 34 columns):\n",
      " #   Column                                     Non-Null Count  Dtype  \n",
      "---  ------                                     --------------  -----  \n",
      " 0   Density\n",
      "(P/Km2)                            195 non-null    object \n",
      " 1   Abbreviation                               188 non-null    object \n",
      " 2   Agricultural Land( %)                      188 non-null    object \n",
      " 3   Land Area(Km2)                             194 non-null    object \n",
      " 4   Armed Forces size                          171 non-null    object \n",
      " 5   Birth Rate                                 189 non-null    float64\n",
      " 6   Calling Code                               194 non-null    float64\n",
      " 7   Capital/Major City                         192 non-null    object \n",
      " 8   Co2-Emissions                              188 non-null    object \n",
      " 9   CPI                                        178 non-null    object \n",
      " 10  CPI Change (%)                             179 non-null    object \n",
      " 11  Currency-Code                              180 non-null    object \n",
      " 12  Fertility Rate                             188 non-null    float64\n",
      " 13  Forested Area (%)                          188 non-null    object \n",
      " 14  Gasoline Price                             175 non-null    object \n",
      " 15  GDP                                        193 non-null    object \n",
      " 16  Gross primary education enrollment (%)     188 non-null    object \n",
      " 17  Gross tertiary education enrollment (%)    183 non-null    object \n",
      " 18  Infant mortality                           189 non-null    float64\n",
      " 19  Largest city                               189 non-null    object \n",
      " 20  Life expectancy                            187 non-null    float64\n",
      " 21  Maternal mortality ratio                   181 non-null    float64\n",
      " 22  Minimum wage                               150 non-null    object \n",
      " 23  Official language                          190 non-null    object \n",
      " 24  Out of pocket health expenditure           188 non-null    object \n",
      " 25  Physicians per thousand                    188 non-null    float64\n",
      " 26  Population                                 194 non-null    object \n",
      " 27  Population: Labor force participation (%)  176 non-null    object \n",
      " 28  Tax revenue (%)                            169 non-null    object \n",
      " 29  Total tax rate                             183 non-null    object \n",
      " 30  Unemployment rate                          176 non-null    object \n",
      " 31  Urban_population                           190 non-null    object \n",
      " 32  Latitude                                   194 non-null    float64\n",
      " 33  Longitude                                  194 non-null    float64\n",
      "dtypes: float64(9), object(25)\n",
      "memory usage: 53.3+ KB\n"
     ]
    }
   ],
   "source": [
    "df.info()"
   ]
  },
  {
   "cell_type": "code",
   "execution_count": 90,
   "metadata": {
    "colab": {
     "base_uri": "https://localhost:8080/"
    },
    "id": "ihDcWU0gwR02",
    "outputId": "8aca5e07-a705-4a4b-b27a-6f2f234fd422"
   },
   "outputs": [
    {
     "data": {
      "text/plain": [
       "195"
      ]
     },
     "execution_count": 90,
     "metadata": {},
     "output_type": "execute_result"
    }
   ],
   "source": [
    "# Также длину датасета можно узнать с помощью len()\n",
    "len(df)"
   ]
  },
  {
   "cell_type": "code",
   "execution_count": 91,
   "metadata": {
    "colab": {
     "base_uri": "https://localhost:8080/"
    },
    "id": "ZUdbjMB_3KBq",
    "outputId": "7913d5c9-d202-4a3a-dbb7-2b5f347687c0"
   },
   "outputs": [
    {
     "data": {
      "text/plain": [
       "(195, 34)"
      ]
     },
     "execution_count": 91,
     "metadata": {},
     "output_type": "execute_result"
    }
   ],
   "source": [
    "# Или с помощью df.shape, который выведет число строк и столбцов\n",
    "df.shape"
   ]
  },
  {
   "cell_type": "markdown",
   "metadata": {
    "id": "uy701gyG3ViF"
   },
   "source": [
    "Для столбцов с численными данными можно вывести описательную статистику:\n",
    "\n",
    "*   *count* - Число ненулевых значений.\n",
    "*   *mean* - Среднее значение.\n",
    "*   *std* - Стандартное отклонение.\n",
    "*   *min* - Минимальное значение.\n",
    "*   *25%* - Нижний процентиль\n",
    "*   *50%* - 50% процентиль (совпадает с медианой).\n",
    "*   *75%* - Верхний процентиль.\n",
    "*   *max* - Максимальное значение.\n"
   ]
  },
  {
   "cell_type": "code",
   "execution_count": 92,
   "metadata": {
    "colab": {
     "base_uri": "https://localhost:8080/",
     "height": 358
    },
    "id": "KXFQBrKtwS6f",
    "outputId": "dccb3d7e-28da-4b13-892e-826467d564ab"
   },
   "outputs": [
    {
     "data": {
      "text/html": [
       "<div>\n",
       "<style scoped>\n",
       "    .dataframe tbody tr th:only-of-type {\n",
       "        vertical-align: middle;\n",
       "    }\n",
       "\n",
       "    .dataframe tbody tr th {\n",
       "        vertical-align: top;\n",
       "    }\n",
       "\n",
       "    .dataframe thead th {\n",
       "        text-align: right;\n",
       "    }\n",
       "</style>\n",
       "<table border=\"1\" class=\"dataframe\">\n",
       "  <thead>\n",
       "    <tr style=\"text-align: right;\">\n",
       "      <th></th>\n",
       "      <th>Birth Rate</th>\n",
       "      <th>Calling Code</th>\n",
       "      <th>Fertility Rate</th>\n",
       "      <th>Infant mortality</th>\n",
       "      <th>Life expectancy</th>\n",
       "      <th>Maternal mortality ratio</th>\n",
       "      <th>Physicians per thousand</th>\n",
       "      <th>Latitude</th>\n",
       "      <th>Longitude</th>\n",
       "    </tr>\n",
       "  </thead>\n",
       "  <tbody>\n",
       "    <tr>\n",
       "      <th>count</th>\n",
       "      <td>189.000000</td>\n",
       "      <td>194.000000</td>\n",
       "      <td>188.000000</td>\n",
       "      <td>189.000000</td>\n",
       "      <td>187.000000</td>\n",
       "      <td>181.000000</td>\n",
       "      <td>188.000000</td>\n",
       "      <td>194.000000</td>\n",
       "      <td>194.000000</td>\n",
       "    </tr>\n",
       "    <tr>\n",
       "      <th>mean</th>\n",
       "      <td>20.214974</td>\n",
       "      <td>360.546392</td>\n",
       "      <td>2.698138</td>\n",
       "      <td>21.332804</td>\n",
       "      <td>72.279679</td>\n",
       "      <td>160.392265</td>\n",
       "      <td>1.839840</td>\n",
       "      <td>19.092351</td>\n",
       "      <td>20.232434</td>\n",
       "    </tr>\n",
       "    <tr>\n",
       "      <th>std</th>\n",
       "      <td>9.945774</td>\n",
       "      <td>323.236419</td>\n",
       "      <td>1.282267</td>\n",
       "      <td>19.548058</td>\n",
       "      <td>7.483661</td>\n",
       "      <td>233.502024</td>\n",
       "      <td>1.684261</td>\n",
       "      <td>23.961779</td>\n",
       "      <td>66.716110</td>\n",
       "    </tr>\n",
       "    <tr>\n",
       "      <th>min</th>\n",
       "      <td>5.900000</td>\n",
       "      <td>1.000000</td>\n",
       "      <td>0.980000</td>\n",
       "      <td>1.400000</td>\n",
       "      <td>52.800000</td>\n",
       "      <td>2.000000</td>\n",
       "      <td>0.010000</td>\n",
       "      <td>-40.900557</td>\n",
       "      <td>-175.198242</td>\n",
       "    </tr>\n",
       "    <tr>\n",
       "      <th>25%</th>\n",
       "      <td>11.300000</td>\n",
       "      <td>82.500000</td>\n",
       "      <td>1.705000</td>\n",
       "      <td>6.000000</td>\n",
       "      <td>67.000000</td>\n",
       "      <td>13.000000</td>\n",
       "      <td>0.332500</td>\n",
       "      <td>4.544175</td>\n",
       "      <td>-7.941496</td>\n",
       "    </tr>\n",
       "    <tr>\n",
       "      <th>50%</th>\n",
       "      <td>17.950000</td>\n",
       "      <td>255.500000</td>\n",
       "      <td>2.245000</td>\n",
       "      <td>14.000000</td>\n",
       "      <td>73.200000</td>\n",
       "      <td>53.000000</td>\n",
       "      <td>1.460000</td>\n",
       "      <td>17.273849</td>\n",
       "      <td>20.972652</td>\n",
       "    </tr>\n",
       "    <tr>\n",
       "      <th>75%</th>\n",
       "      <td>28.750000</td>\n",
       "      <td>506.750000</td>\n",
       "      <td>3.597500</td>\n",
       "      <td>32.700000</td>\n",
       "      <td>77.500000</td>\n",
       "      <td>186.000000</td>\n",
       "      <td>2.935000</td>\n",
       "      <td>40.124603</td>\n",
       "      <td>48.281523</td>\n",
       "    </tr>\n",
       "    <tr>\n",
       "      <th>max</th>\n",
       "      <td>46.080000</td>\n",
       "      <td>1876.000000</td>\n",
       "      <td>6.910000</td>\n",
       "      <td>84.500000</td>\n",
       "      <td>85.400000</td>\n",
       "      <td>1150.000000</td>\n",
       "      <td>8.420000</td>\n",
       "      <td>64.963051</td>\n",
       "      <td>178.065032</td>\n",
       "    </tr>\n",
       "  </tbody>\n",
       "</table>\n",
       "</div>"
      ],
      "text/plain": [
       "       Birth Rate  Calling Code  Fertility Rate  Infant mortality  \\\n",
       "count  189.000000    194.000000      188.000000        189.000000   \n",
       "mean    20.214974    360.546392        2.698138         21.332804   \n",
       "std      9.945774    323.236419        1.282267         19.548058   \n",
       "min      5.900000      1.000000        0.980000          1.400000   \n",
       "25%     11.300000     82.500000        1.705000          6.000000   \n",
       "50%     17.950000    255.500000        2.245000         14.000000   \n",
       "75%     28.750000    506.750000        3.597500         32.700000   \n",
       "max     46.080000   1876.000000        6.910000         84.500000   \n",
       "\n",
       "       Life expectancy  Maternal mortality ratio  Physicians per thousand  \\\n",
       "count       187.000000                181.000000               188.000000   \n",
       "mean         72.279679                160.392265                 1.839840   \n",
       "std           7.483661                233.502024                 1.684261   \n",
       "min          52.800000                  2.000000                 0.010000   \n",
       "25%          67.000000                 13.000000                 0.332500   \n",
       "50%          73.200000                 53.000000                 1.460000   \n",
       "75%          77.500000                186.000000                 2.935000   \n",
       "max          85.400000               1150.000000                 8.420000   \n",
       "\n",
       "         Latitude   Longitude  \n",
       "count  194.000000  194.000000  \n",
       "mean    19.092351   20.232434  \n",
       "std     23.961779   66.716110  \n",
       "min    -40.900557 -175.198242  \n",
       "25%      4.544175   -7.941496  \n",
       "50%     17.273849   20.972652  \n",
       "75%     40.124603   48.281523  \n",
       "max     64.963051  178.065032  "
      ]
     },
     "execution_count": 92,
     "metadata": {},
     "output_type": "execute_result"
    }
   ],
   "source": [
    "df.describe()"
   ]
  },
  {
   "cell_type": "code",
   "execution_count": 93,
   "metadata": {
    "colab": {
     "base_uri": "https://localhost:8080/",
     "height": 328
    },
    "id": "5SEn4K76wUgm",
    "outputId": "13201465-591e-44ce-b0b2-fe11eb68324c"
   },
   "outputs": [
    {
     "data": {
      "text/html": [
       "<div>\n",
       "<style scoped>\n",
       "    .dataframe tbody tr th:only-of-type {\n",
       "        vertical-align: middle;\n",
       "    }\n",
       "\n",
       "    .dataframe tbody tr th {\n",
       "        vertical-align: top;\n",
       "    }\n",
       "\n",
       "    .dataframe thead th {\n",
       "        text-align: right;\n",
       "    }\n",
       "</style>\n",
       "<table border=\"1\" class=\"dataframe\">\n",
       "  <thead>\n",
       "    <tr style=\"text-align: right;\">\n",
       "      <th></th>\n",
       "      <th>count</th>\n",
       "      <th>mean</th>\n",
       "      <th>std</th>\n",
       "      <th>min</th>\n",
       "      <th>25%</th>\n",
       "      <th>50%</th>\n",
       "      <th>75%</th>\n",
       "      <th>max</th>\n",
       "    </tr>\n",
       "  </thead>\n",
       "  <tbody>\n",
       "    <tr>\n",
       "      <th>Birth Rate</th>\n",
       "      <td>189.0</td>\n",
       "      <td>20.214974</td>\n",
       "      <td>9.945774</td>\n",
       "      <td>5.900000</td>\n",
       "      <td>11.300000</td>\n",
       "      <td>17.950000</td>\n",
       "      <td>28.750000</td>\n",
       "      <td>46.080000</td>\n",
       "    </tr>\n",
       "    <tr>\n",
       "      <th>Calling Code</th>\n",
       "      <td>194.0</td>\n",
       "      <td>360.546392</td>\n",
       "      <td>323.236419</td>\n",
       "      <td>1.000000</td>\n",
       "      <td>82.500000</td>\n",
       "      <td>255.500000</td>\n",
       "      <td>506.750000</td>\n",
       "      <td>1876.000000</td>\n",
       "    </tr>\n",
       "    <tr>\n",
       "      <th>Fertility Rate</th>\n",
       "      <td>188.0</td>\n",
       "      <td>2.698138</td>\n",
       "      <td>1.282267</td>\n",
       "      <td>0.980000</td>\n",
       "      <td>1.705000</td>\n",
       "      <td>2.245000</td>\n",
       "      <td>3.597500</td>\n",
       "      <td>6.910000</td>\n",
       "    </tr>\n",
       "    <tr>\n",
       "      <th>Infant mortality</th>\n",
       "      <td>189.0</td>\n",
       "      <td>21.332804</td>\n",
       "      <td>19.548058</td>\n",
       "      <td>1.400000</td>\n",
       "      <td>6.000000</td>\n",
       "      <td>14.000000</td>\n",
       "      <td>32.700000</td>\n",
       "      <td>84.500000</td>\n",
       "    </tr>\n",
       "    <tr>\n",
       "      <th>Life expectancy</th>\n",
       "      <td>187.0</td>\n",
       "      <td>72.279679</td>\n",
       "      <td>7.483661</td>\n",
       "      <td>52.800000</td>\n",
       "      <td>67.000000</td>\n",
       "      <td>73.200000</td>\n",
       "      <td>77.500000</td>\n",
       "      <td>85.400000</td>\n",
       "    </tr>\n",
       "    <tr>\n",
       "      <th>Maternal mortality ratio</th>\n",
       "      <td>181.0</td>\n",
       "      <td>160.392265</td>\n",
       "      <td>233.502024</td>\n",
       "      <td>2.000000</td>\n",
       "      <td>13.000000</td>\n",
       "      <td>53.000000</td>\n",
       "      <td>186.000000</td>\n",
       "      <td>1150.000000</td>\n",
       "    </tr>\n",
       "    <tr>\n",
       "      <th>Physicians per thousand</th>\n",
       "      <td>188.0</td>\n",
       "      <td>1.839840</td>\n",
       "      <td>1.684261</td>\n",
       "      <td>0.010000</td>\n",
       "      <td>0.332500</td>\n",
       "      <td>1.460000</td>\n",
       "      <td>2.935000</td>\n",
       "      <td>8.420000</td>\n",
       "    </tr>\n",
       "    <tr>\n",
       "      <th>Latitude</th>\n",
       "      <td>194.0</td>\n",
       "      <td>19.092351</td>\n",
       "      <td>23.961779</td>\n",
       "      <td>-40.900557</td>\n",
       "      <td>4.544175</td>\n",
       "      <td>17.273849</td>\n",
       "      <td>40.124603</td>\n",
       "      <td>64.963051</td>\n",
       "    </tr>\n",
       "    <tr>\n",
       "      <th>Longitude</th>\n",
       "      <td>194.0</td>\n",
       "      <td>20.232434</td>\n",
       "      <td>66.716110</td>\n",
       "      <td>-175.198242</td>\n",
       "      <td>-7.941496</td>\n",
       "      <td>20.972652</td>\n",
       "      <td>48.281523</td>\n",
       "      <td>178.065032</td>\n",
       "    </tr>\n",
       "  </tbody>\n",
       "</table>\n",
       "</div>"
      ],
      "text/plain": [
       "                          count        mean         std         min  \\\n",
       "Birth Rate                189.0   20.214974    9.945774    5.900000   \n",
       "Calling Code              194.0  360.546392  323.236419    1.000000   \n",
       "Fertility Rate            188.0    2.698138    1.282267    0.980000   \n",
       "Infant mortality          189.0   21.332804   19.548058    1.400000   \n",
       "Life expectancy           187.0   72.279679    7.483661   52.800000   \n",
       "Maternal mortality ratio  181.0  160.392265  233.502024    2.000000   \n",
       "Physicians per thousand   188.0    1.839840    1.684261    0.010000   \n",
       "Latitude                  194.0   19.092351   23.961779  -40.900557   \n",
       "Longitude                 194.0   20.232434   66.716110 -175.198242   \n",
       "\n",
       "                                25%         50%         75%          max  \n",
       "Birth Rate                11.300000   17.950000   28.750000    46.080000  \n",
       "Calling Code              82.500000  255.500000  506.750000  1876.000000  \n",
       "Fertility Rate             1.705000    2.245000    3.597500     6.910000  \n",
       "Infant mortality           6.000000   14.000000   32.700000    84.500000  \n",
       "Life expectancy           67.000000   73.200000   77.500000    85.400000  \n",
       "Maternal mortality ratio  13.000000   53.000000  186.000000  1150.000000  \n",
       "Physicians per thousand    0.332500    1.460000    2.935000     8.420000  \n",
       "Latitude                   4.544175   17.273849   40.124603    64.963051  \n",
       "Longitude                 -7.941496   20.972652   48.281523   178.065032  "
      ]
     },
     "execution_count": 93,
     "metadata": {},
     "output_type": "execute_result"
    }
   ],
   "source": [
    "#Иногда для простоты можно транспонировать DataFrame\n",
    "df.describe().transpose()"
   ]
  },
  {
   "cell_type": "markdown",
   "metadata": {
    "id": "mgRKU5JdqZ8U"
   },
   "source": [
    "### **[Задание 9]**\n",
    "\n",
    "Вам необходимо загрузить датасет, который мы приложили к материалам, с информацией о различных макроэкономических, социальных и демографических показателях для различных стран и вывести базовые статистические характеристики для каждого столбца (минимум 3 штуки).\n"
   ]
  },
  {
   "cell_type": "code",
   "execution_count": 52,
   "metadata": {
    "colab": {
     "base_uri": "https://localhost:8080/"
    },
    "id": "1BeMwDBKqnUN",
    "outputId": "8ca9f868-1cd1-44c8-dd79-26e78ffdbf79"
   },
   "outputs": [
    {
     "data": {
      "text/html": [
       "<div>\n",
       "<style scoped>\n",
       "    .dataframe tbody tr th:only-of-type {\n",
       "        vertical-align: middle;\n",
       "    }\n",
       "\n",
       "    .dataframe tbody tr th {\n",
       "        vertical-align: top;\n",
       "    }\n",
       "\n",
       "    .dataframe thead th {\n",
       "        text-align: right;\n",
       "    }\n",
       "</style>\n",
       "<table border=\"1\" class=\"dataframe\">\n",
       "  <thead>\n",
       "    <tr style=\"text-align: right;\">\n",
       "      <th></th>\n",
       "      <th>Birth Rate</th>\n",
       "      <th>Calling Code</th>\n",
       "      <th>Fertility Rate</th>\n",
       "      <th>Infant mortality</th>\n",
       "    </tr>\n",
       "  </thead>\n",
       "  <tbody>\n",
       "    <tr>\n",
       "      <th>count</th>\n",
       "      <td>189.000000</td>\n",
       "      <td>194.000000</td>\n",
       "      <td>188.000000</td>\n",
       "      <td>189.000000</td>\n",
       "    </tr>\n",
       "    <tr>\n",
       "      <th>mean</th>\n",
       "      <td>20.214974</td>\n",
       "      <td>360.546392</td>\n",
       "      <td>2.698138</td>\n",
       "      <td>21.332804</td>\n",
       "    </tr>\n",
       "    <tr>\n",
       "      <th>std</th>\n",
       "      <td>9.945774</td>\n",
       "      <td>323.236419</td>\n",
       "      <td>1.282267</td>\n",
       "      <td>19.548058</td>\n",
       "    </tr>\n",
       "    <tr>\n",
       "      <th>min</th>\n",
       "      <td>5.900000</td>\n",
       "      <td>1.000000</td>\n",
       "      <td>0.980000</td>\n",
       "      <td>1.400000</td>\n",
       "    </tr>\n",
       "    <tr>\n",
       "      <th>25%</th>\n",
       "      <td>11.300000</td>\n",
       "      <td>82.500000</td>\n",
       "      <td>1.705000</td>\n",
       "      <td>6.000000</td>\n",
       "    </tr>\n",
       "    <tr>\n",
       "      <th>50%</th>\n",
       "      <td>17.950000</td>\n",
       "      <td>255.500000</td>\n",
       "      <td>2.245000</td>\n",
       "      <td>14.000000</td>\n",
       "    </tr>\n",
       "    <tr>\n",
       "      <th>75%</th>\n",
       "      <td>28.750000</td>\n",
       "      <td>506.750000</td>\n",
       "      <td>3.597500</td>\n",
       "      <td>32.700000</td>\n",
       "    </tr>\n",
       "    <tr>\n",
       "      <th>max</th>\n",
       "      <td>46.080000</td>\n",
       "      <td>1876.000000</td>\n",
       "      <td>6.910000</td>\n",
       "      <td>84.500000</td>\n",
       "    </tr>\n",
       "  </tbody>\n",
       "</table>\n",
       "</div>"
      ],
      "text/plain": [
       "       Birth Rate  Calling Code  Fertility Rate  Infant mortality\n",
       "count  189.000000    194.000000      188.000000        189.000000\n",
       "mean    20.214974    360.546392        2.698138         21.332804\n",
       "std      9.945774    323.236419        1.282267         19.548058\n",
       "min      5.900000      1.000000        0.980000          1.400000\n",
       "25%     11.300000     82.500000        1.705000          6.000000\n",
       "50%     17.950000    255.500000        2.245000         14.000000\n",
       "75%     28.750000    506.750000        3.597500         32.700000\n",
       "max     46.080000   1876.000000        6.910000         84.500000"
      ]
     },
     "execution_count": 52,
     "metadata": {},
     "output_type": "execute_result"
    }
   ],
   "source": [
    "#Ваш код\n",
    "my_df = df[['Birth Rate', 'Calling Code', 'Fertility Rate', 'Infant mortality']].describe()\n",
    "my_df2 = df[['Life expectancy',  'Maternal mortality ratio',  'Physicians per thousand']].describe()\n",
    "my_df\n",
    "#my_df2"
   ]
  },
  {
   "cell_type": "markdown",
   "metadata": {
    "id": "uxqfBduo9PNI"
   },
   "source": [
    "### Получение данных по столбцам"
   ]
  },
  {
   "cell_type": "markdown",
   "metadata": {
    "id": "vbnQjJkL96wO"
   },
   "source": [
    "Получение данных по индексу в `DataFrame` эквивалентно для `Series`:"
   ]
  },
  {
   "cell_type": "code",
   "execution_count": 51,
   "metadata": {
    "colab": {
     "base_uri": "https://localhost:8080/"
    },
    "id": "7TumjnKfwX_I",
    "outputId": "a8f0fc6d-393b-4956-bc99-09bc78090639"
   },
   "outputs": [
    {
     "data": {
      "text/html": [
       "<div>\n",
       "<style scoped>\n",
       "    .dataframe tbody tr th:only-of-type {\n",
       "        vertical-align: middle;\n",
       "    }\n",
       "\n",
       "    .dataframe tbody tr th {\n",
       "        vertical-align: top;\n",
       "    }\n",
       "\n",
       "    .dataframe thead th {\n",
       "        text-align: right;\n",
       "    }\n",
       "</style>\n",
       "<table border=\"1\" class=\"dataframe\">\n",
       "  <thead>\n",
       "    <tr style=\"text-align: right;\">\n",
       "      <th></th>\n",
       "      <th>Life expectancy</th>\n",
       "    </tr>\n",
       "  </thead>\n",
       "  <tbody>\n",
       "    <tr>\n",
       "      <th>0</th>\n",
       "      <td>64.5</td>\n",
       "    </tr>\n",
       "    <tr>\n",
       "      <th>1</th>\n",
       "      <td>78.5</td>\n",
       "    </tr>\n",
       "    <tr>\n",
       "      <th>2</th>\n",
       "      <td>76.7</td>\n",
       "    </tr>\n",
       "    <tr>\n",
       "      <th>3</th>\n",
       "      <td>NaN</td>\n",
       "    </tr>\n",
       "    <tr>\n",
       "      <th>4</th>\n",
       "      <td>60.8</td>\n",
       "    </tr>\n",
       "    <tr>\n",
       "      <th>...</th>\n",
       "      <td>...</td>\n",
       "    </tr>\n",
       "    <tr>\n",
       "      <th>190</th>\n",
       "      <td>72.1</td>\n",
       "    </tr>\n",
       "    <tr>\n",
       "      <th>191</th>\n",
       "      <td>75.3</td>\n",
       "    </tr>\n",
       "    <tr>\n",
       "      <th>192</th>\n",
       "      <td>66.1</td>\n",
       "    </tr>\n",
       "    <tr>\n",
       "      <th>193</th>\n",
       "      <td>63.5</td>\n",
       "    </tr>\n",
       "    <tr>\n",
       "      <th>194</th>\n",
       "      <td>61.2</td>\n",
       "    </tr>\n",
       "  </tbody>\n",
       "</table>\n",
       "<p>195 rows × 1 columns</p>\n",
       "</div>"
      ],
      "text/plain": [
       "     Life expectancy\n",
       "0               64.5\n",
       "1               78.5\n",
       "2               76.7\n",
       "3                NaN\n",
       "4               60.8\n",
       "..               ...\n",
       "190             72.1\n",
       "191             75.3\n",
       "192             66.1\n",
       "193             63.5\n",
       "194             61.2\n",
       "\n",
       "[195 rows x 1 columns]"
      ]
     },
     "execution_count": 51,
     "metadata": {},
     "output_type": "execute_result"
    }
   ],
   "source": [
    "df[['Life expectancy']]"
   ]
  },
  {
   "cell_type": "code",
   "execution_count": 99,
   "metadata": {
    "colab": {
     "base_uri": "https://localhost:8080/"
    },
    "id": "LjlaSHKswZpl",
    "outputId": "61a952e0-90f9-4f90-d791-13f5db75e050"
   },
   "outputs": [
    {
     "data": {
      "text/plain": [
       "pandas.core.series.Series"
      ]
     },
     "execution_count": 99,
     "metadata": {},
     "output_type": "execute_result"
    }
   ],
   "source": [
    "#Полученный объект является Series\n",
    "type(df['Life expectancy'])"
   ]
  },
  {
   "cell_type": "code",
   "execution_count": 4,
   "metadata": {
    "colab": {
     "base_uri": "https://localhost:8080/",
     "height": 450
    },
    "id": "x7wi61ZvwbjR",
    "outputId": "5d7e06a3-a5c0-4d78-bb99-48d794836553"
   },
   "outputs": [
    {
     "data": {
      "text/html": [
       "<div>\n",
       "<style scoped>\n",
       "    .dataframe tbody tr th:only-of-type {\n",
       "        vertical-align: middle;\n",
       "    }\n",
       "\n",
       "    .dataframe tbody tr th {\n",
       "        vertical-align: top;\n",
       "    }\n",
       "\n",
       "    .dataframe thead th {\n",
       "        text-align: right;\n",
       "    }\n",
       "</style>\n",
       "<table border=\"1\" class=\"dataframe\">\n",
       "  <thead>\n",
       "    <tr style=\"text-align: right;\">\n",
       "      <th></th>\n",
       "      <th>Life expectancy</th>\n",
       "      <th>Calling Code</th>\n",
       "    </tr>\n",
       "  </thead>\n",
       "  <tbody>\n",
       "    <tr>\n",
       "      <th>0</th>\n",
       "      <td>64.5</td>\n",
       "      <td>93.0</td>\n",
       "    </tr>\n",
       "    <tr>\n",
       "      <th>1</th>\n",
       "      <td>78.5</td>\n",
       "      <td>355.0</td>\n",
       "    </tr>\n",
       "    <tr>\n",
       "      <th>2</th>\n",
       "      <td>76.7</td>\n",
       "      <td>213.0</td>\n",
       "    </tr>\n",
       "  </tbody>\n",
       "</table>\n",
       "</div>"
      ],
      "text/plain": [
       "   Life expectancy  Calling Code\n",
       "0             64.5          93.0\n",
       "1             78.5         355.0\n",
       "2             76.7         213.0"
      ]
     },
     "execution_count": 4,
     "metadata": {},
     "output_type": "execute_result"
    }
   ],
   "source": [
    "# Если вы хотите получить данные сразу из нескольких столбцов, то их названия нужно передать списком(list)\n",
    "# Поэтому здесь два набора квадратных скобок.\n",
    "df[['Life expectancy', 'Calling Code']].head(3)"
   ]
  },
  {
   "cell_type": "markdown",
   "metadata": {
    "id": "qFsUuZff_XZp"
   },
   "source": [
    "### Получение данных по строкам"
   ]
  },
  {
   "cell_type": "markdown",
   "metadata": {
    "id": "_Q_Ik4dW_boT"
   },
   "source": [
    "Есть два похожих метода, которые позволяют получать строки из `DataFrame` — `df.loc` и `df.iloc`. Они похожи, но отличаются тем, что `iloc` используется для получения строки по номеру(число), а `loc` — по названию."
   ]
  },
  {
   "cell_type": "code",
   "execution_count": 5,
   "metadata": {
    "colab": {
     "base_uri": "https://localhost:8080/"
    },
    "id": "jGjP9VtO_ide",
    "outputId": "9a418743-00e3-48e7-818e-6c532a142d71"
   },
   "outputs": [
    {
     "data": {
      "text/plain": [
       "Country                                           Afghanistan\n",
       "Density\\n(P/Km2)                                           60\n",
       "Abbreviation                                               AF\n",
       "Agricultural Land( %)                                  58.10%\n",
       "Land Area(Km2)                                        652,230\n",
       "Armed Forces size                                     323,000\n",
       "Birth Rate                                              32.49\n",
       "Calling Code                                             93.0\n",
       "Capital/Major City                                      Kabul\n",
       "Co2-Emissions                                           8,672\n",
       "CPI                                                     149.9\n",
       "CPI Change (%)                                          2.30%\n",
       "Currency-Code                                             AFN\n",
       "Fertility Rate                                           4.47\n",
       "Forested Area (%)                                       2.10%\n",
       "Gasoline Price                                         $0.70 \n",
       "GDP                                          $19,101,353,833 \n",
       "Gross primary education enrollment (%)                104.00%\n",
       "Gross tertiary education enrollment (%)                 9.70%\n",
       "Infant mortality                                         47.9\n",
       "Largest city                                            Kabul\n",
       "Life expectancy                                          64.5\n",
       "Maternal mortality ratio                                638.0\n",
       "Minimum wage                                           $0.43 \n",
       "Official language                                      Pashto\n",
       "Out of pocket health expenditure                       78.40%\n",
       "Physicians per thousand                                  0.28\n",
       "Population                                         38,041,754\n",
       "Population: Labor force participation (%)              48.90%\n",
       "Tax revenue (%)                                         9.30%\n",
       "Total tax rate                                         71.40%\n",
       "Unemployment rate                                      11.12%\n",
       "Urban_population                                    9,797,273\n",
       "Latitude                                             33.93911\n",
       "Longitude                                           67.709953\n",
       "Name: 0, dtype: object"
      ]
     },
     "execution_count": 5,
     "metadata": {},
     "output_type": "execute_result"
    }
   ],
   "source": [
    "# На основе номера строки - числа Integer\n",
    "df.iloc[0]"
   ]
  },
  {
   "cell_type": "markdown",
   "metadata": {
    "id": "CLx621QsBBf6"
   },
   "source": [
    "Если в датасете  индексы заданы строковыми значениями, то можно"
   ]
  },
  {
   "cell_type": "code",
   "execution_count": 48,
   "metadata": {
    "colab": {
     "base_uri": "https://localhost:8080/"
    },
    "id": "PhLx92ZR_mAO",
    "outputId": "0f885930-2630-42a9-bfd7-874188c66970"
   },
   "outputs": [
    {
     "ename": "KeyError",
     "evalue": "\"None of [Index(['Afghanistan'], dtype='object')] are in the [index]\"",
     "output_type": "error",
     "traceback": [
      "\u001b[0;31m---------------------------------------------------------------------------\u001b[0m",
      "\u001b[0;31mKeyError\u001b[0m                                  Traceback (most recent call last)",
      "Cell \u001b[0;32mIn[48], line 2\u001b[0m\n\u001b[1;32m      1\u001b[0m \u001b[38;5;66;03m# На основе названия (на основе значения колонки-индекса)\u001b[39;00m\n\u001b[0;32m----> 2\u001b[0m \u001b[43mdf\u001b[49m\u001b[38;5;241;43m.\u001b[39;49m\u001b[43mloc\u001b[49m\u001b[43m[\u001b[49m\u001b[43m[\u001b[49m\u001b[38;5;124;43m'\u001b[39;49m\u001b[38;5;124;43mAfghanistan\u001b[39;49m\u001b[38;5;124;43m'\u001b[39;49m\u001b[43m]\u001b[49m\u001b[43m]\u001b[49m\n",
      "File \u001b[0;32m/Library/Frameworks/Python.framework/Versions/3.11/lib/python3.11/site-packages/pandas/core/indexing.py:1153\u001b[0m, in \u001b[0;36m_LocationIndexer.__getitem__\u001b[0;34m(self, key)\u001b[0m\n\u001b[1;32m   1150\u001b[0m axis \u001b[38;5;241m=\u001b[39m \u001b[38;5;28mself\u001b[39m\u001b[38;5;241m.\u001b[39maxis \u001b[38;5;129;01mor\u001b[39;00m \u001b[38;5;241m0\u001b[39m\n\u001b[1;32m   1152\u001b[0m maybe_callable \u001b[38;5;241m=\u001b[39m com\u001b[38;5;241m.\u001b[39mapply_if_callable(key, \u001b[38;5;28mself\u001b[39m\u001b[38;5;241m.\u001b[39mobj)\n\u001b[0;32m-> 1153\u001b[0m \u001b[38;5;28;01mreturn\u001b[39;00m \u001b[38;5;28;43mself\u001b[39;49m\u001b[38;5;241;43m.\u001b[39;49m\u001b[43m_getitem_axis\u001b[49m\u001b[43m(\u001b[49m\u001b[43mmaybe_callable\u001b[49m\u001b[43m,\u001b[49m\u001b[43m \u001b[49m\u001b[43maxis\u001b[49m\u001b[38;5;241;43m=\u001b[39;49m\u001b[43maxis\u001b[49m\u001b[43m)\u001b[49m\n",
      "File \u001b[0;32m/Library/Frameworks/Python.framework/Versions/3.11/lib/python3.11/site-packages/pandas/core/indexing.py:1382\u001b[0m, in \u001b[0;36m_LocIndexer._getitem_axis\u001b[0;34m(self, key, axis)\u001b[0m\n\u001b[1;32m   1379\u001b[0m     \u001b[38;5;28;01mif\u001b[39;00m \u001b[38;5;28mhasattr\u001b[39m(key, \u001b[38;5;124m\"\u001b[39m\u001b[38;5;124mndim\u001b[39m\u001b[38;5;124m\"\u001b[39m) \u001b[38;5;129;01mand\u001b[39;00m key\u001b[38;5;241m.\u001b[39mndim \u001b[38;5;241m>\u001b[39m \u001b[38;5;241m1\u001b[39m:\n\u001b[1;32m   1380\u001b[0m         \u001b[38;5;28;01mraise\u001b[39;00m \u001b[38;5;167;01mValueError\u001b[39;00m(\u001b[38;5;124m\"\u001b[39m\u001b[38;5;124mCannot index with multidimensional key\u001b[39m\u001b[38;5;124m\"\u001b[39m)\n\u001b[0;32m-> 1382\u001b[0m     \u001b[38;5;28;01mreturn\u001b[39;00m \u001b[38;5;28;43mself\u001b[39;49m\u001b[38;5;241;43m.\u001b[39;49m\u001b[43m_getitem_iterable\u001b[49m\u001b[43m(\u001b[49m\u001b[43mkey\u001b[49m\u001b[43m,\u001b[49m\u001b[43m \u001b[49m\u001b[43maxis\u001b[49m\u001b[38;5;241;43m=\u001b[39;49m\u001b[43maxis\u001b[49m\u001b[43m)\u001b[49m\n\u001b[1;32m   1384\u001b[0m \u001b[38;5;66;03m# nested tuple slicing\u001b[39;00m\n\u001b[1;32m   1385\u001b[0m \u001b[38;5;28;01mif\u001b[39;00m is_nested_tuple(key, labels):\n",
      "File \u001b[0;32m/Library/Frameworks/Python.framework/Versions/3.11/lib/python3.11/site-packages/pandas/core/indexing.py:1322\u001b[0m, in \u001b[0;36m_LocIndexer._getitem_iterable\u001b[0;34m(self, key, axis)\u001b[0m\n\u001b[1;32m   1319\u001b[0m \u001b[38;5;28mself\u001b[39m\u001b[38;5;241m.\u001b[39m_validate_key(key, axis)\n\u001b[1;32m   1321\u001b[0m \u001b[38;5;66;03m# A collection of keys\u001b[39;00m\n\u001b[0;32m-> 1322\u001b[0m keyarr, indexer \u001b[38;5;241m=\u001b[39m \u001b[38;5;28;43mself\u001b[39;49m\u001b[38;5;241;43m.\u001b[39;49m\u001b[43m_get_listlike_indexer\u001b[49m\u001b[43m(\u001b[49m\u001b[43mkey\u001b[49m\u001b[43m,\u001b[49m\u001b[43m \u001b[49m\u001b[43maxis\u001b[49m\u001b[43m)\u001b[49m\n\u001b[1;32m   1323\u001b[0m \u001b[38;5;28;01mreturn\u001b[39;00m \u001b[38;5;28mself\u001b[39m\u001b[38;5;241m.\u001b[39mobj\u001b[38;5;241m.\u001b[39m_reindex_with_indexers(\n\u001b[1;32m   1324\u001b[0m     {axis: [keyarr, indexer]}, copy\u001b[38;5;241m=\u001b[39m\u001b[38;5;28;01mTrue\u001b[39;00m, allow_dups\u001b[38;5;241m=\u001b[39m\u001b[38;5;28;01mTrue\u001b[39;00m\n\u001b[1;32m   1325\u001b[0m )\n",
      "File \u001b[0;32m/Library/Frameworks/Python.framework/Versions/3.11/lib/python3.11/site-packages/pandas/core/indexing.py:1520\u001b[0m, in \u001b[0;36m_LocIndexer._get_listlike_indexer\u001b[0;34m(self, key, axis)\u001b[0m\n\u001b[1;32m   1517\u001b[0m ax \u001b[38;5;241m=\u001b[39m \u001b[38;5;28mself\u001b[39m\u001b[38;5;241m.\u001b[39mobj\u001b[38;5;241m.\u001b[39m_get_axis(axis)\n\u001b[1;32m   1518\u001b[0m axis_name \u001b[38;5;241m=\u001b[39m \u001b[38;5;28mself\u001b[39m\u001b[38;5;241m.\u001b[39mobj\u001b[38;5;241m.\u001b[39m_get_axis_name(axis)\n\u001b[0;32m-> 1520\u001b[0m keyarr, indexer \u001b[38;5;241m=\u001b[39m \u001b[43max\u001b[49m\u001b[38;5;241;43m.\u001b[39;49m\u001b[43m_get_indexer_strict\u001b[49m\u001b[43m(\u001b[49m\u001b[43mkey\u001b[49m\u001b[43m,\u001b[49m\u001b[43m \u001b[49m\u001b[43maxis_name\u001b[49m\u001b[43m)\u001b[49m\n\u001b[1;32m   1522\u001b[0m \u001b[38;5;28;01mreturn\u001b[39;00m keyarr, indexer\n",
      "File \u001b[0;32m/Library/Frameworks/Python.framework/Versions/3.11/lib/python3.11/site-packages/pandas/core/indexes/base.py:6114\u001b[0m, in \u001b[0;36mIndex._get_indexer_strict\u001b[0;34m(self, key, axis_name)\u001b[0m\n\u001b[1;32m   6111\u001b[0m \u001b[38;5;28;01melse\u001b[39;00m:\n\u001b[1;32m   6112\u001b[0m     keyarr, indexer, new_indexer \u001b[38;5;241m=\u001b[39m \u001b[38;5;28mself\u001b[39m\u001b[38;5;241m.\u001b[39m_reindex_non_unique(keyarr)\n\u001b[0;32m-> 6114\u001b[0m \u001b[38;5;28;43mself\u001b[39;49m\u001b[38;5;241;43m.\u001b[39;49m\u001b[43m_raise_if_missing\u001b[49m\u001b[43m(\u001b[49m\u001b[43mkeyarr\u001b[49m\u001b[43m,\u001b[49m\u001b[43m \u001b[49m\u001b[43mindexer\u001b[49m\u001b[43m,\u001b[49m\u001b[43m \u001b[49m\u001b[43maxis_name\u001b[49m\u001b[43m)\u001b[49m\n\u001b[1;32m   6116\u001b[0m keyarr \u001b[38;5;241m=\u001b[39m \u001b[38;5;28mself\u001b[39m\u001b[38;5;241m.\u001b[39mtake(indexer)\n\u001b[1;32m   6117\u001b[0m \u001b[38;5;28;01mif\u001b[39;00m \u001b[38;5;28misinstance\u001b[39m(key, Index):\n\u001b[1;32m   6118\u001b[0m     \u001b[38;5;66;03m# GH 42790 - Preserve name from an Index\u001b[39;00m\n",
      "File \u001b[0;32m/Library/Frameworks/Python.framework/Versions/3.11/lib/python3.11/site-packages/pandas/core/indexes/base.py:6175\u001b[0m, in \u001b[0;36mIndex._raise_if_missing\u001b[0;34m(self, key, indexer, axis_name)\u001b[0m\n\u001b[1;32m   6173\u001b[0m     \u001b[38;5;28;01mif\u001b[39;00m use_interval_msg:\n\u001b[1;32m   6174\u001b[0m         key \u001b[38;5;241m=\u001b[39m \u001b[38;5;28mlist\u001b[39m(key)\n\u001b[0;32m-> 6175\u001b[0m     \u001b[38;5;28;01mraise\u001b[39;00m \u001b[38;5;167;01mKeyError\u001b[39;00m(\u001b[38;5;124mf\u001b[39m\u001b[38;5;124m\"\u001b[39m\u001b[38;5;124mNone of [\u001b[39m\u001b[38;5;132;01m{\u001b[39;00mkey\u001b[38;5;132;01m}\u001b[39;00m\u001b[38;5;124m] are in the [\u001b[39m\u001b[38;5;132;01m{\u001b[39;00maxis_name\u001b[38;5;132;01m}\u001b[39;00m\u001b[38;5;124m]\u001b[39m\u001b[38;5;124m\"\u001b[39m)\n\u001b[1;32m   6177\u001b[0m not_found \u001b[38;5;241m=\u001b[39m \u001b[38;5;28mlist\u001b[39m(ensure_index(key)[missing_mask\u001b[38;5;241m.\u001b[39mnonzero()[\u001b[38;5;241m0\u001b[39m]]\u001b[38;5;241m.\u001b[39munique())\n\u001b[1;32m   6178\u001b[0m \u001b[38;5;28;01mraise\u001b[39;00m \u001b[38;5;167;01mKeyError\u001b[39;00m(\u001b[38;5;124mf\u001b[39m\u001b[38;5;124m\"\u001b[39m\u001b[38;5;132;01m{\u001b[39;00mnot_found\u001b[38;5;132;01m}\u001b[39;00m\u001b[38;5;124m not in index\u001b[39m\u001b[38;5;124m\"\u001b[39m)\n",
      "\u001b[0;31mKeyError\u001b[0m: \"None of [Index(['Afghanistan'], dtype='object')] are in the [index]\""
     ]
    }
   ],
   "source": [
    "# На основе названия (на основе значения колонки-индекса)\n",
    "df.loc[['Afghanistan']]"
   ]
  },
  {
   "cell_type": "code",
   "execution_count": 49,
   "metadata": {
    "colab": {
     "base_uri": "https://localhost:8080/",
     "height": 458
    },
    "id": "FOQ_Rxjc_obC",
    "outputId": "a3cd442f-fb20-452b-8c0a-660982577138"
   },
   "outputs": [
    {
     "data": {
      "text/html": [
       "<div>\n",
       "<style scoped>\n",
       "    .dataframe tbody tr th:only-of-type {\n",
       "        vertical-align: middle;\n",
       "    }\n",
       "\n",
       "    .dataframe tbody tr th {\n",
       "        vertical-align: top;\n",
       "    }\n",
       "\n",
       "    .dataframe thead th {\n",
       "        text-align: right;\n",
       "    }\n",
       "</style>\n",
       "<table border=\"1\" class=\"dataframe\">\n",
       "  <thead>\n",
       "    <tr style=\"text-align: right;\">\n",
       "      <th></th>\n",
       "      <th>Country</th>\n",
       "      <th>Density\\n(P/Km2)</th>\n",
       "      <th>Abbreviation</th>\n",
       "      <th>Agricultural Land( %)</th>\n",
       "      <th>Land Area(Km2)</th>\n",
       "      <th>Armed Forces size</th>\n",
       "      <th>Birth Rate</th>\n",
       "      <th>Calling Code</th>\n",
       "      <th>Capital/Major City</th>\n",
       "      <th>Co2-Emissions</th>\n",
       "      <th>...</th>\n",
       "      <th>Out of pocket health expenditure</th>\n",
       "      <th>Physicians per thousand</th>\n",
       "      <th>Population</th>\n",
       "      <th>Population: Labor force participation (%)</th>\n",
       "      <th>Tax revenue (%)</th>\n",
       "      <th>Total tax rate</th>\n",
       "      <th>Unemployment rate</th>\n",
       "      <th>Urban_population</th>\n",
       "      <th>Latitude</th>\n",
       "      <th>Longitude</th>\n",
       "    </tr>\n",
       "  </thead>\n",
       "  <tbody>\n",
       "    <tr>\n",
       "      <th>0</th>\n",
       "      <td>Afghanistan</td>\n",
       "      <td>60</td>\n",
       "      <td>AF</td>\n",
       "      <td>58.10%</td>\n",
       "      <td>652,230</td>\n",
       "      <td>323,000</td>\n",
       "      <td>32.49</td>\n",
       "      <td>93.0</td>\n",
       "      <td>Kabul</td>\n",
       "      <td>8,672</td>\n",
       "      <td>...</td>\n",
       "      <td>78.40%</td>\n",
       "      <td>0.28</td>\n",
       "      <td>38,041,754</td>\n",
       "      <td>48.90%</td>\n",
       "      <td>9.30%</td>\n",
       "      <td>71.40%</td>\n",
       "      <td>11.12%</td>\n",
       "      <td>9,797,273</td>\n",
       "      <td>33.939110</td>\n",
       "      <td>67.709953</td>\n",
       "    </tr>\n",
       "    <tr>\n",
       "      <th>1</th>\n",
       "      <td>Albania</td>\n",
       "      <td>105</td>\n",
       "      <td>AL</td>\n",
       "      <td>43.10%</td>\n",
       "      <td>28,748</td>\n",
       "      <td>9,000</td>\n",
       "      <td>11.78</td>\n",
       "      <td>355.0</td>\n",
       "      <td>Tirana</td>\n",
       "      <td>4,536</td>\n",
       "      <td>...</td>\n",
       "      <td>56.90%</td>\n",
       "      <td>1.20</td>\n",
       "      <td>2,854,191</td>\n",
       "      <td>55.70%</td>\n",
       "      <td>18.60%</td>\n",
       "      <td>36.60%</td>\n",
       "      <td>12.33%</td>\n",
       "      <td>1,747,593</td>\n",
       "      <td>41.153332</td>\n",
       "      <td>20.168331</td>\n",
       "    </tr>\n",
       "    <tr>\n",
       "      <th>2</th>\n",
       "      <td>Algeria</td>\n",
       "      <td>18</td>\n",
       "      <td>DZ</td>\n",
       "      <td>17.40%</td>\n",
       "      <td>2,381,741</td>\n",
       "      <td>317,000</td>\n",
       "      <td>24.28</td>\n",
       "      <td>213.0</td>\n",
       "      <td>Algiers</td>\n",
       "      <td>150,006</td>\n",
       "      <td>...</td>\n",
       "      <td>28.10%</td>\n",
       "      <td>1.72</td>\n",
       "      <td>43,053,054</td>\n",
       "      <td>41.20%</td>\n",
       "      <td>37.20%</td>\n",
       "      <td>66.10%</td>\n",
       "      <td>11.70%</td>\n",
       "      <td>31,510,100</td>\n",
       "      <td>28.033886</td>\n",
       "      <td>1.659626</td>\n",
       "    </tr>\n",
       "    <tr>\n",
       "      <th>3</th>\n",
       "      <td>Andorra</td>\n",
       "      <td>164</td>\n",
       "      <td>AD</td>\n",
       "      <td>40.00%</td>\n",
       "      <td>468</td>\n",
       "      <td>NaN</td>\n",
       "      <td>7.20</td>\n",
       "      <td>376.0</td>\n",
       "      <td>Andorra la Vella</td>\n",
       "      <td>469</td>\n",
       "      <td>...</td>\n",
       "      <td>36.40%</td>\n",
       "      <td>3.33</td>\n",
       "      <td>77,142</td>\n",
       "      <td>NaN</td>\n",
       "      <td>NaN</td>\n",
       "      <td>NaN</td>\n",
       "      <td>NaN</td>\n",
       "      <td>67,873</td>\n",
       "      <td>42.506285</td>\n",
       "      <td>1.521801</td>\n",
       "    </tr>\n",
       "    <tr>\n",
       "      <th>4</th>\n",
       "      <td>Angola</td>\n",
       "      <td>26</td>\n",
       "      <td>AO</td>\n",
       "      <td>47.50%</td>\n",
       "      <td>1,246,700</td>\n",
       "      <td>117,000</td>\n",
       "      <td>40.73</td>\n",
       "      <td>244.0</td>\n",
       "      <td>Luanda</td>\n",
       "      <td>34,693</td>\n",
       "      <td>...</td>\n",
       "      <td>33.40%</td>\n",
       "      <td>0.21</td>\n",
       "      <td>31,825,295</td>\n",
       "      <td>77.50%</td>\n",
       "      <td>9.20%</td>\n",
       "      <td>49.10%</td>\n",
       "      <td>6.89%</td>\n",
       "      <td>21,061,025</td>\n",
       "      <td>-11.202692</td>\n",
       "      <td>17.873887</td>\n",
       "    </tr>\n",
       "    <tr>\n",
       "      <th>5</th>\n",
       "      <td>Antigua and Barbuda</td>\n",
       "      <td>223</td>\n",
       "      <td>AG</td>\n",
       "      <td>20.50%</td>\n",
       "      <td>443</td>\n",
       "      <td>0</td>\n",
       "      <td>15.33</td>\n",
       "      <td>1.0</td>\n",
       "      <td>St. John's, Saint John</td>\n",
       "      <td>557</td>\n",
       "      <td>...</td>\n",
       "      <td>24.30%</td>\n",
       "      <td>2.76</td>\n",
       "      <td>97,118</td>\n",
       "      <td>NaN</td>\n",
       "      <td>16.50%</td>\n",
       "      <td>43.00%</td>\n",
       "      <td>NaN</td>\n",
       "      <td>23,800</td>\n",
       "      <td>17.060816</td>\n",
       "      <td>-61.796428</td>\n",
       "    </tr>\n",
       "    <tr>\n",
       "      <th>6</th>\n",
       "      <td>Argentina</td>\n",
       "      <td>17</td>\n",
       "      <td>AR</td>\n",
       "      <td>54.30%</td>\n",
       "      <td>2,780,400</td>\n",
       "      <td>105,000</td>\n",
       "      <td>17.02</td>\n",
       "      <td>54.0</td>\n",
       "      <td>Buenos Aires</td>\n",
       "      <td>201,348</td>\n",
       "      <td>...</td>\n",
       "      <td>17.60%</td>\n",
       "      <td>3.96</td>\n",
       "      <td>44,938,712</td>\n",
       "      <td>61.30%</td>\n",
       "      <td>10.10%</td>\n",
       "      <td>106.30%</td>\n",
       "      <td>9.79%</td>\n",
       "      <td>41,339,571</td>\n",
       "      <td>-38.416097</td>\n",
       "      <td>-63.616672</td>\n",
       "    </tr>\n",
       "  </tbody>\n",
       "</table>\n",
       "<p>7 rows × 35 columns</p>\n",
       "</div>"
      ],
      "text/plain": [
       "               Country Density\\n(P/Km2) Abbreviation Agricultural Land( %)  \\\n",
       "0          Afghanistan               60           AF                58.10%   \n",
       "1              Albania              105           AL                43.10%   \n",
       "2              Algeria               18           DZ                17.40%   \n",
       "3              Andorra              164           AD                40.00%   \n",
       "4               Angola               26           AO                47.50%   \n",
       "5  Antigua and Barbuda              223           AG                20.50%   \n",
       "6            Argentina               17           AR                54.30%   \n",
       "\n",
       "  Land Area(Km2) Armed Forces size  Birth Rate  Calling Code  \\\n",
       "0        652,230           323,000       32.49          93.0   \n",
       "1         28,748             9,000       11.78         355.0   \n",
       "2      2,381,741           317,000       24.28         213.0   \n",
       "3            468               NaN        7.20         376.0   \n",
       "4      1,246,700           117,000       40.73         244.0   \n",
       "5            443                 0       15.33           1.0   \n",
       "6      2,780,400           105,000       17.02          54.0   \n",
       "\n",
       "       Capital/Major City Co2-Emissions  ... Out of pocket health expenditure  \\\n",
       "0                   Kabul         8,672  ...                           78.40%   \n",
       "1                  Tirana         4,536  ...                           56.90%   \n",
       "2                 Algiers       150,006  ...                           28.10%   \n",
       "3        Andorra la Vella           469  ...                           36.40%   \n",
       "4                  Luanda        34,693  ...                           33.40%   \n",
       "5  St. John's, Saint John           557  ...                           24.30%   \n",
       "6            Buenos Aires       201,348  ...                           17.60%   \n",
       "\n",
       "  Physicians per thousand  Population  \\\n",
       "0                    0.28  38,041,754   \n",
       "1                    1.20   2,854,191   \n",
       "2                    1.72  43,053,054   \n",
       "3                    3.33      77,142   \n",
       "4                    0.21  31,825,295   \n",
       "5                    2.76      97,118   \n",
       "6                    3.96  44,938,712   \n",
       "\n",
       "   Population: Labor force participation (%) Tax revenue (%) Total tax rate  \\\n",
       "0                                     48.90%           9.30%         71.40%   \n",
       "1                                     55.70%          18.60%         36.60%   \n",
       "2                                     41.20%          37.20%         66.10%   \n",
       "3                                        NaN             NaN            NaN   \n",
       "4                                     77.50%           9.20%         49.10%   \n",
       "5                                        NaN          16.50%         43.00%   \n",
       "6                                     61.30%          10.10%        106.30%   \n",
       "\n",
       "  Unemployment rate Urban_population   Latitude  Longitude  \n",
       "0            11.12%        9,797,273  33.939110  67.709953  \n",
       "1            12.33%        1,747,593  41.153332  20.168331  \n",
       "2            11.70%       31,510,100  28.033886   1.659626  \n",
       "3               NaN           67,873  42.506285   1.521801  \n",
       "4             6.89%       21,061,025 -11.202692  17.873887  \n",
       "5               NaN           23,800  17.060816 -61.796428  \n",
       "6             9.79%       41,339,571 -38.416097 -63.616672  \n",
       "\n",
       "[7 rows x 35 columns]"
      ]
     },
     "execution_count": 49,
     "metadata": {},
     "output_type": "execute_result"
    }
   ],
   "source": [
    "df.iloc[0:7]"
   ]
  },
  {
   "cell_type": "code",
   "execution_count": 12,
   "metadata": {
    "colab": {
     "base_uri": "https://localhost:8080/",
     "height": 286
    },
    "id": "gK8lSoan_qH5",
    "outputId": "d58e0404-b2a9-4466-93fd-7a6cb7528547"
   },
   "outputs": [
    {
     "data": {
      "text/plain": [
       "RangeIndex(start=0, stop=195, step=1)"
      ]
     },
     "execution_count": 12,
     "metadata": {},
     "output_type": "execute_result"
    }
   ],
   "source": [
    "df.index\n",
    "\n",
    "#df.loc['Andorra']"
   ]
  },
  {
   "cell_type": "markdown",
   "metadata": {
    "id": "rcIoAFi4rEcj"
   },
   "source": [
    "### **[Задание 10]**\n",
    "\n",
    "У вас есть датасет, из прошлого задания. Вам необходимо выполнить следующие действия:\n",
    "1. Получить срез данных только для стран, имеющих популяцию (\"Population\") выше 50.\n",
    "2. Получить срез данных только для стран, с выбросами CO2 (\"Co2-Emissions\") меньшими чем 40.\n",
    "3. Получить срез данных только для cтран, названия которых начинаются на \"`K`\".\n"
   ]
  },
  {
   "cell_type": "code",
   "execution_count": 44,
   "metadata": {
    "id": "kjawp5CqWwvm"
   },
   "outputs": [
    {
     "data": {
      "text/html": [
       "<div>\n",
       "<style scoped>\n",
       "    .dataframe tbody tr th:only-of-type {\n",
       "        vertical-align: middle;\n",
       "    }\n",
       "\n",
       "    .dataframe tbody tr th {\n",
       "        vertical-align: top;\n",
       "    }\n",
       "\n",
       "    .dataframe thead th {\n",
       "        text-align: right;\n",
       "    }\n",
       "</style>\n",
       "<table border=\"1\" class=\"dataframe\">\n",
       "  <thead>\n",
       "    <tr style=\"text-align: right;\">\n",
       "      <th></th>\n",
       "      <th>Country</th>\n",
       "      <th>Density\\n(P/Km2)</th>\n",
       "      <th>Abbreviation</th>\n",
       "      <th>Agricultural Land( %)</th>\n",
       "      <th>Land Area(Km2)</th>\n",
       "      <th>Armed Forces size</th>\n",
       "      <th>Birth Rate</th>\n",
       "      <th>Calling Code</th>\n",
       "      <th>Capital/Major City</th>\n",
       "      <th>Co2-Emissions</th>\n",
       "      <th>...</th>\n",
       "      <th>Out of pocket health expenditure</th>\n",
       "      <th>Physicians per thousand</th>\n",
       "      <th>Population</th>\n",
       "      <th>Population: Labor force participation (%)</th>\n",
       "      <th>Tax revenue (%)</th>\n",
       "      <th>Total tax rate</th>\n",
       "      <th>Unemployment rate</th>\n",
       "      <th>Urban_population</th>\n",
       "      <th>Latitude</th>\n",
       "      <th>Longitude</th>\n",
       "    </tr>\n",
       "  </thead>\n",
       "  <tbody>\n",
       "    <tr>\n",
       "      <th>0</th>\n",
       "      <td>Afghanistan</td>\n",
       "      <td>60</td>\n",
       "      <td>AF</td>\n",
       "      <td>58.10%</td>\n",
       "      <td>652,230</td>\n",
       "      <td>323,000</td>\n",
       "      <td>32.49</td>\n",
       "      <td>93.0</td>\n",
       "      <td>Kabul</td>\n",
       "      <td>NaN</td>\n",
       "      <td>...</td>\n",
       "      <td>78.40%</td>\n",
       "      <td>0.28</td>\n",
       "      <td>38,041,754</td>\n",
       "      <td>48.90%</td>\n",
       "      <td>9.30%</td>\n",
       "      <td>71.40%</td>\n",
       "      <td>11.12%</td>\n",
       "      <td>9,797,273</td>\n",
       "      <td>33.939110</td>\n",
       "      <td>67.709953</td>\n",
       "    </tr>\n",
       "    <tr>\n",
       "      <th>1</th>\n",
       "      <td>Albania</td>\n",
       "      <td>105</td>\n",
       "      <td>AL</td>\n",
       "      <td>43.10%</td>\n",
       "      <td>28,748</td>\n",
       "      <td>9,000</td>\n",
       "      <td>11.78</td>\n",
       "      <td>355.0</td>\n",
       "      <td>Tirana</td>\n",
       "      <td>NaN</td>\n",
       "      <td>...</td>\n",
       "      <td>56.90%</td>\n",
       "      <td>1.20</td>\n",
       "      <td>2,854,191</td>\n",
       "      <td>55.70%</td>\n",
       "      <td>18.60%</td>\n",
       "      <td>36.60%</td>\n",
       "      <td>12.33%</td>\n",
       "      <td>1,747,593</td>\n",
       "      <td>41.153332</td>\n",
       "      <td>20.168331</td>\n",
       "    </tr>\n",
       "    <tr>\n",
       "      <th>2</th>\n",
       "      <td>Algeria</td>\n",
       "      <td>18</td>\n",
       "      <td>DZ</td>\n",
       "      <td>17.40%</td>\n",
       "      <td>2,381,741</td>\n",
       "      <td>317,000</td>\n",
       "      <td>24.28</td>\n",
       "      <td>213.0</td>\n",
       "      <td>Algiers</td>\n",
       "      <td>NaN</td>\n",
       "      <td>...</td>\n",
       "      <td>28.10%</td>\n",
       "      <td>1.72</td>\n",
       "      <td>43,053,054</td>\n",
       "      <td>41.20%</td>\n",
       "      <td>37.20%</td>\n",
       "      <td>66.10%</td>\n",
       "      <td>11.70%</td>\n",
       "      <td>31,510,100</td>\n",
       "      <td>28.033886</td>\n",
       "      <td>1.659626</td>\n",
       "    </tr>\n",
       "    <tr>\n",
       "      <th>3</th>\n",
       "      <td>Andorra</td>\n",
       "      <td>164</td>\n",
       "      <td>AD</td>\n",
       "      <td>40.00%</td>\n",
       "      <td>468</td>\n",
       "      <td>NaN</td>\n",
       "      <td>7.20</td>\n",
       "      <td>376.0</td>\n",
       "      <td>Andorra la Vella</td>\n",
       "      <td>469.0</td>\n",
       "      <td>...</td>\n",
       "      <td>36.40%</td>\n",
       "      <td>3.33</td>\n",
       "      <td>77,142</td>\n",
       "      <td>NaN</td>\n",
       "      <td>NaN</td>\n",
       "      <td>NaN</td>\n",
       "      <td>NaN</td>\n",
       "      <td>67,873</td>\n",
       "      <td>42.506285</td>\n",
       "      <td>1.521801</td>\n",
       "    </tr>\n",
       "    <tr>\n",
       "      <th>4</th>\n",
       "      <td>Angola</td>\n",
       "      <td>26</td>\n",
       "      <td>AO</td>\n",
       "      <td>47.50%</td>\n",
       "      <td>1,246,700</td>\n",
       "      <td>117,000</td>\n",
       "      <td>40.73</td>\n",
       "      <td>244.0</td>\n",
       "      <td>Luanda</td>\n",
       "      <td>NaN</td>\n",
       "      <td>...</td>\n",
       "      <td>33.40%</td>\n",
       "      <td>0.21</td>\n",
       "      <td>31,825,295</td>\n",
       "      <td>77.50%</td>\n",
       "      <td>9.20%</td>\n",
       "      <td>49.10%</td>\n",
       "      <td>6.89%</td>\n",
       "      <td>21,061,025</td>\n",
       "      <td>-11.202692</td>\n",
       "      <td>17.873887</td>\n",
       "    </tr>\n",
       "  </tbody>\n",
       "</table>\n",
       "<p>5 rows × 35 columns</p>\n",
       "</div>"
      ],
      "text/plain": [
       "       Country Density\\n(P/Km2) Abbreviation Agricultural Land( %)  \\\n",
       "0  Afghanistan               60           AF                58.10%   \n",
       "1      Albania              105           AL                43.10%   \n",
       "2      Algeria               18           DZ                17.40%   \n",
       "3      Andorra              164           AD                40.00%   \n",
       "4       Angola               26           AO                47.50%   \n",
       "\n",
       "  Land Area(Km2) Armed Forces size  Birth Rate  Calling Code  \\\n",
       "0        652,230           323,000       32.49          93.0   \n",
       "1         28,748             9,000       11.78         355.0   \n",
       "2      2,381,741           317,000       24.28         213.0   \n",
       "3            468               NaN        7.20         376.0   \n",
       "4      1,246,700           117,000       40.73         244.0   \n",
       "\n",
       "  Capital/Major City  Co2-Emissions  ... Out of pocket health expenditure  \\\n",
       "0              Kabul            NaN  ...                           78.40%   \n",
       "1             Tirana            NaN  ...                           56.90%   \n",
       "2            Algiers            NaN  ...                           28.10%   \n",
       "3   Andorra la Vella          469.0  ...                           36.40%   \n",
       "4             Luanda            NaN  ...                           33.40%   \n",
       "\n",
       "  Physicians per thousand  Population  \\\n",
       "0                    0.28  38,041,754   \n",
       "1                    1.20   2,854,191   \n",
       "2                    1.72  43,053,054   \n",
       "3                    3.33      77,142   \n",
       "4                    0.21  31,825,295   \n",
       "\n",
       "   Population: Labor force participation (%) Tax revenue (%) Total tax rate  \\\n",
       "0                                     48.90%           9.30%         71.40%   \n",
       "1                                     55.70%          18.60%         36.60%   \n",
       "2                                     41.20%          37.20%         66.10%   \n",
       "3                                        NaN             NaN            NaN   \n",
       "4                                     77.50%           9.20%         49.10%   \n",
       "\n",
       "  Unemployment rate Urban_population   Latitude  Longitude  \n",
       "0            11.12%        9,797,273  33.939110  67.709953  \n",
       "1            12.33%        1,747,593  41.153332  20.168331  \n",
       "2            11.70%       31,510,100  28.033886   1.659626  \n",
       "3               NaN           67,873  42.506285   1.521801  \n",
       "4             6.89%       21,061,025 -11.202692  17.873887  \n",
       "\n",
       "[5 rows x 35 columns]"
      ]
     },
     "execution_count": 44,
     "metadata": {},
     "output_type": "execute_result"
    }
   ],
   "source": [
    "#df['Co2-Emissions'] = pd.to_numeric(df['Co2-Emissions'])\n",
    "#df['Co2-Emissions'] = pd.to_numeric(df['Co2-Emissions'], errors='coerce')\n",
    "df.head(5)\n",
    "#df[df['Co2-Emissions'] < 90]\n",
    "\n",
    "#df[df['Population'].isin([20])]\n",
    "#df[df['Population'] > 50]\n",
    "#df[df['Co2-Emissions'] < 40]"
   ]
  },
  {
   "cell_type": "markdown",
   "metadata": {
    "id": "S5NfGTlEGfj3"
   },
   "source": [
    "### Удаление элементов"
   ]
  },
  {
   "cell_type": "markdown",
   "metadata": {
    "id": "vPlrg0eQGo0K"
   },
   "source": [
    "Выведем наш датасет"
   ]
  },
  {
   "cell_type": "code",
   "execution_count": 54,
   "metadata": {
    "colab": {
     "base_uri": "https://localhost:8080/",
     "height": 565
    },
    "id": "Kz_Ywc9FGofq",
    "outputId": "cdac5794-b67c-4434-ece4-dc157e89df0f"
   },
   "outputs": [
    {
     "data": {
      "text/html": [
       "<div>\n",
       "<style scoped>\n",
       "    .dataframe tbody tr th:only-of-type {\n",
       "        vertical-align: middle;\n",
       "    }\n",
       "\n",
       "    .dataframe tbody tr th {\n",
       "        vertical-align: top;\n",
       "    }\n",
       "\n",
       "    .dataframe thead th {\n",
       "        text-align: right;\n",
       "    }\n",
       "</style>\n",
       "<table border=\"1\" class=\"dataframe\">\n",
       "  <thead>\n",
       "    <tr style=\"text-align: right;\">\n",
       "      <th></th>\n",
       "      <th>Country</th>\n",
       "      <th>Density\\n(P/Km2)</th>\n",
       "      <th>Abbreviation</th>\n",
       "      <th>Agricultural Land( %)</th>\n",
       "      <th>Land Area(Km2)</th>\n",
       "      <th>Armed Forces size</th>\n",
       "      <th>Birth Rate</th>\n",
       "      <th>Calling Code</th>\n",
       "      <th>Capital/Major City</th>\n",
       "      <th>Co2-Emissions</th>\n",
       "      <th>...</th>\n",
       "      <th>Out of pocket health expenditure</th>\n",
       "      <th>Physicians per thousand</th>\n",
       "      <th>Population</th>\n",
       "      <th>Population: Labor force participation (%)</th>\n",
       "      <th>Tax revenue (%)</th>\n",
       "      <th>Total tax rate</th>\n",
       "      <th>Unemployment rate</th>\n",
       "      <th>Urban_population</th>\n",
       "      <th>Latitude</th>\n",
       "      <th>Longitude</th>\n",
       "    </tr>\n",
       "  </thead>\n",
       "  <tbody>\n",
       "    <tr>\n",
       "      <th>0</th>\n",
       "      <td>Afghanistan</td>\n",
       "      <td>60</td>\n",
       "      <td>AF</td>\n",
       "      <td>58.10%</td>\n",
       "      <td>652,230</td>\n",
       "      <td>323,000</td>\n",
       "      <td>32.49</td>\n",
       "      <td>93.0</td>\n",
       "      <td>Kabul</td>\n",
       "      <td>8,672</td>\n",
       "      <td>...</td>\n",
       "      <td>78.40%</td>\n",
       "      <td>0.28</td>\n",
       "      <td>38,041,754</td>\n",
       "      <td>48.90%</td>\n",
       "      <td>9.30%</td>\n",
       "      <td>71.40%</td>\n",
       "      <td>11.12%</td>\n",
       "      <td>9,797,273</td>\n",
       "      <td>33.939110</td>\n",
       "      <td>67.709953</td>\n",
       "    </tr>\n",
       "    <tr>\n",
       "      <th>1</th>\n",
       "      <td>Albania</td>\n",
       "      <td>105</td>\n",
       "      <td>AL</td>\n",
       "      <td>43.10%</td>\n",
       "      <td>28,748</td>\n",
       "      <td>9,000</td>\n",
       "      <td>11.78</td>\n",
       "      <td>355.0</td>\n",
       "      <td>Tirana</td>\n",
       "      <td>4,536</td>\n",
       "      <td>...</td>\n",
       "      <td>56.90%</td>\n",
       "      <td>1.20</td>\n",
       "      <td>2,854,191</td>\n",
       "      <td>55.70%</td>\n",
       "      <td>18.60%</td>\n",
       "      <td>36.60%</td>\n",
       "      <td>12.33%</td>\n",
       "      <td>1,747,593</td>\n",
       "      <td>41.153332</td>\n",
       "      <td>20.168331</td>\n",
       "    </tr>\n",
       "    <tr>\n",
       "      <th>2</th>\n",
       "      <td>Algeria</td>\n",
       "      <td>18</td>\n",
       "      <td>DZ</td>\n",
       "      <td>17.40%</td>\n",
       "      <td>2,381,741</td>\n",
       "      <td>317,000</td>\n",
       "      <td>24.28</td>\n",
       "      <td>213.0</td>\n",
       "      <td>Algiers</td>\n",
       "      <td>150,006</td>\n",
       "      <td>...</td>\n",
       "      <td>28.10%</td>\n",
       "      <td>1.72</td>\n",
       "      <td>43,053,054</td>\n",
       "      <td>41.20%</td>\n",
       "      <td>37.20%</td>\n",
       "      <td>66.10%</td>\n",
       "      <td>11.70%</td>\n",
       "      <td>31,510,100</td>\n",
       "      <td>28.033886</td>\n",
       "      <td>1.659626</td>\n",
       "    </tr>\n",
       "    <tr>\n",
       "      <th>3</th>\n",
       "      <td>Andorra</td>\n",
       "      <td>164</td>\n",
       "      <td>AD</td>\n",
       "      <td>40.00%</td>\n",
       "      <td>468</td>\n",
       "      <td>NaN</td>\n",
       "      <td>7.20</td>\n",
       "      <td>376.0</td>\n",
       "      <td>Andorra la Vella</td>\n",
       "      <td>469</td>\n",
       "      <td>...</td>\n",
       "      <td>36.40%</td>\n",
       "      <td>3.33</td>\n",
       "      <td>77,142</td>\n",
       "      <td>NaN</td>\n",
       "      <td>NaN</td>\n",
       "      <td>NaN</td>\n",
       "      <td>NaN</td>\n",
       "      <td>67,873</td>\n",
       "      <td>42.506285</td>\n",
       "      <td>1.521801</td>\n",
       "    </tr>\n",
       "    <tr>\n",
       "      <th>4</th>\n",
       "      <td>Angola</td>\n",
       "      <td>26</td>\n",
       "      <td>AO</td>\n",
       "      <td>47.50%</td>\n",
       "      <td>1,246,700</td>\n",
       "      <td>117,000</td>\n",
       "      <td>40.73</td>\n",
       "      <td>244.0</td>\n",
       "      <td>Luanda</td>\n",
       "      <td>34,693</td>\n",
       "      <td>...</td>\n",
       "      <td>33.40%</td>\n",
       "      <td>0.21</td>\n",
       "      <td>31,825,295</td>\n",
       "      <td>77.50%</td>\n",
       "      <td>9.20%</td>\n",
       "      <td>49.10%</td>\n",
       "      <td>6.89%</td>\n",
       "      <td>21,061,025</td>\n",
       "      <td>-11.202692</td>\n",
       "      <td>17.873887</td>\n",
       "    </tr>\n",
       "    <tr>\n",
       "      <th>...</th>\n",
       "      <td>...</td>\n",
       "      <td>...</td>\n",
       "      <td>...</td>\n",
       "      <td>...</td>\n",
       "      <td>...</td>\n",
       "      <td>...</td>\n",
       "      <td>...</td>\n",
       "      <td>...</td>\n",
       "      <td>...</td>\n",
       "      <td>...</td>\n",
       "      <td>...</td>\n",
       "      <td>...</td>\n",
       "      <td>...</td>\n",
       "      <td>...</td>\n",
       "      <td>...</td>\n",
       "      <td>...</td>\n",
       "      <td>...</td>\n",
       "      <td>...</td>\n",
       "      <td>...</td>\n",
       "      <td>...</td>\n",
       "      <td>...</td>\n",
       "    </tr>\n",
       "    <tr>\n",
       "      <th>190</th>\n",
       "      <td>Venezuela</td>\n",
       "      <td>32</td>\n",
       "      <td>VE</td>\n",
       "      <td>24.50%</td>\n",
       "      <td>912,050</td>\n",
       "      <td>343,000</td>\n",
       "      <td>17.88</td>\n",
       "      <td>58.0</td>\n",
       "      <td>Caracas</td>\n",
       "      <td>164,175</td>\n",
       "      <td>...</td>\n",
       "      <td>45.80%</td>\n",
       "      <td>1.92</td>\n",
       "      <td>28,515,829</td>\n",
       "      <td>59.70%</td>\n",
       "      <td>NaN</td>\n",
       "      <td>73.30%</td>\n",
       "      <td>8.80%</td>\n",
       "      <td>25,162,368</td>\n",
       "      <td>6.423750</td>\n",
       "      <td>-66.589730</td>\n",
       "    </tr>\n",
       "    <tr>\n",
       "      <th>191</th>\n",
       "      <td>Vietnam</td>\n",
       "      <td>314</td>\n",
       "      <td>VN</td>\n",
       "      <td>39.30%</td>\n",
       "      <td>331,210</td>\n",
       "      <td>522,000</td>\n",
       "      <td>16.75</td>\n",
       "      <td>84.0</td>\n",
       "      <td>Hanoi</td>\n",
       "      <td>192,668</td>\n",
       "      <td>...</td>\n",
       "      <td>43.50%</td>\n",
       "      <td>0.82</td>\n",
       "      <td>96,462,106</td>\n",
       "      <td>77.40%</td>\n",
       "      <td>19.10%</td>\n",
       "      <td>37.60%</td>\n",
       "      <td>2.01%</td>\n",
       "      <td>35,332,140</td>\n",
       "      <td>14.058324</td>\n",
       "      <td>108.277199</td>\n",
       "    </tr>\n",
       "    <tr>\n",
       "      <th>192</th>\n",
       "      <td>Yemen</td>\n",
       "      <td>56</td>\n",
       "      <td>YE</td>\n",
       "      <td>44.60%</td>\n",
       "      <td>527,968</td>\n",
       "      <td>40,000</td>\n",
       "      <td>30.45</td>\n",
       "      <td>967.0</td>\n",
       "      <td>Sanaa</td>\n",
       "      <td>10,609</td>\n",
       "      <td>...</td>\n",
       "      <td>81.00%</td>\n",
       "      <td>0.31</td>\n",
       "      <td>29,161,922</td>\n",
       "      <td>38.00%</td>\n",
       "      <td>NaN</td>\n",
       "      <td>26.60%</td>\n",
       "      <td>12.91%</td>\n",
       "      <td>10,869,523</td>\n",
       "      <td>15.552727</td>\n",
       "      <td>48.516388</td>\n",
       "    </tr>\n",
       "    <tr>\n",
       "      <th>193</th>\n",
       "      <td>Zambia</td>\n",
       "      <td>25</td>\n",
       "      <td>ZM</td>\n",
       "      <td>32.10%</td>\n",
       "      <td>752,618</td>\n",
       "      <td>16,000</td>\n",
       "      <td>36.19</td>\n",
       "      <td>260.0</td>\n",
       "      <td>Lusaka</td>\n",
       "      <td>5,141</td>\n",
       "      <td>...</td>\n",
       "      <td>27.50%</td>\n",
       "      <td>1.19</td>\n",
       "      <td>17,861,030</td>\n",
       "      <td>74.60%</td>\n",
       "      <td>16.20%</td>\n",
       "      <td>15.60%</td>\n",
       "      <td>11.43%</td>\n",
       "      <td>7,871,713</td>\n",
       "      <td>-13.133897</td>\n",
       "      <td>27.849332</td>\n",
       "    </tr>\n",
       "    <tr>\n",
       "      <th>194</th>\n",
       "      <td>Zimbabwe</td>\n",
       "      <td>38</td>\n",
       "      <td>ZW</td>\n",
       "      <td>41.90%</td>\n",
       "      <td>390,757</td>\n",
       "      <td>51,000</td>\n",
       "      <td>30.68</td>\n",
       "      <td>263.0</td>\n",
       "      <td>Harare</td>\n",
       "      <td>10,983</td>\n",
       "      <td>...</td>\n",
       "      <td>25.80%</td>\n",
       "      <td>0.21</td>\n",
       "      <td>14,645,468</td>\n",
       "      <td>83.10%</td>\n",
       "      <td>20.70%</td>\n",
       "      <td>31.60%</td>\n",
       "      <td>4.95%</td>\n",
       "      <td>4,717,305</td>\n",
       "      <td>-19.015438</td>\n",
       "      <td>29.154857</td>\n",
       "    </tr>\n",
       "  </tbody>\n",
       "</table>\n",
       "<p>195 rows × 35 columns</p>\n",
       "</div>"
      ],
      "text/plain": [
       "         Country Density\\n(P/Km2) Abbreviation Agricultural Land( %)  \\\n",
       "0    Afghanistan               60           AF                58.10%   \n",
       "1        Albania              105           AL                43.10%   \n",
       "2        Algeria               18           DZ                17.40%   \n",
       "3        Andorra              164           AD                40.00%   \n",
       "4         Angola               26           AO                47.50%   \n",
       "..           ...              ...          ...                   ...   \n",
       "190    Venezuela               32           VE                24.50%   \n",
       "191      Vietnam              314           VN                39.30%   \n",
       "192        Yemen               56           YE                44.60%   \n",
       "193       Zambia               25           ZM                32.10%   \n",
       "194     Zimbabwe               38           ZW                41.90%   \n",
       "\n",
       "    Land Area(Km2) Armed Forces size  Birth Rate  Calling Code  \\\n",
       "0          652,230           323,000       32.49          93.0   \n",
       "1           28,748             9,000       11.78         355.0   \n",
       "2        2,381,741           317,000       24.28         213.0   \n",
       "3              468               NaN        7.20         376.0   \n",
       "4        1,246,700           117,000       40.73         244.0   \n",
       "..             ...               ...         ...           ...   \n",
       "190        912,050           343,000       17.88          58.0   \n",
       "191        331,210           522,000       16.75          84.0   \n",
       "192        527,968            40,000       30.45         967.0   \n",
       "193        752,618            16,000       36.19         260.0   \n",
       "194        390,757            51,000       30.68         263.0   \n",
       "\n",
       "    Capital/Major City Co2-Emissions  ... Out of pocket health expenditure  \\\n",
       "0                Kabul         8,672  ...                           78.40%   \n",
       "1               Tirana         4,536  ...                           56.90%   \n",
       "2              Algiers       150,006  ...                           28.10%   \n",
       "3     Andorra la Vella           469  ...                           36.40%   \n",
       "4               Luanda        34,693  ...                           33.40%   \n",
       "..                 ...           ...  ...                              ...   \n",
       "190            Caracas       164,175  ...                           45.80%   \n",
       "191              Hanoi       192,668  ...                           43.50%   \n",
       "192              Sanaa        10,609  ...                           81.00%   \n",
       "193             Lusaka         5,141  ...                           27.50%   \n",
       "194             Harare        10,983  ...                           25.80%   \n",
       "\n",
       "    Physicians per thousand  Population  \\\n",
       "0                      0.28  38,041,754   \n",
       "1                      1.20   2,854,191   \n",
       "2                      1.72  43,053,054   \n",
       "3                      3.33      77,142   \n",
       "4                      0.21  31,825,295   \n",
       "..                      ...         ...   \n",
       "190                    1.92  28,515,829   \n",
       "191                    0.82  96,462,106   \n",
       "192                    0.31  29,161,922   \n",
       "193                    1.19  17,861,030   \n",
       "194                    0.21  14,645,468   \n",
       "\n",
       "     Population: Labor force participation (%) Tax revenue (%) Total tax rate  \\\n",
       "0                                       48.90%           9.30%         71.40%   \n",
       "1                                       55.70%          18.60%         36.60%   \n",
       "2                                       41.20%          37.20%         66.10%   \n",
       "3                                          NaN             NaN            NaN   \n",
       "4                                       77.50%           9.20%         49.10%   \n",
       "..                                         ...             ...            ...   \n",
       "190                                     59.70%             NaN         73.30%   \n",
       "191                                     77.40%          19.10%         37.60%   \n",
       "192                                     38.00%             NaN         26.60%   \n",
       "193                                     74.60%          16.20%         15.60%   \n",
       "194                                     83.10%          20.70%         31.60%   \n",
       "\n",
       "    Unemployment rate Urban_population   Latitude   Longitude  \n",
       "0              11.12%        9,797,273  33.939110   67.709953  \n",
       "1              12.33%        1,747,593  41.153332   20.168331  \n",
       "2              11.70%       31,510,100  28.033886    1.659626  \n",
       "3                 NaN           67,873  42.506285    1.521801  \n",
       "4               6.89%       21,061,025 -11.202692   17.873887  \n",
       "..                ...              ...        ...         ...  \n",
       "190             8.80%       25,162,368   6.423750  -66.589730  \n",
       "191             2.01%       35,332,140  14.058324  108.277199  \n",
       "192            12.91%       10,869,523  15.552727   48.516388  \n",
       "193            11.43%        7,871,713 -13.133897   27.849332  \n",
       "194             4.95%        4,717,305 -19.015438   29.154857  \n",
       "\n",
       "[195 rows x 35 columns]"
      ]
     },
     "execution_count": 54,
     "metadata": {},
     "output_type": "execute_result"
    }
   ],
   "source": [
    "df"
   ]
  },
  {
   "cell_type": "markdown",
   "metadata": {
    "id": "PoHX7XIuGso9"
   },
   "source": [
    "Если мы захотим удалить столбец, то это можно сделать с помощью метода `df.drop`, которому нужно передать название столбца и параметр `axis=1`."
   ]
  },
  {
   "cell_type": "code",
   "execution_count": 55,
   "metadata": {
    "colab": {
     "base_uri": "https://localhost:8080/",
     "height": 565
    },
    "id": "MB0IjD3bG45I",
    "outputId": "9d0c63aa-e937-4df0-c1a2-dfa2d2f0f128"
   },
   "outputs": [
    {
     "data": {
      "text/html": [
       "<div>\n",
       "<style scoped>\n",
       "    .dataframe tbody tr th:only-of-type {\n",
       "        vertical-align: middle;\n",
       "    }\n",
       "\n",
       "    .dataframe tbody tr th {\n",
       "        vertical-align: top;\n",
       "    }\n",
       "\n",
       "    .dataframe thead th {\n",
       "        text-align: right;\n",
       "    }\n",
       "</style>\n",
       "<table border=\"1\" class=\"dataframe\">\n",
       "  <thead>\n",
       "    <tr style=\"text-align: right;\">\n",
       "      <th></th>\n",
       "      <th>Country</th>\n",
       "      <th>Abbreviation</th>\n",
       "      <th>Agricultural Land( %)</th>\n",
       "      <th>Land Area(Km2)</th>\n",
       "      <th>Armed Forces size</th>\n",
       "      <th>Birth Rate</th>\n",
       "      <th>Calling Code</th>\n",
       "      <th>Capital/Major City</th>\n",
       "      <th>Co2-Emissions</th>\n",
       "      <th>CPI</th>\n",
       "      <th>...</th>\n",
       "      <th>Out of pocket health expenditure</th>\n",
       "      <th>Physicians per thousand</th>\n",
       "      <th>Population</th>\n",
       "      <th>Population: Labor force participation (%)</th>\n",
       "      <th>Tax revenue (%)</th>\n",
       "      <th>Total tax rate</th>\n",
       "      <th>Unemployment rate</th>\n",
       "      <th>Urban_population</th>\n",
       "      <th>Latitude</th>\n",
       "      <th>Longitude</th>\n",
       "    </tr>\n",
       "  </thead>\n",
       "  <tbody>\n",
       "    <tr>\n",
       "      <th>0</th>\n",
       "      <td>Afghanistan</td>\n",
       "      <td>AF</td>\n",
       "      <td>58.10%</td>\n",
       "      <td>652,230</td>\n",
       "      <td>323,000</td>\n",
       "      <td>32.49</td>\n",
       "      <td>93.0</td>\n",
       "      <td>Kabul</td>\n",
       "      <td>8,672</td>\n",
       "      <td>149.9</td>\n",
       "      <td>...</td>\n",
       "      <td>78.40%</td>\n",
       "      <td>0.28</td>\n",
       "      <td>38,041,754</td>\n",
       "      <td>48.90%</td>\n",
       "      <td>9.30%</td>\n",
       "      <td>71.40%</td>\n",
       "      <td>11.12%</td>\n",
       "      <td>9,797,273</td>\n",
       "      <td>33.939110</td>\n",
       "      <td>67.709953</td>\n",
       "    </tr>\n",
       "    <tr>\n",
       "      <th>1</th>\n",
       "      <td>Albania</td>\n",
       "      <td>AL</td>\n",
       "      <td>43.10%</td>\n",
       "      <td>28,748</td>\n",
       "      <td>9,000</td>\n",
       "      <td>11.78</td>\n",
       "      <td>355.0</td>\n",
       "      <td>Tirana</td>\n",
       "      <td>4,536</td>\n",
       "      <td>119.05</td>\n",
       "      <td>...</td>\n",
       "      <td>56.90%</td>\n",
       "      <td>1.20</td>\n",
       "      <td>2,854,191</td>\n",
       "      <td>55.70%</td>\n",
       "      <td>18.60%</td>\n",
       "      <td>36.60%</td>\n",
       "      <td>12.33%</td>\n",
       "      <td>1,747,593</td>\n",
       "      <td>41.153332</td>\n",
       "      <td>20.168331</td>\n",
       "    </tr>\n",
       "    <tr>\n",
       "      <th>2</th>\n",
       "      <td>Algeria</td>\n",
       "      <td>DZ</td>\n",
       "      <td>17.40%</td>\n",
       "      <td>2,381,741</td>\n",
       "      <td>317,000</td>\n",
       "      <td>24.28</td>\n",
       "      <td>213.0</td>\n",
       "      <td>Algiers</td>\n",
       "      <td>150,006</td>\n",
       "      <td>151.36</td>\n",
       "      <td>...</td>\n",
       "      <td>28.10%</td>\n",
       "      <td>1.72</td>\n",
       "      <td>43,053,054</td>\n",
       "      <td>41.20%</td>\n",
       "      <td>37.20%</td>\n",
       "      <td>66.10%</td>\n",
       "      <td>11.70%</td>\n",
       "      <td>31,510,100</td>\n",
       "      <td>28.033886</td>\n",
       "      <td>1.659626</td>\n",
       "    </tr>\n",
       "    <tr>\n",
       "      <th>3</th>\n",
       "      <td>Andorra</td>\n",
       "      <td>AD</td>\n",
       "      <td>40.00%</td>\n",
       "      <td>468</td>\n",
       "      <td>NaN</td>\n",
       "      <td>7.20</td>\n",
       "      <td>376.0</td>\n",
       "      <td>Andorra la Vella</td>\n",
       "      <td>469</td>\n",
       "      <td>NaN</td>\n",
       "      <td>...</td>\n",
       "      <td>36.40%</td>\n",
       "      <td>3.33</td>\n",
       "      <td>77,142</td>\n",
       "      <td>NaN</td>\n",
       "      <td>NaN</td>\n",
       "      <td>NaN</td>\n",
       "      <td>NaN</td>\n",
       "      <td>67,873</td>\n",
       "      <td>42.506285</td>\n",
       "      <td>1.521801</td>\n",
       "    </tr>\n",
       "    <tr>\n",
       "      <th>4</th>\n",
       "      <td>Angola</td>\n",
       "      <td>AO</td>\n",
       "      <td>47.50%</td>\n",
       "      <td>1,246,700</td>\n",
       "      <td>117,000</td>\n",
       "      <td>40.73</td>\n",
       "      <td>244.0</td>\n",
       "      <td>Luanda</td>\n",
       "      <td>34,693</td>\n",
       "      <td>261.73</td>\n",
       "      <td>...</td>\n",
       "      <td>33.40%</td>\n",
       "      <td>0.21</td>\n",
       "      <td>31,825,295</td>\n",
       "      <td>77.50%</td>\n",
       "      <td>9.20%</td>\n",
       "      <td>49.10%</td>\n",
       "      <td>6.89%</td>\n",
       "      <td>21,061,025</td>\n",
       "      <td>-11.202692</td>\n",
       "      <td>17.873887</td>\n",
       "    </tr>\n",
       "    <tr>\n",
       "      <th>...</th>\n",
       "      <td>...</td>\n",
       "      <td>...</td>\n",
       "      <td>...</td>\n",
       "      <td>...</td>\n",
       "      <td>...</td>\n",
       "      <td>...</td>\n",
       "      <td>...</td>\n",
       "      <td>...</td>\n",
       "      <td>...</td>\n",
       "      <td>...</td>\n",
       "      <td>...</td>\n",
       "      <td>...</td>\n",
       "      <td>...</td>\n",
       "      <td>...</td>\n",
       "      <td>...</td>\n",
       "      <td>...</td>\n",
       "      <td>...</td>\n",
       "      <td>...</td>\n",
       "      <td>...</td>\n",
       "      <td>...</td>\n",
       "      <td>...</td>\n",
       "    </tr>\n",
       "    <tr>\n",
       "      <th>190</th>\n",
       "      <td>Venezuela</td>\n",
       "      <td>VE</td>\n",
       "      <td>24.50%</td>\n",
       "      <td>912,050</td>\n",
       "      <td>343,000</td>\n",
       "      <td>17.88</td>\n",
       "      <td>58.0</td>\n",
       "      <td>Caracas</td>\n",
       "      <td>164,175</td>\n",
       "      <td>2,740.27</td>\n",
       "      <td>...</td>\n",
       "      <td>45.80%</td>\n",
       "      <td>1.92</td>\n",
       "      <td>28,515,829</td>\n",
       "      <td>59.70%</td>\n",
       "      <td>NaN</td>\n",
       "      <td>73.30%</td>\n",
       "      <td>8.80%</td>\n",
       "      <td>25,162,368</td>\n",
       "      <td>6.423750</td>\n",
       "      <td>-66.589730</td>\n",
       "    </tr>\n",
       "    <tr>\n",
       "      <th>191</th>\n",
       "      <td>Vietnam</td>\n",
       "      <td>VN</td>\n",
       "      <td>39.30%</td>\n",
       "      <td>331,210</td>\n",
       "      <td>522,000</td>\n",
       "      <td>16.75</td>\n",
       "      <td>84.0</td>\n",
       "      <td>Hanoi</td>\n",
       "      <td>192,668</td>\n",
       "      <td>163.52</td>\n",
       "      <td>...</td>\n",
       "      <td>43.50%</td>\n",
       "      <td>0.82</td>\n",
       "      <td>96,462,106</td>\n",
       "      <td>77.40%</td>\n",
       "      <td>19.10%</td>\n",
       "      <td>37.60%</td>\n",
       "      <td>2.01%</td>\n",
       "      <td>35,332,140</td>\n",
       "      <td>14.058324</td>\n",
       "      <td>108.277199</td>\n",
       "    </tr>\n",
       "    <tr>\n",
       "      <th>192</th>\n",
       "      <td>Yemen</td>\n",
       "      <td>YE</td>\n",
       "      <td>44.60%</td>\n",
       "      <td>527,968</td>\n",
       "      <td>40,000</td>\n",
       "      <td>30.45</td>\n",
       "      <td>967.0</td>\n",
       "      <td>Sanaa</td>\n",
       "      <td>10,609</td>\n",
       "      <td>157.58</td>\n",
       "      <td>...</td>\n",
       "      <td>81.00%</td>\n",
       "      <td>0.31</td>\n",
       "      <td>29,161,922</td>\n",
       "      <td>38.00%</td>\n",
       "      <td>NaN</td>\n",
       "      <td>26.60%</td>\n",
       "      <td>12.91%</td>\n",
       "      <td>10,869,523</td>\n",
       "      <td>15.552727</td>\n",
       "      <td>48.516388</td>\n",
       "    </tr>\n",
       "    <tr>\n",
       "      <th>193</th>\n",
       "      <td>Zambia</td>\n",
       "      <td>ZM</td>\n",
       "      <td>32.10%</td>\n",
       "      <td>752,618</td>\n",
       "      <td>16,000</td>\n",
       "      <td>36.19</td>\n",
       "      <td>260.0</td>\n",
       "      <td>Lusaka</td>\n",
       "      <td>5,141</td>\n",
       "      <td>212.31</td>\n",
       "      <td>...</td>\n",
       "      <td>27.50%</td>\n",
       "      <td>1.19</td>\n",
       "      <td>17,861,030</td>\n",
       "      <td>74.60%</td>\n",
       "      <td>16.20%</td>\n",
       "      <td>15.60%</td>\n",
       "      <td>11.43%</td>\n",
       "      <td>7,871,713</td>\n",
       "      <td>-13.133897</td>\n",
       "      <td>27.849332</td>\n",
       "    </tr>\n",
       "    <tr>\n",
       "      <th>194</th>\n",
       "      <td>Zimbabwe</td>\n",
       "      <td>ZW</td>\n",
       "      <td>41.90%</td>\n",
       "      <td>390,757</td>\n",
       "      <td>51,000</td>\n",
       "      <td>30.68</td>\n",
       "      <td>263.0</td>\n",
       "      <td>Harare</td>\n",
       "      <td>10,983</td>\n",
       "      <td>105.51</td>\n",
       "      <td>...</td>\n",
       "      <td>25.80%</td>\n",
       "      <td>0.21</td>\n",
       "      <td>14,645,468</td>\n",
       "      <td>83.10%</td>\n",
       "      <td>20.70%</td>\n",
       "      <td>31.60%</td>\n",
       "      <td>4.95%</td>\n",
       "      <td>4,717,305</td>\n",
       "      <td>-19.015438</td>\n",
       "      <td>29.154857</td>\n",
       "    </tr>\n",
       "  </tbody>\n",
       "</table>\n",
       "<p>195 rows × 34 columns</p>\n",
       "</div>"
      ],
      "text/plain": [
       "         Country Abbreviation Agricultural Land( %) Land Area(Km2)  \\\n",
       "0    Afghanistan           AF                58.10%        652,230   \n",
       "1        Albania           AL                43.10%         28,748   \n",
       "2        Algeria           DZ                17.40%      2,381,741   \n",
       "3        Andorra           AD                40.00%            468   \n",
       "4         Angola           AO                47.50%      1,246,700   \n",
       "..           ...          ...                   ...            ...   \n",
       "190    Venezuela           VE                24.50%        912,050   \n",
       "191      Vietnam           VN                39.30%        331,210   \n",
       "192        Yemen           YE                44.60%        527,968   \n",
       "193       Zambia           ZM                32.10%        752,618   \n",
       "194     Zimbabwe           ZW                41.90%        390,757   \n",
       "\n",
       "    Armed Forces size  Birth Rate  Calling Code Capital/Major City  \\\n",
       "0             323,000       32.49          93.0              Kabul   \n",
       "1               9,000       11.78         355.0             Tirana   \n",
       "2             317,000       24.28         213.0            Algiers   \n",
       "3                 NaN        7.20         376.0   Andorra la Vella   \n",
       "4             117,000       40.73         244.0             Luanda   \n",
       "..                ...         ...           ...                ...   \n",
       "190           343,000       17.88          58.0            Caracas   \n",
       "191           522,000       16.75          84.0              Hanoi   \n",
       "192            40,000       30.45         967.0              Sanaa   \n",
       "193            16,000       36.19         260.0             Lusaka   \n",
       "194            51,000       30.68         263.0             Harare   \n",
       "\n",
       "    Co2-Emissions       CPI  ... Out of pocket health expenditure  \\\n",
       "0           8,672     149.9  ...                           78.40%   \n",
       "1           4,536    119.05  ...                           56.90%   \n",
       "2         150,006    151.36  ...                           28.10%   \n",
       "3             469       NaN  ...                           36.40%   \n",
       "4          34,693    261.73  ...                           33.40%   \n",
       "..            ...       ...  ...                              ...   \n",
       "190       164,175  2,740.27  ...                           45.80%   \n",
       "191       192,668    163.52  ...                           43.50%   \n",
       "192        10,609    157.58  ...                           81.00%   \n",
       "193         5,141    212.31  ...                           27.50%   \n",
       "194        10,983    105.51  ...                           25.80%   \n",
       "\n",
       "    Physicians per thousand  Population  \\\n",
       "0                      0.28  38,041,754   \n",
       "1                      1.20   2,854,191   \n",
       "2                      1.72  43,053,054   \n",
       "3                      3.33      77,142   \n",
       "4                      0.21  31,825,295   \n",
       "..                      ...         ...   \n",
       "190                    1.92  28,515,829   \n",
       "191                    0.82  96,462,106   \n",
       "192                    0.31  29,161,922   \n",
       "193                    1.19  17,861,030   \n",
       "194                    0.21  14,645,468   \n",
       "\n",
       "    Population: Labor force participation (%) Tax revenue (%) Total tax rate  \\\n",
       "0                                      48.90%           9.30%         71.40%   \n",
       "1                                      55.70%          18.60%         36.60%   \n",
       "2                                      41.20%          37.20%         66.10%   \n",
       "3                                         NaN             NaN            NaN   \n",
       "4                                      77.50%           9.20%         49.10%   \n",
       "..                                        ...             ...            ...   \n",
       "190                                    59.70%             NaN         73.30%   \n",
       "191                                    77.40%          19.10%         37.60%   \n",
       "192                                    38.00%             NaN         26.60%   \n",
       "193                                    74.60%          16.20%         15.60%   \n",
       "194                                    83.10%          20.70%         31.60%   \n",
       "\n",
       "    Unemployment rate Urban_population   Latitude   Longitude  \n",
       "0              11.12%        9,797,273  33.939110   67.709953  \n",
       "1              12.33%        1,747,593  41.153332   20.168331  \n",
       "2              11.70%       31,510,100  28.033886    1.659626  \n",
       "3                 NaN           67,873  42.506285    1.521801  \n",
       "4               6.89%       21,061,025 -11.202692   17.873887  \n",
       "..                ...              ...        ...         ...  \n",
       "190             8.80%       25,162,368   6.423750  -66.589730  \n",
       "191             2.01%       35,332,140  14.058324  108.277199  \n",
       "192            12.91%       10,869,523  15.552727   48.516388  \n",
       "193            11.43%        7,871,713 -13.133897   27.849332  \n",
       "194             4.95%        4,717,305 -19.015438   29.154857  \n",
       "\n",
       "[195 rows x 34 columns]"
      ]
     },
     "execution_count": 55,
     "metadata": {},
     "output_type": "execute_result"
    }
   ],
   "source": [
    "df.drop('Density\\n(P/Km2)', axis=1)"
   ]
  },
  {
   "cell_type": "markdown",
   "metadata": {
    "id": "kf7GfpKuHXa0"
   },
   "source": [
    "Однако, есть особенность.\n",
    "\n",
    "Если снова вывести датасет, то удаленный столбец окажется на своем месте"
   ]
  },
  {
   "cell_type": "code",
   "execution_count": 56,
   "metadata": {
    "colab": {
     "base_uri": "https://localhost:8080/",
     "height": 565
    },
    "id": "19gJ2nKbHWKa",
    "outputId": "1abc82af-8870-44c7-bcd0-792687b3c1b5"
   },
   "outputs": [
    {
     "data": {
      "text/html": [
       "<div>\n",
       "<style scoped>\n",
       "    .dataframe tbody tr th:only-of-type {\n",
       "        vertical-align: middle;\n",
       "    }\n",
       "\n",
       "    .dataframe tbody tr th {\n",
       "        vertical-align: top;\n",
       "    }\n",
       "\n",
       "    .dataframe thead th {\n",
       "        text-align: right;\n",
       "    }\n",
       "</style>\n",
       "<table border=\"1\" class=\"dataframe\">\n",
       "  <thead>\n",
       "    <tr style=\"text-align: right;\">\n",
       "      <th></th>\n",
       "      <th>Country</th>\n",
       "      <th>Density\\n(P/Km2)</th>\n",
       "      <th>Abbreviation</th>\n",
       "      <th>Agricultural Land( %)</th>\n",
       "      <th>Land Area(Km2)</th>\n",
       "      <th>Armed Forces size</th>\n",
       "      <th>Birth Rate</th>\n",
       "      <th>Calling Code</th>\n",
       "      <th>Capital/Major City</th>\n",
       "      <th>Co2-Emissions</th>\n",
       "      <th>...</th>\n",
       "      <th>Out of pocket health expenditure</th>\n",
       "      <th>Physicians per thousand</th>\n",
       "      <th>Population</th>\n",
       "      <th>Population: Labor force participation (%)</th>\n",
       "      <th>Tax revenue (%)</th>\n",
       "      <th>Total tax rate</th>\n",
       "      <th>Unemployment rate</th>\n",
       "      <th>Urban_population</th>\n",
       "      <th>Latitude</th>\n",
       "      <th>Longitude</th>\n",
       "    </tr>\n",
       "  </thead>\n",
       "  <tbody>\n",
       "    <tr>\n",
       "      <th>0</th>\n",
       "      <td>Afghanistan</td>\n",
       "      <td>60</td>\n",
       "      <td>AF</td>\n",
       "      <td>58.10%</td>\n",
       "      <td>652,230</td>\n",
       "      <td>323,000</td>\n",
       "      <td>32.49</td>\n",
       "      <td>93.0</td>\n",
       "      <td>Kabul</td>\n",
       "      <td>8,672</td>\n",
       "      <td>...</td>\n",
       "      <td>78.40%</td>\n",
       "      <td>0.28</td>\n",
       "      <td>38,041,754</td>\n",
       "      <td>48.90%</td>\n",
       "      <td>9.30%</td>\n",
       "      <td>71.40%</td>\n",
       "      <td>11.12%</td>\n",
       "      <td>9,797,273</td>\n",
       "      <td>33.939110</td>\n",
       "      <td>67.709953</td>\n",
       "    </tr>\n",
       "    <tr>\n",
       "      <th>1</th>\n",
       "      <td>Albania</td>\n",
       "      <td>105</td>\n",
       "      <td>AL</td>\n",
       "      <td>43.10%</td>\n",
       "      <td>28,748</td>\n",
       "      <td>9,000</td>\n",
       "      <td>11.78</td>\n",
       "      <td>355.0</td>\n",
       "      <td>Tirana</td>\n",
       "      <td>4,536</td>\n",
       "      <td>...</td>\n",
       "      <td>56.90%</td>\n",
       "      <td>1.20</td>\n",
       "      <td>2,854,191</td>\n",
       "      <td>55.70%</td>\n",
       "      <td>18.60%</td>\n",
       "      <td>36.60%</td>\n",
       "      <td>12.33%</td>\n",
       "      <td>1,747,593</td>\n",
       "      <td>41.153332</td>\n",
       "      <td>20.168331</td>\n",
       "    </tr>\n",
       "    <tr>\n",
       "      <th>2</th>\n",
       "      <td>Algeria</td>\n",
       "      <td>18</td>\n",
       "      <td>DZ</td>\n",
       "      <td>17.40%</td>\n",
       "      <td>2,381,741</td>\n",
       "      <td>317,000</td>\n",
       "      <td>24.28</td>\n",
       "      <td>213.0</td>\n",
       "      <td>Algiers</td>\n",
       "      <td>150,006</td>\n",
       "      <td>...</td>\n",
       "      <td>28.10%</td>\n",
       "      <td>1.72</td>\n",
       "      <td>43,053,054</td>\n",
       "      <td>41.20%</td>\n",
       "      <td>37.20%</td>\n",
       "      <td>66.10%</td>\n",
       "      <td>11.70%</td>\n",
       "      <td>31,510,100</td>\n",
       "      <td>28.033886</td>\n",
       "      <td>1.659626</td>\n",
       "    </tr>\n",
       "    <tr>\n",
       "      <th>3</th>\n",
       "      <td>Andorra</td>\n",
       "      <td>164</td>\n",
       "      <td>AD</td>\n",
       "      <td>40.00%</td>\n",
       "      <td>468</td>\n",
       "      <td>NaN</td>\n",
       "      <td>7.20</td>\n",
       "      <td>376.0</td>\n",
       "      <td>Andorra la Vella</td>\n",
       "      <td>469</td>\n",
       "      <td>...</td>\n",
       "      <td>36.40%</td>\n",
       "      <td>3.33</td>\n",
       "      <td>77,142</td>\n",
       "      <td>NaN</td>\n",
       "      <td>NaN</td>\n",
       "      <td>NaN</td>\n",
       "      <td>NaN</td>\n",
       "      <td>67,873</td>\n",
       "      <td>42.506285</td>\n",
       "      <td>1.521801</td>\n",
       "    </tr>\n",
       "    <tr>\n",
       "      <th>4</th>\n",
       "      <td>Angola</td>\n",
       "      <td>26</td>\n",
       "      <td>AO</td>\n",
       "      <td>47.50%</td>\n",
       "      <td>1,246,700</td>\n",
       "      <td>117,000</td>\n",
       "      <td>40.73</td>\n",
       "      <td>244.0</td>\n",
       "      <td>Luanda</td>\n",
       "      <td>34,693</td>\n",
       "      <td>...</td>\n",
       "      <td>33.40%</td>\n",
       "      <td>0.21</td>\n",
       "      <td>31,825,295</td>\n",
       "      <td>77.50%</td>\n",
       "      <td>9.20%</td>\n",
       "      <td>49.10%</td>\n",
       "      <td>6.89%</td>\n",
       "      <td>21,061,025</td>\n",
       "      <td>-11.202692</td>\n",
       "      <td>17.873887</td>\n",
       "    </tr>\n",
       "    <tr>\n",
       "      <th>...</th>\n",
       "      <td>...</td>\n",
       "      <td>...</td>\n",
       "      <td>...</td>\n",
       "      <td>...</td>\n",
       "      <td>...</td>\n",
       "      <td>...</td>\n",
       "      <td>...</td>\n",
       "      <td>...</td>\n",
       "      <td>...</td>\n",
       "      <td>...</td>\n",
       "      <td>...</td>\n",
       "      <td>...</td>\n",
       "      <td>...</td>\n",
       "      <td>...</td>\n",
       "      <td>...</td>\n",
       "      <td>...</td>\n",
       "      <td>...</td>\n",
       "      <td>...</td>\n",
       "      <td>...</td>\n",
       "      <td>...</td>\n",
       "      <td>...</td>\n",
       "    </tr>\n",
       "    <tr>\n",
       "      <th>190</th>\n",
       "      <td>Venezuela</td>\n",
       "      <td>32</td>\n",
       "      <td>VE</td>\n",
       "      <td>24.50%</td>\n",
       "      <td>912,050</td>\n",
       "      <td>343,000</td>\n",
       "      <td>17.88</td>\n",
       "      <td>58.0</td>\n",
       "      <td>Caracas</td>\n",
       "      <td>164,175</td>\n",
       "      <td>...</td>\n",
       "      <td>45.80%</td>\n",
       "      <td>1.92</td>\n",
       "      <td>28,515,829</td>\n",
       "      <td>59.70%</td>\n",
       "      <td>NaN</td>\n",
       "      <td>73.30%</td>\n",
       "      <td>8.80%</td>\n",
       "      <td>25,162,368</td>\n",
       "      <td>6.423750</td>\n",
       "      <td>-66.589730</td>\n",
       "    </tr>\n",
       "    <tr>\n",
       "      <th>191</th>\n",
       "      <td>Vietnam</td>\n",
       "      <td>314</td>\n",
       "      <td>VN</td>\n",
       "      <td>39.30%</td>\n",
       "      <td>331,210</td>\n",
       "      <td>522,000</td>\n",
       "      <td>16.75</td>\n",
       "      <td>84.0</td>\n",
       "      <td>Hanoi</td>\n",
       "      <td>192,668</td>\n",
       "      <td>...</td>\n",
       "      <td>43.50%</td>\n",
       "      <td>0.82</td>\n",
       "      <td>96,462,106</td>\n",
       "      <td>77.40%</td>\n",
       "      <td>19.10%</td>\n",
       "      <td>37.60%</td>\n",
       "      <td>2.01%</td>\n",
       "      <td>35,332,140</td>\n",
       "      <td>14.058324</td>\n",
       "      <td>108.277199</td>\n",
       "    </tr>\n",
       "    <tr>\n",
       "      <th>192</th>\n",
       "      <td>Yemen</td>\n",
       "      <td>56</td>\n",
       "      <td>YE</td>\n",
       "      <td>44.60%</td>\n",
       "      <td>527,968</td>\n",
       "      <td>40,000</td>\n",
       "      <td>30.45</td>\n",
       "      <td>967.0</td>\n",
       "      <td>Sanaa</td>\n",
       "      <td>10,609</td>\n",
       "      <td>...</td>\n",
       "      <td>81.00%</td>\n",
       "      <td>0.31</td>\n",
       "      <td>29,161,922</td>\n",
       "      <td>38.00%</td>\n",
       "      <td>NaN</td>\n",
       "      <td>26.60%</td>\n",
       "      <td>12.91%</td>\n",
       "      <td>10,869,523</td>\n",
       "      <td>15.552727</td>\n",
       "      <td>48.516388</td>\n",
       "    </tr>\n",
       "    <tr>\n",
       "      <th>193</th>\n",
       "      <td>Zambia</td>\n",
       "      <td>25</td>\n",
       "      <td>ZM</td>\n",
       "      <td>32.10%</td>\n",
       "      <td>752,618</td>\n",
       "      <td>16,000</td>\n",
       "      <td>36.19</td>\n",
       "      <td>260.0</td>\n",
       "      <td>Lusaka</td>\n",
       "      <td>5,141</td>\n",
       "      <td>...</td>\n",
       "      <td>27.50%</td>\n",
       "      <td>1.19</td>\n",
       "      <td>17,861,030</td>\n",
       "      <td>74.60%</td>\n",
       "      <td>16.20%</td>\n",
       "      <td>15.60%</td>\n",
       "      <td>11.43%</td>\n",
       "      <td>7,871,713</td>\n",
       "      <td>-13.133897</td>\n",
       "      <td>27.849332</td>\n",
       "    </tr>\n",
       "    <tr>\n",
       "      <th>194</th>\n",
       "      <td>Zimbabwe</td>\n",
       "      <td>38</td>\n",
       "      <td>ZW</td>\n",
       "      <td>41.90%</td>\n",
       "      <td>390,757</td>\n",
       "      <td>51,000</td>\n",
       "      <td>30.68</td>\n",
       "      <td>263.0</td>\n",
       "      <td>Harare</td>\n",
       "      <td>10,983</td>\n",
       "      <td>...</td>\n",
       "      <td>25.80%</td>\n",
       "      <td>0.21</td>\n",
       "      <td>14,645,468</td>\n",
       "      <td>83.10%</td>\n",
       "      <td>20.70%</td>\n",
       "      <td>31.60%</td>\n",
       "      <td>4.95%</td>\n",
       "      <td>4,717,305</td>\n",
       "      <td>-19.015438</td>\n",
       "      <td>29.154857</td>\n",
       "    </tr>\n",
       "  </tbody>\n",
       "</table>\n",
       "<p>195 rows × 35 columns</p>\n",
       "</div>"
      ],
      "text/plain": [
       "         Country Density\\n(P/Km2) Abbreviation Agricultural Land( %)  \\\n",
       "0    Afghanistan               60           AF                58.10%   \n",
       "1        Albania              105           AL                43.10%   \n",
       "2        Algeria               18           DZ                17.40%   \n",
       "3        Andorra              164           AD                40.00%   \n",
       "4         Angola               26           AO                47.50%   \n",
       "..           ...              ...          ...                   ...   \n",
       "190    Venezuela               32           VE                24.50%   \n",
       "191      Vietnam              314           VN                39.30%   \n",
       "192        Yemen               56           YE                44.60%   \n",
       "193       Zambia               25           ZM                32.10%   \n",
       "194     Zimbabwe               38           ZW                41.90%   \n",
       "\n",
       "    Land Area(Km2) Armed Forces size  Birth Rate  Calling Code  \\\n",
       "0          652,230           323,000       32.49          93.0   \n",
       "1           28,748             9,000       11.78         355.0   \n",
       "2        2,381,741           317,000       24.28         213.0   \n",
       "3              468               NaN        7.20         376.0   \n",
       "4        1,246,700           117,000       40.73         244.0   \n",
       "..             ...               ...         ...           ...   \n",
       "190        912,050           343,000       17.88          58.0   \n",
       "191        331,210           522,000       16.75          84.0   \n",
       "192        527,968            40,000       30.45         967.0   \n",
       "193        752,618            16,000       36.19         260.0   \n",
       "194        390,757            51,000       30.68         263.0   \n",
       "\n",
       "    Capital/Major City Co2-Emissions  ... Out of pocket health expenditure  \\\n",
       "0                Kabul         8,672  ...                           78.40%   \n",
       "1               Tirana         4,536  ...                           56.90%   \n",
       "2              Algiers       150,006  ...                           28.10%   \n",
       "3     Andorra la Vella           469  ...                           36.40%   \n",
       "4               Luanda        34,693  ...                           33.40%   \n",
       "..                 ...           ...  ...                              ...   \n",
       "190            Caracas       164,175  ...                           45.80%   \n",
       "191              Hanoi       192,668  ...                           43.50%   \n",
       "192              Sanaa        10,609  ...                           81.00%   \n",
       "193             Lusaka         5,141  ...                           27.50%   \n",
       "194             Harare        10,983  ...                           25.80%   \n",
       "\n",
       "    Physicians per thousand  Population  \\\n",
       "0                      0.28  38,041,754   \n",
       "1                      1.20   2,854,191   \n",
       "2                      1.72  43,053,054   \n",
       "3                      3.33      77,142   \n",
       "4                      0.21  31,825,295   \n",
       "..                      ...         ...   \n",
       "190                    1.92  28,515,829   \n",
       "191                    0.82  96,462,106   \n",
       "192                    0.31  29,161,922   \n",
       "193                    1.19  17,861,030   \n",
       "194                    0.21  14,645,468   \n",
       "\n",
       "     Population: Labor force participation (%) Tax revenue (%) Total tax rate  \\\n",
       "0                                       48.90%           9.30%         71.40%   \n",
       "1                                       55.70%          18.60%         36.60%   \n",
       "2                                       41.20%          37.20%         66.10%   \n",
       "3                                          NaN             NaN            NaN   \n",
       "4                                       77.50%           9.20%         49.10%   \n",
       "..                                         ...             ...            ...   \n",
       "190                                     59.70%             NaN         73.30%   \n",
       "191                                     77.40%          19.10%         37.60%   \n",
       "192                                     38.00%             NaN         26.60%   \n",
       "193                                     74.60%          16.20%         15.60%   \n",
       "194                                     83.10%          20.70%         31.60%   \n",
       "\n",
       "    Unemployment rate Urban_population   Latitude   Longitude  \n",
       "0              11.12%        9,797,273  33.939110   67.709953  \n",
       "1              12.33%        1,747,593  41.153332   20.168331  \n",
       "2              11.70%       31,510,100  28.033886    1.659626  \n",
       "3                 NaN           67,873  42.506285    1.521801  \n",
       "4               6.89%       21,061,025 -11.202692   17.873887  \n",
       "..                ...              ...        ...         ...  \n",
       "190             8.80%       25,162,368   6.423750  -66.589730  \n",
       "191             2.01%       35,332,140  14.058324  108.277199  \n",
       "192            12.91%       10,869,523  15.552727   48.516388  \n",
       "193            11.43%        7,871,713 -13.133897   27.849332  \n",
       "194             4.95%        4,717,305 -19.015438   29.154857  \n",
       "\n",
       "[195 rows x 35 columns]"
      ]
     },
     "execution_count": 56,
     "metadata": {},
     "output_type": "execute_result"
    }
   ],
   "source": [
    "df"
   ]
  },
  {
   "cell_type": "markdown",
   "metadata": {
    "id": "W-HqGqFGHhad"
   },
   "source": [
    "Если столбец все же нужно окончательно удалить из датасета, то нужно воспользоваться следующей конструкцией, которая переопределит исходный объект."
   ]
  },
  {
   "cell_type": "code",
   "execution_count": null,
   "metadata": {
    "id": "f1K3isnoIMT-"
   },
   "outputs": [],
   "source": [
    "df = df.drop('Density\\n(P/Km2)', axis=1)"
   ]
  },
  {
   "cell_type": "code",
   "execution_count": 60,
   "metadata": {
    "colab": {
     "base_uri": "https://localhost:8080/",
     "height": 565
    },
    "id": "vQRtB361Iak0",
    "outputId": "657115a8-a822-428c-ce7a-cac489a876f5"
   },
   "outputs": [
    {
     "data": {
      "text/html": [
       "<div>\n",
       "<style scoped>\n",
       "    .dataframe tbody tr th:only-of-type {\n",
       "        vertical-align: middle;\n",
       "    }\n",
       "\n",
       "    .dataframe tbody tr th {\n",
       "        vertical-align: top;\n",
       "    }\n",
       "\n",
       "    .dataframe thead th {\n",
       "        text-align: right;\n",
       "    }\n",
       "</style>\n",
       "<table border=\"1\" class=\"dataframe\">\n",
       "  <thead>\n",
       "    <tr style=\"text-align: right;\">\n",
       "      <th></th>\n",
       "      <th>Country</th>\n",
       "      <th>Density\\n(P/Km2)</th>\n",
       "      <th>Abbreviation</th>\n",
       "      <th>Agricultural Land( %)</th>\n",
       "      <th>Land Area(Km2)</th>\n",
       "      <th>Armed Forces size</th>\n",
       "      <th>Birth Rate</th>\n",
       "      <th>Calling Code</th>\n",
       "      <th>Capital/Major City</th>\n",
       "      <th>Co2-Emissions</th>\n",
       "      <th>...</th>\n",
       "      <th>Out of pocket health expenditure</th>\n",
       "      <th>Physicians per thousand</th>\n",
       "      <th>Population</th>\n",
       "      <th>Population: Labor force participation (%)</th>\n",
       "      <th>Tax revenue (%)</th>\n",
       "      <th>Total tax rate</th>\n",
       "      <th>Unemployment rate</th>\n",
       "      <th>Urban_population</th>\n",
       "      <th>Latitude</th>\n",
       "      <th>Longitude</th>\n",
       "    </tr>\n",
       "  </thead>\n",
       "  <tbody>\n",
       "    <tr>\n",
       "      <th>0</th>\n",
       "      <td>Afghanistan</td>\n",
       "      <td>60</td>\n",
       "      <td>AF</td>\n",
       "      <td>58.10%</td>\n",
       "      <td>652,230</td>\n",
       "      <td>323,000</td>\n",
       "      <td>32.49</td>\n",
       "      <td>93.0</td>\n",
       "      <td>Kabul</td>\n",
       "      <td>8,672</td>\n",
       "      <td>...</td>\n",
       "      <td>78.40%</td>\n",
       "      <td>0.28</td>\n",
       "      <td>38,041,754</td>\n",
       "      <td>48.90%</td>\n",
       "      <td>9.30%</td>\n",
       "      <td>71.40%</td>\n",
       "      <td>11.12%</td>\n",
       "      <td>9,797,273</td>\n",
       "      <td>33.939110</td>\n",
       "      <td>67.709953</td>\n",
       "    </tr>\n",
       "    <tr>\n",
       "      <th>1</th>\n",
       "      <td>Albania</td>\n",
       "      <td>105</td>\n",
       "      <td>AL</td>\n",
       "      <td>43.10%</td>\n",
       "      <td>28,748</td>\n",
       "      <td>9,000</td>\n",
       "      <td>11.78</td>\n",
       "      <td>355.0</td>\n",
       "      <td>Tirana</td>\n",
       "      <td>4,536</td>\n",
       "      <td>...</td>\n",
       "      <td>56.90%</td>\n",
       "      <td>1.20</td>\n",
       "      <td>2,854,191</td>\n",
       "      <td>55.70%</td>\n",
       "      <td>18.60%</td>\n",
       "      <td>36.60%</td>\n",
       "      <td>12.33%</td>\n",
       "      <td>1,747,593</td>\n",
       "      <td>41.153332</td>\n",
       "      <td>20.168331</td>\n",
       "    </tr>\n",
       "    <tr>\n",
       "      <th>2</th>\n",
       "      <td>Algeria</td>\n",
       "      <td>18</td>\n",
       "      <td>DZ</td>\n",
       "      <td>17.40%</td>\n",
       "      <td>2,381,741</td>\n",
       "      <td>317,000</td>\n",
       "      <td>24.28</td>\n",
       "      <td>213.0</td>\n",
       "      <td>Algiers</td>\n",
       "      <td>150,006</td>\n",
       "      <td>...</td>\n",
       "      <td>28.10%</td>\n",
       "      <td>1.72</td>\n",
       "      <td>43,053,054</td>\n",
       "      <td>41.20%</td>\n",
       "      <td>37.20%</td>\n",
       "      <td>66.10%</td>\n",
       "      <td>11.70%</td>\n",
       "      <td>31,510,100</td>\n",
       "      <td>28.033886</td>\n",
       "      <td>1.659626</td>\n",
       "    </tr>\n",
       "    <tr>\n",
       "      <th>3</th>\n",
       "      <td>Andorra</td>\n",
       "      <td>164</td>\n",
       "      <td>AD</td>\n",
       "      <td>40.00%</td>\n",
       "      <td>468</td>\n",
       "      <td>NaN</td>\n",
       "      <td>7.20</td>\n",
       "      <td>376.0</td>\n",
       "      <td>Andorra la Vella</td>\n",
       "      <td>469</td>\n",
       "      <td>...</td>\n",
       "      <td>36.40%</td>\n",
       "      <td>3.33</td>\n",
       "      <td>77,142</td>\n",
       "      <td>NaN</td>\n",
       "      <td>NaN</td>\n",
       "      <td>NaN</td>\n",
       "      <td>NaN</td>\n",
       "      <td>67,873</td>\n",
       "      <td>42.506285</td>\n",
       "      <td>1.521801</td>\n",
       "    </tr>\n",
       "    <tr>\n",
       "      <th>4</th>\n",
       "      <td>Angola</td>\n",
       "      <td>26</td>\n",
       "      <td>AO</td>\n",
       "      <td>47.50%</td>\n",
       "      <td>1,246,700</td>\n",
       "      <td>117,000</td>\n",
       "      <td>40.73</td>\n",
       "      <td>244.0</td>\n",
       "      <td>Luanda</td>\n",
       "      <td>34,693</td>\n",
       "      <td>...</td>\n",
       "      <td>33.40%</td>\n",
       "      <td>0.21</td>\n",
       "      <td>31,825,295</td>\n",
       "      <td>77.50%</td>\n",
       "      <td>9.20%</td>\n",
       "      <td>49.10%</td>\n",
       "      <td>6.89%</td>\n",
       "      <td>21,061,025</td>\n",
       "      <td>-11.202692</td>\n",
       "      <td>17.873887</td>\n",
       "    </tr>\n",
       "    <tr>\n",
       "      <th>...</th>\n",
       "      <td>...</td>\n",
       "      <td>...</td>\n",
       "      <td>...</td>\n",
       "      <td>...</td>\n",
       "      <td>...</td>\n",
       "      <td>...</td>\n",
       "      <td>...</td>\n",
       "      <td>...</td>\n",
       "      <td>...</td>\n",
       "      <td>...</td>\n",
       "      <td>...</td>\n",
       "      <td>...</td>\n",
       "      <td>...</td>\n",
       "      <td>...</td>\n",
       "      <td>...</td>\n",
       "      <td>...</td>\n",
       "      <td>...</td>\n",
       "      <td>...</td>\n",
       "      <td>...</td>\n",
       "      <td>...</td>\n",
       "      <td>...</td>\n",
       "    </tr>\n",
       "    <tr>\n",
       "      <th>190</th>\n",
       "      <td>Venezuela</td>\n",
       "      <td>32</td>\n",
       "      <td>VE</td>\n",
       "      <td>24.50%</td>\n",
       "      <td>912,050</td>\n",
       "      <td>343,000</td>\n",
       "      <td>17.88</td>\n",
       "      <td>58.0</td>\n",
       "      <td>Caracas</td>\n",
       "      <td>164,175</td>\n",
       "      <td>...</td>\n",
       "      <td>45.80%</td>\n",
       "      <td>1.92</td>\n",
       "      <td>28,515,829</td>\n",
       "      <td>59.70%</td>\n",
       "      <td>NaN</td>\n",
       "      <td>73.30%</td>\n",
       "      <td>8.80%</td>\n",
       "      <td>25,162,368</td>\n",
       "      <td>6.423750</td>\n",
       "      <td>-66.589730</td>\n",
       "    </tr>\n",
       "    <tr>\n",
       "      <th>191</th>\n",
       "      <td>Vietnam</td>\n",
       "      <td>314</td>\n",
       "      <td>VN</td>\n",
       "      <td>39.30%</td>\n",
       "      <td>331,210</td>\n",
       "      <td>522,000</td>\n",
       "      <td>16.75</td>\n",
       "      <td>84.0</td>\n",
       "      <td>Hanoi</td>\n",
       "      <td>192,668</td>\n",
       "      <td>...</td>\n",
       "      <td>43.50%</td>\n",
       "      <td>0.82</td>\n",
       "      <td>96,462,106</td>\n",
       "      <td>77.40%</td>\n",
       "      <td>19.10%</td>\n",
       "      <td>37.60%</td>\n",
       "      <td>2.01%</td>\n",
       "      <td>35,332,140</td>\n",
       "      <td>14.058324</td>\n",
       "      <td>108.277199</td>\n",
       "    </tr>\n",
       "    <tr>\n",
       "      <th>192</th>\n",
       "      <td>Yemen</td>\n",
       "      <td>56</td>\n",
       "      <td>YE</td>\n",
       "      <td>44.60%</td>\n",
       "      <td>527,968</td>\n",
       "      <td>40,000</td>\n",
       "      <td>30.45</td>\n",
       "      <td>967.0</td>\n",
       "      <td>Sanaa</td>\n",
       "      <td>10,609</td>\n",
       "      <td>...</td>\n",
       "      <td>81.00%</td>\n",
       "      <td>0.31</td>\n",
       "      <td>29,161,922</td>\n",
       "      <td>38.00%</td>\n",
       "      <td>NaN</td>\n",
       "      <td>26.60%</td>\n",
       "      <td>12.91%</td>\n",
       "      <td>10,869,523</td>\n",
       "      <td>15.552727</td>\n",
       "      <td>48.516388</td>\n",
       "    </tr>\n",
       "    <tr>\n",
       "      <th>193</th>\n",
       "      <td>Zambia</td>\n",
       "      <td>25</td>\n",
       "      <td>ZM</td>\n",
       "      <td>32.10%</td>\n",
       "      <td>752,618</td>\n",
       "      <td>16,000</td>\n",
       "      <td>36.19</td>\n",
       "      <td>260.0</td>\n",
       "      <td>Lusaka</td>\n",
       "      <td>5,141</td>\n",
       "      <td>...</td>\n",
       "      <td>27.50%</td>\n",
       "      <td>1.19</td>\n",
       "      <td>17,861,030</td>\n",
       "      <td>74.60%</td>\n",
       "      <td>16.20%</td>\n",
       "      <td>15.60%</td>\n",
       "      <td>11.43%</td>\n",
       "      <td>7,871,713</td>\n",
       "      <td>-13.133897</td>\n",
       "      <td>27.849332</td>\n",
       "    </tr>\n",
       "    <tr>\n",
       "      <th>194</th>\n",
       "      <td>Zimbabwe</td>\n",
       "      <td>38</td>\n",
       "      <td>ZW</td>\n",
       "      <td>41.90%</td>\n",
       "      <td>390,757</td>\n",
       "      <td>51,000</td>\n",
       "      <td>30.68</td>\n",
       "      <td>263.0</td>\n",
       "      <td>Harare</td>\n",
       "      <td>10,983</td>\n",
       "      <td>...</td>\n",
       "      <td>25.80%</td>\n",
       "      <td>0.21</td>\n",
       "      <td>14,645,468</td>\n",
       "      <td>83.10%</td>\n",
       "      <td>20.70%</td>\n",
       "      <td>31.60%</td>\n",
       "      <td>4.95%</td>\n",
       "      <td>4,717,305</td>\n",
       "      <td>-19.015438</td>\n",
       "      <td>29.154857</td>\n",
       "    </tr>\n",
       "  </tbody>\n",
       "</table>\n",
       "<p>195 rows × 35 columns</p>\n",
       "</div>"
      ],
      "text/plain": [
       "         Country Density\\n(P/Km2) Abbreviation Agricultural Land( %)  \\\n",
       "0    Afghanistan               60           AF                58.10%   \n",
       "1        Albania              105           AL                43.10%   \n",
       "2        Algeria               18           DZ                17.40%   \n",
       "3        Andorra              164           AD                40.00%   \n",
       "4         Angola               26           AO                47.50%   \n",
       "..           ...              ...          ...                   ...   \n",
       "190    Venezuela               32           VE                24.50%   \n",
       "191      Vietnam              314           VN                39.30%   \n",
       "192        Yemen               56           YE                44.60%   \n",
       "193       Zambia               25           ZM                32.10%   \n",
       "194     Zimbabwe               38           ZW                41.90%   \n",
       "\n",
       "    Land Area(Km2) Armed Forces size  Birth Rate  Calling Code  \\\n",
       "0          652,230           323,000       32.49          93.0   \n",
       "1           28,748             9,000       11.78         355.0   \n",
       "2        2,381,741           317,000       24.28         213.0   \n",
       "3              468               NaN        7.20         376.0   \n",
       "4        1,246,700           117,000       40.73         244.0   \n",
       "..             ...               ...         ...           ...   \n",
       "190        912,050           343,000       17.88          58.0   \n",
       "191        331,210           522,000       16.75          84.0   \n",
       "192        527,968            40,000       30.45         967.0   \n",
       "193        752,618            16,000       36.19         260.0   \n",
       "194        390,757            51,000       30.68         263.0   \n",
       "\n",
       "    Capital/Major City Co2-Emissions  ... Out of pocket health expenditure  \\\n",
       "0                Kabul         8,672  ...                           78.40%   \n",
       "1               Tirana         4,536  ...                           56.90%   \n",
       "2              Algiers       150,006  ...                           28.10%   \n",
       "3     Andorra la Vella           469  ...                           36.40%   \n",
       "4               Luanda        34,693  ...                           33.40%   \n",
       "..                 ...           ...  ...                              ...   \n",
       "190            Caracas       164,175  ...                           45.80%   \n",
       "191              Hanoi       192,668  ...                           43.50%   \n",
       "192              Sanaa        10,609  ...                           81.00%   \n",
       "193             Lusaka         5,141  ...                           27.50%   \n",
       "194             Harare        10,983  ...                           25.80%   \n",
       "\n",
       "    Physicians per thousand  Population  \\\n",
       "0                      0.28  38,041,754   \n",
       "1                      1.20   2,854,191   \n",
       "2                      1.72  43,053,054   \n",
       "3                      3.33      77,142   \n",
       "4                      0.21  31,825,295   \n",
       "..                      ...         ...   \n",
       "190                    1.92  28,515,829   \n",
       "191                    0.82  96,462,106   \n",
       "192                    0.31  29,161,922   \n",
       "193                    1.19  17,861,030   \n",
       "194                    0.21  14,645,468   \n",
       "\n",
       "     Population: Labor force participation (%) Tax revenue (%) Total tax rate  \\\n",
       "0                                       48.90%           9.30%         71.40%   \n",
       "1                                       55.70%          18.60%         36.60%   \n",
       "2                                       41.20%          37.20%         66.10%   \n",
       "3                                          NaN             NaN            NaN   \n",
       "4                                       77.50%           9.20%         49.10%   \n",
       "..                                         ...             ...            ...   \n",
       "190                                     59.70%             NaN         73.30%   \n",
       "191                                     77.40%          19.10%         37.60%   \n",
       "192                                     38.00%             NaN         26.60%   \n",
       "193                                     74.60%          16.20%         15.60%   \n",
       "194                                     83.10%          20.70%         31.60%   \n",
       "\n",
       "    Unemployment rate Urban_population   Latitude   Longitude  \n",
       "0              11.12%        9,797,273  33.939110   67.709953  \n",
       "1              12.33%        1,747,593  41.153332   20.168331  \n",
       "2              11.70%       31,510,100  28.033886    1.659626  \n",
       "3                 NaN           67,873  42.506285    1.521801  \n",
       "4               6.89%       21,061,025 -11.202692   17.873887  \n",
       "..                ...              ...        ...         ...  \n",
       "190             8.80%       25,162,368   6.423750  -66.589730  \n",
       "191             2.01%       35,332,140  14.058324  108.277199  \n",
       "192            12.91%       10,869,523  15.552727   48.516388  \n",
       "193            11.43%        7,871,713 -13.133897   27.849332  \n",
       "194             4.95%        4,717,305 -19.015438   29.154857  \n",
       "\n",
       "[195 rows x 35 columns]"
      ]
     },
     "execution_count": 60,
     "metadata": {},
     "output_type": "execute_result"
    }
   ],
   "source": [
    "df"
   ]
  },
  {
   "cell_type": "markdown",
   "metadata": {
    "id": "wDU5LitjJYpc"
   },
   "source": [
    "Удаление строки осуществляется с помощью метода `df.drop`, которому нужно передать название столбца и параметр `axis=1`."
   ]
  },
  {
   "cell_type": "code",
   "execution_count": 63,
   "metadata": {
    "colab": {
     "base_uri": "https://localhost:8080/",
     "height": 379
    },
    "id": "rymx8OmsJhMZ",
    "outputId": "68970fb1-6a3c-4ffb-a67e-52e1bb0c6eb3"
   },
   "outputs": [
    {
     "ename": "ValueError",
     "evalue": "No axis named 2 for object type DataFrame",
     "output_type": "error",
     "traceback": [
      "\u001b[0;31m---------------------------------------------------------------------------\u001b[0m",
      "\u001b[0;31mKeyError\u001b[0m                                  Traceback (most recent call last)",
      "\u001b[0;32m/Library/Frameworks/Python.framework/Versions/3.11/lib/python3.11/site-packages/pandas/core/generic.py\u001b[0m in \u001b[0;36m?\u001b[0;34m(cls, axis)\u001b[0m\n\u001b[1;32m    552\u001b[0m             \u001b[0;32mreturn\u001b[0m \u001b[0mcls\u001b[0m\u001b[0;34m.\u001b[0m\u001b[0m_AXIS_TO_AXIS_NUMBER\u001b[0m\u001b[0;34m[\u001b[0m\u001b[0maxis\u001b[0m\u001b[0;34m]\u001b[0m\u001b[0;34m\u001b[0m\u001b[0;34m\u001b[0m\u001b[0m\n\u001b[1;32m    553\u001b[0m         \u001b[0;32mexcept\u001b[0m \u001b[0mKeyError\u001b[0m\u001b[0;34m:\u001b[0m\u001b[0;34m\u001b[0m\u001b[0;34m\u001b[0m\u001b[0m\n\u001b[0;32m--> 554\u001b[0;31m             \u001b[0;32mraise\u001b[0m \u001b[0mValueError\u001b[0m\u001b[0;34m(\u001b[0m\u001b[0;34mf\"No axis named {axis} for object type {cls.__name__}\"\u001b[0m\u001b[0;34m)\u001b[0m\u001b[0;34m\u001b[0m\u001b[0;34m\u001b[0m\u001b[0m\n\u001b[0m",
      "\u001b[0;31mKeyError\u001b[0m: 2",
      "\nDuring handling of the above exception, another exception occurred:\n",
      "\u001b[0;31mValueError\u001b[0m                                Traceback (most recent call last)",
      "\u001b[0;32m/var/folders/ht/l0sd8rtn2010mhg9ndg5tf500000gp/T/ipykernel_1931/3361286297.py\u001b[0m in \u001b[0;36m?\u001b[0;34m()\u001b[0m\n\u001b[0;32m----> 1\u001b[0;31m \u001b[0mdf\u001b[0m\u001b[0;34m.\u001b[0m\u001b[0mdrop\u001b[0m\u001b[0;34m(\u001b[0m\u001b[0;34m'Yemen'\u001b[0m\u001b[0;34m,\u001b[0m \u001b[0maxis\u001b[0m\u001b[0;34m=\u001b[0m\u001b[0;36m2\u001b[0m\u001b[0;34m)\u001b[0m\u001b[0;34m.\u001b[0m\u001b[0mtail\u001b[0m\u001b[0;34m(\u001b[0m\u001b[0;34m)\u001b[0m\u001b[0;34m\u001b[0m\u001b[0;34m\u001b[0m\u001b[0m\n\u001b[0m",
      "\u001b[0;32m/Library/Frameworks/Python.framework/Versions/3.11/lib/python3.11/site-packages/pandas/core/frame.py\u001b[0m in \u001b[0;36m?\u001b[0;34m(self, labels, axis, index, columns, level, inplace, errors)\u001b[0m\n\u001b[1;32m   5343\u001b[0m                 \u001b[0mweight\u001b[0m  \u001b[0;36m250.0\u001b[0m   \u001b[0;36m150.0\u001b[0m\u001b[0;34m\u001b[0m\u001b[0;34m\u001b[0m\u001b[0m\n\u001b[1;32m   5344\u001b[0m         \u001b[0mfalcon\u001b[0m  \u001b[0mspeed\u001b[0m   \u001b[0;36m320.0\u001b[0m   \u001b[0;36m250.0\u001b[0m\u001b[0;34m\u001b[0m\u001b[0;34m\u001b[0m\u001b[0m\n\u001b[1;32m   5345\u001b[0m                 \u001b[0mweight\u001b[0m  \u001b[0;36m1.0\u001b[0m     \u001b[0;36m0.8\u001b[0m\u001b[0;34m\u001b[0m\u001b[0;34m\u001b[0m\u001b[0m\n\u001b[1;32m   5346\u001b[0m         \"\"\"\n\u001b[0;32m-> 5347\u001b[0;31m         return super().drop(\n\u001b[0m\u001b[1;32m   5348\u001b[0m             \u001b[0mlabels\u001b[0m\u001b[0;34m=\u001b[0m\u001b[0mlabels\u001b[0m\u001b[0;34m,\u001b[0m\u001b[0;34m\u001b[0m\u001b[0;34m\u001b[0m\u001b[0m\n\u001b[1;32m   5349\u001b[0m             \u001b[0maxis\u001b[0m\u001b[0;34m=\u001b[0m\u001b[0maxis\u001b[0m\u001b[0;34m,\u001b[0m\u001b[0;34m\u001b[0m\u001b[0;34m\u001b[0m\u001b[0m\n\u001b[1;32m   5350\u001b[0m             \u001b[0mindex\u001b[0m\u001b[0;34m=\u001b[0m\u001b[0mindex\u001b[0m\u001b[0;34m,\u001b[0m\u001b[0;34m\u001b[0m\u001b[0;34m\u001b[0m\u001b[0m\n",
      "\u001b[0;32m/Library/Frameworks/Python.framework/Versions/3.11/lib/python3.11/site-packages/pandas/core/generic.py\u001b[0m in \u001b[0;36m?\u001b[0;34m(self, labels, axis, index, columns, level, inplace, errors)\u001b[0m\n\u001b[1;32m   4692\u001b[0m \u001b[0;34m\u001b[0m\u001b[0m\n\u001b[1;32m   4693\u001b[0m         \u001b[0;32mif\u001b[0m \u001b[0mlabels\u001b[0m \u001b[0;32mis\u001b[0m \u001b[0;32mnot\u001b[0m \u001b[0;32mNone\u001b[0m\u001b[0;34m:\u001b[0m\u001b[0;34m\u001b[0m\u001b[0;34m\u001b[0m\u001b[0m\n\u001b[1;32m   4694\u001b[0m             \u001b[0;32mif\u001b[0m \u001b[0mindex\u001b[0m \u001b[0;32mis\u001b[0m \u001b[0;32mnot\u001b[0m \u001b[0;32mNone\u001b[0m \u001b[0;32mor\u001b[0m \u001b[0mcolumns\u001b[0m \u001b[0;32mis\u001b[0m \u001b[0;32mnot\u001b[0m \u001b[0;32mNone\u001b[0m\u001b[0;34m:\u001b[0m\u001b[0;34m\u001b[0m\u001b[0;34m\u001b[0m\u001b[0m\n\u001b[1;32m   4695\u001b[0m                 \u001b[0;32mraise\u001b[0m \u001b[0mValueError\u001b[0m\u001b[0;34m(\u001b[0m\u001b[0;34m\"Cannot specify both 'labels' and 'index'/'columns'\"\u001b[0m\u001b[0;34m)\u001b[0m\u001b[0;34m\u001b[0m\u001b[0;34m\u001b[0m\u001b[0m\n\u001b[0;32m-> 4696\u001b[0;31m             \u001b[0maxis_name\u001b[0m \u001b[0;34m=\u001b[0m \u001b[0mself\u001b[0m\u001b[0;34m.\u001b[0m\u001b[0m_get_axis_name\u001b[0m\u001b[0;34m(\u001b[0m\u001b[0maxis\u001b[0m\u001b[0;34m)\u001b[0m\u001b[0;34m\u001b[0m\u001b[0;34m\u001b[0m\u001b[0m\n\u001b[0m\u001b[1;32m   4697\u001b[0m             \u001b[0maxes\u001b[0m \u001b[0;34m=\u001b[0m \u001b[0;34m{\u001b[0m\u001b[0maxis_name\u001b[0m\u001b[0;34m:\u001b[0m \u001b[0mlabels\u001b[0m\u001b[0;34m}\u001b[0m\u001b[0;34m\u001b[0m\u001b[0;34m\u001b[0m\u001b[0m\n\u001b[1;32m   4698\u001b[0m         \u001b[0;32melif\u001b[0m \u001b[0mindex\u001b[0m \u001b[0;32mis\u001b[0m \u001b[0;32mnot\u001b[0m \u001b[0;32mNone\u001b[0m \u001b[0;32mor\u001b[0m \u001b[0mcolumns\u001b[0m \u001b[0;32mis\u001b[0m \u001b[0;32mnot\u001b[0m \u001b[0;32mNone\u001b[0m\u001b[0;34m:\u001b[0m\u001b[0;34m\u001b[0m\u001b[0;34m\u001b[0m\u001b[0m\n\u001b[1;32m   4699\u001b[0m             \u001b[0maxes\u001b[0m \u001b[0;34m=\u001b[0m \u001b[0;34m{\u001b[0m\u001b[0;34m\"index\"\u001b[0m\u001b[0;34m:\u001b[0m \u001b[0mindex\u001b[0m\u001b[0;34m}\u001b[0m\u001b[0;34m\u001b[0m\u001b[0;34m\u001b[0m\u001b[0m\n",
      "\u001b[0;32m/Library/Frameworks/Python.framework/Versions/3.11/lib/python3.11/site-packages/pandas/core/generic.py\u001b[0m in \u001b[0;36m?\u001b[0;34m(cls, axis)\u001b[0m\n\u001b[1;32m    556\u001b[0m     \u001b[0;34m@\u001b[0m\u001b[0mfinal\u001b[0m\u001b[0;34m\u001b[0m\u001b[0;34m\u001b[0m\u001b[0m\n\u001b[1;32m    557\u001b[0m     \u001b[0;34m@\u001b[0m\u001b[0mclassmethod\u001b[0m\u001b[0;34m\u001b[0m\u001b[0;34m\u001b[0m\u001b[0m\n\u001b[1;32m    558\u001b[0m     \u001b[0;32mdef\u001b[0m \u001b[0m_get_axis_name\u001b[0m\u001b[0;34m(\u001b[0m\u001b[0mcls\u001b[0m\u001b[0;34m,\u001b[0m \u001b[0maxis\u001b[0m\u001b[0;34m:\u001b[0m \u001b[0mAxis\u001b[0m\u001b[0;34m)\u001b[0m \u001b[0;34m->\u001b[0m \u001b[0mLiteral\u001b[0m\u001b[0;34m[\u001b[0m\u001b[0;34m\"index\"\u001b[0m\u001b[0;34m,\u001b[0m \u001b[0;34m\"columns\"\u001b[0m\u001b[0;34m]\u001b[0m\u001b[0;34m:\u001b[0m\u001b[0;34m\u001b[0m\u001b[0;34m\u001b[0m\u001b[0m\n\u001b[0;32m--> 559\u001b[0;31m         \u001b[0maxis_number\u001b[0m \u001b[0;34m=\u001b[0m \u001b[0mcls\u001b[0m\u001b[0;34m.\u001b[0m\u001b[0m_get_axis_number\u001b[0m\u001b[0;34m(\u001b[0m\u001b[0maxis\u001b[0m\u001b[0;34m)\u001b[0m\u001b[0;34m\u001b[0m\u001b[0;34m\u001b[0m\u001b[0m\n\u001b[0m\u001b[1;32m    560\u001b[0m         \u001b[0;32mreturn\u001b[0m \u001b[0mcls\u001b[0m\u001b[0;34m.\u001b[0m\u001b[0m_AXIS_ORDERS\u001b[0m\u001b[0;34m[\u001b[0m\u001b[0maxis_number\u001b[0m\u001b[0;34m]\u001b[0m\u001b[0;34m\u001b[0m\u001b[0;34m\u001b[0m\u001b[0m\n",
      "\u001b[0;32m/Library/Frameworks/Python.framework/Versions/3.11/lib/python3.11/site-packages/pandas/core/generic.py\u001b[0m in \u001b[0;36m?\u001b[0;34m(cls, axis)\u001b[0m\n\u001b[1;32m    550\u001b[0m     \u001b[0;32mdef\u001b[0m \u001b[0m_get_axis_number\u001b[0m\u001b[0;34m(\u001b[0m\u001b[0mcls\u001b[0m\u001b[0;34m,\u001b[0m \u001b[0maxis\u001b[0m\u001b[0;34m:\u001b[0m \u001b[0mAxis\u001b[0m\u001b[0;34m)\u001b[0m \u001b[0;34m->\u001b[0m \u001b[0mAxisInt\u001b[0m\u001b[0;34m:\u001b[0m\u001b[0;34m\u001b[0m\u001b[0;34m\u001b[0m\u001b[0m\n\u001b[1;32m    551\u001b[0m         \u001b[0;32mtry\u001b[0m\u001b[0;34m:\u001b[0m\u001b[0;34m\u001b[0m\u001b[0;34m\u001b[0m\u001b[0m\n\u001b[1;32m    552\u001b[0m             \u001b[0;32mreturn\u001b[0m \u001b[0mcls\u001b[0m\u001b[0;34m.\u001b[0m\u001b[0m_AXIS_TO_AXIS_NUMBER\u001b[0m\u001b[0;34m[\u001b[0m\u001b[0maxis\u001b[0m\u001b[0;34m]\u001b[0m\u001b[0;34m\u001b[0m\u001b[0;34m\u001b[0m\u001b[0m\n\u001b[1;32m    553\u001b[0m         \u001b[0;32mexcept\u001b[0m \u001b[0mKeyError\u001b[0m\u001b[0;34m:\u001b[0m\u001b[0;34m\u001b[0m\u001b[0;34m\u001b[0m\u001b[0m\n\u001b[0;32m--> 554\u001b[0;31m             \u001b[0;32mraise\u001b[0m \u001b[0mValueError\u001b[0m\u001b[0;34m(\u001b[0m\u001b[0;34mf\"No axis named {axis} for object type {cls.__name__}\"\u001b[0m\u001b[0;34m)\u001b[0m\u001b[0;34m\u001b[0m\u001b[0;34m\u001b[0m\u001b[0m\n\u001b[0m",
      "\u001b[0;31mValueError\u001b[0m: No axis named 2 for object type DataFrame"
     ]
    }
   ],
   "source": [
    "df.drop('Yemen', axis=2).tail()"
   ]
  },
  {
   "cell_type": "markdown",
   "metadata": {
    "id": "rF2SGkjOJ_Eh"
   },
   "source": [
    "### Условия"
   ]
  },
  {
   "cell_type": "markdown",
   "metadata": {
    "id": "rrj8d9L0KGAH"
   },
   "source": [
    "На практике вы скорее всего не будете выбирать данные по строкам или столбцам. Наиболее вероятно, что вы будете фильтровать значения по условиям. Для проведения фильтрации по значениям столбца можно воспользоваться бродкастингом.\n",
    "\n",
    "Мы хотим отфильтровать страны, рождаемость в которых выше 30. Для этого запишем условие фильтрации:"
   ]
  },
  {
   "cell_type": "code",
   "execution_count": 67,
   "metadata": {
    "colab": {
     "base_uri": "https://localhost:8080/",
     "height": 1000
    },
    "id": "pP6JHTnJKyB5",
    "outputId": "24614ae3-68a1-47dd-8f8c-44e58ac2f12d"
   },
   "outputs": [
    {
     "data": {
      "text/html": [
       "<div>\n",
       "<style scoped>\n",
       "    .dataframe tbody tr th:only-of-type {\n",
       "        vertical-align: middle;\n",
       "    }\n",
       "\n",
       "    .dataframe tbody tr th {\n",
       "        vertical-align: top;\n",
       "    }\n",
       "\n",
       "    .dataframe thead th {\n",
       "        text-align: right;\n",
       "    }\n",
       "</style>\n",
       "<table border=\"1\" class=\"dataframe\">\n",
       "  <thead>\n",
       "    <tr style=\"text-align: right;\">\n",
       "      <th></th>\n",
       "      <th>Country</th>\n",
       "      <th>Density\\n(P/Km2)</th>\n",
       "      <th>Abbreviation</th>\n",
       "      <th>Agricultural Land( %)</th>\n",
       "      <th>Land Area(Km2)</th>\n",
       "      <th>Armed Forces size</th>\n",
       "      <th>Birth Rate</th>\n",
       "      <th>Calling Code</th>\n",
       "      <th>Capital/Major City</th>\n",
       "      <th>Co2-Emissions</th>\n",
       "      <th>...</th>\n",
       "      <th>Out of pocket health expenditure</th>\n",
       "      <th>Physicians per thousand</th>\n",
       "      <th>Population</th>\n",
       "      <th>Population: Labor force participation (%)</th>\n",
       "      <th>Tax revenue (%)</th>\n",
       "      <th>Total tax rate</th>\n",
       "      <th>Unemployment rate</th>\n",
       "      <th>Urban_population</th>\n",
       "      <th>Latitude</th>\n",
       "      <th>Longitude</th>\n",
       "    </tr>\n",
       "  </thead>\n",
       "  <tbody>\n",
       "    <tr>\n",
       "      <th>0</th>\n",
       "      <td>Afghanistan</td>\n",
       "      <td>60</td>\n",
       "      <td>AF</td>\n",
       "      <td>58.10%</td>\n",
       "      <td>652,230</td>\n",
       "      <td>323,000</td>\n",
       "      <td>32.49</td>\n",
       "      <td>93.0</td>\n",
       "      <td>Kabul</td>\n",
       "      <td>8,672</td>\n",
       "      <td>...</td>\n",
       "      <td>78.40%</td>\n",
       "      <td>0.28</td>\n",
       "      <td>38,041,754</td>\n",
       "      <td>48.90%</td>\n",
       "      <td>9.30%</td>\n",
       "      <td>71.40%</td>\n",
       "      <td>11.12%</td>\n",
       "      <td>9,797,273</td>\n",
       "      <td>33.939110</td>\n",
       "      <td>67.709953</td>\n",
       "    </tr>\n",
       "    <tr>\n",
       "      <th>4</th>\n",
       "      <td>Angola</td>\n",
       "      <td>26</td>\n",
       "      <td>AO</td>\n",
       "      <td>47.50%</td>\n",
       "      <td>1,246,700</td>\n",
       "      <td>117,000</td>\n",
       "      <td>40.73</td>\n",
       "      <td>244.0</td>\n",
       "      <td>Luanda</td>\n",
       "      <td>34,693</td>\n",
       "      <td>...</td>\n",
       "      <td>33.40%</td>\n",
       "      <td>0.21</td>\n",
       "      <td>31,825,295</td>\n",
       "      <td>77.50%</td>\n",
       "      <td>9.20%</td>\n",
       "      <td>49.10%</td>\n",
       "      <td>6.89%</td>\n",
       "      <td>21,061,025</td>\n",
       "      <td>-11.202692</td>\n",
       "      <td>17.873887</td>\n",
       "    </tr>\n",
       "    <tr>\n",
       "      <th>18</th>\n",
       "      <td>Benin</td>\n",
       "      <td>108</td>\n",
       "      <td>BJ</td>\n",
       "      <td>33.30%</td>\n",
       "      <td>112,622</td>\n",
       "      <td>12,000</td>\n",
       "      <td>36.22</td>\n",
       "      <td>229.0</td>\n",
       "      <td>Porto-Novo</td>\n",
       "      <td>6,476</td>\n",
       "      <td>...</td>\n",
       "      <td>40.50%</td>\n",
       "      <td>0.08</td>\n",
       "      <td>11,801,151</td>\n",
       "      <td>70.90%</td>\n",
       "      <td>10.80%</td>\n",
       "      <td>48.90%</td>\n",
       "      <td>2.23%</td>\n",
       "      <td>5,648,149</td>\n",
       "      <td>9.307690</td>\n",
       "      <td>2.315834</td>\n",
       "    </tr>\n",
       "    <tr>\n",
       "      <th>26</th>\n",
       "      <td>Burkina Faso</td>\n",
       "      <td>76</td>\n",
       "      <td>BF</td>\n",
       "      <td>44.20%</td>\n",
       "      <td>274,200</td>\n",
       "      <td>11,000</td>\n",
       "      <td>37.93</td>\n",
       "      <td>226.0</td>\n",
       "      <td>Ouagadougou</td>\n",
       "      <td>3,418</td>\n",
       "      <td>...</td>\n",
       "      <td>36.10%</td>\n",
       "      <td>0.08</td>\n",
       "      <td>20,321,378</td>\n",
       "      <td>66.40%</td>\n",
       "      <td>15.00%</td>\n",
       "      <td>41.30%</td>\n",
       "      <td>6.26%</td>\n",
       "      <td>6,092,349</td>\n",
       "      <td>12.238333</td>\n",
       "      <td>-1.561593</td>\n",
       "    </tr>\n",
       "    <tr>\n",
       "      <th>27</th>\n",
       "      <td>Burundi</td>\n",
       "      <td>463</td>\n",
       "      <td>BI</td>\n",
       "      <td>79.20%</td>\n",
       "      <td>27,830</td>\n",
       "      <td>31,000</td>\n",
       "      <td>39.01</td>\n",
       "      <td>257.0</td>\n",
       "      <td>Bujumbura</td>\n",
       "      <td>495</td>\n",
       "      <td>...</td>\n",
       "      <td>19.10%</td>\n",
       "      <td>0.10</td>\n",
       "      <td>11,530,580</td>\n",
       "      <td>79.20%</td>\n",
       "      <td>13.60%</td>\n",
       "      <td>41.20%</td>\n",
       "      <td>1.43%</td>\n",
       "      <td>1,541,177</td>\n",
       "      <td>-3.373056</td>\n",
       "      <td>29.918886</td>\n",
       "    </tr>\n",
       "    <tr>\n",
       "      <th>28</th>\n",
       "      <td>Ivory Coast</td>\n",
       "      <td>83</td>\n",
       "      <td>CI</td>\n",
       "      <td>64.80%</td>\n",
       "      <td>322,463</td>\n",
       "      <td>27,000</td>\n",
       "      <td>35.74</td>\n",
       "      <td>225.0</td>\n",
       "      <td>Yamoussoukro</td>\n",
       "      <td>9,674</td>\n",
       "      <td>...</td>\n",
       "      <td>36.00%</td>\n",
       "      <td>0.23</td>\n",
       "      <td>25,716,544</td>\n",
       "      <td>57.00%</td>\n",
       "      <td>11.80%</td>\n",
       "      <td>50.10%</td>\n",
       "      <td>3.32%</td>\n",
       "      <td>13,176,900</td>\n",
       "      <td>7.539989</td>\n",
       "      <td>-5.547080</td>\n",
       "    </tr>\n",
       "    <tr>\n",
       "      <th>31</th>\n",
       "      <td>Cameroon</td>\n",
       "      <td>56</td>\n",
       "      <td>CM</td>\n",
       "      <td>20.60%</td>\n",
       "      <td>475,440</td>\n",
       "      <td>24,000</td>\n",
       "      <td>35.39</td>\n",
       "      <td>237.0</td>\n",
       "      <td>Yaound�</td>\n",
       "      <td>8,291</td>\n",
       "      <td>...</td>\n",
       "      <td>69.70%</td>\n",
       "      <td>0.09</td>\n",
       "      <td>25,876,380</td>\n",
       "      <td>76.10%</td>\n",
       "      <td>12.80%</td>\n",
       "      <td>57.70%</td>\n",
       "      <td>3.38%</td>\n",
       "      <td>14,741,256</td>\n",
       "      <td>7.369722</td>\n",
       "      <td>12.354722</td>\n",
       "    </tr>\n",
       "    <tr>\n",
       "      <th>33</th>\n",
       "      <td>Central African Republic</td>\n",
       "      <td>8</td>\n",
       "      <td>CF</td>\n",
       "      <td>8.20%</td>\n",
       "      <td>622,984</td>\n",
       "      <td>8,000</td>\n",
       "      <td>35.35</td>\n",
       "      <td>236.0</td>\n",
       "      <td>Bangui</td>\n",
       "      <td>297</td>\n",
       "      <td>...</td>\n",
       "      <td>39.60%</td>\n",
       "      <td>0.06</td>\n",
       "      <td>4,745,185</td>\n",
       "      <td>72.00%</td>\n",
       "      <td>8.60%</td>\n",
       "      <td>73.30%</td>\n",
       "      <td>3.68%</td>\n",
       "      <td>1,982,064</td>\n",
       "      <td>6.611111</td>\n",
       "      <td>20.939444</td>\n",
       "    </tr>\n",
       "    <tr>\n",
       "      <th>34</th>\n",
       "      <td>Chad</td>\n",
       "      <td>13</td>\n",
       "      <td>TD</td>\n",
       "      <td>39.70%</td>\n",
       "      <td>1,284,000</td>\n",
       "      <td>35,000</td>\n",
       "      <td>42.17</td>\n",
       "      <td>235.0</td>\n",
       "      <td>N'Djamena</td>\n",
       "      <td>1,016</td>\n",
       "      <td>...</td>\n",
       "      <td>56.40%</td>\n",
       "      <td>0.04</td>\n",
       "      <td>15,946,876</td>\n",
       "      <td>70.70%</td>\n",
       "      <td>NaN</td>\n",
       "      <td>63.50%</td>\n",
       "      <td>1.89%</td>\n",
       "      <td>3,712,273</td>\n",
       "      <td>15.454166</td>\n",
       "      <td>18.732207</td>\n",
       "    </tr>\n",
       "    <tr>\n",
       "      <th>38</th>\n",
       "      <td>Comoros</td>\n",
       "      <td>467</td>\n",
       "      <td>KM</td>\n",
       "      <td>71.50%</td>\n",
       "      <td>2,235</td>\n",
       "      <td>NaN</td>\n",
       "      <td>31.88</td>\n",
       "      <td>269.0</td>\n",
       "      <td>Moroni, Comoros</td>\n",
       "      <td>202</td>\n",
       "      <td>...</td>\n",
       "      <td>74.80%</td>\n",
       "      <td>0.27</td>\n",
       "      <td>850,886</td>\n",
       "      <td>43.30%</td>\n",
       "      <td>NaN</td>\n",
       "      <td>219.60%</td>\n",
       "      <td>4.34%</td>\n",
       "      <td>248,152</td>\n",
       "      <td>-11.645500</td>\n",
       "      <td>43.333300</td>\n",
       "    </tr>\n",
       "    <tr>\n",
       "      <th>39</th>\n",
       "      <td>Republic of the Congo</td>\n",
       "      <td>16</td>\n",
       "      <td>NaN</td>\n",
       "      <td>31.10%</td>\n",
       "      <td>342,000</td>\n",
       "      <td>12,000</td>\n",
       "      <td>32.86</td>\n",
       "      <td>242.0</td>\n",
       "      <td>Brazzaville</td>\n",
       "      <td>3,282</td>\n",
       "      <td>...</td>\n",
       "      <td>43.80%</td>\n",
       "      <td>0.12</td>\n",
       "      <td>5,380,508</td>\n",
       "      <td>69.40%</td>\n",
       "      <td>9.00%</td>\n",
       "      <td>54.30%</td>\n",
       "      <td>9.47%</td>\n",
       "      <td>3,625,010</td>\n",
       "      <td>-0.228021</td>\n",
       "      <td>15.827659</td>\n",
       "    </tr>\n",
       "    <tr>\n",
       "      <th>45</th>\n",
       "      <td>Democratic Republic of the Congo</td>\n",
       "      <td>40</td>\n",
       "      <td>CD</td>\n",
       "      <td>11.60%</td>\n",
       "      <td>2,344,858</td>\n",
       "      <td>134,000</td>\n",
       "      <td>41.18</td>\n",
       "      <td>243.0</td>\n",
       "      <td>Kinshasa</td>\n",
       "      <td>2,021</td>\n",
       "      <td>...</td>\n",
       "      <td>37.40%</td>\n",
       "      <td>0.07</td>\n",
       "      <td>86,790,567</td>\n",
       "      <td>63.50%</td>\n",
       "      <td>10.70%</td>\n",
       "      <td>50.70%</td>\n",
       "      <td>4.24%</td>\n",
       "      <td>39,095,679</td>\n",
       "      <td>-4.038333</td>\n",
       "      <td>21.758664</td>\n",
       "    </tr>\n",
       "    <tr>\n",
       "      <th>53</th>\n",
       "      <td>Equatorial Guinea</td>\n",
       "      <td>50</td>\n",
       "      <td>GQ</td>\n",
       "      <td>10.10%</td>\n",
       "      <td>28,051</td>\n",
       "      <td>1,000</td>\n",
       "      <td>33.24</td>\n",
       "      <td>240.0</td>\n",
       "      <td>Malabo</td>\n",
       "      <td>5,655</td>\n",
       "      <td>...</td>\n",
       "      <td>72.00%</td>\n",
       "      <td>0.40</td>\n",
       "      <td>1,355,986</td>\n",
       "      <td>62.00%</td>\n",
       "      <td>6.10%</td>\n",
       "      <td>79.40%</td>\n",
       "      <td>6.43%</td>\n",
       "      <td>984,812</td>\n",
       "      <td>1.650801</td>\n",
       "      <td>10.267895</td>\n",
       "    </tr>\n",
       "    <tr>\n",
       "      <th>54</th>\n",
       "      <td>Eritrea</td>\n",
       "      <td>35</td>\n",
       "      <td>ER</td>\n",
       "      <td>75.20%</td>\n",
       "      <td>117,600</td>\n",
       "      <td>202,000</td>\n",
       "      <td>30.30</td>\n",
       "      <td>291.0</td>\n",
       "      <td>Asmara</td>\n",
       "      <td>711</td>\n",
       "      <td>...</td>\n",
       "      <td>52.40%</td>\n",
       "      <td>0.06</td>\n",
       "      <td>6,333,135</td>\n",
       "      <td>78.40%</td>\n",
       "      <td>NaN</td>\n",
       "      <td>83.70%</td>\n",
       "      <td>5.14%</td>\n",
       "      <td>1,149,670</td>\n",
       "      <td>15.179384</td>\n",
       "      <td>39.782334</td>\n",
       "    </tr>\n",
       "    <tr>\n",
       "      <th>57</th>\n",
       "      <td>Ethiopia</td>\n",
       "      <td>115</td>\n",
       "      <td>ET</td>\n",
       "      <td>36.30%</td>\n",
       "      <td>1,104,300</td>\n",
       "      <td>138,000</td>\n",
       "      <td>32.34</td>\n",
       "      <td>251.0</td>\n",
       "      <td>Addis Ababa</td>\n",
       "      <td>14,870</td>\n",
       "      <td>...</td>\n",
       "      <td>37.80%</td>\n",
       "      <td>0.08</td>\n",
       "      <td>112,078,730</td>\n",
       "      <td>79.60%</td>\n",
       "      <td>7.50%</td>\n",
       "      <td>37.70%</td>\n",
       "      <td>2.08%</td>\n",
       "      <td>23,788,710</td>\n",
       "      <td>9.145000</td>\n",
       "      <td>40.489673</td>\n",
       "    </tr>\n",
       "    <tr>\n",
       "      <th>61</th>\n",
       "      <td>Gabon</td>\n",
       "      <td>9</td>\n",
       "      <td>GA</td>\n",
       "      <td>20.00%</td>\n",
       "      <td>267,667</td>\n",
       "      <td>7,000</td>\n",
       "      <td>31.61</td>\n",
       "      <td>241.0</td>\n",
       "      <td>Libreville</td>\n",
       "      <td>5,321</td>\n",
       "      <td>...</td>\n",
       "      <td>25.90%</td>\n",
       "      <td>0.68</td>\n",
       "      <td>2,172,579</td>\n",
       "      <td>52.90%</td>\n",
       "      <td>10.20%</td>\n",
       "      <td>47.10%</td>\n",
       "      <td>20.00%</td>\n",
       "      <td>1,949,694</td>\n",
       "      <td>-0.803689</td>\n",
       "      <td>11.609444</td>\n",
       "    </tr>\n",
       "    <tr>\n",
       "      <th>62</th>\n",
       "      <td>The Gambia</td>\n",
       "      <td>239</td>\n",
       "      <td>GM</td>\n",
       "      <td>59.80%</td>\n",
       "      <td>11,300</td>\n",
       "      <td>1,000</td>\n",
       "      <td>38.54</td>\n",
       "      <td>220.0</td>\n",
       "      <td>Banjul</td>\n",
       "      <td>532</td>\n",
       "      <td>...</td>\n",
       "      <td>20.30%</td>\n",
       "      <td>0.10</td>\n",
       "      <td>2,347,706</td>\n",
       "      <td>59.40%</td>\n",
       "      <td>9.40%</td>\n",
       "      <td>48.40%</td>\n",
       "      <td>9.06%</td>\n",
       "      <td>1,453,958</td>\n",
       "      <td>13.443182</td>\n",
       "      <td>-15.310139</td>\n",
       "    </tr>\n",
       "    <tr>\n",
       "      <th>69</th>\n",
       "      <td>Guinea</td>\n",
       "      <td>53</td>\n",
       "      <td>GN</td>\n",
       "      <td>59.00%</td>\n",
       "      <td>245,857</td>\n",
       "      <td>13,000</td>\n",
       "      <td>36.36</td>\n",
       "      <td>224.0</td>\n",
       "      <td>Conakry</td>\n",
       "      <td>2,996</td>\n",
       "      <td>...</td>\n",
       "      <td>54.50%</td>\n",
       "      <td>0.08</td>\n",
       "      <td>12,771,246</td>\n",
       "      <td>61.50%</td>\n",
       "      <td>10.80%</td>\n",
       "      <td>69.30%</td>\n",
       "      <td>4.30%</td>\n",
       "      <td>4,661,505</td>\n",
       "      <td>9.945587</td>\n",
       "      <td>-9.696645</td>\n",
       "    </tr>\n",
       "    <tr>\n",
       "      <th>70</th>\n",
       "      <td>Guinea-Bissau</td>\n",
       "      <td>70</td>\n",
       "      <td>GW</td>\n",
       "      <td>58.00%</td>\n",
       "      <td>36,125</td>\n",
       "      <td>4,000</td>\n",
       "      <td>35.13</td>\n",
       "      <td>245.0</td>\n",
       "      <td>Bissau</td>\n",
       "      <td>293</td>\n",
       "      <td>...</td>\n",
       "      <td>37.20%</td>\n",
       "      <td>0.13</td>\n",
       "      <td>1,920,922</td>\n",
       "      <td>72.00%</td>\n",
       "      <td>10.30%</td>\n",
       "      <td>45.50%</td>\n",
       "      <td>2.47%</td>\n",
       "      <td>840,922</td>\n",
       "      <td>11.803749</td>\n",
       "      <td>-15.180413</td>\n",
       "    </tr>\n",
       "    <tr>\n",
       "      <th>96</th>\n",
       "      <td>Liberia</td>\n",
       "      <td>53</td>\n",
       "      <td>LR</td>\n",
       "      <td>28.00%</td>\n",
       "      <td>111,369</td>\n",
       "      <td>2,000</td>\n",
       "      <td>33.04</td>\n",
       "      <td>231.0</td>\n",
       "      <td>Monrovia</td>\n",
       "      <td>1,386</td>\n",
       "      <td>...</td>\n",
       "      <td>19.60%</td>\n",
       "      <td>0.04</td>\n",
       "      <td>4,937,374</td>\n",
       "      <td>76.30%</td>\n",
       "      <td>12.90%</td>\n",
       "      <td>46.20%</td>\n",
       "      <td>2.81%</td>\n",
       "      <td>2,548,426</td>\n",
       "      <td>6.428055</td>\n",
       "      <td>-9.429499</td>\n",
       "    </tr>\n",
       "    <tr>\n",
       "      <th>101</th>\n",
       "      <td>Madagascar</td>\n",
       "      <td>48</td>\n",
       "      <td>MG</td>\n",
       "      <td>71.20%</td>\n",
       "      <td>587,041</td>\n",
       "      <td>22,000</td>\n",
       "      <td>32.66</td>\n",
       "      <td>261.0</td>\n",
       "      <td>Antananarivo</td>\n",
       "      <td>3,905</td>\n",
       "      <td>...</td>\n",
       "      <td>21.70%</td>\n",
       "      <td>0.18</td>\n",
       "      <td>26,969,307</td>\n",
       "      <td>86.10%</td>\n",
       "      <td>10.20%</td>\n",
       "      <td>38.30%</td>\n",
       "      <td>1.76%</td>\n",
       "      <td>10,210,849</td>\n",
       "      <td>-18.766947</td>\n",
       "      <td>46.869107</td>\n",
       "    </tr>\n",
       "    <tr>\n",
       "      <th>102</th>\n",
       "      <td>Malawi</td>\n",
       "      <td>203</td>\n",
       "      <td>MW</td>\n",
       "      <td>61.40%</td>\n",
       "      <td>118,484</td>\n",
       "      <td>15,000</td>\n",
       "      <td>34.12</td>\n",
       "      <td>265.0</td>\n",
       "      <td>Lilongwe</td>\n",
       "      <td>1,298</td>\n",
       "      <td>...</td>\n",
       "      <td>11.00%</td>\n",
       "      <td>0.04</td>\n",
       "      <td>18,628,747</td>\n",
       "      <td>76.70%</td>\n",
       "      <td>17.30%</td>\n",
       "      <td>34.50%</td>\n",
       "      <td>5.65%</td>\n",
       "      <td>3,199,301</td>\n",
       "      <td>-13.254308</td>\n",
       "      <td>34.301525</td>\n",
       "    </tr>\n",
       "    <tr>\n",
       "      <th>105</th>\n",
       "      <td>Mali</td>\n",
       "      <td>17</td>\n",
       "      <td>ML</td>\n",
       "      <td>33.80%</td>\n",
       "      <td>1,240,192</td>\n",
       "      <td>18,000</td>\n",
       "      <td>41.54</td>\n",
       "      <td>223.0</td>\n",
       "      <td>Bamako</td>\n",
       "      <td>3,179</td>\n",
       "      <td>...</td>\n",
       "      <td>46.30%</td>\n",
       "      <td>0.13</td>\n",
       "      <td>19,658,031</td>\n",
       "      <td>70.80%</td>\n",
       "      <td>11.60%</td>\n",
       "      <td>54.50%</td>\n",
       "      <td>7.22%</td>\n",
       "      <td>8,479,688</td>\n",
       "      <td>17.570692</td>\n",
       "      <td>-3.996166</td>\n",
       "    </tr>\n",
       "    <tr>\n",
       "      <th>108</th>\n",
       "      <td>Mauritania</td>\n",
       "      <td>5</td>\n",
       "      <td>MR</td>\n",
       "      <td>38.50%</td>\n",
       "      <td>1,030,700</td>\n",
       "      <td>21,000</td>\n",
       "      <td>33.69</td>\n",
       "      <td>222.0</td>\n",
       "      <td>Nouakchott</td>\n",
       "      <td>2,739</td>\n",
       "      <td>...</td>\n",
       "      <td>48.20%</td>\n",
       "      <td>0.19</td>\n",
       "      <td>4,525,696</td>\n",
       "      <td>45.90%</td>\n",
       "      <td>NaN</td>\n",
       "      <td>67.00%</td>\n",
       "      <td>9.55%</td>\n",
       "      <td>2,466,821</td>\n",
       "      <td>21.007890</td>\n",
       "      <td>-10.940835</td>\n",
       "    </tr>\n",
       "    <tr>\n",
       "      <th>117</th>\n",
       "      <td>Mozambique</td>\n",
       "      <td>40</td>\n",
       "      <td>MZ</td>\n",
       "      <td>63.50%</td>\n",
       "      <td>799,380</td>\n",
       "      <td>11,000</td>\n",
       "      <td>37.52</td>\n",
       "      <td>258.0</td>\n",
       "      <td>Maputo</td>\n",
       "      <td>7,943</td>\n",
       "      <td>...</td>\n",
       "      <td>6.80%</td>\n",
       "      <td>0.08</td>\n",
       "      <td>30,366,036</td>\n",
       "      <td>78.10%</td>\n",
       "      <td>0.00%</td>\n",
       "      <td>36.10%</td>\n",
       "      <td>3.24%</td>\n",
       "      <td>11,092,106</td>\n",
       "      <td>-18.665695</td>\n",
       "      <td>35.529562</td>\n",
       "    </tr>\n",
       "    <tr>\n",
       "      <th>125</th>\n",
       "      <td>Niger</td>\n",
       "      <td>19</td>\n",
       "      <td>NE</td>\n",
       "      <td>36.10%</td>\n",
       "      <td>1,267,000</td>\n",
       "      <td>10,000</td>\n",
       "      <td>46.08</td>\n",
       "      <td>227.0</td>\n",
       "      <td>Niamey</td>\n",
       "      <td>2,017</td>\n",
       "      <td>...</td>\n",
       "      <td>52.30%</td>\n",
       "      <td>0.04</td>\n",
       "      <td>23,310,715</td>\n",
       "      <td>72.00%</td>\n",
       "      <td>11.80%</td>\n",
       "      <td>47.20%</td>\n",
       "      <td>0.47%</td>\n",
       "      <td>3,850,231</td>\n",
       "      <td>17.607789</td>\n",
       "      <td>8.081666</td>\n",
       "    </tr>\n",
       "    <tr>\n",
       "      <th>126</th>\n",
       "      <td>Nigeria</td>\n",
       "      <td>226</td>\n",
       "      <td>NG</td>\n",
       "      <td>77.70%</td>\n",
       "      <td>923,768</td>\n",
       "      <td>215,000</td>\n",
       "      <td>37.91</td>\n",
       "      <td>234.0</td>\n",
       "      <td>Abuja</td>\n",
       "      <td>120,369</td>\n",
       "      <td>...</td>\n",
       "      <td>72.20%</td>\n",
       "      <td>0.38</td>\n",
       "      <td>200,963,599</td>\n",
       "      <td>52.90%</td>\n",
       "      <td>1.50%</td>\n",
       "      <td>34.80%</td>\n",
       "      <td>8.10%</td>\n",
       "      <td>102,806,948</td>\n",
       "      <td>9.081999</td>\n",
       "      <td>8.675277</td>\n",
       "    </tr>\n",
       "    <tr>\n",
       "      <th>144</th>\n",
       "      <td>Rwanda</td>\n",
       "      <td>525</td>\n",
       "      <td>RW</td>\n",
       "      <td>73.40%</td>\n",
       "      <td>26,338</td>\n",
       "      <td>35,000</td>\n",
       "      <td>31.70</td>\n",
       "      <td>250.0</td>\n",
       "      <td>Kigali</td>\n",
       "      <td>1,115</td>\n",
       "      <td>...</td>\n",
       "      <td>26.00%</td>\n",
       "      <td>0.13</td>\n",
       "      <td>12,626,950</td>\n",
       "      <td>83.70%</td>\n",
       "      <td>14.30%</td>\n",
       "      <td>33.20%</td>\n",
       "      <td>1.03%</td>\n",
       "      <td>2,186,104</td>\n",
       "      <td>-1.940278</td>\n",
       "      <td>29.873888</td>\n",
       "    </tr>\n",
       "    <tr>\n",
       "      <th>150</th>\n",
       "      <td>S�����������</td>\n",
       "      <td>228</td>\n",
       "      <td>ST</td>\n",
       "      <td>50.70%</td>\n",
       "      <td>964</td>\n",
       "      <td>1,000</td>\n",
       "      <td>31.54</td>\n",
       "      <td>239.0</td>\n",
       "      <td>S����</td>\n",
       "      <td>121</td>\n",
       "      <td>...</td>\n",
       "      <td>11.70%</td>\n",
       "      <td>0.05</td>\n",
       "      <td>215,056</td>\n",
       "      <td>57.80%</td>\n",
       "      <td>14.60%</td>\n",
       "      <td>37.00%</td>\n",
       "      <td>13.37%</td>\n",
       "      <td>158,277</td>\n",
       "      <td>NaN</td>\n",
       "      <td>NaN</td>\n",
       "    </tr>\n",
       "    <tr>\n",
       "      <th>152</th>\n",
       "      <td>Senegal</td>\n",
       "      <td>87</td>\n",
       "      <td>SN</td>\n",
       "      <td>46.10%</td>\n",
       "      <td>196,722</td>\n",
       "      <td>19,000</td>\n",
       "      <td>34.52</td>\n",
       "      <td>221.0</td>\n",
       "      <td>Dakar</td>\n",
       "      <td>10,902</td>\n",
       "      <td>...</td>\n",
       "      <td>44.20%</td>\n",
       "      <td>0.07</td>\n",
       "      <td>16,296,364</td>\n",
       "      <td>45.70%</td>\n",
       "      <td>16.30%</td>\n",
       "      <td>44.80%</td>\n",
       "      <td>6.60%</td>\n",
       "      <td>7,765,706</td>\n",
       "      <td>14.497401</td>\n",
       "      <td>-14.452362</td>\n",
       "    </tr>\n",
       "    <tr>\n",
       "      <th>155</th>\n",
       "      <td>Sierra Leone</td>\n",
       "      <td>111</td>\n",
       "      <td>SL</td>\n",
       "      <td>54.70%</td>\n",
       "      <td>71,740</td>\n",
       "      <td>9,000</td>\n",
       "      <td>33.41</td>\n",
       "      <td>232.0</td>\n",
       "      <td>Freetown</td>\n",
       "      <td>1,093</td>\n",
       "      <td>...</td>\n",
       "      <td>38.20%</td>\n",
       "      <td>0.03</td>\n",
       "      <td>7,813,215</td>\n",
       "      <td>57.90%</td>\n",
       "      <td>8.60%</td>\n",
       "      <td>30.70%</td>\n",
       "      <td>4.43%</td>\n",
       "      <td>3,319,366</td>\n",
       "      <td>8.460555</td>\n",
       "      <td>-11.779889</td>\n",
       "    </tr>\n",
       "    <tr>\n",
       "      <th>159</th>\n",
       "      <td>Solomon Islands</td>\n",
       "      <td>25</td>\n",
       "      <td>SB</td>\n",
       "      <td>3.90%</td>\n",
       "      <td>28,896</td>\n",
       "      <td>NaN</td>\n",
       "      <td>32.44</td>\n",
       "      <td>677.0</td>\n",
       "      <td>Honiara</td>\n",
       "      <td>169</td>\n",
       "      <td>...</td>\n",
       "      <td>3.30%</td>\n",
       "      <td>0.19</td>\n",
       "      <td>669,823</td>\n",
       "      <td>83.80%</td>\n",
       "      <td>29.50%</td>\n",
       "      <td>32.00%</td>\n",
       "      <td>0.58%</td>\n",
       "      <td>162,164</td>\n",
       "      <td>-9.645710</td>\n",
       "      <td>160.156194</td>\n",
       "    </tr>\n",
       "    <tr>\n",
       "      <th>160</th>\n",
       "      <td>Somalia</td>\n",
       "      <td>25</td>\n",
       "      <td>SO</td>\n",
       "      <td>70.30%</td>\n",
       "      <td>637,657</td>\n",
       "      <td>20,000</td>\n",
       "      <td>41.75</td>\n",
       "      <td>252.0</td>\n",
       "      <td>Mogadishu</td>\n",
       "      <td>645</td>\n",
       "      <td>...</td>\n",
       "      <td>NaN</td>\n",
       "      <td>0.02</td>\n",
       "      <td>15,442,905</td>\n",
       "      <td>47.40%</td>\n",
       "      <td>0.00%</td>\n",
       "      <td>NaN</td>\n",
       "      <td>11.35%</td>\n",
       "      <td>7,034,861</td>\n",
       "      <td>5.152149</td>\n",
       "      <td>46.199616</td>\n",
       "    </tr>\n",
       "    <tr>\n",
       "      <th>163</th>\n",
       "      <td>South Sudan</td>\n",
       "      <td>18</td>\n",
       "      <td>SS</td>\n",
       "      <td>NaN</td>\n",
       "      <td>644,329</td>\n",
       "      <td>185,000</td>\n",
       "      <td>35.01</td>\n",
       "      <td>211.0</td>\n",
       "      <td>Juba</td>\n",
       "      <td>1,727</td>\n",
       "      <td>...</td>\n",
       "      <td>61.30%</td>\n",
       "      <td>NaN</td>\n",
       "      <td>11,062,113</td>\n",
       "      <td>72.40%</td>\n",
       "      <td>NaN</td>\n",
       "      <td>31.40%</td>\n",
       "      <td>12.24%</td>\n",
       "      <td>2,201,250</td>\n",
       "      <td>6.876992</td>\n",
       "      <td>31.306979</td>\n",
       "    </tr>\n",
       "    <tr>\n",
       "      <th>166</th>\n",
       "      <td>Sudan</td>\n",
       "      <td>25</td>\n",
       "      <td>SD</td>\n",
       "      <td>28.70%</td>\n",
       "      <td>1,861,484</td>\n",
       "      <td>124,000</td>\n",
       "      <td>32.18</td>\n",
       "      <td>249.0</td>\n",
       "      <td>Khartoum</td>\n",
       "      <td>20,000</td>\n",
       "      <td>...</td>\n",
       "      <td>63.20%</td>\n",
       "      <td>0.26</td>\n",
       "      <td>42,813,238</td>\n",
       "      <td>48.40%</td>\n",
       "      <td>8.00%</td>\n",
       "      <td>45.40%</td>\n",
       "      <td>16.53%</td>\n",
       "      <td>14,957,233</td>\n",
       "      <td>12.862807</td>\n",
       "      <td>30.217636</td>\n",
       "    </tr>\n",
       "    <tr>\n",
       "      <th>171</th>\n",
       "      <td>Tajikistan</td>\n",
       "      <td>68</td>\n",
       "      <td>TJ</td>\n",
       "      <td>34.10%</td>\n",
       "      <td>144,100</td>\n",
       "      <td>17,000</td>\n",
       "      <td>30.76</td>\n",
       "      <td>992.0</td>\n",
       "      <td>Dushanbe</td>\n",
       "      <td>5,310</td>\n",
       "      <td>...</td>\n",
       "      <td>63.10%</td>\n",
       "      <td>1.70</td>\n",
       "      <td>9,321,018</td>\n",
       "      <td>42.00%</td>\n",
       "      <td>9.80%</td>\n",
       "      <td>67.30%</td>\n",
       "      <td>11.02%</td>\n",
       "      <td>2,545,477</td>\n",
       "      <td>38.861034</td>\n",
       "      <td>71.276093</td>\n",
       "    </tr>\n",
       "    <tr>\n",
       "      <th>172</th>\n",
       "      <td>Tanzania</td>\n",
       "      <td>67</td>\n",
       "      <td>TZ</td>\n",
       "      <td>44.80%</td>\n",
       "      <td>947,300</td>\n",
       "      <td>28,000</td>\n",
       "      <td>36.70</td>\n",
       "      <td>255.0</td>\n",
       "      <td>Dodoma</td>\n",
       "      <td>11,973</td>\n",
       "      <td>...</td>\n",
       "      <td>26.10%</td>\n",
       "      <td>0.01</td>\n",
       "      <td>58,005,463</td>\n",
       "      <td>83.40%</td>\n",
       "      <td>11.50%</td>\n",
       "      <td>43.80%</td>\n",
       "      <td>1.98%</td>\n",
       "      <td>20,011,885</td>\n",
       "      <td>-6.369028</td>\n",
       "      <td>34.888822</td>\n",
       "    </tr>\n",
       "    <tr>\n",
       "      <th>175</th>\n",
       "      <td>Togo</td>\n",
       "      <td>152</td>\n",
       "      <td>TG</td>\n",
       "      <td>70.20%</td>\n",
       "      <td>56,785</td>\n",
       "      <td>10,000</td>\n",
       "      <td>33.11</td>\n",
       "      <td>228.0</td>\n",
       "      <td>Lom�</td>\n",
       "      <td>3,000</td>\n",
       "      <td>...</td>\n",
       "      <td>51.00%</td>\n",
       "      <td>0.08</td>\n",
       "      <td>8,082,366</td>\n",
       "      <td>77.60%</td>\n",
       "      <td>16.90%</td>\n",
       "      <td>48.20%</td>\n",
       "      <td>2.04%</td>\n",
       "      <td>3,414,638</td>\n",
       "      <td>8.619543</td>\n",
       "      <td>0.824782</td>\n",
       "    </tr>\n",
       "    <tr>\n",
       "      <th>182</th>\n",
       "      <td>Uganda</td>\n",
       "      <td>229</td>\n",
       "      <td>UG</td>\n",
       "      <td>71.90%</td>\n",
       "      <td>241,038</td>\n",
       "      <td>46,000</td>\n",
       "      <td>38.14</td>\n",
       "      <td>256.0</td>\n",
       "      <td>Kampala</td>\n",
       "      <td>5,680</td>\n",
       "      <td>...</td>\n",
       "      <td>40.50%</td>\n",
       "      <td>0.17</td>\n",
       "      <td>44,269,594</td>\n",
       "      <td>70.30%</td>\n",
       "      <td>11.70%</td>\n",
       "      <td>33.70%</td>\n",
       "      <td>1.84%</td>\n",
       "      <td>10,784,516</td>\n",
       "      <td>1.373333</td>\n",
       "      <td>32.290275</td>\n",
       "    </tr>\n",
       "    <tr>\n",
       "      <th>192</th>\n",
       "      <td>Yemen</td>\n",
       "      <td>56</td>\n",
       "      <td>YE</td>\n",
       "      <td>44.60%</td>\n",
       "      <td>527,968</td>\n",
       "      <td>40,000</td>\n",
       "      <td>30.45</td>\n",
       "      <td>967.0</td>\n",
       "      <td>Sanaa</td>\n",
       "      <td>10,609</td>\n",
       "      <td>...</td>\n",
       "      <td>81.00%</td>\n",
       "      <td>0.31</td>\n",
       "      <td>29,161,922</td>\n",
       "      <td>38.00%</td>\n",
       "      <td>NaN</td>\n",
       "      <td>26.60%</td>\n",
       "      <td>12.91%</td>\n",
       "      <td>10,869,523</td>\n",
       "      <td>15.552727</td>\n",
       "      <td>48.516388</td>\n",
       "    </tr>\n",
       "    <tr>\n",
       "      <th>193</th>\n",
       "      <td>Zambia</td>\n",
       "      <td>25</td>\n",
       "      <td>ZM</td>\n",
       "      <td>32.10%</td>\n",
       "      <td>752,618</td>\n",
       "      <td>16,000</td>\n",
       "      <td>36.19</td>\n",
       "      <td>260.0</td>\n",
       "      <td>Lusaka</td>\n",
       "      <td>5,141</td>\n",
       "      <td>...</td>\n",
       "      <td>27.50%</td>\n",
       "      <td>1.19</td>\n",
       "      <td>17,861,030</td>\n",
       "      <td>74.60%</td>\n",
       "      <td>16.20%</td>\n",
       "      <td>15.60%</td>\n",
       "      <td>11.43%</td>\n",
       "      <td>7,871,713</td>\n",
       "      <td>-13.133897</td>\n",
       "      <td>27.849332</td>\n",
       "    </tr>\n",
       "    <tr>\n",
       "      <th>194</th>\n",
       "      <td>Zimbabwe</td>\n",
       "      <td>38</td>\n",
       "      <td>ZW</td>\n",
       "      <td>41.90%</td>\n",
       "      <td>390,757</td>\n",
       "      <td>51,000</td>\n",
       "      <td>30.68</td>\n",
       "      <td>263.0</td>\n",
       "      <td>Harare</td>\n",
       "      <td>10,983</td>\n",
       "      <td>...</td>\n",
       "      <td>25.80%</td>\n",
       "      <td>0.21</td>\n",
       "      <td>14,645,468</td>\n",
       "      <td>83.10%</td>\n",
       "      <td>20.70%</td>\n",
       "      <td>31.60%</td>\n",
       "      <td>4.95%</td>\n",
       "      <td>4,717,305</td>\n",
       "      <td>-19.015438</td>\n",
       "      <td>29.154857</td>\n",
       "    </tr>\n",
       "  </tbody>\n",
       "</table>\n",
       "<p>42 rows × 35 columns</p>\n",
       "</div>"
      ],
      "text/plain": [
       "                              Country Density\\n(P/Km2) Abbreviation  \\\n",
       "0                         Afghanistan               60           AF   \n",
       "4                              Angola               26           AO   \n",
       "18                              Benin              108           BJ   \n",
       "26                       Burkina Faso               76           BF   \n",
       "27                            Burundi              463           BI   \n",
       "28                        Ivory Coast               83           CI   \n",
       "31                           Cameroon               56           CM   \n",
       "33           Central African Republic                8           CF   \n",
       "34                               Chad               13           TD   \n",
       "38                            Comoros              467           KM   \n",
       "39              Republic of the Congo               16          NaN   \n",
       "45   Democratic Republic of the Congo               40           CD   \n",
       "53                  Equatorial Guinea               50           GQ   \n",
       "54                            Eritrea               35           ER   \n",
       "57                           Ethiopia              115           ET   \n",
       "61                              Gabon                9           GA   \n",
       "62                         The Gambia              239           GM   \n",
       "69                             Guinea               53           GN   \n",
       "70                      Guinea-Bissau               70           GW   \n",
       "96                            Liberia               53           LR   \n",
       "101                        Madagascar               48           MG   \n",
       "102                            Malawi              203           MW   \n",
       "105                              Mali               17           ML   \n",
       "108                        Mauritania                5           MR   \n",
       "117                        Mozambique               40           MZ   \n",
       "125                             Niger               19           NE   \n",
       "126                           Nigeria              226           NG   \n",
       "144                            Rwanda              525           RW   \n",
       "150                      S�����������              228           ST   \n",
       "152                           Senegal               87           SN   \n",
       "155                      Sierra Leone              111           SL   \n",
       "159                   Solomon Islands               25           SB   \n",
       "160                           Somalia               25           SO   \n",
       "163                       South Sudan               18           SS   \n",
       "166                             Sudan               25           SD   \n",
       "171                        Tajikistan               68           TJ   \n",
       "172                          Tanzania               67           TZ   \n",
       "175                              Togo              152           TG   \n",
       "182                            Uganda              229           UG   \n",
       "192                             Yemen               56           YE   \n",
       "193                            Zambia               25           ZM   \n",
       "194                          Zimbabwe               38           ZW   \n",
       "\n",
       "    Agricultural Land( %) Land Area(Km2) Armed Forces size  Birth Rate  \\\n",
       "0                  58.10%        652,230           323,000       32.49   \n",
       "4                  47.50%      1,246,700           117,000       40.73   \n",
       "18                 33.30%        112,622            12,000       36.22   \n",
       "26                 44.20%        274,200            11,000       37.93   \n",
       "27                 79.20%         27,830            31,000       39.01   \n",
       "28                 64.80%        322,463            27,000       35.74   \n",
       "31                 20.60%        475,440            24,000       35.39   \n",
       "33                  8.20%        622,984             8,000       35.35   \n",
       "34                 39.70%      1,284,000            35,000       42.17   \n",
       "38                 71.50%          2,235               NaN       31.88   \n",
       "39                 31.10%        342,000            12,000       32.86   \n",
       "45                 11.60%      2,344,858           134,000       41.18   \n",
       "53                 10.10%         28,051             1,000       33.24   \n",
       "54                 75.20%        117,600           202,000       30.30   \n",
       "57                 36.30%      1,104,300           138,000       32.34   \n",
       "61                 20.00%        267,667             7,000       31.61   \n",
       "62                 59.80%         11,300             1,000       38.54   \n",
       "69                 59.00%        245,857            13,000       36.36   \n",
       "70                 58.00%         36,125             4,000       35.13   \n",
       "96                 28.00%        111,369             2,000       33.04   \n",
       "101                71.20%        587,041            22,000       32.66   \n",
       "102                61.40%        118,484            15,000       34.12   \n",
       "105                33.80%      1,240,192            18,000       41.54   \n",
       "108                38.50%      1,030,700            21,000       33.69   \n",
       "117                63.50%        799,380            11,000       37.52   \n",
       "125                36.10%      1,267,000            10,000       46.08   \n",
       "126                77.70%        923,768           215,000       37.91   \n",
       "144                73.40%         26,338            35,000       31.70   \n",
       "150                50.70%            964             1,000       31.54   \n",
       "152                46.10%        196,722            19,000       34.52   \n",
       "155                54.70%         71,740             9,000       33.41   \n",
       "159                 3.90%         28,896               NaN       32.44   \n",
       "160                70.30%        637,657            20,000       41.75   \n",
       "163                   NaN        644,329           185,000       35.01   \n",
       "166                28.70%      1,861,484           124,000       32.18   \n",
       "171                34.10%        144,100            17,000       30.76   \n",
       "172                44.80%        947,300            28,000       36.70   \n",
       "175                70.20%         56,785            10,000       33.11   \n",
       "182                71.90%        241,038            46,000       38.14   \n",
       "192                44.60%        527,968            40,000       30.45   \n",
       "193                32.10%        752,618            16,000       36.19   \n",
       "194                41.90%        390,757            51,000       30.68   \n",
       "\n",
       "     Calling Code Capital/Major City Co2-Emissions  ...  \\\n",
       "0            93.0              Kabul         8,672  ...   \n",
       "4           244.0             Luanda        34,693  ...   \n",
       "18          229.0         Porto-Novo         6,476  ...   \n",
       "26          226.0        Ouagadougou         3,418  ...   \n",
       "27          257.0          Bujumbura           495  ...   \n",
       "28          225.0       Yamoussoukro         9,674  ...   \n",
       "31          237.0            Yaound�         8,291  ...   \n",
       "33          236.0             Bangui           297  ...   \n",
       "34          235.0          N'Djamena         1,016  ...   \n",
       "38          269.0    Moroni, Comoros           202  ...   \n",
       "39          242.0        Brazzaville         3,282  ...   \n",
       "45          243.0           Kinshasa         2,021  ...   \n",
       "53          240.0             Malabo         5,655  ...   \n",
       "54          291.0             Asmara           711  ...   \n",
       "57          251.0        Addis Ababa        14,870  ...   \n",
       "61          241.0         Libreville         5,321  ...   \n",
       "62          220.0             Banjul           532  ...   \n",
       "69          224.0            Conakry         2,996  ...   \n",
       "70          245.0             Bissau           293  ...   \n",
       "96          231.0           Monrovia         1,386  ...   \n",
       "101         261.0       Antananarivo         3,905  ...   \n",
       "102         265.0           Lilongwe         1,298  ...   \n",
       "105         223.0             Bamako         3,179  ...   \n",
       "108         222.0         Nouakchott         2,739  ...   \n",
       "117         258.0             Maputo         7,943  ...   \n",
       "125         227.0             Niamey         2,017  ...   \n",
       "126         234.0              Abuja       120,369  ...   \n",
       "144         250.0             Kigali         1,115  ...   \n",
       "150         239.0              S����           121  ...   \n",
       "152         221.0              Dakar        10,902  ...   \n",
       "155         232.0           Freetown         1,093  ...   \n",
       "159         677.0            Honiara           169  ...   \n",
       "160         252.0          Mogadishu           645  ...   \n",
       "163         211.0               Juba         1,727  ...   \n",
       "166         249.0           Khartoum        20,000  ...   \n",
       "171         992.0           Dushanbe         5,310  ...   \n",
       "172         255.0             Dodoma        11,973  ...   \n",
       "175         228.0               Lom�         3,000  ...   \n",
       "182         256.0            Kampala         5,680  ...   \n",
       "192         967.0              Sanaa        10,609  ...   \n",
       "193         260.0             Lusaka         5,141  ...   \n",
       "194         263.0             Harare        10,983  ...   \n",
       "\n",
       "    Out of pocket health expenditure Physicians per thousand   Population  \\\n",
       "0                             78.40%                    0.28   38,041,754   \n",
       "4                             33.40%                    0.21   31,825,295   \n",
       "18                            40.50%                    0.08   11,801,151   \n",
       "26                            36.10%                    0.08   20,321,378   \n",
       "27                            19.10%                    0.10   11,530,580   \n",
       "28                            36.00%                    0.23   25,716,544   \n",
       "31                            69.70%                    0.09   25,876,380   \n",
       "33                            39.60%                    0.06    4,745,185   \n",
       "34                            56.40%                    0.04   15,946,876   \n",
       "38                            74.80%                    0.27      850,886   \n",
       "39                            43.80%                    0.12    5,380,508   \n",
       "45                            37.40%                    0.07   86,790,567   \n",
       "53                            72.00%                    0.40    1,355,986   \n",
       "54                            52.40%                    0.06    6,333,135   \n",
       "57                            37.80%                    0.08  112,078,730   \n",
       "61                            25.90%                    0.68    2,172,579   \n",
       "62                            20.30%                    0.10    2,347,706   \n",
       "69                            54.50%                    0.08   12,771,246   \n",
       "70                            37.20%                    0.13    1,920,922   \n",
       "96                            19.60%                    0.04    4,937,374   \n",
       "101                           21.70%                    0.18   26,969,307   \n",
       "102                           11.00%                    0.04   18,628,747   \n",
       "105                           46.30%                    0.13   19,658,031   \n",
       "108                           48.20%                    0.19    4,525,696   \n",
       "117                            6.80%                    0.08   30,366,036   \n",
       "125                           52.30%                    0.04   23,310,715   \n",
       "126                           72.20%                    0.38  200,963,599   \n",
       "144                           26.00%                    0.13   12,626,950   \n",
       "150                           11.70%                    0.05      215,056   \n",
       "152                           44.20%                    0.07   16,296,364   \n",
       "155                           38.20%                    0.03    7,813,215   \n",
       "159                            3.30%                    0.19      669,823   \n",
       "160                              NaN                    0.02   15,442,905   \n",
       "163                           61.30%                     NaN   11,062,113   \n",
       "166                           63.20%                    0.26   42,813,238   \n",
       "171                           63.10%                    1.70    9,321,018   \n",
       "172                           26.10%                    0.01   58,005,463   \n",
       "175                           51.00%                    0.08    8,082,366   \n",
       "182                           40.50%                    0.17   44,269,594   \n",
       "192                           81.00%                    0.31   29,161,922   \n",
       "193                           27.50%                    1.19   17,861,030   \n",
       "194                           25.80%                    0.21   14,645,468   \n",
       "\n",
       "     Population: Labor force participation (%) Tax revenue (%) Total tax rate  \\\n",
       "0                                       48.90%           9.30%         71.40%   \n",
       "4                                       77.50%           9.20%         49.10%   \n",
       "18                                      70.90%          10.80%         48.90%   \n",
       "26                                      66.40%          15.00%         41.30%   \n",
       "27                                      79.20%          13.60%         41.20%   \n",
       "28                                      57.00%          11.80%         50.10%   \n",
       "31                                      76.10%          12.80%         57.70%   \n",
       "33                                      72.00%           8.60%         73.30%   \n",
       "34                                      70.70%             NaN         63.50%   \n",
       "38                                      43.30%             NaN        219.60%   \n",
       "39                                      69.40%           9.00%         54.30%   \n",
       "45                                      63.50%          10.70%         50.70%   \n",
       "53                                      62.00%           6.10%         79.40%   \n",
       "54                                      78.40%             NaN         83.70%   \n",
       "57                                      79.60%           7.50%         37.70%   \n",
       "61                                      52.90%          10.20%         47.10%   \n",
       "62                                      59.40%           9.40%         48.40%   \n",
       "69                                      61.50%          10.80%         69.30%   \n",
       "70                                      72.00%          10.30%         45.50%   \n",
       "96                                      76.30%          12.90%         46.20%   \n",
       "101                                     86.10%          10.20%         38.30%   \n",
       "102                                     76.70%          17.30%         34.50%   \n",
       "105                                     70.80%          11.60%         54.50%   \n",
       "108                                     45.90%             NaN         67.00%   \n",
       "117                                     78.10%           0.00%         36.10%   \n",
       "125                                     72.00%          11.80%         47.20%   \n",
       "126                                     52.90%           1.50%         34.80%   \n",
       "144                                     83.70%          14.30%         33.20%   \n",
       "150                                     57.80%          14.60%         37.00%   \n",
       "152                                     45.70%          16.30%         44.80%   \n",
       "155                                     57.90%           8.60%         30.70%   \n",
       "159                                     83.80%          29.50%         32.00%   \n",
       "160                                     47.40%           0.00%            NaN   \n",
       "163                                     72.40%             NaN         31.40%   \n",
       "166                                     48.40%           8.00%         45.40%   \n",
       "171                                     42.00%           9.80%         67.30%   \n",
       "172                                     83.40%          11.50%         43.80%   \n",
       "175                                     77.60%          16.90%         48.20%   \n",
       "182                                     70.30%          11.70%         33.70%   \n",
       "192                                     38.00%             NaN         26.60%   \n",
       "193                                     74.60%          16.20%         15.60%   \n",
       "194                                     83.10%          20.70%         31.60%   \n",
       "\n",
       "    Unemployment rate Urban_population   Latitude   Longitude  \n",
       "0              11.12%        9,797,273  33.939110   67.709953  \n",
       "4               6.89%       21,061,025 -11.202692   17.873887  \n",
       "18              2.23%        5,648,149   9.307690    2.315834  \n",
       "26              6.26%        6,092,349  12.238333   -1.561593  \n",
       "27              1.43%        1,541,177  -3.373056   29.918886  \n",
       "28              3.32%       13,176,900   7.539989   -5.547080  \n",
       "31              3.38%       14,741,256   7.369722   12.354722  \n",
       "33              3.68%        1,982,064   6.611111   20.939444  \n",
       "34              1.89%        3,712,273  15.454166   18.732207  \n",
       "38              4.34%          248,152 -11.645500   43.333300  \n",
       "39              9.47%        3,625,010  -0.228021   15.827659  \n",
       "45              4.24%       39,095,679  -4.038333   21.758664  \n",
       "53              6.43%          984,812   1.650801   10.267895  \n",
       "54              5.14%        1,149,670  15.179384   39.782334  \n",
       "57              2.08%       23,788,710   9.145000   40.489673  \n",
       "61             20.00%        1,949,694  -0.803689   11.609444  \n",
       "62              9.06%        1,453,958  13.443182  -15.310139  \n",
       "69              4.30%        4,661,505   9.945587   -9.696645  \n",
       "70              2.47%          840,922  11.803749  -15.180413  \n",
       "96              2.81%        2,548,426   6.428055   -9.429499  \n",
       "101             1.76%       10,210,849 -18.766947   46.869107  \n",
       "102             5.65%        3,199,301 -13.254308   34.301525  \n",
       "105             7.22%        8,479,688  17.570692   -3.996166  \n",
       "108             9.55%        2,466,821  21.007890  -10.940835  \n",
       "117             3.24%       11,092,106 -18.665695   35.529562  \n",
       "125             0.47%        3,850,231  17.607789    8.081666  \n",
       "126             8.10%      102,806,948   9.081999    8.675277  \n",
       "144             1.03%        2,186,104  -1.940278   29.873888  \n",
       "150            13.37%          158,277        NaN         NaN  \n",
       "152             6.60%        7,765,706  14.497401  -14.452362  \n",
       "155             4.43%        3,319,366   8.460555  -11.779889  \n",
       "159             0.58%          162,164  -9.645710  160.156194  \n",
       "160            11.35%        7,034,861   5.152149   46.199616  \n",
       "163            12.24%        2,201,250   6.876992   31.306979  \n",
       "166            16.53%       14,957,233  12.862807   30.217636  \n",
       "171            11.02%        2,545,477  38.861034   71.276093  \n",
       "172             1.98%       20,011,885  -6.369028   34.888822  \n",
       "175             2.04%        3,414,638   8.619543    0.824782  \n",
       "182             1.84%       10,784,516   1.373333   32.290275  \n",
       "192            12.91%       10,869,523  15.552727   48.516388  \n",
       "193            11.43%        7,871,713 -13.133897   27.849332  \n",
       "194             4.95%        4,717,305 -19.015438   29.154857  \n",
       "\n",
       "[42 rows x 35 columns]"
      ]
     },
     "execution_count": 67,
     "metadata": {},
     "output_type": "execute_result"
    }
   ],
   "source": [
    "df[df['Birth Rate'] > 30]"
   ]
  },
  {
   "cell_type": "markdown",
   "metadata": {
    "id": "lVTpoORTK1e9"
   },
   "source": [
    "Если нужно фильтровать по нескольким условиям, то они объединяются в единое булево выражение с помощью логических операторов логическое ИЛИ (|) &, логическое И (&), логическое отрицание (~).\n",
    "\n",
    "Например:"
   ]
  },
  {
   "cell_type": "code",
   "execution_count": 68,
   "metadata": {
    "colab": {
     "base_uri": "https://localhost:8080/",
     "height": 224
    },
    "id": "hzO_aG1CK5dr",
    "outputId": "f7aade7a-3cbe-44b8-ac57-26d9b0821bd9"
   },
   "outputs": [
    {
     "data": {
      "text/html": [
       "<div>\n",
       "<style scoped>\n",
       "    .dataframe tbody tr th:only-of-type {\n",
       "        vertical-align: middle;\n",
       "    }\n",
       "\n",
       "    .dataframe tbody tr th {\n",
       "        vertical-align: top;\n",
       "    }\n",
       "\n",
       "    .dataframe thead th {\n",
       "        text-align: right;\n",
       "    }\n",
       "</style>\n",
       "<table border=\"1\" class=\"dataframe\">\n",
       "  <thead>\n",
       "    <tr style=\"text-align: right;\">\n",
       "      <th></th>\n",
       "      <th>Country</th>\n",
       "      <th>Density\\n(P/Km2)</th>\n",
       "      <th>Abbreviation</th>\n",
       "      <th>Agricultural Land( %)</th>\n",
       "      <th>Land Area(Km2)</th>\n",
       "      <th>Armed Forces size</th>\n",
       "      <th>Birth Rate</th>\n",
       "      <th>Calling Code</th>\n",
       "      <th>Capital/Major City</th>\n",
       "      <th>Co2-Emissions</th>\n",
       "      <th>...</th>\n",
       "      <th>Out of pocket health expenditure</th>\n",
       "      <th>Physicians per thousand</th>\n",
       "      <th>Population</th>\n",
       "      <th>Population: Labor force participation (%)</th>\n",
       "      <th>Tax revenue (%)</th>\n",
       "      <th>Total tax rate</th>\n",
       "      <th>Unemployment rate</th>\n",
       "      <th>Urban_population</th>\n",
       "      <th>Latitude</th>\n",
       "      <th>Longitude</th>\n",
       "    </tr>\n",
       "  </thead>\n",
       "  <tbody>\n",
       "    <tr>\n",
       "      <th>18</th>\n",
       "      <td>Benin</td>\n",
       "      <td>108</td>\n",
       "      <td>BJ</td>\n",
       "      <td>33.30%</td>\n",
       "      <td>112,622</td>\n",
       "      <td>12,000</td>\n",
       "      <td>36.22</td>\n",
       "      <td>229.0</td>\n",
       "      <td>Porto-Novo</td>\n",
       "      <td>6,476</td>\n",
       "      <td>...</td>\n",
       "      <td>40.50%</td>\n",
       "      <td>0.08</td>\n",
       "      <td>11,801,151</td>\n",
       "      <td>70.90%</td>\n",
       "      <td>10.80%</td>\n",
       "      <td>48.90%</td>\n",
       "      <td>2.23%</td>\n",
       "      <td>5,648,149</td>\n",
       "      <td>9.30769</td>\n",
       "      <td>2.315834</td>\n",
       "    </tr>\n",
       "  </tbody>\n",
       "</table>\n",
       "<p>1 rows × 35 columns</p>\n",
       "</div>"
      ],
      "text/plain": [
       "   Country Density\\n(P/Km2) Abbreviation Agricultural Land( %) Land Area(Km2)  \\\n",
       "18   Benin              108           BJ                33.30%        112,622   \n",
       "\n",
       "   Armed Forces size  Birth Rate  Calling Code Capital/Major City  \\\n",
       "18            12,000       36.22         229.0         Porto-Novo   \n",
       "\n",
       "   Co2-Emissions  ... Out of pocket health expenditure  \\\n",
       "18         6,476  ...                           40.50%   \n",
       "\n",
       "   Physicians per thousand  Population  \\\n",
       "18                    0.08  11,801,151   \n",
       "\n",
       "    Population: Labor force participation (%) Tax revenue (%) Total tax rate  \\\n",
       "18                                     70.90%          10.80%         48.90%   \n",
       "\n",
       "   Unemployment rate Urban_population Latitude  Longitude  \n",
       "18             2.23%        5,648,149  9.30769   2.315834  \n",
       "\n",
       "[1 rows x 35 columns]"
      ]
     },
     "execution_count": 68,
     "metadata": {},
     "output_type": "execute_result"
    }
   ],
   "source": [
    "df[(df['Birth Rate'] > 30) & (df['Abbreviation'] == 'BJ')]"
   ]
  },
  {
   "cell_type": "code",
   "execution_count": 70,
   "metadata": {
    "colab": {
     "base_uri": "https://localhost:8080/",
     "height": 413
    },
    "id": "3q-GmygvLNka",
    "outputId": "3e9fff6e-de77-4864-a776-382d8d05b09b"
   },
   "outputs": [
    {
     "data": {
      "text/html": [
       "<div>\n",
       "<style scoped>\n",
       "    .dataframe tbody tr th:only-of-type {\n",
       "        vertical-align: middle;\n",
       "    }\n",
       "\n",
       "    .dataframe tbody tr th {\n",
       "        vertical-align: top;\n",
       "    }\n",
       "\n",
       "    .dataframe thead th {\n",
       "        text-align: right;\n",
       "    }\n",
       "</style>\n",
       "<table border=\"1\" class=\"dataframe\">\n",
       "  <thead>\n",
       "    <tr style=\"text-align: right;\">\n",
       "      <th></th>\n",
       "      <th>Country</th>\n",
       "      <th>Density\\n(P/Km2)</th>\n",
       "      <th>Abbreviation</th>\n",
       "      <th>Agricultural Land( %)</th>\n",
       "      <th>Land Area(Km2)</th>\n",
       "      <th>Armed Forces size</th>\n",
       "      <th>Birth Rate</th>\n",
       "      <th>Calling Code</th>\n",
       "      <th>Capital/Major City</th>\n",
       "      <th>Co2-Emissions</th>\n",
       "      <th>...</th>\n",
       "      <th>Out of pocket health expenditure</th>\n",
       "      <th>Physicians per thousand</th>\n",
       "      <th>Population</th>\n",
       "      <th>Population: Labor force participation (%)</th>\n",
       "      <th>Tax revenue (%)</th>\n",
       "      <th>Total tax rate</th>\n",
       "      <th>Unemployment rate</th>\n",
       "      <th>Urban_population</th>\n",
       "      <th>Latitude</th>\n",
       "      <th>Longitude</th>\n",
       "    </tr>\n",
       "  </thead>\n",
       "  <tbody>\n",
       "    <tr>\n",
       "      <th>34</th>\n",
       "      <td>Chad</td>\n",
       "      <td>13</td>\n",
       "      <td>TD</td>\n",
       "      <td>39.70%</td>\n",
       "      <td>1,284,000</td>\n",
       "      <td>35,000</td>\n",
       "      <td>42.17</td>\n",
       "      <td>235.0</td>\n",
       "      <td>N'Djamena</td>\n",
       "      <td>1,016</td>\n",
       "      <td>...</td>\n",
       "      <td>56.40%</td>\n",
       "      <td>0.04</td>\n",
       "      <td>15,946,876</td>\n",
       "      <td>70.70%</td>\n",
       "      <td>NaN</td>\n",
       "      <td>63.50%</td>\n",
       "      <td>1.89%</td>\n",
       "      <td>3,712,273</td>\n",
       "      <td>15.454166</td>\n",
       "      <td>18.732207</td>\n",
       "    </tr>\n",
       "    <tr>\n",
       "      <th>45</th>\n",
       "      <td>Democratic Republic of the Congo</td>\n",
       "      <td>40</td>\n",
       "      <td>CD</td>\n",
       "      <td>11.60%</td>\n",
       "      <td>2,344,858</td>\n",
       "      <td>134,000</td>\n",
       "      <td>41.18</td>\n",
       "      <td>243.0</td>\n",
       "      <td>Kinshasa</td>\n",
       "      <td>2,021</td>\n",
       "      <td>...</td>\n",
       "      <td>37.40%</td>\n",
       "      <td>0.07</td>\n",
       "      <td>86,790,567</td>\n",
       "      <td>63.50%</td>\n",
       "      <td>10.70%</td>\n",
       "      <td>50.70%</td>\n",
       "      <td>4.24%</td>\n",
       "      <td>39,095,679</td>\n",
       "      <td>-4.038333</td>\n",
       "      <td>21.758664</td>\n",
       "    </tr>\n",
       "    <tr>\n",
       "      <th>105</th>\n",
       "      <td>Mali</td>\n",
       "      <td>17</td>\n",
       "      <td>ML</td>\n",
       "      <td>33.80%</td>\n",
       "      <td>1,240,192</td>\n",
       "      <td>18,000</td>\n",
       "      <td>41.54</td>\n",
       "      <td>223.0</td>\n",
       "      <td>Bamako</td>\n",
       "      <td>3,179</td>\n",
       "      <td>...</td>\n",
       "      <td>46.30%</td>\n",
       "      <td>0.13</td>\n",
       "      <td>19,658,031</td>\n",
       "      <td>70.80%</td>\n",
       "      <td>11.60%</td>\n",
       "      <td>54.50%</td>\n",
       "      <td>7.22%</td>\n",
       "      <td>8,479,688</td>\n",
       "      <td>17.570692</td>\n",
       "      <td>-3.996166</td>\n",
       "    </tr>\n",
       "    <tr>\n",
       "      <th>125</th>\n",
       "      <td>Niger</td>\n",
       "      <td>19</td>\n",
       "      <td>NE</td>\n",
       "      <td>36.10%</td>\n",
       "      <td>1,267,000</td>\n",
       "      <td>10,000</td>\n",
       "      <td>46.08</td>\n",
       "      <td>227.0</td>\n",
       "      <td>Niamey</td>\n",
       "      <td>2,017</td>\n",
       "      <td>...</td>\n",
       "      <td>52.30%</td>\n",
       "      <td>0.04</td>\n",
       "      <td>23,310,715</td>\n",
       "      <td>72.00%</td>\n",
       "      <td>11.80%</td>\n",
       "      <td>47.20%</td>\n",
       "      <td>0.47%</td>\n",
       "      <td>3,850,231</td>\n",
       "      <td>17.607789</td>\n",
       "      <td>8.081666</td>\n",
       "    </tr>\n",
       "    <tr>\n",
       "      <th>160</th>\n",
       "      <td>Somalia</td>\n",
       "      <td>25</td>\n",
       "      <td>SO</td>\n",
       "      <td>70.30%</td>\n",
       "      <td>637,657</td>\n",
       "      <td>20,000</td>\n",
       "      <td>41.75</td>\n",
       "      <td>252.0</td>\n",
       "      <td>Mogadishu</td>\n",
       "      <td>645</td>\n",
       "      <td>...</td>\n",
       "      <td>NaN</td>\n",
       "      <td>0.02</td>\n",
       "      <td>15,442,905</td>\n",
       "      <td>47.40%</td>\n",
       "      <td>0.00%</td>\n",
       "      <td>NaN</td>\n",
       "      <td>11.35%</td>\n",
       "      <td>7,034,861</td>\n",
       "      <td>5.152149</td>\n",
       "      <td>46.199616</td>\n",
       "    </tr>\n",
       "  </tbody>\n",
       "</table>\n",
       "<p>5 rows × 35 columns</p>\n",
       "</div>"
      ],
      "text/plain": [
       "                              Country Density\\n(P/Km2) Abbreviation  \\\n",
       "34                               Chad               13           TD   \n",
       "45   Democratic Republic of the Congo               40           CD   \n",
       "105                              Mali               17           ML   \n",
       "125                             Niger               19           NE   \n",
       "160                           Somalia               25           SO   \n",
       "\n",
       "    Agricultural Land( %) Land Area(Km2) Armed Forces size  Birth Rate  \\\n",
       "34                 39.70%      1,284,000            35,000       42.17   \n",
       "45                 11.60%      2,344,858           134,000       41.18   \n",
       "105                33.80%      1,240,192            18,000       41.54   \n",
       "125                36.10%      1,267,000            10,000       46.08   \n",
       "160                70.30%        637,657            20,000       41.75   \n",
       "\n",
       "     Calling Code Capital/Major City Co2-Emissions  ...  \\\n",
       "34          235.0          N'Djamena         1,016  ...   \n",
       "45          243.0           Kinshasa         2,021  ...   \n",
       "105         223.0             Bamako         3,179  ...   \n",
       "125         227.0             Niamey         2,017  ...   \n",
       "160         252.0          Mogadishu           645  ...   \n",
       "\n",
       "    Out of pocket health expenditure Physicians per thousand  Population  \\\n",
       "34                            56.40%                    0.04  15,946,876   \n",
       "45                            37.40%                    0.07  86,790,567   \n",
       "105                           46.30%                    0.13  19,658,031   \n",
       "125                           52.30%                    0.04  23,310,715   \n",
       "160                              NaN                    0.02  15,442,905   \n",
       "\n",
       "     Population: Labor force participation (%) Tax revenue (%) Total tax rate  \\\n",
       "34                                      70.70%             NaN         63.50%   \n",
       "45                                      63.50%          10.70%         50.70%   \n",
       "105                                     70.80%          11.60%         54.50%   \n",
       "125                                     72.00%          11.80%         47.20%   \n",
       "160                                     47.40%           0.00%            NaN   \n",
       "\n",
       "    Unemployment rate Urban_population   Latitude  Longitude  \n",
       "34              1.89%        3,712,273  15.454166  18.732207  \n",
       "45              4.24%       39,095,679  -4.038333  21.758664  \n",
       "105             7.22%        8,479,688  17.570692  -3.996166  \n",
       "125             0.47%        3,850,231  17.607789   8.081666  \n",
       "160            11.35%        7,034,861   5.152149  46.199616  \n",
       "\n",
       "[5 rows x 35 columns]"
      ]
     },
     "execution_count": 70,
     "metadata": {},
     "output_type": "execute_result"
    }
   ],
   "source": [
    "df[(df['Birth Rate'] > 40) & ~(df['Abbreviation'] == 'AO')]"
   ]
  },
  {
   "cell_type": "code",
   "execution_count": 71,
   "metadata": {
    "colab": {
     "base_uri": "https://localhost:8080/",
     "height": 255
    },
    "id": "ZD09V0mpLO9Y",
    "outputId": "acacb838-02ec-486b-ac8c-fc34115d6b24"
   },
   "outputs": [
    {
     "data": {
      "text/html": [
       "<div>\n",
       "<style scoped>\n",
       "    .dataframe tbody tr th:only-of-type {\n",
       "        vertical-align: middle;\n",
       "    }\n",
       "\n",
       "    .dataframe tbody tr th {\n",
       "        vertical-align: top;\n",
       "    }\n",
       "\n",
       "    .dataframe thead th {\n",
       "        text-align: right;\n",
       "    }\n",
       "</style>\n",
       "<table border=\"1\" class=\"dataframe\">\n",
       "  <thead>\n",
       "    <tr style=\"text-align: right;\">\n",
       "      <th></th>\n",
       "      <th>Country</th>\n",
       "      <th>Density\\n(P/Km2)</th>\n",
       "      <th>Abbreviation</th>\n",
       "      <th>Agricultural Land( %)</th>\n",
       "      <th>Land Area(Km2)</th>\n",
       "      <th>Armed Forces size</th>\n",
       "      <th>Birth Rate</th>\n",
       "      <th>Calling Code</th>\n",
       "      <th>Capital/Major City</th>\n",
       "      <th>Co2-Emissions</th>\n",
       "      <th>...</th>\n",
       "      <th>Out of pocket health expenditure</th>\n",
       "      <th>Physicians per thousand</th>\n",
       "      <th>Population</th>\n",
       "      <th>Population: Labor force participation (%)</th>\n",
       "      <th>Tax revenue (%)</th>\n",
       "      <th>Total tax rate</th>\n",
       "      <th>Unemployment rate</th>\n",
       "      <th>Urban_population</th>\n",
       "      <th>Latitude</th>\n",
       "      <th>Longitude</th>\n",
       "    </tr>\n",
       "  </thead>\n",
       "  <tbody>\n",
       "    <tr>\n",
       "      <th>4</th>\n",
       "      <td>Angola</td>\n",
       "      <td>26</td>\n",
       "      <td>AO</td>\n",
       "      <td>47.50%</td>\n",
       "      <td>1,246,700</td>\n",
       "      <td>117,000</td>\n",
       "      <td>40.73</td>\n",
       "      <td>244.0</td>\n",
       "      <td>Luanda</td>\n",
       "      <td>34,693</td>\n",
       "      <td>...</td>\n",
       "      <td>33.40%</td>\n",
       "      <td>0.21</td>\n",
       "      <td>31,825,295</td>\n",
       "      <td>77.50%</td>\n",
       "      <td>9.20%</td>\n",
       "      <td>49.10%</td>\n",
       "      <td>6.89%</td>\n",
       "      <td>21,061,025</td>\n",
       "      <td>-11.202692</td>\n",
       "      <td>17.873887</td>\n",
       "    </tr>\n",
       "  </tbody>\n",
       "</table>\n",
       "<p>1 rows × 35 columns</p>\n",
       "</div>"
      ],
      "text/plain": [
       "  Country Density\\n(P/Km2) Abbreviation Agricultural Land( %) Land Area(Km2)  \\\n",
       "4  Angola               26           AO                47.50%      1,246,700   \n",
       "\n",
       "  Armed Forces size  Birth Rate  Calling Code Capital/Major City  \\\n",
       "4           117,000       40.73         244.0             Luanda   \n",
       "\n",
       "  Co2-Emissions  ... Out of pocket health expenditure Physicians per thousand  \\\n",
       "4        34,693  ...                           33.40%                    0.21   \n",
       "\n",
       "   Population  Population: Labor force participation (%) Tax revenue (%)  \\\n",
       "4  31,825,295                                     77.50%           9.20%   \n",
       "\n",
       "  Total tax rate Unemployment rate Urban_population   Latitude  Longitude  \n",
       "4         49.10%             6.89%       21,061,025 -11.202692  17.873887  \n",
       "\n",
       "[1 rows x 35 columns]"
      ]
     },
     "execution_count": 71,
     "metadata": {},
     "output_type": "execute_result"
    }
   ],
   "source": [
    "df[(df['Birth Rate'] > 40) & (df['Abbreviation'] == 'AO')]"
   ]
  },
  {
   "cell_type": "markdown",
   "metadata": {
    "id": "BQR-ukQLLEs-"
   },
   "source": [
    "С помощью оператора `.isin() `можно фильтровать данные по набору из нескольких указанных значений.   \n",
    "Название \"isin\" означает \"is in\", то есть это аналог оператора IN в других языках программирования.  \n",
    "См. пример ниже.  "
   ]
  },
  {
   "cell_type": "code",
   "execution_count": 72,
   "metadata": {
    "colab": {
     "base_uri": "https://localhost:8080/"
    },
    "id": "RSuTRIIdLGSN",
    "outputId": "f1d376ba-1cef-4292-bb9c-8818ebe98a6b"
   },
   "outputs": [
    {
     "data": {
      "text/plain": [
       "0      False\n",
       "1      False\n",
       "2      False\n",
       "3      False\n",
       "4      False\n",
       "       ...  \n",
       "190    False\n",
       "191    False\n",
       "192    False\n",
       "193    False\n",
       "194    False\n",
       "Name: Abbreviation, Length: 195, dtype: bool"
      ]
     },
     "execution_count": 72,
     "metadata": {},
     "output_type": "execute_result"
    }
   ],
   "source": [
    "options = ['FR', 'EN']\n",
    "df['Abbreviation'].isin(options)"
   ]
  },
  {
   "cell_type": "markdown",
   "metadata": {
    "id": "TdbXwfrPsEID"
   },
   "source": [
    "### **[Задание 11]**\n",
    "\n",
    "У вас есть датасет, из прошлого задания. Вам необходимо удалить строки, в которых `Total tax rate` меньше 50."
   ]
  },
  {
   "cell_type": "code",
   "execution_count": 77,
   "metadata": {
    "colab": {
     "base_uri": "https://localhost:8080/",
     "height": 565
    },
    "id": "4fK7ZGzuYs-8",
    "outputId": "e9581da8-0fc7-4f40-b78e-5afe622f2ebf"
   },
   "outputs": [
    {
     "ename": "ValueError",
     "evalue": "No axis named 6 for object type DataFrame",
     "output_type": "error",
     "traceback": [
      "\u001b[0;31m---------------------------------------------------------------------------\u001b[0m",
      "\u001b[0;31mKeyError\u001b[0m                                  Traceback (most recent call last)",
      "\u001b[0;32m/Library/Frameworks/Python.framework/Versions/3.11/lib/python3.11/site-packages/pandas/core/generic.py\u001b[0m in \u001b[0;36m?\u001b[0;34m(cls, axis)\u001b[0m\n\u001b[1;32m    552\u001b[0m             \u001b[0;32mreturn\u001b[0m \u001b[0mcls\u001b[0m\u001b[0;34m.\u001b[0m\u001b[0m_AXIS_TO_AXIS_NUMBER\u001b[0m\u001b[0;34m[\u001b[0m\u001b[0maxis\u001b[0m\u001b[0;34m]\u001b[0m\u001b[0;34m\u001b[0m\u001b[0;34m\u001b[0m\u001b[0m\n\u001b[1;32m    553\u001b[0m         \u001b[0;32mexcept\u001b[0m \u001b[0mKeyError\u001b[0m\u001b[0;34m:\u001b[0m\u001b[0;34m\u001b[0m\u001b[0;34m\u001b[0m\u001b[0m\n\u001b[0;32m--> 554\u001b[0;31m             \u001b[0;32mraise\u001b[0m \u001b[0mValueError\u001b[0m\u001b[0;34m(\u001b[0m\u001b[0;34mf\"No axis named {axis} for object type {cls.__name__}\"\u001b[0m\u001b[0;34m)\u001b[0m\u001b[0;34m\u001b[0m\u001b[0;34m\u001b[0m\u001b[0m\n\u001b[0m",
      "\u001b[0;31mKeyError\u001b[0m: 6",
      "\nDuring handling of the above exception, another exception occurred:\n",
      "\u001b[0;31mValueError\u001b[0m                                Traceback (most recent call last)",
      "\u001b[0;32m/var/folders/ht/l0sd8rtn2010mhg9ndg5tf500000gp/T/ipykernel_1931/58497777.py\u001b[0m in \u001b[0;36m?\u001b[0;34m()\u001b[0m\n\u001b[1;32m      1\u001b[0m \u001b[0;31m#df.drop(df['Total tax rate'] < 50)\u001b[0m\u001b[0;34m\u001b[0m\u001b[0;34m\u001b[0m\u001b[0m\n\u001b[0;32m----> 2\u001b[0;31m \u001b[0mdf\u001b[0m\u001b[0;34m.\u001b[0m\u001b[0mdrop\u001b[0m\u001b[0;34m(\u001b[0m\u001b[0;34m[\u001b[0m\u001b[0mdf\u001b[0m\u001b[0;34m[\u001b[0m\u001b[0;34m'Birth Rate'\u001b[0m\u001b[0;34m]\u001b[0m \u001b[0;34m>\u001b[0m \u001b[0;36m40\u001b[0m\u001b[0;34m]\u001b[0m\u001b[0;34m,\u001b[0m \u001b[0maxis\u001b[0m\u001b[0;34m=\u001b[0m\u001b[0;36m6\u001b[0m\u001b[0;34m)\u001b[0m\u001b[0;34m\u001b[0m\u001b[0;34m\u001b[0m\u001b[0m\n\u001b[0m",
      "\u001b[0;32m/Library/Frameworks/Python.framework/Versions/3.11/lib/python3.11/site-packages/pandas/core/frame.py\u001b[0m in \u001b[0;36m?\u001b[0;34m(self, labels, axis, index, columns, level, inplace, errors)\u001b[0m\n\u001b[1;32m   5343\u001b[0m                 \u001b[0mweight\u001b[0m  \u001b[0;36m250.0\u001b[0m   \u001b[0;36m150.0\u001b[0m\u001b[0;34m\u001b[0m\u001b[0;34m\u001b[0m\u001b[0m\n\u001b[1;32m   5344\u001b[0m         \u001b[0mfalcon\u001b[0m  \u001b[0mspeed\u001b[0m   \u001b[0;36m320.0\u001b[0m   \u001b[0;36m250.0\u001b[0m\u001b[0;34m\u001b[0m\u001b[0;34m\u001b[0m\u001b[0m\n\u001b[1;32m   5345\u001b[0m                 \u001b[0mweight\u001b[0m  \u001b[0;36m1.0\u001b[0m     \u001b[0;36m0.8\u001b[0m\u001b[0;34m\u001b[0m\u001b[0;34m\u001b[0m\u001b[0m\n\u001b[1;32m   5346\u001b[0m         \"\"\"\n\u001b[0;32m-> 5347\u001b[0;31m         return super().drop(\n\u001b[0m\u001b[1;32m   5348\u001b[0m             \u001b[0mlabels\u001b[0m\u001b[0;34m=\u001b[0m\u001b[0mlabels\u001b[0m\u001b[0;34m,\u001b[0m\u001b[0;34m\u001b[0m\u001b[0;34m\u001b[0m\u001b[0m\n\u001b[1;32m   5349\u001b[0m             \u001b[0maxis\u001b[0m\u001b[0;34m=\u001b[0m\u001b[0maxis\u001b[0m\u001b[0;34m,\u001b[0m\u001b[0;34m\u001b[0m\u001b[0;34m\u001b[0m\u001b[0m\n\u001b[1;32m   5350\u001b[0m             \u001b[0mindex\u001b[0m\u001b[0;34m=\u001b[0m\u001b[0mindex\u001b[0m\u001b[0;34m,\u001b[0m\u001b[0;34m\u001b[0m\u001b[0;34m\u001b[0m\u001b[0m\n",
      "\u001b[0;32m/Library/Frameworks/Python.framework/Versions/3.11/lib/python3.11/site-packages/pandas/core/generic.py\u001b[0m in \u001b[0;36m?\u001b[0;34m(self, labels, axis, index, columns, level, inplace, errors)\u001b[0m\n\u001b[1;32m   4692\u001b[0m \u001b[0;34m\u001b[0m\u001b[0m\n\u001b[1;32m   4693\u001b[0m         \u001b[0;32mif\u001b[0m \u001b[0mlabels\u001b[0m \u001b[0;32mis\u001b[0m \u001b[0;32mnot\u001b[0m \u001b[0;32mNone\u001b[0m\u001b[0;34m:\u001b[0m\u001b[0;34m\u001b[0m\u001b[0;34m\u001b[0m\u001b[0m\n\u001b[1;32m   4694\u001b[0m             \u001b[0;32mif\u001b[0m \u001b[0mindex\u001b[0m \u001b[0;32mis\u001b[0m \u001b[0;32mnot\u001b[0m \u001b[0;32mNone\u001b[0m \u001b[0;32mor\u001b[0m \u001b[0mcolumns\u001b[0m \u001b[0;32mis\u001b[0m \u001b[0;32mnot\u001b[0m \u001b[0;32mNone\u001b[0m\u001b[0;34m:\u001b[0m\u001b[0;34m\u001b[0m\u001b[0;34m\u001b[0m\u001b[0m\n\u001b[1;32m   4695\u001b[0m                 \u001b[0;32mraise\u001b[0m \u001b[0mValueError\u001b[0m\u001b[0;34m(\u001b[0m\u001b[0;34m\"Cannot specify both 'labels' and 'index'/'columns'\"\u001b[0m\u001b[0;34m)\u001b[0m\u001b[0;34m\u001b[0m\u001b[0;34m\u001b[0m\u001b[0m\n\u001b[0;32m-> 4696\u001b[0;31m             \u001b[0maxis_name\u001b[0m \u001b[0;34m=\u001b[0m \u001b[0mself\u001b[0m\u001b[0;34m.\u001b[0m\u001b[0m_get_axis_name\u001b[0m\u001b[0;34m(\u001b[0m\u001b[0maxis\u001b[0m\u001b[0;34m)\u001b[0m\u001b[0;34m\u001b[0m\u001b[0;34m\u001b[0m\u001b[0m\n\u001b[0m\u001b[1;32m   4697\u001b[0m             \u001b[0maxes\u001b[0m \u001b[0;34m=\u001b[0m \u001b[0;34m{\u001b[0m\u001b[0maxis_name\u001b[0m\u001b[0;34m:\u001b[0m \u001b[0mlabels\u001b[0m\u001b[0;34m}\u001b[0m\u001b[0;34m\u001b[0m\u001b[0;34m\u001b[0m\u001b[0m\n\u001b[1;32m   4698\u001b[0m         \u001b[0;32melif\u001b[0m \u001b[0mindex\u001b[0m \u001b[0;32mis\u001b[0m \u001b[0;32mnot\u001b[0m \u001b[0;32mNone\u001b[0m \u001b[0;32mor\u001b[0m \u001b[0mcolumns\u001b[0m \u001b[0;32mis\u001b[0m \u001b[0;32mnot\u001b[0m \u001b[0;32mNone\u001b[0m\u001b[0;34m:\u001b[0m\u001b[0;34m\u001b[0m\u001b[0;34m\u001b[0m\u001b[0m\n\u001b[1;32m   4699\u001b[0m             \u001b[0maxes\u001b[0m \u001b[0;34m=\u001b[0m \u001b[0;34m{\u001b[0m\u001b[0;34m\"index\"\u001b[0m\u001b[0;34m:\u001b[0m \u001b[0mindex\u001b[0m\u001b[0;34m}\u001b[0m\u001b[0;34m\u001b[0m\u001b[0;34m\u001b[0m\u001b[0m\n",
      "\u001b[0;32m/Library/Frameworks/Python.framework/Versions/3.11/lib/python3.11/site-packages/pandas/core/generic.py\u001b[0m in \u001b[0;36m?\u001b[0;34m(cls, axis)\u001b[0m\n\u001b[1;32m    556\u001b[0m     \u001b[0;34m@\u001b[0m\u001b[0mfinal\u001b[0m\u001b[0;34m\u001b[0m\u001b[0;34m\u001b[0m\u001b[0m\n\u001b[1;32m    557\u001b[0m     \u001b[0;34m@\u001b[0m\u001b[0mclassmethod\u001b[0m\u001b[0;34m\u001b[0m\u001b[0;34m\u001b[0m\u001b[0m\n\u001b[1;32m    558\u001b[0m     \u001b[0;32mdef\u001b[0m \u001b[0m_get_axis_name\u001b[0m\u001b[0;34m(\u001b[0m\u001b[0mcls\u001b[0m\u001b[0;34m,\u001b[0m \u001b[0maxis\u001b[0m\u001b[0;34m:\u001b[0m \u001b[0mAxis\u001b[0m\u001b[0;34m)\u001b[0m \u001b[0;34m->\u001b[0m \u001b[0mLiteral\u001b[0m\u001b[0;34m[\u001b[0m\u001b[0;34m\"index\"\u001b[0m\u001b[0;34m,\u001b[0m \u001b[0;34m\"columns\"\u001b[0m\u001b[0;34m]\u001b[0m\u001b[0;34m:\u001b[0m\u001b[0;34m\u001b[0m\u001b[0;34m\u001b[0m\u001b[0m\n\u001b[0;32m--> 559\u001b[0;31m         \u001b[0maxis_number\u001b[0m \u001b[0;34m=\u001b[0m \u001b[0mcls\u001b[0m\u001b[0;34m.\u001b[0m\u001b[0m_get_axis_number\u001b[0m\u001b[0;34m(\u001b[0m\u001b[0maxis\u001b[0m\u001b[0;34m)\u001b[0m\u001b[0;34m\u001b[0m\u001b[0;34m\u001b[0m\u001b[0m\n\u001b[0m\u001b[1;32m    560\u001b[0m         \u001b[0;32mreturn\u001b[0m \u001b[0mcls\u001b[0m\u001b[0;34m.\u001b[0m\u001b[0m_AXIS_ORDERS\u001b[0m\u001b[0;34m[\u001b[0m\u001b[0maxis_number\u001b[0m\u001b[0;34m]\u001b[0m\u001b[0;34m\u001b[0m\u001b[0;34m\u001b[0m\u001b[0m\n",
      "\u001b[0;32m/Library/Frameworks/Python.framework/Versions/3.11/lib/python3.11/site-packages/pandas/core/generic.py\u001b[0m in \u001b[0;36m?\u001b[0;34m(cls, axis)\u001b[0m\n\u001b[1;32m    550\u001b[0m     \u001b[0;32mdef\u001b[0m \u001b[0m_get_axis_number\u001b[0m\u001b[0;34m(\u001b[0m\u001b[0mcls\u001b[0m\u001b[0;34m,\u001b[0m \u001b[0maxis\u001b[0m\u001b[0;34m:\u001b[0m \u001b[0mAxis\u001b[0m\u001b[0;34m)\u001b[0m \u001b[0;34m->\u001b[0m \u001b[0mAxisInt\u001b[0m\u001b[0;34m:\u001b[0m\u001b[0;34m\u001b[0m\u001b[0;34m\u001b[0m\u001b[0m\n\u001b[1;32m    551\u001b[0m         \u001b[0;32mtry\u001b[0m\u001b[0;34m:\u001b[0m\u001b[0;34m\u001b[0m\u001b[0;34m\u001b[0m\u001b[0m\n\u001b[1;32m    552\u001b[0m             \u001b[0;32mreturn\u001b[0m \u001b[0mcls\u001b[0m\u001b[0;34m.\u001b[0m\u001b[0m_AXIS_TO_AXIS_NUMBER\u001b[0m\u001b[0;34m[\u001b[0m\u001b[0maxis\u001b[0m\u001b[0;34m]\u001b[0m\u001b[0;34m\u001b[0m\u001b[0;34m\u001b[0m\u001b[0m\n\u001b[1;32m    553\u001b[0m         \u001b[0;32mexcept\u001b[0m \u001b[0mKeyError\u001b[0m\u001b[0;34m:\u001b[0m\u001b[0;34m\u001b[0m\u001b[0;34m\u001b[0m\u001b[0m\n\u001b[0;32m--> 554\u001b[0;31m             \u001b[0;32mraise\u001b[0m \u001b[0mValueError\u001b[0m\u001b[0;34m(\u001b[0m\u001b[0;34mf\"No axis named {axis} for object type {cls.__name__}\"\u001b[0m\u001b[0;34m)\u001b[0m\u001b[0;34m\u001b[0m\u001b[0;34m\u001b[0m\u001b[0m\n\u001b[0m",
      "\u001b[0;31mValueError\u001b[0m: No axis named 6 for object type DataFrame"
     ]
    }
   ],
   "source": [
    "#df.drop(df['Total tax rate'] < 50)\n",
    "df.drop([df['Birth Rate'] > 40], axis=6)"
   ]
  },
  {
   "cell_type": "code",
   "execution_count": null,
   "metadata": {
    "id": "ekHAOSSKXBGl"
   },
   "outputs": [],
   "source": [
    "\n"
   ]
  },
  {
   "cell_type": "markdown",
   "metadata": {
    "id": "bjKuQL2zRHD5"
   },
   "source": [
    "# SciPy"
   ]
  },
  {
   "cell_type": "code",
   "execution_count": 81,
   "metadata": {
    "id": "88Fc4-9WRMpq"
   },
   "outputs": [],
   "source": [
    "from scipy import linalg as ln\n",
    "import numpy as np"
   ]
  },
  {
   "cell_type": "markdown",
   "metadata": {
    "id": "phvesi_fR39l"
   },
   "source": [
    "`SciPy` — это библиотека для языка Python, основанная на расширении `NumPy`, но для более глубоких и сложных научных вычислений, анализа данных и построения графиков. На данном занятии мы рассмотрим некоторые методы данной библиотеки, с остальными можно ознакомиться в [документации](https://docs.scipy.org/doc/) по SciPy на английском языке.\n",
    "\n",
    "Рассмотрим операции над матрицами."
   ]
  },
  {
   "cell_type": "code",
   "execution_count": 82,
   "metadata": {
    "id": "iTUtYAx8XZ1e"
   },
   "outputs": [],
   "source": [
    "A = np.array([[3, 5, 0], [1, -1, 0], [-3, 0, 3]])"
   ]
  },
  {
   "cell_type": "code",
   "execution_count": 83,
   "metadata": {
    "colab": {
     "base_uri": "https://localhost:8080/"
    },
    "id": "NIZsDd0IWjCM",
    "outputId": "75dbc69d-6106-44b6-800e-1d406a15e8a2"
   },
   "outputs": [
    {
     "data": {
      "text/plain": [
       "array([[ 1.25000000e-01,  6.25000000e-01,  1.38777878e-17],\n",
       "       [ 1.25000000e-01, -3.75000000e-01, -1.57281595e-17],\n",
       "       [ 1.25000000e-01,  6.25000000e-01,  3.33333333e-01]])"
      ]
     },
     "execution_count": 83,
     "metadata": {},
     "output_type": "execute_result"
    }
   ],
   "source": [
    "#Нахождение обратной матрицы\n",
    "ln.inv(A)"
   ]
  },
  {
   "cell_type": "code",
   "execution_count": 84,
   "metadata": {
    "colab": {
     "base_uri": "https://localhost:8080/"
    },
    "id": "akPpvWnAWmD1",
    "outputId": "8afc9a3c-f908-4eb0-f01d-d612e59bdc84"
   },
   "outputs": [
    {
     "data": {
      "text/plain": [
       "-24.0"
      ]
     },
     "execution_count": 84,
     "metadata": {},
     "output_type": "execute_result"
    }
   ],
   "source": [
    "#Нахождение детерминанта\n",
    "ln.det(A)"
   ]
  },
  {
   "cell_type": "code",
   "execution_count": 85,
   "metadata": {
    "colab": {
     "base_uri": "https://localhost:8080/"
    },
    "id": "9WDyFV3PWodn",
    "outputId": "a64ea53f-a731-4e4e-df85-0a219233157b"
   },
   "outputs": [
    {
     "data": {
      "text/plain": [
       "6.168596012728836"
      ]
     },
     "execution_count": 85,
     "metadata": {},
     "output_type": "execute_result"
    }
   ],
   "source": [
    "#Нахождение норм различных порядков\n",
    "ln.norm(A, ord=2)"
   ]
  },
  {
   "cell_type": "markdown",
   "metadata": {
    "id": "mZ-sGr4wWq8t"
   },
   "source": [
    "Рассмотрим методы решения систем линейных уравнений.\n",
    "\n",
    "Зададим матрицу неизвестных A и столбец свободных членов b:"
   ]
  },
  {
   "cell_type": "code",
   "execution_count": 86,
   "metadata": {
    "id": "bOFPFWcJUa6I"
   },
   "outputs": [],
   "source": [
    "A = np.array([[3, 2, 0], [1, -1, 0], [0, 5, 1]])\n",
    "b = np.array([2, 4, -1])"
   ]
  },
  {
   "cell_type": "code",
   "execution_count": 87,
   "metadata": {
    "colab": {
     "base_uri": "https://localhost:8080/"
    },
    "id": "dvxOaM1LVASF",
    "outputId": "815f1753-a909-417d-ae85-23d5d7b1de29"
   },
   "outputs": [
    {
     "data": {
      "text/plain": [
       "array([ 2., -2.,  9.])"
      ]
     },
     "execution_count": 87,
     "metadata": {},
     "output_type": "execute_result"
    }
   ],
   "source": [
    "x = ln.solve(A, b)\n",
    "\n",
    "x"
   ]
  },
  {
   "cell_type": "markdown",
   "metadata": {
    "id": "vvlHsr9zV-fb"
   },
   "source": [
    "Также мы можем решать систему с матрицами:"
   ]
  },
  {
   "cell_type": "code",
   "execution_count": 88,
   "metadata": {
    "id": "-iWu_hyHWHe4"
   },
   "outputs": [],
   "source": [
    "A = np.array([[3, 2, 0], [1, -1, 0], [0, 5, 1]])\n",
    "B = np.array([[2, 4, -1], [1, -1, 0], [0, 5, 1]])"
   ]
  },
  {
   "cell_type": "code",
   "execution_count": 89,
   "metadata": {
    "id": "gahK6S0BWMjz"
   },
   "outputs": [],
   "source": [
    "X = ln.solve(A, B)"
   ]
  },
  {
   "cell_type": "markdown",
   "metadata": {
    "id": "Po2ugcCEtLwg"
   },
   "source": [
    "### **[Задание 12]**\n",
    "\n",
    "Нужно решить систему линейных уравнений. У нас есть матрица коэффициентов A и вектор правых частей b для этой системы уравнений, вид которых:\n",
    "\n",
    "```\n",
    "   A = [[2, 3, 1], [4, 5, 2], [3, 2, 3]]\n",
    "   b = [7, 15, 11]\n",
    "```\n",
    "\n",
    "\n",
    "\n"
   ]
  },
  {
   "cell_type": "code",
   "execution_count": 90,
   "metadata": {
    "id": "w5N7WdBaXYUl"
   },
   "outputs": [
    {
     "data": {
      "text/plain": [
       "array([ 5.66666667, -1.        , -1.33333333])"
      ]
     },
     "execution_count": 90,
     "metadata": {},
     "output_type": "execute_result"
    }
   ],
   "source": [
    "A = np.array([[2, 3, 1], [4, 5, 2], [3, 2, 3]])\n",
    "b = np.array([7, 15, 11])\n",
    "np.linalg.det(A)\n",
    "np.linalg.inv(A)\n",
    "np.linalg.solve(A, b)"
   ]
  },
  {
   "cell_type": "markdown",
   "metadata": {
    "id": "hcZgevvrtqKX"
   },
   "source": [
    "Подсказка:\n",
    "1. Создать матрицу A и вектор b, используя numpy массивы.\n",
    "\n",
    "2. Проверить, что определитель матрицы A не равен нулю, используя функцию `np.linalg.det(A)`. Если определитель равен нулю, вывести сообщение о том, что система уравнений не имеет единственного решения.\n",
    "\n",
    "3. Если определитель не равен нулю, найти обратную матрицу `A_inv`, используя функцию `np.linalg.inv(A)`.\n",
    "\n",
    "4. Найти значения переменных x, y, и z, умножив обратную матрицу `A_inv` на вектор b, используя функцию `np.linalg.solve(A, b)`.\n",
    "\n",
    "5. Вывести значения переменных x, y, и z."
   ]
  },
  {
   "cell_type": "markdown",
   "metadata": {
    "id": "uiU8_7rYbgcW"
   },
   "source": [
    "# Matplotlib\n",
    "\n"
   ]
  },
  {
   "cell_type": "markdown",
   "metadata": {
    "id": "FbXt_YcmbgcW"
   },
   "source": [
    "Для построения простой визуализации можно использовать `matplotlib`.\n",
    "\n",
    "Построим поточечный график функции вида y = x^2 на отрезке от -5 до 5 с шагом 1.\n"
   ]
  },
  {
   "cell_type": "code",
   "execution_count": 91,
   "metadata": {
    "id": "Q8NW4M4pbgcW"
   },
   "outputs": [],
   "source": [
    "# Создаем массивы для построения графика\n",
    "x_array = np.arange(-5, 6)\n",
    "y_array = x_array ** 2"
   ]
  },
  {
   "cell_type": "markdown",
   "metadata": {
    "id": "Uy4vhqLRbgcW"
   },
   "source": [
    "Отрисовать точки можно с помощью метода `scatter`."
   ]
  },
  {
   "cell_type": "code",
   "execution_count": 96,
   "metadata": {
    "colab": {
     "base_uri": "https://localhost:8080/",
     "height": 449
    },
    "id": "nkQh2opGbgcW",
    "outputId": "382cf161-74c5-4144-a04c-bfefe4411355"
   },
   "outputs": [
    {
     "data": {
      "image/png": "[encoded data removed]",
      "text/plain": [
       "<Figure size 640x480 with 1 Axes>"
      ]
     },
     "metadata": {},
     "output_type": "display_data"
    }
   ],
   "source": [
    "import matplotlib.pyplot as plt # Передаем параметры для отрисовки\n",
    "plt.scatter(x_array, y_array, label='point', color='blue')\n",
    "\n",
    "# Подписываем оси на рисунке\n",
    "plt.xlabel('x')\n",
    "plt.ylabel('y')\n",
    "\n",
    "\n",
    "# Добавляем отображение описания графика\n",
    "plt.legend()\n",
    "# Отрисовка графика\n",
    "plt.show()\n"
   ]
  },
  {
   "cell_type": "markdown",
   "metadata": {
    "id": "XhvglqvrbgcW"
   },
   "source": [
    "В некоторых задачах нам гораздо удобнее представлять связь между данными в качесвте некоторой непрерывной функции, поэтому точки бывает удобно соединять прямыми линиями. В таком случае стоит использовать метод `plot`."
   ]
  },
  {
   "cell_type": "code",
   "execution_count": 99,
   "metadata": {
    "colab": {
     "base_uri": "https://localhost:8080/",
     "height": 449
    },
    "id": "gJwWsQjlbgcW",
    "outputId": "34291540-9d9b-4274-a729-b9007f2dbfad"
   },
   "outputs": [
    {
     "data": {
      "image/png": "[encoded data removed]",
      "text/plain": [
       "<Figure size 640x480 with 1 Axes>"
      ]
     },
     "metadata": {},
     "output_type": "display_data"
    }
   ],
   "source": [
    "plt.plot(x_array, y_array, label='line', color='green')\n",
    "\n",
    "plt.xlabel('x')\n",
    "plt.ylabel('y')\n",
    "\n",
    "plt.legend()\n",
    "plt.show()"
   ]
  },
  {
   "cell_type": "markdown",
   "metadata": {
    "id": "Vnw3A3wzbgcW"
   },
   "source": [
    "Совместим отрисовку поточечного графика с отрисованными линиями, для этого достаточно использовать оба метода отрисовки графика"
   ]
  },
  {
   "cell_type": "code",
   "execution_count": 100,
   "metadata": {
    "colab": {
     "base_uri": "https://localhost:8080/",
     "height": 449
    },
    "id": "raiDQgxkbgcW",
    "outputId": "ccd9bda3-7f5c-4962-80d5-2df46989c0fd"
   },
   "outputs": [
    {
     "data": {
      "image/png": "[encoded data removed]",
      "text/plain": [
       "<Figure size 640x480 with 1 Axes>"
      ]
     },
     "metadata": {},
     "output_type": "display_data"
    }
   ],
   "source": [
    "plt.plot(x_array, y_array, label='line', color='red')\n",
    "plt.scatter(x_array, y_array, label='point', color='blue')\n",
    "\n",
    "plt.xlabel('x')\n",
    "plt.ylabel('y')\n",
    "\n",
    "plt.legend()\n",
    "plt.show()"
   ]
  },
  {
   "cell_type": "markdown",
   "metadata": {
    "id": "osY8poUMbgcX"
   },
   "source": [
    "При необходимости можно отрисовать несколько графиков на одном рисунке, для этого нужно выбрать подходящий метод отрисовки и указать его перед методами `legend` и `show`.\n",
    "\n"
   ]
  },
  {
   "cell_type": "code",
   "execution_count": 101,
   "metadata": {
    "colab": {
     "base_uri": "https://localhost:8080/",
     "height": 449
    },
    "id": "cSsegBfPbgcX",
    "outputId": "64c82d4a-1b67-4005-d47f-a32a5506e108"
   },
   "outputs": [
    {
     "data": {
      "image/png": "[encoded data removed]",
      "text/plain": [
       "<Figure size 640x480 with 1 Axes>"
      ]
     },
     "metadata": {},
     "output_type": "display_data"
    }
   ],
   "source": [
    "# Отрисовка первоначальный график f1\n",
    "plt.plot(x_array, y_array, label='f1')\n",
    "# Отрисовка инвертированный график функции f1 относительно оси x\n",
    "plt.plot(x_array, -y_array, label='f2')\n",
    "# Отрисовка график функции f1 c горизонтальным и вертикальным переносом\n",
    "plt.plot(x_array + 5, y_array - 4, label='f3')\n",
    "\n",
    "plt.xlabel('x')\n",
    "plt.ylabel('y')\n",
    "\n",
    "plt.legend()\n",
    "\n",
    "plt.show()"
   ]
  },
  {
   "cell_type": "markdown",
   "metadata": {
    "id": "1VSMUOoluq8d"
   },
   "source": [
    "### **[Задание 13]**\n",
    "\n",
    "Ваш коллега Лёва из R&D отдела принес вам данные о свободном падении его мышки с офисного стола. Он замерял время падения в секундах и расстояние падения в метрах. Получились вот такие экспериментальные данные:\n",
    "\n",
    "1. Массив `time`, содержащий значения времени падения в секундах: `time = [0.1, 0.2, 0.3, 0.4, 0.5]`\n",
    "2. Массив `distance`, содержащий значения расстояния падения в метрах: `distance = [0.049, 0.196, 0.441, 0.784, 1.225]`\n",
    "\n",
    "Ваша задача:\n",
    "2. Создать поточечный график для этих данных. Установить маркер точек в виде круга, используя параметр `marker='o'`.\n",
    "3. Установить заголовок графика, используя функцию `plt.title(\"Экспериментальные данные: время свободного падения\")`.\n",
    "4. Установить подписи осей, используя функции `plt.xlabel(\"Время (сек)\")` и `plt.ylabel(\"Расстояние (м)\")`.\n",
    "\n",
    "Помогите Льву визуализировать данные его экспериментов. При этом мы просим вас самостоятельно копнуть поглубже в библиотеку `matplotlib` и изучить дополнительные функции и параметры отрисовки. Если будет тяжело, то всегда можно вызвать функцию `help` или изучить документацию\n"
   ]
  },
  {
   "cell_type": "code",
   "execution_count": 103,
   "metadata": {
    "colab": {
     "base_uri": "https://localhost:8080/",
     "height": 472
    },
    "id": "B3es7uj1XRTD",
    "outputId": "c9571ae5-079e-497b-d12a-b50ffd955b6b"
   },
   "outputs": [
    {
     "data": {
      "image/png": "[encoded data removed]",
      "text/plain": [
       "<Figure size 640x480 with 1 Axes>"
      ]
     },
     "metadata": {},
     "output_type": "display_data"
    }
   ],
   "source": [
    "time = [0.1, 0.2, 0.3, 0.4, 0.5]\n",
    "distance = [0.049, 0.196, 0.441, 0.784, 1.225]\n",
    "plt.plot(time, distance, label='line', color='red')\n",
    "plt.scatter(time, distance, label='point', color='blue')\n",
    "\n",
    "plt.title(\"Экспериментальные данные: время свободного падения\")\n",
    "plt.xlabel(\"Время (сек)\")\n",
    "plt.ylabel(\"Расстояние (м)\")\n",
    "\n",
    "plt.legend()\n",
    "plt.show()\n"
   ]
  },
  {
   "cell_type": "markdown",
   "metadata": {
    "id": "OHolnuuCvQEv"
   },
   "source": [
    "### **[Задание 14]**\n",
    "\n",
    "К вам снова подходит Лёва. Он хочет визуализировать синусоидальное поведение смещения пружины из его ручки относительно равновесного положения в зависимости от времени. Лев проводит эксперимент, измеряя время t в секундах и смещение x в метрах пружины в течение некоторого времени. У него есть следующие данные:\n",
    "\n",
    "1. Массив t, содержащий значения времени t в секундах: `t = [0, 0.5, 1, 1.5, 2, 2.5, 3]`\n",
    "2. Массив x, содержащий значения смещения x в метрах: `x = [0, 0.5, 1, 0.5, 0, -0.5, -1]`\n",
    "\n",
    "Помогите Льву визуализировать результаты его экспериментов.\n",
    "\n",
    "1. Создать график для смещения пружины, используя функцию `plt.plot(t, x)`.\n",
    "   - Установить цвет линии на синий, используя параметр `color='blue'`.\n",
    "   - Установить ширину линии на 2, используя параметр `linewidth=2`.\n",
    "   - Установить стиль линии на пунктирный, используя параметр `linestyle='--'`.\n",
    "2. Установить заголовок графика, используя функцию `plt.title(\"Синусоидальное колебание пружины\")`.\n",
    "3. Установить подписи осей, используя функции `plt.xlabel(\"Время (сек)\") и plt.ylabel(\"Смещение (м)\")`.\n",
    "4. Отобразить сетку на графике, используя функцию `plt.grid(True)`.\n",
    "5. Отобразить график, используя функцию `plt.show()`.\n",
    "\n"
   ]
  },
  {
   "cell_type": "code",
   "execution_count": 104,
   "metadata": {
    "colab": {
     "base_uri": "https://localhost:8080/",
     "height": 472
    },
    "id": "Lb6eb6xMXMmh",
    "outputId": "f9c29908-d096-4e17-b3f7-e2039891a5e3"
   },
   "outputs": [
    {
     "data": {
      "image/png": "[encoded data removed]",
      "text/plain": [
       "<Figure size 640x480 with 1 Axes>"
      ]
     },
     "metadata": {},
     "output_type": "display_data"
    }
   ],
   "source": [
    "t = [0, 0.5, 1, 1.5, 2, 2.5, 3]\n",
    "x = [0, 0.5, 1, 0.5, 0, -0.5, -1]\n",
    "\n",
    "plt.plot(t, x, color='blue', linewidth=2, linestyle='--')\n",
    "plt.title(\"Синусоидальное колебание пружины\")\n",
    "plt.xlabel(\"Время (сек)\")\n",
    "plt.ylabel(\"Смещение (м)\")\n",
    "plt.grid(True)\n",
    "plt.show()"
   ]
  },
  {
   "cell_type": "markdown",
   "metadata": {
    "id": "dZoclXJbbgcX"
   },
   "source": [
    "# Полезные ссылки"
   ]
  },
  {
   "cell_type": "markdown",
   "metadata": {
    "id": "toY--h0IbgcX"
   },
   "source": [
    "\n",
    "\n",
    "*   Документация [pandas](https://pandas.pydata.org/docs/user_guide/index.html#user-guide)\n",
    "*   Документация [numpy](https://numpy.org/doc/stable/user/index.html#user)\n",
    "*   Документация [scipy](https://docs.scipy.org/doc/scipy/tutorial/index.html#user-guide)\n",
    "*   Документация [matplotlib](https://matplotlib.org/stable/gallery/index.html)\n",
    "\n"
   ]
  },
  {
   "cell_type": "code",
   "execution_count": null,
   "metadata": {
    "id": "U5ClUfMwbgcX"
   },
   "outputs": [],
   "source": []
  }
 ],
 "metadata": {
  "colab": {
   "collapsed_sections": [
    "KNYKGnVPHoZy"
   ],
   "provenance": []
  },
  "kernelspec": {
   "display_name": "Python 3 (ipykernel)",
   "language": "python",
   "name": "python3"
  },
  "language_info": {
   "codemirror_mode": {
    "name": "ipython",
    "version": 3
   },
   "file_extension": ".py",
   "mimetype": "text/x-python",
   "name": "python",
   "nbconvert_exporter": "python",
   "pygments_lexer": "ipython3",
   "version": "3.11.5"
  }
 },
 "nbformat": 4,
 "nbformat_minor": 4
}
