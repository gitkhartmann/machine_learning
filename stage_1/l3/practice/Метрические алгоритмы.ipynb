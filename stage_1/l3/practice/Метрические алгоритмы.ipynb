{
 "cells": [
  {
   "cell_type": "markdown",
   "source": [
    "В этом занятии:\n",
    "\n",
    "* Научимся разделять данные на тестовую и обучающую выборки\n",
    "\n",
    "* Будем использовать реализацию метода К-ближайших соседей из библиотеки _sklearn_\n",
    "\n",
    "* Построим первый _pipeline_ для работы с моделями\n",
    "\n",
    "* Научимся оптимизировать параметры модели с помощью _GridSearchCV_  и _StandardScaler_\n",
    "\n",
    "___"
   ],
   "metadata": {
    "id": "pFPjEcz_ohJV"
   }
  },
  {
   "cell_type": "code",
   "execution_count": null,
   "metadata": {
    "colab": {
     "base_uri": "https://localhost:8080/"
    },
    "id": "3fRKF1wiZAE5",
    "executionInfo": {
     "status": "ok",
     "timestamp": 1691066065673,
     "user_tz": -180,
     "elapsed": 6107,
     "user": {
      "displayName": "Владислав Казанков",
      "userId": "01899114585147304878"
     }
    },
    "outputId": "3f636905-57ea-41a8-dad6-2ed01c9ff78b"
   },
   "outputs": [
    {
     "output_type": "stream",
     "name": "stdout",
     "text": [
      "Requirement already satisfied: pandas in /usr/local/lib/python3.10/dist-packages (1.5.3)\n",
      "Requirement already satisfied: numpy in /usr/local/lib/python3.10/dist-packages (1.22.4)\n",
      "Requirement already satisfied: scipy in /usr/local/lib/python3.10/dist-packages (1.10.1)\n",
      "Requirement already satisfied: matplotlib in /usr/local/lib/python3.10/dist-packages (3.7.1)\n",
      "Requirement already satisfied: scikit-learn in /usr/local/lib/python3.10/dist-packages (1.2.2)\n",
      "Requirement already satisfied: python-dateutil>=2.8.1 in /usr/local/lib/python3.10/dist-packages (from pandas) (2.8.2)\n",
      "Requirement already satisfied: pytz>=2020.1 in /usr/local/lib/python3.10/dist-packages (from pandas) (2022.7.1)\n",
      "Requirement already satisfied: contourpy>=1.0.1 in /usr/local/lib/python3.10/dist-packages (from matplotlib) (1.1.0)\n",
      "Requirement already satisfied: cycler>=0.10 in /usr/local/lib/python3.10/dist-packages (from matplotlib) (0.11.0)\n",
      "Requirement already satisfied: fonttools>=4.22.0 in /usr/local/lib/python3.10/dist-packages (from matplotlib) (4.41.1)\n",
      "Requirement already satisfied: kiwisolver>=1.0.1 in /usr/local/lib/python3.10/dist-packages (from matplotlib) (1.4.4)\n",
      "Requirement already satisfied: packaging>=20.0 in /usr/local/lib/python3.10/dist-packages (from matplotlib) (23.1)\n",
      "Requirement already satisfied: pillow>=6.2.0 in /usr/local/lib/python3.10/dist-packages (from matplotlib) (9.4.0)\n",
      "Requirement already satisfied: pyparsing>=2.3.1 in /usr/local/lib/python3.10/dist-packages (from matplotlib) (3.1.0)\n",
      "Requirement already satisfied: joblib>=1.1.1 in /usr/local/lib/python3.10/dist-packages (from scikit-learn) (1.3.1)\n",
      "Requirement already satisfied: threadpoolctl>=2.0.0 in /usr/local/lib/python3.10/dist-packages (from scikit-learn) (3.2.0)\n",
      "Requirement already satisfied: six>=1.5 in /usr/local/lib/python3.10/dist-packages (from python-dateutil>=2.8.1->pandas) (1.16.0)\n"
     ]
    }
   ],
   "source": [
    "!pip install pandas numpy scipy matplotlib scikit-learn"
   ]
  },
  {
   "cell_type": "code",
   "execution_count": 1,
   "metadata": {
    "id": "ssGu6AQKZAE-",
    "ExecuteTime": {
     "end_time": "2023-11-14T17:29:10.521563Z",
     "start_time": "2023-11-14T17:29:08.854151Z"
    }
   },
   "outputs": [],
   "source": [
    "import pandas as pd\n",
    "import numpy as np\n",
    "import matplotlib.pyplot as plt"
   ]
  },
  {
   "cell_type": "markdown",
   "metadata": {
    "id": "eb1kKipsZAE_"
   },
   "source": [
    "# Метод К-ближайших соседей\n",
    "\n",
    "Метод К-ближайших соседей применяется для классификации данных. Далее будем использовать синтетические данные объектов, у которых есть два числовых признака (*X, Y*). Объекты изначально разделены на 3 категории (разметка в столбце *Cluster*)"
   ]
  },
  {
   "cell_type": "markdown",
   "metadata": {
    "id": "Kdl94-wSZAFB"
   },
   "source": [
    "Импортируем данные"
   ]
  },
  {
   "cell_type": "code",
   "execution_count": 2,
   "metadata": {
    "colab": {
     "base_uri": "https://localhost:8080/",
     "height": 204
    },
    "id": "CReXMQedZAFB",
    "executionInfo": {
     "status": "ok",
     "timestamp": 1691066400965,
     "user_tz": -180,
     "elapsed": 258,
     "user": {
      "displayName": "Владислав Казанков",
      "userId": "01899114585147304878"
     }
    },
    "outputId": "e01bcc49-42e8-4094-828a-9ff8dda0a2e8",
    "ExecuteTime": {
     "end_time": "2023-11-14T17:37:05.138827Z",
     "start_time": "2023-11-14T17:37:05.107334Z"
    }
   },
   "outputs": [
    {
     "data": {
      "text/plain": "   Object   X   Y  Cluster\n0       1  10  17        0\n1       2   9  14        2\n2       3  18  11        2\n3       4  16  12        2\n4       5   8   8        2",
      "text/html": "<div>\n<style scoped>\n    .dataframe tbody tr th:only-of-type {\n        vertical-align: middle;\n    }\n\n    .dataframe tbody tr th {\n        vertical-align: top;\n    }\n\n    .dataframe thead th {\n        text-align: right;\n    }\n</style>\n<table border=\"1\" class=\"dataframe\">\n  <thead>\n    <tr style=\"text-align: right;\">\n      <th></th>\n      <th>Object</th>\n      <th>X</th>\n      <th>Y</th>\n      <th>Cluster</th>\n    </tr>\n  </thead>\n  <tbody>\n    <tr>\n      <th>0</th>\n      <td>1</td>\n      <td>10</td>\n      <td>17</td>\n      <td>0</td>\n    </tr>\n    <tr>\n      <th>1</th>\n      <td>2</td>\n      <td>9</td>\n      <td>14</td>\n      <td>2</td>\n    </tr>\n    <tr>\n      <th>2</th>\n      <td>3</td>\n      <td>18</td>\n      <td>11</td>\n      <td>2</td>\n    </tr>\n    <tr>\n      <th>3</th>\n      <td>4</td>\n      <td>16</td>\n      <td>12</td>\n      <td>2</td>\n    </tr>\n    <tr>\n      <th>4</th>\n      <td>5</td>\n      <td>8</td>\n      <td>8</td>\n      <td>2</td>\n    </tr>\n  </tbody>\n</table>\n</div>"
     },
     "execution_count": 2,
     "metadata": {},
     "output_type": "execute_result"
    }
   ],
   "source": [
    "df =  pd.read_csv('./simple_knn.txt')\n",
    "df.head()"
   ]
  },
  {
   "cell_type": "code",
   "execution_count": 3,
   "outputs": [
    {
     "data": {
      "text/plain": "    Object   X   Y  Cluster\n0        1  10  17        0\n1        2   9  14        2\n2        3  18  11        2\n3        4  16  12        2\n4        5   8   8        2\n5        6  15   5        1\n6        7  17  11        2\n7        8   3  10        0\n8        9   2   8        1\n9       10  13   3        1\n10      11   2   6        1\n11      12   4  11        2\n12      13  12   4        2\n13      14  20   4        1\n14      15   3  13        0\n15      16  14   5        1\n16      17  12  14        2\n17      18   2  11        2\n18      19   2   7        1\n19      20   6   3        1\n20      21  13  12        2\n21      22   5  11        0\n22      23  11   3        2\n23      24  18   2        0\n24      25   1  11        0\n25      30   4   7        0\n26      31   3   9        0\n27      32  11   2        1\n28      33   2  11        0\n29      34  17  11        2\n30      35  16  14        2\n31      36  10  10        2",
      "text/html": "<div>\n<style scoped>\n    .dataframe tbody tr th:only-of-type {\n        vertical-align: middle;\n    }\n\n    .dataframe tbody tr th {\n        vertical-align: top;\n    }\n\n    .dataframe thead th {\n        text-align: right;\n    }\n</style>\n<table border=\"1\" class=\"dataframe\">\n  <thead>\n    <tr style=\"text-align: right;\">\n      <th></th>\n      <th>Object</th>\n      <th>X</th>\n      <th>Y</th>\n      <th>Cluster</th>\n    </tr>\n  </thead>\n  <tbody>\n    <tr>\n      <th>0</th>\n      <td>1</td>\n      <td>10</td>\n      <td>17</td>\n      <td>0</td>\n    </tr>\n    <tr>\n      <th>1</th>\n      <td>2</td>\n      <td>9</td>\n      <td>14</td>\n      <td>2</td>\n    </tr>\n    <tr>\n      <th>2</th>\n      <td>3</td>\n      <td>18</td>\n      <td>11</td>\n      <td>2</td>\n    </tr>\n    <tr>\n      <th>3</th>\n      <td>4</td>\n      <td>16</td>\n      <td>12</td>\n      <td>2</td>\n    </tr>\n    <tr>\n      <th>4</th>\n      <td>5</td>\n      <td>8</td>\n      <td>8</td>\n      <td>2</td>\n    </tr>\n    <tr>\n      <th>5</th>\n      <td>6</td>\n      <td>15</td>\n      <td>5</td>\n      <td>1</td>\n    </tr>\n    <tr>\n      <th>6</th>\n      <td>7</td>\n      <td>17</td>\n      <td>11</td>\n      <td>2</td>\n    </tr>\n    <tr>\n      <th>7</th>\n      <td>8</td>\n      <td>3</td>\n      <td>10</td>\n      <td>0</td>\n    </tr>\n    <tr>\n      <th>8</th>\n      <td>9</td>\n      <td>2</td>\n      <td>8</td>\n      <td>1</td>\n    </tr>\n    <tr>\n      <th>9</th>\n      <td>10</td>\n      <td>13</td>\n      <td>3</td>\n      <td>1</td>\n    </tr>\n    <tr>\n      <th>10</th>\n      <td>11</td>\n      <td>2</td>\n      <td>6</td>\n      <td>1</td>\n    </tr>\n    <tr>\n      <th>11</th>\n      <td>12</td>\n      <td>4</td>\n      <td>11</td>\n      <td>2</td>\n    </tr>\n    <tr>\n      <th>12</th>\n      <td>13</td>\n      <td>12</td>\n      <td>4</td>\n      <td>2</td>\n    </tr>\n    <tr>\n      <th>13</th>\n      <td>14</td>\n      <td>20</td>\n      <td>4</td>\n      <td>1</td>\n    </tr>\n    <tr>\n      <th>14</th>\n      <td>15</td>\n      <td>3</td>\n      <td>13</td>\n      <td>0</td>\n    </tr>\n    <tr>\n      <th>15</th>\n      <td>16</td>\n      <td>14</td>\n      <td>5</td>\n      <td>1</td>\n    </tr>\n    <tr>\n      <th>16</th>\n      <td>17</td>\n      <td>12</td>\n      <td>14</td>\n      <td>2</td>\n    </tr>\n    <tr>\n      <th>17</th>\n      <td>18</td>\n      <td>2</td>\n      <td>11</td>\n      <td>2</td>\n    </tr>\n    <tr>\n      <th>18</th>\n      <td>19</td>\n      <td>2</td>\n      <td>7</td>\n      <td>1</td>\n    </tr>\n    <tr>\n      <th>19</th>\n      <td>20</td>\n      <td>6</td>\n      <td>3</td>\n      <td>1</td>\n    </tr>\n    <tr>\n      <th>20</th>\n      <td>21</td>\n      <td>13</td>\n      <td>12</td>\n      <td>2</td>\n    </tr>\n    <tr>\n      <th>21</th>\n      <td>22</td>\n      <td>5</td>\n      <td>11</td>\n      <td>0</td>\n    </tr>\n    <tr>\n      <th>22</th>\n      <td>23</td>\n      <td>11</td>\n      <td>3</td>\n      <td>2</td>\n    </tr>\n    <tr>\n      <th>23</th>\n      <td>24</td>\n      <td>18</td>\n      <td>2</td>\n      <td>0</td>\n    </tr>\n    <tr>\n      <th>24</th>\n      <td>25</td>\n      <td>1</td>\n      <td>11</td>\n      <td>0</td>\n    </tr>\n    <tr>\n      <th>25</th>\n      <td>30</td>\n      <td>4</td>\n      <td>7</td>\n      <td>0</td>\n    </tr>\n    <tr>\n      <th>26</th>\n      <td>31</td>\n      <td>3</td>\n      <td>9</td>\n      <td>0</td>\n    </tr>\n    <tr>\n      <th>27</th>\n      <td>32</td>\n      <td>11</td>\n      <td>2</td>\n      <td>1</td>\n    </tr>\n    <tr>\n      <th>28</th>\n      <td>33</td>\n      <td>2</td>\n      <td>11</td>\n      <td>0</td>\n    </tr>\n    <tr>\n      <th>29</th>\n      <td>34</td>\n      <td>17</td>\n      <td>11</td>\n      <td>2</td>\n    </tr>\n    <tr>\n      <th>30</th>\n      <td>35</td>\n      <td>16</td>\n      <td>14</td>\n      <td>2</td>\n    </tr>\n    <tr>\n      <th>31</th>\n      <td>36</td>\n      <td>10</td>\n      <td>10</td>\n      <td>2</td>\n    </tr>\n  </tbody>\n</table>\n</div>"
     },
     "execution_count": 3,
     "metadata": {},
     "output_type": "execute_result"
    }
   ],
   "source": [
    "df"
   ],
   "metadata": {
    "collapsed": false,
    "ExecuteTime": {
     "end_time": "2023-11-14T17:38:35.842984Z",
     "start_time": "2023-11-14T17:38:35.834167Z"
    }
   }
  },
  {
   "cell_type": "markdown",
   "metadata": {
    "id": "rrewda91ZAFC"
   },
   "source": [
    "При отображении объектов разных категорий на координатной плоскости, желательно визуально иметь возможность их отличать друг от друга. Для этого категориальный признак можно конвертировать в \"цветовой\", более интуитивно понятный для визуального представления."
   ]
  },
  {
   "cell_type": "code",
   "execution_count": 5,
   "metadata": {
    "colab": {
     "base_uri": "https://localhost:8080/",
     "height": 449
    },
    "id": "tijpW0OeZAFC",
    "executionInfo": {
     "status": "ok",
     "timestamp": 1691066405772,
     "user_tz": -180,
     "elapsed": 649,
     "user": {
      "displayName": "Владислав Казанков",
      "userId": "01899114585147304878"
     }
    },
    "outputId": "5d8eaf05-bfd3-4dd8-c141-4753b15a4df6",
    "ExecuteTime": {
     "end_time": "2023-11-14T17:40:42.498250Z",
     "start_time": "2023-11-14T17:40:42.389144Z"
    }
   },
   "outputs": [
    {
     "data": {
      "text/plain": "<Figure size 640x480 with 1 Axes>",
      "image/png": "[encoded data removed]"
     },
     "metadata": {},
     "output_type": "display_data"
    }
   ],
   "source": [
    "def convert2color(number):\n",
    "    if number == 0:\n",
    "        return \"red\"\n",
    "    if number == 1:\n",
    "        return \"blue\"\n",
    "    return \"orange\"\n",
    "\n",
    "colors =  df['Cluster'].map(convert2color)\n",
    "\n",
    "plt.scatter(df[\"X\"], df[\"Y\"], color=colors)\n",
    "plt.xlabel('X')\n",
    "plt.ylabel('Y')\n",
    "plt.show()"
   ]
  },
  {
   "cell_type": "markdown",
   "metadata": {
    "id": "1SiHuHJ7ZAFC"
   },
   "source": [
    "# Разделение выборки"
   ]
  },
  {
   "cell_type": "markdown",
   "metadata": {
    "id": "D-AXPX8DZAFD"
   },
   "source": [
    "Разделим исходные данные на признаки (столбцы *X,Y*) и метки категорий ( столбец *Cluster*). Именно метку категории будем предсказывать далее на основе признаков."
   ]
  },
  {
   "cell_type": "code",
   "execution_count": 6,
   "metadata": {
    "id": "gaYzcKk8ZAFD",
    "ExecuteTime": {
     "end_time": "2023-11-14T17:41:26.975033Z",
     "start_time": "2023-11-14T17:41:26.968422Z"
    }
   },
   "outputs": [],
   "source": [
    "data = df[[\"X\", \"Y\"]]\n",
    "claster = df[\"Cluster\"]"
   ]
  },
  {
   "cell_type": "markdown",
   "metadata": {
    "id": "tGQ5sH2YZAFD"
   },
   "source": [
    "Существуют разные подходы к обучению и валидации моделей машинного обучения, подробнее о них вы узнате позднее в курсе. Пока будем использовать самый простой подход: разделим признаки и категории на обучающую и тестовую выборки используя метод [`train_test_split`](https://scikit-learn.org/stable/modules/generated/sklearn.model_selection.train_test_split.html). Метод `train_test_split` позволяет разделить исходный датасет на обучающую и тестову выборки. В данном случае используется соотношение 65:35.\n",
    "\n",
    "Суть подхода в том, что мы на одной части даныных обучаем модель, а на второй оцениваем качество модели.\n"
   ]
  },
  {
   "cell_type": "code",
   "execution_count": 7,
   "metadata": {
    "id": "zZyGhfdMZAFD",
    "ExecuteTime": {
     "end_time": "2023-11-14T17:49:56.972343Z",
     "start_time": "2023-11-14T17:49:56.377864Z"
    }
   },
   "outputs": [],
   "source": [
    "from sklearn.model_selection import train_test_split\n",
    "\n",
    "f_train, f_test, c_train, c_test = train_test_split(data, claster,\n",
    "    test_size=0.35, random_state=12)\n"
   ]
  },
  {
   "cell_type": "markdown",
   "metadata": {
    "id": "keDjS_gFZAFE"
   },
   "source": [
    "Импортируем модель классификации _KNeighborsClassifier_, реализующую метод K-ближайших соседей.\n",
    "\n",
    "Подробнее о [модели](https://scikit-learn.org/stable/modules/generated/sklearn.neighbors.KNeighborsClassifier.html)\n",
    "\n"
   ]
  },
  {
   "cell_type": "code",
   "execution_count": 9,
   "metadata": {
    "id": "TkWlVXAxZAFE",
    "ExecuteTime": {
     "end_time": "2023-11-14T17:55:00.802544Z",
     "start_time": "2023-11-14T17:55:00.795165Z"
    }
   },
   "outputs": [],
   "source": [
    "from sklearn.neighbors import KNeighborsClassifier\n",
    "\n",
    "kmeans = KNeighborsClassifier(\n",
    "    n_neighbors=5,\n",
    "    weights= 'distance'\n",
    "    )"
   ]
  },
  {
   "cell_type": "markdown",
   "metadata": {
    "id": "e9MFc9neZAFE"
   },
   "source": [
    "Обучаем модель на тренировочных данных, а затем проверяем, как она будет классифицировать объекты из тестовой выборки"
   ]
  },
  {
   "cell_type": "code",
   "execution_count": 10,
   "metadata": {
    "id": "PIsXoW4bZAFF",
    "ExecuteTime": {
     "end_time": "2023-11-14T17:55:53.643907Z",
     "start_time": "2023-11-14T17:55:53.636494Z"
    }
   },
   "outputs": [],
   "source": [
    "kmeans.fit(f_train, c_train)\n",
    "y_kmeans = kmeans.predict(f_test)"
   ]
  },
  {
   "cell_type": "markdown",
   "metadata": {
    "id": "sDADmUIbZAFF"
   },
   "source": [
    "Построим два рисунка. На первом будут отображены объекты и то, к каким классам они отнесены моделью.\n",
    "\n",
    "На втором рисунке отобразим цветами то, каким классам на самом деле принадлежат наши объекты."
   ]
  },
  {
   "cell_type": "code",
   "execution_count": 11,
   "metadata": {
    "colab": {
     "base_uri": "https://localhost:8080/",
     "height": 411
    },
    "id": "qo2CisI5ZAFF",
    "executionInfo": {
     "status": "ok",
     "timestamp": 1691070872658,
     "user_tz": -180,
     "elapsed": 1200,
     "user": {
      "displayName": "Владислав Казанков",
      "userId": "01899114585147304878"
     }
    },
    "outputId": "c75420e7-e9d1-432c-ad9a-73c049d7c5c6",
    "ExecuteTime": {
     "end_time": "2023-11-14T17:57:28.566511Z",
     "start_time": "2023-11-14T17:57:28.441741Z"
    }
   },
   "outputs": [
    {
     "data": {
      "text/plain": "<Figure size 400x200 with 1 Axes>",
      "image/png": "[encoded data removed]"
     },
     "metadata": {},
     "output_type": "display_data"
    },
    {
     "data": {
      "text/plain": "<Figure size 400x200 with 1 Axes>",
      "image/png": "[encoded data removed]"
     },
     "metadata": {},
     "output_type": "display_data"
    }
   ],
   "source": [
    "plt.figure(figsize=(4, 2))\n",
    "plt.scatter(f_test['X'], f_test['Y'], c = y_kmeans)\n",
    "plt.show()\n",
    "\n",
    "colors =  c_test.map(convert2color)\n",
    "plt.figure(figsize=(4, 2))\n",
    "\n",
    "plt.scatter(f_test[\"X\"], f_test[\"Y\"], color=colors)\n",
    "plt.show()"
   ]
  },
  {
   "cell_type": "markdown",
   "metadata": {
    "id": "Pxucm2XXZAFG"
   },
   "source": [
    "Определим качество нашей модели.\n",
    "\n",
    "Существуют разные способы оценки качества модели, об этом подробнее узнаете в занятии по метрикам.\n",
    "\n",
    "В данном случае мы будем оценивать качество модели через метрику _accuracy_. Она позволяет показать долю правильных предсказанных классов к общему числу предсказаний, иначе говоря показывает, насколько \"точно\" модель делает предсказание.\n",
    "\n",
    "Ее можно импортировать из _sklearn.metrics_. О других метриках подробнее можно почитать [тут](https://scikit-learn.org/stable/modules/classes.html#module-sklearn.metrics)."
   ]
  },
  {
   "cell_type": "code",
   "execution_count": 12,
   "metadata": {
    "colab": {
     "base_uri": "https://localhost:8080/"
    },
    "id": "18s16ydYZAFG",
    "executionInfo": {
     "status": "ok",
     "timestamp": 1691070967590,
     "user_tz": -180,
     "elapsed": 371,
     "user": {
      "displayName": "Владислав Казанков",
      "userId": "01899114585147304878"
     }
    },
    "outputId": "b2c7b47b-541d-44a8-c636-142eef073285",
    "ExecuteTime": {
     "end_time": "2023-11-14T17:58:56.095153Z",
     "start_time": "2023-11-14T17:58:56.087897Z"
    }
   },
   "outputs": [
    {
     "data": {
      "text/plain": "0.5833333333333334"
     },
     "execution_count": 12,
     "metadata": {},
     "output_type": "execute_result"
    }
   ],
   "source": [
    "from sklearn.metrics import accuracy_score\n",
    "accuracy_score(c_test, y_kmeans)"
   ]
  },
  {
   "cell_type": "markdown",
   "metadata": {
    "id": "9-WsaYkQZAFG"
   },
   "source": [
    "При работе с оценкой качества модели бывает полезно смотреть не на одну метрику, а на несколько сразу. Для этого можно воспользоваться функцией `classification_report`."
   ]
  },
  {
   "cell_type": "code",
   "execution_count": 13,
   "metadata": {
    "colab": {
     "base_uri": "https://localhost:8080/"
    },
    "id": "i3rrxvXoZAFG",
    "executionInfo": {
     "status": "ok",
     "timestamp": 1691070879354,
     "user_tz": -180,
     "elapsed": 242,
     "user": {
      "displayName": "Владислав Казанков",
      "userId": "01899114585147304878"
     }
    },
    "outputId": "6d830069-318f-452f-d96d-ee04c6dc9f01",
    "ExecuteTime": {
     "end_time": "2023-11-14T18:00:11.469091Z",
     "start_time": "2023-11-14T18:00:11.458663Z"
    }
   },
   "outputs": [
    {
     "name": "stdout",
     "output_type": "stream",
     "text": [
      "              precision    recall  f1-score   support\n",
      "\n",
      "           0       0.75      0.50      0.60         6\n",
      "           1       0.67      0.50      0.57         4\n",
      "           2       0.40      1.00      0.57         2\n",
      "\n",
      "    accuracy                           0.58        12\n",
      "   macro avg       0.61      0.67      0.58        12\n",
      "weighted avg       0.66      0.58      0.59        12\n"
     ]
    }
   ],
   "source": [
    "from sklearn.metrics import classification_report\n",
    "report = classification_report(c_test, y_kmeans)\n",
    "print(report)"
   ]
  },
  {
   "cell_type": "markdown",
   "source": [
    "### **[Задание 1]**"
   ],
   "metadata": {
    "id": "wKrCFipAZl--"
   }
  },
  {
   "cell_type": "markdown",
   "source": [
    "Найдите номера трех ближайших соседей для объекта под номером $7.$ Используйте в качестве расстояния функцию $$ρ(x, y) = \\max{|x_i - y_i|},$$ где $x, y –$ точки в конечномерном пространстве."
   ],
   "metadata": {
    "id": "bFQBsAvYZrJo"
   }
  },
  {
   "cell_type": "code",
   "source": [
    "# Решение\n"
   ],
   "metadata": {
    "id": "GlAHxl5mZq4d"
   },
   "execution_count": null,
   "outputs": []
  },
  {
   "cell_type": "markdown",
   "metadata": {
    "id": "MqeHApK_ZAFH"
   },
   "source": [
    "# Оптимизация модели"
   ]
  },
  {
   "cell_type": "markdown",
   "metadata": {
    "id": "1HfGpwqtZAFH"
   },
   "source": [
    "Итоговая точность модели довольно часто зависит от начальных параметров. Выбрать оптимальные параметры можно и вручную, запуская много раз обучение модели с разными начальными значениями, со сравнениями метрик. Но зачем это делать вручную, если можно использовать автоматический поиск оптимальных начальных значений?"
   ]
  },
  {
   "cell_type": "markdown",
   "metadata": {
    "id": "sqqcVARkZAFH"
   },
   "source": [
    "Для поиска оптимальных начальных параметров будем использовать `Pipeline` и `GridSearchCV`. Также стоит заметить, что в некоторых случаях масштабирование данных помогает улучшить итоговую точность модели с помощью `StandardScaler`."
   ]
  },
  {
   "cell_type": "markdown",
   "metadata": {
    "id": "rszMj1SCZAFH"
   },
   "source": [
    "[_Pipeline_](https://scikit-learn.org/stable/modules/generated/sklearn.pipeline.Pipeline.html) – позволяет представить работу модели в виде последовательно применяемых логических блоков. Также говорят, что это производит процедуру построения конвейера.  А [_GridSearchCV_](https://scikit-learn.org/stable/modules/generated/sklearn.model_selection.GridSearchCV.html) осуществляет перебор параметров из переданных ему значений."
   ]
  },
  {
   "cell_type": "code",
   "execution_count": 14,
   "metadata": {
    "id": "Jk91Qo49ZAFH",
    "ExecuteTime": {
     "end_time": "2023-11-14T18:03:32.251625Z",
     "start_time": "2023-11-14T18:03:32.245715Z"
    }
   },
   "outputs": [],
   "source": [
    "from sklearn.preprocessing import StandardScaler\n",
    "scaler = StandardScaler()\n",
    "knn = KNeighborsClassifier()"
   ]
  },
  {
   "cell_type": "markdown",
   "metadata": {
    "id": "j83y_rRZZAFI"
   },
   "source": [
    "Создаем последовательность блоков для _Pipeline_"
   ]
  },
  {
   "cell_type": "code",
   "execution_count": 15,
   "metadata": {
    "id": "KfxDZt67ZAFI",
    "ExecuteTime": {
     "end_time": "2023-11-14T18:03:46.234643Z",
     "start_time": "2023-11-14T18:03:46.228300Z"
    }
   },
   "outputs": [],
   "source": [
    "operations = [('scaler', scaler), ('knn', knn)]"
   ]
  },
  {
   "cell_type": "code",
   "execution_count": 16,
   "metadata": {
    "id": "00aZEyvzZAFI",
    "ExecuteTime": {
     "end_time": "2023-11-14T18:03:53.708435Z",
     "start_time": "2023-11-14T18:03:53.695898Z"
    }
   },
   "outputs": [],
   "source": [
    "from sklearn.pipeline import Pipeline\n",
    "pipe = Pipeline(operations)"
   ]
  },
  {
   "cell_type": "markdown",
   "metadata": {
    "id": "ufsulbx_ZAFI"
   },
   "source": [
    "Создаем словарь с ожидаемыми значениями для перебора, которые подадим `GridSearchCV`.\n",
    "\n",
    "__Важно__: Названия параметров для `GridSearchCV` выбраны специальным образом, так как логический блок модели, реализующий алгоритм к-ближаиших соседей называется в списке _operations_ \"knn\", то и названия перебираемых параметров начинаются с префикса \"knn__\".\n",
    "\n",
    "Подробнее об этом можно почитать [тут](https://stackoverflow.com/questions/41899132/invalid-parameter-for-sklearn-estimator-pipeline)."
   ]
  },
  {
   "cell_type": "code",
   "execution_count": 17,
   "metadata": {
    "colab": {
     "base_uri": "https://localhost:8080/"
    },
    "id": "cxidHnZeZAFJ",
    "executionInfo": {
     "status": "ok",
     "timestamp": 1691070892977,
     "user_tz": -180,
     "elapsed": 224,
     "user": {
      "displayName": "Владислав Казанков",
      "userId": "01899114585147304878"
     }
    },
    "outputId": "ab6d5b83-f6df-4b3a-c478-44100f020cd0",
    "ExecuteTime": {
     "end_time": "2023-11-14T18:07:59.791928Z",
     "start_time": "2023-11-14T18:07:59.782384Z"
    }
   },
   "outputs": [
    {
     "name": "stdout",
     "output_type": "stream",
     "text": [
      "{'knn__n_neighbors': array([ 1,  2,  3,  4,  5,  6,  7,  8,  9, 10, 11, 12, 13, 14]), 'knn__metric': ['manhattan', 'euclidean'], 'knn__weights': ['uniform', 'distance']}\n"
     ]
    }
   ],
   "source": [
    "param_grid ={\n",
    "    'knn__n_neighbors': np.arange(1, 15),\n",
    "     'knn__metric': ['manhattan', 'euclidean'] ,\n",
    "   'knn__weights': ['uniform', 'distance'] ,\n",
    "}\n",
    "print(param_grid)"
   ]
  },
  {
   "cell_type": "markdown",
   "metadata": {
    "id": "fpuJmZl2ZAFJ"
   },
   "source": [
    "Обучаем модель"
   ]
  },
  {
   "cell_type": "code",
   "execution_count": 21,
   "metadata": {
    "colab": {
     "base_uri": "https://localhost:8080/",
     "height": 203
    },
    "id": "uquDpHxnZAFK",
    "executionInfo": {
     "status": "ok",
     "timestamp": 1691071014991,
     "user_tz": -180,
     "elapsed": 1807,
     "user": {
      "displayName": "Владислав Казанков",
      "userId": "01899114585147304878"
     }
    },
    "outputId": "ffe75222-a1cf-4813-c1e3-ec93af0e0a99",
    "ExecuteTime": {
     "end_time": "2023-11-14T18:21:02.215652Z",
     "start_time": "2023-11-14T18:21:01.607711Z"
    }
   },
   "outputs": [
    {
     "name": "stderr",
     "output_type": "stream",
     "text": [
      "/Library/Python/3.9/site-packages/sklearn/model_selection/_split.py:737: UserWarning: The least populated class in y has only 3 members, which is less than n_splits=4.\n",
      "  warnings.warn(\n"
     ]
    },
    {
     "data": {
      "text/plain": "GridSearchCV(cv=4,\n             estimator=Pipeline(steps=[('scaler', StandardScaler()),\n                                       ('knn', KNeighborsClassifier())]),\n             param_grid={'knn__metric': ['manhattan', 'euclidean'],\n                         'knn__n_neighbors': array([ 1,  2,  3,  4,  5,  6,  7,  8,  9, 10, 11, 12, 13, 14]),\n                         'knn__weights': ['uniform', 'distance']},\n             scoring='accuracy')",
      "text/html": "<style>#sk-container-id-2 {color: black;}#sk-container-id-2 pre{padding: 0;}#sk-container-id-2 div.sk-toggleable {background-color: white;}#sk-container-id-2 label.sk-toggleable__label {cursor: pointer;display: block;width: 100%;margin-bottom: 0;padding: 0.3em;box-sizing: border-box;text-align: center;}#sk-container-id-2 label.sk-toggleable__label-arrow:before {content: \"▸\";float: left;margin-right: 0.25em;color: #696969;}#sk-container-id-2 label.sk-toggleable__label-arrow:hover:before {color: black;}#sk-container-id-2 div.sk-estimator:hover label.sk-toggleable__label-arrow:before {color: black;}#sk-container-id-2 div.sk-toggleable__content {max-height: 0;max-width: 0;overflow: hidden;text-align: left;background-color: #f0f8ff;}#sk-container-id-2 div.sk-toggleable__content pre {margin: 0.2em;color: black;border-radius: 0.25em;background-color: #f0f8ff;}#sk-container-id-2 input.sk-toggleable__control:checked~div.sk-toggleable__content {max-height: 200px;max-width: 100%;overflow: auto;}#sk-container-id-2 input.sk-toggleable__control:checked~label.sk-toggleable__label-arrow:before {content: \"▾\";}#sk-container-id-2 div.sk-estimator input.sk-toggleable__control:checked~label.sk-toggleable__label {background-color: #d4ebff;}#sk-container-id-2 div.sk-label input.sk-toggleable__control:checked~label.sk-toggleable__label {background-color: #d4ebff;}#sk-container-id-2 input.sk-hidden--visually {border: 0;clip: rect(1px 1px 1px 1px);clip: rect(1px, 1px, 1px, 1px);height: 1px;margin: -1px;overflow: hidden;padding: 0;position: absolute;width: 1px;}#sk-container-id-2 div.sk-estimator {font-family: monospace;background-color: #f0f8ff;border: 1px dotted black;border-radius: 0.25em;box-sizing: border-box;margin-bottom: 0.5em;}#sk-container-id-2 div.sk-estimator:hover {background-color: #d4ebff;}#sk-container-id-2 div.sk-parallel-item::after {content: \"\";width: 100%;border-bottom: 1px solid gray;flex-grow: 1;}#sk-container-id-2 div.sk-label:hover label.sk-toggleable__label {background-color: #d4ebff;}#sk-container-id-2 div.sk-serial::before {content: \"\";position: absolute;border-left: 1px solid gray;box-sizing: border-box;top: 0;bottom: 0;left: 50%;z-index: 0;}#sk-container-id-2 div.sk-serial {display: flex;flex-direction: column;align-items: center;background-color: white;padding-right: 0.2em;padding-left: 0.2em;position: relative;}#sk-container-id-2 div.sk-item {position: relative;z-index: 1;}#sk-container-id-2 div.sk-parallel {display: flex;align-items: stretch;justify-content: center;background-color: white;position: relative;}#sk-container-id-2 div.sk-item::before, #sk-container-id-2 div.sk-parallel-item::before {content: \"\";position: absolute;border-left: 1px solid gray;box-sizing: border-box;top: 0;bottom: 0;left: 50%;z-index: -1;}#sk-container-id-2 div.sk-parallel-item {display: flex;flex-direction: column;z-index: 1;position: relative;background-color: white;}#sk-container-id-2 div.sk-parallel-item:first-child::after {align-self: flex-end;width: 50%;}#sk-container-id-2 div.sk-parallel-item:last-child::after {align-self: flex-start;width: 50%;}#sk-container-id-2 div.sk-parallel-item:only-child::after {width: 0;}#sk-container-id-2 div.sk-dashed-wrapped {border: 1px dashed gray;margin: 0 0.4em 0.5em 0.4em;box-sizing: border-box;padding-bottom: 0.4em;background-color: white;}#sk-container-id-2 div.sk-label label {font-family: monospace;font-weight: bold;display: inline-block;line-height: 1.2em;}#sk-container-id-2 div.sk-label-container {text-align: center;}#sk-container-id-2 div.sk-container {/* jupyter's `normalize.less` sets `[hidden] { display: none; }` but bootstrap.min.css set `[hidden] { display: none !important; }` so we also need the `!important` here to be able to override the default hidden behavior on the sphinx rendered scikit-learn.org. See: https://github.com/scikit-learn/scikit-learn/issues/21755 */display: inline-block !important;position: relative;}#sk-container-id-2 div.sk-text-repr-fallback {display: none;}</style><div id=\"sk-container-id-2\" class=\"sk-top-container\"><div class=\"sk-text-repr-fallback\"><pre>GridSearchCV(cv=4,\n             estimator=Pipeline(steps=[(&#x27;scaler&#x27;, StandardScaler()),\n                                       (&#x27;knn&#x27;, KNeighborsClassifier())]),\n             param_grid={&#x27;knn__metric&#x27;: [&#x27;manhattan&#x27;, &#x27;euclidean&#x27;],\n                         &#x27;knn__n_neighbors&#x27;: array([ 1,  2,  3,  4,  5,  6,  7,  8,  9, 10, 11, 12, 13, 14]),\n                         &#x27;knn__weights&#x27;: [&#x27;uniform&#x27;, &#x27;distance&#x27;]},\n             scoring=&#x27;accuracy&#x27;)</pre><b>In a Jupyter environment, please rerun this cell to show the HTML representation or trust the notebook. <br />On GitHub, the HTML representation is unable to render, please try loading this page with nbviewer.org.</b></div><div class=\"sk-container\" hidden><div class=\"sk-item sk-dashed-wrapped\"><div class=\"sk-label-container\"><div class=\"sk-label sk-toggleable\"><input class=\"sk-toggleable__control sk-hidden--visually\" id=\"sk-estimator-id-5\" type=\"checkbox\" ><label for=\"sk-estimator-id-5\" class=\"sk-toggleable__label sk-toggleable__label-arrow\">GridSearchCV</label><div class=\"sk-toggleable__content\"><pre>GridSearchCV(cv=4,\n             estimator=Pipeline(steps=[(&#x27;scaler&#x27;, StandardScaler()),\n                                       (&#x27;knn&#x27;, KNeighborsClassifier())]),\n             param_grid={&#x27;knn__metric&#x27;: [&#x27;manhattan&#x27;, &#x27;euclidean&#x27;],\n                         &#x27;knn__n_neighbors&#x27;: array([ 1,  2,  3,  4,  5,  6,  7,  8,  9, 10, 11, 12, 13, 14]),\n                         &#x27;knn__weights&#x27;: [&#x27;uniform&#x27;, &#x27;distance&#x27;]},\n             scoring=&#x27;accuracy&#x27;)</pre></div></div></div><div class=\"sk-parallel\"><div class=\"sk-parallel-item\"><div class=\"sk-item\"><div class=\"sk-label-container\"><div class=\"sk-label sk-toggleable\"><input class=\"sk-toggleable__control sk-hidden--visually\" id=\"sk-estimator-id-6\" type=\"checkbox\" ><label for=\"sk-estimator-id-6\" class=\"sk-toggleable__label sk-toggleable__label-arrow\">estimator: Pipeline</label><div class=\"sk-toggleable__content\"><pre>Pipeline(steps=[(&#x27;scaler&#x27;, StandardScaler()), (&#x27;knn&#x27;, KNeighborsClassifier())])</pre></div></div></div><div class=\"sk-serial\"><div class=\"sk-item\"><div class=\"sk-serial\"><div class=\"sk-item\"><div class=\"sk-estimator sk-toggleable\"><input class=\"sk-toggleable__control sk-hidden--visually\" id=\"sk-estimator-id-7\" type=\"checkbox\" ><label for=\"sk-estimator-id-7\" class=\"sk-toggleable__label sk-toggleable__label-arrow\">StandardScaler</label><div class=\"sk-toggleable__content\"><pre>StandardScaler()</pre></div></div></div><div class=\"sk-item\"><div class=\"sk-estimator sk-toggleable\"><input class=\"sk-toggleable__control sk-hidden--visually\" id=\"sk-estimator-id-8\" type=\"checkbox\" ><label for=\"sk-estimator-id-8\" class=\"sk-toggleable__label sk-toggleable__label-arrow\">KNeighborsClassifier</label><div class=\"sk-toggleable__content\"><pre>KNeighborsClassifier()</pre></div></div></div></div></div></div></div></div></div></div></div></div>"
     },
     "execution_count": 21,
     "metadata": {},
     "output_type": "execute_result"
    }
   ],
   "source": [
    "from sklearn.model_selection import GridSearchCV\n",
    "\n",
    "final_classifier = GridSearchCV(\n",
    "    pipe,\n",
    "    param_grid, cv=4, scoring='accuracy',\n",
    ")\n",
    "\n",
    "final_classifier.fit(f_train, c_train)"
   ]
  },
  {
   "cell_type": "markdown",
   "metadata": {
    "id": "3P_nsqyZZAFK"
   },
   "source": [
    "Запрашиваем отображение лучших значений"
   ]
  },
  {
   "cell_type": "code",
   "execution_count": 19,
   "metadata": {
    "colab": {
     "base_uri": "https://localhost:8080/"
    },
    "id": "J0y5ISVDZAFL",
    "executionInfo": {
     "status": "ok",
     "timestamp": 1691071017761,
     "user_tz": -180,
     "elapsed": 308,
     "user": {
      "displayName": "Владислав Казанков",
      "userId": "01899114585147304878"
     }
    },
    "outputId": "a2885c14-a91e-4f22-bca9-8ea306fce9ef",
    "ExecuteTime": {
     "end_time": "2023-11-14T18:09:39.892595Z",
     "start_time": "2023-11-14T18:09:39.885675Z"
    }
   },
   "outputs": [
    {
     "data": {
      "text/plain": "{'memory': None,\n 'steps': [('scaler', StandardScaler()),\n  ('knn', KNeighborsClassifier(metric='manhattan', n_neighbors=4))],\n 'verbose': False,\n 'scaler': StandardScaler(),\n 'knn': KNeighborsClassifier(metric='manhattan', n_neighbors=4),\n 'scaler__copy': True,\n 'scaler__with_mean': True,\n 'scaler__with_std': True,\n 'knn__algorithm': 'auto',\n 'knn__leaf_size': 30,\n 'knn__metric': 'manhattan',\n 'knn__metric_params': None,\n 'knn__n_jobs': None,\n 'knn__n_neighbors': 4,\n 'knn__p': 2,\n 'knn__weights': 'uniform'}"
     },
     "execution_count": 19,
     "metadata": {},
     "output_type": "execute_result"
    }
   ],
   "source": [
    "final_classifier.best_estimator_.get_params()"
   ]
  },
  {
   "cell_type": "markdown",
   "metadata": {
    "id": "Yym88xZUZAFL"
   },
   "source": [
    "Оценим качество модели через метрику _accuracy_"
   ]
  },
  {
   "cell_type": "code",
   "execution_count": 20,
   "metadata": {
    "colab": {
     "base_uri": "https://localhost:8080/"
    },
    "id": "ARTHz6LfZAFM",
    "executionInfo": {
     "status": "ok",
     "timestamp": 1691081998047,
     "user_tz": -180,
     "elapsed": 222,
     "user": {
      "displayName": "Владислав Казанков",
      "userId": "01899114585147304878"
     }
    },
    "outputId": "398b12ea-b965-42b6-e2a4-4a8d8ed20e08",
    "ExecuteTime": {
     "end_time": "2023-11-14T18:10:09.330413Z",
     "start_time": "2023-11-14T18:10:09.326132Z"
    }
   },
   "outputs": [
    {
     "data": {
      "text/plain": "0.6666666666666666"
     },
     "execution_count": 20,
     "metadata": {},
     "output_type": "execute_result"
    }
   ],
   "source": [
    "pred = final_classifier.best_estimator_.predict(f_test)\n",
    "accuracy_score(c_test, pred)"
   ]
  },
  {
   "cell_type": "markdown",
   "source": [
    "### **[Задание 2]**"
   ],
   "metadata": {
    "id": "PdwdKY8pUwzw"
   }
  },
  {
   "cell_type": "markdown",
   "source": [
    "Создайте пайплайн модели из  [_MinMaxScaler_](https://scikit-learn.org/stable/modules/generated/sklearn.preprocessing.MinMaxScaler.html) и _KNeighborsClassifier_, обучите модель на выборке train. **Используйте _GridSearchCV_ для поиска оптимальных параметров модели, полагая _cv=4_, а в качестве метрики используйте _accuracy_**.\n",
    "\n",
    "Найдите точность итоговой модели _accuracy_ на тестовой выборке."
   ],
   "metadata": {
    "id": "oqcLFKtBXdH3"
   }
  },
  {
   "cell_type": "code",
   "source": [
    "from sklearn.preprocessing import MinMaxScaler\n",
    "mmscaler = MinMaxScaler()\n",
    "knn2 = KNeighborsClassifier()\n",
    "operations2 = [('scaler', mmscaler), ('knn', knn2)]\n",
    "\n",
    "\n",
    "pipe2 = Pipeline(operations2)\n",
    "param_grid2 ={\n",
    "    'knn__n_neighbors': np.arange(1, 15),\n",
    "     'knn__metric': ['manhattan', 'euclidean'] ,\n",
    "   'knn__weights': ['uniform', 'distance'] ,\n",
    "}\n",
    "print(param_grid2)\n",
    "\n"
   ],
   "metadata": {
    "id": "J4mh-l4uUx_L",
    "ExecuteTime": {
     "end_time": "2023-11-14T18:25:09.127018Z",
     "start_time": "2023-11-14T18:25:09.115483Z"
    }
   },
   "execution_count": 22,
   "outputs": [
    {
     "name": "stdout",
     "output_type": "stream",
     "text": [
      "{'knn__n_neighbors': array([ 1,  2,  3,  4,  5,  6,  7,  8,  9, 10, 11, 12, 13, 14]), 'knn__metric': ['manhattan', 'euclidean'], 'knn__weights': ['uniform', 'distance']}\n"
     ]
    }
   ]
  },
  {
   "cell_type": "code",
   "execution_count": 23,
   "outputs": [
    {
     "name": "stderr",
     "output_type": "stream",
     "text": [
      "/Library/Python/3.9/site-packages/sklearn/model_selection/_split.py:737: UserWarning: The least populated class in y has only 3 members, which is less than n_splits=4.\n",
      "  warnings.warn(\n"
     ]
    },
    {
     "data": {
      "text/plain": "0.75"
     },
     "execution_count": 23,
     "metadata": {},
     "output_type": "execute_result"
    }
   ],
   "source": [
    "final_classifier = GridSearchCV(\n",
    "    pipe2,\n",
    "    param_grid2, cv=4, scoring='accuracy',\n",
    ")\n",
    "\n",
    "final_classifier.fit(f_train, c_train)\n",
    "final_classifier.best_estimator_.get_params()\n",
    "pred = final_classifier.best_estimator_.predict(f_test)\n",
    "accuracy_score(c_test, pred)"
   ],
   "metadata": {
    "collapsed": false,
    "ExecuteTime": {
     "end_time": "2023-11-14T18:25:37.499064Z",
     "start_time": "2023-11-14T18:25:36.978912Z"
    }
   }
  },
  {
   "cell_type": "markdown",
   "metadata": {
    "id": "PtooL10OZAFM"
   },
   "source": [
    "# Полезные ссылки"
   ]
  },
  {
   "cell_type": "markdown",
   "source": [
    "* [scikit-learn](https://scikit-learn.org/stable/user_guide.html)"
   ],
   "metadata": {
    "id": "0-CGjlRVbZ9D"
   }
  }
 ],
 "metadata": {
  "kernelspec": {
   "display_name": "Python 3 (ipykernel)",
   "language": "python",
   "name": "python3"
  },
  "language_info": {
   "codemirror_mode": {
    "name": "ipython",
    "version": 3
   },
   "file_extension": ".py",
   "mimetype": "text/x-python",
   "name": "python",
   "nbconvert_exporter": "python",
   "pygments_lexer": "ipython3",
   "version": "3.10.9"
  },
  "colab": {
   "provenance": []
  }
 },
 "nbformat": 4,
 "nbformat_minor": 0
}
