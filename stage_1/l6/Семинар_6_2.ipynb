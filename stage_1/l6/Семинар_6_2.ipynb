{
  "nbformat": 4,
  "nbformat_minor": 0,
  "metadata": {
    "colab": {
      "provenance": [],
      "toc_visible": true
    },
    "kernelspec": {
      "name": "python3",
      "display_name": "Python 3"
    },
    "accelerator": "GPU"
  },
  "cells": [
    {
      "cell_type": "markdown",
      "source": [
        "В рамках данного урока мы:\n",
        "* Продолжаем тренироваться обучать и применять модели машинного обучения\n",
        "* Осуществляем детальное изучение метрик классификации\n",
        "* Выясняем, для каких ситуаций подходят различные метрики"
      ],
      "metadata": {
        "id": "D7UVspbqn9HN"
      }
    },
    {
      "cell_type": "markdown",
      "source": [
        "# Метрики в задачах классификации"
      ],
      "metadata": {
        "id": "SW0wRo0m53A0"
      }
    },
    {
      "metadata": {
        "id": "ZEfpi-qnQhvI"
      },
      "cell_type": "markdown",
      "source": [
        "Давайте теперь рассмотрим метрики, используемые в задачах классификации. В данном Jupyter ноутбуке заданий будет не так много, как в предыдущем, однако они будут направлены на развитие навыков самостоятельной работы с документацией и умения находить необходимые сведения."
      ]
    },
    {
      "metadata": {
        "id": "eXSU_fk7RlEM"
      },
      "cell_type": "markdown",
      "source": [
        "### **[Задание 1]**\n",
        "\n",
        "Импортируйте библиотеки, запустив код ниже."
      ]
    },
    {
      "metadata": {
        "id": "Sx4KZX7cF8Yd"
      },
      "cell_type": "code",
      "source": [
        "import numpy as np\n",
        "import pandas as pd\n",
        "from sklearn.model_selection import train_test_split\n",
        "from sklearn.linear_model import LogisticRegression\n",
        "from sklearn import metrics\n",
        "import matplotlib.pyplot as plt\n",
        "import seaborn as sns"
      ],
      "execution_count": null,
      "outputs": []
    },
    {
      "metadata": {
        "id": "0pddJrEbRtbr"
      },
      "cell_type": "markdown",
      "source": [
        "### Набор данных\n",
        "Для сравнения различных метрик мы будем использовать набор данных о раке груди [Breast Cancer Dataset](https://goo.gl/U2Uwz2), предоставленный библиотекой `scikit-learn` в модуле `dataset`. Этот набор данных используется для бинарной классификации между двумя типами рака."
      ]
    },
    {
      "cell_type": "markdown",
      "source": [
        "### **[Задание 2]**\n",
        "\n",
        "Сейчас мы загрузим данные из датасета библиотеки scikit-learn. Выполните код:"
      ],
      "metadata": {
        "id": "JrvHDRlA7Eo7"
      }
    },
    {
      "cell_type": "code",
      "source": [
        "from sklearn.datasets import load_breast_cancer\n",
        "data = load_breast_cancer()"
      ],
      "metadata": {
        "id": "c-tm-EQ36-w7"
      },
      "execution_count": null,
      "outputs": []
    },
    {
      "cell_type": "markdown",
      "source": [
        "С особенностями датасетам можно ознакомиться, вызвав метод `DESCR`."
      ],
      "metadata": {
        "id": "o_Bsfg-37iQj"
      }
    },
    {
      "metadata": {
        "id": "glPEglrYGV6f",
        "colab": {
          "base_uri": "https://localhost:8080/"
        },
        "outputId": "223cc318-e4df-4da6-eb5b-c4b203f8eaaa"
      },
      "cell_type": "code",
      "source": [
        "print(data.DESCR[:760])"
      ],
      "execution_count": null,
      "outputs": [
        {
          "output_type": "stream",
          "name": "stdout",
          "text": [
            ".. _breast_cancer_dataset:\n",
            "\n",
            "Breast cancer wisconsin (diagnostic) dataset\n",
            "--------------------------------------------\n",
            "\n",
            "**Data Set Characteristics:**\n",
            "\n",
            "    :Number of Instances: 569\n",
            "\n",
            "    :Number of Attributes: 30 numeric, predictive attributes and the class\n",
            "\n",
            "    :Attribute Information:\n",
            "        - radius (mean of distances from center to points on the perimeter)\n",
            "        - texture (standard deviation of gray-scale values)\n",
            "        - perimeter\n",
            "        - area\n",
            "        - smoothness (local variation in radius lengths)\n",
            "        - compactness (perimeter^2 / area - 1.0)\n",
            "        - concavity (severity of concave portions of the contour)\n",
            "        - concave points (number of concave portions of the contour)\n",
            "        - symmetry\n",
            "        - fractal dimension (\"coastline appr\n"
          ]
        }
      ]
    },
    {
      "metadata": {
        "id": "XQyaWAlhSTLL"
      },
      "cell_type": "markdown",
      "source": [
        "Давайте посмотрим, какие классы целевых переменных есть, то есть какие типы рака представлены в данных."
      ]
    },
    {
      "metadata": {
        "id": "bStQWeSOSSp2",
        "colab": {
          "base_uri": "https://localhost:8080/"
        },
        "outputId": "100739ef-35e1-43c0-dbc4-86881570e75e"
      },
      "cell_type": "code",
      "source": [
        "print(f\"Типы раковых новообразований: {data.target_names}\")"
      ],
      "execution_count": null,
      "outputs": [
        {
          "output_type": "stream",
          "name": "stdout",
          "text": [
            "Типы раковых новообразований: ['malignant' 'benign']\n"
          ]
        }
      ]
    },
    {
      "metadata": {
        "id": "JizLx4ZfSZ-y"
      },
      "cell_type": "markdown",
      "source": [
        "\n",
        "Какова размерность данных?\n",
        "Мы видим, что в данных имеется 569 примеров, и каждый пример содержит 30 признаков.\n",
        "\n",
        "Значение целевой переменной определено бинарно, где 0 соответствует злокачественным опухолям, а 1 соответствует доброкачественным.\n",
        "\n",
        "Для нашего исследования мы возьмем за основу, что доброкачественные опухоли представляют собой позитивный класс, а злокачественные – негативный. Таким образом, мы можем трактовать значения следующим образом:\n",
        "*   0 означает \"опухоль не является доброкачественной\",\n",
        "*   1 означает \"опухоль является доброкачественной\".\n",
        "\n"
      ]
    },
    {
      "cell_type": "markdown",
      "source": [
        "### **[Задание 3]**\n",
        "\n",
        "Разделите данные на признаки `X` и целевую переменную `y`.\n"
      ],
      "metadata": {
        "id": "jPNCOkN1-ljV"
      }
    },
    {
      "metadata": {
        "id": "xG-br8XcHXHC"
      },
      "cell_type": "code",
      "source": [],
      "execution_count": null,
      "outputs": []
    },
    {
      "metadata": {
        "id": "zpdfCVt8TW5K"
      },
      "cell_type": "markdown",
      "source": [
        "### **[Задание 4]**\n",
        "\n",
        "Разделите данные на обучающую и тестовую выборки. Установите соотношение разделения с помощью параметра `test_size` (например, `testsize=0.2`) и при необходимости задайте случайное значение для параметра `random_state`."
      ]
    },
    {
      "metadata": {
        "id": "QsgrNr2RINsN"
      },
      "cell_type": "code",
      "source": [],
      "execution_count": null,
      "outputs": []
    },
    {
      "metadata": {
        "id": "DVCi5RMsJE-O"
      },
      "cell_type": "markdown",
      "source": [
        "## Обучение модели и прогон на тестовой выборке"
      ]
    },
    {
      "metadata": {
        "id": "4iRqwJU-TmIt"
      },
      "cell_type": "markdown",
      "source": [
        "### **[Задание 5]**\n",
        "\n",
        "Инициализируйте модель бинарной классификации, используя `LogisticRegression`. Саму модель сохраните в переменную `classifier`.\n",
        "\n",
        "В следующей теме мы рассмотрим подробно устройство и теоретическую базу логистической регрессии, пока же рассматриваем её, как некоторый \"черный ящик\", благодаря которому сможем попрактиковаться в вычислении метрик.\n"
      ]
    },
    {
      "metadata": {
        "id": "4pKL5VoJKh8A"
      },
      "cell_type": "code",
      "source": [
        "classifier = LogisticRegression(random_state=0)"
      ],
      "execution_count": null,
      "outputs": []
    },
    {
      "metadata": {
        "id": "6DwkhGMyT2BJ"
      },
      "cell_type": "markdown",
      "source": [
        "### **[Задание 6]**\n",
        "\n",
        "Обучите модель на обучающих данных."
      ]
    },
    {
      "metadata": {
        "id": "1rj0E-XnLWaH"
      },
      "cell_type": "code",
      "source": [],
      "execution_count": null,
      "outputs": []
    },
    {
      "cell_type": "markdown",
      "source": [
        "Получим вектор с предсказаниями модели `y_preds` и вектор вероятностей `y_proba`."
      ],
      "metadata": {
        "id": "N98dn8s8slQZ"
      }
    },
    {
      "metadata": {
        "id": "1PdjKHbfT6AX"
      },
      "cell_type": "code",
      "source": [
        "y_preds = classifier.predict(X_test)\n",
        "y_proba = classifier.predict_proba(X_test)"
      ],
      "execution_count": null,
      "outputs": []
    },
    {
      "metadata": {
        "id": "b-9Dsn3yGXx7"
      },
      "cell_type": "markdown",
      "source": [
        "Если мы выведем полученные вероятности `y_proba`, то будет нечто такое:"
      ]
    },
    {
      "cell_type": "code",
      "source": [
        "y_proba"
      ],
      "metadata": {
        "id": "Qb0PU_1jrWIn"
      },
      "execution_count": null,
      "outputs": []
    },
    {
      "cell_type": "markdown",
      "source": [
        "Этот формат не удобен (нам было бы более привычным представление в виде одномерного массива). Выведем одномерный вектор вероятностей возникновения рака типа `benign`."
      ],
      "metadata": {
        "id": "Pf4NgCHSrZFn"
      }
    },
    {
      "metadata": {
        "id": "To9oQknC19dh"
      },
      "cell_type": "code",
      "source": [
        "y_proba = y_proba[:,1].reshape((y_proba.shape[0],))"
      ],
      "execution_count": null,
      "outputs": []
    },
    {
      "cell_type": "markdown",
      "source": [
        "Сравним тестовые метки классов с предсказанными."
      ],
      "metadata": {
        "id": "AyDgWvhEyVkx"
      }
    },
    {
      "metadata": {
        "id": "J_VDguyUL7fu"
      },
      "cell_type": "code",
      "source": [
        "y_proba[:5], y_preds[:5], y_test[:5]"
      ],
      "execution_count": null,
      "outputs": []
    },
    {
      "metadata": {
        "id": "QM2WA4_FJfgT"
      },
      "cell_type": "markdown",
      "source": [
        "### Confusion Matrix"
      ]
    },
    {
      "metadata": {
        "id": "HEtVeYiBUDvH"
      },
      "cell_type": "markdown",
      "source": [
        "Обсудим первый метод оценки качества работы модели — матрицу ошибок.\n",
        "\n",
        "В области бинарной классификации задача обычно связана с выявлением нечасто встречающегося события среди множества случаев, таких как диагностика рака у человека.\n",
        "\n",
        "Следовательно, класс, который вызывает у нас интерес, будем называть \"позитивным\", в то время как другой класс — \"негативным\".\n",
        "\n",
        "Мы можем столкнуться с четырьмя различными исходами при классификации объектов в наборе данных. Рассмотрим их и дадим краткое описание:\n",
        " 1. **Истинно положительное (TP)**: Предсказана положительная метка и она оказалась верной. Объекты с подобным исходом относим к группе TP. \"Истинно\", потому что предсказание верно. \"Положительное\", т.к. метка положительная.\n",
        " 2. **Ложно положительное (FP)**: Предсказана положительная метка, но предсказание оказалось неверным. Объекты с такими исходами относим к группе FP. \"Ложно\", поскольку предсказание ошибочно.\n",
        " 3. **Истинно отрицательное (TN)**: Предсказана отрицательная метка, и она оказалась верной. Объекты в данной ситуации отнесем к группе TN.\n",
        " 4. **Ложно отрицательное (FN)**: Предсказана отрицательная метка, но это оказалось не так. Такие объекты классифицируем как FN.\n",
        "\n",
        "Для наглядности эти 4 числа можно представить в виде таблицы, которая называется матрицей ошибок или confusion matrix. Эта матрица реализована в библиотеке `scikit-learn` в модуле [`sklearn.metrics.confusion_matrix`](http://scikit-learn.org/stable/modules/generated/sklearn.metrics.confusion_matrix.html)."
      ]
    },
    {
      "metadata": {
        "id": "gXSq_kfcN8U8"
      },
      "cell_type": "code",
      "source": [
        "conf = metrics.confusion_matrix(y_test, y_preds)\n",
        "conf"
      ],
      "execution_count": null,
      "outputs": []
    },
    {
      "cell_type": "markdown",
      "source": [
        "Для того, чтобы изобразить confusion matrix  можно воспользоваться методом [`ConfusionMatrixDisplay`](https://scikit-learn.org/stable/modules/generated/sklearn.metrics.ConfusionMatrixDisplay.html)"
      ],
      "metadata": {
        "id": "xPrOOkAfJ2dY"
      }
    },
    {
      "cell_type": "code",
      "source": [
        "from sklearn.metrics import ConfusionMatrixDisplay\n",
        "\n",
        "disp = ConfusionMatrixDisplay(confusion_matrix=conf, display_labels=classifier.classes_)\n",
        "disp.plot()\n",
        "plt.show()"
      ],
      "metadata": {
        "colab": {
          "base_uri": "https://localhost:8080/",
          "height": 449
        },
        "id": "_G7ZbVGph_vp",
        "outputId": "478f1007-8273-4f26-cf29-1494d09c024d"
      },
      "execution_count": null,
      "outputs": [
        {
          "output_type": "display_data",
          "data": {
            "text/plain": [
              "<Figure size 640x480 with 2 Axes>"
            ],
            "image/png": "[encoded data removed]"
          },
          "metadata": {}
        }
      ]
    },
    {
      "metadata": {
        "id": "v81eYMJ0UM29"
      },
      "cell_type": "markdown",
      "source": [
        "С помощью `confusion matrix`, мы можем увидеть количество случаев, правильно предсказанных нашей моделью для каждого класса."
      ]
    },
    {
      "metadata": {
        "id": "USDonfT5Jpr2"
      },
      "cell_type": "markdown",
      "source": [
        "## Метрики"
      ]
    },
    {
      "metadata": {
        "id": "X5dcb4jEPpDR"
      },
      "cell_type": "markdown",
      "source": [
        "Теперь мы рассчитаем несколько основных метрик на основе четырех значений, составляющих confustion matrix.\n",
        "\n",
        " Давайте создадим словарь с именем `results`, чтобы хранить все эти метрики."
      ]
    },
    {
      "metadata": {
        "id": "wFE2EKmxV_Xx"
      },
      "cell_type": "code",
      "source": [
        "results = {}"
      ],
      "execution_count": null,
      "outputs": []
    },
    {
      "cell_type": "code",
      "source": [
        "# значения из confusion matrix\n",
        "TP = true_pos = 123\n",
        "TN = true_neg = 68\n",
        "FP = false_pos = 7\n",
        "FN = false_neg = 2"
      ],
      "metadata": {
        "id": "dEnkz--T3Af0"
      },
      "execution_count": null,
      "outputs": []
    },
    {
      "metadata": {
        "id": "U6O_iUIHZqgj"
      },
      "cell_type": "markdown",
      "source": [
        "#### Accuracy\n",
        "\n",
        "Самым первым из всех критериев качества, который сразу приходит в голову является точность (accuracy) - доля объектов, для которых был правильно предсказан класс.\n",
        "\n",
        "![alt text](https://wikimedia.org/api/rest_v1/media/math/render/svg/c72ec21ef2505c2d376e96197637fc64f75e5891)\n",
        "\n",
        "Есть также сопряженная метрика - ошибка классификации (error rate), которая представляет собой долю неправильных предсказаний:\n",
        "`Error rate = 1 - Accuracy`\n",
        "\n",
        "Более внимательное рассмотрение метрики accuracy выявляет некоторые ее недостатки:\n",
        "\n",
        "\n",
        "*   Accuracy не учитывает дисбаланс классов. Например, в задаче диагностики редких заболеваний классификатор, предсказывающий всем пациентам отсутствие болезни, будет иметь достаточно высокую точность только из-за того, что больных людей в выборке гораздо меньше;\n",
        "*  Она также игнорирует цену ошибки для объектов разных классов. Возьмем, например, задачу медицинской диагностики: если ложно-положительный диагноз для здорового пациента приводит только к дополнительному обследованию, то ложно-отрицательный вердикт может иметь фатальные последствия."
      ]
    },
    {
      "metadata": {
        "id": "4y3hcfI0WFfv"
      },
      "cell_type": "code",
      "source": [
        "metric = \"Accuracy\"\n",
        "results[metric] = (TP + TN) / (TP + TN + FP + FN)\n",
        "print(f\"{metric} is {results[metric]: .3f}\")"
      ],
      "execution_count": null,
      "outputs": []
    },
    {
      "cell_type": "markdown",
      "source": [
        "Но если вам не хочется каждый раз считать точность с помощью арифметических операций над компонентами confusion matrix, то `sklearn` уже решил вашу проблему: достаточно импортировать `accuracy_score` из модуля `sklearn.metrics`.\n"
      ],
      "metadata": {
        "id": "m-TZIcvm1Wmp"
      }
    },
    {
      "cell_type": "code",
      "source": [
        "y_proba"
      ],
      "metadata": {
        "id": "2wvp-cbw3bAd"
      },
      "execution_count": null,
      "outputs": []
    },
    {
      "cell_type": "code",
      "source": [
        "y_test"
      ],
      "metadata": {
        "id": "BV75-W7f3b03"
      },
      "execution_count": null,
      "outputs": []
    },
    {
      "cell_type": "code",
      "source": [
        "from sklearn.metrics import accuracy_score\n",
        "\n",
        "# Рассчитываем accuracy как разницу между ожидаемыми и предсказанными значениями\n",
        "accuracy = accuracy_score(y_test, y_preds)\n"
      ],
      "metadata": {
        "id": "rQeyQMdp1V9t"
      },
      "execution_count": null,
      "outputs": []
    },
    {
      "cell_type": "markdown",
      "source": [
        "Выведем метрику из `sklearn`"
      ],
      "metadata": {
        "id": "m0fBG2Sbyi9p"
      }
    },
    {
      "cell_type": "code",
      "source": [
        "accuracy"
      ],
      "metadata": {
        "id": "c6mo0fxuyiXn"
      },
      "execution_count": null,
      "outputs": []
    },
    {
      "cell_type": "markdown",
      "source": [
        "Как видим, наше значение метрики, которое мы вычислили руками из confusion matrix, не сильно отклонилось от библиотечного"
      ],
      "metadata": {
        "id": "DThuNAyEyo9c"
      }
    },
    {
      "metadata": {
        "id": "vjmFM1v_Z_a8"
      },
      "cell_type": "markdown",
      "source": [
        "#### True Positive Rate (Recall)\n",
        "\n",
        "Число образцов, фактически и предсказанных как положительные / общее число фактически положительных образцов.\n",
        "Также называется **Sensitivity или Recall** (чувствительность или полнота).\n",
        "\n",
        "![alt text](https://wikimedia.org/api/rest_v1/media/math/render/svg/64d5540cbadeb83f864d7a731b7ab43cccd0f353)\n"
      ]
    },
    {
      "metadata": {
        "id": "q8JoI-S6WKMS"
      },
      "cell_type": "code",
      "source": [
        "# Sensitivity or Recall\n",
        "metric = \"TPR\"\n",
        "results[metric] = TP / (TP + FN)\n",
        "print(f\"{metric} is {results[metric]: .3f}\")"
      ],
      "execution_count": null,
      "outputs": []
    },
    {
      "metadata": {
        "id": "f6y1c1SDa0Lg"
      },
      "cell_type": "markdown",
      "source": [
        "#### True Negative Rate (Specificity)\n",
        "\n",
        "Коэффициент истинно отрицательных результатов (True Negative Rate) означает количество образцов, которые действительно и были предсказаны как отрицательные, делённое на общее количество образцов, которые на самом деле отрицательны. Также называется **Specificity**(специфичностью)\n",
        "\n",
        "![alt text](https://wikimedia.org/api/rest_v1/media/math/render/svg/aac65b6586cb61c1268403895012c2a8f19b0c5e)\n"
      ]
    },
    {
      "metadata": {
        "id": "rkRmDKjSYLYE"
      },
      "cell_type": "code",
      "source": [
        "# Specificity\n",
        "metric = \"TNR\"\n",
        "results[metric] = TN / (TN + FP)\n",
        "print(f\"{metric} is {results[metric]: .3f}\")"
      ],
      "execution_count": null,
      "outputs": []
    },
    {
      "metadata": {
        "id": "qK7WCIlpbDis"
      },
      "cell_type": "markdown",
      "source": [
        "#### Positive Predictive Value (Precision)\n",
        "\n",
        "Положительное предсказательное значение (Positive Predictive Value)  - это количество образцов, которые действительно и были предсказаны как положительные, делённое на общее количество образцов, предсказанных как положительные.\n",
        "Еще его называют **Precision**.  \n",
        "\n",
        "![alt text](https://wikimedia.org/api/rest_v1/media/math/render/svg/699fcdb880b7f6a92742bc0845b8b60b59806a98)\n"
      ]
    },
    {
      "metadata": {
        "id": "lNgS7UwfYce9"
      },
      "cell_type": "code",
      "source": [
        "# Precision\n",
        "metric = \"PPV\"\n",
        "results[metric] = TP / (TP + FP)\n",
        "print(f\"{metric} is {results[metric]: .3f}\")"
      ],
      "execution_count": null,
      "outputs": []
    },
    {
      "metadata": {
        "id": "VBPShM1JdQpO"
      },
      "cell_type": "markdown",
      "source": [
        "#### Negative Predictive Value\n",
        "\n",
        "Отрицательное предсказательное значение (Negative Predictive Value) - это количество образцов, которые на самом деле и были предсказаны как отрицательные, делённое на общее количество образцов, предсказанных как отрицательные.\n",
        "\n",
        "![alt text](https://wikimedia.org/api/rest_v1/media/math/render/svg/b6da0f59faffbc1704974e97847ab4fa599f5521)\n",
        "\n",
        "\n"
      ]
    },
    {
      "metadata": {
        "id": "qAAhCMaOdsSn"
      },
      "cell_type": "code",
      "source": [
        "metric = \"NPV\"\n",
        "results[metric] = TN / (TN + FN)\n",
        "print(f\"{metric} is {results[metric]: .3f}\")"
      ],
      "execution_count": null,
      "outputs": []
    },
    {
      "metadata": {
        "id": "D6mxQtZyfIte"
      },
      "cell_type": "markdown",
      "source": [
        "#### F1 score\n",
        "F1-мера (F1 score) - это среднее гармоническое значение точности и полноты.\n",
        "!alt text\n",
        "\n",
        "В контексте классификации, точность (precision) измеряет, какая доля объектов, определенных как положительные, действительно является положительными, а полнота (recall) измеряет, какая доля положительных объектов была правильно обнаружена. F1-мера является комбинацией этих двух метрик и представляет собой баланс между точностью и полнотой. Чем выше F1-мера, тем лучше производительность модели классификации.\n",
        "\n",
        "\n",
        "![alt text](https://wikimedia.org/api/rest_v1/media/math/render/svg/5663ca95d471868169c4e4ea57c936f1b6f4a588)\n"
      ]
    },
    {
      "metadata": {
        "id": "8pNnIhEbdzFc"
      },
      "cell_type": "code",
      "source": [
        "metric = \"F1\"\n",
        "results[metric] = 2 / (1 / results[\"PPV\"] + 1 / results[\"TPR\"])\n",
        "print(f\"{metric} is {results[metric]: .3f}\")"
      ],
      "execution_count": null,
      "outputs": []
    },
    {
      "metadata": {
        "id": "4S-Do05vg9js"
      },
      "cell_type": "markdown",
      "source": [
        "### Сравнение этих показателей\n",
        "Давайте проверим, соответствуют ли эти значения значениям, рассчитанным с помощью функций scikit-learn."
      ]
    },
    {
      "metadata": {
        "id": "7R0RMkI0krAp"
      },
      "cell_type": "code",
      "source": [
        "print(f\"Calculated and Actual Accuracy:                          {results['Accuracy']: .3f}, {metrics.accuracy_score(y_test, y_preds): .3f}\")\n",
        "print(f\"Calculated and Actual Precision score:                   {results['PPV']: .3f}, {metrics.precision_score(y_test, y_preds): .3f}\")\n",
        "print(f\"Calculated and Actual Recall score:                      {results['TPR']: .3f}, {metrics.recall_score(y_test, y_preds): .3f}\")\n",
        "print(f\"Calculated and Actual F1 score:                          {results['F1']: .3f}, {metrics.f1_score(y_test, y_preds): .3f}\")\n"
      ],
      "execution_count": null,
      "outputs": []
    },
    {
      "cell_type": "markdown",
      "source": [
        "В задачах классификации различные метрики используются для оценки разных аспектов работы модели. Вот краткое объяснение, когда использовать каждую из следующих метрик:\n",
        "\n",
        "1. `Accuracy` измеряет, какая доля всех прогнозов модели является правильной. Она особенно полезна, когда классы в задаче классификации **сбалансированы**, то есть количество примеров положительного и отрицательного классов примерно одинаково. `Accuracy` может быть использована как общая метрика оценки производительности модели. Однако при дисбалансе классов она может стать вводящей в заблуждение, поскольку высокую точность можно достичь, просто предсказывая большинство примеров как отрицательные.\n",
        "\n",
        "2. `True Positive Rate`, также известная как чувствительность, отражает, какая доля действительно положительных примеров была корректно предсказана моделью. Эта метрика полезна, когда важно правильно идентифицировать положительные примеры, например, в задачах, где неправильная классификация положительного примера может иметь серьезные последствия.\n",
        "\n",
        "3. `True Negative Rate`, также известная как специфичность, показывает, какую долю действительно отрицательных примеров модель корректно предсказала. Эта метрика полезна в ситуациях, когда важно точно определить отрицательные примеры, так как они могут иметь специальные требования или ограничения.\n",
        "\n",
        "4. `Positive Predicted Value`, также известная как точность, отражает, какую долю всех предсказанных положительных примеров на самом деле являются положительными. Эта метрика полезна, когда важно ограничить число ложноположительных прогнозов, так как они могут вызывать лишние затраты или ошибочные действия.\n",
        "\n",
        "5. `Negative Predicted Value` показывает, какую долю отрицательных примеров модель правильно предсказала из общего числа предсказанных отрицательных примеров. Она полезна в ситуациях, где важно минимизировать ложноотрицательные прогнозы, которые могут пропустить важные события или объекты."
      ],
      "metadata": {
        "id": "7IqTfK-67wyy"
      }
    },
    {
      "metadata": {
        "id": "7UI7NWzcpu8p"
      },
      "cell_type": "markdown",
      "source": [
        "### ROC кривая - бонус\n",
        "ROC кривая (Receiver Operating Characteristic curve), или ROC кривая, это графическое представление, которое иллюстрирует диагностическую способность бинарной классификационной системы при изменении порогового значения. Подробно она будет рассмотрена в следующей теме, но вы можете начать знакомство с ней сейчас.\n",
        "\n",
        "\n",
        "ROC кривая создается путем построения графика Доли истинно положительных (TPR) от Доли ложно положительных (FPR) при различных пороговых значениях.  \n",
        "\n",
        "ROC-кривая позволяет оценить способность модели различать результаты между классами и эффективность ее классификации. Она представляет собой площадь под графиком ROC-кривой. ROC-кривая отображает соотношение между Долей истинно положительных (TPR) и Долей ложно положительных (FPR) при различных пороговых значениях.\n",
        "\n",
        "Анализ ROC-AUC помогает определить, насколько хорошо модель способна разделять классы. Чем ближе значение ROC-AUC к 1, тем лучше модель различает классы. Значение 0.5 означает случайный выбор, а значение менее 0.5 указывает на неправильную классификацию.\n",
        "\n",
        "Давайте построим ROC кривую для набора данных о раке груди.  \n"
      ]
    },
    {
      "metadata": {
        "id": "azh7aCjE7Qid"
      },
      "cell_type": "code",
      "source": [
        "FPRs, TPRs, _ = metrics.roc_curve(y_test, y_proba)"
      ],
      "execution_count": null,
      "outputs": []
    },
    {
      "cell_type": "code",
      "source": [
        "from sklearn.metrics import RocCurveDisplay"
      ],
      "metadata": {
        "id": "igYzuMJiDiPO"
      },
      "execution_count": null,
      "outputs": []
    },
    {
      "metadata": {
        "id": "L4-Eric87exv",
        "colab": {
          "base_uri": "https://localhost:8080/",
          "height": 466
        },
        "outputId": "6f0dfef5-805a-4d0e-ac15-8e216d0af6c3"
      },
      "cell_type": "code",
      "source": [
        "RocCurveDisplay.from_estimator(classifier, X_test, y_test)"
      ],
      "execution_count": null,
      "outputs": [
        {
          "output_type": "execute_result",
          "data": {
            "text/plain": [
              "<sklearn.metrics._plot.roc_curve.RocCurveDisplay at 0x783d83ffcc70>"
            ]
          },
          "metadata": {},
          "execution_count": 31
        },
        {
          "output_type": "display_data",
          "data": {
            "text/plain": [
              "<Figure size 640x480 with 1 Axes>"
            ],
            "image/png": "[encoded data removed]"
          },
          "metadata": {}
        }
      ]
    },
    {
      "metadata": {
        "id": "wcQXLrk68FC1"
      },
      "cell_type": "markdown",
      "source": [
        "### Оценка ROC-AUC\n",
        "Теперь, когда мы знаем о кривой ROC и о том, что она из себя представляет, очень легко понять оценку AUC.  \n",
        "\n",
        "AUC - это площадь под ROC-кривой. Как мы видели, полностью случайный прогноз будет иметь оценку AUC 0,5, в то время как идеальный классификатор будет иметь оценку AUC 1.\n",
        "\n",
        "Зафиксируем разницу в терминах:\n",
        "\n",
        "\n",
        "*   **ROC-кривая** (кривая характеристики приемников) - **это график**, который показывает зависимость между чувствительностью (вероятность обнаружения положительного класса) и специфичностью (вероятность обнаружения отрицательного класса) модели классификации. Она является инструментом для оценки качества модели и позволяет определить ее эффективность.\n",
        "*   **Оценка ROC-AUC** (площадь под кривой ROC) представляет собой **числовую метрику**, которая характеризует качество модели классификации. Она вычисляется путем вычисления площади, ограниченной ROC-кривой и осью диагонали. ROC-AUC находится в диапазоне от 0 до 1, где 0.5 соответствует случайному классификатору, а 1 соответствует идеальному классификатору. Чем ближе значение ROC-AUC к 1, тем лучше модель классификации\n"
      ]
    },
    {
      "metadata": {
        "id": "JETH5mgtIs9Y"
      },
      "cell_type": "markdown",
      "source": [
        "Вычислить AUC-метрику можно с помощью `sklearn` можно с помощью метода `metrics.roc_auc_score`"
      ]
    },
    {
      "metadata": {
        "id": "pQmvuU9AKUvm",
        "colab": {
          "base_uri": "https://localhost:8080/"
        },
        "outputId": "72becbf6-5200-4d13-e48e-f2b26259b3a0"
      },
      "cell_type": "code",
      "source": [
        "auc_score = metrics.roc_auc_score(y_test, y_proba)\n",
        "print(f\"Scikit's ROC-AUC score of SVC model is {auc_score: .4f}\")"
      ],
      "execution_count": null,
      "outputs": [
        {
          "output_type": "stream",
          "name": "stdout",
          "text": [
            "Scikit's ROC-AUC score of SVC model is  0.9825\n"
          ]
        }
      ]
    },
    {
      "cell_type": "markdown",
      "source": [
        "У данной метрики есть класс недостатков\n",
        "\n",
        "1. Нечувствительность к дисбалансу классов: ROC-AUC не учитывает дисбаланс классов в данных. Если классы несбалансированы и большинство примеров относятся к одному классу, то ROC-AUC может давать завышенную оценку производительности классификатора.\n",
        "\n",
        "2. Чувствительность к пороговому значению: ROC-AUC зависит от выбранного порогового значения классификации. Если пороговое значение изменится, то кривая ROC и значение AUC могут также измениться.\n",
        "\n",
        "3. Неинтерпретируемость абсолютных значений: ROC-AUC дает информацию о качестве классификатора, но не дает абсолютные значения для вероятностей классификации или предсказаний классов, что может быть неуклюжим при сравнении разных моделей или алгоритмов.\n",
        "\n",
        "4. Зависимость от порядка классификации: ROC-AUC основан на ранжировании наблюдений в порядке убывания вероятности принадлежности к положительному классу. Порядок значений вероятностей может сильно влиять на ROC-AUC, особенно при наличии повторяющихся значений.\n"
      ],
      "metadata": {
        "id": "5wbDthJoIzF0"
      }
    }
  ]
}