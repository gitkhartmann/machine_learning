{
  "cells": [
    {
      "cell_type": "markdown",
      "metadata": {
        "id": "bY1kBhNeAJCz"
      },
      "source": [
        "В этом занятии:\n",
        "\n",
        "* Рассмотрим реализацию градиетного бустинга из библиотеки [XGBoost](https://xgboost.readthedocs.io/en/latest/python/index.html)\n",
        "\n",
        "* Сравним качество прогнозов разных моделей между собой\n",
        "\n",
        "* Увеличим точность классификации звезд\n",
        "\n",
        "* Сможем лучше отличать кошку от собаки\n",
        "\n",
        "* Научимся лучше прогнозировать стоимоcть автомобиля\n",
        "___"
      ]
    },
    {
      "cell_type": "markdown",
      "metadata": {
        "id": "lgmHT7XYAJC3"
      },
      "source": [
        "\n",
        "\n",
        "Установим библиотеку _XGBoost_. Стоит также отметить, что алгоритмы, реализованные в _XGBoost_, совместимы с алгоритмами _sklearn_. На практике оказывается, что можно использовать функции из _XGBoost_ также как другие алгоритмы из _sklearn_ в единой связке.\n"
      ]
    },
    {
      "cell_type": "code",
      "execution_count": null,
      "metadata": {
        "id": "wz1-pevCAJC4"
      },
      "outputs": [],
      "source": [
        "! pip install xgboost"
      ]
    },
    {
      "cell_type": "markdown",
      "metadata": {
        "id": "1N7dQ96HAJC5"
      },
      "source": [
        "Импортируем библиотеки"
      ]
    },
    {
      "cell_type": "code",
      "execution_count": null,
      "metadata": {
        "id": "mdyjjdKBAJC6"
      },
      "outputs": [],
      "source": [
        "import pandas as pd\n",
        "import seaborn as sns\n",
        "import sklearn.metrics as mk\n",
        "import xgboost as xgb"
      ]
    },
    {
      "cell_type": "markdown",
      "metadata": {
        "id": "IPNrZvYXAJC6"
      },
      "source": [
        "# Градиентный бустинг - Классификация"
      ]
    },
    {
      "cell_type": "markdown",
      "metadata": {
        "id": "8l0jtXVOAJC6"
      },
      "source": [
        "## Данные\n"
      ]
    },
    {
      "cell_type": "markdown",
      "metadata": {
        "id": "ezixyDtVAJC6"
      },
      "source": [
        "Мы будем использовать знакомый набор данных, а именно датасет с данными о [звездах](https://www.kaggle.com/datasets/deepu1109/star-dataset).\n",
        "Необходимый СSV файл содержит набор данных из 240 звезд 6 классов:\n",
        "\n",
        "* Коричневый карлик -> Тип звезды = 0\n",
        "\n",
        "* Красный карлик -> Тип звезды = 1\n",
        "\n",
        "* Белый карлик-> Тип звезды = 2\n",
        "\n",
        "* Основная последовательность -> Тип звезды = 3\n",
        "\n",
        "* Сверхгигант -> Тип звезды = 4\n",
        "\n",
        "* Гипергигант -> Тип звезды = 5\n",
        "\n",
        "**Наша цель - создать модель, которая поможет нам определять тип звезды на основе физических признаков, чтобы исследователи могли с помощью этой модели выполнять классификацию, без привлечения опытного астронома.**"
      ]
    },
    {
      "cell_type": "code",
      "execution_count": null,
      "metadata": {
        "id": "Ezeap2TnAJC7",
        "outputId": "a177b5cc-85e4-49e9-9759-2247f8e59b5f"
      },
      "outputs": [
        {
          "data": {
            "text/html": [
              "<div>\n",
              "<style scoped>\n",
              "    .dataframe tbody tr th:only-of-type {\n",
              "        vertical-align: middle;\n",
              "    }\n",
              "\n",
              "    .dataframe tbody tr th {\n",
              "        vertical-align: top;\n",
              "    }\n",
              "\n",
              "    .dataframe thead th {\n",
              "        text-align: right;\n",
              "    }\n",
              "</style>\n",
              "<table border=\"1\" class=\"dataframe\">\n",
              "  <thead>\n",
              "    <tr style=\"text-align: right;\">\n",
              "      <th></th>\n",
              "      <th>Temperature (K)</th>\n",
              "      <th>Luminosity(L/Lo)</th>\n",
              "      <th>Radius(R/Ro)</th>\n",
              "      <th>Absolute magnitude(Mv)</th>\n",
              "      <th>Star type</th>\n",
              "      <th>Star color</th>\n",
              "      <th>Spectral Class</th>\n",
              "    </tr>\n",
              "  </thead>\n",
              "  <tbody>\n",
              "    <tr>\n",
              "      <th>0</th>\n",
              "      <td>3068</td>\n",
              "      <td>0.002400</td>\n",
              "      <td>0.1700</td>\n",
              "      <td>16.12</td>\n",
              "      <td>0</td>\n",
              "      <td>Red</td>\n",
              "      <td>M</td>\n",
              "    </tr>\n",
              "    <tr>\n",
              "      <th>1</th>\n",
              "      <td>3042</td>\n",
              "      <td>0.000500</td>\n",
              "      <td>0.1542</td>\n",
              "      <td>16.60</td>\n",
              "      <td>0</td>\n",
              "      <td>Red</td>\n",
              "      <td>M</td>\n",
              "    </tr>\n",
              "    <tr>\n",
              "      <th>2</th>\n",
              "      <td>2600</td>\n",
              "      <td>0.000300</td>\n",
              "      <td>0.1020</td>\n",
              "      <td>18.70</td>\n",
              "      <td>0</td>\n",
              "      <td>Red</td>\n",
              "      <td>M</td>\n",
              "    </tr>\n",
              "    <tr>\n",
              "      <th>3</th>\n",
              "      <td>2800</td>\n",
              "      <td>0.000200</td>\n",
              "      <td>0.1600</td>\n",
              "      <td>16.65</td>\n",
              "      <td>0</td>\n",
              "      <td>Red</td>\n",
              "      <td>M</td>\n",
              "    </tr>\n",
              "    <tr>\n",
              "      <th>4</th>\n",
              "      <td>1939</td>\n",
              "      <td>0.000138</td>\n",
              "      <td>0.1030</td>\n",
              "      <td>20.06</td>\n",
              "      <td>0</td>\n",
              "      <td>Red</td>\n",
              "      <td>M</td>\n",
              "    </tr>\n",
              "  </tbody>\n",
              "</table>\n",
              "</div>"
            ],
            "text/plain": [
              "   Temperature (K)  Luminosity(L/Lo)  Radius(R/Ro)  Absolute magnitude(Mv)  \\\n",
              "0             3068          0.002400        0.1700                   16.12   \n",
              "1             3042          0.000500        0.1542                   16.60   \n",
              "2             2600          0.000300        0.1020                   18.70   \n",
              "3             2800          0.000200        0.1600                   16.65   \n",
              "4             1939          0.000138        0.1030                   20.06   \n",
              "\n",
              "   Star type Star color Spectral Class  \n",
              "0          0        Red              M  \n",
              "1          0        Red              M  \n",
              "2          0        Red              M  \n",
              "3          0        Red              M  \n",
              "4          0        Red              M  "
            ]
          },
          "execution_count": 150,
          "metadata": {},
          "output_type": "execute_result"
        }
      ],
      "source": [
        "df = pd.read_csv(\"./star_set.csv\")\n",
        "df.head()"
      ]
    },
    {
      "cell_type": "markdown",
      "metadata": {
        "id": "oKvQW2jOAJC7"
      },
      "source": [
        "## Разбиение данных на обучающую и тестовую выборки"
      ]
    },
    {
      "cell_type": "code",
      "execution_count": null,
      "metadata": {
        "id": "NDrRL9hdAJC7"
      },
      "outputs": [],
      "source": [
        "features = pd.get_dummies(df.drop('Star type', axis=1), drop_first=True)\n",
        "targets = df['Star type']"
      ]
    },
    {
      "cell_type": "code",
      "execution_count": null,
      "metadata": {
        "id": "7K7635WAAJC8"
      },
      "outputs": [],
      "source": [
        "from sklearn.model_selection import train_test_split\n",
        "feat_train, feat_test, tar_train, tar_test = train_test_split(features, targets, test_size=0.77, random_state=40)"
      ]
    },
    {
      "cell_type": "markdown",
      "metadata": {
        "id": "WGJQ5FBaAJC8"
      },
      "source": [
        "Перед использованием алгоритма, ознакомимся с его документацией привычной командой _help_."
      ]
    },
    {
      "cell_type": "code",
      "execution_count": null,
      "metadata": {
        "id": "70VArlDSAJC8",
        "outputId": "d5bbdeee-a19c-49aa-dd3c-60ffd8eba6ba"
      },
      "outputs": [
        {
          "name": "stdout",
          "output_type": "stream",
          "text": [
            "Help on class XGBClassifier in module xgboost.sklearn:\n",
            "\n",
            "class XGBClassifier(XGBModel, sklearn.base.ClassifierMixin)\n",
            " |  XGBClassifier(*, objective: Union[str, Callable[[numpy.ndarray, numpy.ndarray], Tuple[numpy.ndarray, numpy.ndarray]], NoneType] = 'binary:logistic', use_label_encoder: Optional[bool] = None, **kwargs: Any) -> None\n",
            " |  \n",
            " |  Implementation of the scikit-learn API for XGBoost classification.\n",
            " |  \n",
            " |  \n",
            " |  Parameters\n",
            " |  ----------\n",
            " |  \n",
            " |      n_estimators : int\n",
            " |          Number of boosting rounds.\n",
            " |  \n",
            " |      max_depth :  Optional[int]\n",
            " |          Maximum tree depth for base learners.\n",
            " |      max_leaves :\n",
            " |          Maximum number of leaves; 0 indicates no limit.\n",
            " |      max_bin :\n",
            " |          If using histogram-based algorithm, maximum number of bins per feature\n",
            " |      grow_policy :\n",
            " |          Tree growing policy. 0: favor splitting at nodes closest to the node, i.e. grow\n",
            " |          depth-wise. 1: favor splitting at nodes with highest loss change.\n",
            " |      learning_rate : Optional[float]\n",
            " |          Boosting learning rate (xgb's \"eta\")\n",
            " |      verbosity : Optional[int]\n",
            " |          The degree of verbosity. Valid values are 0 (silent) - 3 (debug).\n",
            " |      objective : typing.Union[str, typing.Callable[[numpy.ndarray, numpy.ndarray], typing.Tuple[numpy.ndarray, numpy.ndarray]], NoneType]\n",
            " |          Specify the learning task and the corresponding learning objective or\n",
            " |          a custom objective function to be used (see note below).\n",
            " |      booster: Optional[str]\n",
            " |          Specify which booster to use: gbtree, gblinear or dart.\n",
            " |      tree_method: Optional[str]\n",
            " |          Specify which tree method to use.  Default to auto.  If this parameter is set to\n",
            " |          default, XGBoost will choose the most conservative option available.  It's\n",
            " |          recommended to study this option from the parameters document :doc:`tree method\n",
            " |          </treemethod>`\n",
            " |      n_jobs : Optional[int]\n",
            " |          Number of parallel threads used to run xgboost.  When used with other\n",
            " |          Scikit-Learn algorithms like grid search, you may choose which algorithm to\n",
            " |          parallelize and balance the threads.  Creating thread contention will\n",
            " |          significantly slow down both algorithms.\n",
            " |      gamma : Optional[float]\n",
            " |          (min_split_loss) Minimum loss reduction required to make a further partition on a\n",
            " |          leaf node of the tree.\n",
            " |      min_child_weight : Optional[float]\n",
            " |          Minimum sum of instance weight(hessian) needed in a child.\n",
            " |      max_delta_step : Optional[float]\n",
            " |          Maximum delta step we allow each tree's weight estimation to be.\n",
            " |      subsample : Optional[float]\n",
            " |          Subsample ratio of the training instance.\n",
            " |      sampling_method :\n",
            " |          Sampling method. Used only by `gpu_hist` tree method.\n",
            " |            - `uniform`: select random training instances uniformly.\n",
            " |            - `gradient_based` select random training instances with higher probability when\n",
            " |              the gradient and hessian are larger. (cf. CatBoost)\n",
            " |      colsample_bytree : Optional[float]\n",
            " |          Subsample ratio of columns when constructing each tree.\n",
            " |      colsample_bylevel : Optional[float]\n",
            " |          Subsample ratio of columns for each level.\n",
            " |      colsample_bynode : Optional[float]\n",
            " |          Subsample ratio of columns for each split.\n",
            " |      reg_alpha : Optional[float]\n",
            " |          L1 regularization term on weights (xgb's alpha).\n",
            " |      reg_lambda : Optional[float]\n",
            " |          L2 regularization term on weights (xgb's lambda).\n",
            " |      scale_pos_weight : Optional[float]\n",
            " |          Balancing of positive and negative weights.\n",
            " |      base_score : Optional[float]\n",
            " |          The initial prediction score of all instances, global bias.\n",
            " |      random_state : Optional[Union[numpy.random.RandomState, int]]\n",
            " |          Random number seed.\n",
            " |  \n",
            " |          .. note::\n",
            " |  \n",
            " |             Using gblinear booster with shotgun updater is nondeterministic as\n",
            " |             it uses Hogwild algorithm.\n",
            " |  \n",
            " |      missing : float, default np.nan\n",
            " |          Value in the data which needs to be present as a missing value.\n",
            " |      num_parallel_tree: Optional[int]\n",
            " |          Used for boosting random forest.\n",
            " |      monotone_constraints : Optional[Union[Dict[str, int], str]]\n",
            " |          Constraint of variable monotonicity.  See :doc:`tutorial </tutorials/monotonic>`\n",
            " |          for more information.\n",
            " |      interaction_constraints : Optional[Union[str, List[Tuple[str]]]]\n",
            " |          Constraints for interaction representing permitted interactions.  The\n",
            " |          constraints must be specified in the form of a nested list, e.g. ``[[0, 1], [2,\n",
            " |          3, 4]]``, where each inner list is a group of indices of features that are\n",
            " |          allowed to interact with each other.  See :doc:`tutorial\n",
            " |          </tutorials/feature_interaction_constraint>` for more information\n",
            " |      importance_type: Optional[str]\n",
            " |          The feature importance type for the feature_importances\\_ property:\n",
            " |  \n",
            " |          * For tree model, it's either \"gain\", \"weight\", \"cover\", \"total_gain\" or\n",
            " |            \"total_cover\".\n",
            " |          * For linear model, only \"weight\" is defined and it's the normalized coefficients\n",
            " |            without bias.\n",
            " |  \n",
            " |      gpu_id : Optional[int]\n",
            " |          Device ordinal.\n",
            " |      validate_parameters : Optional[bool]\n",
            " |          Give warnings for unknown parameter.\n",
            " |      predictor : Optional[str]\n",
            " |          Force XGBoost to use specific predictor, available choices are [cpu_predictor,\n",
            " |          gpu_predictor].\n",
            " |      enable_categorical : bool\n",
            " |  \n",
            " |          .. versionadded:: 1.5.0\n",
            " |  \n",
            " |          .. note:: This parameter is experimental\n",
            " |  \n",
            " |          Experimental support for categorical data.  When enabled, cudf/pandas.DataFrame\n",
            " |          should be used to specify categorical data type.  Also, JSON/UBJSON\n",
            " |          serialization format is required.\n",
            " |  \n",
            " |      feature_types : FeatureTypes\n",
            " |  \n",
            " |          .. versionadded:: 1.7.0\n",
            " |  \n",
            " |          Used for specifying feature types without constructing a dataframe. See\n",
            " |          :py:class:`DMatrix` for details.\n",
            " |  \n",
            " |      max_cat_to_onehot : Optional[int]\n",
            " |  \n",
            " |          .. versionadded:: 1.6.0\n",
            " |  \n",
            " |          .. note:: This parameter is experimental\n",
            " |  \n",
            " |          A threshold for deciding whether XGBoost should use one-hot encoding based split\n",
            " |          for categorical data.  When number of categories is lesser than the threshold\n",
            " |          then one-hot encoding is chosen, otherwise the categories will be partitioned\n",
            " |          into children nodes. Also, `enable_categorical` needs to be set to have\n",
            " |          categorical feature support. See :doc:`Categorical Data\n",
            " |          </tutorials/categorical>` and :ref:`cat-param` for details.\n",
            " |  \n",
            " |      max_cat_threshold : Optional[int]\n",
            " |  \n",
            " |          .. versionadded:: 1.7.0\n",
            " |  \n",
            " |          .. note:: This parameter is experimental\n",
            " |  \n",
            " |          Maximum number of categories considered for each split. Used only by\n",
            " |          partition-based splits for preventing over-fitting. Also, `enable_categorical`\n",
            " |          needs to be set to have categorical feature support. See :doc:`Categorical Data\n",
            " |          </tutorials/categorical>` and :ref:`cat-param` for details.\n",
            " |  \n",
            " |      eval_metric : Optional[Union[str, List[str], Callable]]\n",
            " |  \n",
            " |          .. versionadded:: 1.6.0\n",
            " |  \n",
            " |          Metric used for monitoring the training result and early stopping.  It can be a\n",
            " |          string or list of strings as names of predefined metric in XGBoost (See\n",
            " |          doc/parameter.rst), one of the metrics in :py:mod:`sklearn.metrics`, or any other\n",
            " |          user defined metric that looks like `sklearn.metrics`.\n",
            " |  \n",
            " |          If custom objective is also provided, then custom metric should implement the\n",
            " |          corresponding reverse link function.\n",
            " |  \n",
            " |          Unlike the `scoring` parameter commonly used in scikit-learn, when a callable\n",
            " |          object is provided, it's assumed to be a cost function and by default XGBoost will\n",
            " |          minimize the result during early stopping.\n",
            " |  \n",
            " |          For advanced usage on Early stopping like directly choosing to maximize instead of\n",
            " |          minimize, see :py:obj:`xgboost.callback.EarlyStopping`.\n",
            " |  \n",
            " |          See :doc:`Custom Objective and Evaluation Metric </tutorials/custom_metric_obj>`\n",
            " |          for more.\n",
            " |  \n",
            " |          .. note::\n",
            " |  \n",
            " |               This parameter replaces `eval_metric` in :py:meth:`fit` method.  The old one\n",
            " |               receives un-transformed prediction regardless of whether custom objective is\n",
            " |               being used.\n",
            " |  \n",
            " |          .. code-block:: python\n",
            " |  \n",
            " |              from sklearn.datasets import load_diabetes\n",
            " |              from sklearn.metrics import mean_absolute_error\n",
            " |              X, y = load_diabetes(return_X_y=True)\n",
            " |              reg = xgb.XGBRegressor(\n",
            " |                  tree_method=\"hist\",\n",
            " |                  eval_metric=mean_absolute_error,\n",
            " |              )\n",
            " |              reg.fit(X, y, eval_set=[(X, y)])\n",
            " |  \n",
            " |      early_stopping_rounds : Optional[int]\n",
            " |  \n",
            " |          .. versionadded:: 1.6.0\n",
            " |  \n",
            " |          Activates early stopping. Validation metric needs to improve at least once in\n",
            " |          every **early_stopping_rounds** round(s) to continue training.  Requires at least\n",
            " |          one item in **eval_set** in :py:meth:`fit`.\n",
            " |  \n",
            " |          The method returns the model from the last iteration (not the best one).  If\n",
            " |          there's more than one item in **eval_set**, the last entry will be used for early\n",
            " |          stopping.  If there's more than one metric in **eval_metric**, the last metric\n",
            " |          will be used for early stopping.\n",
            " |  \n",
            " |          If early stopping occurs, the model will have three additional fields:\n",
            " |          :py:attr:`best_score`, :py:attr:`best_iteration` and\n",
            " |          :py:attr:`best_ntree_limit`.\n",
            " |  \n",
            " |          .. note::\n",
            " |  \n",
            " |              This parameter replaces `early_stopping_rounds` in :py:meth:`fit` method.\n",
            " |  \n",
            " |      callbacks : Optional[List[TrainingCallback]]\n",
            " |          List of callback functions that are applied at end of each iteration.\n",
            " |          It is possible to use predefined callbacks by using\n",
            " |          :ref:`Callback API <callback_api>`.\n",
            " |  \n",
            " |          .. note::\n",
            " |  \n",
            " |             States in callback are not preserved during training, which means callback\n",
            " |             objects can not be reused for multiple training sessions without\n",
            " |             reinitialization or deepcopy.\n",
            " |  \n",
            " |          .. code-block:: python\n",
            " |  \n",
            " |              for params in parameters_grid:\n",
            " |                  # be sure to (re)initialize the callbacks before each run\n",
            " |                  callbacks = [xgb.callback.LearningRateScheduler(custom_rates)]\n",
            " |                  xgboost.train(params, Xy, callbacks=callbacks)\n",
            " |  \n",
            " |      kwargs : dict, optional\n",
            " |          Keyword arguments for XGBoost Booster object.  Full documentation of parameters\n",
            " |          can be found :doc:`here </parameter>`.\n",
            " |          Attempting to set a parameter via the constructor args and \\*\\*kwargs\n",
            " |          dict simultaneously will result in a TypeError.\n",
            " |  \n",
            " |          .. note:: \\*\\*kwargs unsupported by scikit-learn\n",
            " |  \n",
            " |              \\*\\*kwargs is unsupported by scikit-learn.  We do not guarantee\n",
            " |              that parameters passed via this argument will interact properly\n",
            " |              with scikit-learn.\n",
            " |  \n",
            " |          .. note::  Custom objective function\n",
            " |  \n",
            " |              A custom objective function can be provided for the ``objective``\n",
            " |              parameter. In this case, it should have the signature\n",
            " |              ``objective(y_true, y_pred) -> grad, hess``:\n",
            " |  \n",
            " |              y_true: array_like of shape [n_samples]\n",
            " |                  The target values\n",
            " |              y_pred: array_like of shape [n_samples]\n",
            " |                  The predicted values\n",
            " |  \n",
            " |              grad: array_like of shape [n_samples]\n",
            " |                  The value of the gradient for each sample point.\n",
            " |              hess: array_like of shape [n_samples]\n",
            " |                  The value of the second derivative for each sample point\n",
            " |  \n",
            " |  Method resolution order:\n",
            " |      XGBClassifier\n",
            " |      XGBModel\n",
            " |      sklearn.base.BaseEstimator\n",
            " |      sklearn.utils._metadata_requests._MetadataRequester\n",
            " |      sklearn.base.ClassifierMixin\n",
            " |      builtins.object\n",
            " |  \n",
            " |  Methods defined here:\n",
            " |  \n",
            " |  __init__(self, *, objective: Union[str, Callable[[numpy.ndarray, numpy.ndarray], Tuple[numpy.ndarray, numpy.ndarray]], NoneType] = 'binary:logistic', use_label_encoder: Optional[bool] = None, **kwargs: Any) -> None\n",
            " |      Initialize self.  See help(type(self)) for accurate signature.\n",
            " |  \n",
            " |  fit(self, X: Any, y: Any, *, sample_weight: Optional[Any] = None, base_margin: Optional[Any] = None, eval_set: Optional[Sequence[Tuple[Any, Any]]] = None, eval_metric: Union[str, Sequence[str], Callable[[numpy.ndarray, xgboost.core.DMatrix], Tuple[str, float]], NoneType] = None, early_stopping_rounds: Optional[int] = None, verbose: Union[bool, int, NoneType] = True, xgb_model: Union[xgboost.core.Booster, str, xgboost.sklearn.XGBModel, NoneType] = None, sample_weight_eval_set: Optional[Sequence[Any]] = None, base_margin_eval_set: Optional[Sequence[Any]] = None, feature_weights: Optional[Any] = None, callbacks: Optional[Sequence[xgboost.callback.TrainingCallback]] = None) -> 'XGBClassifier'\n",
            " |      Fit gradient boosting classifier.\n",
            " |      \n",
            " |      Note that calling ``fit()`` multiple times will cause the model object to be\n",
            " |      re-fit from scratch. To resume training from a previous checkpoint, explicitly\n",
            " |      pass ``xgb_model`` argument.\n",
            " |      \n",
            " |      Parameters\n",
            " |      ----------\n",
            " |      X :\n",
            " |          Feature matrix\n",
            " |      y :\n",
            " |          Labels\n",
            " |      sample_weight :\n",
            " |          instance weights\n",
            " |      base_margin :\n",
            " |          global bias for each instance.\n",
            " |      eval_set :\n",
            " |          A list of (X, y) tuple pairs to use as validation sets, for which\n",
            " |          metrics will be computed.\n",
            " |          Validation metrics will help us track the performance of the model.\n",
            " |      \n",
            " |      eval_metric : str, list of str, or callable, optional\n",
            " |          .. deprecated:: 1.6.0\n",
            " |              Use `eval_metric` in :py:meth:`__init__` or :py:meth:`set_params` instead.\n",
            " |      \n",
            " |      early_stopping_rounds : int\n",
            " |          .. deprecated:: 1.6.0\n",
            " |              Use `early_stopping_rounds` in :py:meth:`__init__` or\n",
            " |              :py:meth:`set_params` instead.\n",
            " |      verbose :\n",
            " |          If `verbose` is True and an evaluation set is used, the evaluation metric\n",
            " |          measured on the validation set is printed to stdout at each boosting stage.\n",
            " |          If `verbose` is an integer, the evaluation metric is printed at each `verbose`\n",
            " |          boosting stage. The last boosting stage / the boosting stage found by using\n",
            " |          `early_stopping_rounds` is also printed.\n",
            " |      xgb_model :\n",
            " |          file name of stored XGBoost model or 'Booster' instance XGBoost model to be\n",
            " |          loaded before training (allows training continuation).\n",
            " |      sample_weight_eval_set :\n",
            " |          A list of the form [L_1, L_2, ..., L_n], where each L_i is an array like\n",
            " |          object storing instance weights for the i-th validation set.\n",
            " |      base_margin_eval_set :\n",
            " |          A list of the form [M_1, M_2, ..., M_n], where each M_i is an array like\n",
            " |          object storing base margin for the i-th validation set.\n",
            " |      feature_weights :\n",
            " |          Weight for each feature, defines the probability of each feature being\n",
            " |          selected when colsample is being used.  All values must be greater than 0,\n",
            " |          otherwise a `ValueError` is thrown.\n",
            " |      \n",
            " |      callbacks :\n",
            " |          .. deprecated:: 1.6.0\n",
            " |              Use `callbacks` in :py:meth:`__init__` or :py:meth:`set_params` instead.\n",
            " |  \n",
            " |  predict(self, X: Any, output_margin: bool = False, ntree_limit: Optional[int] = None, validate_features: bool = True, base_margin: Optional[Any] = None, iteration_range: Optional[Tuple[int, int]] = None) -> numpy.ndarray\n",
            " |      Predict with `X`.  If the model is trained with early stopping, then `best_iteration`\n",
            " |      is used automatically.  For tree models, when data is on GPU, like cupy array or\n",
            " |      cuDF dataframe and `predictor` is not specified, the prediction is run on GPU\n",
            " |      automatically, otherwise it will run on CPU.\n",
            " |      \n",
            " |      .. note:: This function is only thread safe for `gbtree` and `dart`.\n",
            " |      \n",
            " |      Parameters\n",
            " |      ----------\n",
            " |      X :\n",
            " |          Data to predict with.\n",
            " |      output_margin :\n",
            " |          Whether to output the raw untransformed margin value.\n",
            " |      ntree_limit :\n",
            " |          Deprecated, use `iteration_range` instead.\n",
            " |      validate_features :\n",
            " |          When this is True, validate that the Booster's and data's feature_names are\n",
            " |          identical.  Otherwise, it is assumed that the feature_names are the same.\n",
            " |      base_margin :\n",
            " |          Margin added to prediction.\n",
            " |      iteration_range :\n",
            " |          Specifies which layer of trees are used in prediction.  For example, if a\n",
            " |          random forest is trained with 100 rounds.  Specifying ``iteration_range=(10,\n",
            " |          20)``, then only the forests built during [10, 20) (half open set) rounds\n",
            " |          are used in this prediction.\n",
            " |      \n",
            " |          .. versionadded:: 1.4.0\n",
            " |      \n",
            " |      Returns\n",
            " |      -------\n",
            " |      prediction\n",
            " |  \n",
            " |  predict_proba(self, X: Any, ntree_limit: Optional[int] = None, validate_features: bool = True, base_margin: Optional[Any] = None, iteration_range: Optional[Tuple[int, int]] = None) -> numpy.ndarray\n",
            " |      Predict the probability of each `X` example being of a given class.\n",
            " |      \n",
            " |      .. note:: This function is only thread safe for `gbtree` and `dart`.\n",
            " |      \n",
            " |      Parameters\n",
            " |      ----------\n",
            " |      X : array_like\n",
            " |          Feature matrix.\n",
            " |      ntree_limit : int\n",
            " |          Deprecated, use `iteration_range` instead.\n",
            " |      validate_features : bool\n",
            " |          When this is True, validate that the Booster's and data's feature_names are\n",
            " |          identical.  Otherwise, it is assumed that the feature_names are the same.\n",
            " |      base_margin : array_like\n",
            " |          Margin added to prediction.\n",
            " |      iteration_range :\n",
            " |          Specifies which layer of trees are used in prediction.  For example, if a\n",
            " |          random forest is trained with 100 rounds.  Specifying `iteration_range=(10,\n",
            " |          20)`, then only the forests built during [10, 20) (half open set) rounds are\n",
            " |          used in this prediction.\n",
            " |      \n",
            " |      Returns\n",
            " |      -------\n",
            " |      prediction :\n",
            " |          a numpy array of shape array-like of shape (n_samples, n_classes) with the\n",
            " |          probability of each data example being of a given class.\n",
            " |  \n",
            " |  set_fit_request(self: xgboost.sklearn.XGBClassifier, *, base_margin: Union[bool, NoneType, str] = '$UNCHANGED$', base_margin_eval_set: Union[bool, NoneType, str] = '$UNCHANGED$', callbacks: Union[bool, NoneType, str] = '$UNCHANGED$', early_stopping_rounds: Union[bool, NoneType, str] = '$UNCHANGED$', eval_metric: Union[bool, NoneType, str] = '$UNCHANGED$', eval_set: Union[bool, NoneType, str] = '$UNCHANGED$', feature_weights: Union[bool, NoneType, str] = '$UNCHANGED$', sample_weight: Union[bool, NoneType, str] = '$UNCHANGED$', sample_weight_eval_set: Union[bool, NoneType, str] = '$UNCHANGED$', verbose: Union[bool, NoneType, str] = '$UNCHANGED$', xgb_model: Union[bool, NoneType, str] = '$UNCHANGED$') -> xgboost.sklearn.XGBClassifier\n",
            " |      Request metadata passed to the ``fit`` method.\n",
            " |      \n",
            " |      Note that this method is only relevant if\n",
            " |      ``enable_metadata_routing=True`` (see :func:`sklearn.set_config`).\n",
            " |      Please see :ref:`User Guide <metadata_routing>` on how the routing\n",
            " |      mechanism works.\n",
            " |      \n",
            " |      The options for each parameter are:\n",
            " |      \n",
            " |      - ``True``: metadata is requested, and passed to ``fit`` if provided. The request is ignored if metadata is not provided.\n",
            " |      \n",
            " |      - ``False``: metadata is not requested and the meta-estimator will not pass it to ``fit``.\n",
            " |      \n",
            " |      - ``None``: metadata is not requested, and the meta-estimator will raise an error if the user provides it.\n",
            " |      \n",
            " |      - ``str``: metadata should be passed to the meta-estimator with this given alias instead of the original name.\n",
            " |      \n",
            " |      The default (``sklearn.utils.metadata_routing.UNCHANGED``) retains the\n",
            " |      existing request. This allows you to change the request for some\n",
            " |      parameters and not others.\n",
            " |      \n",
            " |      .. versionadded:: 1.3\n",
            " |      \n",
            " |      .. note::\n",
            " |          This method is only relevant if this estimator is used as a\n",
            " |          sub-estimator of a meta-estimator, e.g. used inside a\n",
            " |          :class:`pipeline.Pipeline`. Otherwise it has no effect.\n",
            " |      \n",
            " |      Parameters\n",
            " |      ----------\n",
            " |      base_margin : str, True, False, or None,                     default=sklearn.utils.metadata_routing.UNCHANGED\n",
            " |          Metadata routing for ``base_margin`` parameter in ``fit``.\n",
            " |      \n",
            " |      base_margin_eval_set : str, True, False, or None,                     default=sklearn.utils.metadata_routing.UNCHANGED\n",
            " |          Metadata routing for ``base_margin_eval_set`` parameter in ``fit``.\n",
            " |      \n",
            " |      callbacks : str, True, False, or None,                     default=sklearn.utils.metadata_routing.UNCHANGED\n",
            " |          Metadata routing for ``callbacks`` parameter in ``fit``.\n",
            " |      \n",
            " |      early_stopping_rounds : str, True, False, or None,                     default=sklearn.utils.metadata_routing.UNCHANGED\n",
            " |          Metadata routing for ``early_stopping_rounds`` parameter in ``fit``.\n",
            " |      \n",
            " |      eval_metric : str, True, False, or None,                     default=sklearn.utils.metadata_routing.UNCHANGED\n",
            " |          Metadata routing for ``eval_metric`` parameter in ``fit``.\n",
            " |      \n",
            " |      eval_set : str, True, False, or None,                     default=sklearn.utils.metadata_routing.UNCHANGED\n",
            " |          Metadata routing for ``eval_set`` parameter in ``fit``.\n",
            " |      \n",
            " |      feature_weights : str, True, False, or None,                     default=sklearn.utils.metadata_routing.UNCHANGED\n",
            " |          Metadata routing for ``feature_weights`` parameter in ``fit``.\n",
            " |      \n",
            " |      sample_weight : str, True, False, or None,                     default=sklearn.utils.metadata_routing.UNCHANGED\n",
            " |          Metadata routing for ``sample_weight`` parameter in ``fit``.\n",
            " |      \n",
            " |      sample_weight_eval_set : str, True, False, or None,                     default=sklearn.utils.metadata_routing.UNCHANGED\n",
            " |          Metadata routing for ``sample_weight_eval_set`` parameter in ``fit``.\n",
            " |      \n",
            " |      verbose : str, True, False, or None,                     default=sklearn.utils.metadata_routing.UNCHANGED\n",
            " |          Metadata routing for ``verbose`` parameter in ``fit``.\n",
            " |      \n",
            " |      xgb_model : str, True, False, or None,                     default=sklearn.utils.metadata_routing.UNCHANGED\n",
            " |          Metadata routing for ``xgb_model`` parameter in ``fit``.\n",
            " |      \n",
            " |      Returns\n",
            " |      -------\n",
            " |      self : object\n",
            " |          The updated object.\n",
            " |  \n",
            " |  set_predict_proba_request(self: xgboost.sklearn.XGBClassifier, *, base_margin: Union[bool, NoneType, str] = '$UNCHANGED$', iteration_range: Union[bool, NoneType, str] = '$UNCHANGED$', ntree_limit: Union[bool, NoneType, str] = '$UNCHANGED$', validate_features: Union[bool, NoneType, str] = '$UNCHANGED$') -> xgboost.sklearn.XGBClassifier\n",
            " |      Request metadata passed to the ``predict_proba`` method.\n",
            " |      \n",
            " |      Note that this method is only relevant if\n",
            " |      ``enable_metadata_routing=True`` (see :func:`sklearn.set_config`).\n",
            " |      Please see :ref:`User Guide <metadata_routing>` on how the routing\n",
            " |      mechanism works.\n",
            " |      \n",
            " |      The options for each parameter are:\n",
            " |      \n",
            " |      - ``True``: metadata is requested, and passed to ``predict_proba`` if provided. The request is ignored if metadata is not provided.\n",
            " |      \n",
            " |      - ``False``: metadata is not requested and the meta-estimator will not pass it to ``predict_proba``.\n",
            " |      \n",
            " |      - ``None``: metadata is not requested, and the meta-estimator will raise an error if the user provides it.\n",
            " |      \n",
            " |      - ``str``: metadata should be passed to the meta-estimator with this given alias instead of the original name.\n",
            " |      \n",
            " |      The default (``sklearn.utils.metadata_routing.UNCHANGED``) retains the\n",
            " |      existing request. This allows you to change the request for some\n",
            " |      parameters and not others.\n",
            " |      \n",
            " |      .. versionadded:: 1.3\n",
            " |      \n",
            " |      .. note::\n",
            " |          This method is only relevant if this estimator is used as a\n",
            " |          sub-estimator of a meta-estimator, e.g. used inside a\n",
            " |          :class:`pipeline.Pipeline`. Otherwise it has no effect.\n",
            " |      \n",
            " |      Parameters\n",
            " |      ----------\n",
            " |      base_margin : str, True, False, or None,                     default=sklearn.utils.metadata_routing.UNCHANGED\n",
            " |          Metadata routing for ``base_margin`` parameter in ``predict_proba``.\n",
            " |      \n",
            " |      iteration_range : str, True, False, or None,                     default=sklearn.utils.metadata_routing.UNCHANGED\n",
            " |          Metadata routing for ``iteration_range`` parameter in ``predict_proba``.\n",
            " |      \n",
            " |      ntree_limit : str, True, False, or None,                     default=sklearn.utils.metadata_routing.UNCHANGED\n",
            " |          Metadata routing for ``ntree_limit`` parameter in ``predict_proba``.\n",
            " |      \n",
            " |      validate_features : str, True, False, or None,                     default=sklearn.utils.metadata_routing.UNCHANGED\n",
            " |          Metadata routing for ``validate_features`` parameter in ``predict_proba``.\n",
            " |      \n",
            " |      Returns\n",
            " |      -------\n",
            " |      self : object\n",
            " |          The updated object.\n",
            " |  \n",
            " |  set_predict_request(self: xgboost.sklearn.XGBClassifier, *, base_margin: Union[bool, NoneType, str] = '$UNCHANGED$', iteration_range: Union[bool, NoneType, str] = '$UNCHANGED$', ntree_limit: Union[bool, NoneType, str] = '$UNCHANGED$', output_margin: Union[bool, NoneType, str] = '$UNCHANGED$', validate_features: Union[bool, NoneType, str] = '$UNCHANGED$') -> xgboost.sklearn.XGBClassifier\n",
            " |      Request metadata passed to the ``predict`` method.\n",
            " |      \n",
            " |      Note that this method is only relevant if\n",
            " |      ``enable_metadata_routing=True`` (see :func:`sklearn.set_config`).\n",
            " |      Please see :ref:`User Guide <metadata_routing>` on how the routing\n",
            " |      mechanism works.\n",
            " |      \n",
            " |      The options for each parameter are:\n",
            " |      \n",
            " |      - ``True``: metadata is requested, and passed to ``predict`` if provided. The request is ignored if metadata is not provided.\n",
            " |      \n",
            " |      - ``False``: metadata is not requested and the meta-estimator will not pass it to ``predict``.\n",
            " |      \n",
            " |      - ``None``: metadata is not requested, and the meta-estimator will raise an error if the user provides it.\n",
            " |      \n",
            " |      - ``str``: metadata should be passed to the meta-estimator with this given alias instead of the original name.\n",
            " |      \n",
            " |      The default (``sklearn.utils.metadata_routing.UNCHANGED``) retains the\n",
            " |      existing request. This allows you to change the request for some\n",
            " |      parameters and not others.\n",
            " |      \n",
            " |      .. versionadded:: 1.3\n",
            " |      \n",
            " |      .. note::\n",
            " |          This method is only relevant if this estimator is used as a\n",
            " |          sub-estimator of a meta-estimator, e.g. used inside a\n",
            " |          :class:`pipeline.Pipeline`. Otherwise it has no effect.\n",
            " |      \n",
            " |      Parameters\n",
            " |      ----------\n",
            " |      base_margin : str, True, False, or None,                     default=sklearn.utils.metadata_routing.UNCHANGED\n",
            " |          Metadata routing for ``base_margin`` parameter in ``predict``.\n",
            " |      \n",
            " |      iteration_range : str, True, False, or None,                     default=sklearn.utils.metadata_routing.UNCHANGED\n",
            " |          Metadata routing for ``iteration_range`` parameter in ``predict``.\n",
            " |      \n",
            " |      ntree_limit : str, True, False, or None,                     default=sklearn.utils.metadata_routing.UNCHANGED\n",
            " |          Metadata routing for ``ntree_limit`` parameter in ``predict``.\n",
            " |      \n",
            " |      output_margin : str, True, False, or None,                     default=sklearn.utils.metadata_routing.UNCHANGED\n",
            " |          Metadata routing for ``output_margin`` parameter in ``predict``.\n",
            " |      \n",
            " |      validate_features : str, True, False, or None,                     default=sklearn.utils.metadata_routing.UNCHANGED\n",
            " |          Metadata routing for ``validate_features`` parameter in ``predict``.\n",
            " |      \n",
            " |      Returns\n",
            " |      -------\n",
            " |      self : object\n",
            " |          The updated object.\n",
            " |  \n",
            " |  set_score_request(self: xgboost.sklearn.XGBClassifier, *, sample_weight: Union[bool, NoneType, str] = '$UNCHANGED$') -> xgboost.sklearn.XGBClassifier\n",
            " |      Request metadata passed to the ``score`` method.\n",
            " |      \n",
            " |      Note that this method is only relevant if\n",
            " |      ``enable_metadata_routing=True`` (see :func:`sklearn.set_config`).\n",
            " |      Please see :ref:`User Guide <metadata_routing>` on how the routing\n",
            " |      mechanism works.\n",
            " |      \n",
            " |      The options for each parameter are:\n",
            " |      \n",
            " |      - ``True``: metadata is requested, and passed to ``score`` if provided. The request is ignored if metadata is not provided.\n",
            " |      \n",
            " |      - ``False``: metadata is not requested and the meta-estimator will not pass it to ``score``.\n",
            " |      \n",
            " |      - ``None``: metadata is not requested, and the meta-estimator will raise an error if the user provides it.\n",
            " |      \n",
            " |      - ``str``: metadata should be passed to the meta-estimator with this given alias instead of the original name.\n",
            " |      \n",
            " |      The default (``sklearn.utils.metadata_routing.UNCHANGED``) retains the\n",
            " |      existing request. This allows you to change the request for some\n",
            " |      parameters and not others.\n",
            " |      \n",
            " |      .. versionadded:: 1.3\n",
            " |      \n",
            " |      .. note::\n",
            " |          This method is only relevant if this estimator is used as a\n",
            " |          sub-estimator of a meta-estimator, e.g. used inside a\n",
            " |          :class:`pipeline.Pipeline`. Otherwise it has no effect.\n",
            " |      \n",
            " |      Parameters\n",
            " |      ----------\n",
            " |      sample_weight : str, True, False, or None,                     default=sklearn.utils.metadata_routing.UNCHANGED\n",
            " |          Metadata routing for ``sample_weight`` parameter in ``score``.\n",
            " |      \n",
            " |      Returns\n",
            " |      -------\n",
            " |      self : object\n",
            " |          The updated object.\n",
            " |  \n",
            " |  ----------------------------------------------------------------------\n",
            " |  Methods inherited from XGBModel:\n",
            " |  \n",
            " |  __sklearn_is_fitted__(self) -> bool\n",
            " |  \n",
            " |  apply(self, X: Any, ntree_limit: int = 0, iteration_range: Optional[Tuple[int, int]] = None) -> numpy.ndarray\n",
            " |      Return the predicted leaf every tree for each sample. If the model is trained with\n",
            " |      early stopping, then `best_iteration` is used automatically.\n",
            " |      \n",
            " |      Parameters\n",
            " |      ----------\n",
            " |      X : array_like, shape=[n_samples, n_features]\n",
            " |          Input features matrix.\n",
            " |      \n",
            " |      iteration_range :\n",
            " |          See :py:meth:`predict`.\n",
            " |      \n",
            " |      ntree_limit :\n",
            " |          Deprecated, use ``iteration_range`` instead.\n",
            " |      \n",
            " |      Returns\n",
            " |      -------\n",
            " |      X_leaves : array_like, shape=[n_samples, n_trees]\n",
            " |          For each datapoint x in X and for each tree, return the index of the\n",
            " |          leaf x ends up in. Leaves are numbered within\n",
            " |          ``[0; 2**(self.max_depth+1))``, possibly with gaps in the numbering.\n",
            " |  \n",
            " |  evals_result(self) -> Dict[str, Dict[str, List[float]]]\n",
            " |      Return the evaluation results.\n",
            " |      \n",
            " |      If **eval_set** is passed to the :py:meth:`fit` function, you can call\n",
            " |      ``evals_result()`` to get evaluation results for all passed **eval_sets**.  When\n",
            " |      **eval_metric** is also passed to the :py:meth:`fit` function, the\n",
            " |      **evals_result** will contain the **eval_metrics** passed to the :py:meth:`fit`\n",
            " |      function.\n",
            " |      \n",
            " |      The returned evaluation result is a dictionary:\n",
            " |      \n",
            " |      .. code-block:: python\n",
            " |      \n",
            " |          {'validation_0': {'logloss': ['0.604835', '0.531479']},\n",
            " |           'validation_1': {'logloss': ['0.41965', '0.17686']}}\n",
            " |      \n",
            " |      Returns\n",
            " |      -------\n",
            " |      evals_result\n",
            " |  \n",
            " |  get_booster(self) -> xgboost.core.Booster\n",
            " |      Get the underlying xgboost Booster of this model.\n",
            " |      \n",
            " |      This will raise an exception when fit was not called\n",
            " |      \n",
            " |      Returns\n",
            " |      -------\n",
            " |      booster : a xgboost booster of underlying model\n",
            " |  \n",
            " |  get_num_boosting_rounds(self) -> int\n",
            " |      Gets the number of xgboost boosting rounds.\n",
            " |  \n",
            " |  get_params(self, deep: bool = True) -> Dict[str, Any]\n",
            " |      Get parameters.\n",
            " |  \n",
            " |  get_xgb_params(self) -> Dict[str, Any]\n",
            " |      Get xgboost specific parameters.\n",
            " |  \n",
            " |  load_model(self, fname: Union[str, bytearray, os.PathLike]) -> None\n",
            " |      Load the model from a file or bytearray. Path to file can be local\n",
            " |      or as an URI.\n",
            " |      \n",
            " |      The model is loaded from XGBoost format which is universal among the various\n",
            " |      XGBoost interfaces. Auxiliary attributes of the Python Booster object (such as\n",
            " |      feature_names) will not be loaded when using binary format.  To save those\n",
            " |      attributes, use JSON/UBJ instead.  See :doc:`Model IO </tutorials/saving_model>`\n",
            " |      for more info.\n",
            " |      \n",
            " |      .. code-block:: python\n",
            " |      \n",
            " |        model.load_model(\"model.json\")\n",
            " |        # or\n",
            " |        model.load_model(\"model.ubj\")\n",
            " |      \n",
            " |      Parameters\n",
            " |      ----------\n",
            " |      fname :\n",
            " |          Input file name or memory buffer(see also save_raw)\n",
            " |  \n",
            " |  save_model(self, fname: Union[str, os.PathLike]) -> None\n",
            " |      Save the model to a file.\n",
            " |      \n",
            " |      The model is saved in an XGBoost internal format which is universal among the\n",
            " |      various XGBoost interfaces. Auxiliary attributes of the Python Booster object\n",
            " |      (such as feature_names) will not be saved when using binary format.  To save\n",
            " |      those attributes, use JSON/UBJ instead. See :doc:`Model IO\n",
            " |      </tutorials/saving_model>` for more info.\n",
            " |      \n",
            " |      .. code-block:: python\n",
            " |      \n",
            " |        model.save_model(\"model.json\")\n",
            " |        # or\n",
            " |        model.save_model(\"model.ubj\")\n",
            " |      \n",
            " |      Parameters\n",
            " |      ----------\n",
            " |      fname : string or os.PathLike\n",
            " |          Output file name\n",
            " |  \n",
            " |  set_params(self, **params: Any) -> 'XGBModel'\n",
            " |      Set the parameters of this estimator.  Modification of the sklearn method to\n",
            " |      allow unknown kwargs. This allows using the full range of xgboost\n",
            " |      parameters that are not defined as member variables in sklearn grid\n",
            " |      search.\n",
            " |      \n",
            " |      Returns\n",
            " |      -------\n",
            " |      self\n",
            " |  \n",
            " |  ----------------------------------------------------------------------\n",
            " |  Readonly properties inherited from XGBModel:\n",
            " |  \n",
            " |  best_iteration\n",
            " |      The best iteration obtained by early stopping.  This attribute is 0-based,\n",
            " |      for instance if the best iteration is the first round, then best_iteration is 0.\n",
            " |  \n",
            " |  best_ntree_limit\n",
            " |  \n",
            " |  best_score\n",
            " |      The best score obtained by early stopping.\n",
            " |  \n",
            " |  coef_\n",
            " |      Coefficients property\n",
            " |      \n",
            " |      .. note:: Coefficients are defined only for linear learners\n",
            " |      \n",
            " |          Coefficients are only defined when the linear model is chosen as\n",
            " |          base learner (`booster=gblinear`). It is not defined for other base\n",
            " |          learner types, such as tree learners (`booster=gbtree`).\n",
            " |      \n",
            " |      Returns\n",
            " |      -------\n",
            " |      coef_ : array of shape ``[n_features]`` or ``[n_classes, n_features]``\n",
            " |  \n",
            " |  feature_importances_\n",
            " |      Feature importances property, return depends on `importance_type`\n",
            " |      parameter. When model trained with multi-class/multi-label/multi-target dataset,\n",
            " |      the feature importance is \"averaged\" over all targets. The \"average\" is defined\n",
            " |      based on the importance type. For instance, if the importance type is\n",
            " |      \"total_gain\", then the score is sum of loss change for each split from all\n",
            " |      trees.\n",
            " |      \n",
            " |      Returns\n",
            " |      -------\n",
            " |      feature_importances_ : array of shape ``[n_features]`` except for multi-class\n",
            " |      linear model, which returns an array with shape `(n_features, n_classes)`\n",
            " |  \n",
            " |  feature_names_in_\n",
            " |      Names of features seen during :py:meth:`fit`.  Defined only when `X` has feature\n",
            " |      names that are all strings.\n",
            " |  \n",
            " |  intercept_\n",
            " |      Intercept (bias) property\n",
            " |      \n",
            " |      .. note:: Intercept is defined only for linear learners\n",
            " |      \n",
            " |          Intercept (bias) is only defined when the linear model is chosen as base\n",
            " |          learner (`booster=gblinear`). It is not defined for other base learner types,\n",
            " |          such as tree learners (`booster=gbtree`).\n",
            " |      \n",
            " |      Returns\n",
            " |      -------\n",
            " |      intercept_ : array of shape ``(1,)`` or ``[n_classes]``\n",
            " |  \n",
            " |  n_features_in_\n",
            " |      Number of features seen during :py:meth:`fit`.\n",
            " |  \n",
            " |  ----------------------------------------------------------------------\n",
            " |  Methods inherited from sklearn.base.BaseEstimator:\n",
            " |  \n",
            " |  __getstate__(self)\n",
            " |  \n",
            " |  __repr__(self, N_CHAR_MAX=700)\n",
            " |      Return repr(self).\n",
            " |  \n",
            " |  __setstate__(self, state)\n",
            " |  \n",
            " |  __sklearn_clone__(self)\n",
            " |  \n",
            " |  ----------------------------------------------------------------------\n",
            " |  Methods inherited from sklearn.utils._metadata_requests._MetadataRequester:\n",
            " |  \n",
            " |  get_metadata_routing(self)\n",
            " |      Get metadata routing of this object.\n",
            " |      \n",
            " |      Please check :ref:`User Guide <metadata_routing>` on how the routing\n",
            " |      mechanism works.\n",
            " |      \n",
            " |      Returns\n",
            " |      -------\n",
            " |      routing : MetadataRequest\n",
            " |          A :class:`~utils.metadata_routing.MetadataRequest` encapsulating\n",
            " |          routing information.\n",
            " |  \n",
            " |  ----------------------------------------------------------------------\n",
            " |  Class methods inherited from sklearn.utils._metadata_requests._MetadataRequester:\n",
            " |  \n",
            " |  __init_subclass__(**kwargs) from builtins.type\n",
            " |      Set the ``set_{method}_request`` methods.\n",
            " |      \n",
            " |      This uses PEP-487 [1]_ to set the ``set_{method}_request`` methods. It\n",
            " |      looks for the information available in the set default values which are\n",
            " |      set using ``__metadata_request__*`` class attributes, or inferred\n",
            " |      from method signatures.\n",
            " |      \n",
            " |      The ``__metadata_request__*`` class attributes are used when a method\n",
            " |      does not explicitly accept a metadata through its arguments or if the\n",
            " |      developer would like to specify a request value for those metadata\n",
            " |      which are different from the default ``None``.\n",
            " |      \n",
            " |      References\n",
            " |      ----------\n",
            " |      .. [1] https://www.python.org/dev/peps/pep-0487\n",
            " |  \n",
            " |  ----------------------------------------------------------------------\n",
            " |  Data descriptors inherited from sklearn.utils._metadata_requests._MetadataRequester:\n",
            " |  \n",
            " |  __dict__\n",
            " |      dictionary for instance variables (if defined)\n",
            " |  \n",
            " |  __weakref__\n",
            " |      list of weak references to the object (if defined)\n",
            " |  \n",
            " |  ----------------------------------------------------------------------\n",
            " |  Methods inherited from sklearn.base.ClassifierMixin:\n",
            " |  \n",
            " |  score(self, X, y, sample_weight=None)\n",
            " |      Return the mean accuracy on the given test data and labels.\n",
            " |      \n",
            " |      In multi-label classification, this is the subset accuracy\n",
            " |      which is a harsh metric since you require for each sample that\n",
            " |      each label set be correctly predicted.\n",
            " |      \n",
            " |      Parameters\n",
            " |      ----------\n",
            " |      X : array-like of shape (n_samples, n_features)\n",
            " |          Test samples.\n",
            " |      \n",
            " |      y : array-like of shape (n_samples,) or (n_samples, n_outputs)\n",
            " |          True labels for `X`.\n",
            " |      \n",
            " |      sample_weight : array-like of shape (n_samples,), default=None\n",
            " |          Sample weights.\n",
            " |      \n",
            " |      Returns\n",
            " |      -------\n",
            " |      score : float\n",
            " |          Mean accuracy of ``self.predict(X)`` w.r.t. `y`.\n",
            "\n"
          ]
        }
      ],
      "source": [
        "from xgboost import XGBClassifier\n",
        "help(XGBClassifier)"
      ]
    },
    {
      "cell_type": "markdown",
      "metadata": {
        "id": "RGbGjsjuAJC9"
      },
      "source": [
        "Обучим модель."
      ]
    },
    {
      "cell_type": "code",
      "execution_count": null,
      "metadata": {
        "id": "U5a-b4sXAJC9",
        "outputId": "b1d28328-e0a0-4a86-881f-281365fb0750"
      },
      "outputs": [
        {
          "data": {
            "text/html": [
              "<style>#sk-container-id-28 {color: black;}#sk-container-id-28 pre{padding: 0;}#sk-container-id-28 div.sk-toggleable {background-color: white;}#sk-container-id-28 label.sk-toggleable__label {cursor: pointer;display: block;width: 100%;margin-bottom: 0;padding: 0.3em;box-sizing: border-box;text-align: center;}#sk-container-id-28 label.sk-toggleable__label-arrow:before {content: \"▸\";float: left;margin-right: 0.25em;color: #696969;}#sk-container-id-28 label.sk-toggleable__label-arrow:hover:before {color: black;}#sk-container-id-28 div.sk-estimator:hover label.sk-toggleable__label-arrow:before {color: black;}#sk-container-id-28 div.sk-toggleable__content {max-height: 0;max-width: 0;overflow: hidden;text-align: left;background-color: #f0f8ff;}#sk-container-id-28 div.sk-toggleable__content pre {margin: 0.2em;color: black;border-radius: 0.25em;background-color: #f0f8ff;}#sk-container-id-28 input.sk-toggleable__control:checked~div.sk-toggleable__content {max-height: 200px;max-width: 100%;overflow: auto;}#sk-container-id-28 input.sk-toggleable__control:checked~label.sk-toggleable__label-arrow:before {content: \"▾\";}#sk-container-id-28 div.sk-estimator input.sk-toggleable__control:checked~label.sk-toggleable__label {background-color: #d4ebff;}#sk-container-id-28 div.sk-label input.sk-toggleable__control:checked~label.sk-toggleable__label {background-color: #d4ebff;}#sk-container-id-28 input.sk-hidden--visually {border: 0;clip: rect(1px 1px 1px 1px);clip: rect(1px, 1px, 1px, 1px);height: 1px;margin: -1px;overflow: hidden;padding: 0;position: absolute;width: 1px;}#sk-container-id-28 div.sk-estimator {font-family: monospace;background-color: #f0f8ff;border: 1px dotted black;border-radius: 0.25em;box-sizing: border-box;margin-bottom: 0.5em;}#sk-container-id-28 div.sk-estimator:hover {background-color: #d4ebff;}#sk-container-id-28 div.sk-parallel-item::after {content: \"\";width: 100%;border-bottom: 1px solid gray;flex-grow: 1;}#sk-container-id-28 div.sk-label:hover label.sk-toggleable__label {background-color: #d4ebff;}#sk-container-id-28 div.sk-serial::before {content: \"\";position: absolute;border-left: 1px solid gray;box-sizing: border-box;top: 0;bottom: 0;left: 50%;z-index: 0;}#sk-container-id-28 div.sk-serial {display: flex;flex-direction: column;align-items: center;background-color: white;padding-right: 0.2em;padding-left: 0.2em;position: relative;}#sk-container-id-28 div.sk-item {position: relative;z-index: 1;}#sk-container-id-28 div.sk-parallel {display: flex;align-items: stretch;justify-content: center;background-color: white;position: relative;}#sk-container-id-28 div.sk-item::before, #sk-container-id-28 div.sk-parallel-item::before {content: \"\";position: absolute;border-left: 1px solid gray;box-sizing: border-box;top: 0;bottom: 0;left: 50%;z-index: -1;}#sk-container-id-28 div.sk-parallel-item {display: flex;flex-direction: column;z-index: 1;position: relative;background-color: white;}#sk-container-id-28 div.sk-parallel-item:first-child::after {align-self: flex-end;width: 50%;}#sk-container-id-28 div.sk-parallel-item:last-child::after {align-self: flex-start;width: 50%;}#sk-container-id-28 div.sk-parallel-item:only-child::after {width: 0;}#sk-container-id-28 div.sk-dashed-wrapped {border: 1px dashed gray;margin: 0 0.4em 0.5em 0.4em;box-sizing: border-box;padding-bottom: 0.4em;background-color: white;}#sk-container-id-28 div.sk-label label {font-family: monospace;font-weight: bold;display: inline-block;line-height: 1.2em;}#sk-container-id-28 div.sk-label-container {text-align: center;}#sk-container-id-28 div.sk-container {/* jupyter's `normalize.less` sets `[hidden] { display: none; }` but bootstrap.min.css set `[hidden] { display: none !important; }` so we also need the `!important` here to be able to override the default hidden behavior on the sphinx rendered scikit-learn.org. See: https://github.com/scikit-learn/scikit-learn/issues/21755 */display: inline-block !important;position: relative;}#sk-container-id-28 div.sk-text-repr-fallback {display: none;}</style><div id=\"sk-container-id-28\" class=\"sk-top-container\"><div class=\"sk-text-repr-fallback\"><pre>XGBClassifier(base_score=None, booster=None, callbacks=None,\n",
              "              colsample_bylevel=None, colsample_bynode=None,\n",
              "              colsample_bytree=None, early_stopping_rounds=None,\n",
              "              enable_categorical=False, eval_metric=None, feature_types=None,\n",
              "              gamma=None, gpu_id=None, grow_policy=None, importance_type=None,\n",
              "              interaction_constraints=None, learning_rate=None, max_bin=None,\n",
              "              max_cat_threshold=None, max_cat_to_onehot=None,\n",
              "              max_delta_step=None, max_depth=None, max_leaves=None,\n",
              "              min_child_weight=None, missing=nan, monotone_constraints=None,\n",
              "              n_estimators=100, n_jobs=None, num_parallel_tree=None,\n",
              "              objective=&#x27;multi:softprob&#x27;, predictor=None, ...)</pre><b>In a Jupyter environment, please rerun this cell to show the HTML representation or trust the notebook. <br />On GitHub, the HTML representation is unable to render, please try loading this page with nbviewer.org.</b></div><div class=\"sk-container\" hidden><div class=\"sk-item\"><div class=\"sk-estimator sk-toggleable\"><input class=\"sk-toggleable__control sk-hidden--visually\" id=\"sk-estimator-id-46\" type=\"checkbox\" checked><label for=\"sk-estimator-id-46\" class=\"sk-toggleable__label sk-toggleable__label-arrow\">XGBClassifier</label><div class=\"sk-toggleable__content\"><pre>XGBClassifier(base_score=None, booster=None, callbacks=None,\n",
              "              colsample_bylevel=None, colsample_bynode=None,\n",
              "              colsample_bytree=None, early_stopping_rounds=None,\n",
              "              enable_categorical=False, eval_metric=None, feature_types=None,\n",
              "              gamma=None, gpu_id=None, grow_policy=None, importance_type=None,\n",
              "              interaction_constraints=None, learning_rate=None, max_bin=None,\n",
              "              max_cat_threshold=None, max_cat_to_onehot=None,\n",
              "              max_delta_step=None, max_depth=None, max_leaves=None,\n",
              "              min_child_weight=None, missing=nan, monotone_constraints=None,\n",
              "              n_estimators=100, n_jobs=None, num_parallel_tree=None,\n",
              "              objective=&#x27;multi:softprob&#x27;, predictor=None, ...)</pre></div></div></div></div></div>"
            ],
            "text/plain": [
              "XGBClassifier(base_score=None, booster=None, callbacks=None,\n",
              "              colsample_bylevel=None, colsample_bynode=None,\n",
              "              colsample_bytree=None, early_stopping_rounds=None,\n",
              "              enable_categorical=False, eval_metric=None, feature_types=None,\n",
              "              gamma=None, gpu_id=None, grow_policy=None, importance_type=None,\n",
              "              interaction_constraints=None, learning_rate=None, max_bin=None,\n",
              "              max_cat_threshold=None, max_cat_to_onehot=None,\n",
              "              max_delta_step=None, max_depth=None, max_leaves=None,\n",
              "              min_child_weight=None, missing=nan, monotone_constraints=None,\n",
              "              n_estimators=100, n_jobs=None, num_parallel_tree=None,\n",
              "              objective='multi:softprob', predictor=None, ...)"
            ]
          },
          "execution_count": 154,
          "metadata": {},
          "output_type": "execute_result"
        }
      ],
      "source": [
        "boost = XGBClassifier(random_state=40)\n",
        "boost.fit(feat_train, tar_train)"
      ]
    },
    {
      "cell_type": "markdown",
      "metadata": {
        "id": "OmE-9VMuAJC9"
      },
      "source": [
        "Оценим точность классификации по взвешенной _f1-мере_"
      ]
    },
    {
      "cell_type": "code",
      "execution_count": null,
      "metadata": {
        "id": "MNU8nM8aAJC-",
        "outputId": "2a21b666-60a8-47de-e24a-a7147bcf99c9"
      },
      "outputs": [
        {
          "data": {
            "text/plain": [
              "0.9891705069124425"
            ]
          },
          "execution_count": 155,
          "metadata": {},
          "output_type": "execute_result"
        }
      ],
      "source": [
        "preds = boost.predict(feat_test)\n",
        "mk.f1_score(preds, tar_test, average=\"weighted\")"
      ]
    },
    {
      "cell_type": "markdown",
      "metadata": {
        "id": "uDWSxXm7AJC-"
      },
      "source": [
        "Рассмотрим подробнее матрицу классификации"
      ]
    },
    {
      "cell_type": "code",
      "execution_count": null,
      "metadata": {
        "id": "UGkrW3HsAJC-",
        "outputId": "e79fdbf4-a67c-4c23-bade-ca96dc1ad435"
      },
      "outputs": [
        {
          "data": {
            "image/png": "[encoded data removed]",
            "text/plain": [
              "<Figure size 640x480 with 2 Axes>"
            ]
          },
          "metadata": {},
          "output_type": "display_data"
        }
      ],
      "source": [
        "from sklearn import metrics as mk\n",
        "mk.ConfusionMatrixDisplay.from_estimator(boost, feat_test, tar_test);"
      ]
    },
    {
      "cell_type": "markdown",
      "metadata": {
        "id": "WqgmBy_VAJC_"
      },
      "source": [
        "Можно заметить, без оптимизации парамеров алгоритм показывает более высокую точность по сравнению с _RandomForestClassifier_ и _Decision Trees_"
      ]
    },
    {
      "cell_type": "markdown",
      "metadata": {
        "id": "eseok5UcAJC_"
      },
      "source": [
        "### **[Задание 1]**\n",
        "\n",
        "Найдите два наиболее важных признака, согласно модели."
      ]
    },
    {
      "cell_type": "code",
      "execution_count": null,
      "metadata": {
        "id": "EDPc9n95AJC_"
      },
      "outputs": [],
      "source": [
        "# Решение"
      ]
    },
    {
      "cell_type": "code",
      "execution_count": null,
      "metadata": {
        "id": "nDa3_8qpAJC_"
      },
      "outputs": [],
      "source": []
    },
    {
      "cell_type": "markdown",
      "metadata": {
        "id": "ox4nZyxrAJC_"
      },
      "source": [
        "# Классификация кошек и собак"
      ]
    },
    {
      "cell_type": "markdown",
      "source": [
        "Вернемся к задаче классификации фотографий кошек и собак. Ниже представлен код для обработки изображений из более ранней практики."
      ],
      "metadata": {
        "id": "wc0yvt-TAXIC"
      }
    },
    {
      "cell_type": "code",
      "execution_count": null,
      "metadata": {
        "id": "mEnprrA1AJDA"
      },
      "outputs": [],
      "source": [
        "from sklearn.preprocessing import LabelEncoder\n",
        "from IPython.display import Image, display\n",
        "from imutils import paths\n",
        "\n",
        "import cv2\n",
        "import os\n",
        "\n",
        "def get_hist(image, bins=(8, 8, 8)):\n",
        "    hist = cv2.calcHist([image], [0, 1, 2], None, bins, [0, 256, 0, 256, 0, 256])\n",
        "    cv2.normalize(hist, hist)\n",
        "    return hist.flatten()\n",
        "\n",
        "imagePaths = sorted(list(paths.list_images('train')))\n",
        "data = []\n",
        "labels = []\n",
        "\n",
        "for (i, imagePath) in enumerate(imagePaths):\n",
        "    image = cv2.imread(imagePath, 1)\n",
        "    label = imagePath.split(os.path.sep)[-1].split(\".\")[0]\n",
        "    hist = get_hist(image)\n",
        "    data.append(hist)\n",
        "    labels.append(label)\n",
        "\n",
        "le = LabelEncoder()\n",
        "labels = le.fit_transform(labels)"
      ]
    },
    {
      "cell_type": "markdown",
      "source": [
        "Разбиение набора данных на тестовую и обучающую выборки"
      ],
      "metadata": {
        "id": "8IhjTOwEAlPU"
      }
    },
    {
      "cell_type": "code",
      "execution_count": null,
      "metadata": {
        "id": "2TXngta3AJDA"
      },
      "outputs": [],
      "source": [
        "import numpy as np\n",
        "feat_train, feat_test, tar_train, tar_test = train_test_split(np.array(data), labels, test_size=0.25, random_state=40)"
      ]
    },
    {
      "cell_type": "markdown",
      "source": [
        "Обучение модели"
      ],
      "metadata": {
        "id": "bNzqxxCzApw5"
      }
    },
    {
      "cell_type": "code",
      "execution_count": null,
      "metadata": {
        "id": "jJsTAeMVAJDA",
        "outputId": "1d69324b-421d-426b-ff7d-860056662cf1"
      },
      "outputs": [
        {
          "data": {
            "text/html": [
              "<style>#sk-container-id-29 {color: black;}#sk-container-id-29 pre{padding: 0;}#sk-container-id-29 div.sk-toggleable {background-color: white;}#sk-container-id-29 label.sk-toggleable__label {cursor: pointer;display: block;width: 100%;margin-bottom: 0;padding: 0.3em;box-sizing: border-box;text-align: center;}#sk-container-id-29 label.sk-toggleable__label-arrow:before {content: \"▸\";float: left;margin-right: 0.25em;color: #696969;}#sk-container-id-29 label.sk-toggleable__label-arrow:hover:before {color: black;}#sk-container-id-29 div.sk-estimator:hover label.sk-toggleable__label-arrow:before {color: black;}#sk-container-id-29 div.sk-toggleable__content {max-height: 0;max-width: 0;overflow: hidden;text-align: left;background-color: #f0f8ff;}#sk-container-id-29 div.sk-toggleable__content pre {margin: 0.2em;color: black;border-radius: 0.25em;background-color: #f0f8ff;}#sk-container-id-29 input.sk-toggleable__control:checked~div.sk-toggleable__content {max-height: 200px;max-width: 100%;overflow: auto;}#sk-container-id-29 input.sk-toggleable__control:checked~label.sk-toggleable__label-arrow:before {content: \"▾\";}#sk-container-id-29 div.sk-estimator input.sk-toggleable__control:checked~label.sk-toggleable__label {background-color: #d4ebff;}#sk-container-id-29 div.sk-label input.sk-toggleable__control:checked~label.sk-toggleable__label {background-color: #d4ebff;}#sk-container-id-29 input.sk-hidden--visually {border: 0;clip: rect(1px 1px 1px 1px);clip: rect(1px, 1px, 1px, 1px);height: 1px;margin: -1px;overflow: hidden;padding: 0;position: absolute;width: 1px;}#sk-container-id-29 div.sk-estimator {font-family: monospace;background-color: #f0f8ff;border: 1px dotted black;border-radius: 0.25em;box-sizing: border-box;margin-bottom: 0.5em;}#sk-container-id-29 div.sk-estimator:hover {background-color: #d4ebff;}#sk-container-id-29 div.sk-parallel-item::after {content: \"\";width: 100%;border-bottom: 1px solid gray;flex-grow: 1;}#sk-container-id-29 div.sk-label:hover label.sk-toggleable__label {background-color: #d4ebff;}#sk-container-id-29 div.sk-serial::before {content: \"\";position: absolute;border-left: 1px solid gray;box-sizing: border-box;top: 0;bottom: 0;left: 50%;z-index: 0;}#sk-container-id-29 div.sk-serial {display: flex;flex-direction: column;align-items: center;background-color: white;padding-right: 0.2em;padding-left: 0.2em;position: relative;}#sk-container-id-29 div.sk-item {position: relative;z-index: 1;}#sk-container-id-29 div.sk-parallel {display: flex;align-items: stretch;justify-content: center;background-color: white;position: relative;}#sk-container-id-29 div.sk-item::before, #sk-container-id-29 div.sk-parallel-item::before {content: \"\";position: absolute;border-left: 1px solid gray;box-sizing: border-box;top: 0;bottom: 0;left: 50%;z-index: -1;}#sk-container-id-29 div.sk-parallel-item {display: flex;flex-direction: column;z-index: 1;position: relative;background-color: white;}#sk-container-id-29 div.sk-parallel-item:first-child::after {align-self: flex-end;width: 50%;}#sk-container-id-29 div.sk-parallel-item:last-child::after {align-self: flex-start;width: 50%;}#sk-container-id-29 div.sk-parallel-item:only-child::after {width: 0;}#sk-container-id-29 div.sk-dashed-wrapped {border: 1px dashed gray;margin: 0 0.4em 0.5em 0.4em;box-sizing: border-box;padding-bottom: 0.4em;background-color: white;}#sk-container-id-29 div.sk-label label {font-family: monospace;font-weight: bold;display: inline-block;line-height: 1.2em;}#sk-container-id-29 div.sk-label-container {text-align: center;}#sk-container-id-29 div.sk-container {/* jupyter's `normalize.less` sets `[hidden] { display: none; }` but bootstrap.min.css set `[hidden] { display: none !important; }` so we also need the `!important` here to be able to override the default hidden behavior on the sphinx rendered scikit-learn.org. See: https://github.com/scikit-learn/scikit-learn/issues/21755 */display: inline-block !important;position: relative;}#sk-container-id-29 div.sk-text-repr-fallback {display: none;}</style><div id=\"sk-container-id-29\" class=\"sk-top-container\"><div class=\"sk-text-repr-fallback\"><pre>XGBClassifier(base_score=None, booster=None, callbacks=None,\n",
              "              colsample_bylevel=None, colsample_bynode=None,\n",
              "              colsample_bytree=None, early_stopping_rounds=None,\n",
              "              enable_categorical=False, eval_metric=None, feature_types=None,\n",
              "              gamma=None, gpu_id=None, grow_policy=None, importance_type=None,\n",
              "              interaction_constraints=None, learning_rate=None, max_bin=None,\n",
              "              max_cat_threshold=None, max_cat_to_onehot=None,\n",
              "              max_delta_step=None, max_depth=None, max_leaves=None,\n",
              "              min_child_weight=None, missing=nan, monotone_constraints=None,\n",
              "              n_estimators=100, n_jobs=None, num_parallel_tree=None,\n",
              "              predictor=None, random_state=40, ...)</pre><b>In a Jupyter environment, please rerun this cell to show the HTML representation or trust the notebook. <br />On GitHub, the HTML representation is unable to render, please try loading this page with nbviewer.org.</b></div><div class=\"sk-container\" hidden><div class=\"sk-item\"><div class=\"sk-estimator sk-toggleable\"><input class=\"sk-toggleable__control sk-hidden--visually\" id=\"sk-estimator-id-47\" type=\"checkbox\" checked><label for=\"sk-estimator-id-47\" class=\"sk-toggleable__label sk-toggleable__label-arrow\">XGBClassifier</label><div class=\"sk-toggleable__content\"><pre>XGBClassifier(base_score=None, booster=None, callbacks=None,\n",
              "              colsample_bylevel=None, colsample_bynode=None,\n",
              "              colsample_bytree=None, early_stopping_rounds=None,\n",
              "              enable_categorical=False, eval_metric=None, feature_types=None,\n",
              "              gamma=None, gpu_id=None, grow_policy=None, importance_type=None,\n",
              "              interaction_constraints=None, learning_rate=None, max_bin=None,\n",
              "              max_cat_threshold=None, max_cat_to_onehot=None,\n",
              "              max_delta_step=None, max_depth=None, max_leaves=None,\n",
              "              min_child_weight=None, missing=nan, monotone_constraints=None,\n",
              "              n_estimators=100, n_jobs=None, num_parallel_tree=None,\n",
              "              predictor=None, random_state=40, ...)</pre></div></div></div></div></div>"
            ],
            "text/plain": [
              "XGBClassifier(base_score=None, booster=None, callbacks=None,\n",
              "              colsample_bylevel=None, colsample_bynode=None,\n",
              "              colsample_bytree=None, early_stopping_rounds=None,\n",
              "              enable_categorical=False, eval_metric=None, feature_types=None,\n",
              "              gamma=None, gpu_id=None, grow_policy=None, importance_type=None,\n",
              "              interaction_constraints=None, learning_rate=None, max_bin=None,\n",
              "              max_cat_threshold=None, max_cat_to_onehot=None,\n",
              "              max_delta_step=None, max_depth=None, max_leaves=None,\n",
              "              min_child_weight=None, missing=nan, monotone_constraints=None,\n",
              "              n_estimators=100, n_jobs=None, num_parallel_tree=None,\n",
              "              predictor=None, random_state=40, ...)"
            ]
          },
          "execution_count": 160,
          "metadata": {},
          "output_type": "execute_result"
        }
      ],
      "source": [
        "model = XGBClassifier(random_state = 40)\n",
        "model.fit(feat_train, tar_train)"
      ]
    },
    {
      "cell_type": "markdown",
      "source": [
        "Развернутая оценка точности классификации"
      ],
      "metadata": {
        "id": "GJHucTDiAsae"
      }
    },
    {
      "cell_type": "code",
      "execution_count": null,
      "metadata": {
        "id": "3YSbUJ_5AJDA",
        "outputId": "bbab0b0f-8d4b-4588-9110-effb1f5e06a3"
      },
      "outputs": [
        {
          "name": "stdout",
          "output_type": "stream",
          "text": [
            "              precision    recall  f1-score   support\n",
            "\n",
            "           0       0.75      0.69      0.72        13\n",
            "           1       0.69      0.75      0.72        12\n",
            "\n",
            "    accuracy                           0.72        25\n",
            "   macro avg       0.72      0.72      0.72        25\n",
            "weighted avg       0.72      0.72      0.72        25\n",
            "\n"
          ]
        }
      ],
      "source": [
        "predictions = model.predict(feat_test)\n",
        "print(mk.classification_report(tar_test, predictions))"
      ]
    },
    {
      "cell_type": "markdown",
      "metadata": {
        "id": "lRJvmlhpAJDB"
      },
      "source": [
        "### **[Задание 2]**\n",
        "\n",
        "Обучите модель на основе _SVC_ алгоритма при параметрах по умолчанию за исключением _random_state = 40_. Найдите разницу в значениях метрики *`f1_score`* между моделями основанными на _SVC_ и _XGBClassifier_."
      ]
    },
    {
      "cell_type": "code",
      "execution_count": null,
      "metadata": {
        "id": "NqP4X1BaAJDB"
      },
      "outputs": [],
      "source": [
        "# Решение"
      ]
    },
    {
      "cell_type": "markdown",
      "metadata": {
        "id": "XQ5UXZ6IAJDB"
      },
      "source": [
        "### **[Задание 3]**\n",
        "\n",
        "Определите, к какому классу отнесет модель, основанная на `XGBClassifier`, изображение `cat.12499.jpg`"
      ]
    },
    {
      "cell_type": "code",
      "execution_count": null,
      "metadata": {
        "id": "DXph6MQfAJDC"
      },
      "outputs": [],
      "source": [
        "# Решение"
      ]
    },
    {
      "cell_type": "markdown",
      "metadata": {
        "id": "kAzKfGzvAJDC"
      },
      "source": [
        "# Градиентный бустинг - Регрессия"
      ]
    },
    {
      "cell_type": "markdown",
      "metadata": {
        "id": "qkvBzYTJAJDC"
      },
      "source": [
        "Градиентный бустинг можно использовать не только для классификации, но и регрессии. На основе [набора данных](https://www.kaggle.com/datasets/mayankpatel14/second-hand-used-cars-data-set-linear-regression) рассмотрим применение алгоритма.\n",
        "\n",
        "\n",
        "**Наша цель - создать модель, которая поможет нам определять примерную стоимость собственного автомобиля на основе имеющейся информации без привлечения опытного оценщика**\n"
      ]
    },
    {
      "cell_type": "markdown",
      "metadata": {
        "id": "fXvzfr9EAJDD"
      },
      "source": [
        "Импорт данных"
      ]
    },
    {
      "cell_type": "code",
      "execution_count": null,
      "metadata": {
        "id": "6FLhnTIBAJDD",
        "outputId": "0d003ac6-0970-4f7e-c368-b2cd6dfb3154"
      },
      "outputs": [
        {
          "data": {
            "text/html": [
              "<div>\n",
              "<style scoped>\n",
              "    .dataframe tbody tr th:only-of-type {\n",
              "        vertical-align: middle;\n",
              "    }\n",
              "\n",
              "    .dataframe tbody tr th {\n",
              "        vertical-align: top;\n",
              "    }\n",
              "\n",
              "    .dataframe thead th {\n",
              "        text-align: right;\n",
              "    }\n",
              "</style>\n",
              "<table border=\"1\" class=\"dataframe\">\n",
              "  <thead>\n",
              "    <tr style=\"text-align: right;\">\n",
              "      <th></th>\n",
              "      <th>on road old</th>\n",
              "      <th>on road now</th>\n",
              "      <th>years</th>\n",
              "      <th>km</th>\n",
              "      <th>rating</th>\n",
              "      <th>condition</th>\n",
              "      <th>economy</th>\n",
              "      <th>top speed</th>\n",
              "      <th>hp</th>\n",
              "      <th>torque</th>\n",
              "      <th>current price</th>\n",
              "    </tr>\n",
              "  </thead>\n",
              "  <tbody>\n",
              "    <tr>\n",
              "      <th>0</th>\n",
              "      <td>535651</td>\n",
              "      <td>798186</td>\n",
              "      <td>3</td>\n",
              "      <td>78945</td>\n",
              "      <td>1</td>\n",
              "      <td>2</td>\n",
              "      <td>14</td>\n",
              "      <td>177</td>\n",
              "      <td>73</td>\n",
              "      <td>123</td>\n",
              "      <td>351318.0</td>\n",
              "    </tr>\n",
              "    <tr>\n",
              "      <th>1</th>\n",
              "      <td>591911</td>\n",
              "      <td>861056</td>\n",
              "      <td>6</td>\n",
              "      <td>117220</td>\n",
              "      <td>5</td>\n",
              "      <td>9</td>\n",
              "      <td>9</td>\n",
              "      <td>148</td>\n",
              "      <td>74</td>\n",
              "      <td>95</td>\n",
              "      <td>285001.5</td>\n",
              "    </tr>\n",
              "    <tr>\n",
              "      <th>2</th>\n",
              "      <td>686990</td>\n",
              "      <td>770762</td>\n",
              "      <td>2</td>\n",
              "      <td>132538</td>\n",
              "      <td>2</td>\n",
              "      <td>8</td>\n",
              "      <td>15</td>\n",
              "      <td>181</td>\n",
              "      <td>53</td>\n",
              "      <td>97</td>\n",
              "      <td>215386.0</td>\n",
              "    </tr>\n",
              "    <tr>\n",
              "      <th>3</th>\n",
              "      <td>573999</td>\n",
              "      <td>722381</td>\n",
              "      <td>4</td>\n",
              "      <td>101065</td>\n",
              "      <td>4</td>\n",
              "      <td>3</td>\n",
              "      <td>11</td>\n",
              "      <td>197</td>\n",
              "      <td>54</td>\n",
              "      <td>116</td>\n",
              "      <td>244295.5</td>\n",
              "    </tr>\n",
              "    <tr>\n",
              "      <th>4</th>\n",
              "      <td>691388</td>\n",
              "      <td>811335</td>\n",
              "      <td>6</td>\n",
              "      <td>61559</td>\n",
              "      <td>3</td>\n",
              "      <td>9</td>\n",
              "      <td>12</td>\n",
              "      <td>160</td>\n",
              "      <td>53</td>\n",
              "      <td>105</td>\n",
              "      <td>531114.5</td>\n",
              "    </tr>\n",
              "  </tbody>\n",
              "</table>\n",
              "</div>"
            ],
            "text/plain": [
              "   on road old  on road now  years      km  rating  condition  economy  \\\n",
              "0       535651       798186      3   78945       1          2       14   \n",
              "1       591911       861056      6  117220       5          9        9   \n",
              "2       686990       770762      2  132538       2          8       15   \n",
              "3       573999       722381      4  101065       4          3       11   \n",
              "4       691388       811335      6   61559       3          9       12   \n",
              "\n",
              "   top speed  hp  torque  current price  \n",
              "0        177  73     123       351318.0  \n",
              "1        148  74      95       285001.5  \n",
              "2        181  53      97       215386.0  \n",
              "3        197  54     116       244295.5  \n",
              "4        160  53     105       531114.5  "
            ]
          },
          "execution_count": 164,
          "metadata": {},
          "output_type": "execute_result"
        }
      ],
      "source": [
        "df = pd.read_csv(\"./train.csv\")\n",
        "df = df.drop('v.id', axis=1)\n",
        "df.head()"
      ]
    },
    {
      "cell_type": "markdown",
      "metadata": {
        "id": "FNhiql-8AJDD"
      },
      "source": [
        "Разбиение данных на обучающую и тестовую выборки"
      ]
    },
    {
      "cell_type": "code",
      "execution_count": null,
      "metadata": {
        "id": "tac68Pi3AJDE"
      },
      "outputs": [],
      "source": [
        "from sklearn.model_selection import train_test_split\n",
        "\n",
        "feature = df.drop(\"current price\", axis=1)\n",
        "target = df[\"current price\"]\n",
        "\n",
        "feat_train, feat_test, tar_train, tar_test = train_test_split(feature, target, test_size=0.3, random_state=40)"
      ]
    },
    {
      "cell_type": "markdown",
      "metadata": {
        "id": "O12DVNF_AJDE"
      },
      "source": [
        "Обучаем модель"
      ]
    },
    {
      "cell_type": "code",
      "execution_count": null,
      "metadata": {
        "id": "FQ_NRCNPAJDE",
        "outputId": "d6b7b81a-97eb-4b97-965b-3133569ce529"
      },
      "outputs": [
        {
          "data": {
            "text/html": [
              "<style>#sk-container-id-30 {color: black;}#sk-container-id-30 pre{padding: 0;}#sk-container-id-30 div.sk-toggleable {background-color: white;}#sk-container-id-30 label.sk-toggleable__label {cursor: pointer;display: block;width: 100%;margin-bottom: 0;padding: 0.3em;box-sizing: border-box;text-align: center;}#sk-container-id-30 label.sk-toggleable__label-arrow:before {content: \"▸\";float: left;margin-right: 0.25em;color: #696969;}#sk-container-id-30 label.sk-toggleable__label-arrow:hover:before {color: black;}#sk-container-id-30 div.sk-estimator:hover label.sk-toggleable__label-arrow:before {color: black;}#sk-container-id-30 div.sk-toggleable__content {max-height: 0;max-width: 0;overflow: hidden;text-align: left;background-color: #f0f8ff;}#sk-container-id-30 div.sk-toggleable__content pre {margin: 0.2em;color: black;border-radius: 0.25em;background-color: #f0f8ff;}#sk-container-id-30 input.sk-toggleable__control:checked~div.sk-toggleable__content {max-height: 200px;max-width: 100%;overflow: auto;}#sk-container-id-30 input.sk-toggleable__control:checked~label.sk-toggleable__label-arrow:before {content: \"▾\";}#sk-container-id-30 div.sk-estimator input.sk-toggleable__control:checked~label.sk-toggleable__label {background-color: #d4ebff;}#sk-container-id-30 div.sk-label input.sk-toggleable__control:checked~label.sk-toggleable__label {background-color: #d4ebff;}#sk-container-id-30 input.sk-hidden--visually {border: 0;clip: rect(1px 1px 1px 1px);clip: rect(1px, 1px, 1px, 1px);height: 1px;margin: -1px;overflow: hidden;padding: 0;position: absolute;width: 1px;}#sk-container-id-30 div.sk-estimator {font-family: monospace;background-color: #f0f8ff;border: 1px dotted black;border-radius: 0.25em;box-sizing: border-box;margin-bottom: 0.5em;}#sk-container-id-30 div.sk-estimator:hover {background-color: #d4ebff;}#sk-container-id-30 div.sk-parallel-item::after {content: \"\";width: 100%;border-bottom: 1px solid gray;flex-grow: 1;}#sk-container-id-30 div.sk-label:hover label.sk-toggleable__label {background-color: #d4ebff;}#sk-container-id-30 div.sk-serial::before {content: \"\";position: absolute;border-left: 1px solid gray;box-sizing: border-box;top: 0;bottom: 0;left: 50%;z-index: 0;}#sk-container-id-30 div.sk-serial {display: flex;flex-direction: column;align-items: center;background-color: white;padding-right: 0.2em;padding-left: 0.2em;position: relative;}#sk-container-id-30 div.sk-item {position: relative;z-index: 1;}#sk-container-id-30 div.sk-parallel {display: flex;align-items: stretch;justify-content: center;background-color: white;position: relative;}#sk-container-id-30 div.sk-item::before, #sk-container-id-30 div.sk-parallel-item::before {content: \"\";position: absolute;border-left: 1px solid gray;box-sizing: border-box;top: 0;bottom: 0;left: 50%;z-index: -1;}#sk-container-id-30 div.sk-parallel-item {display: flex;flex-direction: column;z-index: 1;position: relative;background-color: white;}#sk-container-id-30 div.sk-parallel-item:first-child::after {align-self: flex-end;width: 50%;}#sk-container-id-30 div.sk-parallel-item:last-child::after {align-self: flex-start;width: 50%;}#sk-container-id-30 div.sk-parallel-item:only-child::after {width: 0;}#sk-container-id-30 div.sk-dashed-wrapped {border: 1px dashed gray;margin: 0 0.4em 0.5em 0.4em;box-sizing: border-box;padding-bottom: 0.4em;background-color: white;}#sk-container-id-30 div.sk-label label {font-family: monospace;font-weight: bold;display: inline-block;line-height: 1.2em;}#sk-container-id-30 div.sk-label-container {text-align: center;}#sk-container-id-30 div.sk-container {/* jupyter's `normalize.less` sets `[hidden] { display: none; }` but bootstrap.min.css set `[hidden] { display: none !important; }` so we also need the `!important` here to be able to override the default hidden behavior on the sphinx rendered scikit-learn.org. See: https://github.com/scikit-learn/scikit-learn/issues/21755 */display: inline-block !important;position: relative;}#sk-container-id-30 div.sk-text-repr-fallback {display: none;}</style><div id=\"sk-container-id-30\" class=\"sk-top-container\"><div class=\"sk-text-repr-fallback\"><pre>XGBRegressor(base_score=None, booster=None, callbacks=None,\n",
              "             colsample_bylevel=None, colsample_bynode=None,\n",
              "             colsample_bytree=None, early_stopping_rounds=None,\n",
              "             enable_categorical=False, eval_metric=None, feature_types=None,\n",
              "             gamma=None, gpu_id=None, grow_policy=None, importance_type=None,\n",
              "             interaction_constraints=None, learning_rate=None, max_bin=None,\n",
              "             max_cat_threshold=None, max_cat_to_onehot=None,\n",
              "             max_delta_step=None, max_depth=None, max_leaves=None,\n",
              "             min_child_weight=None, missing=nan, monotone_constraints=None,\n",
              "             n_estimators=100, n_jobs=None, num_parallel_tree=None,\n",
              "             predictor=None, random_state=40, ...)</pre><b>In a Jupyter environment, please rerun this cell to show the HTML representation or trust the notebook. <br />On GitHub, the HTML representation is unable to render, please try loading this page with nbviewer.org.</b></div><div class=\"sk-container\" hidden><div class=\"sk-item\"><div class=\"sk-estimator sk-toggleable\"><input class=\"sk-toggleable__control sk-hidden--visually\" id=\"sk-estimator-id-48\" type=\"checkbox\" checked><label for=\"sk-estimator-id-48\" class=\"sk-toggleable__label sk-toggleable__label-arrow\">XGBRegressor</label><div class=\"sk-toggleable__content\"><pre>XGBRegressor(base_score=None, booster=None, callbacks=None,\n",
              "             colsample_bylevel=None, colsample_bynode=None,\n",
              "             colsample_bytree=None, early_stopping_rounds=None,\n",
              "             enable_categorical=False, eval_metric=None, feature_types=None,\n",
              "             gamma=None, gpu_id=None, grow_policy=None, importance_type=None,\n",
              "             interaction_constraints=None, learning_rate=None, max_bin=None,\n",
              "             max_cat_threshold=None, max_cat_to_onehot=None,\n",
              "             max_delta_step=None, max_depth=None, max_leaves=None,\n",
              "             min_child_weight=None, missing=nan, monotone_constraints=None,\n",
              "             n_estimators=100, n_jobs=None, num_parallel_tree=None,\n",
              "             predictor=None, random_state=40, ...)</pre></div></div></div></div></div>"
            ],
            "text/plain": [
              "XGBRegressor(base_score=None, booster=None, callbacks=None,\n",
              "             colsample_bylevel=None, colsample_bynode=None,\n",
              "             colsample_bytree=None, early_stopping_rounds=None,\n",
              "             enable_categorical=False, eval_metric=None, feature_types=None,\n",
              "             gamma=None, gpu_id=None, grow_policy=None, importance_type=None,\n",
              "             interaction_constraints=None, learning_rate=None, max_bin=None,\n",
              "             max_cat_threshold=None, max_cat_to_onehot=None,\n",
              "             max_delta_step=None, max_depth=None, max_leaves=None,\n",
              "             min_child_weight=None, missing=nan, monotone_constraints=None,\n",
              "             n_estimators=100, n_jobs=None, num_parallel_tree=None,\n",
              "             predictor=None, random_state=40, ...)"
            ]
          },
          "execution_count": 166,
          "metadata": {},
          "output_type": "execute_result"
        }
      ],
      "source": [
        "from xgboost import XGBRegressor\n",
        "\n",
        "boost_reg = XGBRegressor(random_state=40)\n",
        "boost_reg.fit(feat_train, tar_train)"
      ]
    },
    {
      "cell_type": "markdown",
      "metadata": {
        "id": "99h5LbZAAJDF"
      },
      "source": [
        "Оценим модель через метрику `_r2_`"
      ]
    },
    {
      "cell_type": "code",
      "execution_count": null,
      "metadata": {
        "id": "vpMNAgcvAJDF",
        "outputId": "dbb56daa-fd10-4805-e16a-33d50a4f64c6"
      },
      "outputs": [
        {
          "name": "stdout",
          "output_type": "stream",
          "text": [
            "0.989166272014558\n"
          ]
        }
      ],
      "source": [
        "prediction = boost_reg.predict(feat_test)\n",
        "print(mk.r2_score(tar_test, prediction))"
      ]
    },
    {
      "cell_type": "markdown",
      "metadata": {
        "id": "hV_iVY9kAJDG"
      },
      "source": [
        "### **[Задание 4]**\n",
        "\n",
        "Создайте еще одну регрессионную модель на основе `RandomForestRegressor` со значением `random_state=40` . Найдите, в сколько раз отличается значение метрики `MSE` моделей, основанных на `XGBRegressor` и `RandomForestRegressor` по тестовой выборке."
      ]
    },
    {
      "cell_type": "code",
      "execution_count": null,
      "metadata": {
        "id": "1IZaO7rOAJDG"
      },
      "outputs": [],
      "source": [
        "# Решение"
      ]
    }
  ],
  "metadata": {
    "anaconda-cloud": {},
    "kernelspec": {
      "display_name": "Python 3",
      "language": "python",
      "name": "python3"
    },
    "language_info": {
      "codemirror_mode": {
        "name": "ipython",
        "version": 3
      },
      "file_extension": ".py",
      "mimetype": "text/x-python",
      "name": "python",
      "nbconvert_exporter": "python",
      "pygments_lexer": "ipython3",
      "version": "3.10.9"
    },
    "colab": {
      "provenance": [],
      "toc_visible": true
    }
  },
  "nbformat": 4,
  "nbformat_minor": 0
}