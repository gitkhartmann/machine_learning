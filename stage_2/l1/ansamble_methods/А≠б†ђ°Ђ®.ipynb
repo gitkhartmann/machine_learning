{
  "nbformat": 4,
  "nbformat_minor": 0,
  "metadata": {
    "colab": {
      "provenance": [],
      "toc_visible": true
    },
    "kernelspec": {
      "name": "python3",
      "display_name": "Python 3"
    },
    "language_info": {
      "name": "python"
    }
  },
  "cells": [
    {
      "cell_type": "markdown",
      "source": [
        "В этом ноутбуке мы:\n",
        "\n",
        "\n",
        "*   Познакомимся с ансамблевыми алгоритмами для задач классификации и регрессии\n",
        "*   Поработаем над задачами классификации c помощью классов BaggingClassifier, VotingClassifier.\n",
        "\n"
      ],
      "metadata": {
        "id": "w1-bcVTIIIxg"
      }
    },
    {
      "cell_type": "markdown",
      "source": [
        "# Ансамблевые методы"
      ],
      "metadata": {
        "id": "_ZaEFZkPu-Co"
      }
    },
    {
      "cell_type": "markdown",
      "source": [
        "Сегодня мы будем классифицировать котиков и собачек. Надеемся, вы рады:)"
      ],
      "metadata": {
        "id": "u7Cz5OFZQJ4w"
      }
    },
    {
      "cell_type": "markdown",
      "source": [
        "### **[Задание 1]**\n",
        "\n",
        "Для работы с уже использованным нами ранее датасетом для классификации котов и собак нам потребуется набор библиотек для работы с изображениями и код-обработчик файлов. Импортируйте нужные библиотеки, загрузите датасеты `train` и `test` в соответствующие папки и запустите код ниже."
      ],
      "metadata": {
        "id": "yYKdp4drY9aA"
      }
    },
    {
      "cell_type": "code",
      "source": [
        "from IPython.display import Image\n",
        "from imutils import paths\n",
        "import numpy as np\n",
        "import cv2\n",
        "import os"
      ],
      "metadata": {
        "id": "ohasO9GnZPJ7"
      },
      "execution_count": null,
      "outputs": []
    },
    {
      "cell_type": "code",
      "source": [
        "def extract_histogram(image, bins=(8, 8, 8)):\n",
        "    hist = cv2.calcHist([image], [0, 1, 2], None, bins, [0, 256, 0, 256, 0, 256])\n",
        "    cv2.normalize(hist, hist)\n",
        "    return hist.flatten()"
      ],
      "metadata": {
        "id": "DyCdT6SDarLm"
      },
      "execution_count": null,
      "outputs": []
    },
    {
      "cell_type": "code",
      "source": [
        "imagePaths = sorted(list(paths.list_images('/content/train')))\n",
        "data = []\n",
        "labels = []\n",
        "\n",
        "for (i, imagePath) in enumerate(imagePaths):\n",
        "    image = cv2.imread(imagePath, 1)\n",
        "    label = imagePath.split(os.path.sep)[-1].split(\".\")[0]\n",
        "    hist = extract_histogram(image)\n",
        "    data.append(hist)\n",
        "    labels.append(label)"
      ],
      "metadata": {
        "id": "6rSit49MauCS"
      },
      "execution_count": null,
      "outputs": []
    },
    {
      "cell_type": "markdown",
      "source": [
        "Давайте закодируем признаки с помощью [`LabelEncoder`](https://scikit-learn.org/stable/modules/generated/sklearn.preprocessing.LabelEncoder.html):"
      ],
      "metadata": {
        "id": "sOwWNNjvAelq"
      }
    },
    {
      "cell_type": "code",
      "source": [
        "from sklearn.preprocessing import LabelEncoder\n",
        "\n",
        "le = LabelEncoder()\n",
        "labels = le.fit_transform(labels)\n",
        "print(labels[1])"
      ],
      "metadata": {
        "colab": {
          "base_uri": "https://localhost:8080/"
        },
        "id": "hB1istnJawXu",
        "outputId": "c7c2a1aa-56f9-441c-8c7d-c56e0cd518e7"
      },
      "execution_count": null,
      "outputs": [
        {
          "output_type": "stream",
          "name": "stdout",
          "text": [
            "0\n"
          ]
        }
      ]
    },
    {
      "cell_type": "code",
      "source": [
        "Image(filename=imagePaths[0])"
      ],
      "metadata": {
        "colab": {
          "base_uri": "https://localhost:8080/",
          "height": 391
        },
        "id": "7ffe5DuqBYUj",
        "outputId": "0f271a2b-ea0c-40ca-eb86-4bfab24111af"
      },
      "execution_count": null,
      "outputs": [
        {
          "output_type": "execute_result",
          "data": {
            "image/jpeg": "[encoded data removed]",
            "text/plain": [
              "<IPython.core.display.Image object>"
            ]
          },
          "metadata": {},
          "execution_count": 455
        }
      ]
    },
    {
      "cell_type": "markdown",
      "source": [
        "### **[Задание 2]**\n",
        "\n",
        "Разделите выборку на `train`(75%) и `test`(25%), а `random_state` зафиксируйте в любом удобном вам значении;"
      ],
      "metadata": {
        "id": "C6DX1A58BaDg"
      }
    },
    {
      "cell_type": "code",
      "source": [
        "# Решение"
      ],
      "metadata": {
        "id": "U_-CupzynkOV"
      },
      "execution_count": null,
      "outputs": []
    },
    {
      "cell_type": "markdown",
      "source": [
        "## Bagging"
      ],
      "metadata": {
        "id": "wFEuxm75162B"
      }
    },
    {
      "cell_type": "markdown",
      "source": [
        "**Bagging** - это метод ансамблирования в машинном обучении, который сочетает предсказания нескольких базовых моделей для получения более точных результатов. **Он основан на идее создания нескольких случайных подвыборок из обучающих данных и обучения каждой модели на этих подвыборках**. Конечные предсказания получаются путем усреднения предсказаний каждой модели.\n",
        "\n",
        "Bagging широко используется как в задачах регрессии, так и в задачах классификации.\n",
        "\n",
        "*   *В регрессии*, каждая базовая модель, например, дерево решений, обучается на разных подмножествах обучающих данных. Затем, для каждого нового примера, предсказание происходит путем усреднения предсказаний всех базовых моделей. Такой подход позволяет уменьшить дисперсию и повысить стабильность предсказания.\n",
        "*   *В классификации*, каждая базовая модель обучается на случайных подвыборках обучающих данных. Затем, для каждого нового примера, каждая модель предсказывает класс, и окончательное предсказание определяется большинством голосов моделей. Таким образом, Bagging позволяет уменьшить разброс предсказаний и улучшить обобщающую способность модели.\n",
        "\n",
        "\n",
        "В библиотеке `sklearn` применение модели `Bagging` осуществляется с помощью класса [`BaggingRegressor`](https://scikit-learn.org/stable/modules/generated/sklearn.ensemble.BaggingRegressor.html) для задач регрессии и класса [`BaggingClassifier`](https://scikit-learn.org/stable/modules/generated/sklearn.ensemble.BaggingClassifier.html#) для задач классификации. При инициализации, нужно указать базовую модель, которую будет использовать `Bagging`, а также число базовых моделей, называемое `n_estimators`. Затем можно задать другие параметры, такие как максимальная глубина дерева или число объектов для подвыборки. После инициализации, модель может быть обучена на обучающих данных и использована для предсказания новых примеров."
      ],
      "metadata": {
        "id": "c8_9lDmR16AE"
      }
    },
    {
      "cell_type": "markdown",
      "source": [
        "### **[Задание 3]**\n",
        "\n",
        "Запустите код ниже, чтобы импортировать нужные модули"
      ],
      "metadata": {
        "id": "9tOrFHtXCNhk"
      }
    },
    {
      "cell_type": "code",
      "source": [
        "from sklearn.ensemble import BaggingClassifier\n",
        "from sklearn.linear_model import LogisticRegression\n",
        "from sklearn.model_selection import GridSearchCV"
      ],
      "metadata": {
        "id": "36ncwokNCNAy"
      },
      "execution_count": null,
      "outputs": []
    },
    {
      "cell_type": "markdown",
      "source": [
        "### **[Задание 4]**\n",
        "\n",
        "Для разминки, мы передадим ансамблю только одну модель, чтобы вы могли понять, как это в точности работает. Не волнуйтесь, дальше мы будем использовать ансамбли в полную силу.\n",
        "\n",
        "\n",
        "Иницииализируем модель для работы. Для разминки подойдет логистическая регрессия."
      ],
      "metadata": {
        "id": "1LmXu4aiLlst"
      }
    },
    {
      "cell_type": "code",
      "source": [
        "# Решение"
      ],
      "metadata": {
        "id": "flWA2kacR6w_"
      },
      "execution_count": null,
      "outputs": []
    },
    {
      "cell_type": "markdown",
      "source": [
        "### **[Задание 5]**\n",
        "\n",
        "Как вы могли заметить, мы импортировали `GridSearchCV`, чтобы сразу подбирать оптимальные параметры для логистической регрессии. Создайте словарь `params`, в котором опишите параметры, по которым `GridSearchCV` будет искать оптимальные значения.\n",
        "\n",
        "В этом словаре обязательно должны быть перебраны значения:\n",
        "\n",
        "*   `'C'` из списка [0.5,1,1.5];\n",
        "*   `'class_weight'`из [None,'balanced'];\n",
        "*   `'penalty'` из ['l1', 'l2', 'elasticnet']."
      ],
      "metadata": {
        "id": "dqwpxvYsEI3O"
      }
    },
    {
      "cell_type": "code",
      "source": [
        "# Решение"
      ],
      "metadata": {
        "id": "toObfpy8Iv07"
      },
      "execution_count": null,
      "outputs": []
    },
    {
      "cell_type": "markdown",
      "source": [
        "### **[Задание 6]**\n",
        "\n",
        "Теперь инициализируйте `GridSearchCV` на параметрах `params` для нашей логистической регрессии `lgrg`.\n",
        "\n",
        "Дополнительными параметрами передайте ей следующие значения: `cv=5, scoring='f1', n_jobs=-1`."
      ],
      "metadata": {
        "id": "DVG8JxcMR7gi"
      }
    },
    {
      "cell_type": "code",
      "source": [
        "# Решение"
      ],
      "metadata": {
        "id": "YMMPc_-jSKNL"
      },
      "execution_count": null,
      "outputs": []
    },
    {
      "cell_type": "markdown",
      "source": [
        "### **[Задание 7]**\n",
        "\n",
        "Запустите обучение GridSearchCV и выведите значения лучших параметров"
      ],
      "metadata": {
        "id": "ZGMRmzx0SrrY"
      }
    },
    {
      "cell_type": "code",
      "source": [
        "# Решение"
      ],
      "metadata": {
        "id": "jiX1sr28Sr6y"
      },
      "execution_count": null,
      "outputs": []
    },
    {
      "cell_type": "markdown",
      "source": [
        "### **[Задание 8]**\n",
        "\n",
        "Инициализируйте модель логистической регрессии с подобранными GridSearchCV параметрами. Обучать модель **не нужно**."
      ],
      "metadata": {
        "id": "ry6tZifSWltU"
      }
    },
    {
      "cell_type": "code",
      "source": [
        "# Решение"
      ],
      "metadata": {
        "id": "Uke9u5z76Jnk"
      },
      "execution_count": null,
      "outputs": []
    },
    {
      "cell_type": "markdown",
      "source": [
        "Теперь у нас есть модель логистической регресии, на которой мы и будем демонстрировать принципы работы беггинга.\n",
        "\n",
        "Для того, чтобы запустить ансамбллевый метод беггинга для задачи классификации, ранее мы импортировали модуль [`BaggingClassifier`](https://scikit-learn.org/stable/modules/generated/sklearn.ensemble.BaggingClassifier.html#sklearn.ensemble.BaggingClassifier), для которого зафиксировали `random_state` и параметр `n_estimators`.\n",
        "\n",
        "C другими параметрами модели можно ознакомиться в документации."
      ],
      "metadata": {
        "id": "wKWU0ETmW1wF"
      }
    },
    {
      "cell_type": "code",
      "source": [
        "bagging = BaggingClassifier(estimator=lgrg, n_estimators=10, random_state=0)\n",
        "bagging.fit(feat_train, tar_train)"
      ],
      "metadata": {
        "colab": {
          "base_uri": "https://localhost:8080/",
          "height": 115
        },
        "id": "Agr6BdbMW0v1",
        "outputId": "d3163319-0d9e-4df3-cd53-b36f2d607964"
      },
      "execution_count": null,
      "outputs": [
        {
          "output_type": "execute_result",
          "data": {
            "text/plain": [
              "BaggingClassifier(estimator=LogisticRegression(C=0.5), random_state=0)"
            ],
            "text/html": [
              "<style>#sk-container-id-26 {color: black;background-color: white;}#sk-container-id-26 pre{padding: 0;}#sk-container-id-26 div.sk-toggleable {background-color: white;}#sk-container-id-26 label.sk-toggleable__label {cursor: pointer;display: block;width: 100%;margin-bottom: 0;padding: 0.3em;box-sizing: border-box;text-align: center;}#sk-container-id-26 label.sk-toggleable__label-arrow:before {content: \"▸\";float: left;margin-right: 0.25em;color: #696969;}#sk-container-id-26 label.sk-toggleable__label-arrow:hover:before {color: black;}#sk-container-id-26 div.sk-estimator:hover label.sk-toggleable__label-arrow:before {color: black;}#sk-container-id-26 div.sk-toggleable__content {max-height: 0;max-width: 0;overflow: hidden;text-align: left;background-color: #f0f8ff;}#sk-container-id-26 div.sk-toggleable__content pre {margin: 0.2em;color: black;border-radius: 0.25em;background-color: #f0f8ff;}#sk-container-id-26 input.sk-toggleable__control:checked~div.sk-toggleable__content {max-height: 200px;max-width: 100%;overflow: auto;}#sk-container-id-26 input.sk-toggleable__control:checked~label.sk-toggleable__label-arrow:before {content: \"▾\";}#sk-container-id-26 div.sk-estimator input.sk-toggleable__control:checked~label.sk-toggleable__label {background-color: #d4ebff;}#sk-container-id-26 div.sk-label input.sk-toggleable__control:checked~label.sk-toggleable__label {background-color: #d4ebff;}#sk-container-id-26 input.sk-hidden--visually {border: 0;clip: rect(1px 1px 1px 1px);clip: rect(1px, 1px, 1px, 1px);height: 1px;margin: -1px;overflow: hidden;padding: 0;position: absolute;width: 1px;}#sk-container-id-26 div.sk-estimator {font-family: monospace;background-color: #f0f8ff;border: 1px dotted black;border-radius: 0.25em;box-sizing: border-box;margin-bottom: 0.5em;}#sk-container-id-26 div.sk-estimator:hover {background-color: #d4ebff;}#sk-container-id-26 div.sk-parallel-item::after {content: \"\";width: 100%;border-bottom: 1px solid gray;flex-grow: 1;}#sk-container-id-26 div.sk-label:hover label.sk-toggleable__label {background-color: #d4ebff;}#sk-container-id-26 div.sk-serial::before {content: \"\";position: absolute;border-left: 1px solid gray;box-sizing: border-box;top: 0;bottom: 0;left: 50%;z-index: 0;}#sk-container-id-26 div.sk-serial {display: flex;flex-direction: column;align-items: center;background-color: white;padding-right: 0.2em;padding-left: 0.2em;position: relative;}#sk-container-id-26 div.sk-item {position: relative;z-index: 1;}#sk-container-id-26 div.sk-parallel {display: flex;align-items: stretch;justify-content: center;background-color: white;position: relative;}#sk-container-id-26 div.sk-item::before, #sk-container-id-26 div.sk-parallel-item::before {content: \"\";position: absolute;border-left: 1px solid gray;box-sizing: border-box;top: 0;bottom: 0;left: 50%;z-index: -1;}#sk-container-id-26 div.sk-parallel-item {display: flex;flex-direction: column;z-index: 1;position: relative;background-color: white;}#sk-container-id-26 div.sk-parallel-item:first-child::after {align-self: flex-end;width: 50%;}#sk-container-id-26 div.sk-parallel-item:last-child::after {align-self: flex-start;width: 50%;}#sk-container-id-26 div.sk-parallel-item:only-child::after {width: 0;}#sk-container-id-26 div.sk-dashed-wrapped {border: 1px dashed gray;margin: 0 0.4em 0.5em 0.4em;box-sizing: border-box;padding-bottom: 0.4em;background-color: white;}#sk-container-id-26 div.sk-label label {font-family: monospace;font-weight: bold;display: inline-block;line-height: 1.2em;}#sk-container-id-26 div.sk-label-container {text-align: center;}#sk-container-id-26 div.sk-container {/* jupyter's `normalize.less` sets `[hidden] { display: none; }` but bootstrap.min.css set `[hidden] { display: none !important; }` so we also need the `!important` here to be able to override the default hidden behavior on the sphinx rendered scikit-learn.org. See: https://github.com/scikit-learn/scikit-learn/issues/21755 */display: inline-block !important;position: relative;}#sk-container-id-26 div.sk-text-repr-fallback {display: none;}</style><div id=\"sk-container-id-26\" class=\"sk-top-container\"><div class=\"sk-text-repr-fallback\"><pre>BaggingClassifier(estimator=LogisticRegression(C=0.5), random_state=0)</pre><b>In a Jupyter environment, please rerun this cell to show the HTML representation or trust the notebook. <br />On GitHub, the HTML representation is unable to render, please try loading this page with nbviewer.org.</b></div><div class=\"sk-container\" hidden><div class=\"sk-item sk-dashed-wrapped\"><div class=\"sk-label-container\"><div class=\"sk-label sk-toggleable\"><input class=\"sk-toggleable__control sk-hidden--visually\" id=\"sk-estimator-id-96\" type=\"checkbox\" ><label for=\"sk-estimator-id-96\" class=\"sk-toggleable__label sk-toggleable__label-arrow\">BaggingClassifier</label><div class=\"sk-toggleable__content\"><pre>BaggingClassifier(estimator=LogisticRegression(C=0.5), random_state=0)</pre></div></div></div><div class=\"sk-parallel\"><div class=\"sk-parallel-item\"><div class=\"sk-item\"><div class=\"sk-label-container\"><div class=\"sk-label sk-toggleable\"><input class=\"sk-toggleable__control sk-hidden--visually\" id=\"sk-estimator-id-97\" type=\"checkbox\" ><label for=\"sk-estimator-id-97\" class=\"sk-toggleable__label sk-toggleable__label-arrow\">estimator: LogisticRegression</label><div class=\"sk-toggleable__content\"><pre>LogisticRegression(C=0.5)</pre></div></div></div><div class=\"sk-serial\"><div class=\"sk-item\"><div class=\"sk-estimator sk-toggleable\"><input class=\"sk-toggleable__control sk-hidden--visually\" id=\"sk-estimator-id-98\" type=\"checkbox\" ><label for=\"sk-estimator-id-98\" class=\"sk-toggleable__label sk-toggleable__label-arrow\">LogisticRegression</label><div class=\"sk-toggleable__content\"><pre>LogisticRegression(C=0.5)</pre></div></div></div></div></div></div></div></div></div></div>"
            ]
          },
          "metadata": {},
          "execution_count": 463
        }
      ]
    },
    {
      "cell_type": "markdown",
      "source": [
        "Выведем оценку для модели:"
      ],
      "metadata": {
        "id": "LbDWKxeibNzK"
      }
    },
    {
      "cell_type": "code",
      "source": [
        "bagging.score(feat_train, tar_train)"
      ],
      "metadata": {
        "id": "hU8LHVuOzHYn"
      },
      "execution_count": null,
      "outputs": []
    },
    {
      "cell_type": "markdown",
      "source": [
        "А теперь проверим, удалось ли модели справиться с задачей.\n",
        "\n",
        "Возьмем изображение из обучающего датасета, получим для него гистограмму и для этих данных построим предсказание:"
      ],
      "metadata": {
        "id": "cPoUgAZSbQO5"
      }
    },
    {
      "cell_type": "code",
      "source": [
        "Image(filename='test/cat.1017.jpg')"
      ],
      "metadata": {
        "colab": {
          "base_uri": "https://localhost:8080/",
          "height": 257
        },
        "id": "XWcWpgCTzLTK",
        "outputId": "573d9f88-2489-4d43-e43b-743e4f4be46f"
      },
      "execution_count": null,
      "outputs": [
        {
          "output_type": "execute_result",
          "data": {
            "image/jpeg": "[encoded data removed]",
            "text/plain": [
              "<IPython.core.display.Image object>"
            ]
          },
          "metadata": {},
          "execution_count": 465
        }
      ]
    },
    {
      "cell_type": "code",
      "source": [
        "singleImage = cv2.imread('test/cat.1017.jpg')\n",
        "histt = extract_histogram(singleImage)\n",
        "histt2 = histt.reshape(1, -1)\n",
        "prediction = bagging.predict(histt2)"
      ],
      "metadata": {
        "id": "q0knhC-zzJ7O"
      },
      "execution_count": null,
      "outputs": []
    },
    {
      "cell_type": "code",
      "source": [
        "prediction"
      ],
      "metadata": {
        "id": "xC7cZRyLzNIB"
      },
      "execution_count": null,
      "outputs": []
    },
    {
      "cell_type": "code",
      "source": [
        "bagging.predict_proba(histt2)"
      ],
      "metadata": {
        "id": "A2GlEncuzPjQ"
      },
      "execution_count": null,
      "outputs": []
    },
    {
      "cell_type": "markdown",
      "source": [
        "В этом кейсе с котиком модель отработала неверно, но в целом скор приемлемый.\n",
        "\n",
        "Попробуем другие модели, вдруг получится что-то получше:)"
      ],
      "metadata": {
        "id": "5Pp14Z9MbiHG"
      }
    },
    {
      "cell_type": "markdown",
      "source": [
        "## Voting"
      ],
      "metadata": {
        "id": "sP8b7QkJNP2M"
      }
    },
    {
      "cell_type": "markdown",
      "source": [
        "Voting (Голосование) — один из популярных ансамблевых методов в машинном обучении, который объединяет предсказания нескольких базовых моделей для достижения оптимального результата. Он широко используется как в задачах классификации, так и в задачах регрессии.\n",
        "\n",
        "\n",
        "\n",
        "*   *В задачах классификации*, модель голосования совмещает прогнозы нескольких классификаторов для принятия окончательного решения. Существуют два основных подхода к голосованию: **мягкое голосование** и **жесткое голосование**. В мягком голосовании каждый классификатор вносит свой вклад в предсказание, выдавая вероятности принадлежности к классам, которые затем усредняются или взвешиваются. В жестком голосовании принимается решение на основе наиболее частого предсказания среди классификаторов.\n",
        "*   *В задачах регрессии*, модель голосования объединяет предсказания регрессоров, обычно усредняя их. Результатом голосования является среднее или медианное значение предсказаний каждого регрессора. Это позволяет получить более точные и устойчивые прогнозы.\n",
        "\n",
        "\n",
        "В библиотеке scikit-learn для использования модели голосования существует класс [`VotingClassifier`](http://scikit-learn.org/stable/modules/generated/sklearn.ensemble.VotingClassifier.html) для задач классификации и [`VotingRegressor`](https://scikit-learn.org/stable/modules/generated/sklearn.ensemble.VotingRegressor.html) для задач регрессии. Эти классы позволяют создавать ансамбль из разных моделей, указанных в параметре `estimators`. Кроме того, можно задать веса каждому классификатору или регрессору с помощью параметра `weights`."
      ],
      "metadata": {
        "id": "BOhO7T_hNSyb"
      }
    },
    {
      "cell_type": "markdown",
      "source": [
        "### **[Задание 9]**\n",
        "\n",
        "Запустите код из ячейки ниже, чтобы подключить нужные библиотеки:"
      ],
      "metadata": {
        "id": "SCeXezTgb4ej"
      }
    },
    {
      "cell_type": "code",
      "source": [
        "from sklearn.ensemble import VotingClassifier\n",
        "from sklearn.calibration import CalibratedClassifierCV\n",
        "from sklearn.naive_bayes import GaussianNB"
      ],
      "metadata": {
        "id": "WVhUg7Kszox6"
      },
      "execution_count": null,
      "outputs": []
    },
    {
      "cell_type": "markdown",
      "source": [
        "Теперь нужно проинициализировать модели для VotingClassifier. Для примера, возьмем обученный нами ранее `BaggingClassifier`(он как раз требует улучшений) и новый для нас [`CalibratedClassifierCV`](https://scikit-learn.org/stable/modules/generated/sklearn.calibration.CalibratedClassifierCV.html#sklearn.calibration.CalibratedClassifierCV.predict_proba)(это новый метод, но для общего развития мы его используем). `CalibratedClassifierCV` требует для работы параметр `estimator`, в который мы передадим `GaussianNB`."
      ],
      "metadata": {
        "id": "SiuHP_scijIi"
      }
    },
    {
      "cell_type": "code",
      "source": [
        "base_clf = GaussianNB()\n",
        "calibrated_clf = CalibratedClassifierCV(base_clf, cv=3)"
      ],
      "metadata": {
        "id": "ecswuri0cGJg"
      },
      "execution_count": null,
      "outputs": []
    },
    {
      "cell_type": "markdown",
      "source": [
        "### **[Задание 10]**\n",
        "\n",
        "Мы подготовили список кортежей `base_estimators` с моделями для `VotingClassifier`.\n",
        "\n",
        "Проинициализируем эту модель с параметрами следующими параметрами:\n",
        "*   `estimators=base_estimators`,\n",
        "*   `voting='soft'`\n",
        "\n",
        "Саму модель сохраните в переменной `vclf`."
      ],
      "metadata": {
        "id": "wm_bAROZkGO3"
      }
    },
    {
      "cell_type": "code",
      "source": [
        "# Решение\n",
        "base_estimators = [('Bagging DT', bagging), ('RidgeClassifier', calibrated_clf)]"
      ],
      "metadata": {
        "id": "rcEs8P7UkFjr"
      },
      "execution_count": null,
      "outputs": []
    },
    {
      "cell_type": "markdown",
      "source": [
        "### **[Задание 11]**\n",
        "\n",
        "Запустите обучение модели"
      ],
      "metadata": {
        "id": "iW09k-uRlgMX"
      }
    },
    {
      "cell_type": "code",
      "source": [
        "# Решение"
      ],
      "metadata": {
        "id": "UTlvVryElcSK"
      },
      "execution_count": null,
      "outputs": []
    },
    {
      "cell_type": "markdown",
      "source": [
        "### **[Задание 12]**\n",
        "\n",
        "Получите оценку для модели"
      ],
      "metadata": {
        "id": "U5Bp_yJzloN3"
      }
    },
    {
      "cell_type": "code",
      "source": [
        "# Решение"
      ],
      "metadata": {
        "id": "J3EdB3o3zzcO"
      },
      "execution_count": null,
      "outputs": []
    },
    {
      "cell_type": "markdown",
      "source": [
        "Теперь получим предсказание для нашего красивого котика:"
      ],
      "metadata": {
        "id": "FysvILunmFfU"
      }
    },
    {
      "cell_type": "code",
      "source": [
        "singleImage = cv2.imread('test/cat.1017.jpg')\n",
        "histt = extract_histogram(singleImage)\n",
        "histt2 = histt.reshape(1, -1)\n",
        "prediction = vclf.predict(histt2)"
      ],
      "metadata": {
        "id": "_onexwcaz4rz"
      },
      "execution_count": null,
      "outputs": []
    },
    {
      "cell_type": "code",
      "source": [
        "vclf.predict_proba(histt2)"
      ],
      "metadata": {
        "id": "i-QVOWhRz7oj"
      },
      "execution_count": null,
      "outputs": []
    },
    {
      "cell_type": "code",
      "source": [
        "Image(filename='test/cat.1017.jpg')"
      ],
      "metadata": {
        "colab": {
          "base_uri": "https://localhost:8080/",
          "height": 257
        },
        "id": "gyGFiozPz9DU",
        "outputId": "1bf55eff-7121-4034-9bf4-2f4c53747b9b"
      },
      "execution_count": null,
      "outputs": [
        {
          "output_type": "execute_result",
          "data": {
            "image/jpeg": "[encoded data removed]",
            "text/plain": [
              "<IPython.core.display.Image object>"
            ]
          },
          "metadata": {},
          "execution_count": 476
        }
      ]
    },
    {
      "cell_type": "code",
      "source": [
        "prediction"
      ],
      "metadata": {
        "id": "KYAwk3Jqz6Sg"
      },
      "execution_count": null,
      "outputs": []
    },
    {
      "cell_type": "markdown",
      "source": [
        "Отлично, теперь наша модель справляется с котом, но скор низковат. Попробуем его улучшить и потестируем другой алгоритм."
      ],
      "metadata": {
        "id": "ASsqke5rmKlZ"
      }
    },
    {
      "cell_type": "markdown",
      "source": [
        "### **[Задание 13] Опциональное**\n",
        "\n",
        "Заметили, что мы не использовали `GridSearch`? И мы заметили:)\n",
        "\n",
        "И предлагаем вам обучить для этой модели `GridSearchCV`. Подберите оптимальные параметры для `VotingClassifier` и входящих в него моделей. Обучите модели с этими параметрами и сравните результаты с дефолтной версией."
      ],
      "metadata": {
        "id": "8_jvQBMpmwAh"
      }
    },
    {
      "cell_type": "code",
      "source": [
        "# Решение"
      ],
      "metadata": {
        "id": "luuf3Zo0bPuz"
      },
      "execution_count": null,
      "outputs": []
    },
    {
      "cell_type": "markdown",
      "source": [
        "\n",
        "P.S. Мы просим вас воздержаться от предположения, что если в нашем занятии получилось, что `Voting` перформит лучше, чем `Bagging`, то априори эта модель лучше. Для каждой задачи — свой алгоритм. И именно поэтому мы даем новые модели и активно мотивируем вас искать информацию в документации: так вы сможете быстрее тестировать модели и выбирать лучшие."
      ],
      "metadata": {
        "id": "4_tA_Q9HeqDb"
      }
    }
  ]
}