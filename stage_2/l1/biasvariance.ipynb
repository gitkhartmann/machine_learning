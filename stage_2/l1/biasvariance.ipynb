{
  "nbformat": 4,
  "nbformat_minor": 0,
  "metadata": {
    "colab": {
      "provenance": []
    },
    "kernelspec": {
      "name": "python3",
      "display_name": "Python 3"
    },
    "language_info": {
      "name": "python"
    }
  },
  "cells": [
    {
      "cell_type": "markdown",
      "source": [
        "В этом ноутбуке мы:\n",
        "\n",
        "*   Подробнее изучим то, как устроены ошибки в моделях\n",
        "\n"
      ],
      "metadata": {
        "id": "w9KHzDwxJarK"
      }
    },
    {
      "cell_type": "markdown",
      "source": [
        "# Ошибки в ансамблевых моделях\n"
      ],
      "metadata": {
        "id": "_EWWAkHbJadS"
      }
    },
    {
      "cell_type": "markdown",
      "source": [
        "Вспомним, что в машинном обучении ошибку модели можно разложить на три составляющие:\n",
        "\n",
        "\n",
        "*   смещение (bias);\n",
        "\n",
        "*   разброс (variance);\n",
        "\n",
        "*   неконтролируемая ошибка.\n",
        "\n",
        "\n",
        "В идеальном мире все модели точно предсказывают результат и являются устойчивыми к изменению входных данных, т.е. у них малые разброс и смещение.\n",
        "\n",
        "Однако, реальные задачи так не работают: модели с малым смещением имеют большой разброс из-за их сложности и склонности к переобучению, а модели с низким разбросом имеют большое смешение. В этих условиях наша цель — это найти \"золотую середину\" между этими параметрами. Иначе говоря, **нужно найти баланс между разбросом и смещением (bias-variance tradeoff).** Для того, чтобы получить этот баланс необходимо освоить инструмент, который позволяет анализировать ошибку алгоритма в зависимости от некоторого набора факторов, влияющих на итоговое качество его работы. Этот инструмент в литературе называется **bias-variance decomposition** -- разложение ошибки на смещение и разброс\n",
        "\n",
        "Это небольшой, но важный ноутбук: в нем мы займемся построением bias-variance decomposition и научимся применять его к исследованию моделей."
      ],
      "metadata": {
        "id": "3SIHcAmwJYjp"
      }
    },
    {
      "cell_type": "markdown",
      "source": [
        "Сегодня мы снова обратимся к классификации онкологичесих заболеваний. Загрузим датасет:"
      ],
      "metadata": {
        "id": "nwaqgwhp8IIb"
      }
    },
    {
      "cell_type": "code",
      "source": [
        "from sklearn.datasets import load_breast_cancer\n",
        "cancer = load_breast_cancer()"
      ],
      "metadata": {
        "id": "XEQzE0dh8HVQ"
      },
      "execution_count": null,
      "outputs": []
    },
    {
      "cell_type": "markdown",
      "source": [
        "Подключим нужные библиотеки"
      ],
      "metadata": {
        "id": "n0H17H_V8Wcb"
      }
    },
    {
      "cell_type": "code",
      "source": [
        "from sklearn.ensemble import RandomForestClassifier\n",
        "from sklearn.model_selection import train_test_split\n",
        "import numpy as np\n",
        "import matplotlib.pyplot as plt"
      ],
      "metadata": {
        "id": "CU05UV4V8T8O"
      },
      "execution_count": null,
      "outputs": []
    },
    {
      "cell_type": "markdown",
      "source": [
        "Разделим выборку на трейн и тест"
      ],
      "metadata": {
        "id": "e1RnwC_68ZXm"
      }
    },
    {
      "cell_type": "code",
      "source": [
        "X_train, X_test, y_train, y_test = train_test_split(cancer.data, cancer.target, stratify=cancer.target, random_state=42)"
      ],
      "metadata": {
        "colab": {
          "base_uri": "https://localhost:8080/",
          "height": 74
        },
        "id": "URxFbWbvL89Z",
        "outputId": "4496f9dc-405e-4607-ae6f-d5409068dc69"
      },
      "execution_count": null,
      "outputs": [
        {
          "output_type": "execute_result",
          "data": {
            "text/plain": [
              "RandomForestClassifier(n_estimators=10, random_state=2)"
            ],
            "text/html": [
              "<style>#sk-container-id-2 {color: black;background-color: white;}#sk-container-id-2 pre{padding: 0;}#sk-container-id-2 div.sk-toggleable {background-color: white;}#sk-container-id-2 label.sk-toggleable__label {cursor: pointer;display: block;width: 100%;margin-bottom: 0;padding: 0.3em;box-sizing: border-box;text-align: center;}#sk-container-id-2 label.sk-toggleable__label-arrow:before {content: \"▸\";float: left;margin-right: 0.25em;color: #696969;}#sk-container-id-2 label.sk-toggleable__label-arrow:hover:before {color: black;}#sk-container-id-2 div.sk-estimator:hover label.sk-toggleable__label-arrow:before {color: black;}#sk-container-id-2 div.sk-toggleable__content {max-height: 0;max-width: 0;overflow: hidden;text-align: left;background-color: #f0f8ff;}#sk-container-id-2 div.sk-toggleable__content pre {margin: 0.2em;color: black;border-radius: 0.25em;background-color: #f0f8ff;}#sk-container-id-2 input.sk-toggleable__control:checked~div.sk-toggleable__content {max-height: 200px;max-width: 100%;overflow: auto;}#sk-container-id-2 input.sk-toggleable__control:checked~label.sk-toggleable__label-arrow:before {content: \"▾\";}#sk-container-id-2 div.sk-estimator input.sk-toggleable__control:checked~label.sk-toggleable__label {background-color: #d4ebff;}#sk-container-id-2 div.sk-label input.sk-toggleable__control:checked~label.sk-toggleable__label {background-color: #d4ebff;}#sk-container-id-2 input.sk-hidden--visually {border: 0;clip: rect(1px 1px 1px 1px);clip: rect(1px, 1px, 1px, 1px);height: 1px;margin: -1px;overflow: hidden;padding: 0;position: absolute;width: 1px;}#sk-container-id-2 div.sk-estimator {font-family: monospace;background-color: #f0f8ff;border: 1px dotted black;border-radius: 0.25em;box-sizing: border-box;margin-bottom: 0.5em;}#sk-container-id-2 div.sk-estimator:hover {background-color: #d4ebff;}#sk-container-id-2 div.sk-parallel-item::after {content: \"\";width: 100%;border-bottom: 1px solid gray;flex-grow: 1;}#sk-container-id-2 div.sk-label:hover label.sk-toggleable__label {background-color: #d4ebff;}#sk-container-id-2 div.sk-serial::before {content: \"\";position: absolute;border-left: 1px solid gray;box-sizing: border-box;top: 0;bottom: 0;left: 50%;z-index: 0;}#sk-container-id-2 div.sk-serial {display: flex;flex-direction: column;align-items: center;background-color: white;padding-right: 0.2em;padding-left: 0.2em;position: relative;}#sk-container-id-2 div.sk-item {position: relative;z-index: 1;}#sk-container-id-2 div.sk-parallel {display: flex;align-items: stretch;justify-content: center;background-color: white;position: relative;}#sk-container-id-2 div.sk-item::before, #sk-container-id-2 div.sk-parallel-item::before {content: \"\";position: absolute;border-left: 1px solid gray;box-sizing: border-box;top: 0;bottom: 0;left: 50%;z-index: -1;}#sk-container-id-2 div.sk-parallel-item {display: flex;flex-direction: column;z-index: 1;position: relative;background-color: white;}#sk-container-id-2 div.sk-parallel-item:first-child::after {align-self: flex-end;width: 50%;}#sk-container-id-2 div.sk-parallel-item:last-child::after {align-self: flex-start;width: 50%;}#sk-container-id-2 div.sk-parallel-item:only-child::after {width: 0;}#sk-container-id-2 div.sk-dashed-wrapped {border: 1px dashed gray;margin: 0 0.4em 0.5em 0.4em;box-sizing: border-box;padding-bottom: 0.4em;background-color: white;}#sk-container-id-2 div.sk-label label {font-family: monospace;font-weight: bold;display: inline-block;line-height: 1.2em;}#sk-container-id-2 div.sk-label-container {text-align: center;}#sk-container-id-2 div.sk-container {/* jupyter's `normalize.less` sets `[hidden] { display: none; }` but bootstrap.min.css set `[hidden] { display: none !important; }` so we also need the `!important` here to be able to override the default hidden behavior on the sphinx rendered scikit-learn.org. See: https://github.com/scikit-learn/scikit-learn/issues/21755 */display: inline-block !important;position: relative;}#sk-container-id-2 div.sk-text-repr-fallback {display: none;}</style><div id=\"sk-container-id-2\" class=\"sk-top-container\"><div class=\"sk-text-repr-fallback\"><pre>RandomForestClassifier(n_estimators=10, random_state=2)</pre><b>In a Jupyter environment, please rerun this cell to show the HTML representation or trust the notebook. <br />On GitHub, the HTML representation is unable to render, please try loading this page with nbviewer.org.</b></div><div class=\"sk-container\" hidden><div class=\"sk-item\"><div class=\"sk-estimator sk-toggleable\"><input class=\"sk-toggleable__control sk-hidden--visually\" id=\"sk-estimator-id-2\" type=\"checkbox\" checked><label for=\"sk-estimator-id-2\" class=\"sk-toggleable__label sk-toggleable__label-arrow\">RandomForestClassifier</label><div class=\"sk-toggleable__content\"><pre>RandomForestClassifier(n_estimators=10, random_state=2)</pre></div></div></div></div></div>"
            ]
          },
          "metadata": {},
          "execution_count": 5
        }
      ]
    },
    {
      "cell_type": "markdown",
      "source": [
        "Проинициализируем модель случайного леса:"
      ],
      "metadata": {
        "id": "AwpN1nDJ9Cw_"
      }
    },
    {
      "cell_type": "code",
      "source": [
        "forest = RandomForestClassifier(n_estimators=10, random_state=2)\n",
        "forest.fit(X_train, y_train)"
      ],
      "metadata": {
        "id": "WkAMSms29CYP"
      },
      "execution_count": null,
      "outputs": []
    },
    {
      "cell_type": "markdown",
      "source": [
        "Мы подготовили процесс вычисления bias-variance decomposition и реализовали его по аналогии с лекциями."
      ],
      "metadata": {
        "id": "E46NLbuP9Kd9"
      }
    },
    {
      "cell_type": "code",
      "execution_count": null,
      "metadata": {
        "id": "NBqS7D3-yaWk"
      },
      "outputs": [],
      "source": [
        "from sklearn.model_selection import ShuffleSplit, train_test_split\n",
        "\n",
        "# Вычисляем bias-variance\n",
        "def compute_bias_variance(clf, X, y):\n",
        "    # Бутстрепы\n",
        "    n_repeat = 40\n",
        "    shuffle_split = ShuffleSplit(test_size=0.33, n_splits=n_repeat, random_state=0)\n",
        "\n",
        "    # Переменная для сохранения предсказания\n",
        "    y_all_pred = [[] for _ in range(len(y))]\n",
        "\n",
        "    # Обучим классификатор на каждом бутстрепе и оценим предсказания\n",
        "    for i, (train_index, test_index) in enumerate(shuffle_split.split(X)):\n",
        "        # Обучим модель на трейне и получим значение теста\n",
        "        clf.fit(X[train_index], y[train_index])\n",
        "        y_pred = clf.predict(X[test_index])\n",
        "\n",
        "        # Сохраним предсказания\n",
        "        for j,index in enumerate(test_index):\n",
        "            y_all_pred[index].append(y_pred[j])\n",
        "\n",
        "    # Вычислим смещение, разброс и ошибку.\n",
        "    bias_sq = sum([ (1 - x.count(y[i])/len(x))**2 * len(x)/n_repeat\n",
        "                for i,x in enumerate(y_all_pred)])\n",
        "    var = sum([((1 - ((x.count(0)/len(x))**2 + (x.count(1)/len(x))**2))/2) * len(x)/n_repeat\n",
        "               for i,x in enumerate(y_all_pred)])\n",
        "    error = sum([ (1 - x.count(y[i])/len(x)) * len(x)/n_repeat\n",
        "            for i,x in enumerate(y_all_pred)])\n",
        "\n",
        "    return np.sqrt(bias_sq), var, error"
      ]
    },
    {
      "cell_type": "markdown",
      "source": [
        "Отрисуем полученные результаты:"
      ],
      "metadata": {
        "id": "KCRn-8_E-DN5"
      }
    },
    {
      "cell_type": "code",
      "source": [
        "def plot_bias_variance_rf(clf, X, y):\n",
        "    bias_scores = []\n",
        "    var_scores = []\n",
        "    err_scores = []\n",
        "    n_estimators= [1, 2, 4, 8, 16, 32, 64, 128, 256, 512, 1024]\n",
        "\n",
        "    for i in n_estimators:\n",
        "        b,v,e = compute_bias_variance(clf.set_params(random_state=0,n_estimators=i),X,y)\n",
        "        bias_scores.append(b)\n",
        "        var_scores.append(v)\n",
        "        err_scores.append(e)\n",
        "\n",
        "    plt.figure(figsize=(5,2))\n",
        "    plt.rcParams.update({'font.size': 12})\n",
        "    plt.suptitle(clf.__class__.__name__)\n",
        "    plt.plot(n_estimators, var_scores,label =\"variance\" )\n",
        "    plt.plot(n_estimators, np.square(bias_scores),label =\"bias^2\")\n",
        "    plt.plot(n_estimators, err_scores,label =\"error\" )\n",
        "    plt.xscale('log')\n",
        "    plt.xlabel(\"n_estimators\")\n",
        "    plt.legend(loc=\"best\")\n",
        "    plt.show()\n",
        "\n",
        "X, y = cancer.data, cancer.target\n",
        "rf = RandomForestClassifier(random_state=0, n_estimators=512, n_jobs=-1)\n",
        "plot_bias_variance_rf(rf, X, y)"
      ],
      "metadata": {
        "colab": {
          "base_uri": "https://localhost:8080/",
          "height": 264
        },
        "id": "TONGzv45L586",
        "outputId": "e7b7dfb5-706e-4349-b077-6d9c3627c98e"
      },
      "execution_count": null,
      "outputs": [
        {
          "output_type": "display_data",
          "data": {
            "text/plain": [
              "<Figure size 500x200 with 1 Axes>"
            ],
            "image/png": "[encoded data removed]"
          },
          "metadata": {}
        }
      ]
    },
    {
      "cell_type": "markdown",
      "source": [
        "Какие выводы мы можем сделать из этого графика?\n",
        "\n",
        "\n",
        "1.   Разброс и ошибка уменьшаются с увеличением числа `estimators`.\n",
        "2.   Смещение не подвержено влиянию количества `estimators`.\n",
        "3.   Начиная с числа `estimators` равного 10^2 размер ошибки и разброса почти не меняется.\n",
        "\n"
      ],
      "metadata": {
        "id": "qT2FLddM-GGD"
      }
    },
    {
      "cell_type": "markdown",
      "source": [
        "### **[Задание 1]**\n",
        "\n",
        "В этом ноутбуке вам потребуется выполнить всего одно задание. Мы подумали, что в домашней работе и в первом семинаре заданий на код получилось достаточно, а потому мы хотим, чтобы вы происследовали алгоритм какой-нибудь алгоритм классификации (например, возьмите kNN и Voting) с помощью реализованных выше функций.\n",
        "\n",
        "Обучите модели, постройте для них bias-variance decomposition график и сделайте выводы относительно поведения модели.\n",
        "\n",
        "Это творческое задание, в рамках которого мы хотели бы видеть ваши креативные подходы"
      ],
      "metadata": {
        "id": "yq3dfHAZSTb2"
      }
    },
    {
      "cell_type": "code",
      "source": [],
      "metadata": {
        "id": "6T8_ljyNMCPY"
      },
      "execution_count": null,
      "outputs": []
    }
  ]
}