{
 "nbformat": 4,
 "nbformat_minor": 0,
 "metadata": {
  "colab": {
   "provenance": [],
   "toc_visible": true
  },
  "kernelspec": {
   "name": "python3",
   "language": "python",
   "display_name": "Python 3 (ipykernel)"
  },
  "language_info": {
   "name": "python"
  }
 },
 "cells": [
  {
   "cell_type": "markdown",
   "source": [
    "# Домашнее задание"
   ],
   "metadata": {
    "id": "7AOa19oLV0xY"
   }
  },
  {
   "cell_type": "markdown",
   "source": [
    "На семинаре мы разбирались с классификаторами, а в домашнем задании будем разбираться с моделями регрессии.\n",
    "\n",
    "Но не бойтесь: принципы работы похожи, а мы оставили ссылки на документацию и небольшие подсказки"
   ],
   "metadata": {
    "id": "raJsOgp5V6iD"
   }
  },
  {
   "cell_type": "markdown",
   "source": [
    "Для работы мы выбрали датасет Ames Housing.\n",
    "\n",
    "Мы подготовили две модели регрессии, с которыми в будете работать и обучать на них ансамблевые модели: линейную регрессию и модель 10-ближайших соседей, чтобы вам не пришлось мучаться с выбором моделей :)"
   ],
   "metadata": {
    "id": "XV3Sa9RWb5IG"
   }
  },
  {
   "cell_type": "code",
   "execution_count": 1,
   "metadata": {
    "id": "noiNWEKhiaqP",
    "ExecuteTime": {
     "end_time": "2024-02-21T17:44:05.422898Z",
     "start_time": "2024-02-21T17:44:05.405977Z"
    }
   },
   "outputs": [],
   "source": [
    "import pandas as pd\n",
    "df_housing = pd.read_csv(\"AmesHousing.txt\", sep=\"\\t\")\n",
    "\n",
    "X = df_housing[[\"Gr Liv Area\", \"Bedroom AbvGr\", \"Full Bath\"]]\n",
    "y = df_housing[\"SalePrice\"]"
   ]
  },
  {
   "cell_type": "code",
   "source": [
    "from sklearn.linear_model import LinearRegression\n",
    "from sklearn.neighbors import KNeighborsRegressor\n",
    "from sklearn.preprocessing import StandardScaler\n",
    "from sklearn.pipeline import make_pipeline\n",
    "from sklearn.model_selection import train_test_split\n",
    "\n",
    "\n",
    "(feat_train, feat_test, tar_train, tar_test) = train_test_split(X, y, test_size=0.1, random_state=42)\n",
    "\n",
    "\n",
    "# Обучим линейную модель\n",
    "linear_model = LinearRegression()\n",
    "linear_model.fit(X=feat_train, y=tar_train)\n",
    "\n",
    "# Обучим модель модель 10 ближайших соседей\n",
    "knn_model = make_pipeline(\n",
    "    StandardScaler(),\n",
    "    KNeighborsRegressor(n_neighbors=10)\n",
    ")\n",
    "knn_model.fit(X=feat_train, y=tar_train)\n",
    "\n",
    "# Получим предсказание для дома с признаками new_house = [[1500, 2, 2]]\n",
    "new_house = [[1500, 2, 2]]\n",
    "linear_model.predict(new_house), knn_model.predict(new_house)"
   ],
   "metadata": {
    "colab": {
     "base_uri": "https://localhost:8080/"
    },
    "id": "ZGB4G7bxatwr",
    "outputId": "0b2be681-88f8-4b2d-d8e8-213e84a7df68",
    "ExecuteTime": {
     "end_time": "2024-02-21T17:44:17.093462Z",
     "start_time": "2024-02-21T17:44:16.727697Z"
    }
   },
   "execution_count": 2,
   "outputs": [
    {
     "name": "stderr",
     "output_type": "stream",
     "text": [
      "/Library/Python/3.9/site-packages/sklearn/base.py:465: UserWarning: X does not have valid feature names, but LinearRegression was fitted with feature names\n",
      "  warnings.warn(\n",
      "/Library/Python/3.9/site-packages/sklearn/base.py:465: UserWarning: X does not have valid feature names, but StandardScaler was fitted with feature names\n",
      "  warnings.warn(\n"
     ]
    },
    {
     "data": {
      "text/plain": "(array([216665.27072791]), array([211395.8]))"
     },
     "execution_count": 2,
     "metadata": {},
     "output_type": "execute_result"
    }
   ]
  },
  {
   "cell_type": "markdown",
   "source": [
    "Модель $k$-ближайших соседей кажется чуть более подходящим вариантом, чем обычная линейная регрессия. Давайте скомбинируем их и попробуем получить новые результаты"
   ],
   "metadata": {
    "id": "FamMCxD1bB7c"
   }
  },
  {
   "cell_type": "markdown",
   "source": [
    "### **[Задание 1]**\n",
    "\n",
    "Начнем с [`VotingRegressor`](https://scikit-learn.org/stable/modules/generated/sklearn.ensemble.VotingRegressor.html#sklearn.ensemble.VotingRegressor).\n",
    "\n",
    "Импортируйте этот класс, инициализируйте модель с `estimator`, состоящим из наших обученных моделей линейной регрессии и $k$-ближайших соседей.\n",
    "\n",
    "\n"
   ],
   "metadata": {
    "id": "NuR6DglkggGm"
   }
  },
  {
   "cell_type": "code",
   "source": [
    "from sklearn.ensemble import VotingRegressor\n",
    "\n",
    "# Создаем VotingRegressor\n",
    "voting_regressor = VotingRegressor(\n",
    "    estimators=[\n",
    "        ('linear', linear_model),\n",
    "        ('knn', knn_model)\n",
    "    ]\n",
    ")"
   ],
   "metadata": {
    "id": "siN_qelvi4i0",
    "ExecuteTime": {
     "end_time": "2024-02-21T18:02:20.631267Z",
     "start_time": "2024-02-21T18:02:20.622687Z"
    }
   },
   "execution_count": 4,
   "outputs": []
  },
  {
   "cell_type": "markdown",
   "source": [
    "### **[Задание 2]**\n",
    "\n",
    "Запустите обучение на тренировочной выборке.\n",
    "\n",
    "\n"
   ],
   "metadata": {
    "id": "vTCRHr4vkIRk"
   }
  },
  {
   "cell_type": "code",
   "source": [
    "voting_regressor.fit(X=feat_train, y=tar_train)"
   ],
   "metadata": {
    "id": "GHzxlRBBkERh",
    "ExecuteTime": {
     "end_time": "2024-02-21T18:02:23.057225Z",
     "start_time": "2024-02-21T18:02:23.042617Z"
    }
   },
   "execution_count": 5,
   "outputs": [
    {
     "data": {
      "text/plain": "VotingRegressor(estimators=[('linear', LinearRegression()),\n                            ('knn',\n                             Pipeline(steps=[('standardscaler',\n                                              StandardScaler()),\n                                             ('kneighborsregressor',\n                                              KNeighborsRegressor(n_neighbors=10))]))])",
      "text/html": "<style>#sk-container-id-1 {color: black;}#sk-container-id-1 pre{padding: 0;}#sk-container-id-1 div.sk-toggleable {background-color: white;}#sk-container-id-1 label.sk-toggleable__label {cursor: pointer;display: block;width: 100%;margin-bottom: 0;padding: 0.3em;box-sizing: border-box;text-align: center;}#sk-container-id-1 label.sk-toggleable__label-arrow:before {content: \"▸\";float: left;margin-right: 0.25em;color: #696969;}#sk-container-id-1 label.sk-toggleable__label-arrow:hover:before {color: black;}#sk-container-id-1 div.sk-estimator:hover label.sk-toggleable__label-arrow:before {color: black;}#sk-container-id-1 div.sk-toggleable__content {max-height: 0;max-width: 0;overflow: hidden;text-align: left;background-color: #f0f8ff;}#sk-container-id-1 div.sk-toggleable__content pre {margin: 0.2em;color: black;border-radius: 0.25em;background-color: #f0f8ff;}#sk-container-id-1 input.sk-toggleable__control:checked~div.sk-toggleable__content {max-height: 200px;max-width: 100%;overflow: auto;}#sk-container-id-1 input.sk-toggleable__control:checked~label.sk-toggleable__label-arrow:before {content: \"▾\";}#sk-container-id-1 div.sk-estimator input.sk-toggleable__control:checked~label.sk-toggleable__label {background-color: #d4ebff;}#sk-container-id-1 div.sk-label input.sk-toggleable__control:checked~label.sk-toggleable__label {background-color: #d4ebff;}#sk-container-id-1 input.sk-hidden--visually {border: 0;clip: rect(1px 1px 1px 1px);clip: rect(1px, 1px, 1px, 1px);height: 1px;margin: -1px;overflow: hidden;padding: 0;position: absolute;width: 1px;}#sk-container-id-1 div.sk-estimator {font-family: monospace;background-color: #f0f8ff;border: 1px dotted black;border-radius: 0.25em;box-sizing: border-box;margin-bottom: 0.5em;}#sk-container-id-1 div.sk-estimator:hover {background-color: #d4ebff;}#sk-container-id-1 div.sk-parallel-item::after {content: \"\";width: 100%;border-bottom: 1px solid gray;flex-grow: 1;}#sk-container-id-1 div.sk-label:hover label.sk-toggleable__label {background-color: #d4ebff;}#sk-container-id-1 div.sk-serial::before {content: \"\";position: absolute;border-left: 1px solid gray;box-sizing: border-box;top: 0;bottom: 0;left: 50%;z-index: 0;}#sk-container-id-1 div.sk-serial {display: flex;flex-direction: column;align-items: center;background-color: white;padding-right: 0.2em;padding-left: 0.2em;position: relative;}#sk-container-id-1 div.sk-item {position: relative;z-index: 1;}#sk-container-id-1 div.sk-parallel {display: flex;align-items: stretch;justify-content: center;background-color: white;position: relative;}#sk-container-id-1 div.sk-item::before, #sk-container-id-1 div.sk-parallel-item::before {content: \"\";position: absolute;border-left: 1px solid gray;box-sizing: border-box;top: 0;bottom: 0;left: 50%;z-index: -1;}#sk-container-id-1 div.sk-parallel-item {display: flex;flex-direction: column;z-index: 1;position: relative;background-color: white;}#sk-container-id-1 div.sk-parallel-item:first-child::after {align-self: flex-end;width: 50%;}#sk-container-id-1 div.sk-parallel-item:last-child::after {align-self: flex-start;width: 50%;}#sk-container-id-1 div.sk-parallel-item:only-child::after {width: 0;}#sk-container-id-1 div.sk-dashed-wrapped {border: 1px dashed gray;margin: 0 0.4em 0.5em 0.4em;box-sizing: border-box;padding-bottom: 0.4em;background-color: white;}#sk-container-id-1 div.sk-label label {font-family: monospace;font-weight: bold;display: inline-block;line-height: 1.2em;}#sk-container-id-1 div.sk-label-container {text-align: center;}#sk-container-id-1 div.sk-container {/* jupyter's `normalize.less` sets `[hidden] { display: none; }` but bootstrap.min.css set `[hidden] { display: none !important; }` so we also need the `!important` here to be able to override the default hidden behavior on the sphinx rendered scikit-learn.org. See: https://github.com/scikit-learn/scikit-learn/issues/21755 */display: inline-block !important;position: relative;}#sk-container-id-1 div.sk-text-repr-fallback {display: none;}</style><div id=\"sk-container-id-1\" class=\"sk-top-container\"><div class=\"sk-text-repr-fallback\"><pre>VotingRegressor(estimators=[(&#x27;linear&#x27;, LinearRegression()),\n                            (&#x27;knn&#x27;,\n                             Pipeline(steps=[(&#x27;standardscaler&#x27;,\n                                              StandardScaler()),\n                                             (&#x27;kneighborsregressor&#x27;,\n                                              KNeighborsRegressor(n_neighbors=10))]))])</pre><b>In a Jupyter environment, please rerun this cell to show the HTML representation or trust the notebook. <br />On GitHub, the HTML representation is unable to render, please try loading this page with nbviewer.org.</b></div><div class=\"sk-container\" hidden><div class=\"sk-item sk-dashed-wrapped\"><div class=\"sk-label-container\"><div class=\"sk-label sk-toggleable\"><input class=\"sk-toggleable__control sk-hidden--visually\" id=\"sk-estimator-id-1\" type=\"checkbox\" ><label for=\"sk-estimator-id-1\" class=\"sk-toggleable__label sk-toggleable__label-arrow\">VotingRegressor</label><div class=\"sk-toggleable__content\"><pre>VotingRegressor(estimators=[(&#x27;linear&#x27;, LinearRegression()),\n                            (&#x27;knn&#x27;,\n                             Pipeline(steps=[(&#x27;standardscaler&#x27;,\n                                              StandardScaler()),\n                                             (&#x27;kneighborsregressor&#x27;,\n                                              KNeighborsRegressor(n_neighbors=10))]))])</pre></div></div></div><div class=\"sk-parallel\"><div class=\"sk-parallel-item\"><div class=\"sk-item\"><div class=\"sk-label-container\"><div class=\"sk-label sk-toggleable\"><label>linear</label></div></div><div class=\"sk-serial\"><div class=\"sk-item\"><div class=\"sk-estimator sk-toggleable\"><input class=\"sk-toggleable__control sk-hidden--visually\" id=\"sk-estimator-id-2\" type=\"checkbox\" ><label for=\"sk-estimator-id-2\" class=\"sk-toggleable__label sk-toggleable__label-arrow\">LinearRegression</label><div class=\"sk-toggleable__content\"><pre>LinearRegression()</pre></div></div></div></div></div></div><div class=\"sk-parallel-item\"><div class=\"sk-item\"><div class=\"sk-label-container\"><div class=\"sk-label sk-toggleable\"><label>knn</label></div></div><div class=\"sk-serial\"><div class=\"sk-item\"><div class=\"sk-serial\"><div class=\"sk-item\"><div class=\"sk-estimator sk-toggleable\"><input class=\"sk-toggleable__control sk-hidden--visually\" id=\"sk-estimator-id-3\" type=\"checkbox\" ><label for=\"sk-estimator-id-3\" class=\"sk-toggleable__label sk-toggleable__label-arrow\">StandardScaler</label><div class=\"sk-toggleable__content\"><pre>StandardScaler()</pre></div></div></div><div class=\"sk-item\"><div class=\"sk-estimator sk-toggleable\"><input class=\"sk-toggleable__control sk-hidden--visually\" id=\"sk-estimator-id-4\" type=\"checkbox\" ><label for=\"sk-estimator-id-4\" class=\"sk-toggleable__label sk-toggleable__label-arrow\">KNeighborsRegressor</label><div class=\"sk-toggleable__content\"><pre>KNeighborsRegressor(n_neighbors=10)</pre></div></div></div></div></div></div></div></div></div></div></div></div>"
     },
     "execution_count": 5,
     "metadata": {},
     "output_type": "execute_result"
    }
   ]
  },
  {
   "cell_type": "markdown",
   "source": [
    "### **[Задание 3]**\n",
    "\n",
    "Постройте предсказание для объекта `new_house` и для тестовой выборки.\n"
   ],
   "metadata": {
    "id": "8DIsixP2kI1M"
   }
  },
  {
   "cell_type": "code",
   "source": [
    "predictions_voting = voting_regressor.predict(new_house)\n",
    "predictions_voting"
   ],
   "metadata": {
    "id": "x4S3zsP0kE0Q",
    "ExecuteTime": {
     "end_time": "2024-02-21T18:02:34.954741Z",
     "start_time": "2024-02-21T18:02:34.931287Z"
    }
   },
   "execution_count": 6,
   "outputs": [
    {
     "name": "stderr",
     "output_type": "stream",
     "text": [
      "/Library/Python/3.9/site-packages/sklearn/base.py:465: UserWarning: X does not have valid feature names, but LinearRegression was fitted with feature names\n",
      "  warnings.warn(\n",
      "/Library/Python/3.9/site-packages/sklearn/base.py:465: UserWarning: X does not have valid feature names, but StandardScaler was fitted with feature names\n",
      "  warnings.warn(\n"
     ]
    },
    {
     "data": {
      "text/plain": "array([214030.53536396])"
     },
     "execution_count": 6,
     "metadata": {},
     "output_type": "execute_result"
    }
   ]
  },
  {
   "cell_type": "markdown",
   "source": [
    "### **[Задание 4]**\n",
    "\n",
    "Вычислите метрики качества модели. MSE и RMSE будут интересным вариантом, но вы можете выбрать любые две подходящие из этой [страницы документации](https://www.google.com/url?sa=t&rct=j&q=&esrc=s&source=web&cd=&ved=2ahUKEwi7vICTy-qAAxWZHBAIHdudDEMQFnoECBAQAQ&url=http%3A%2F%2Fscikit-learn.org%2Fstable%2Fmodules%2Fmodel_evaluation.html&usg=AOvVaw0dp86tZ28Ezx0G4H5I8rZY&opi=89978449)"
   ],
   "metadata": {
    "id": "zNGEtbE_kynL"
   }
  },
  {
   "cell_type": "code",
   "source": [
    "from sklearn.metrics import mean_squared_error\n",
    "import numpy as np\n",
    "\n",
    "# Получим предсказания модели для тестовых данных\n",
    "predictions_voting_test = voting_regressor.predict(feat_test)\n",
    "\n",
    "# Вычислим MSE и RMSE для модели\n",
    "mse_voting = mean_squared_error(tar_test, predictions_voting_test)\n",
    "rmse_voting = np.sqrt(mse_voting)\n"
   ],
   "metadata": {
    "id": "orsP0PfDls9O",
    "ExecuteTime": {
     "end_time": "2024-02-21T18:06:29.593486Z",
     "start_time": "2024-02-21T18:06:29.586931Z"
    }
   },
   "execution_count": 7,
   "outputs": []
  },
  {
   "cell_type": "markdown",
   "source": [
    "### **[Задание 5]**\n",
    "\n",
    "C `VotingRegressor` разобрались, а теперь вам необходимо реализовать еще два алгоритма: [`RandomForestClassifier`](https://scikit-learn.org/stable/modules/generated/sklearn.ensemble.RandomForestClassifier.html#sklearn.ensemble.RandomForestClassifier) и [`StackingClassifier`](https://scikit-learn.org/stable/modules/generated/sklearn.ensemble.StackingClassifier.html#sklearn.ensemble.StackingClassifier).\n",
    "\n",
    "Выполните задания 1-4 для этих двух алгоритмов."
   ],
   "metadata": {
    "id": "acAKhxAhqDez"
   }
  },
  {
   "cell_type": "code",
   "source": [
    "from sklearn.ensemble import RandomForestClassifier\n",
    "from sklearn.metrics import accuracy_score\n",
    "\n",
    "# Создаем и обучаем RandomForestClassifier\n",
    "random_forest_classifier = RandomForestClassifier(random_state=42)\n",
    "random_forest_classifier.fit(X=feat_train, y=tar_train)\n",
    "\n",
    "# Получим предсказания для тестовых данных\n",
    "predictions_rf = random_forest_classifier.predict(feat_test)\n",
    "\n",
    "# Вычислим метрики качества модели\n",
    "accuracy_rf = accuracy_score(tar_test, predictions_rf)\n",
    "accuracy_rf"
   ],
   "metadata": {
    "id": "ePjpCam7rck6",
    "ExecuteTime": {
     "end_time": "2024-02-21T18:10:42.749939Z",
     "start_time": "2024-02-21T18:10:40.202921Z"
    }
   },
   "execution_count": 9,
   "outputs": [
    {
     "data": {
      "text/plain": "0.006825938566552901"
     },
     "execution_count": 9,
     "metadata": {},
     "output_type": "execute_result"
    }
   ]
  },
  {
   "cell_type": "code",
   "outputs": [
    {
     "name": "stderr",
     "output_type": "stream",
     "text": [
      "/Library/Python/3.9/site-packages/sklearn/model_selection/_split.py:737: UserWarning: The least populated class in y has only 1 members, which is less than n_splits=5.\n",
      "  warnings.warn(\n",
      "/Library/Python/3.9/site-packages/sklearn/model_selection/_validation.py:1163: RuntimeWarning: Number of classes in training fold (840) does not match total number of classes (961). Results may not be appropriate for your use case. To fix this, use a cross-validation technique resulting in properly stratified folds\n",
      "  warnings.warn(\n",
      "/Library/Python/3.9/site-packages/sklearn/model_selection/_validation.py:1163: RuntimeWarning: Number of classes in training fold (839) does not match total number of classes (961). Results may not be appropriate for your use case. To fix this, use a cross-validation technique resulting in properly stratified folds\n",
      "  warnings.warn(\n",
      "/Library/Python/3.9/site-packages/sklearn/model_selection/_validation.py:1163: RuntimeWarning: Number of classes in training fold (843) does not match total number of classes (961). Results may not be appropriate for your use case. To fix this, use a cross-validation technique resulting in properly stratified folds\n",
      "  warnings.warn(\n",
      "/Library/Python/3.9/site-packages/sklearn/model_selection/_validation.py:1163: RuntimeWarning: Number of classes in training fold (853) does not match total number of classes (961). Results may not be appropriate for your use case. To fix this, use a cross-validation technique resulting in properly stratified folds\n",
      "  warnings.warn(\n",
      "/Library/Python/3.9/site-packages/sklearn/model_selection/_validation.py:1163: RuntimeWarning: Number of classes in training fold (845) does not match total number of classes (961). Results may not be appropriate for your use case. To fix this, use a cross-validation technique resulting in properly stratified folds\n",
      "  warnings.warn(\n",
      "/Library/Python/3.9/site-packages/sklearn/model_selection/_split.py:737: UserWarning: The least populated class in y has only 1 members, which is less than n_splits=5.\n",
      "  warnings.warn(\n",
      "/Library/Python/3.9/site-packages/sklearn/model_selection/_validation.py:1163: RuntimeWarning: Number of classes in training fold (840) does not match total number of classes (961). Results may not be appropriate for your use case. To fix this, use a cross-validation technique resulting in properly stratified folds\n",
      "  warnings.warn(\n",
      "/Library/Python/3.9/site-packages/sklearn/model_selection/_validation.py:1163: RuntimeWarning: Number of classes in training fold (839) does not match total number of classes (961). Results may not be appropriate for your use case. To fix this, use a cross-validation technique resulting in properly stratified folds\n",
      "  warnings.warn(\n",
      "/Library/Python/3.9/site-packages/sklearn/model_selection/_validation.py:1163: RuntimeWarning: Number of classes in training fold (843) does not match total number of classes (961). Results may not be appropriate for your use case. To fix this, use a cross-validation technique resulting in properly stratified folds\n",
      "  warnings.warn(\n",
      "/Library/Python/3.9/site-packages/sklearn/model_selection/_validation.py:1163: RuntimeWarning: Number of classes in training fold (853) does not match total number of classes (961). Results may not be appropriate for your use case. To fix this, use a cross-validation technique resulting in properly stratified folds\n",
      "  warnings.warn(\n",
      "/Library/Python/3.9/site-packages/sklearn/model_selection/_validation.py:1163: RuntimeWarning: Number of classes in training fold (845) does not match total number of classes (961). Results may not be appropriate for your use case. To fix this, use a cross-validation technique resulting in properly stratified folds\n",
      "  warnings.warn(\n"
     ]
    },
    {
     "data": {
      "text/plain": "0.017064846416382253"
     },
     "execution_count": 10,
     "metadata": {},
     "output_type": "execute_result"
    }
   ],
   "source": [
    "from sklearn.ensemble import StackingClassifier\n",
    "from sklearn.linear_model import LogisticRegression\n",
    "from sklearn.tree import DecisionTreeClassifier\n",
    "\n",
    "# Определяем базовые классификаторы\n",
    "base_classifiers = [\n",
    "    ('rf', RandomForestClassifier(random_state=42)),\n",
    "    ('dt', DecisionTreeClassifier(random_state=42))\n",
    "]\n",
    "\n",
    "# Создаем и обучаем StackingClassifier\n",
    "stacking_classifier = StackingClassifier(\n",
    "    estimators=base_classifiers,\n",
    "    final_estimator=LogisticRegression()\n",
    ")\n",
    "stacking_classifier.fit(X=feat_train, y=tar_train)\n",
    "\n",
    "# Получим предсказания для тестовых данных\n",
    "predictions_stacking = stacking_classifier.predict(feat_test)\n",
    "\n",
    "# Вычислим метрики качества модели\n",
    "accuracy_stacking = accuracy_score(tar_test, predictions_stacking)\n",
    "accuracy_stacking\n"
   ],
   "metadata": {
    "collapsed": false,
    "ExecuteTime": {
     "end_time": "2024-02-21T18:11:37.137260Z",
     "start_time": "2024-02-21T18:11:06.438804Z"
    }
   },
   "execution_count": 10
  },
  {
   "cell_type": "code",
   "outputs": [],
   "source": [],
   "metadata": {
    "collapsed": false,
    "ExecuteTime": {
     "end_time": "2024-02-21T18:15:37.993812Z",
     "start_time": "2024-02-21T18:15:37.989473Z"
    }
   },
   "execution_count": 11
  }
 ]
}
