{
  "nbformat": 4,
  "nbformat_minor": 0,
  "metadata": {
    "colab": {
      "provenance": [],
      "toc_visible": true
    },
    "kernelspec": {
      "name": "python3",
      "display_name": "Python 3"
    },
    "language_info": {
      "name": "python"
    }
  },
  "cells": [
    {
      "cell_type": "markdown",
      "source": [
        "# Домашнее задание"
      ],
      "metadata": {
        "id": "7AOa19oLV0xY"
      }
    },
    {
      "cell_type": "markdown",
      "source": [
        "На семинаре мы разбирались с классификаторами, а в домашнем задании будем разбираться с моделями регрессии.\n",
        "\n",
        "Но не бойтесь: принципы работы похожи, а мы оставили ссылки на документацию и небольшие подсказки"
      ],
      "metadata": {
        "id": "raJsOgp5V6iD"
      }
    },
    {
      "cell_type": "markdown",
      "source": [
        "Для работы мы выбрали датасет Ames Housing.\n",
        "\n",
        "Мы подготовили две модели регрессии, с которыми в будете работать и обучать на них ансамблевые модели: линейную регрессию и модель 10-ближайших соседей, чтобы вам не пришлось мучаться с выбором моделей :)"
      ],
      "metadata": {
        "id": "XV3Sa9RWb5IG"
      }
    },
    {
      "cell_type": "code",
      "execution_count": null,
      "metadata": {
        "id": "noiNWEKhiaqP"
      },
      "outputs": [],
      "source": [
        "import pandas as pd\n",
        "df_housing = pd.read_csv(\"AmesHousing.txt\", sep=\"\\t\")\n",
        "\n",
        "X = df_housing[[\"Gr Liv Area\", \"Bedroom AbvGr\", \"Full Bath\"]]\n",
        "y = df_housing[\"SalePrice\"]"
      ]
    },
    {
      "cell_type": "code",
      "source": [
        "from sklearn.linear_model import LinearRegression\n",
        "from sklearn.neighbors import KNeighborsRegressor\n",
        "from sklearn.preprocessing import StandardScaler\n",
        "from sklearn.pipeline import make_pipeline\n",
        "from sklearn.model_selection import train_test_split\n",
        "\n",
        "\n",
        "(feat_train, feat_test, tar_train, tar_test) = train_test_split(X, y, test_size=0.1, random_state=42)\n",
        "\n",
        "\n",
        "# Обучим линейную модель\n",
        "linear_model = LinearRegression()\n",
        "linear_model.fit(X=feat_train, y=tar_train)\n",
        "\n",
        "# Обучим модель модель 10 ближайших соседей\n",
        "knn_model = make_pipeline(\n",
        "    StandardScaler(),\n",
        "    KNeighborsRegressor(n_neighbors=10)\n",
        ")\n",
        "knn_model.fit(X=feat_train, y=tar_train)\n",
        "\n",
        "# Получим предсказание для дома с признаками new_house = [[1500, 2, 2]]\n",
        "new_house = [[1500, 2, 2]]\n",
        "linear_model.predict(new_house), knn_model.predict(new_house)"
      ],
      "metadata": {
        "colab": {
          "base_uri": "https://localhost:8080/"
        },
        "id": "ZGB4G7bxatwr",
        "outputId": "0b2be681-88f8-4b2d-d8e8-213e84a7df68"
      },
      "execution_count": null,
      "outputs": [
        {
          "output_type": "stream",
          "name": "stderr",
          "text": [
            "/usr/local/lib/python3.10/dist-packages/sklearn/base.py:439: UserWarning: X does not have valid feature names, but LinearRegression was fitted with feature names\n",
            "  warnings.warn(\n",
            "/usr/local/lib/python3.10/dist-packages/sklearn/base.py:439: UserWarning: X does not have valid feature names, but StandardScaler was fitted with feature names\n",
            "  warnings.warn(\n"
          ]
        },
        {
          "output_type": "execute_result",
          "data": {
            "text/plain": [
              "(array([216665.27072791]), array([211395.8]))"
            ]
          },
          "metadata": {},
          "execution_count": 3
        }
      ]
    },
    {
      "cell_type": "markdown",
      "source": [
        "Модель $k$-ближайших соседей кажется чуть более подходящим вариантом, чем обычная линейная регрессия. Давайте скомбинируем их и попробуем получить новые результаты"
      ],
      "metadata": {
        "id": "FamMCxD1bB7c"
      }
    },
    {
      "cell_type": "markdown",
      "source": [
        "### **[Задание 1]**\n",
        "\n",
        "Начнем с [`VotingRegressor`](https://scikit-learn.org/stable/modules/generated/sklearn.ensemble.VotingRegressor.html#sklearn.ensemble.VotingRegressor).\n",
        "\n",
        "Импортируйте этот класс, инициализируйте модель с `estimator`, состоящим из наших обученных моделей линейной регрессии и $k$-ближайших соседей.\n",
        "\n",
        "\n"
      ],
      "metadata": {
        "id": "NuR6DglkggGm"
      }
    },
    {
      "cell_type": "code",
      "source": [
        "# Решение"
      ],
      "metadata": {
        "id": "siN_qelvi4i0"
      },
      "execution_count": null,
      "outputs": []
    },
    {
      "cell_type": "markdown",
      "source": [
        "### **[Задание 2]**\n",
        "\n",
        "Запустите обучение на тренировочной выборке.\n",
        "\n",
        "\n"
      ],
      "metadata": {
        "id": "vTCRHr4vkIRk"
      }
    },
    {
      "cell_type": "code",
      "source": [
        "# Решение"
      ],
      "metadata": {
        "id": "GHzxlRBBkERh"
      },
      "execution_count": null,
      "outputs": []
    },
    {
      "cell_type": "markdown",
      "source": [
        "### **[Задание 3]**\n",
        "\n",
        "Постройте предсказание для объекта `new_house` и для тестовой выборки.\n"
      ],
      "metadata": {
        "id": "8DIsixP2kI1M"
      }
    },
    {
      "cell_type": "code",
      "source": [
        "# Решение"
      ],
      "metadata": {
        "id": "x4S3zsP0kE0Q"
      },
      "execution_count": null,
      "outputs": []
    },
    {
      "cell_type": "markdown",
      "source": [
        "### **[Задание 4]**\n",
        "\n",
        "Вычислите метрики качества модели. MSE и RMSE будут интересным вариантом, но вы можете выбрать любые две подходящие из этой [страницы документации](https://www.google.com/url?sa=t&rct=j&q=&esrc=s&source=web&cd=&ved=2ahUKEwi7vICTy-qAAxWZHBAIHdudDEMQFnoECBAQAQ&url=http%3A%2F%2Fscikit-learn.org%2Fstable%2Fmodules%2Fmodel_evaluation.html&usg=AOvVaw0dp86tZ28Ezx0G4H5I8rZY&opi=89978449)"
      ],
      "metadata": {
        "id": "zNGEtbE_kynL"
      }
    },
    {
      "cell_type": "code",
      "source": [
        "# Решение"
      ],
      "metadata": {
        "id": "orsP0PfDls9O"
      },
      "execution_count": null,
      "outputs": []
    },
    {
      "cell_type": "markdown",
      "source": [
        "### **[Задание 5]**\n",
        "\n",
        "C `VotingRegressor` разобрались, а теперь вам необходимо реализовать еще два алгоритма: [`RandomForestClassifier`](https://scikit-learn.org/stable/modules/generated/sklearn.ensemble.RandomForestClassifier.html#sklearn.ensemble.RandomForestClassifier) и [`StackingClassifier`](https://scikit-learn.org/stable/modules/generated/sklearn.ensemble.StackingClassifier.html#sklearn.ensemble.StackingClassifier).\n",
        "\n",
        "Выполните задания 1-4 для этих двух алгоритмов."
      ],
      "metadata": {
        "id": "acAKhxAhqDez"
      }
    },
    {
      "cell_type": "code",
      "source": [],
      "metadata": {
        "id": "ePjpCam7rck6"
      },
      "execution_count": null,
      "outputs": []
    }
  ]
}