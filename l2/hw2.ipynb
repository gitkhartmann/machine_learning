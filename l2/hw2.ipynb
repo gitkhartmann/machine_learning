{
 "cells": [
  {
   "cell_type": "markdown",
   "id": "2b38c43a",
   "metadata": {
    "papermill": {
     "duration": 0.014551,
     "end_time": "2023-04-17T19:26:19.343221",
     "exception": false,
     "start_time": "2023-04-17T19:26:19.328670",
     "status": "completed"
    },
    "tags": [],
    "id": "2b38c43a"
   },
   "source": [
    "# 1. Введение\n",
    "В этой практике мы происследуем [набор данных Seattle Airbnb](https://www.kaggle.com/datasets/airbnb/seattle) из Kaggle. Мы будем следовать общеотраслевому стандартному процессу интеллектуального анализа данных ([CRISP-DM](http://www.crisp-dm.org)), который состоит из следующих этапов:\n",
    "1. Понимание бизнеса\n",
    "2. Понимание данных\n",
    "3. Подготовка данных\n",
    "4. Моделирование\n",
    "5. Оценка результата\n",
    "6. Внедрение (деплой)"
   ]
  },
  {
   "cell_type": "markdown",
   "id": "7e3b5357",
   "metadata": {
    "id": "7e3b5357",
    "papermill": {
     "duration": 0.011824,
     "end_time": "2023-04-17T19:26:19.370626",
     "exception": false,
     "start_time": "2023-04-17T19:26:19.358802",
     "status": "completed"
    },
    "tags": []
   },
   "source": [
    "## 1 Business Understanding\n",
    "<a id=\"business-understanding\"></a>"
   ]
  },
  {
   "cell_type": "markdown",
   "id": "1e2f3505",
   "metadata": {
    "id": "1e2f3505",
    "papermill": {
     "duration": 0.011948,
     "end_time": "2023-04-17T19:26:19.394806",
     "exception": false,
     "start_time": "2023-04-17T19:26:19.382858",
     "status": "completed"
    },
    "tags": []
   },
   "source": [
    "Airbnb — это платформа, которая позволяет владельцам домов и квартир сдавать свою недвижимость в краткосрочную аренду гостям. Этот сервис стал одним из лучших вариантов для путешественников благодаря своему удобству и гибкости.\n",
    "\n",
    "Датасет представляет собой набор списков недвижимости и их ключевых атрибутов, таких как размер объектов, наличие удобств, описание района, отзывы клиентов и многое другое.\n",
    "\n",
    "По датасету доступна справка с официального сайта [Inside Airbnb](http://insideairbnb.com/data-assumptions/).\n",
    "\n",
    "В данном ноутбуке мы попробуем полностью происследовать данные и изучить их без прямого использования методов машинного обучения."
   ]
  },
  {
   "cell_type": "markdown",
   "source": [
    "Импортируем все нужные нам библиотеки:"
   ],
   "metadata": {
    "id": "RTsq12oBS4fb"
   },
   "id": "RTsq12oBS4fb"
  },
  {
   "cell_type": "code",
   "execution_count": 1,
   "id": "70ad943d",
   "metadata": {
    "_cell_guid": "b1076dfc-b9ad-4769-8c92-a6c4dae69d19",
    "_kg_hide-input": true,
    "_uuid": "8f2839f25d086af736a60e9eeb907d3b93b6e0e5",
    "execution": {
     "iopub.execute_input": "2023-04-17T19:26:19.470089Z",
     "iopub.status.busy": "2023-04-17T19:26:19.469182Z",
     "iopub.status.idle": "2023-04-17T19:26:22.641682Z",
     "shell.execute_reply": "2023-04-17T19:26:22.640183Z"
    },
    "id": "70ad943d",
    "papermill": {
     "duration": 3.189635,
     "end_time": "2023-04-17T19:26:22.644837",
     "exception": false,
     "start_time": "2023-04-17T19:26:19.455202",
     "status": "completed"
    },
    "tags": [],
    "ExecuteTime": {
     "end_time": "2023-11-07T13:39:56.254069Z",
     "start_time": "2023-11-07T13:39:56.242174Z"
    }
   },
   "outputs": [],
   "source": [
    "import numpy as np\n",
    "import pandas as pd\n",
    "import seaborn as sns\n",
    "import warnings\n",
    "import matplotlib\n",
    "from matplotlib import pyplot as plt\n",
    "from scipy.stats import skew\n",
    "from scipy import stats\n",
    "import statsmodels.stats.multitest as multi"
   ]
  },
  {
   "cell_type": "markdown",
   "id": "96bb6477",
   "metadata": {
    "id": "96bb6477",
    "papermill": {
     "duration": 0.011917,
     "end_time": "2023-04-17T19:26:19.443140",
     "exception": false,
     "start_time": "2023-04-17T19:26:19.431223",
     "status": "completed"
    },
    "tags": []
   },
   "source": [
    "\n",
    "<a id=\"data-understanding\"></a>\n",
    "# 2 Data Understanding\n"
   ]
  },
  {
   "cell_type": "markdown",
   "source": [
    "Начнем с изучения данных. Основная цель этой стадии — получить полное представление о данных, их качестве и структуре, а также выявить потенциальные проблемы, связанные с ними (выбросы, NaN, несбалансированность классов).\n"
   ],
   "metadata": {
    "id": "WV2zg6qgiqjC"
   },
   "id": "WV2zg6qgiqjC"
  },
  {
   "cell_type": "markdown",
   "source": [
    "Настроим отображение `DataFrame` на экране с помощью функции [`pd.set_option`](https://pandas.pydata.org/docs/reference/api/pandas.set_option.html):"
   ],
   "metadata": {
    "id": "-K9ZCkE_TeeK"
   },
   "id": "-K9ZCkE_TeeK"
  },
  {
   "cell_type": "code",
   "source": [
    "pd.set_option('display.max_rows', 50)\n",
    "pd.set_option('display.max_columns', 50)\n",
    "warnings.filterwarnings(\"ignore\")"
   ],
   "metadata": {
    "id": "oThBSS-PTdE5",
    "ExecuteTime": {
     "end_time": "2023-11-07T14:15:38.456206Z",
     "start_time": "2023-11-07T14:15:38.438826Z"
    }
   },
   "id": "oThBSS-PTdE5",
   "execution_count": 23,
   "outputs": []
  },
  {
   "cell_type": "markdown",
   "source": [
    "### **[Задание 1]**\n",
    "\n",
    "Загрузите датасет `listings.csv`"
   ],
   "metadata": {
    "id": "q7WCzJwfTjYi"
   },
   "id": "q7WCzJwfTjYi"
  },
  {
   "cell_type": "code",
   "execution_count": 72,
   "id": "52123a79",
   "metadata": {
    "_kg_hide-input": false,
    "_kg_hide-output": true,
    "execution": {
     "iopub.execute_input": "2023-04-17T19:26:22.672604Z",
     "iopub.status.busy": "2023-04-17T19:26:22.672163Z",
     "iopub.status.idle": "2023-04-17T19:26:25.475158Z",
     "shell.execute_reply": "2023-04-17T19:26:25.473808Z"
    },
    "id": "52123a79",
    "papermill": {
     "duration": 2.821791,
     "end_time": "2023-04-17T19:26:25.478978",
     "exception": false,
     "start_time": "2023-04-17T19:26:22.657187",
     "status": "completed"
    },
    "tags": [],
    "ExecuteTime": {
     "end_time": "2023-11-07T17:39:24.871230Z",
     "start_time": "2023-11-07T17:39:24.703186Z"
    }
   },
   "outputs": [
    {
     "data": {
      "text/plain": "        id                           listing_url       scrape_id last_scraped  \\\n0   241032   https://www.airbnb.com/rooms/241032  20160104002432   2016-01-04   \n1   953595   https://www.airbnb.com/rooms/953595  20160104002432   2016-01-04   \n2  3308979  https://www.airbnb.com/rooms/3308979  20160104002432   2016-01-04   \n\n                                  name  \\\n0         Stylish Queen Anne Apartment   \n1   Bright & Airy Queen Anne Apartment   \n2  New Modern House-Amazing water view   \n\n                                             summary  \\\n0                                                NaN   \n1  Chemically sensitive? We've removed the irrita...   \n2  New modern house built in 2013.  Spectacular s...   \n\n                                               space  \\\n0  Make your self at home in this charming one-be...   \n1  Beautiful, hypoallergenic apartment in an extr...   \n2  Our house is modern, light and fresh with a wa...   \n\n                                         description experiences_offered  \\\n0  Make your self at home in this charming one-be...                none   \n1  Chemically sensitive? We've removed the irrita...                none   \n2  New modern house built in 2013.  Spectacular s...                none   \n\n                               neighborhood_overview  \\\n0                                                NaN   \n1  Queen Anne is a wonderful, truly functional vi...   \n2  Upper Queen Anne is a charming neighborhood fu...   \n\n                                               notes  \\\n0                                                NaN   \n1  What's up with the free pillows?  Our home was...   \n2  Our house is located just 5 short blocks to To...   \n\n                                             transit  \\\n0                                                NaN   \n1  Convenient bus stops are just down the block, ...   \n2  A bus stop is just 2 blocks away.   Easy bus a...   \n\n                                       thumbnail_url  \\\n0                                                NaN   \n1  https://a0.muscache.com/ac/pictures/14409893/f...   \n2                                                NaN   \n\n                                          medium_url  \\\n0                                                NaN   \n1  https://a0.muscache.com/im/pictures/14409893/f...   \n2                                                NaN   \n\n                                         picture_url  \\\n0  https://a1.muscache.com/ac/pictures/67560560/c...   \n1  https://a0.muscache.com/ac/pictures/14409893/f...   \n2  https://a2.muscache.com/ac/pictures/b4324e0f-a...   \n\n                                      xl_picture_url   host_id  \\\n0                                                NaN    956883   \n1  https://a0.muscache.com/ac/pictures/14409893/f...   5177328   \n2                                                NaN  16708587   \n\n                                     host_url host_name  host_since  \\\n0    https://www.airbnb.com/users/show/956883     Maija  2011-08-11   \n1   https://www.airbnb.com/users/show/5177328    Andrea  2013-02-21   \n2  https://www.airbnb.com/users/show/16708587      Jill  2014-06-12   \n\n                        host_location  \\\n0  Seattle, Washington, United States   \n1  Seattle, Washington, United States   \n2  Seattle, Washington, United States   \n\n                                          host_about  host_response_time  \\\n0  I am an artist, interior designer, and run a s...  within a few hours   \n1  Living east coast/left coast/overseas.  Time i...      within an hour   \n2  i love living in Seattle.  i grew up in the mi...  within a few hours   \n\n  host_response_rate host_acceptance_rate  ... has_availability  \\\n0                96%                 100%  ...                t   \n1                98%                 100%  ...                t   \n2                67%                 100%  ...                t   \n\n  availability_30 availability_60 availability_90  availability_365  \\\n0              14              41              71               346   \n1              13              13              16               291   \n2               1               6              17               220   \n\n   calendar_last_scraped number_of_reviews first_review last_review  \\\n0             2016-01-04               207   2011-11-01  2016-01-02   \n1             2016-01-04                43   2013-08-19  2015-12-29   \n2             2016-01-04                20   2014-07-30  2015-09-03   \n\n  review_scores_rating review_scores_accuracy review_scores_cleanliness  \\\n0                 95.0                   10.0                      10.0   \n1                 96.0                   10.0                      10.0   \n2                 97.0                   10.0                      10.0   \n\n  review_scores_checkin review_scores_communication review_scores_location  \\\n0                  10.0                        10.0                    9.0   \n1                  10.0                        10.0                   10.0   \n2                  10.0                        10.0                   10.0   \n\n  review_scores_value requires_license license jurisdiction_names  \\\n0                10.0                f     NaN         WASHINGTON   \n1                10.0                f     NaN         WASHINGTON   \n2                10.0                f     NaN         WASHINGTON   \n\n  instant_bookable  cancellation_policy  require_guest_profile_picture  \\\n0                f             moderate                              f   \n1                f               strict                              t   \n2                f               strict                              f   \n\n  require_guest_phone_verification calculated_host_listings_count  \\\n0                                f                              2   \n1                                t                              6   \n2                                f                              2   \n\n  reviews_per_month  \n0              4.07  \n1              1.48  \n2              1.15  \n\n[3 rows x 92 columns]",
      "text/html": "<div>\n<style scoped>\n    .dataframe tbody tr th:only-of-type {\n        vertical-align: middle;\n    }\n\n    .dataframe tbody tr th {\n        vertical-align: top;\n    }\n\n    .dataframe thead th {\n        text-align: right;\n    }\n</style>\n<table border=\"1\" class=\"dataframe\">\n  <thead>\n    <tr style=\"text-align: right;\">\n      <th></th>\n      <th>id</th>\n      <th>listing_url</th>\n      <th>scrape_id</th>\n      <th>last_scraped</th>\n      <th>name</th>\n      <th>summary</th>\n      <th>space</th>\n      <th>description</th>\n      <th>experiences_offered</th>\n      <th>neighborhood_overview</th>\n      <th>notes</th>\n      <th>transit</th>\n      <th>thumbnail_url</th>\n      <th>medium_url</th>\n      <th>picture_url</th>\n      <th>xl_picture_url</th>\n      <th>host_id</th>\n      <th>host_url</th>\n      <th>host_name</th>\n      <th>host_since</th>\n      <th>host_location</th>\n      <th>host_about</th>\n      <th>host_response_time</th>\n      <th>host_response_rate</th>\n      <th>host_acceptance_rate</th>\n      <th>...</th>\n      <th>has_availability</th>\n      <th>availability_30</th>\n      <th>availability_60</th>\n      <th>availability_90</th>\n      <th>availability_365</th>\n      <th>calendar_last_scraped</th>\n      <th>number_of_reviews</th>\n      <th>first_review</th>\n      <th>last_review</th>\n      <th>review_scores_rating</th>\n      <th>review_scores_accuracy</th>\n      <th>review_scores_cleanliness</th>\n      <th>review_scores_checkin</th>\n      <th>review_scores_communication</th>\n      <th>review_scores_location</th>\n      <th>review_scores_value</th>\n      <th>requires_license</th>\n      <th>license</th>\n      <th>jurisdiction_names</th>\n      <th>instant_bookable</th>\n      <th>cancellation_policy</th>\n      <th>require_guest_profile_picture</th>\n      <th>require_guest_phone_verification</th>\n      <th>calculated_host_listings_count</th>\n      <th>reviews_per_month</th>\n    </tr>\n  </thead>\n  <tbody>\n    <tr>\n      <th>0</th>\n      <td>241032</td>\n      <td>https://www.airbnb.com/rooms/241032</td>\n      <td>20160104002432</td>\n      <td>2016-01-04</td>\n      <td>Stylish Queen Anne Apartment</td>\n      <td>NaN</td>\n      <td>Make your self at home in this charming one-be...</td>\n      <td>Make your self at home in this charming one-be...</td>\n      <td>none</td>\n      <td>NaN</td>\n      <td>NaN</td>\n      <td>NaN</td>\n      <td>NaN</td>\n      <td>NaN</td>\n      <td>https://a1.muscache.com/ac/pictures/67560560/c...</td>\n      <td>NaN</td>\n      <td>956883</td>\n      <td>https://www.airbnb.com/users/show/956883</td>\n      <td>Maija</td>\n      <td>2011-08-11</td>\n      <td>Seattle, Washington, United States</td>\n      <td>I am an artist, interior designer, and run a s...</td>\n      <td>within a few hours</td>\n      <td>96%</td>\n      <td>100%</td>\n      <td>...</td>\n      <td>t</td>\n      <td>14</td>\n      <td>41</td>\n      <td>71</td>\n      <td>346</td>\n      <td>2016-01-04</td>\n      <td>207</td>\n      <td>2011-11-01</td>\n      <td>2016-01-02</td>\n      <td>95.0</td>\n      <td>10.0</td>\n      <td>10.0</td>\n      <td>10.0</td>\n      <td>10.0</td>\n      <td>9.0</td>\n      <td>10.0</td>\n      <td>f</td>\n      <td>NaN</td>\n      <td>WASHINGTON</td>\n      <td>f</td>\n      <td>moderate</td>\n      <td>f</td>\n      <td>f</td>\n      <td>2</td>\n      <td>4.07</td>\n    </tr>\n    <tr>\n      <th>1</th>\n      <td>953595</td>\n      <td>https://www.airbnb.com/rooms/953595</td>\n      <td>20160104002432</td>\n      <td>2016-01-04</td>\n      <td>Bright &amp; Airy Queen Anne Apartment</td>\n      <td>Chemically sensitive? We've removed the irrita...</td>\n      <td>Beautiful, hypoallergenic apartment in an extr...</td>\n      <td>Chemically sensitive? We've removed the irrita...</td>\n      <td>none</td>\n      <td>Queen Anne is a wonderful, truly functional vi...</td>\n      <td>What's up with the free pillows?  Our home was...</td>\n      <td>Convenient bus stops are just down the block, ...</td>\n      <td>https://a0.muscache.com/ac/pictures/14409893/f...</td>\n      <td>https://a0.muscache.com/im/pictures/14409893/f...</td>\n      <td>https://a0.muscache.com/ac/pictures/14409893/f...</td>\n      <td>https://a0.muscache.com/ac/pictures/14409893/f...</td>\n      <td>5177328</td>\n      <td>https://www.airbnb.com/users/show/5177328</td>\n      <td>Andrea</td>\n      <td>2013-02-21</td>\n      <td>Seattle, Washington, United States</td>\n      <td>Living east coast/left coast/overseas.  Time i...</td>\n      <td>within an hour</td>\n      <td>98%</td>\n      <td>100%</td>\n      <td>...</td>\n      <td>t</td>\n      <td>13</td>\n      <td>13</td>\n      <td>16</td>\n      <td>291</td>\n      <td>2016-01-04</td>\n      <td>43</td>\n      <td>2013-08-19</td>\n      <td>2015-12-29</td>\n      <td>96.0</td>\n      <td>10.0</td>\n      <td>10.0</td>\n      <td>10.0</td>\n      <td>10.0</td>\n      <td>10.0</td>\n      <td>10.0</td>\n      <td>f</td>\n      <td>NaN</td>\n      <td>WASHINGTON</td>\n      <td>f</td>\n      <td>strict</td>\n      <td>t</td>\n      <td>t</td>\n      <td>6</td>\n      <td>1.48</td>\n    </tr>\n    <tr>\n      <th>2</th>\n      <td>3308979</td>\n      <td>https://www.airbnb.com/rooms/3308979</td>\n      <td>20160104002432</td>\n      <td>2016-01-04</td>\n      <td>New Modern House-Amazing water view</td>\n      <td>New modern house built in 2013.  Spectacular s...</td>\n      <td>Our house is modern, light and fresh with a wa...</td>\n      <td>New modern house built in 2013.  Spectacular s...</td>\n      <td>none</td>\n      <td>Upper Queen Anne is a charming neighborhood fu...</td>\n      <td>Our house is located just 5 short blocks to To...</td>\n      <td>A bus stop is just 2 blocks away.   Easy bus a...</td>\n      <td>NaN</td>\n      <td>NaN</td>\n      <td>https://a2.muscache.com/ac/pictures/b4324e0f-a...</td>\n      <td>NaN</td>\n      <td>16708587</td>\n      <td>https://www.airbnb.com/users/show/16708587</td>\n      <td>Jill</td>\n      <td>2014-06-12</td>\n      <td>Seattle, Washington, United States</td>\n      <td>i love living in Seattle.  i grew up in the mi...</td>\n      <td>within a few hours</td>\n      <td>67%</td>\n      <td>100%</td>\n      <td>...</td>\n      <td>t</td>\n      <td>1</td>\n      <td>6</td>\n      <td>17</td>\n      <td>220</td>\n      <td>2016-01-04</td>\n      <td>20</td>\n      <td>2014-07-30</td>\n      <td>2015-09-03</td>\n      <td>97.0</td>\n      <td>10.0</td>\n      <td>10.0</td>\n      <td>10.0</td>\n      <td>10.0</td>\n      <td>10.0</td>\n      <td>10.0</td>\n      <td>f</td>\n      <td>NaN</td>\n      <td>WASHINGTON</td>\n      <td>f</td>\n      <td>strict</td>\n      <td>f</td>\n      <td>f</td>\n      <td>2</td>\n      <td>1.15</td>\n    </tr>\n  </tbody>\n</table>\n<p>3 rows × 92 columns</p>\n</div>"
     },
     "execution_count": 72,
     "metadata": {},
     "output_type": "execute_result"
    }
   ],
   "source": [
    "df = pd.read_csv('listings.csv')\n",
    "df.head(3)"
   ]
  },
  {
   "cell_type": "markdown",
   "id": "e9d19a5d",
   "metadata": {
    "_kg_hide-input": false,
    "id": "e9d19a5d",
    "papermill": {
     "duration": 0.013818,
     "end_time": "2023-04-17T19:26:25.533792",
     "exception": false,
     "start_time": "2023-04-17T19:26:25.519974",
     "status": "completed"
    },
    "tags": []
   },
   "source": [
    "<a id=\"data-preparation\"></a>\n",
    "# 3 Подготовка данных\n"
   ]
  },
  {
   "cell_type": "markdown",
   "id": "4ab4682d",
   "metadata": {
    "papermill": {
     "duration": 0.01346,
     "end_time": "2023-04-17T19:26:25.561090",
     "exception": false,
     "start_time": "2023-04-17T19:26:25.547630",
     "status": "completed"
    },
    "tags": [],
    "id": "4ab4682d"
   },
   "source": [
    "<a id=\"data-wrangling\"></a>\n",
    "## 3.1 Data Wrangling\n",
    "\n",
    "На прошлом занятии мы разобрали основные методы работы с библиотекой `pandas`, теперь мы расширим наш арсенал методов для работы с данными.\n",
    "\n",
    "Помимо этого мы будем давать задания, которые потребуют поиска подходящих функций из библиотек, чтобы вы не боялись искать методы для решения заданий в документации самостоятельно.\n",
    "\n",
    "Начнем с метода [`pd.drop_duplicates`](https://pandas.pydata.org/docs/reference/api/pandas.DataFrame.drop_duplicates.html) для удаления повторов в `DataFrame`."
   ]
  },
  {
   "cell_type": "code",
   "source": [
    "df_listings = df.T.drop_duplicates().T\n",
    "df_listings"
   ],
   "metadata": {
    "id": "SYJACsJuUSbd",
    "ExecuteTime": {
     "end_time": "2023-11-07T17:39:29.474525Z",
     "start_time": "2023-11-07T17:39:29.198658Z"
    }
   },
   "id": "SYJACsJuUSbd",
   "execution_count": 73,
   "outputs": [
    {
     "data": {
      "text/plain": "            id                            listing_url       scrape_id  \\\n0       241032    https://www.airbnb.com/rooms/241032  20160104002432   \n1       953595    https://www.airbnb.com/rooms/953595  20160104002432   \n2      3308979   https://www.airbnb.com/rooms/3308979  20160104002432   \n3      7421966   https://www.airbnb.com/rooms/7421966  20160104002432   \n4       278830    https://www.airbnb.com/rooms/278830  20160104002432   \n...        ...                                    ...             ...   \n3813   8101950   https://www.airbnb.com/rooms/8101950  20160104002432   \n3814   8902327   https://www.airbnb.com/rooms/8902327  20160104002432   \n3815  10267360  https://www.airbnb.com/rooms/10267360  20160104002432   \n3816   9604740   https://www.airbnb.com/rooms/9604740  20160104002432   \n3817  10208623  https://www.airbnb.com/rooms/10208623  20160104002432   \n\n     last_scraped                                 name  \\\n0      2016-01-04         Stylish Queen Anne Apartment   \n1      2016-01-04   Bright & Airy Queen Anne Apartment   \n2      2016-01-04  New Modern House-Amazing water view   \n3      2016-01-04                   Queen Anne Chateau   \n4      2016-01-04       Charming craftsman 3 bdm house   \n...           ...                                  ...   \n3813   2016-01-04   3BR Mountain View House in Seattle   \n3814   2016-01-04    Portage Bay View!-One Bedroom Apt   \n3815   2016-01-04    Private apartment view of Lake WA   \n3816   2016-01-04    Amazing View with Modern Comfort!   \n3817   2016-01-04            Large Lakefront Apartment   \n\n                                                summary  \\\n0                                                   NaN   \n1     Chemically sensitive? We've removed the irrita...   \n2     New modern house built in 2013.  Spectacular s...   \n3     A charming apartment that sits atop Queen Anne...   \n4     Cozy family craftman house in beautiful neighb...   \n...                                                 ...   \n3813  Our 3BR/2BA house boasts incredible views of t...   \n3814  800 square foot 1 bedroom basement apartment w...   \n3815  Very comfortable lower unit. Quiet, charming m...   \n3816  Cozy studio condo in the heart on Madison Park...   \n3817  All hardwood floors, fireplace, 65\" TV with Xb...   \n\n                                                  space  \\\n0     Make your self at home in this charming one-be...   \n1     Beautiful, hypoallergenic apartment in an extr...   \n2     Our house is modern, light and fresh with a wa...   \n3                                                   NaN   \n4     Cozy family craftman house in beautiful neighb...   \n...                                                 ...   \n3813  Our 3BR/2BA house bright, stylish, and wheelch...   \n3814  This space has a great view of Portage Bay wit...   \n3815                                                NaN   \n3816  Fully furnished unit to accommodate most needs...   \n3817                                                NaN   \n\n                                            description experiences_offered  \\\n0     Make your self at home in this charming one-be...                none   \n1     Chemically sensitive? We've removed the irrita...                none   \n2     New modern house built in 2013.  Spectacular s...                none   \n3     A charming apartment that sits atop Queen Anne...                none   \n4     Cozy family craftman house in beautiful neighb...                none   \n...                                                 ...                 ...   \n3813  Our 3BR/2BA house boasts incredible views of t...                none   \n3814  800 square foot 1 bedroom basement apartment w...                none   \n3815  Very comfortable lower unit. Quiet, charming m...                none   \n3816  Cozy studio condo in the heart on Madison Park...                none   \n3817  All hardwood floors, fireplace, 65\" TV with Xb...                none   \n\n                                  neighborhood_overview  \\\n0                                                   NaN   \n1     Queen Anne is a wonderful, truly functional vi...   \n2     Upper Queen Anne is a charming neighborhood fu...   \n3                                                   NaN   \n4     We are in the beautiful neighborhood of Queen ...   \n...                                                 ...   \n3813  We're located near lots of family fun. Woodlan...   \n3814  The neighborhood is a quiet oasis that is clos...   \n3815                                                NaN   \n3816  Madison Park offers a peaceful slow pace upsca...   \n3817                                                NaN   \n\n                                                  notes  \\\n0                                                   NaN   \n1     What's up with the free pillows?  Our home was...   \n2     Our house is located just 5 short blocks to To...   \n3                                                   NaN   \n4                                             Belltown    \n...                                                 ...   \n3813                                                NaN   \n3814  This is a basement apartment in a newer reside...   \n3815                                                NaN   \n3816                                                NaN   \n3817               Also our puppy will be boarded away.   \n\n                                                transit  \\\n0                                                   NaN   \n1     Convenient bus stops are just down the block, ...   \n2     A bus stop is just 2 blocks away.   Easy bus a...   \n3                                                   NaN   \n4     The nearest public transit bus (D Line) is 2 b...   \n...                                                 ...   \n3813                                                NaN   \n3814  Uber and Car2go are good options in Seattle. T...   \n3815                                                NaN   \n3816                                                Yes   \n3817                                                NaN   \n\n                                          thumbnail_url  \\\n0                                                   NaN   \n1     https://a0.muscache.com/ac/pictures/14409893/f...   \n2                                                   NaN   \n3                                                   NaN   \n4                                                   NaN   \n...                                                 ...   \n3813  https://a2.muscache.com/ac/pictures/103217071/...   \n3814  https://a2.muscache.com/ac/pictures/626d4b1f-6...   \n3815  https://a2.muscache.com/ac/pictures/a5974f04-2...   \n3816  https://a2.muscache.com/ac/pictures/202e4ad6-b...   \n3817  https://a2.muscache.com/ac/pictures/596705b3-0...   \n\n                                             medium_url  \\\n0                                                   NaN   \n1     https://a0.muscache.com/im/pictures/14409893/f...   \n2                                                   NaN   \n3                                                   NaN   \n4                                                   NaN   \n...                                                 ...   \n3813  https://a2.muscache.com/im/pictures/103217071/...   \n3814  https://a2.muscache.com/im/pictures/626d4b1f-6...   \n3815  https://a2.muscache.com/im/pictures/a5974f04-2...   \n3816  https://a2.muscache.com/im/pictures/202e4ad6-b...   \n3817  https://a2.muscache.com/im/pictures/596705b3-0...   \n\n                                            picture_url  \\\n0     https://a1.muscache.com/ac/pictures/67560560/c...   \n1     https://a0.muscache.com/ac/pictures/14409893/f...   \n2     https://a2.muscache.com/ac/pictures/b4324e0f-a...   \n3     https://a0.muscache.com/ac/pictures/94146944/6...   \n4     https://a1.muscache.com/ac/pictures/6120468/b0...   \n...                                                 ...   \n3813  https://a2.muscache.com/ac/pictures/103217071/...   \n3814  https://a2.muscache.com/ac/pictures/626d4b1f-6...   \n3815  https://a2.muscache.com/ac/pictures/a5974f04-2...   \n3816  https://a2.muscache.com/ac/pictures/202e4ad6-b...   \n3817  https://a2.muscache.com/ac/pictures/596705b3-0...   \n\n                                         xl_picture_url   host_id  \\\n0                                                   NaN    956883   \n1     https://a0.muscache.com/ac/pictures/14409893/f...   5177328   \n2                                                   NaN  16708587   \n3                                                   NaN   9851441   \n4                                                   NaN   1452570   \n...                                                 ...       ...   \n3813  https://a2.muscache.com/ac/pictures/103217071/...  31148752   \n3814  https://a2.muscache.com/ac/pictures/626d4b1f-6...  46566046   \n3815  https://a2.muscache.com/ac/pictures/a5974f04-2...  52791370   \n3816  https://a2.muscache.com/ac/pictures/202e4ad6-b...  25522052   \n3817  https://a2.muscache.com/ac/pictures/596705b3-0...  14703116   \n\n                                        host_url host_name  host_since  \\\n0       https://www.airbnb.com/users/show/956883     Maija  2011-08-11   \n1      https://www.airbnb.com/users/show/5177328    Andrea  2013-02-21   \n2     https://www.airbnb.com/users/show/16708587      Jill  2014-06-12   \n3      https://www.airbnb.com/users/show/9851441     Emily  2013-11-06   \n4      https://www.airbnb.com/users/show/1452570     Emily  2011-11-29   \n...                                          ...       ...         ...   \n3813  https://www.airbnb.com/users/show/31148752        Bo  2015-04-13   \n3814  https://www.airbnb.com/users/show/46566046      Glen  2015-10-14   \n3815  https://www.airbnb.com/users/show/52791370  Virginia  2015-12-30   \n3816  https://www.airbnb.com/users/show/25522052     Karen  2015-01-03   \n3817  https://www.airbnb.com/users/show/14703116       Gil  2014-04-25   \n\n                           host_location  \\\n0     Seattle, Washington, United States   \n1     Seattle, Washington, United States   \n2     Seattle, Washington, United States   \n3     Seattle, Washington, United States   \n4     Seattle, Washington, United States   \n...                                  ...   \n3813                                  US   \n3814  Seattle, Washington, United States   \n3815                                  US   \n3816   Tacoma, Washington, United States   \n3817  Seattle, Washington, United States   \n\n                                             host_about  host_response_time  \\\n0     I am an artist, interior designer, and run a s...  within a few hours   \n1     Living east coast/left coast/overseas.  Time i...      within an hour   \n2     i love living in Seattle.  i grew up in the mi...  within a few hours   \n3                                                   NaN                 NaN   \n4     Hi, I live in Seattle, Washington but I'm orig...      within an hour   \n...                                                 ...                 ...   \n3813                                                NaN  within a few hours   \n3814  I am a 58 year old male that is married to Mag...      within an hour   \n3815                                                NaN                 NaN   \n3816                                                NaN      within an hour   \n3817                                                NaN        within a day   \n\n     host_response_rate host_acceptance_rate  ... calendar_updated  \\\n0                   96%                 100%  ...      4 weeks ago   \n1                   98%                 100%  ...            today   \n2                   67%                 100%  ...      5 weeks ago   \n3                   NaN                  NaN  ...     6 months ago   \n4                  100%                  NaN  ...      7 weeks ago   \n...                 ...                  ...  ...              ...   \n3813                99%                 100%  ...            today   \n3814               100%                 100%  ...       2 days ago   \n3815                NaN                  NaN  ...       4 days ago   \n3816               100%                  NaN  ...            never   \n3817               100%                  NaN  ...       a week ago   \n\n     has_availability availability_30 availability_60 availability_90  \\\n0                   t              14              41              71   \n1                   t              13              13              16   \n2                   t               1               6              17   \n3                   t               0               0               0   \n4                   t              30              60              90   \n...               ...             ...             ...             ...   \n3813                t              18              32              32   \n3814                t               6              26              44   \n3815                t              29              59              88   \n3816                t              30              60              90   \n3817                t               7               7               7   \n\n     availability_365 number_of_reviews first_review last_review  \\\n0                 346               207   2011-11-01  2016-01-02   \n1                 291                43   2013-08-19  2015-12-29   \n2                 220                20   2014-07-30  2015-09-03   \n3                 143                 0          NaN         NaN   \n4                 365                38   2012-07-10  2015-10-24   \n...               ...               ...          ...         ...   \n3813               32                 1   2015-09-27  2015-09-27   \n3814              273                 2   2015-12-18  2015-12-24   \n3815               88                 0          NaN         NaN   \n3816              179                 0          NaN         NaN   \n3817                7                 0          NaN         NaN   \n\n     review_scores_rating review_scores_accuracy review_scores_cleanliness  \\\n0                    95.0                   10.0                      10.0   \n1                    96.0                   10.0                      10.0   \n2                    97.0                   10.0                      10.0   \n3                     NaN                    NaN                       NaN   \n4                    92.0                    9.0                       9.0   \n...                   ...                    ...                       ...   \n3813                 80.0                    8.0                      10.0   \n3814                100.0                   10.0                      10.0   \n3815                  NaN                    NaN                       NaN   \n3816                  NaN                    NaN                       NaN   \n3817                  NaN                    NaN                       NaN   \n\n     review_scores_checkin review_scores_communication review_scores_location  \\\n0                     10.0                        10.0                    9.0   \n1                     10.0                        10.0                   10.0   \n2                     10.0                        10.0                   10.0   \n3                      NaN                         NaN                    NaN   \n4                     10.0                        10.0                    9.0   \n...                    ...                         ...                    ...   \n3813                   4.0                         8.0                   10.0   \n3814                  10.0                        10.0                   10.0   \n3815                   NaN                         NaN                    NaN   \n3816                   NaN                         NaN                    NaN   \n3817                   NaN                         NaN                    NaN   \n\n     review_scores_value requires_license license jurisdiction_names  \\\n0                   10.0                f     NaN         WASHINGTON   \n1                   10.0                f     NaN         WASHINGTON   \n2                   10.0                f     NaN         WASHINGTON   \n3                    NaN                f     NaN         WASHINGTON   \n4                    9.0                f     NaN         WASHINGTON   \n...                  ...              ...     ...                ...   \n3813                 8.0                f     NaN         WASHINGTON   \n3814                10.0                f     NaN         WASHINGTON   \n3815                 NaN                f     NaN         WASHINGTON   \n3816                 NaN                f     NaN         WASHINGTON   \n3817                 NaN                f     NaN         WASHINGTON   \n\n     instant_bookable cancellation_policy require_guest_profile_picture  \\\n0                   f            moderate                             f   \n1                   f              strict                             t   \n2                   f              strict                             f   \n3                   f            flexible                             f   \n4                   f              strict                             f   \n...               ...                 ...                           ...   \n3813                f              strict                             f   \n3814                f            moderate                             f   \n3815                f            moderate                             f   \n3816                f            moderate                             f   \n3817                f            flexible                             f   \n\n     require_guest_phone_verification calculated_host_listings_count  \\\n0                                   f                              2   \n1                                   t                              6   \n2                                   f                              2   \n3                                   f                              1   \n4                                   f                              1   \n...                               ...                            ...   \n3813                                f                              8   \n3814                                f                              1   \n3815                                f                              1   \n3816                                f                              1   \n3817                                f                              1   \n\n     reviews_per_month  \n0                 4.07  \n1                 1.48  \n2                 1.15  \n3                  NaN  \n4                 0.89  \n...                ...  \n3813               0.3  \n3814               2.0  \n3815               NaN  \n3816               NaN  \n3817               NaN  \n\n[3818 rows x 90 columns]",
      "text/html": "<div>\n<style scoped>\n    .dataframe tbody tr th:only-of-type {\n        vertical-align: middle;\n    }\n\n    .dataframe tbody tr th {\n        vertical-align: top;\n    }\n\n    .dataframe thead th {\n        text-align: right;\n    }\n</style>\n<table border=\"1\" class=\"dataframe\">\n  <thead>\n    <tr style=\"text-align: right;\">\n      <th></th>\n      <th>id</th>\n      <th>listing_url</th>\n      <th>scrape_id</th>\n      <th>last_scraped</th>\n      <th>name</th>\n      <th>summary</th>\n      <th>space</th>\n      <th>description</th>\n      <th>experiences_offered</th>\n      <th>neighborhood_overview</th>\n      <th>notes</th>\n      <th>transit</th>\n      <th>thumbnail_url</th>\n      <th>medium_url</th>\n      <th>picture_url</th>\n      <th>xl_picture_url</th>\n      <th>host_id</th>\n      <th>host_url</th>\n      <th>host_name</th>\n      <th>host_since</th>\n      <th>host_location</th>\n      <th>host_about</th>\n      <th>host_response_time</th>\n      <th>host_response_rate</th>\n      <th>host_acceptance_rate</th>\n      <th>...</th>\n      <th>calendar_updated</th>\n      <th>has_availability</th>\n      <th>availability_30</th>\n      <th>availability_60</th>\n      <th>availability_90</th>\n      <th>availability_365</th>\n      <th>number_of_reviews</th>\n      <th>first_review</th>\n      <th>last_review</th>\n      <th>review_scores_rating</th>\n      <th>review_scores_accuracy</th>\n      <th>review_scores_cleanliness</th>\n      <th>review_scores_checkin</th>\n      <th>review_scores_communication</th>\n      <th>review_scores_location</th>\n      <th>review_scores_value</th>\n      <th>requires_license</th>\n      <th>license</th>\n      <th>jurisdiction_names</th>\n      <th>instant_bookable</th>\n      <th>cancellation_policy</th>\n      <th>require_guest_profile_picture</th>\n      <th>require_guest_phone_verification</th>\n      <th>calculated_host_listings_count</th>\n      <th>reviews_per_month</th>\n    </tr>\n  </thead>\n  <tbody>\n    <tr>\n      <th>0</th>\n      <td>241032</td>\n      <td>https://www.airbnb.com/rooms/241032</td>\n      <td>20160104002432</td>\n      <td>2016-01-04</td>\n      <td>Stylish Queen Anne Apartment</td>\n      <td>NaN</td>\n      <td>Make your self at home in this charming one-be...</td>\n      <td>Make your self at home in this charming one-be...</td>\n      <td>none</td>\n      <td>NaN</td>\n      <td>NaN</td>\n      <td>NaN</td>\n      <td>NaN</td>\n      <td>NaN</td>\n      <td>https://a1.muscache.com/ac/pictures/67560560/c...</td>\n      <td>NaN</td>\n      <td>956883</td>\n      <td>https://www.airbnb.com/users/show/956883</td>\n      <td>Maija</td>\n      <td>2011-08-11</td>\n      <td>Seattle, Washington, United States</td>\n      <td>I am an artist, interior designer, and run a s...</td>\n      <td>within a few hours</td>\n      <td>96%</td>\n      <td>100%</td>\n      <td>...</td>\n      <td>4 weeks ago</td>\n      <td>t</td>\n      <td>14</td>\n      <td>41</td>\n      <td>71</td>\n      <td>346</td>\n      <td>207</td>\n      <td>2011-11-01</td>\n      <td>2016-01-02</td>\n      <td>95.0</td>\n      <td>10.0</td>\n      <td>10.0</td>\n      <td>10.0</td>\n      <td>10.0</td>\n      <td>9.0</td>\n      <td>10.0</td>\n      <td>f</td>\n      <td>NaN</td>\n      <td>WASHINGTON</td>\n      <td>f</td>\n      <td>moderate</td>\n      <td>f</td>\n      <td>f</td>\n      <td>2</td>\n      <td>4.07</td>\n    </tr>\n    <tr>\n      <th>1</th>\n      <td>953595</td>\n      <td>https://www.airbnb.com/rooms/953595</td>\n      <td>20160104002432</td>\n      <td>2016-01-04</td>\n      <td>Bright &amp; Airy Queen Anne Apartment</td>\n      <td>Chemically sensitive? We've removed the irrita...</td>\n      <td>Beautiful, hypoallergenic apartment in an extr...</td>\n      <td>Chemically sensitive? We've removed the irrita...</td>\n      <td>none</td>\n      <td>Queen Anne is a wonderful, truly functional vi...</td>\n      <td>What's up with the free pillows?  Our home was...</td>\n      <td>Convenient bus stops are just down the block, ...</td>\n      <td>https://a0.muscache.com/ac/pictures/14409893/f...</td>\n      <td>https://a0.muscache.com/im/pictures/14409893/f...</td>\n      <td>https://a0.muscache.com/ac/pictures/14409893/f...</td>\n      <td>https://a0.muscache.com/ac/pictures/14409893/f...</td>\n      <td>5177328</td>\n      <td>https://www.airbnb.com/users/show/5177328</td>\n      <td>Andrea</td>\n      <td>2013-02-21</td>\n      <td>Seattle, Washington, United States</td>\n      <td>Living east coast/left coast/overseas.  Time i...</td>\n      <td>within an hour</td>\n      <td>98%</td>\n      <td>100%</td>\n      <td>...</td>\n      <td>today</td>\n      <td>t</td>\n      <td>13</td>\n      <td>13</td>\n      <td>16</td>\n      <td>291</td>\n      <td>43</td>\n      <td>2013-08-19</td>\n      <td>2015-12-29</td>\n      <td>96.0</td>\n      <td>10.0</td>\n      <td>10.0</td>\n      <td>10.0</td>\n      <td>10.0</td>\n      <td>10.0</td>\n      <td>10.0</td>\n      <td>f</td>\n      <td>NaN</td>\n      <td>WASHINGTON</td>\n      <td>f</td>\n      <td>strict</td>\n      <td>t</td>\n      <td>t</td>\n      <td>6</td>\n      <td>1.48</td>\n    </tr>\n    <tr>\n      <th>2</th>\n      <td>3308979</td>\n      <td>https://www.airbnb.com/rooms/3308979</td>\n      <td>20160104002432</td>\n      <td>2016-01-04</td>\n      <td>New Modern House-Amazing water view</td>\n      <td>New modern house built in 2013.  Spectacular s...</td>\n      <td>Our house is modern, light and fresh with a wa...</td>\n      <td>New modern house built in 2013.  Spectacular s...</td>\n      <td>none</td>\n      <td>Upper Queen Anne is a charming neighborhood fu...</td>\n      <td>Our house is located just 5 short blocks to To...</td>\n      <td>A bus stop is just 2 blocks away.   Easy bus a...</td>\n      <td>NaN</td>\n      <td>NaN</td>\n      <td>https://a2.muscache.com/ac/pictures/b4324e0f-a...</td>\n      <td>NaN</td>\n      <td>16708587</td>\n      <td>https://www.airbnb.com/users/show/16708587</td>\n      <td>Jill</td>\n      <td>2014-06-12</td>\n      <td>Seattle, Washington, United States</td>\n      <td>i love living in Seattle.  i grew up in the mi...</td>\n      <td>within a few hours</td>\n      <td>67%</td>\n      <td>100%</td>\n      <td>...</td>\n      <td>5 weeks ago</td>\n      <td>t</td>\n      <td>1</td>\n      <td>6</td>\n      <td>17</td>\n      <td>220</td>\n      <td>20</td>\n      <td>2014-07-30</td>\n      <td>2015-09-03</td>\n      <td>97.0</td>\n      <td>10.0</td>\n      <td>10.0</td>\n      <td>10.0</td>\n      <td>10.0</td>\n      <td>10.0</td>\n      <td>10.0</td>\n      <td>f</td>\n      <td>NaN</td>\n      <td>WASHINGTON</td>\n      <td>f</td>\n      <td>strict</td>\n      <td>f</td>\n      <td>f</td>\n      <td>2</td>\n      <td>1.15</td>\n    </tr>\n    <tr>\n      <th>3</th>\n      <td>7421966</td>\n      <td>https://www.airbnb.com/rooms/7421966</td>\n      <td>20160104002432</td>\n      <td>2016-01-04</td>\n      <td>Queen Anne Chateau</td>\n      <td>A charming apartment that sits atop Queen Anne...</td>\n      <td>NaN</td>\n      <td>A charming apartment that sits atop Queen Anne...</td>\n      <td>none</td>\n      <td>NaN</td>\n      <td>NaN</td>\n      <td>NaN</td>\n      <td>NaN</td>\n      <td>NaN</td>\n      <td>https://a0.muscache.com/ac/pictures/94146944/6...</td>\n      <td>NaN</td>\n      <td>9851441</td>\n      <td>https://www.airbnb.com/users/show/9851441</td>\n      <td>Emily</td>\n      <td>2013-11-06</td>\n      <td>Seattle, Washington, United States</td>\n      <td>NaN</td>\n      <td>NaN</td>\n      <td>NaN</td>\n      <td>NaN</td>\n      <td>...</td>\n      <td>6 months ago</td>\n      <td>t</td>\n      <td>0</td>\n      <td>0</td>\n      <td>0</td>\n      <td>143</td>\n      <td>0</td>\n      <td>NaN</td>\n      <td>NaN</td>\n      <td>NaN</td>\n      <td>NaN</td>\n      <td>NaN</td>\n      <td>NaN</td>\n      <td>NaN</td>\n      <td>NaN</td>\n      <td>NaN</td>\n      <td>f</td>\n      <td>NaN</td>\n      <td>WASHINGTON</td>\n      <td>f</td>\n      <td>flexible</td>\n      <td>f</td>\n      <td>f</td>\n      <td>1</td>\n      <td>NaN</td>\n    </tr>\n    <tr>\n      <th>4</th>\n      <td>278830</td>\n      <td>https://www.airbnb.com/rooms/278830</td>\n      <td>20160104002432</td>\n      <td>2016-01-04</td>\n      <td>Charming craftsman 3 bdm house</td>\n      <td>Cozy family craftman house in beautiful neighb...</td>\n      <td>Cozy family craftman house in beautiful neighb...</td>\n      <td>Cozy family craftman house in beautiful neighb...</td>\n      <td>none</td>\n      <td>We are in the beautiful neighborhood of Queen ...</td>\n      <td>Belltown</td>\n      <td>The nearest public transit bus (D Line) is 2 b...</td>\n      <td>NaN</td>\n      <td>NaN</td>\n      <td>https://a1.muscache.com/ac/pictures/6120468/b0...</td>\n      <td>NaN</td>\n      <td>1452570</td>\n      <td>https://www.airbnb.com/users/show/1452570</td>\n      <td>Emily</td>\n      <td>2011-11-29</td>\n      <td>Seattle, Washington, United States</td>\n      <td>Hi, I live in Seattle, Washington but I'm orig...</td>\n      <td>within an hour</td>\n      <td>100%</td>\n      <td>NaN</td>\n      <td>...</td>\n      <td>7 weeks ago</td>\n      <td>t</td>\n      <td>30</td>\n      <td>60</td>\n      <td>90</td>\n      <td>365</td>\n      <td>38</td>\n      <td>2012-07-10</td>\n      <td>2015-10-24</td>\n      <td>92.0</td>\n      <td>9.0</td>\n      <td>9.0</td>\n      <td>10.0</td>\n      <td>10.0</td>\n      <td>9.0</td>\n      <td>9.0</td>\n      <td>f</td>\n      <td>NaN</td>\n      <td>WASHINGTON</td>\n      <td>f</td>\n      <td>strict</td>\n      <td>f</td>\n      <td>f</td>\n      <td>1</td>\n      <td>0.89</td>\n    </tr>\n    <tr>\n      <th>...</th>\n      <td>...</td>\n      <td>...</td>\n      <td>...</td>\n      <td>...</td>\n      <td>...</td>\n      <td>...</td>\n      <td>...</td>\n      <td>...</td>\n      <td>...</td>\n      <td>...</td>\n      <td>...</td>\n      <td>...</td>\n      <td>...</td>\n      <td>...</td>\n      <td>...</td>\n      <td>...</td>\n      <td>...</td>\n      <td>...</td>\n      <td>...</td>\n      <td>...</td>\n      <td>...</td>\n      <td>...</td>\n      <td>...</td>\n      <td>...</td>\n      <td>...</td>\n      <td>...</td>\n      <td>...</td>\n      <td>...</td>\n      <td>...</td>\n      <td>...</td>\n      <td>...</td>\n      <td>...</td>\n      <td>...</td>\n      <td>...</td>\n      <td>...</td>\n      <td>...</td>\n      <td>...</td>\n      <td>...</td>\n      <td>...</td>\n      <td>...</td>\n      <td>...</td>\n      <td>...</td>\n      <td>...</td>\n      <td>...</td>\n      <td>...</td>\n      <td>...</td>\n      <td>...</td>\n      <td>...</td>\n      <td>...</td>\n      <td>...</td>\n      <td>...</td>\n    </tr>\n    <tr>\n      <th>3813</th>\n      <td>8101950</td>\n      <td>https://www.airbnb.com/rooms/8101950</td>\n      <td>20160104002432</td>\n      <td>2016-01-04</td>\n      <td>3BR Mountain View House in Seattle</td>\n      <td>Our 3BR/2BA house boasts incredible views of t...</td>\n      <td>Our 3BR/2BA house bright, stylish, and wheelch...</td>\n      <td>Our 3BR/2BA house boasts incredible views of t...</td>\n      <td>none</td>\n      <td>We're located near lots of family fun. Woodlan...</td>\n      <td>NaN</td>\n      <td>NaN</td>\n      <td>https://a2.muscache.com/ac/pictures/103217071/...</td>\n      <td>https://a2.muscache.com/im/pictures/103217071/...</td>\n      <td>https://a2.muscache.com/ac/pictures/103217071/...</td>\n      <td>https://a2.muscache.com/ac/pictures/103217071/...</td>\n      <td>31148752</td>\n      <td>https://www.airbnb.com/users/show/31148752</td>\n      <td>Bo</td>\n      <td>2015-04-13</td>\n      <td>US</td>\n      <td>NaN</td>\n      <td>within a few hours</td>\n      <td>99%</td>\n      <td>100%</td>\n      <td>...</td>\n      <td>today</td>\n      <td>t</td>\n      <td>18</td>\n      <td>32</td>\n      <td>32</td>\n      <td>32</td>\n      <td>1</td>\n      <td>2015-09-27</td>\n      <td>2015-09-27</td>\n      <td>80.0</td>\n      <td>8.0</td>\n      <td>10.0</td>\n      <td>4.0</td>\n      <td>8.0</td>\n      <td>10.0</td>\n      <td>8.0</td>\n      <td>f</td>\n      <td>NaN</td>\n      <td>WASHINGTON</td>\n      <td>f</td>\n      <td>strict</td>\n      <td>f</td>\n      <td>f</td>\n      <td>8</td>\n      <td>0.3</td>\n    </tr>\n    <tr>\n      <th>3814</th>\n      <td>8902327</td>\n      <td>https://www.airbnb.com/rooms/8902327</td>\n      <td>20160104002432</td>\n      <td>2016-01-04</td>\n      <td>Portage Bay View!-One Bedroom Apt</td>\n      <td>800 square foot 1 bedroom basement apartment w...</td>\n      <td>This space has a great view of Portage Bay wit...</td>\n      <td>800 square foot 1 bedroom basement apartment w...</td>\n      <td>none</td>\n      <td>The neighborhood is a quiet oasis that is clos...</td>\n      <td>This is a basement apartment in a newer reside...</td>\n      <td>Uber and Car2go are good options in Seattle. T...</td>\n      <td>https://a2.muscache.com/ac/pictures/626d4b1f-6...</td>\n      <td>https://a2.muscache.com/im/pictures/626d4b1f-6...</td>\n      <td>https://a2.muscache.com/ac/pictures/626d4b1f-6...</td>\n      <td>https://a2.muscache.com/ac/pictures/626d4b1f-6...</td>\n      <td>46566046</td>\n      <td>https://www.airbnb.com/users/show/46566046</td>\n      <td>Glen</td>\n      <td>2015-10-14</td>\n      <td>Seattle, Washington, United States</td>\n      <td>I am a 58 year old male that is married to Mag...</td>\n      <td>within an hour</td>\n      <td>100%</td>\n      <td>100%</td>\n      <td>...</td>\n      <td>2 days ago</td>\n      <td>t</td>\n      <td>6</td>\n      <td>26</td>\n      <td>44</td>\n      <td>273</td>\n      <td>2</td>\n      <td>2015-12-18</td>\n      <td>2015-12-24</td>\n      <td>100.0</td>\n      <td>10.0</td>\n      <td>10.0</td>\n      <td>10.0</td>\n      <td>10.0</td>\n      <td>10.0</td>\n      <td>10.0</td>\n      <td>f</td>\n      <td>NaN</td>\n      <td>WASHINGTON</td>\n      <td>f</td>\n      <td>moderate</td>\n      <td>f</td>\n      <td>f</td>\n      <td>1</td>\n      <td>2.0</td>\n    </tr>\n    <tr>\n      <th>3815</th>\n      <td>10267360</td>\n      <td>https://www.airbnb.com/rooms/10267360</td>\n      <td>20160104002432</td>\n      <td>2016-01-04</td>\n      <td>Private apartment view of Lake WA</td>\n      <td>Very comfortable lower unit. Quiet, charming m...</td>\n      <td>NaN</td>\n      <td>Very comfortable lower unit. Quiet, charming m...</td>\n      <td>none</td>\n      <td>NaN</td>\n      <td>NaN</td>\n      <td>NaN</td>\n      <td>https://a2.muscache.com/ac/pictures/a5974f04-2...</td>\n      <td>https://a2.muscache.com/im/pictures/a5974f04-2...</td>\n      <td>https://a2.muscache.com/ac/pictures/a5974f04-2...</td>\n      <td>https://a2.muscache.com/ac/pictures/a5974f04-2...</td>\n      <td>52791370</td>\n      <td>https://www.airbnb.com/users/show/52791370</td>\n      <td>Virginia</td>\n      <td>2015-12-30</td>\n      <td>US</td>\n      <td>NaN</td>\n      <td>NaN</td>\n      <td>NaN</td>\n      <td>NaN</td>\n      <td>...</td>\n      <td>4 days ago</td>\n      <td>t</td>\n      <td>29</td>\n      <td>59</td>\n      <td>88</td>\n      <td>88</td>\n      <td>0</td>\n      <td>NaN</td>\n      <td>NaN</td>\n      <td>NaN</td>\n      <td>NaN</td>\n      <td>NaN</td>\n      <td>NaN</td>\n      <td>NaN</td>\n      <td>NaN</td>\n      <td>NaN</td>\n      <td>f</td>\n      <td>NaN</td>\n      <td>WASHINGTON</td>\n      <td>f</td>\n      <td>moderate</td>\n      <td>f</td>\n      <td>f</td>\n      <td>1</td>\n      <td>NaN</td>\n    </tr>\n    <tr>\n      <th>3816</th>\n      <td>9604740</td>\n      <td>https://www.airbnb.com/rooms/9604740</td>\n      <td>20160104002432</td>\n      <td>2016-01-04</td>\n      <td>Amazing View with Modern Comfort!</td>\n      <td>Cozy studio condo in the heart on Madison Park...</td>\n      <td>Fully furnished unit to accommodate most needs...</td>\n      <td>Cozy studio condo in the heart on Madison Park...</td>\n      <td>none</td>\n      <td>Madison Park offers a peaceful slow pace upsca...</td>\n      <td>NaN</td>\n      <td>Yes</td>\n      <td>https://a2.muscache.com/ac/pictures/202e4ad6-b...</td>\n      <td>https://a2.muscache.com/im/pictures/202e4ad6-b...</td>\n      <td>https://a2.muscache.com/ac/pictures/202e4ad6-b...</td>\n      <td>https://a2.muscache.com/ac/pictures/202e4ad6-b...</td>\n      <td>25522052</td>\n      <td>https://www.airbnb.com/users/show/25522052</td>\n      <td>Karen</td>\n      <td>2015-01-03</td>\n      <td>Tacoma, Washington, United States</td>\n      <td>NaN</td>\n      <td>within an hour</td>\n      <td>100%</td>\n      <td>NaN</td>\n      <td>...</td>\n      <td>never</td>\n      <td>t</td>\n      <td>30</td>\n      <td>60</td>\n      <td>90</td>\n      <td>179</td>\n      <td>0</td>\n      <td>NaN</td>\n      <td>NaN</td>\n      <td>NaN</td>\n      <td>NaN</td>\n      <td>NaN</td>\n      <td>NaN</td>\n      <td>NaN</td>\n      <td>NaN</td>\n      <td>NaN</td>\n      <td>f</td>\n      <td>NaN</td>\n      <td>WASHINGTON</td>\n      <td>f</td>\n      <td>moderate</td>\n      <td>f</td>\n      <td>f</td>\n      <td>1</td>\n      <td>NaN</td>\n    </tr>\n    <tr>\n      <th>3817</th>\n      <td>10208623</td>\n      <td>https://www.airbnb.com/rooms/10208623</td>\n      <td>20160104002432</td>\n      <td>2016-01-04</td>\n      <td>Large Lakefront Apartment</td>\n      <td>All hardwood floors, fireplace, 65\" TV with Xb...</td>\n      <td>NaN</td>\n      <td>All hardwood floors, fireplace, 65\" TV with Xb...</td>\n      <td>none</td>\n      <td>NaN</td>\n      <td>Also our puppy will be boarded away.</td>\n      <td>NaN</td>\n      <td>https://a2.muscache.com/ac/pictures/596705b3-0...</td>\n      <td>https://a2.muscache.com/im/pictures/596705b3-0...</td>\n      <td>https://a2.muscache.com/ac/pictures/596705b3-0...</td>\n      <td>https://a2.muscache.com/ac/pictures/596705b3-0...</td>\n      <td>14703116</td>\n      <td>https://www.airbnb.com/users/show/14703116</td>\n      <td>Gil</td>\n      <td>2014-04-25</td>\n      <td>Seattle, Washington, United States</td>\n      <td>NaN</td>\n      <td>within a day</td>\n      <td>100%</td>\n      <td>NaN</td>\n      <td>...</td>\n      <td>a week ago</td>\n      <td>t</td>\n      <td>7</td>\n      <td>7</td>\n      <td>7</td>\n      <td>7</td>\n      <td>0</td>\n      <td>NaN</td>\n      <td>NaN</td>\n      <td>NaN</td>\n      <td>NaN</td>\n      <td>NaN</td>\n      <td>NaN</td>\n      <td>NaN</td>\n      <td>NaN</td>\n      <td>NaN</td>\n      <td>f</td>\n      <td>NaN</td>\n      <td>WASHINGTON</td>\n      <td>f</td>\n      <td>flexible</td>\n      <td>f</td>\n      <td>f</td>\n      <td>1</td>\n      <td>NaN</td>\n    </tr>\n  </tbody>\n</table>\n<p>3818 rows × 90 columns</p>\n</div>"
     },
     "execution_count": 73,
     "metadata": {},
     "output_type": "execute_result"
    }
   ]
  },
  {
   "cell_type": "markdown",
   "source": [
    "Теперь нужно удалить полностью пустые столбцы (столбцы содержащие только\n",
    "значения `NaN`. Для этого отлично подойдет метод [`pd.dropna`](https://pandas.pydata.org/docs/reference/api/pandas.DataFrame.dropna.html?highlight=dropna#pandas.DataFrame.dropna):"
   ],
   "metadata": {
    "id": "Oj-k7U61UXL3"
   },
   "id": "Oj-k7U61UXL3"
  },
  {
   "cell_type": "code",
   "source": [
    "df_listings.dropna(axis=1,how=\"all\",inplace=True)"
   ],
   "metadata": {
    "id": "327qSSMtUXyL",
    "ExecuteTime": {
     "end_time": "2023-11-07T17:39:36.870708Z",
     "start_time": "2023-11-07T17:39:36.857483Z"
    }
   },
   "id": "327qSSMtUXyL",
   "execution_count": 74,
   "outputs": []
  },
  {
   "cell_type": "markdown",
   "source": [
    "### **[Задание 2]**\n",
    "\n",
    "Удалите столбцы, содержащие url-ссылки.\n",
    "\n",
    "Подсказка: здесь можно попробовать использовать регулярные выражения, а можно найти метод из библиотеки `pandas`\n"
   ],
   "metadata": {
    "id": "cpxQLyzKVAMH"
   },
   "id": "cpxQLyzKVAMH"
  },
  {
   "cell_type": "code",
   "execution_count": 75,
   "outputs": [
    {
     "data": {
      "text/plain": "            id       scrape_id last_scraped  \\\n0       241032  20160104002432   2016-01-04   \n1       953595  20160104002432   2016-01-04   \n2      3308979  20160104002432   2016-01-04   \n3      7421966  20160104002432   2016-01-04   \n4       278830  20160104002432   2016-01-04   \n...        ...             ...          ...   \n3813   8101950  20160104002432   2016-01-04   \n3814   8902327  20160104002432   2016-01-04   \n3815  10267360  20160104002432   2016-01-04   \n3816   9604740  20160104002432   2016-01-04   \n3817  10208623  20160104002432   2016-01-04   \n\n                                     name experiences_offered  \\\n0            Stylish Queen Anne Apartment                none   \n1      Bright & Airy Queen Anne Apartment                none   \n2     New Modern House-Amazing water view                none   \n3                      Queen Anne Chateau                none   \n4          Charming craftsman 3 bdm house                none   \n...                                   ...                 ...   \n3813   3BR Mountain View House in Seattle                none   \n3814    Portage Bay View!-One Bedroom Apt                none   \n3815    Private apartment view of Lake WA                none   \n3816    Amazing View with Modern Comfort!                none   \n3817            Large Lakefront Apartment                none   \n\n                                                transit   host_id host_name  \\\n0                                                   NaN    956883     Maija   \n1     Convenient bus stops are just down the block, ...   5177328    Andrea   \n2     A bus stop is just 2 blocks away.   Easy bus a...  16708587      Jill   \n3                                                   NaN   9851441     Emily   \n4     The nearest public transit bus (D Line) is 2 b...   1452570     Emily   \n...                                                 ...       ...       ...   \n3813                                                NaN  31148752        Bo   \n3814  Uber and Car2go are good options in Seattle. T...  46566046      Glen   \n3815                                                NaN  52791370  Virginia   \n3816                                                Yes  25522052     Karen   \n3817                                                NaN  14703116       Gil   \n\n      host_since                       host_location  host_response_time  \\\n0     2011-08-11  Seattle, Washington, United States  within a few hours   \n1     2013-02-21  Seattle, Washington, United States      within an hour   \n2     2014-06-12  Seattle, Washington, United States  within a few hours   \n3     2013-11-06  Seattle, Washington, United States                 NaN   \n4     2011-11-29  Seattle, Washington, United States      within an hour   \n...          ...                                 ...                 ...   \n3813  2015-04-13                                  US  within a few hours   \n3814  2015-10-14  Seattle, Washington, United States      within an hour   \n3815  2015-12-30                                  US                 NaN   \n3816  2015-01-03   Tacoma, Washington, United States      within an hour   \n3817  2014-04-25  Seattle, Washington, United States        within a day   \n\n     host_response_rate host_acceptance_rate host_is_superhost  \\\n0                   96%                 100%                 f   \n1                   98%                 100%                 t   \n2                   67%                 100%                 f   \n3                   NaN                  NaN                 f   \n4                  100%                  NaN                 f   \n...                 ...                  ...               ...   \n3813                99%                 100%                 f   \n3814               100%                 100%                 f   \n3815                NaN                  NaN                 f   \n3816               100%                  NaN                 f   \n3817               100%                  NaN                 f   \n\n     host_neighbourhood host_listings_count  \\\n0            Queen Anne                 3.0   \n1            Queen Anne                 6.0   \n2            Queen Anne                 2.0   \n3            Queen Anne                 1.0   \n4            Queen Anne                 2.0   \n...                 ...                 ...   \n3813              Holly               354.0   \n3814        Portage Bay                 1.0   \n3815                NaN                 1.0   \n3816                NaN                 1.0   \n3817         Queen Anne                 1.0   \n\n                                     host_verifications host_has_profile_pic  \\\n0                  ['email', 'phone', 'reviews', 'kba']                    t   \n1     ['email', 'phone', 'facebook', 'linkedin', 're...                    t   \n2      ['email', 'phone', 'google', 'reviews', 'jumio']                    t   \n3     ['email', 'phone', 'facebook', 'reviews', 'jum...                    t   \n4      ['email', 'phone', 'facebook', 'reviews', 'kba']                    t   \n...                                                 ...                  ...   \n3813  ['email', 'phone', 'linkedin', 'reviews', 'jum...                    t   \n3814  ['email', 'phone', 'facebook', 'reviews', 'jum...                    t   \n3815                                          ['phone']                    t   \n3816   ['email', 'phone', 'facebook', 'reviews', 'kba']                    t   \n3817               ['email', 'phone', 'reviews', 'kba']                    t   \n\n     host_identity_verified  \\\n0                         t   \n1                         t   \n2                         t   \n3                         t   \n4                         t   \n...                     ...   \n3813                      t   \n3814                      t   \n3815                      f   \n3816                      t   \n3817                      t   \n\n                                                 street neighbourhood  \\\n0         Gilman Dr W, Seattle, WA 98119, United States    Queen Anne   \n1     7th Avenue West, Seattle, WA 98119, United States    Queen Anne   \n2     West Lee Street, Seattle, WA 98119, United States    Queen Anne   \n3     8th Avenue West, Seattle, WA 98119, United States    Queen Anne   \n4          14th Ave W, Seattle, WA 98119, United States    Queen Anne   \n...                                                 ...           ...   \n3813  Northwest 48th Street, Seattle, WA 98107, Unit...       Fremont   \n3814  Fuhrman Avenue East, Seattle, WA 98102, United...   Portage Bay   \n3815  South Laurel Street, Seattle, WA 98178, United...           NaN   \n3816  43rd Avenue East, Seattle, WA 98112, United St...           NaN   \n3817  Westlake Avenue North, Seattle, WA 98109, Unit...    Queen Anne   \n\n     neighbourhood_cleansed neighbourhood_group_cleansed     city state  ...  \\\n0           West Queen Anne                   Queen Anne  Seattle    WA  ...   \n1           West Queen Anne                   Queen Anne  Seattle    WA  ...   \n2           West Queen Anne                   Queen Anne  Seattle    WA  ...   \n3           West Queen Anne                   Queen Anne  Seattle    WA  ...   \n4           West Queen Anne                   Queen Anne  Seattle    WA  ...   \n...                     ...                          ...      ...   ...  ...   \n3813                Fremont          Other neighborhoods  Seattle    WA  ...   \n3814            Portage Bay                 Capitol Hill  Seattle    WA  ...   \n3815          Rainier Beach               Rainier Valley  Seattle    WA  ...   \n3816           Madison Park                 Capitol Hill  Seattle    WA  ...   \n3817        East Queen Anne                   Queen Anne  Seattle    WA  ...   \n\n     maximum_nights calendar_updated has_availability availability_30  \\\n0               365      4 weeks ago                t              14   \n1                90            today                t              13   \n2                30      5 weeks ago                t               1   \n3              1125     6 months ago                t               0   \n4              1125      7 weeks ago                t              30   \n...             ...              ...              ...             ...   \n3813           1125            today                t              18   \n3814             29       2 days ago                t               6   \n3815              7       4 days ago                t              29   \n3816           1125            never                t              30   \n3817           1125       a week ago                t               7   \n\n     availability_60 availability_90 availability_365 number_of_reviews  \\\n0                 41              71              346               207   \n1                 13              16              291                43   \n2                  6              17              220                20   \n3                  0               0              143                 0   \n4                 60              90              365                38   \n...              ...             ...              ...               ...   \n3813              32              32               32                 1   \n3814              26              44              273                 2   \n3815              59              88               88                 0   \n3816              60              90              179                 0   \n3817               7               7                7                 0   \n\n     first_review last_review review_scores_rating review_scores_accuracy  \\\n0      2011-11-01  2016-01-02                 95.0                   10.0   \n1      2013-08-19  2015-12-29                 96.0                   10.0   \n2      2014-07-30  2015-09-03                 97.0                   10.0   \n3             NaN         NaN                  NaN                    NaN   \n4      2012-07-10  2015-10-24                 92.0                    9.0   \n...           ...         ...                  ...                    ...   \n3813   2015-09-27  2015-09-27                 80.0                    8.0   \n3814   2015-12-18  2015-12-24                100.0                   10.0   \n3815          NaN         NaN                  NaN                    NaN   \n3816          NaN         NaN                  NaN                    NaN   \n3817          NaN         NaN                  NaN                    NaN   \n\n     review_scores_cleanliness review_scores_checkin  \\\n0                         10.0                  10.0   \n1                         10.0                  10.0   \n2                         10.0                  10.0   \n3                          NaN                   NaN   \n4                          9.0                  10.0   \n...                        ...                   ...   \n3813                      10.0                   4.0   \n3814                      10.0                  10.0   \n3815                       NaN                   NaN   \n3816                       NaN                   NaN   \n3817                       NaN                   NaN   \n\n     review_scores_communication review_scores_location review_scores_value  \\\n0                           10.0                    9.0                10.0   \n1                           10.0                   10.0                10.0   \n2                           10.0                   10.0                10.0   \n3                            NaN                    NaN                 NaN   \n4                           10.0                    9.0                 9.0   \n...                          ...                    ...                 ...   \n3813                         8.0                   10.0                 8.0   \n3814                        10.0                   10.0                10.0   \n3815                         NaN                    NaN                 NaN   \n3816                         NaN                    NaN                 NaN   \n3817                         NaN                    NaN                 NaN   \n\n     requires_license jurisdiction_names instant_bookable cancellation_policy  \\\n0                   f         WASHINGTON                f            moderate   \n1                   f         WASHINGTON                f              strict   \n2                   f         WASHINGTON                f              strict   \n3                   f         WASHINGTON                f            flexible   \n4                   f         WASHINGTON                f              strict   \n...               ...                ...              ...                 ...   \n3813                f         WASHINGTON                f              strict   \n3814                f         WASHINGTON                f            moderate   \n3815                f         WASHINGTON                f            moderate   \n3816                f         WASHINGTON                f            moderate   \n3817                f         WASHINGTON                f            flexible   \n\n     require_guest_profile_picture require_guest_phone_verification  \\\n0                                f                                f   \n1                                t                                t   \n2                                f                                f   \n3                                f                                f   \n4                                f                                f   \n...                            ...                              ...   \n3813                             f                                f   \n3814                             f                                f   \n3815                             f                                f   \n3816                             f                                f   \n3817                             f                                f   \n\n     calculated_host_listings_count reviews_per_month  \n0                                 2              4.07  \n1                                 6              1.48  \n2                                 2              1.15  \n3                                 1               NaN  \n4                                 1              0.89  \n...                             ...               ...  \n3813                              8               0.3  \n3814                              1               2.0  \n3815                              1               NaN  \n3816                              1               NaN  \n3817                              1               NaN  \n\n[3818 rows x 75 columns]",
      "text/html": "<div>\n<style scoped>\n    .dataframe tbody tr th:only-of-type {\n        vertical-align: middle;\n    }\n\n    .dataframe tbody tr th {\n        vertical-align: top;\n    }\n\n    .dataframe thead th {\n        text-align: right;\n    }\n</style>\n<table border=\"1\" class=\"dataframe\">\n  <thead>\n    <tr style=\"text-align: right;\">\n      <th></th>\n      <th>id</th>\n      <th>scrape_id</th>\n      <th>last_scraped</th>\n      <th>name</th>\n      <th>experiences_offered</th>\n      <th>transit</th>\n      <th>host_id</th>\n      <th>host_name</th>\n      <th>host_since</th>\n      <th>host_location</th>\n      <th>host_response_time</th>\n      <th>host_response_rate</th>\n      <th>host_acceptance_rate</th>\n      <th>host_is_superhost</th>\n      <th>host_neighbourhood</th>\n      <th>host_listings_count</th>\n      <th>host_verifications</th>\n      <th>host_has_profile_pic</th>\n      <th>host_identity_verified</th>\n      <th>street</th>\n      <th>neighbourhood</th>\n      <th>neighbourhood_cleansed</th>\n      <th>neighbourhood_group_cleansed</th>\n      <th>city</th>\n      <th>state</th>\n      <th>...</th>\n      <th>maximum_nights</th>\n      <th>calendar_updated</th>\n      <th>has_availability</th>\n      <th>availability_30</th>\n      <th>availability_60</th>\n      <th>availability_90</th>\n      <th>availability_365</th>\n      <th>number_of_reviews</th>\n      <th>first_review</th>\n      <th>last_review</th>\n      <th>review_scores_rating</th>\n      <th>review_scores_accuracy</th>\n      <th>review_scores_cleanliness</th>\n      <th>review_scores_checkin</th>\n      <th>review_scores_communication</th>\n      <th>review_scores_location</th>\n      <th>review_scores_value</th>\n      <th>requires_license</th>\n      <th>jurisdiction_names</th>\n      <th>instant_bookable</th>\n      <th>cancellation_policy</th>\n      <th>require_guest_profile_picture</th>\n      <th>require_guest_phone_verification</th>\n      <th>calculated_host_listings_count</th>\n      <th>reviews_per_month</th>\n    </tr>\n  </thead>\n  <tbody>\n    <tr>\n      <th>0</th>\n      <td>241032</td>\n      <td>20160104002432</td>\n      <td>2016-01-04</td>\n      <td>Stylish Queen Anne Apartment</td>\n      <td>none</td>\n      <td>NaN</td>\n      <td>956883</td>\n      <td>Maija</td>\n      <td>2011-08-11</td>\n      <td>Seattle, Washington, United States</td>\n      <td>within a few hours</td>\n      <td>96%</td>\n      <td>100%</td>\n      <td>f</td>\n      <td>Queen Anne</td>\n      <td>3.0</td>\n      <td>['email', 'phone', 'reviews', 'kba']</td>\n      <td>t</td>\n      <td>t</td>\n      <td>Gilman Dr W, Seattle, WA 98119, United States</td>\n      <td>Queen Anne</td>\n      <td>West Queen Anne</td>\n      <td>Queen Anne</td>\n      <td>Seattle</td>\n      <td>WA</td>\n      <td>...</td>\n      <td>365</td>\n      <td>4 weeks ago</td>\n      <td>t</td>\n      <td>14</td>\n      <td>41</td>\n      <td>71</td>\n      <td>346</td>\n      <td>207</td>\n      <td>2011-11-01</td>\n      <td>2016-01-02</td>\n      <td>95.0</td>\n      <td>10.0</td>\n      <td>10.0</td>\n      <td>10.0</td>\n      <td>10.0</td>\n      <td>9.0</td>\n      <td>10.0</td>\n      <td>f</td>\n      <td>WASHINGTON</td>\n      <td>f</td>\n      <td>moderate</td>\n      <td>f</td>\n      <td>f</td>\n      <td>2</td>\n      <td>4.07</td>\n    </tr>\n    <tr>\n      <th>1</th>\n      <td>953595</td>\n      <td>20160104002432</td>\n      <td>2016-01-04</td>\n      <td>Bright &amp; Airy Queen Anne Apartment</td>\n      <td>none</td>\n      <td>Convenient bus stops are just down the block, ...</td>\n      <td>5177328</td>\n      <td>Andrea</td>\n      <td>2013-02-21</td>\n      <td>Seattle, Washington, United States</td>\n      <td>within an hour</td>\n      <td>98%</td>\n      <td>100%</td>\n      <td>t</td>\n      <td>Queen Anne</td>\n      <td>6.0</td>\n      <td>['email', 'phone', 'facebook', 'linkedin', 're...</td>\n      <td>t</td>\n      <td>t</td>\n      <td>7th Avenue West, Seattle, WA 98119, United States</td>\n      <td>Queen Anne</td>\n      <td>West Queen Anne</td>\n      <td>Queen Anne</td>\n      <td>Seattle</td>\n      <td>WA</td>\n      <td>...</td>\n      <td>90</td>\n      <td>today</td>\n      <td>t</td>\n      <td>13</td>\n      <td>13</td>\n      <td>16</td>\n      <td>291</td>\n      <td>43</td>\n      <td>2013-08-19</td>\n      <td>2015-12-29</td>\n      <td>96.0</td>\n      <td>10.0</td>\n      <td>10.0</td>\n      <td>10.0</td>\n      <td>10.0</td>\n      <td>10.0</td>\n      <td>10.0</td>\n      <td>f</td>\n      <td>WASHINGTON</td>\n      <td>f</td>\n      <td>strict</td>\n      <td>t</td>\n      <td>t</td>\n      <td>6</td>\n      <td>1.48</td>\n    </tr>\n    <tr>\n      <th>2</th>\n      <td>3308979</td>\n      <td>20160104002432</td>\n      <td>2016-01-04</td>\n      <td>New Modern House-Amazing water view</td>\n      <td>none</td>\n      <td>A bus stop is just 2 blocks away.   Easy bus a...</td>\n      <td>16708587</td>\n      <td>Jill</td>\n      <td>2014-06-12</td>\n      <td>Seattle, Washington, United States</td>\n      <td>within a few hours</td>\n      <td>67%</td>\n      <td>100%</td>\n      <td>f</td>\n      <td>Queen Anne</td>\n      <td>2.0</td>\n      <td>['email', 'phone', 'google', 'reviews', 'jumio']</td>\n      <td>t</td>\n      <td>t</td>\n      <td>West Lee Street, Seattle, WA 98119, United States</td>\n      <td>Queen Anne</td>\n      <td>West Queen Anne</td>\n      <td>Queen Anne</td>\n      <td>Seattle</td>\n      <td>WA</td>\n      <td>...</td>\n      <td>30</td>\n      <td>5 weeks ago</td>\n      <td>t</td>\n      <td>1</td>\n      <td>6</td>\n      <td>17</td>\n      <td>220</td>\n      <td>20</td>\n      <td>2014-07-30</td>\n      <td>2015-09-03</td>\n      <td>97.0</td>\n      <td>10.0</td>\n      <td>10.0</td>\n      <td>10.0</td>\n      <td>10.0</td>\n      <td>10.0</td>\n      <td>10.0</td>\n      <td>f</td>\n      <td>WASHINGTON</td>\n      <td>f</td>\n      <td>strict</td>\n      <td>f</td>\n      <td>f</td>\n      <td>2</td>\n      <td>1.15</td>\n    </tr>\n    <tr>\n      <th>3</th>\n      <td>7421966</td>\n      <td>20160104002432</td>\n      <td>2016-01-04</td>\n      <td>Queen Anne Chateau</td>\n      <td>none</td>\n      <td>NaN</td>\n      <td>9851441</td>\n      <td>Emily</td>\n      <td>2013-11-06</td>\n      <td>Seattle, Washington, United States</td>\n      <td>NaN</td>\n      <td>NaN</td>\n      <td>NaN</td>\n      <td>f</td>\n      <td>Queen Anne</td>\n      <td>1.0</td>\n      <td>['email', 'phone', 'facebook', 'reviews', 'jum...</td>\n      <td>t</td>\n      <td>t</td>\n      <td>8th Avenue West, Seattle, WA 98119, United States</td>\n      <td>Queen Anne</td>\n      <td>West Queen Anne</td>\n      <td>Queen Anne</td>\n      <td>Seattle</td>\n      <td>WA</td>\n      <td>...</td>\n      <td>1125</td>\n      <td>6 months ago</td>\n      <td>t</td>\n      <td>0</td>\n      <td>0</td>\n      <td>0</td>\n      <td>143</td>\n      <td>0</td>\n      <td>NaN</td>\n      <td>NaN</td>\n      <td>NaN</td>\n      <td>NaN</td>\n      <td>NaN</td>\n      <td>NaN</td>\n      <td>NaN</td>\n      <td>NaN</td>\n      <td>NaN</td>\n      <td>f</td>\n      <td>WASHINGTON</td>\n      <td>f</td>\n      <td>flexible</td>\n      <td>f</td>\n      <td>f</td>\n      <td>1</td>\n      <td>NaN</td>\n    </tr>\n    <tr>\n      <th>4</th>\n      <td>278830</td>\n      <td>20160104002432</td>\n      <td>2016-01-04</td>\n      <td>Charming craftsman 3 bdm house</td>\n      <td>none</td>\n      <td>The nearest public transit bus (D Line) is 2 b...</td>\n      <td>1452570</td>\n      <td>Emily</td>\n      <td>2011-11-29</td>\n      <td>Seattle, Washington, United States</td>\n      <td>within an hour</td>\n      <td>100%</td>\n      <td>NaN</td>\n      <td>f</td>\n      <td>Queen Anne</td>\n      <td>2.0</td>\n      <td>['email', 'phone', 'facebook', 'reviews', 'kba']</td>\n      <td>t</td>\n      <td>t</td>\n      <td>14th Ave W, Seattle, WA 98119, United States</td>\n      <td>Queen Anne</td>\n      <td>West Queen Anne</td>\n      <td>Queen Anne</td>\n      <td>Seattle</td>\n      <td>WA</td>\n      <td>...</td>\n      <td>1125</td>\n      <td>7 weeks ago</td>\n      <td>t</td>\n      <td>30</td>\n      <td>60</td>\n      <td>90</td>\n      <td>365</td>\n      <td>38</td>\n      <td>2012-07-10</td>\n      <td>2015-10-24</td>\n      <td>92.0</td>\n      <td>9.0</td>\n      <td>9.0</td>\n      <td>10.0</td>\n      <td>10.0</td>\n      <td>9.0</td>\n      <td>9.0</td>\n      <td>f</td>\n      <td>WASHINGTON</td>\n      <td>f</td>\n      <td>strict</td>\n      <td>f</td>\n      <td>f</td>\n      <td>1</td>\n      <td>0.89</td>\n    </tr>\n    <tr>\n      <th>...</th>\n      <td>...</td>\n      <td>...</td>\n      <td>...</td>\n      <td>...</td>\n      <td>...</td>\n      <td>...</td>\n      <td>...</td>\n      <td>...</td>\n      <td>...</td>\n      <td>...</td>\n      <td>...</td>\n      <td>...</td>\n      <td>...</td>\n      <td>...</td>\n      <td>...</td>\n      <td>...</td>\n      <td>...</td>\n      <td>...</td>\n      <td>...</td>\n      <td>...</td>\n      <td>...</td>\n      <td>...</td>\n      <td>...</td>\n      <td>...</td>\n      <td>...</td>\n      <td>...</td>\n      <td>...</td>\n      <td>...</td>\n      <td>...</td>\n      <td>...</td>\n      <td>...</td>\n      <td>...</td>\n      <td>...</td>\n      <td>...</td>\n      <td>...</td>\n      <td>...</td>\n      <td>...</td>\n      <td>...</td>\n      <td>...</td>\n      <td>...</td>\n      <td>...</td>\n      <td>...</td>\n      <td>...</td>\n      <td>...</td>\n      <td>...</td>\n      <td>...</td>\n      <td>...</td>\n      <td>...</td>\n      <td>...</td>\n      <td>...</td>\n      <td>...</td>\n    </tr>\n    <tr>\n      <th>3813</th>\n      <td>8101950</td>\n      <td>20160104002432</td>\n      <td>2016-01-04</td>\n      <td>3BR Mountain View House in Seattle</td>\n      <td>none</td>\n      <td>NaN</td>\n      <td>31148752</td>\n      <td>Bo</td>\n      <td>2015-04-13</td>\n      <td>US</td>\n      <td>within a few hours</td>\n      <td>99%</td>\n      <td>100%</td>\n      <td>f</td>\n      <td>Holly</td>\n      <td>354.0</td>\n      <td>['email', 'phone', 'linkedin', 'reviews', 'jum...</td>\n      <td>t</td>\n      <td>t</td>\n      <td>Northwest 48th Street, Seattle, WA 98107, Unit...</td>\n      <td>Fremont</td>\n      <td>Fremont</td>\n      <td>Other neighborhoods</td>\n      <td>Seattle</td>\n      <td>WA</td>\n      <td>...</td>\n      <td>1125</td>\n      <td>today</td>\n      <td>t</td>\n      <td>18</td>\n      <td>32</td>\n      <td>32</td>\n      <td>32</td>\n      <td>1</td>\n      <td>2015-09-27</td>\n      <td>2015-09-27</td>\n      <td>80.0</td>\n      <td>8.0</td>\n      <td>10.0</td>\n      <td>4.0</td>\n      <td>8.0</td>\n      <td>10.0</td>\n      <td>8.0</td>\n      <td>f</td>\n      <td>WASHINGTON</td>\n      <td>f</td>\n      <td>strict</td>\n      <td>f</td>\n      <td>f</td>\n      <td>8</td>\n      <td>0.3</td>\n    </tr>\n    <tr>\n      <th>3814</th>\n      <td>8902327</td>\n      <td>20160104002432</td>\n      <td>2016-01-04</td>\n      <td>Portage Bay View!-One Bedroom Apt</td>\n      <td>none</td>\n      <td>Uber and Car2go are good options in Seattle. T...</td>\n      <td>46566046</td>\n      <td>Glen</td>\n      <td>2015-10-14</td>\n      <td>Seattle, Washington, United States</td>\n      <td>within an hour</td>\n      <td>100%</td>\n      <td>100%</td>\n      <td>f</td>\n      <td>Portage Bay</td>\n      <td>1.0</td>\n      <td>['email', 'phone', 'facebook', 'reviews', 'jum...</td>\n      <td>t</td>\n      <td>t</td>\n      <td>Fuhrman Avenue East, Seattle, WA 98102, United...</td>\n      <td>Portage Bay</td>\n      <td>Portage Bay</td>\n      <td>Capitol Hill</td>\n      <td>Seattle</td>\n      <td>WA</td>\n      <td>...</td>\n      <td>29</td>\n      <td>2 days ago</td>\n      <td>t</td>\n      <td>6</td>\n      <td>26</td>\n      <td>44</td>\n      <td>273</td>\n      <td>2</td>\n      <td>2015-12-18</td>\n      <td>2015-12-24</td>\n      <td>100.0</td>\n      <td>10.0</td>\n      <td>10.0</td>\n      <td>10.0</td>\n      <td>10.0</td>\n      <td>10.0</td>\n      <td>10.0</td>\n      <td>f</td>\n      <td>WASHINGTON</td>\n      <td>f</td>\n      <td>moderate</td>\n      <td>f</td>\n      <td>f</td>\n      <td>1</td>\n      <td>2.0</td>\n    </tr>\n    <tr>\n      <th>3815</th>\n      <td>10267360</td>\n      <td>20160104002432</td>\n      <td>2016-01-04</td>\n      <td>Private apartment view of Lake WA</td>\n      <td>none</td>\n      <td>NaN</td>\n      <td>52791370</td>\n      <td>Virginia</td>\n      <td>2015-12-30</td>\n      <td>US</td>\n      <td>NaN</td>\n      <td>NaN</td>\n      <td>NaN</td>\n      <td>f</td>\n      <td>NaN</td>\n      <td>1.0</td>\n      <td>['phone']</td>\n      <td>t</td>\n      <td>f</td>\n      <td>South Laurel Street, Seattle, WA 98178, United...</td>\n      <td>NaN</td>\n      <td>Rainier Beach</td>\n      <td>Rainier Valley</td>\n      <td>Seattle</td>\n      <td>WA</td>\n      <td>...</td>\n      <td>7</td>\n      <td>4 days ago</td>\n      <td>t</td>\n      <td>29</td>\n      <td>59</td>\n      <td>88</td>\n      <td>88</td>\n      <td>0</td>\n      <td>NaN</td>\n      <td>NaN</td>\n      <td>NaN</td>\n      <td>NaN</td>\n      <td>NaN</td>\n      <td>NaN</td>\n      <td>NaN</td>\n      <td>NaN</td>\n      <td>NaN</td>\n      <td>f</td>\n      <td>WASHINGTON</td>\n      <td>f</td>\n      <td>moderate</td>\n      <td>f</td>\n      <td>f</td>\n      <td>1</td>\n      <td>NaN</td>\n    </tr>\n    <tr>\n      <th>3816</th>\n      <td>9604740</td>\n      <td>20160104002432</td>\n      <td>2016-01-04</td>\n      <td>Amazing View with Modern Comfort!</td>\n      <td>none</td>\n      <td>Yes</td>\n      <td>25522052</td>\n      <td>Karen</td>\n      <td>2015-01-03</td>\n      <td>Tacoma, Washington, United States</td>\n      <td>within an hour</td>\n      <td>100%</td>\n      <td>NaN</td>\n      <td>f</td>\n      <td>NaN</td>\n      <td>1.0</td>\n      <td>['email', 'phone', 'facebook', 'reviews', 'kba']</td>\n      <td>t</td>\n      <td>t</td>\n      <td>43rd Avenue East, Seattle, WA 98112, United St...</td>\n      <td>NaN</td>\n      <td>Madison Park</td>\n      <td>Capitol Hill</td>\n      <td>Seattle</td>\n      <td>WA</td>\n      <td>...</td>\n      <td>1125</td>\n      <td>never</td>\n      <td>t</td>\n      <td>30</td>\n      <td>60</td>\n      <td>90</td>\n      <td>179</td>\n      <td>0</td>\n      <td>NaN</td>\n      <td>NaN</td>\n      <td>NaN</td>\n      <td>NaN</td>\n      <td>NaN</td>\n      <td>NaN</td>\n      <td>NaN</td>\n      <td>NaN</td>\n      <td>NaN</td>\n      <td>f</td>\n      <td>WASHINGTON</td>\n      <td>f</td>\n      <td>moderate</td>\n      <td>f</td>\n      <td>f</td>\n      <td>1</td>\n      <td>NaN</td>\n    </tr>\n    <tr>\n      <th>3817</th>\n      <td>10208623</td>\n      <td>20160104002432</td>\n      <td>2016-01-04</td>\n      <td>Large Lakefront Apartment</td>\n      <td>none</td>\n      <td>NaN</td>\n      <td>14703116</td>\n      <td>Gil</td>\n      <td>2014-04-25</td>\n      <td>Seattle, Washington, United States</td>\n      <td>within a day</td>\n      <td>100%</td>\n      <td>NaN</td>\n      <td>f</td>\n      <td>Queen Anne</td>\n      <td>1.0</td>\n      <td>['email', 'phone', 'reviews', 'kba']</td>\n      <td>t</td>\n      <td>t</td>\n      <td>Westlake Avenue North, Seattle, WA 98109, Unit...</td>\n      <td>Queen Anne</td>\n      <td>East Queen Anne</td>\n      <td>Queen Anne</td>\n      <td>Seattle</td>\n      <td>WA</td>\n      <td>...</td>\n      <td>1125</td>\n      <td>a week ago</td>\n      <td>t</td>\n      <td>7</td>\n      <td>7</td>\n      <td>7</td>\n      <td>7</td>\n      <td>0</td>\n      <td>NaN</td>\n      <td>NaN</td>\n      <td>NaN</td>\n      <td>NaN</td>\n      <td>NaN</td>\n      <td>NaN</td>\n      <td>NaN</td>\n      <td>NaN</td>\n      <td>NaN</td>\n      <td>f</td>\n      <td>WASHINGTON</td>\n      <td>f</td>\n      <td>flexible</td>\n      <td>f</td>\n      <td>f</td>\n      <td>1</td>\n      <td>NaN</td>\n    </tr>\n  </tbody>\n</table>\n<p>3818 rows × 75 columns</p>\n</div>"
     },
     "execution_count": 75,
     "metadata": {},
     "output_type": "execute_result"
    }
   ],
   "source": [
    "df_listings = df_listings.loc[:, ~df_listings.applymap(lambda x: 'http' in x if isinstance(x, str) else False).any()]\n",
    "df_listings"
   ],
   "metadata": {
    "collapsed": false,
    "ExecuteTime": {
     "end_time": "2023-11-07T17:39:39.926196Z",
     "start_time": "2023-11-07T17:39:39.907546Z"
    }
   },
   "id": "7a7df886b4bcfeaa"
  },
  {
   "cell_type": "markdown",
   "source": [
    "### **[Задание 3]**\n",
    "\n",
    "Взгляните на столбцы со значениями в денежных единицах (`df_listings.price`, `df_listings.weekly_price`, `df_listings.monthly_price`, `df_listings.security_deposit`, `df_listings.cleaning_fee`, `df_listings.extra_people`). Значения в них строковые и тяжело работать. Нужно избавиться от знака доллара и запятой и привести данные к типу `float32`.\n",
    "Для этого стоит обратиться к функциям `pd.replace`, `pd.astype`.\n",
    "\n",
    "Например, можно попробовать такой подход:\n",
    "`df_listings.price = df_listings.price.str.replace(r\"$\",\"\").str.replace(\",\",\"\").astype(\"float32\")`"
   ],
   "metadata": {
    "collapsed": false
   },
   "id": "13f62a6aefdadabd"
  },
  {
   "cell_type": "code",
   "source": [
    "f = lambda x: np.float32(x.replace(r\"$\",\"\").replace(\",\",\"\")) if isinstance(x, str) else x\n",
    "\n",
    "df_listings[['price', 'weekly_price', 'monthly_price', 'security_deposit', 'cleaning_fee', 'extra_people']] = df_listings[['price', 'weekly_price', 'monthly_price', 'security_deposit', 'cleaning_fee', 'extra_people']].applymap(f)\n",
    "\n",
    "df_listings[['price', 'weekly_price', 'monthly_price', 'security_deposit', 'cleaning_fee', 'extra_people']]"
   ],
   "metadata": {
    "id": "bMrQAjMJVLIp",
    "ExecuteTime": {
     "end_time": "2023-11-07T17:39:44.752285Z",
     "start_time": "2023-11-07T17:39:44.747645Z"
    }
   },
   "id": "bMrQAjMJVLIp",
   "execution_count": 76,
   "outputs": [
    {
     "data": {
      "text/plain": "      price  weekly_price  monthly_price  security_deposit  cleaning_fee  \\\n0      85.0           NaN            NaN               NaN           NaN   \n1     150.0        1000.0         3000.0             100.0          40.0   \n2     975.0           NaN            NaN            1000.0         300.0   \n3     100.0         650.0         2300.0               NaN           NaN   \n4     450.0           NaN            NaN             700.0         125.0   \n...     ...           ...            ...               ...           ...   \n3813  359.0           NaN            NaN               NaN         230.0   \n3814   79.0           NaN            NaN             500.0          50.0   \n3815   93.0         450.0            NaN             250.0          35.0   \n3816   99.0           NaN            NaN             300.0          45.0   \n3817   87.0           NaN            NaN               NaN           NaN   \n\n      extra_people  \n0              5.0  \n1              0.0  \n2             25.0  \n3              0.0  \n4             15.0  \n...            ...  \n3813           0.0  \n3814          25.0  \n3815          20.0  \n3816           0.0  \n3817           0.0  \n\n[3818 rows x 6 columns]",
      "text/html": "<div>\n<style scoped>\n    .dataframe tbody tr th:only-of-type {\n        vertical-align: middle;\n    }\n\n    .dataframe tbody tr th {\n        vertical-align: top;\n    }\n\n    .dataframe thead th {\n        text-align: right;\n    }\n</style>\n<table border=\"1\" class=\"dataframe\">\n  <thead>\n    <tr style=\"text-align: right;\">\n      <th></th>\n      <th>price</th>\n      <th>weekly_price</th>\n      <th>monthly_price</th>\n      <th>security_deposit</th>\n      <th>cleaning_fee</th>\n      <th>extra_people</th>\n    </tr>\n  </thead>\n  <tbody>\n    <tr>\n      <th>0</th>\n      <td>85.0</td>\n      <td>NaN</td>\n      <td>NaN</td>\n      <td>NaN</td>\n      <td>NaN</td>\n      <td>5.0</td>\n    </tr>\n    <tr>\n      <th>1</th>\n      <td>150.0</td>\n      <td>1000.0</td>\n      <td>3000.0</td>\n      <td>100.0</td>\n      <td>40.0</td>\n      <td>0.0</td>\n    </tr>\n    <tr>\n      <th>2</th>\n      <td>975.0</td>\n      <td>NaN</td>\n      <td>NaN</td>\n      <td>1000.0</td>\n      <td>300.0</td>\n      <td>25.0</td>\n    </tr>\n    <tr>\n      <th>3</th>\n      <td>100.0</td>\n      <td>650.0</td>\n      <td>2300.0</td>\n      <td>NaN</td>\n      <td>NaN</td>\n      <td>0.0</td>\n    </tr>\n    <tr>\n      <th>4</th>\n      <td>450.0</td>\n      <td>NaN</td>\n      <td>NaN</td>\n      <td>700.0</td>\n      <td>125.0</td>\n      <td>15.0</td>\n    </tr>\n    <tr>\n      <th>...</th>\n      <td>...</td>\n      <td>...</td>\n      <td>...</td>\n      <td>...</td>\n      <td>...</td>\n      <td>...</td>\n    </tr>\n    <tr>\n      <th>3813</th>\n      <td>359.0</td>\n      <td>NaN</td>\n      <td>NaN</td>\n      <td>NaN</td>\n      <td>230.0</td>\n      <td>0.0</td>\n    </tr>\n    <tr>\n      <th>3814</th>\n      <td>79.0</td>\n      <td>NaN</td>\n      <td>NaN</td>\n      <td>500.0</td>\n      <td>50.0</td>\n      <td>25.0</td>\n    </tr>\n    <tr>\n      <th>3815</th>\n      <td>93.0</td>\n      <td>450.0</td>\n      <td>NaN</td>\n      <td>250.0</td>\n      <td>35.0</td>\n      <td>20.0</td>\n    </tr>\n    <tr>\n      <th>3816</th>\n      <td>99.0</td>\n      <td>NaN</td>\n      <td>NaN</td>\n      <td>300.0</td>\n      <td>45.0</td>\n      <td>0.0</td>\n    </tr>\n    <tr>\n      <th>3817</th>\n      <td>87.0</td>\n      <td>NaN</td>\n      <td>NaN</td>\n      <td>NaN</td>\n      <td>NaN</td>\n      <td>0.0</td>\n    </tr>\n  </tbody>\n</table>\n<p>3818 rows × 6 columns</p>\n</div>"
     },
     "execution_count": 76,
     "metadata": {},
     "output_type": "execute_result"
    }
   ]
  },
  {
   "cell_type": "markdown",
   "source": [
    "Теперь поработаем со столбцами `host_since_deltaDays`, `last_review_deltaDays` `first_review_deltaDays`, которые содержат строковые данные, которые подозрительно похожи на даты.\n",
    "\n",
    "Преобразуем их к `Datetime` с помощью методов [`pd.Timestamp`](https://pandas.pydata.org/docs/reference/api/pandas.Timestamp.html) и [`pd.to_datetime`](https://pandas.pydata.org/docs/reference/api/pandas.to_datetime.html)"
   ],
   "metadata": {
    "collapsed": false
   },
   "id": "77139ecf4de0edb3"
  },
  {
   "cell_type": "code",
   "execution_count": 77,
   "id": "e6adb03c",
   "metadata": {
    "execution": {
     "iopub.execute_input": "2023-04-17T19:26:25.591929Z",
     "iopub.status.busy": "2023-04-17T19:26:25.591470Z",
     "iopub.status.idle": "2023-04-17T19:26:26.849587Z",
     "shell.execute_reply": "2023-04-17T19:26:26.848599Z"
    },
    "id": "e6adb03c",
    "papermill": {
     "duration": 1.2762,
     "end_time": "2023-04-17T19:26:26.852288",
     "exception": false,
     "start_time": "2023-04-17T19:26:25.576088",
     "status": "completed"
    },
    "tags": [],
    "ExecuteTime": {
     "end_time": "2023-11-07T17:39:55.337866Z",
     "start_time": "2023-11-07T17:39:55.300836Z"
    }
   },
   "outputs": [
    {
     "data": {
      "text/plain": "            id       scrape_id last_scraped  \\\n0       241032  20160104002432   2016-01-04   \n1       953595  20160104002432   2016-01-04   \n2      3308979  20160104002432   2016-01-04   \n3      7421966  20160104002432   2016-01-04   \n4       278830  20160104002432   2016-01-04   \n...        ...             ...          ...   \n3813   8101950  20160104002432   2016-01-04   \n3814   8902327  20160104002432   2016-01-04   \n3815  10267360  20160104002432   2016-01-04   \n3816   9604740  20160104002432   2016-01-04   \n3817  10208623  20160104002432   2016-01-04   \n\n                                     name experiences_offered  \\\n0            Stylish Queen Anne Apartment                none   \n1      Bright & Airy Queen Anne Apartment                none   \n2     New Modern House-Amazing water view                none   \n3                      Queen Anne Chateau                none   \n4          Charming craftsman 3 bdm house                none   \n...                                   ...                 ...   \n3813   3BR Mountain View House in Seattle                none   \n3814    Portage Bay View!-One Bedroom Apt                none   \n3815    Private apartment view of Lake WA                none   \n3816    Amazing View with Modern Comfort!                none   \n3817            Large Lakefront Apartment                none   \n\n                                                transit   host_id host_name  \\\n0                                                   NaN    956883     Maija   \n1     Convenient bus stops are just down the block, ...   5177328    Andrea   \n2     A bus stop is just 2 blocks away.   Easy bus a...  16708587      Jill   \n3                                                   NaN   9851441     Emily   \n4     The nearest public transit bus (D Line) is 2 b...   1452570     Emily   \n...                                                 ...       ...       ...   \n3813                                                NaN  31148752        Bo   \n3814  Uber and Car2go are good options in Seattle. T...  46566046      Glen   \n3815                                                NaN  52791370  Virginia   \n3816                                                Yes  25522052     Karen   \n3817                                                NaN  14703116       Gil   \n\n      host_since                       host_location  host_response_time  \\\n0     2011-08-11  Seattle, Washington, United States  within a few hours   \n1     2013-02-21  Seattle, Washington, United States      within an hour   \n2     2014-06-12  Seattle, Washington, United States  within a few hours   \n3     2013-11-06  Seattle, Washington, United States                 NaN   \n4     2011-11-29  Seattle, Washington, United States      within an hour   \n...          ...                                 ...                 ...   \n3813  2015-04-13                                  US  within a few hours   \n3814  2015-10-14  Seattle, Washington, United States      within an hour   \n3815  2015-12-30                                  US                 NaN   \n3816  2015-01-03   Tacoma, Washington, United States      within an hour   \n3817  2014-04-25  Seattle, Washington, United States        within a day   \n\n     host_response_rate host_acceptance_rate host_is_superhost  \\\n0                   96%                 100%                 f   \n1                   98%                 100%                 t   \n2                   67%                 100%                 f   \n3                   NaN                  NaN                 f   \n4                  100%                  NaN                 f   \n...                 ...                  ...               ...   \n3813                99%                 100%                 f   \n3814               100%                 100%                 f   \n3815                NaN                  NaN                 f   \n3816               100%                  NaN                 f   \n3817               100%                  NaN                 f   \n\n     host_neighbourhood host_listings_count  \\\n0            Queen Anne                 3.0   \n1            Queen Anne                 6.0   \n2            Queen Anne                 2.0   \n3            Queen Anne                 1.0   \n4            Queen Anne                 2.0   \n...                 ...                 ...   \n3813              Holly               354.0   \n3814        Portage Bay                 1.0   \n3815                NaN                 1.0   \n3816                NaN                 1.0   \n3817         Queen Anne                 1.0   \n\n                                     host_verifications host_has_profile_pic  \\\n0                  ['email', 'phone', 'reviews', 'kba']                    t   \n1     ['email', 'phone', 'facebook', 'linkedin', 're...                    t   \n2      ['email', 'phone', 'google', 'reviews', 'jumio']                    t   \n3     ['email', 'phone', 'facebook', 'reviews', 'jum...                    t   \n4      ['email', 'phone', 'facebook', 'reviews', 'kba']                    t   \n...                                                 ...                  ...   \n3813  ['email', 'phone', 'linkedin', 'reviews', 'jum...                    t   \n3814  ['email', 'phone', 'facebook', 'reviews', 'jum...                    t   \n3815                                          ['phone']                    t   \n3816   ['email', 'phone', 'facebook', 'reviews', 'kba']                    t   \n3817               ['email', 'phone', 'reviews', 'kba']                    t   \n\n     host_identity_verified  \\\n0                         t   \n1                         t   \n2                         t   \n3                         t   \n4                         t   \n...                     ...   \n3813                      t   \n3814                      t   \n3815                      f   \n3816                      t   \n3817                      t   \n\n                                                 street neighbourhood  \\\n0         Gilman Dr W, Seattle, WA 98119, United States    Queen Anne   \n1     7th Avenue West, Seattle, WA 98119, United States    Queen Anne   \n2     West Lee Street, Seattle, WA 98119, United States    Queen Anne   \n3     8th Avenue West, Seattle, WA 98119, United States    Queen Anne   \n4          14th Ave W, Seattle, WA 98119, United States    Queen Anne   \n...                                                 ...           ...   \n3813  Northwest 48th Street, Seattle, WA 98107, Unit...       Fremont   \n3814  Fuhrman Avenue East, Seattle, WA 98102, United...   Portage Bay   \n3815  South Laurel Street, Seattle, WA 98178, United...           NaN   \n3816  43rd Avenue East, Seattle, WA 98112, United St...           NaN   \n3817  Westlake Avenue North, Seattle, WA 98109, Unit...    Queen Anne   \n\n     neighbourhood_cleansed neighbourhood_group_cleansed     city state  ...  \\\n0           West Queen Anne                   Queen Anne  Seattle    WA  ...   \n1           West Queen Anne                   Queen Anne  Seattle    WA  ...   \n2           West Queen Anne                   Queen Anne  Seattle    WA  ...   \n3           West Queen Anne                   Queen Anne  Seattle    WA  ...   \n4           West Queen Anne                   Queen Anne  Seattle    WA  ...   \n...                     ...                          ...      ...   ...  ...   \n3813                Fremont          Other neighborhoods  Seattle    WA  ...   \n3814            Portage Bay                 Capitol Hill  Seattle    WA  ...   \n3815          Rainier Beach               Rainier Valley  Seattle    WA  ...   \n3816           Madison Park                 Capitol Hill  Seattle    WA  ...   \n3817        East Queen Anne                   Queen Anne  Seattle    WA  ...   \n\n     availability_30 availability_60 availability_90 availability_365  \\\n0                 14              41              71              346   \n1                 13              13              16              291   \n2                  1               6              17              220   \n3                  0               0               0              143   \n4                 30              60              90              365   \n...              ...             ...             ...              ...   \n3813              18              32              32               32   \n3814               6              26              44              273   \n3815              29              59              88               88   \n3816              30              60              90              179   \n3817               7               7               7                7   \n\n     number_of_reviews first_review last_review review_scores_rating  \\\n0                  207   2011-11-01  2016-01-02                 95.0   \n1                   43   2013-08-19  2015-12-29                 96.0   \n2                   20   2014-07-30  2015-09-03                 97.0   \n3                    0          NaN         NaN                  NaN   \n4                   38   2012-07-10  2015-10-24                 92.0   \n...                ...          ...         ...                  ...   \n3813                 1   2015-09-27  2015-09-27                 80.0   \n3814                 2   2015-12-18  2015-12-24                100.0   \n3815                 0          NaN         NaN                  NaN   \n3816                 0          NaN         NaN                  NaN   \n3817                 0          NaN         NaN                  NaN   \n\n     review_scores_accuracy review_scores_cleanliness review_scores_checkin  \\\n0                      10.0                      10.0                  10.0   \n1                      10.0                      10.0                  10.0   \n2                      10.0                      10.0                  10.0   \n3                       NaN                       NaN                   NaN   \n4                       9.0                       9.0                  10.0   \n...                     ...                       ...                   ...   \n3813                    8.0                      10.0                   4.0   \n3814                   10.0                      10.0                  10.0   \n3815                    NaN                       NaN                   NaN   \n3816                    NaN                       NaN                   NaN   \n3817                    NaN                       NaN                   NaN   \n\n     review_scores_communication review_scores_location review_scores_value  \\\n0                           10.0                    9.0                10.0   \n1                           10.0                   10.0                10.0   \n2                           10.0                   10.0                10.0   \n3                            NaN                    NaN                 NaN   \n4                           10.0                    9.0                 9.0   \n...                          ...                    ...                 ...   \n3813                         8.0                   10.0                 8.0   \n3814                        10.0                   10.0                10.0   \n3815                         NaN                    NaN                 NaN   \n3816                         NaN                    NaN                 NaN   \n3817                         NaN                    NaN                 NaN   \n\n     requires_license jurisdiction_names instant_bookable  \\\n0                   f         WASHINGTON                f   \n1                   f         WASHINGTON                f   \n2                   f         WASHINGTON                f   \n3                   f         WASHINGTON                f   \n4                   f         WASHINGTON                f   \n...               ...                ...              ...   \n3813                f         WASHINGTON                f   \n3814                f         WASHINGTON                f   \n3815                f         WASHINGTON                f   \n3816                f         WASHINGTON                f   \n3817                f         WASHINGTON                f   \n\n      cancellation_policy  require_guest_profile_picture  \\\n0                moderate                              f   \n1                  strict                              t   \n2                  strict                              f   \n3                flexible                              f   \n4                  strict                              f   \n...                   ...                            ...   \n3813               strict                              f   \n3814             moderate                              f   \n3815             moderate                              f   \n3816             moderate                              f   \n3817             flexible                              f   \n\n      require_guest_phone_verification  calculated_host_listings_count  \\\n0                                    f                               2   \n1                                    t                               6   \n2                                    f                               2   \n3                                    f                               1   \n4                                    f                               1   \n...                                ...                             ...   \n3813                                 f                               8   \n3814                                 f                               1   \n3815                                 f                               1   \n3816                                 f                               1   \n3817                                 f                               1   \n\n      reviews_per_month host_since_deltaDays  last_review_deltaDays  \\\n0                  4.07               1607.0                    2.0   \n1                  1.48               1047.0                    6.0   \n2                  1.15                571.0                  123.0   \n3                   NaN                789.0                    NaN   \n4                  0.89               1497.0                   72.0   \n...                 ...                  ...                    ...   \n3813                0.3                266.0                   99.0   \n3814                2.0                 82.0                   11.0   \n3815                NaN                  5.0                    NaN   \n3816                NaN                366.0                    NaN   \n3817                NaN                619.0                    NaN   \n\n     first_review_deltaDays  \n0                    1525.0  \n1                     868.0  \n2                     523.0  \n3                       NaN  \n4                    1273.0  \n...                     ...  \n3813                   99.0  \n3814                   17.0  \n3815                    NaN  \n3816                    NaN  \n3817                    NaN  \n\n[3818 rows x 78 columns]",
      "text/html": "<div>\n<style scoped>\n    .dataframe tbody tr th:only-of-type {\n        vertical-align: middle;\n    }\n\n    .dataframe tbody tr th {\n        vertical-align: top;\n    }\n\n    .dataframe thead th {\n        text-align: right;\n    }\n</style>\n<table border=\"1\" class=\"dataframe\">\n  <thead>\n    <tr style=\"text-align: right;\">\n      <th></th>\n      <th>id</th>\n      <th>scrape_id</th>\n      <th>last_scraped</th>\n      <th>name</th>\n      <th>experiences_offered</th>\n      <th>transit</th>\n      <th>host_id</th>\n      <th>host_name</th>\n      <th>host_since</th>\n      <th>host_location</th>\n      <th>host_response_time</th>\n      <th>host_response_rate</th>\n      <th>host_acceptance_rate</th>\n      <th>host_is_superhost</th>\n      <th>host_neighbourhood</th>\n      <th>host_listings_count</th>\n      <th>host_verifications</th>\n      <th>host_has_profile_pic</th>\n      <th>host_identity_verified</th>\n      <th>street</th>\n      <th>neighbourhood</th>\n      <th>neighbourhood_cleansed</th>\n      <th>neighbourhood_group_cleansed</th>\n      <th>city</th>\n      <th>state</th>\n      <th>...</th>\n      <th>availability_30</th>\n      <th>availability_60</th>\n      <th>availability_90</th>\n      <th>availability_365</th>\n      <th>number_of_reviews</th>\n      <th>first_review</th>\n      <th>last_review</th>\n      <th>review_scores_rating</th>\n      <th>review_scores_accuracy</th>\n      <th>review_scores_cleanliness</th>\n      <th>review_scores_checkin</th>\n      <th>review_scores_communication</th>\n      <th>review_scores_location</th>\n      <th>review_scores_value</th>\n      <th>requires_license</th>\n      <th>jurisdiction_names</th>\n      <th>instant_bookable</th>\n      <th>cancellation_policy</th>\n      <th>require_guest_profile_picture</th>\n      <th>require_guest_phone_verification</th>\n      <th>calculated_host_listings_count</th>\n      <th>reviews_per_month</th>\n      <th>host_since_deltaDays</th>\n      <th>last_review_deltaDays</th>\n      <th>first_review_deltaDays</th>\n    </tr>\n  </thead>\n  <tbody>\n    <tr>\n      <th>0</th>\n      <td>241032</td>\n      <td>20160104002432</td>\n      <td>2016-01-04</td>\n      <td>Stylish Queen Anne Apartment</td>\n      <td>none</td>\n      <td>NaN</td>\n      <td>956883</td>\n      <td>Maija</td>\n      <td>2011-08-11</td>\n      <td>Seattle, Washington, United States</td>\n      <td>within a few hours</td>\n      <td>96%</td>\n      <td>100%</td>\n      <td>f</td>\n      <td>Queen Anne</td>\n      <td>3.0</td>\n      <td>['email', 'phone', 'reviews', 'kba']</td>\n      <td>t</td>\n      <td>t</td>\n      <td>Gilman Dr W, Seattle, WA 98119, United States</td>\n      <td>Queen Anne</td>\n      <td>West Queen Anne</td>\n      <td>Queen Anne</td>\n      <td>Seattle</td>\n      <td>WA</td>\n      <td>...</td>\n      <td>14</td>\n      <td>41</td>\n      <td>71</td>\n      <td>346</td>\n      <td>207</td>\n      <td>2011-11-01</td>\n      <td>2016-01-02</td>\n      <td>95.0</td>\n      <td>10.0</td>\n      <td>10.0</td>\n      <td>10.0</td>\n      <td>10.0</td>\n      <td>9.0</td>\n      <td>10.0</td>\n      <td>f</td>\n      <td>WASHINGTON</td>\n      <td>f</td>\n      <td>moderate</td>\n      <td>f</td>\n      <td>f</td>\n      <td>2</td>\n      <td>4.07</td>\n      <td>1607.0</td>\n      <td>2.0</td>\n      <td>1525.0</td>\n    </tr>\n    <tr>\n      <th>1</th>\n      <td>953595</td>\n      <td>20160104002432</td>\n      <td>2016-01-04</td>\n      <td>Bright &amp; Airy Queen Anne Apartment</td>\n      <td>none</td>\n      <td>Convenient bus stops are just down the block, ...</td>\n      <td>5177328</td>\n      <td>Andrea</td>\n      <td>2013-02-21</td>\n      <td>Seattle, Washington, United States</td>\n      <td>within an hour</td>\n      <td>98%</td>\n      <td>100%</td>\n      <td>t</td>\n      <td>Queen Anne</td>\n      <td>6.0</td>\n      <td>['email', 'phone', 'facebook', 'linkedin', 're...</td>\n      <td>t</td>\n      <td>t</td>\n      <td>7th Avenue West, Seattle, WA 98119, United States</td>\n      <td>Queen Anne</td>\n      <td>West Queen Anne</td>\n      <td>Queen Anne</td>\n      <td>Seattle</td>\n      <td>WA</td>\n      <td>...</td>\n      <td>13</td>\n      <td>13</td>\n      <td>16</td>\n      <td>291</td>\n      <td>43</td>\n      <td>2013-08-19</td>\n      <td>2015-12-29</td>\n      <td>96.0</td>\n      <td>10.0</td>\n      <td>10.0</td>\n      <td>10.0</td>\n      <td>10.0</td>\n      <td>10.0</td>\n      <td>10.0</td>\n      <td>f</td>\n      <td>WASHINGTON</td>\n      <td>f</td>\n      <td>strict</td>\n      <td>t</td>\n      <td>t</td>\n      <td>6</td>\n      <td>1.48</td>\n      <td>1047.0</td>\n      <td>6.0</td>\n      <td>868.0</td>\n    </tr>\n    <tr>\n      <th>2</th>\n      <td>3308979</td>\n      <td>20160104002432</td>\n      <td>2016-01-04</td>\n      <td>New Modern House-Amazing water view</td>\n      <td>none</td>\n      <td>A bus stop is just 2 blocks away.   Easy bus a...</td>\n      <td>16708587</td>\n      <td>Jill</td>\n      <td>2014-06-12</td>\n      <td>Seattle, Washington, United States</td>\n      <td>within a few hours</td>\n      <td>67%</td>\n      <td>100%</td>\n      <td>f</td>\n      <td>Queen Anne</td>\n      <td>2.0</td>\n      <td>['email', 'phone', 'google', 'reviews', 'jumio']</td>\n      <td>t</td>\n      <td>t</td>\n      <td>West Lee Street, Seattle, WA 98119, United States</td>\n      <td>Queen Anne</td>\n      <td>West Queen Anne</td>\n      <td>Queen Anne</td>\n      <td>Seattle</td>\n      <td>WA</td>\n      <td>...</td>\n      <td>1</td>\n      <td>6</td>\n      <td>17</td>\n      <td>220</td>\n      <td>20</td>\n      <td>2014-07-30</td>\n      <td>2015-09-03</td>\n      <td>97.0</td>\n      <td>10.0</td>\n      <td>10.0</td>\n      <td>10.0</td>\n      <td>10.0</td>\n      <td>10.0</td>\n      <td>10.0</td>\n      <td>f</td>\n      <td>WASHINGTON</td>\n      <td>f</td>\n      <td>strict</td>\n      <td>f</td>\n      <td>f</td>\n      <td>2</td>\n      <td>1.15</td>\n      <td>571.0</td>\n      <td>123.0</td>\n      <td>523.0</td>\n    </tr>\n    <tr>\n      <th>3</th>\n      <td>7421966</td>\n      <td>20160104002432</td>\n      <td>2016-01-04</td>\n      <td>Queen Anne Chateau</td>\n      <td>none</td>\n      <td>NaN</td>\n      <td>9851441</td>\n      <td>Emily</td>\n      <td>2013-11-06</td>\n      <td>Seattle, Washington, United States</td>\n      <td>NaN</td>\n      <td>NaN</td>\n      <td>NaN</td>\n      <td>f</td>\n      <td>Queen Anne</td>\n      <td>1.0</td>\n      <td>['email', 'phone', 'facebook', 'reviews', 'jum...</td>\n      <td>t</td>\n      <td>t</td>\n      <td>8th Avenue West, Seattle, WA 98119, United States</td>\n      <td>Queen Anne</td>\n      <td>West Queen Anne</td>\n      <td>Queen Anne</td>\n      <td>Seattle</td>\n      <td>WA</td>\n      <td>...</td>\n      <td>0</td>\n      <td>0</td>\n      <td>0</td>\n      <td>143</td>\n      <td>0</td>\n      <td>NaN</td>\n      <td>NaN</td>\n      <td>NaN</td>\n      <td>NaN</td>\n      <td>NaN</td>\n      <td>NaN</td>\n      <td>NaN</td>\n      <td>NaN</td>\n      <td>NaN</td>\n      <td>f</td>\n      <td>WASHINGTON</td>\n      <td>f</td>\n      <td>flexible</td>\n      <td>f</td>\n      <td>f</td>\n      <td>1</td>\n      <td>NaN</td>\n      <td>789.0</td>\n      <td>NaN</td>\n      <td>NaN</td>\n    </tr>\n    <tr>\n      <th>4</th>\n      <td>278830</td>\n      <td>20160104002432</td>\n      <td>2016-01-04</td>\n      <td>Charming craftsman 3 bdm house</td>\n      <td>none</td>\n      <td>The nearest public transit bus (D Line) is 2 b...</td>\n      <td>1452570</td>\n      <td>Emily</td>\n      <td>2011-11-29</td>\n      <td>Seattle, Washington, United States</td>\n      <td>within an hour</td>\n      <td>100%</td>\n      <td>NaN</td>\n      <td>f</td>\n      <td>Queen Anne</td>\n      <td>2.0</td>\n      <td>['email', 'phone', 'facebook', 'reviews', 'kba']</td>\n      <td>t</td>\n      <td>t</td>\n      <td>14th Ave W, Seattle, WA 98119, United States</td>\n      <td>Queen Anne</td>\n      <td>West Queen Anne</td>\n      <td>Queen Anne</td>\n      <td>Seattle</td>\n      <td>WA</td>\n      <td>...</td>\n      <td>30</td>\n      <td>60</td>\n      <td>90</td>\n      <td>365</td>\n      <td>38</td>\n      <td>2012-07-10</td>\n      <td>2015-10-24</td>\n      <td>92.0</td>\n      <td>9.0</td>\n      <td>9.0</td>\n      <td>10.0</td>\n      <td>10.0</td>\n      <td>9.0</td>\n      <td>9.0</td>\n      <td>f</td>\n      <td>WASHINGTON</td>\n      <td>f</td>\n      <td>strict</td>\n      <td>f</td>\n      <td>f</td>\n      <td>1</td>\n      <td>0.89</td>\n      <td>1497.0</td>\n      <td>72.0</td>\n      <td>1273.0</td>\n    </tr>\n    <tr>\n      <th>...</th>\n      <td>...</td>\n      <td>...</td>\n      <td>...</td>\n      <td>...</td>\n      <td>...</td>\n      <td>...</td>\n      <td>...</td>\n      <td>...</td>\n      <td>...</td>\n      <td>...</td>\n      <td>...</td>\n      <td>...</td>\n      <td>...</td>\n      <td>...</td>\n      <td>...</td>\n      <td>...</td>\n      <td>...</td>\n      <td>...</td>\n      <td>...</td>\n      <td>...</td>\n      <td>...</td>\n      <td>...</td>\n      <td>...</td>\n      <td>...</td>\n      <td>...</td>\n      <td>...</td>\n      <td>...</td>\n      <td>...</td>\n      <td>...</td>\n      <td>...</td>\n      <td>...</td>\n      <td>...</td>\n      <td>...</td>\n      <td>...</td>\n      <td>...</td>\n      <td>...</td>\n      <td>...</td>\n      <td>...</td>\n      <td>...</td>\n      <td>...</td>\n      <td>...</td>\n      <td>...</td>\n      <td>...</td>\n      <td>...</td>\n      <td>...</td>\n      <td>...</td>\n      <td>...</td>\n      <td>...</td>\n      <td>...</td>\n      <td>...</td>\n      <td>...</td>\n    </tr>\n    <tr>\n      <th>3813</th>\n      <td>8101950</td>\n      <td>20160104002432</td>\n      <td>2016-01-04</td>\n      <td>3BR Mountain View House in Seattle</td>\n      <td>none</td>\n      <td>NaN</td>\n      <td>31148752</td>\n      <td>Bo</td>\n      <td>2015-04-13</td>\n      <td>US</td>\n      <td>within a few hours</td>\n      <td>99%</td>\n      <td>100%</td>\n      <td>f</td>\n      <td>Holly</td>\n      <td>354.0</td>\n      <td>['email', 'phone', 'linkedin', 'reviews', 'jum...</td>\n      <td>t</td>\n      <td>t</td>\n      <td>Northwest 48th Street, Seattle, WA 98107, Unit...</td>\n      <td>Fremont</td>\n      <td>Fremont</td>\n      <td>Other neighborhoods</td>\n      <td>Seattle</td>\n      <td>WA</td>\n      <td>...</td>\n      <td>18</td>\n      <td>32</td>\n      <td>32</td>\n      <td>32</td>\n      <td>1</td>\n      <td>2015-09-27</td>\n      <td>2015-09-27</td>\n      <td>80.0</td>\n      <td>8.0</td>\n      <td>10.0</td>\n      <td>4.0</td>\n      <td>8.0</td>\n      <td>10.0</td>\n      <td>8.0</td>\n      <td>f</td>\n      <td>WASHINGTON</td>\n      <td>f</td>\n      <td>strict</td>\n      <td>f</td>\n      <td>f</td>\n      <td>8</td>\n      <td>0.3</td>\n      <td>266.0</td>\n      <td>99.0</td>\n      <td>99.0</td>\n    </tr>\n    <tr>\n      <th>3814</th>\n      <td>8902327</td>\n      <td>20160104002432</td>\n      <td>2016-01-04</td>\n      <td>Portage Bay View!-One Bedroom Apt</td>\n      <td>none</td>\n      <td>Uber and Car2go are good options in Seattle. T...</td>\n      <td>46566046</td>\n      <td>Glen</td>\n      <td>2015-10-14</td>\n      <td>Seattle, Washington, United States</td>\n      <td>within an hour</td>\n      <td>100%</td>\n      <td>100%</td>\n      <td>f</td>\n      <td>Portage Bay</td>\n      <td>1.0</td>\n      <td>['email', 'phone', 'facebook', 'reviews', 'jum...</td>\n      <td>t</td>\n      <td>t</td>\n      <td>Fuhrman Avenue East, Seattle, WA 98102, United...</td>\n      <td>Portage Bay</td>\n      <td>Portage Bay</td>\n      <td>Capitol Hill</td>\n      <td>Seattle</td>\n      <td>WA</td>\n      <td>...</td>\n      <td>6</td>\n      <td>26</td>\n      <td>44</td>\n      <td>273</td>\n      <td>2</td>\n      <td>2015-12-18</td>\n      <td>2015-12-24</td>\n      <td>100.0</td>\n      <td>10.0</td>\n      <td>10.0</td>\n      <td>10.0</td>\n      <td>10.0</td>\n      <td>10.0</td>\n      <td>10.0</td>\n      <td>f</td>\n      <td>WASHINGTON</td>\n      <td>f</td>\n      <td>moderate</td>\n      <td>f</td>\n      <td>f</td>\n      <td>1</td>\n      <td>2.0</td>\n      <td>82.0</td>\n      <td>11.0</td>\n      <td>17.0</td>\n    </tr>\n    <tr>\n      <th>3815</th>\n      <td>10267360</td>\n      <td>20160104002432</td>\n      <td>2016-01-04</td>\n      <td>Private apartment view of Lake WA</td>\n      <td>none</td>\n      <td>NaN</td>\n      <td>52791370</td>\n      <td>Virginia</td>\n      <td>2015-12-30</td>\n      <td>US</td>\n      <td>NaN</td>\n      <td>NaN</td>\n      <td>NaN</td>\n      <td>f</td>\n      <td>NaN</td>\n      <td>1.0</td>\n      <td>['phone']</td>\n      <td>t</td>\n      <td>f</td>\n      <td>South Laurel Street, Seattle, WA 98178, United...</td>\n      <td>NaN</td>\n      <td>Rainier Beach</td>\n      <td>Rainier Valley</td>\n      <td>Seattle</td>\n      <td>WA</td>\n      <td>...</td>\n      <td>29</td>\n      <td>59</td>\n      <td>88</td>\n      <td>88</td>\n      <td>0</td>\n      <td>NaN</td>\n      <td>NaN</td>\n      <td>NaN</td>\n      <td>NaN</td>\n      <td>NaN</td>\n      <td>NaN</td>\n      <td>NaN</td>\n      <td>NaN</td>\n      <td>NaN</td>\n      <td>f</td>\n      <td>WASHINGTON</td>\n      <td>f</td>\n      <td>moderate</td>\n      <td>f</td>\n      <td>f</td>\n      <td>1</td>\n      <td>NaN</td>\n      <td>5.0</td>\n      <td>NaN</td>\n      <td>NaN</td>\n    </tr>\n    <tr>\n      <th>3816</th>\n      <td>9604740</td>\n      <td>20160104002432</td>\n      <td>2016-01-04</td>\n      <td>Amazing View with Modern Comfort!</td>\n      <td>none</td>\n      <td>Yes</td>\n      <td>25522052</td>\n      <td>Karen</td>\n      <td>2015-01-03</td>\n      <td>Tacoma, Washington, United States</td>\n      <td>within an hour</td>\n      <td>100%</td>\n      <td>NaN</td>\n      <td>f</td>\n      <td>NaN</td>\n      <td>1.0</td>\n      <td>['email', 'phone', 'facebook', 'reviews', 'kba']</td>\n      <td>t</td>\n      <td>t</td>\n      <td>43rd Avenue East, Seattle, WA 98112, United St...</td>\n      <td>NaN</td>\n      <td>Madison Park</td>\n      <td>Capitol Hill</td>\n      <td>Seattle</td>\n      <td>WA</td>\n      <td>...</td>\n      <td>30</td>\n      <td>60</td>\n      <td>90</td>\n      <td>179</td>\n      <td>0</td>\n      <td>NaN</td>\n      <td>NaN</td>\n      <td>NaN</td>\n      <td>NaN</td>\n      <td>NaN</td>\n      <td>NaN</td>\n      <td>NaN</td>\n      <td>NaN</td>\n      <td>NaN</td>\n      <td>f</td>\n      <td>WASHINGTON</td>\n      <td>f</td>\n      <td>moderate</td>\n      <td>f</td>\n      <td>f</td>\n      <td>1</td>\n      <td>NaN</td>\n      <td>366.0</td>\n      <td>NaN</td>\n      <td>NaN</td>\n    </tr>\n    <tr>\n      <th>3817</th>\n      <td>10208623</td>\n      <td>20160104002432</td>\n      <td>2016-01-04</td>\n      <td>Large Lakefront Apartment</td>\n      <td>none</td>\n      <td>NaN</td>\n      <td>14703116</td>\n      <td>Gil</td>\n      <td>2014-04-25</td>\n      <td>Seattle, Washington, United States</td>\n      <td>within a day</td>\n      <td>100%</td>\n      <td>NaN</td>\n      <td>f</td>\n      <td>Queen Anne</td>\n      <td>1.0</td>\n      <td>['email', 'phone', 'reviews', 'kba']</td>\n      <td>t</td>\n      <td>t</td>\n      <td>Westlake Avenue North, Seattle, WA 98109, Unit...</td>\n      <td>Queen Anne</td>\n      <td>East Queen Anne</td>\n      <td>Queen Anne</td>\n      <td>Seattle</td>\n      <td>WA</td>\n      <td>...</td>\n      <td>7</td>\n      <td>7</td>\n      <td>7</td>\n      <td>7</td>\n      <td>0</td>\n      <td>NaN</td>\n      <td>NaN</td>\n      <td>NaN</td>\n      <td>NaN</td>\n      <td>NaN</td>\n      <td>NaN</td>\n      <td>NaN</td>\n      <td>NaN</td>\n      <td>NaN</td>\n      <td>f</td>\n      <td>WASHINGTON</td>\n      <td>f</td>\n      <td>flexible</td>\n      <td>f</td>\n      <td>f</td>\n      <td>1</td>\n      <td>NaN</td>\n      <td>619.0</td>\n      <td>NaN</td>\n      <td>NaN</td>\n    </tr>\n  </tbody>\n</table>\n<p>3818 rows × 78 columns</p>\n</div>"
     },
     "execution_count": 77,
     "metadata": {},
     "output_type": "execute_result"
    }
   ],
   "source": [
    "# Вычленим столбцы с датами\n",
    "df_listing_last_scraped = pd.Timestamp(df_listings.last_scraped[0])\n",
    "\n",
    "# Преобразуем столбцы с датами\n",
    "df_listings['host_since_deltaDays'] = (pd.to_datetime(df_listing_last_scraped)-pd.to_datetime(df_listings.host_since)).dt.days\n",
    "df_listings['last_review_deltaDays'] = (pd.to_datetime(df_listing_last_scraped)-pd.to_datetime(df_listings.last_review)).dt.days\n",
    "df_listings['first_review_deltaDays'] = (pd.to_datetime(df_listing_last_scraped)-pd.to_datetime(df_listings.first_review)).dt.days\n",
    "df_listings"
   ]
  },
  {
   "cell_type": "markdown",
   "source": [
    "Переформатируем столбцы `host_response_time`, `cancellation_policy` и `host_response_rate`.\n",
    "Для этого воспользуемся методом [`map`](https://pandas.pydata.org/docs/reference/api/pandas.Series.map.html?highlight=map#pandas.Series.map).\n",
    "\n",
    "Для начала заменим строковые элементы `\"within an hour\"`, `\"within a few hours\"`, `\"within a day\"`, `\"a few days or more\"` на числа 1, 12, 24  и 48 соответственно.\n"
   ],
   "metadata": {
    "id": "Sn5Gg5QoNXoQ"
   },
   "id": "Sn5Gg5QoNXoQ"
  },
  {
   "cell_type": "code",
   "source": [
    "# Переформатируем признаки\n",
    "df_listings['host_response_time'] = df_listings.host_response_time.map({\"within an hour\":1,\"within a few hours\":12, \"within a day\":24,\"a few days or more\":48})\n"
   ],
   "metadata": {
    "id": "PUmefd_OZO0g",
    "ExecuteTime": {
     "end_time": "2023-11-07T17:40:00.212063Z",
     "start_time": "2023-11-07T17:40:00.203447Z"
    }
   },
   "id": "PUmefd_OZO0g",
   "execution_count": 78,
   "outputs": []
  },
  {
   "cell_type": "markdown",
   "source": [
    "### **[Задание 4]**\n",
    "\n",
    "Для столбца `cancellation_policy` замените строковые элементы `strict`, `moderate`, `flexible` на 0, 1, 2 соответственно\n",
    "\n"
   ],
   "metadata": {
    "id": "aCl9tDUNR-_e"
   },
   "id": "aCl9tDUNR-_e"
  },
  {
   "cell_type": "code",
   "source": [
    "df_listings['cancellation_policy'] = df_listings.cancellation_policy.map({\"strict\":0,\"moderate\":1, \"flexible\":2})"
   ],
   "metadata": {
    "id": "HgjDI2iTSBBM",
    "ExecuteTime": {
     "end_time": "2023-11-07T17:40:05.528600Z",
     "start_time": "2023-11-07T17:40:05.520647Z"
    }
   },
   "id": "HgjDI2iTSBBM",
   "execution_count": 79,
   "outputs": []
  },
  {
   "cell_type": "markdown",
   "source": [
    "### **[Задание 5]**\n",
    "\n",
    "Для столбца `host_response_rate` избавьтесь от знака процента и приведите столбец к типу `float32`\n",
    "\n"
   ],
   "metadata": {
    "id": "zRork-0VVEK3"
   },
   "id": "zRork-0VVEK3"
  },
  {
   "cell_type": "code",
   "source": [
    "# df_listings['host_response_rate'] = df_listings['host_response_rate'].replace({'%': ''}, regex=True).astype('float32')\n",
    "df_listings['host_response_rate'] = df_listings['host_response_rate'].replace({'%': ''}, regex=True).astype('float32')\n",
    "\n",
    "# isinstance(df_listings['host_response_rate'][0], float32)"
   ],
   "metadata": {
    "id": "Fg2zScpTVDiC",
    "ExecuteTime": {
     "end_time": "2023-11-07T17:40:08.502104Z",
     "start_time": "2023-11-07T17:40:08.494247Z"
    }
   },
   "id": "Fg2zScpTVDiC",
   "execution_count": 80,
   "outputs": []
  },
  {
   "cell_type": "markdown",
   "id": "df9cb628",
   "metadata": {
    "id": "df9cb628",
    "papermill": {
     "duration": 0.014137,
     "end_time": "2023-04-17T19:26:26.880108",
     "exception": false,
     "start_time": "2023-04-17T19:26:26.865971",
     "status": "completed"
    },
    "tags": []
   },
   "source": [
    "Выберем столбцы, которые непосредственно относятся к владельцу жилья:"
   ]
  },
  {
   "cell_type": "code",
   "execution_count": 82,
   "id": "a4909288",
   "metadata": {
    "execution": {
     "iopub.execute_input": "2023-04-17T19:26:26.910147Z",
     "iopub.status.busy": "2023-04-17T19:26:26.909392Z",
     "iopub.status.idle": "2023-04-17T19:26:26.921922Z",
     "shell.execute_reply": "2023-04-17T19:26:26.920607Z"
    },
    "id": "a4909288",
    "papermill": {
     "duration": 0.030328,
     "end_time": "2023-04-17T19:26:26.924799",
     "exception": false,
     "start_time": "2023-04-17T19:26:26.894471",
     "status": "completed"
    },
    "tags": [],
    "ExecuteTime": {
     "end_time": "2023-11-07T17:40:14.586858Z",
     "start_time": "2023-11-07T17:40:14.581460Z"
    }
   },
   "outputs": [
    {
     "ename": "KeyError",
     "evalue": "\"['host_about', 'summary', 'space', 'description', 'neighborhood_overview', 'notes'] not in index\"",
     "output_type": "error",
     "traceback": [
      "\u001B[0;31m---------------------------------------------------------------------------\u001B[0m",
      "\u001B[0;31mKeyError\u001B[0m                                  Traceback (most recent call last)",
      "Cell \u001B[0;32mIn[82], line 12\u001B[0m\n\u001B[1;32m      9\u001B[0m features_traveler \u001B[38;5;241m=\u001B[39m [\u001B[38;5;124m'\u001B[39m\u001B[38;5;124mnumber_of_reviews\u001B[39m\u001B[38;5;124m'\u001B[39m,\u001B[38;5;124m'\u001B[39m\u001B[38;5;124mlast_review_deltaDays\u001B[39m\u001B[38;5;124m'\u001B[39m,\u001B[38;5;124m'\u001B[39m\u001B[38;5;124mfirst_review_deltaDays\u001B[39m\u001B[38;5;124m'\u001B[39m,\u001B[38;5;124m'\u001B[39m\u001B[38;5;124mreview_scores_rating\u001B[39m\u001B[38;5;124m'\u001B[39m, \u001B[38;5;124m'\u001B[39m\u001B[38;5;124mreview_scores_accuracy\u001B[39m\u001B[38;5;124m'\u001B[39m,\u001B[38;5;124m'\u001B[39m\u001B[38;5;124mreview_scores_cleanliness\u001B[39m\u001B[38;5;124m'\u001B[39m,\u001B[38;5;124m'\u001B[39m\u001B[38;5;124mreview_scores_checkin\u001B[39m\u001B[38;5;124m'\u001B[39m,\u001B[38;5;124m'\u001B[39m\u001B[38;5;124mreview_scores_communication\u001B[39m\u001B[38;5;124m'\u001B[39m, \u001B[38;5;124m'\u001B[39m\u001B[38;5;124mreview_scores_location\u001B[39m\u001B[38;5;124m'\u001B[39m,\u001B[38;5;124m'\u001B[39m\u001B[38;5;124mreview_scores_value\u001B[39m\u001B[38;5;124m'\u001B[39m,\u001B[38;5;124m'\u001B[39m\u001B[38;5;124minstant_bookable\u001B[39m\u001B[38;5;124m'\u001B[39m,\u001B[38;5;124m'\u001B[39m\u001B[38;5;124mcancellation_policy\u001B[39m\u001B[38;5;124m'\u001B[39m, \u001B[38;5;124m'\u001B[39m\u001B[38;5;124mrequire_guest_profile_picture\u001B[39m\u001B[38;5;124m'\u001B[39m,\u001B[38;5;124m'\u001B[39m\u001B[38;5;124mrequire_guest_phone_verification\u001B[39m\u001B[38;5;124m'\u001B[39m,\u001B[38;5;124m'\u001B[39m\u001B[38;5;124mreviews_per_month\u001B[39m\u001B[38;5;124m'\u001B[39m]\n\u001B[1;32m     11\u001B[0m features \u001B[38;5;241m=\u001B[39m features_host \u001B[38;5;241m+\u001B[39m features_property \u001B[38;5;241m+\u001B[39m features_traveler\n\u001B[0;32m---> 12\u001B[0m df_listings_filtered \u001B[38;5;241m=\u001B[39m \u001B[43mdf_listings\u001B[49m\u001B[43m[\u001B[49m\u001B[43mfeatures\u001B[49m\u001B[43m]\u001B[49m\n",
      "File \u001B[0;32m/Library/Python/3.9/site-packages/pandas/core/frame.py:3899\u001B[0m, in \u001B[0;36mDataFrame.__getitem__\u001B[0;34m(self, key)\u001B[0m\n\u001B[1;32m   3897\u001B[0m     \u001B[38;5;28;01mif\u001B[39;00m is_iterator(key):\n\u001B[1;32m   3898\u001B[0m         key \u001B[38;5;241m=\u001B[39m \u001B[38;5;28mlist\u001B[39m(key)\n\u001B[0;32m-> 3899\u001B[0m     indexer \u001B[38;5;241m=\u001B[39m \u001B[38;5;28;43mself\u001B[39;49m\u001B[38;5;241;43m.\u001B[39;49m\u001B[43mcolumns\u001B[49m\u001B[38;5;241;43m.\u001B[39;49m\u001B[43m_get_indexer_strict\u001B[49m\u001B[43m(\u001B[49m\u001B[43mkey\u001B[49m\u001B[43m,\u001B[49m\u001B[43m \u001B[49m\u001B[38;5;124;43m\"\u001B[39;49m\u001B[38;5;124;43mcolumns\u001B[39;49m\u001B[38;5;124;43m\"\u001B[39;49m\u001B[43m)\u001B[49m[\u001B[38;5;241m1\u001B[39m]\n\u001B[1;32m   3901\u001B[0m \u001B[38;5;66;03m# take() does not accept boolean indexers\u001B[39;00m\n\u001B[1;32m   3902\u001B[0m \u001B[38;5;28;01mif\u001B[39;00m \u001B[38;5;28mgetattr\u001B[39m(indexer, \u001B[38;5;124m\"\u001B[39m\u001B[38;5;124mdtype\u001B[39m\u001B[38;5;124m\"\u001B[39m, \u001B[38;5;28;01mNone\u001B[39;00m) \u001B[38;5;241m==\u001B[39m \u001B[38;5;28mbool\u001B[39m:\n",
      "File \u001B[0;32m/Library/Python/3.9/site-packages/pandas/core/indexes/base.py:6114\u001B[0m, in \u001B[0;36mIndex._get_indexer_strict\u001B[0;34m(self, key, axis_name)\u001B[0m\n\u001B[1;32m   6111\u001B[0m \u001B[38;5;28;01melse\u001B[39;00m:\n\u001B[1;32m   6112\u001B[0m     keyarr, indexer, new_indexer \u001B[38;5;241m=\u001B[39m \u001B[38;5;28mself\u001B[39m\u001B[38;5;241m.\u001B[39m_reindex_non_unique(keyarr)\n\u001B[0;32m-> 6114\u001B[0m \u001B[38;5;28;43mself\u001B[39;49m\u001B[38;5;241;43m.\u001B[39;49m\u001B[43m_raise_if_missing\u001B[49m\u001B[43m(\u001B[49m\u001B[43mkeyarr\u001B[49m\u001B[43m,\u001B[49m\u001B[43m \u001B[49m\u001B[43mindexer\u001B[49m\u001B[43m,\u001B[49m\u001B[43m \u001B[49m\u001B[43maxis_name\u001B[49m\u001B[43m)\u001B[49m\n\u001B[1;32m   6116\u001B[0m keyarr \u001B[38;5;241m=\u001B[39m \u001B[38;5;28mself\u001B[39m\u001B[38;5;241m.\u001B[39mtake(indexer)\n\u001B[1;32m   6117\u001B[0m \u001B[38;5;28;01mif\u001B[39;00m \u001B[38;5;28misinstance\u001B[39m(key, Index):\n\u001B[1;32m   6118\u001B[0m     \u001B[38;5;66;03m# GH 42790 - Preserve name from an Index\u001B[39;00m\n",
      "File \u001B[0;32m/Library/Python/3.9/site-packages/pandas/core/indexes/base.py:6178\u001B[0m, in \u001B[0;36mIndex._raise_if_missing\u001B[0;34m(self, key, indexer, axis_name)\u001B[0m\n\u001B[1;32m   6175\u001B[0m     \u001B[38;5;28;01mraise\u001B[39;00m \u001B[38;5;167;01mKeyError\u001B[39;00m(\u001B[38;5;124mf\u001B[39m\u001B[38;5;124m\"\u001B[39m\u001B[38;5;124mNone of [\u001B[39m\u001B[38;5;132;01m{\u001B[39;00mkey\u001B[38;5;132;01m}\u001B[39;00m\u001B[38;5;124m] are in the [\u001B[39m\u001B[38;5;132;01m{\u001B[39;00maxis_name\u001B[38;5;132;01m}\u001B[39;00m\u001B[38;5;124m]\u001B[39m\u001B[38;5;124m\"\u001B[39m)\n\u001B[1;32m   6177\u001B[0m not_found \u001B[38;5;241m=\u001B[39m \u001B[38;5;28mlist\u001B[39m(ensure_index(key)[missing_mask\u001B[38;5;241m.\u001B[39mnonzero()[\u001B[38;5;241m0\u001B[39m]]\u001B[38;5;241m.\u001B[39munique())\n\u001B[0;32m-> 6178\u001B[0m \u001B[38;5;28;01mraise\u001B[39;00m \u001B[38;5;167;01mKeyError\u001B[39;00m(\u001B[38;5;124mf\u001B[39m\u001B[38;5;124m\"\u001B[39m\u001B[38;5;132;01m{\u001B[39;00mnot_found\u001B[38;5;132;01m}\u001B[39;00m\u001B[38;5;124m not in index\u001B[39m\u001B[38;5;124m\"\u001B[39m)\n",
      "\u001B[0;31mKeyError\u001B[0m: \"['host_about', 'summary', 'space', 'description', 'neighborhood_overview', 'notes'] not in index\""
     ]
    }
   ],
   "source": [
    "features_host = ['host_is_superhost','host_about','host_response_time','host_response_rate', 'host_listings_count','host_has_profile_pic','host_identity_verified','host_since_deltaDays', 'calculated_host_listings_count']\n",
    "\n",
    "features_property = ['summary','space','description','neighborhood_overview','notes','transit',\n",
    "                     'street','neighbourhood','zipcode','latitude','longitude','is_location_exact',\n",
    "                     'property_type','room_type','accommodates','bathrooms','bedrooms','beds','bed_type',\n",
    "                     'amenities','square_feet','price','weekly_price','security_deposit','cleaning_fee',\n",
    "                     'guests_included','extra_people','minimum_nights','maximum_nights']\n",
    "\n",
    "features_traveler = ['number_of_reviews','last_review_deltaDays','first_review_deltaDays','review_scores_rating', 'review_scores_accuracy','review_scores_cleanliness','review_scores_checkin','review_scores_communication', 'review_scores_location','review_scores_value','instant_bookable','cancellation_policy', 'require_guest_profile_picture','require_guest_phone_verification','reviews_per_month']\n",
    "\n",
    "features = features_host + features_property + features_traveler\n",
    "df_listings_filtered = df_listings[features]\n"
   ]
  },
  {
   "cell_type": "markdown",
   "source": [
    "Выберем в нем фичи, которые нам интересны:"
   ],
   "metadata": {
    "id": "2hYlPUz9zCPl"
   },
   "id": "2hYlPUz9zCPl"
  },
  {
   "cell_type": "code",
   "execution_count": 83,
   "id": "460aae7d",
   "metadata": {
    "execution": {
     "iopub.execute_input": "2023-04-17T19:26:26.954884Z",
     "iopub.status.busy": "2023-04-17T19:26:26.954053Z",
     "iopub.status.idle": "2023-04-17T19:26:27.016256Z",
     "shell.execute_reply": "2023-04-17T19:26:27.014959Z"
    },
    "id": "460aae7d",
    "papermill": {
     "duration": 0.080238,
     "end_time": "2023-04-17T19:26:27.019136",
     "exception": false,
     "start_time": "2023-04-17T19:26:26.938898",
     "status": "completed"
    },
    "tags": [],
    "ExecuteTime": {
     "end_time": "2023-11-07T17:40:26.754835Z",
     "start_time": "2023-11-07T17:40:26.746743Z"
    }
   },
   "outputs": [],
   "source": [
    "numeric_feature = ['host_listings_count','calculated_host_listings_count','latitude','longitude','accommodates','bathrooms',\\\n",
    "                   'bedrooms','beds','guests_included','minimum_nights','maximum_nights','number_of_reviews','review_scores_rating',\\\n",
    "                   'review_scores_accuracy','review_scores_cleanliness','review_scores_checkin','review_scores_communication',\\\n",
    "                   'review_scores_location','review_scores_value', 'review_scores_rating' ,'review_scores_accuracy',\\\n",
    "                   'review_scores_cleanliness','review_scores_checkin','review_scores_communication','review_scores_location',\\\n",
    "                   'review_scores_value' ,'reviews_per_month']\n",
    "\n",
    "\n",
    "\n",
    "bool_feature = ['host_is_superhost','host_has_profile_pic','host_identity_verified','is_location_exact','instant_bookable',\\\n",
    "                'require_guest_phone_verification','require_guest_profile_picture']\n"
   ]
  },
  {
   "cell_type": "markdown",
   "source": [
    "### **[Задание 6]**\n",
    "\n",
    "Преобразуйте выбранные столбцы с численными значениями к типу `float32`"
   ],
   "metadata": {
    "id": "HJUkM5pEeWdE"
   },
   "id": "HJUkM5pEeWdE"
  },
  {
   "cell_type": "code",
   "source": [
    "# Преобразуем численные фичи"
   ],
   "metadata": {
    "id": "bnrev0dTeW-G"
   },
   "id": "bnrev0dTeW-G",
   "execution_count": null,
   "outputs": []
  },
  {
   "cell_type": "markdown",
   "source": [
    "### **[Задание 7]**\n",
    "\n",
    "Преобразуйте булевы столбцы к численному типу, где `1` - `True`, а `0` - `False`\n"
   ],
   "metadata": {
    "id": "ZGJTQx4NeB3X"
   },
   "id": "ZGJTQx4NeB3X"
  },
  {
   "cell_type": "code",
   "source": [
    "# Преобразуем булевы фичи"
   ],
   "metadata": {
    "id": "cvbIdpbtZ2kj"
   },
   "id": "cvbIdpbtZ2kj",
   "execution_count": null,
   "outputs": []
  },
  {
   "cell_type": "markdown",
   "source": [
    "Теперь попробуем разобраться с категориальными столбцами. Наиболее распространенный подход для преобразования данных подобного типа - быстрое кодирование или one-hot encoding.\n",
    "\n",
    "Быстрое кодирование ([One-Hot Encoding](https://www.educative.io/blog/one-hot-encoding#what)) – процесс, с помощью которого категориальные переменные преобразуются в подходящую ​​для обработки форму."
   ],
   "metadata": {
    "id": "vf1Fyt3selZM"
   },
   "id": "vf1Fyt3selZM"
  },
  {
   "cell_type": "markdown",
   "source": [
    "### **[Задание 8]**\n",
    "\n",
    "Реализуйте One-Hot Encoding для `unique_amenities` и добавьте этот преобразованный срез к `df_listings_filtered_amenities`.\n",
    "\n",
    "\n"
   ],
   "metadata": {
    "id": "r_XUxJyX0j02"
   },
   "id": "r_XUxJyX0j02"
  },
  {
   "cell_type": "code",
   "execution_count": null,
   "id": "919e3fe5",
   "metadata": {
    "execution": {
     "iopub.execute_input": "2023-04-17T19:26:27.094385Z",
     "iopub.status.busy": "2023-04-17T19:26:27.093998Z",
     "iopub.status.idle": "2023-04-17T19:26:28.099372Z",
     "shell.execute_reply": "2023-04-17T19:26:28.098131Z"
    },
    "id": "919e3fe5",
    "papermill": {
     "duration": 1.023674,
     "end_time": "2023-04-17T19:26:28.102321",
     "exception": false,
     "start_time": "2023-04-17T19:26:27.078647",
     "status": "completed"
    },
    "tags": []
   },
   "outputs": [],
   "source": []
  },
  {
   "cell_type": "markdown",
   "source": [
    "Выберем фичи, которые относятся только к информации о хосте."
   ],
   "metadata": {
    "id": "B7GVLwIEW7y2"
   },
   "id": "B7GVLwIEW7y2"
  },
  {
   "cell_type": "code",
   "source": [
    "\n",
    "# features_host = ['host_is_superhost','host_about','host_response_time','host_response_rate', 'host_listings_count','host_has_profile_pic','host_identity_verified',\\\n",
    "features_host = ['host_is_superhost','host_response_time','host_response_rate', 'host_listings_count','host_has_profile_pic','host_identity_verified',\\\n",
    "                 'calculated_host_listings_count']\n",
    "\n",
    "df_listings_filtered = df_listings[features_host]"
   ],
   "metadata": {
    "id": "P0A9SFjkfwWd",
    "ExecuteTime": {
     "end_time": "2023-11-07T17:42:20.213116Z",
     "start_time": "2023-11-07T17:42:20.204613Z"
    }
   },
   "id": "P0A9SFjkfwWd",
   "execution_count": 87,
   "outputs": []
  },
  {
   "cell_type": "code",
   "source": [
    "df_listings_filtered.head()"
   ],
   "metadata": {
    "id": "cXQ08hXnf1FG",
    "colab": {
     "base_uri": "https://localhost:8080/",
     "height": 411
    },
    "outputId": "aa8d6989-57bf-482c-b3c6-b6224855fd69",
    "ExecuteTime": {
     "end_time": "2023-11-07T17:42:22.351824Z",
     "start_time": "2023-11-07T17:42:22.347279Z"
    }
   },
   "id": "cXQ08hXnf1FG",
   "execution_count": 88,
   "outputs": [
    {
     "data": {
      "text/plain": "  host_is_superhost  host_response_time  host_response_rate  \\\n0                 f                12.0                96.0   \n1                 t                 1.0                98.0   \n2                 f                12.0                67.0   \n3                 f                 NaN                 NaN   \n4                 f                 1.0               100.0   \n\n  host_listings_count host_has_profile_pic host_identity_verified  \\\n0                 3.0                    t                      t   \n1                 6.0                    t                      t   \n2                 2.0                    t                      t   \n3                 1.0                    t                      t   \n4                 2.0                    t                      t   \n\n  calculated_host_listings_count  \n0                              2  \n1                              6  \n2                              2  \n3                              1  \n4                              1  ",
      "text/html": "<div>\n<style scoped>\n    .dataframe tbody tr th:only-of-type {\n        vertical-align: middle;\n    }\n\n    .dataframe tbody tr th {\n        vertical-align: top;\n    }\n\n    .dataframe thead th {\n        text-align: right;\n    }\n</style>\n<table border=\"1\" class=\"dataframe\">\n  <thead>\n    <tr style=\"text-align: right;\">\n      <th></th>\n      <th>host_is_superhost</th>\n      <th>host_response_time</th>\n      <th>host_response_rate</th>\n      <th>host_listings_count</th>\n      <th>host_has_profile_pic</th>\n      <th>host_identity_verified</th>\n      <th>calculated_host_listings_count</th>\n    </tr>\n  </thead>\n  <tbody>\n    <tr>\n      <th>0</th>\n      <td>f</td>\n      <td>12.0</td>\n      <td>96.0</td>\n      <td>3.0</td>\n      <td>t</td>\n      <td>t</td>\n      <td>2</td>\n    </tr>\n    <tr>\n      <th>1</th>\n      <td>t</td>\n      <td>1.0</td>\n      <td>98.0</td>\n      <td>6.0</td>\n      <td>t</td>\n      <td>t</td>\n      <td>6</td>\n    </tr>\n    <tr>\n      <th>2</th>\n      <td>f</td>\n      <td>12.0</td>\n      <td>67.0</td>\n      <td>2.0</td>\n      <td>t</td>\n      <td>t</td>\n      <td>2</td>\n    </tr>\n    <tr>\n      <th>3</th>\n      <td>f</td>\n      <td>NaN</td>\n      <td>NaN</td>\n      <td>1.0</td>\n      <td>t</td>\n      <td>t</td>\n      <td>1</td>\n    </tr>\n    <tr>\n      <th>4</th>\n      <td>f</td>\n      <td>1.0</td>\n      <td>100.0</td>\n      <td>2.0</td>\n      <td>t</td>\n      <td>t</td>\n      <td>1</td>\n    </tr>\n  </tbody>\n</table>\n</div>"
     },
     "execution_count": 88,
     "metadata": {},
     "output_type": "execute_result"
    }
   ]
  },
  {
   "cell_type": "markdown",
   "id": "c050ccd7",
   "metadata": {
    "papermill": {
     "duration": 0.014294,
     "end_time": "2023-04-17T19:26:28.130888",
     "exception": false,
     "start_time": "2023-04-17T19:26:28.116594",
     "status": "completed"
    },
    "tags": [],
    "id": "c050ccd7"
   },
   "source": [
    "<a id=\"fill-na\"></a>\n",
    "## 3.2 Работа с пропущенными значениями\n"
   ]
  },
  {
   "cell_type": "markdown",
   "source": [
    "Теперь вычислим среднее количество нулевых значений в столбцах и отсортируем в порядке убывания для того, чтобы понять какая доля столбцов имеет нулевые значения."
   ],
   "metadata": {
    "id": "evT_fdlOnxfA"
   },
   "id": "evT_fdlOnxfA"
  },
  {
   "cell_type": "code",
   "execution_count": null,
   "id": "5c7803bc",
   "metadata": {
    "_kg_hide-input": true,
    "execution": {
     "iopub.execute_input": "2023-04-17T19:26:28.160455Z",
     "iopub.status.busy": "2023-04-17T19:26:28.160043Z",
     "iopub.status.idle": "2023-04-17T19:26:28.179489Z",
     "shell.execute_reply": "2023-04-17T19:26:28.177837Z"
    },
    "id": "5c7803bc",
    "papermill": {
     "duration": 0.038039,
     "end_time": "2023-04-17T19:26:28.182611",
     "exception": false,
     "start_time": "2023-04-17T19:26:28.144572",
     "status": "completed"
    },
    "tags": [],
    "colab": {
     "base_uri": "https://localhost:8080/"
    },
    "outputId": "79d681be-4026-46de-90c0-2440ff8b93d1"
   },
   "outputs": [
    {
     "output_type": "stream",
     "name": "stdout",
     "text": [
      "square_feet                    0.974594\n",
      "security_deposit               0.511262\n",
      "weekly_price                   0.473808\n",
      "notes                          0.420639\n",
      "neighborhood_overview          0.270299\n",
      "cleaning_fee                   0.269775\n",
      "transit                        0.244631\n",
      "host_about                     0.224987\n",
      "review_scores_accuracy         0.172342\n",
      "review_scores_checkin          0.172342\n",
      "review_scores_value            0.171818\n",
      "review_scores_location         0.171556\n",
      "review_scores_cleanliness      0.171032\n",
      "review_scores_communication    0.170508\n",
      "review_scores_rating           0.169460\n",
      "last_review_deltaDays          0.164222\n",
      "reviews_per_month              0.164222\n",
      "first_review_deltaDays         0.164222\n",
      "space                          0.149031\n",
      "host_response_time             0.136983\n",
      "host_response_rate             0.136983\n",
      "neighbourhood                  0.108958\n",
      "summary                        0.046359\n",
      "bathrooms                      0.004191\n",
      "zipcode                        0.001833\n",
      "bedrooms                       0.001572\n",
      "host_since_deltaDays           0.000524\n",
      "host_listings_count            0.000524\n",
      "beds                           0.000262\n",
      "property_type                  0.000262\n",
      "Hot Tub                        0.000000\n",
      "Indoor Fireplace               0.000000\n",
      "Gym                            0.000000\n",
      "First Aid Kit                  0.000000\n",
      "Heating                        0.000000\n",
      "Hangers                        0.000000\n",
      "Fire Extinguisher              0.000000\n",
      "Family/Kid Friendly            0.000000\n",
      "Essentials                     0.000000\n",
      "Hair Dryer                     0.000000\n",
      "Free Parking on Premises       0.000000\n",
      "Other pet(s)                   0.000000\n",
      "Internet                       0.000000\n",
      "Shampoo                        0.000000\n",
      "Wheelchair Accessible          0.000000\n",
      "Washer / Dryer                 0.000000\n",
      "Washer                         0.000000\n",
      "TV                             0.000000\n",
      "Suitable for Events            0.000000\n",
      "Smoking Allowed                0.000000\n",
      "dtype: float64\n"
     ]
    }
   ],
   "source": [
    "print(df_listings_filtered_amenities.isna().mean().sort_values(ascending=False).head(50))"
   ]
  },
  {
   "cell_type": "markdown",
   "id": "7259e523",
   "metadata": {
    "id": "7259e523",
    "papermill": {
     "duration": 0.013236,
     "end_time": "2023-04-17T19:26:28.209541",
     "exception": false,
     "start_time": "2023-04-17T19:26:28.196305",
     "status": "completed"
    },
    "tags": []
   },
   "source": [
    "Столбцы, связанные с отзывами, демонстрируют похожее соотношение пропущенных значений - около 17%. Это позволяет предположить, что эти пропущенные значения в основном относятся к объектам без отзывов. Однако важно решить, стоит ли включать эти свойства в наш анализ.\n",
    "\n",
    "У объектов без отзывов могут быть различные причины отсутствия оных. Это может быть связано с тем, что объекты недвижимости изначально непривлекательны, владелец размещает их для других целей или хост является новичком на платформе и находится на рынке недавно.\n",
    "\n",
    "Чтобы оценить влияние включения этих объектов, мы изучим распределения по годам, в течение которых объекты с нулевыми отзывами были представлены на Airbnb. Этот анализ показал, что 42% этих объектов были представлены на платформе менее года. Чтобы уменьшить неопределенность в модели, мы исключим эти \"выбросы\" из дальнейшего анализа."
   ]
  },
  {
   "cell_type": "code",
   "execution_count": null,
   "id": "4e259adb",
   "metadata": {
    "execution": {
     "iopub.execute_input": "2023-04-17T19:26:28.239052Z",
     "iopub.status.busy": "2023-04-17T19:26:28.238646Z",
     "iopub.status.idle": "2023-04-17T19:26:28.591799Z",
     "shell.execute_reply": "2023-04-17T19:26:28.590194Z"
    },
    "id": "4e259adb",
    "papermill": {
     "duration": 0.371956,
     "end_time": "2023-04-17T19:26:28.595148",
     "exception": false,
     "start_time": "2023-04-17T19:26:28.223192",
     "status": "completed"
    },
    "tags": [],
    "colab": {
     "base_uri": "https://localhost:8080/",
     "height": 487
    },
    "outputId": "42d4afdc-2143-4db7-be86-ba910346aa03"
   },
   "outputs": [
    {
     "output_type": "display_data",
     "data": {
      "text/plain": [
       "<Figure size 500x500 with 1 Axes>"
      ],
      "image/png": "[encoded data removed]"
     },
     "metadata": {}
    }
   ],
   "source": [
    "f, axs = plt.subplots(1,1,figsize=(5,5))\n",
    "(df_listings_filtered_amenities.query(\"number_of_reviews==0\").host_since_deltaDays/365).plot(kind=\"hist\")\n",
    "ax = plt.gca()\n",
    "ax.set_title(\"The Distribution of Years on Airbnb for Properties with No Reviews \")\n",
    "ax.set_xlabel(\"year\");\n",
    "ax.set_ylabel(\"count\");\n",
    "f.show()"
   ]
  },
  {
   "cell_type": "markdown",
   "source": [
    "### **[Задание 9]**\n",
    "\n",
    "Удалите строки датасета, для которых количество отзывов равно нулю"
   ],
   "metadata": {
    "id": "m9MCTfHYrGjj"
   },
   "id": "m9MCTfHYrGjj"
  },
  {
   "cell_type": "code",
   "execution_count": null,
   "id": "18840862",
   "metadata": {
    "execution": {
     "iopub.execute_input": "2023-04-17T19:26:28.627054Z",
     "iopub.status.busy": "2023-04-17T19:26:28.625843Z",
     "iopub.status.idle": "2023-04-17T19:26:28.652223Z",
     "shell.execute_reply": "2023-04-17T19:26:28.650772Z"
    },
    "id": "18840862",
    "papermill": {
     "duration": 0.045525,
     "end_time": "2023-04-17T19:26:28.655022",
     "exception": false,
     "start_time": "2023-04-17T19:26:28.609497",
     "status": "completed"
    },
    "tags": []
   },
   "outputs": [],
   "source": []
  },
  {
   "cell_type": "markdown",
   "id": "9550677e",
   "metadata": {
    "papermill": {
     "duration": 0.013961,
     "end_time": "2023-04-17T19:26:28.683382",
     "exception": false,
     "start_time": "2023-04-17T19:26:28.669421",
     "status": "completed"
    },
    "tags": [],
    "id": "9550677e"
   },
   "source": [
    "Чтобы обработать недостающие данные в нашем датасете, можно использовать несколько различных стратегий, в зависимости от типа данных каждого из них. Для **числовых характеристик**, таких как цены или рейтинги, можно заменить пропущенные значения медианой. Этот подход позволяет избежать искажения распределения переменной и влияния выбросов.\n",
    "\n",
    "С другой стороны, для **категориальных признаков**, таких как тип свойства или район, можно заменить пропущенные значения наиболее часто встречающимся. Этот метод сохраняет распределение переменной и хорошо работает с номинальными или порядковыми данными."
   ]
  },
  {
   "cell_type": "code",
   "source": [
    "df_listings_filtered_amenities_cleaned = df_listings_filtered_amenities.copy()\n",
    "\n",
    "df_listings_filtered_amenities_cleaned.zipcode = df_listings_filtered_amenities_cleaned.zipcode.fillna(\n",
    "                                                df_listings_filtered_amenities_cleaned.zipcode.mode()[0])\n",
    "feature_fillna_median = ['host_response_time','host_response_rate','security_deposit','cleaning_fee','weekly_price','bedrooms',\n",
    "                         'bathrooms','review_scores_rating','review_scores_communication','review_scores_cleanliness','review_scores_location',\n",
    "                         'review_scores_value','review_scores_accuracy','review_scores_checkin']"
   ],
   "metadata": {
    "id": "-diyGtJFsNn6"
   },
   "id": "-diyGtJFsNn6",
   "execution_count": null,
   "outputs": []
  },
  {
   "cell_type": "markdown",
   "source": [
    "### **[Задание 10]**\n",
    "\n",
    "Заполните датасет средними значениями метода `median`."
   ],
   "metadata": {
    "id": "joHq9J3pr9KH"
   },
   "id": "joHq9J3pr9KH"
  },
  {
   "cell_type": "code",
   "execution_count": null,
   "id": "bb2ad378",
   "metadata": {
    "execution": {
     "iopub.execute_input": "2023-04-17T19:26:28.714522Z",
     "iopub.status.busy": "2023-04-17T19:26:28.714087Z",
     "iopub.status.idle": "2023-04-17T19:26:28.756215Z",
     "shell.execute_reply": "2023-04-17T19:26:28.755167Z"
    },
    "id": "bb2ad378",
    "papermill": {
     "duration": 0.060849,
     "end_time": "2023-04-17T19:26:28.758917",
     "exception": false,
     "start_time": "2023-04-17T19:26:28.698068",
     "status": "completed"
    },
    "tags": []
   },
   "outputs": [],
   "source": []
  },
  {
   "cell_type": "markdown",
   "source": [
    "### **[Задание 11]**\n",
    "\n",
    "Заполните столбцы `feature_fillna_empty =  ['summary','neighbourhood','space','host_about','transit','neighborhood_overview','notes']` пустыми строками."
   ],
   "metadata": {
    "id": "WublGPKHsQi4"
   },
   "id": "WublGPKHsQi4"
  },
  {
   "cell_type": "code",
   "source": [
    "feature_fillna_empty =  ['summary','neighbourhood','space','host_about','transit','neighborhood_overview','notes']"
   ],
   "metadata": {
    "id": "o79fTUrwdxTj"
   },
   "id": "o79fTUrwdxTj",
   "execution_count": null,
   "outputs": []
  },
  {
   "cell_type": "code",
   "source": [],
   "metadata": {
    "id": "scMIzfKyqlsq"
   },
   "id": "scMIzfKyqlsq",
   "execution_count": null,
   "outputs": []
  },
  {
   "cell_type": "markdown",
   "source": [
    "Закодируем численные характеристики с помощью One-hot encoding."
   ],
   "metadata": {
    "id": "SB7xZGMUaG5T"
   },
   "id": "SB7xZGMUaG5T"
  },
  {
   "cell_type": "code",
   "source": [
    "df_num = df_listings_filtered_amenities_cleaned.select_dtypes(exclude='object')\n",
    "\n",
    "df_cat = pd.get_dummies(df_listings_filtered_amenities_cleaned.select_dtypes(include='object')[['property_type','room_type', 'bed_type']])"
   ],
   "metadata": {
    "id": "xEv2Y9HVscdW"
   },
   "id": "xEv2Y9HVscdW",
   "execution_count": null,
   "outputs": []
  },
  {
   "cell_type": "markdown",
   "source": [
    "Для того, чтобы избавиться от незначащих данных мы избавимся от фичей, которые встречаются в менее чем 5% от элементов выборки."
   ],
   "metadata": {
    "id": "aM4DWW6SaQsk"
   },
   "id": "aM4DWW6SaQsk"
  },
  {
   "cell_type": "code",
   "source": [
    "catFeatureToDrop = df_cat.columns.where(df_cat.mean()<0.05).dropna()\n",
    "df_cat.drop(catFeatureToDrop,axis=1,inplace=True)\n",
    "df_cat = df_cat.astype(\"bool\")\n",
    "df_total = pd.concat([df_num,df_cat],axis=1)"
   ],
   "metadata": {
    "id": "ZGlv2v5Uaaiy"
   },
   "id": "ZGlv2v5Uaaiy",
   "execution_count": null,
   "outputs": []
  },
  {
   "cell_type": "markdown",
   "id": "96a4b75a",
   "metadata": {
    "papermill": {
     "duration": 0.013959,
     "end_time": "2023-04-17T19:26:28.847531",
     "exception": false,
     "start_time": "2023-04-17T19:26:28.833572",
     "status": "completed"
    },
    "tags": [],
    "id": "96a4b75a"
   },
   "source": [
    "<a id=\"q1-test\"></a>\n",
    "#4 Two Sample Independent T-Test"
   ]
  },
  {
   "cell_type": "markdown",
   "source": [
    "Пока мы не использовали напрямую модели машинного обучения, мы попробуем происследовать зависимости в данных с помощью [The Two-Sample t-Test](https://www.jmp.com/en_ch/statistics-knowledge-portal/t-test/two-sample-t-test.html).\n",
    "\n",
    "The Two-Sample t-Test - это статистический тест, который позволяет сравнить средние значения двух независимых выборок и определить, статистически значимо ли это различие.  Он основывается на t-статистике и используется в случаях, когда мы хотим сравнить средние значения двух групп или двух наблюдаемых условий. Например, тест можно использовать для сравнения среднего балла экзамена у двух различных групп студентов или для определения, есть ли значимое различие в среднем уровне зарплаты мужчин и женщин.\n",
    "\n",
    "Мы заблаговременно реализовали его для вас, чтобы уже на этом занятии получить интересные результаты."
   ],
   "metadata": {
    "id": "cnUfjmSJtCaG"
   },
   "id": "cnUfjmSJtCaG"
  },
  {
   "cell_type": "code",
   "execution_count": null,
   "id": "7d412199",
   "metadata": {
    "execution": {
     "iopub.execute_input": "2023-04-17T19:26:28.879014Z",
     "iopub.status.busy": "2023-04-17T19:26:28.878092Z",
     "iopub.status.idle": "2023-04-17T19:26:28.885452Z",
     "shell.execute_reply": "2023-04-17T19:26:28.884088Z"
    },
    "id": "7d412199",
    "papermill": {
     "duration": 0.025963,
     "end_time": "2023-04-17T19:26:28.888296",
     "exception": false,
     "start_time": "2023-04-17T19:26:28.862333",
     "status": "completed"
    },
    "tags": []
   },
   "outputs": [],
   "source": [
    "def ttest(df,group_feature, test_feature):\n",
    "    flag0 = df[group_feature]==False\n",
    "    flag1 = ~flag0\n",
    "    vector_0 = df.loc[flag0,test_feature]\n",
    "    vector_1 = df.loc[flag1,test_feature]\n",
    "    statistic, pvalue = stats.ttest_ind(vector_1, vector_0)\n",
    "    return [statistic,pvalue,test_feature]"
   ]
  },
  {
   "cell_type": "code",
   "execution_count": null,
   "id": "ecde4726",
   "metadata": {
    "execution": {
     "iopub.execute_input": "2023-04-17T19:26:28.919584Z",
     "iopub.status.busy": "2023-04-17T19:26:28.919145Z",
     "iopub.status.idle": "2023-04-17T19:26:29.119258Z",
     "shell.execute_reply": "2023-04-17T19:26:29.117829Z"
    },
    "id": "ecde4726",
    "papermill": {
     "duration": 0.219856,
     "end_time": "2023-04-17T19:26:29.122536",
     "exception": false,
     "start_time": "2023-04-17T19:26:28.902680",
     "status": "completed"
    },
    "tags": [],
    "colab": {
     "base_uri": "https://localhost:8080/",
     "height": 1000
    },
    "outputId": "b5aadaaf-3fb6-44f0-c2fa-d51ff28d64ab"
   },
   "outputs": [
    {
     "output_type": "execute_result",
     "data": {
      "text/plain": [
       "<pandas.io.formats.style.Styler at 0x798ad29b6fe0>"
      ],
      "text/html": [
       "<style type=\"text/css\">\n",
       "#T_6b161_row0_col0 {\n",
       "  width: 10em;\n",
       "  background: linear-gradient(90deg, transparent 50.0%, #5fba7d 50.0%, #5fba7d 100.0%, transparent 100.0%);\n",
       "}\n",
       "#T_6b161_row1_col0 {\n",
       "  width: 10em;\n",
       "  background: linear-gradient(90deg, transparent 50.0%, #5fba7d 50.0%, #5fba7d 93.8%, transparent 93.8%);\n",
       "}\n",
       "#T_6b161_row2_col0 {\n",
       "  width: 10em;\n",
       "  background: linear-gradient(90deg, transparent 50.0%, #5fba7d 50.0%, #5fba7d 92.4%, transparent 92.4%);\n",
       "}\n",
       "#T_6b161_row3_col0 {\n",
       "  width: 10em;\n",
       "  background: linear-gradient(90deg, transparent 50.0%, #5fba7d 50.0%, #5fba7d 91.4%, transparent 91.4%);\n",
       "}\n",
       "#T_6b161_row4_col0 {\n",
       "  width: 10em;\n",
       "  background: linear-gradient(90deg, transparent 50.0%, #5fba7d 50.0%, #5fba7d 89.4%, transparent 89.4%);\n",
       "}\n",
       "#T_6b161_row5_col0 {\n",
       "  width: 10em;\n",
       "  background: linear-gradient(90deg, transparent 50.0%, #5fba7d 50.0%, #5fba7d 88.5%, transparent 88.5%);\n",
       "}\n",
       "#T_6b161_row6_col0 {\n",
       "  width: 10em;\n",
       "  background: linear-gradient(90deg, transparent 50.0%, #5fba7d 50.0%, #5fba7d 79.5%, transparent 79.5%);\n",
       "}\n",
       "#T_6b161_row7_col0 {\n",
       "  width: 10em;\n",
       "  background: linear-gradient(90deg, transparent 50.0%, #5fba7d 50.0%, #5fba7d 78.8%, transparent 78.8%);\n",
       "}\n",
       "#T_6b161_row8_col0 {\n",
       "  width: 10em;\n",
       "  background: linear-gradient(90deg, transparent 50.0%, #5fba7d 50.0%, #5fba7d 75.5%, transparent 75.5%);\n",
       "}\n",
       "#T_6b161_row9_col0 {\n",
       "  width: 10em;\n",
       "  background: linear-gradient(90deg, transparent 50.0%, #5fba7d 50.0%, #5fba7d 74.2%, transparent 74.2%);\n",
       "}\n",
       "#T_6b161_row10_col0 {\n",
       "  width: 10em;\n",
       "  background: linear-gradient(90deg, transparent 26.4%, #d65f5f 26.4%, #d65f5f 50.0%, transparent 50.0%);\n",
       "}\n",
       "#T_6b161_row11_col0 {\n",
       "  width: 10em;\n",
       "  background: linear-gradient(90deg, transparent 26.6%, #d65f5f 26.6%, #d65f5f 50.0%, transparent 50.0%);\n",
       "}\n",
       "#T_6b161_row12_col0 {\n",
       "  width: 10em;\n",
       "  background: linear-gradient(90deg, transparent 50.0%, #5fba7d 50.0%, #5fba7d 72.0%, transparent 72.0%);\n",
       "}\n",
       "#T_6b161_row13_col0 {\n",
       "  width: 10em;\n",
       "  background: linear-gradient(90deg, transparent 50.0%, #5fba7d 50.0%, #5fba7d 71.9%, transparent 71.9%);\n",
       "}\n",
       "#T_6b161_row14_col0 {\n",
       "  width: 10em;\n",
       "  background: linear-gradient(90deg, transparent 50.0%, #5fba7d 50.0%, #5fba7d 70.3%, transparent 70.3%);\n",
       "}\n",
       "#T_6b161_row15_col0 {\n",
       "  width: 10em;\n",
       "  background: linear-gradient(90deg, transparent 30.7%, #d65f5f 30.7%, #d65f5f 50.0%, transparent 50.0%);\n",
       "}\n",
       "#T_6b161_row16_col0 {\n",
       "  width: 10em;\n",
       "  background: linear-gradient(90deg, transparent 50.0%, #5fba7d 50.0%, #5fba7d 67.8%, transparent 67.8%);\n",
       "}\n",
       "#T_6b161_row17_col0 {\n",
       "  width: 10em;\n",
       "  background: linear-gradient(90deg, transparent 50.0%, #5fba7d 50.0%, #5fba7d 67.7%, transparent 67.7%);\n",
       "}\n",
       "#T_6b161_row18_col0 {\n",
       "  width: 10em;\n",
       "  background: linear-gradient(90deg, transparent 50.0%, #5fba7d 50.0%, #5fba7d 66.4%, transparent 66.4%);\n",
       "}\n",
       "#T_6b161_row19_col0 {\n",
       "  width: 10em;\n",
       "  background: linear-gradient(90deg, transparent 50.0%, #5fba7d 50.0%, #5fba7d 65.9%, transparent 65.9%);\n",
       "}\n",
       "#T_6b161_row20_col0 {\n",
       "  width: 10em;\n",
       "  background: linear-gradient(90deg, transparent 50.0%, #5fba7d 50.0%, #5fba7d 65.7%, transparent 65.7%);\n",
       "}\n",
       "#T_6b161_row21_col0 {\n",
       "  width: 10em;\n",
       "  background: linear-gradient(90deg, transparent 50.0%, #5fba7d 50.0%, #5fba7d 65.6%, transparent 65.6%);\n",
       "}\n",
       "#T_6b161_row22_col0 {\n",
       "  width: 10em;\n",
       "  background: linear-gradient(90deg, transparent 50.0%, #5fba7d 50.0%, #5fba7d 65.3%, transparent 65.3%);\n",
       "}\n",
       "#T_6b161_row23_col0 {\n",
       "  width: 10em;\n",
       "  background: linear-gradient(90deg, transparent 50.0%, #5fba7d 50.0%, #5fba7d 65.2%, transparent 65.2%);\n",
       "}\n",
       "#T_6b161_row24_col0 {\n",
       "  width: 10em;\n",
       "  background: linear-gradient(90deg, transparent 50.0%, #5fba7d 50.0%, #5fba7d 64.4%, transparent 64.4%);\n",
       "}\n",
       "#T_6b161_row25_col0 {\n",
       "  width: 10em;\n",
       "  background: linear-gradient(90deg, transparent 50.0%, #5fba7d 50.0%, #5fba7d 64.0%, transparent 64.0%);\n",
       "}\n",
       "#T_6b161_row26_col0 {\n",
       "  width: 10em;\n",
       "  background: linear-gradient(90deg, transparent 50.0%, #5fba7d 50.0%, #5fba7d 63.6%, transparent 63.6%);\n",
       "}\n",
       "#T_6b161_row27_col0 {\n",
       "  width: 10em;\n",
       "  background: linear-gradient(90deg, transparent 50.0%, #5fba7d 50.0%, #5fba7d 63.3%, transparent 63.3%);\n",
       "}\n",
       "#T_6b161_row28_col0 {\n",
       "  width: 10em;\n",
       "  background: linear-gradient(90deg, transparent 50.0%, #5fba7d 50.0%, #5fba7d 63.0%, transparent 63.0%);\n",
       "}\n",
       "#T_6b161_row29_col0 {\n",
       "  width: 10em;\n",
       "  background: linear-gradient(90deg, transparent 50.0%, #5fba7d 50.0%, #5fba7d 62.8%, transparent 62.8%);\n",
       "}\n",
       "#T_6b161_row30_col0 {\n",
       "  width: 10em;\n",
       "  background: linear-gradient(90deg, transparent 37.6%, #d65f5f 37.6%, #d65f5f 50.0%, transparent 50.0%);\n",
       "}\n",
       "#T_6b161_row31_col0 {\n",
       "  width: 10em;\n",
       "  background: linear-gradient(90deg, transparent 50.0%, #5fba7d 50.0%, #5fba7d 61.8%, transparent 61.8%);\n",
       "}\n",
       "#T_6b161_row32_col0 {\n",
       "  width: 10em;\n",
       "  background: linear-gradient(90deg, transparent 50.0%, #5fba7d 50.0%, #5fba7d 61.0%, transparent 61.0%);\n",
       "}\n",
       "#T_6b161_row33_col0 {\n",
       "  width: 10em;\n",
       "  background: linear-gradient(90deg, transparent 50.0%, #5fba7d 50.0%, #5fba7d 60.9%, transparent 60.9%);\n",
       "}\n",
       "#T_6b161_row34_col0 {\n",
       "  width: 10em;\n",
       "  background: linear-gradient(90deg, transparent 39.1%, #d65f5f 39.1%, #d65f5f 50.0%, transparent 50.0%);\n",
       "}\n",
       "#T_6b161_row35_col0 {\n",
       "  width: 10em;\n",
       "  background: linear-gradient(90deg, transparent 50.0%, #5fba7d 50.0%, #5fba7d 60.2%, transparent 60.2%);\n",
       "}\n",
       "#T_6b161_row36_col0 {\n",
       "  width: 10em;\n",
       "  background: linear-gradient(90deg, transparent 40.1%, #d65f5f 40.1%, #d65f5f 50.0%, transparent 50.0%);\n",
       "}\n",
       "#T_6b161_row37_col0 {\n",
       "  width: 10em;\n",
       "  background: linear-gradient(90deg, transparent 41.0%, #d65f5f 41.0%, #d65f5f 50.0%, transparent 50.0%);\n",
       "}\n",
       "#T_6b161_row38_col0 {\n",
       "  width: 10em;\n",
       "  background: linear-gradient(90deg, transparent 50.0%, #5fba7d 50.0%, #5fba7d 58.7%, transparent 58.7%);\n",
       "}\n",
       "#T_6b161_row39_col0 {\n",
       "  width: 10em;\n",
       "  background: linear-gradient(90deg, transparent 41.9%, #d65f5f 41.9%, #d65f5f 50.0%, transparent 50.0%);\n",
       "}\n",
       "#T_6b161_row40_col0, #T_6b161_row75_col0 {\n",
       "  width: 10em;\n",
       "  background: linear-gradient(90deg, transparent 50.0%, #5fba7d 50.0%, #5fba7d 57.9%, transparent 57.9%);\n",
       "}\n",
       "#T_6b161_row41_col0 {\n",
       "  width: 10em;\n",
       "  background: linear-gradient(90deg, transparent 42.1%, #d65f5f 42.1%, #d65f5f 50.0%, transparent 50.0%);\n",
       "}\n",
       "#T_6b161_row42_col0, #T_6b161_row50_col0 {\n",
       "  width: 10em;\n",
       "  background: linear-gradient(90deg, transparent 50.0%, #5fba7d 50.0%, #5fba7d 50.6%, transparent 50.6%);\n",
       "}\n",
       "#T_6b161_row43_col0 {\n",
       "  width: 10em;\n",
       "  background: linear-gradient(90deg, transparent 50.0%, #5fba7d 50.0%, #5fba7d 54.9%, transparent 54.9%);\n",
       "}\n",
       "#T_6b161_row44_col0 {\n",
       "  width: 10em;\n",
       "  background: linear-gradient(90deg, transparent 49.2%, #d65f5f 49.2%, #d65f5f 50.0%, transparent 50.0%);\n",
       "}\n",
       "#T_6b161_row45_col0 {\n",
       "  width: 10em;\n",
       "  background: linear-gradient(90deg, transparent 43.8%, #d65f5f 43.8%, #d65f5f 50.0%, transparent 50.0%);\n",
       "}\n",
       "#T_6b161_row46_col0 {\n",
       "  width: 10em;\n",
       "  background: linear-gradient(90deg, transparent 45.2%, #d65f5f 45.2%, #d65f5f 50.0%, transparent 50.0%);\n",
       "}\n",
       "#T_6b161_row47_col0 {\n",
       "  width: 10em;\n",
       "  background: linear-gradient(90deg, transparent 46.8%, #d65f5f 46.8%, #d65f5f 50.0%, transparent 50.0%);\n",
       "}\n",
       "#T_6b161_row48_col0, #T_6b161_row62_col0 {\n",
       "  width: 10em;\n",
       "  background: linear-gradient(90deg, transparent 42.5%, #d65f5f 42.5%, #d65f5f 50.0%, transparent 50.0%);\n",
       "}\n",
       "#T_6b161_row49_col0 {\n",
       "  width: 10em;\n",
       "  background: linear-gradient(90deg, transparent 42.8%, #d65f5f 42.8%, #d65f5f 50.0%, transparent 50.0%);\n",
       "}\n",
       "#T_6b161_row51_col0 {\n",
       "  width: 10em;\n",
       "  background: linear-gradient(90deg, transparent 50.0%, #5fba7d 50.0%, #5fba7d 56.0%, transparent 56.0%);\n",
       "}\n",
       "#T_6b161_row52_col0 {\n",
       "  width: 10em;\n",
       "  background: linear-gradient(90deg, transparent 50.0%, #5fba7d 50.0%, #5fba7d 50.5%, transparent 50.5%);\n",
       "}\n",
       "#T_6b161_row53_col0, #T_6b161_row78_col0 {\n",
       "  width: 10em;\n",
       "  background: linear-gradient(90deg, transparent 42.7%, #d65f5f 42.7%, #d65f5f 50.0%, transparent 50.0%);\n",
       "}\n",
       "#T_6b161_row54_col0 {\n",
       "  width: 10em;\n",
       "  background: linear-gradient(90deg, transparent 50.0%, #5fba7d 50.0%, #5fba7d 55.9%, transparent 55.9%);\n",
       "}\n",
       "#T_6b161_row55_col0 {\n",
       "  width: 10em;\n",
       "  background: linear-gradient(90deg, transparent 50.0%, #5fba7d 50.0%, #5fba7d 53.3%, transparent 53.3%);\n",
       "}\n",
       "#T_6b161_row56_col0 {\n",
       "  width: 10em;\n",
       "  background: linear-gradient(90deg, transparent 48.8%, #d65f5f 48.8%, #d65f5f 50.0%, transparent 50.0%);\n",
       "}\n",
       "#T_6b161_row57_col0 {\n",
       "  width: 10em;\n",
       "  background: linear-gradient(90deg, transparent 44.2%, #d65f5f 44.2%, #d65f5f 50.0%, transparent 50.0%);\n",
       "}\n",
       "#T_6b161_row58_col0 {\n",
       "  width: 10em;\n",
       "  background: linear-gradient(90deg, transparent 50.0%, #5fba7d 50.0%, #5fba7d 53.5%, transparent 53.5%);\n",
       "}\n",
       "#T_6b161_row59_col0 {\n",
       "  width: 10em;\n",
       "  background: linear-gradient(90deg, transparent 50.0%, #5fba7d 50.0%, #5fba7d 54.1%, transparent 54.1%);\n",
       "}\n",
       "#T_6b161_row60_col0 {\n",
       "  width: 10em;\n",
       "  background: linear-gradient(90deg, transparent 47.8%, #d65f5f 47.8%, #d65f5f 50.0%, transparent 50.0%);\n",
       "}\n",
       "#T_6b161_row61_col0 {\n",
       "  width: 10em;\n",
       "  background: linear-gradient(90deg, transparent 44.1%, #d65f5f 44.1%, #d65f5f 50.0%, transparent 50.0%);\n",
       "}\n",
       "#T_6b161_row63_col0 {\n",
       "  width: 10em;\n",
       "  background: linear-gradient(90deg, transparent 47.5%, #d65f5f 47.5%, #d65f5f 50.0%, transparent 50.0%);\n",
       "}\n",
       "#T_6b161_row64_col0 {\n",
       "  width: 10em;\n",
       "  background: linear-gradient(90deg, transparent 50.0%, #5fba7d 50.0%, #5fba7d 51.7%, transparent 51.7%);\n",
       "}\n",
       "#T_6b161_row65_col0, #T_6b161_row77_col0 {\n",
       "  width: 10em;\n",
       "  background: linear-gradient(90deg, transparent 48.3%, #d65f5f 48.3%, #d65f5f 50.0%, transparent 50.0%);\n",
       "}\n",
       "#T_6b161_row66_col0 {\n",
       "  width: 10em;\n",
       "  background: linear-gradient(90deg, transparent 50.0%, #5fba7d 50.0%, #5fba7d 56.9%, transparent 56.9%);\n",
       "}\n",
       "#T_6b161_row67_col0 {\n",
       "  width: 10em;\n",
       "  background: linear-gradient(90deg, transparent 42.4%, #d65f5f 42.4%, #d65f5f 50.0%, transparent 50.0%);\n",
       "}\n",
       "#T_6b161_row68_col0 {\n",
       "  width: 10em;\n",
       "  background: linear-gradient(90deg, transparent 45.1%, #d65f5f 45.1%, #d65f5f 50.0%, transparent 50.0%);\n",
       "}\n",
       "#T_6b161_row69_col0, #T_6b161_row73_col0 {\n",
       "  width: 10em;\n",
       "  background: linear-gradient(90deg, transparent 50.0%, #5fba7d 50.0%, #5fba7d 52.5%, transparent 52.5%);\n",
       "}\n",
       "#T_6b161_row70_col0 {\n",
       "  width: 10em;\n",
       "  background: linear-gradient(90deg, transparent 48.5%, #d65f5f 48.5%, #d65f5f 50.0%, transparent 50.0%);\n",
       "}\n",
       "#T_6b161_row71_col0 {\n",
       "  width: 10em;\n",
       "  background: linear-gradient(90deg, transparent 49.6%, #d65f5f 49.6%, #d65f5f 50.0%, transparent 50.0%);\n",
       "}\n",
       "#T_6b161_row72_col0 {\n",
       "  width: 10em;\n",
       "  background: linear-gradient(90deg, transparent 42.9%, #d65f5f 42.9%, #d65f5f 50.0%, transparent 50.0%);\n",
       "}\n",
       "#T_6b161_row74_col0 {\n",
       "  width: 10em;\n",
       "  background: linear-gradient(90deg, transparent 44.5%, #d65f5f 44.5%, #d65f5f 50.0%, transparent 50.0%);\n",
       "}\n",
       "#T_6b161_row76_col0 {\n",
       "  width: 10em;\n",
       "  background: linear-gradient(90deg, transparent 42.6%, #d65f5f 42.6%, #d65f5f 50.0%, transparent 50.0%);\n",
       "}\n",
       "#T_6b161_row79_col0 {\n",
       "  width: 10em;\n",
       "  background: linear-gradient(90deg, transparent 50.0%, #5fba7d 50.0%, #5fba7d 56.6%, transparent 56.6%);\n",
       "}\n",
       "#T_6b161_row80_col0 {\n",
       "  width: 10em;\n",
       "  background: linear-gradient(90deg, transparent 48.4%, #d65f5f 48.4%, #d65f5f 50.0%, transparent 50.0%);\n",
       "}\n",
       "#T_6b161_row81_col0 {\n",
       "  width: 10em;\n",
       "  background: linear-gradient(90deg, transparent 50.0%, #5fba7d 50.0%, #5fba7d 55.4%, transparent 55.4%);\n",
       "}\n",
       "#T_6b161_row82_col0 {\n",
       "  width: 10em;\n",
       "  background: linear-gradient(90deg, transparent 50.0%, #5fba7d 50.0%, #5fba7d 54.8%, transparent 54.8%);\n",
       "}\n",
       "</style>\n",
       "<table id=\"T_6b161\" class=\"dataframe\">\n",
       "  <thead>\n",
       "    <tr>\n",
       "      <th class=\"blank level0\" >&nbsp;</th>\n",
       "      <th id=\"T_6b161_level0_col0\" class=\"col_heading level0 col0\" >statistics</th>\n",
       "      <th id=\"T_6b161_level0_col1\" class=\"col_heading level0 col1\" >pvalue</th>\n",
       "      <th id=\"T_6b161_level0_col2\" class=\"col_heading level0 col2\" >feature</th>\n",
       "      <th id=\"T_6b161_level0_col3\" class=\"col_heading level0 col3\" >significant</th>\n",
       "      <th id=\"T_6b161_level0_col4\" class=\"col_heading level0 col4\" >adjust_pvalue</th>\n",
       "    </tr>\n",
       "  </thead>\n",
       "  <tbody>\n",
       "    <tr>\n",
       "      <th id=\"T_6b161_level0_row0\" class=\"row_heading level0 row0\" >36</th>\n",
       "      <td id=\"T_6b161_row0_col0\" class=\"data row0 col0\" >15.911607</td>\n",
       "      <td id=\"T_6b161_row0_col1\" class=\"data row0 col1\" >0.000000</td>\n",
       "      <td id=\"T_6b161_row0_col2\" class=\"data row0 col2\" >reviews_per_month</td>\n",
       "      <td id=\"T_6b161_row0_col3\" class=\"data row0 col3\" >True</td>\n",
       "      <td id=\"T_6b161_row0_col4\" class=\"data row0 col4\" >0.000000</td>\n",
       "    </tr>\n",
       "    <tr>\n",
       "      <th id=\"T_6b161_level0_row1\" class=\"row_heading level0 row1\" >25</th>\n",
       "      <td id=\"T_6b161_row1_col0\" class=\"data row1 col0\" >13.952008</td>\n",
       "      <td id=\"T_6b161_row1_col1\" class=\"data row1 col1\" >0.000000</td>\n",
       "      <td id=\"T_6b161_row1_col2\" class=\"data row1 col2\" >review_scores_rating</td>\n",
       "      <td id=\"T_6b161_row1_col3\" class=\"data row1 col3\" >True</td>\n",
       "      <td id=\"T_6b161_row1_col4\" class=\"data row1 col4\" >0.000000</td>\n",
       "    </tr>\n",
       "    <tr>\n",
       "      <th id=\"T_6b161_level0_row2\" class=\"row_heading level0 row2\" >22</th>\n",
       "      <td id=\"T_6b161_row2_col0\" class=\"data row2 col0\" >13.477553</td>\n",
       "      <td id=\"T_6b161_row2_col1\" class=\"data row2 col1\" >0.000000</td>\n",
       "      <td id=\"T_6b161_row2_col2\" class=\"data row2 col2\" >number_of_reviews</td>\n",
       "      <td id=\"T_6b161_row2_col3\" class=\"data row2 col3\" >True</td>\n",
       "      <td id=\"T_6b161_row2_col4\" class=\"data row2 col4\" >0.000000</td>\n",
       "    </tr>\n",
       "    <tr>\n",
       "      <th id=\"T_6b161_level0_row3\" class=\"row_heading level0 row3\" >27</th>\n",
       "      <td id=\"T_6b161_row3_col0\" class=\"data row3 col0\" >13.172330</td>\n",
       "      <td id=\"T_6b161_row3_col1\" class=\"data row3 col1\" >0.000000</td>\n",
       "      <td id=\"T_6b161_row3_col2\" class=\"data row3 col2\" >review_scores_cleanliness</td>\n",
       "      <td id=\"T_6b161_row3_col3\" class=\"data row3 col3\" >True</td>\n",
       "      <td id=\"T_6b161_row3_col4\" class=\"data row3 col4\" >0.000000</td>\n",
       "    </tr>\n",
       "    <tr>\n",
       "      <th id=\"T_6b161_level0_row4\" class=\"row_heading level0 row4\" >31</th>\n",
       "      <td id=\"T_6b161_row4_col0\" class=\"data row4 col0\" >12.538164</td>\n",
       "      <td id=\"T_6b161_row4_col1\" class=\"data row4 col1\" >0.000000</td>\n",
       "      <td id=\"T_6b161_row4_col2\" class=\"data row4 col2\" >review_scores_value</td>\n",
       "      <td id=\"T_6b161_row4_col3\" class=\"data row4 col3\" >True</td>\n",
       "      <td id=\"T_6b161_row4_col4\" class=\"data row4 col4\" >0.000000</td>\n",
       "    </tr>\n",
       "    <tr>\n",
       "      <th id=\"T_6b161_level0_row5\" class=\"row_heading level0 row5\" >26</th>\n",
       "      <td id=\"T_6b161_row5_col0\" class=\"data row5 col0\" >12.240080</td>\n",
       "      <td id=\"T_6b161_row5_col1\" class=\"data row5 col1\" >0.000000</td>\n",
       "      <td id=\"T_6b161_row5_col2\" class=\"data row5 col2\" >review_scores_accuracy</td>\n",
       "      <td id=\"T_6b161_row5_col3\" class=\"data row5 col3\" >True</td>\n",
       "      <td id=\"T_6b161_row5_col4\" class=\"data row5 col4\" >0.000000</td>\n",
       "    </tr>\n",
       "    <tr>\n",
       "      <th id=\"T_6b161_level0_row6\" class=\"row_heading level0 row6\" >28</th>\n",
       "      <td id=\"T_6b161_row6_col0\" class=\"data row6 col0\" >9.388841</td>\n",
       "      <td id=\"T_6b161_row6_col1\" class=\"data row6 col1\" >0.000000</td>\n",
       "      <td id=\"T_6b161_row6_col2\" class=\"data row6 col2\" >review_scores_checkin</td>\n",
       "      <td id=\"T_6b161_row6_col3\" class=\"data row6 col3\" >True</td>\n",
       "      <td id=\"T_6b161_row6_col4\" class=\"data row6 col4\" >0.000000</td>\n",
       "    </tr>\n",
       "    <tr>\n",
       "      <th id=\"T_6b161_level0_row7\" class=\"row_heading level0 row7\" >29</th>\n",
       "      <td id=\"T_6b161_row7_col0\" class=\"data row7 col0\" >9.174692</td>\n",
       "      <td id=\"T_6b161_row7_col1\" class=\"data row7 col1\" >0.000000</td>\n",
       "      <td id=\"T_6b161_row7_col2\" class=\"data row7 col2\" >review_scores_communication</td>\n",
       "      <td id=\"T_6b161_row7_col3\" class=\"data row7 col3\" >True</td>\n",
       "      <td id=\"T_6b161_row7_col4\" class=\"data row7 col4\" >0.000000</td>\n",
       "    </tr>\n",
       "    <tr>\n",
       "      <th id=\"T_6b161_level0_row8\" class=\"row_heading level0 row8\" >69</th>\n",
       "      <td id=\"T_6b161_row8_col0\" class=\"data row8 col0\" >8.128337</td>\n",
       "      <td id=\"T_6b161_row8_col1\" class=\"data row8 col1\" >0.000000</td>\n",
       "      <td id=\"T_6b161_row8_col2\" class=\"data row8 col2\" >Shampoo</td>\n",
       "      <td id=\"T_6b161_row8_col3\" class=\"data row8 col3\" >True</td>\n",
       "      <td id=\"T_6b161_row8_col4\" class=\"data row8 col4\" >0.000000</td>\n",
       "    </tr>\n",
       "    <tr>\n",
       "      <th id=\"T_6b161_level0_row9\" class=\"row_heading level0 row9\" >1</th>\n",
       "      <td id=\"T_6b161_row9_col0\" class=\"data row9 col0\" >7.705804</td>\n",
       "      <td id=\"T_6b161_row9_col1\" class=\"data row9 col1\" >0.000000</td>\n",
       "      <td id=\"T_6b161_row9_col2\" class=\"data row9 col2\" >host_response_rate</td>\n",
       "      <td id=\"T_6b161_row9_col3\" class=\"data row9 col3\" >True</td>\n",
       "      <td id=\"T_6b161_row9_col4\" class=\"data row9 col4\" >0.000000</td>\n",
       "    </tr>\n",
       "    <tr>\n",
       "      <th id=\"T_6b161_level0_row10\" class=\"row_heading level0 row10\" >0</th>\n",
       "      <td id=\"T_6b161_row10_col0\" class=\"data row10 col0\" >-7.517356</td>\n",
       "      <td id=\"T_6b161_row10_col1\" class=\"data row10 col1\" >0.000000</td>\n",
       "      <td id=\"T_6b161_row10_col2\" class=\"data row10 col2\" >host_response_time</td>\n",
       "      <td id=\"T_6b161_row10_col3\" class=\"data row10 col3\" >True</td>\n",
       "      <td id=\"T_6b161_row10_col4\" class=\"data row10 col4\" >0.000000</td>\n",
       "    </tr>\n",
       "    <tr>\n",
       "      <th id=\"T_6b161_level0_row11\" class=\"row_heading level0 row11\" >23</th>\n",
       "      <td id=\"T_6b161_row11_col0\" class=\"data row11 col0\" >-7.434565</td>\n",
       "      <td id=\"T_6b161_row11_col1\" class=\"data row11 col1\" >0.000000</td>\n",
       "      <td id=\"T_6b161_row11_col2\" class=\"data row11 col2\" >last_review_deltaDays</td>\n",
       "      <td id=\"T_6b161_row11_col3\" class=\"data row11 col3\" >True</td>\n",
       "      <td id=\"T_6b161_row11_col4\" class=\"data row11 col4\" >0.000000</td>\n",
       "    </tr>\n",
       "    <tr>\n",
       "      <th id=\"T_6b161_level0_row12\" class=\"row_heading level0 row12\" >4</th>\n",
       "      <td id=\"T_6b161_row12_col0\" class=\"data row12 col0\" >7.014558</td>\n",
       "      <td id=\"T_6b161_row12_col1\" class=\"data row12 col1\" >0.000000</td>\n",
       "      <td id=\"T_6b161_row12_col2\" class=\"data row12 col2\" >host_identity_verified</td>\n",
       "      <td id=\"T_6b161_row12_col3\" class=\"data row12 col3\" >True</td>\n",
       "      <td id=\"T_6b161_row12_col4\" class=\"data row12 col4\" >0.000000</td>\n",
       "    </tr>\n",
       "    <tr>\n",
       "      <th id=\"T_6b161_level0_row13\" class=\"row_heading level0 row13\" >30</th>\n",
       "      <td id=\"T_6b161_row13_col0\" class=\"data row13 col0\" >6.977909</td>\n",
       "      <td id=\"T_6b161_row13_col1\" class=\"data row13 col1\" >0.000000</td>\n",
       "      <td id=\"T_6b161_row13_col2\" class=\"data row13 col2\" >review_scores_location</td>\n",
       "      <td id=\"T_6b161_row13_col3\" class=\"data row13 col3\" >True</td>\n",
       "      <td id=\"T_6b161_row13_col4\" class=\"data row13 col4\" >0.000000</td>\n",
       "    </tr>\n",
       "    <tr>\n",
       "      <th id=\"T_6b161_level0_row14\" class=\"row_heading level0 row14\" >51</th>\n",
       "      <td id=\"T_6b161_row14_col0\" class=\"data row14 col0\" >6.464963</td>\n",
       "      <td id=\"T_6b161_row14_col1\" class=\"data row14 col1\" >0.000000</td>\n",
       "      <td id=\"T_6b161_row14_col2\" class=\"data row14 col2\" >First Aid Kit</td>\n",
       "      <td id=\"T_6b161_row14_col3\" class=\"data row14 col3\" >True</td>\n",
       "      <td id=\"T_6b161_row14_col4\" class=\"data row14 col4\" >0.000000</td>\n",
       "    </tr>\n",
       "    <tr>\n",
       "      <th id=\"T_6b161_level0_row15\" class=\"row_heading level0 row15\" >6</th>\n",
       "      <td id=\"T_6b161_row15_col0\" class=\"data row15 col0\" >-6.155986</td>\n",
       "      <td id=\"T_6b161_row15_col1\" class=\"data row15 col1\" >0.000000</td>\n",
       "      <td id=\"T_6b161_row15_col2\" class=\"data row15 col2\" >calculated_host_listings_count</td>\n",
       "      <td id=\"T_6b161_row15_col3\" class=\"data row15 col3\" >True</td>\n",
       "      <td id=\"T_6b161_row15_col4\" class=\"data row15 col4\" >0.000000</td>\n",
       "    </tr>\n",
       "    <tr>\n",
       "      <th id=\"T_6b161_level0_row16\" class=\"row_heading level0 row16\" >66</th>\n",
       "      <td id=\"T_6b161_row16_col0\" class=\"data row16 col0\" >5.675143</td>\n",
       "      <td id=\"T_6b161_row16_col1\" class=\"data row16 col1\" >0.000000</td>\n",
       "      <td id=\"T_6b161_row16_col2\" class=\"data row16 col2\" >Pets live on this property</td>\n",
       "      <td id=\"T_6b161_row16_col3\" class=\"data row16 col3\" >True</td>\n",
       "      <td id=\"T_6b161_row16_col4\" class=\"data row16 col4\" >0.000001</td>\n",
       "    </tr>\n",
       "    <tr>\n",
       "      <th id=\"T_6b161_level0_row17\" class=\"row_heading level0 row17\" >68</th>\n",
       "      <td id=\"T_6b161_row17_col0\" class=\"data row17 col0\" >5.617064</td>\n",
       "      <td id=\"T_6b161_row17_col1\" class=\"data row17 col1\" >0.000000</td>\n",
       "      <td id=\"T_6b161_row17_col2\" class=\"data row17 col2\" >Safety Card</td>\n",
       "      <td id=\"T_6b161_row17_col3\" class=\"data row17 col3\" >True</td>\n",
       "      <td id=\"T_6b161_row17_col4\" class=\"data row17 col4\" >0.000002</td>\n",
       "    </tr>\n",
       "    <tr>\n",
       "      <th id=\"T_6b161_level0_row18\" class=\"row_heading level0 row18\" >70</th>\n",
       "      <td id=\"T_6b161_row18_col0\" class=\"data row18 col0\" >5.218871</td>\n",
       "      <td id=\"T_6b161_row18_col1\" class=\"data row18 col1\" >0.000000</td>\n",
       "      <td id=\"T_6b161_row18_col2\" class=\"data row18 col2\" >Smoke Detector</td>\n",
       "      <td id=\"T_6b161_row18_col3\" class=\"data row18 col3\" >True</td>\n",
       "      <td id=\"T_6b161_row18_col4\" class=\"data row18 col4\" >0.000016</td>\n",
       "    </tr>\n",
       "    <tr>\n",
       "      <th id=\"T_6b161_level0_row19\" class=\"row_heading level0 row19\" >50</th>\n",
       "      <td id=\"T_6b161_row19_col0\" class=\"data row19 col0\" >5.052300</td>\n",
       "      <td id=\"T_6b161_row19_col1\" class=\"data row19 col1\" >0.000000</td>\n",
       "      <td id=\"T_6b161_row19_col2\" class=\"data row19 col2\" >Fire Extinguisher</td>\n",
       "      <td id=\"T_6b161_row19_col3\" class=\"data row19 col3\" >True</td>\n",
       "      <td id=\"T_6b161_row19_col4\" class=\"data row19 col4\" >0.000038</td>\n",
       "    </tr>\n",
       "    <tr>\n",
       "      <th id=\"T_6b161_level0_row20\" class=\"row_heading level0 row20\" >35</th>\n",
       "      <td id=\"T_6b161_row20_col0\" class=\"data row20 col0\" >4.984268</td>\n",
       "      <td id=\"T_6b161_row20_col1\" class=\"data row20 col1\" >0.000001</td>\n",
       "      <td id=\"T_6b161_row20_col2\" class=\"data row20 col2\" >require_guest_phone_verification</td>\n",
       "      <td id=\"T_6b161_row20_col3\" class=\"data row20 col3\" >True</td>\n",
       "      <td id=\"T_6b161_row20_col4\" class=\"data row20 col4\" >0.000054</td>\n",
       "    </tr>\n",
       "    <tr>\n",
       "      <th id=\"T_6b161_level0_row21\" class=\"row_heading level0 row21\" >48</th>\n",
       "      <td id=\"T_6b161_row21_col0\" class=\"data row21 col0\" >4.969560</td>\n",
       "      <td id=\"T_6b161_row21_col1\" class=\"data row21 col1\" >0.000001</td>\n",
       "      <td id=\"T_6b161_row21_col2\" class=\"data row21 col2\" >Essentials</td>\n",
       "      <td id=\"T_6b161_row21_col3\" class=\"data row21 col3\" >True</td>\n",
       "      <td id=\"T_6b161_row21_col4\" class=\"data row21 col4\" >0.000059</td>\n",
       "    </tr>\n",
       "    <tr>\n",
       "      <th id=\"T_6b161_level0_row22\" class=\"row_heading level0 row22\" >44</th>\n",
       "      <td id=\"T_6b161_row22_col0\" class=\"data row22 col0\" >4.868591</td>\n",
       "      <td id=\"T_6b161_row22_col1\" class=\"data row22 col1\" >0.000001</td>\n",
       "      <td id=\"T_6b161_row22_col2\" class=\"data row22 col2\" >Dog(s)</td>\n",
       "      <td id=\"T_6b161_row22_col3\" class=\"data row22 col3\" >True</td>\n",
       "      <td id=\"T_6b161_row22_col4\" class=\"data row22 col4\" >0.000098</td>\n",
       "    </tr>\n",
       "    <tr>\n",
       "      <th id=\"T_6b161_level0_row23\" class=\"row_heading level0 row23\" >34</th>\n",
       "      <td id=\"T_6b161_row23_col0\" class=\"data row23 col0\" >4.852917</td>\n",
       "      <td id=\"T_6b161_row23_col1\" class=\"data row23 col1\" >0.000001</td>\n",
       "      <td id=\"T_6b161_row23_col2\" class=\"data row23 col2\" >require_guest_profile_picture</td>\n",
       "      <td id=\"T_6b161_row23_col3\" class=\"data row23 col3\" >True</td>\n",
       "      <td id=\"T_6b161_row23_col4\" class=\"data row23 col4\" >0.000106</td>\n",
       "    </tr>\n",
       "    <tr>\n",
       "      <th id=\"T_6b161_level0_row24\" class=\"row_heading level0 row24\" >42</th>\n",
       "      <td id=\"T_6b161_row24_col0\" class=\"data row24 col0\" >4.574579</td>\n",
       "      <td id=\"T_6b161_row24_col1\" class=\"data row24 col1\" >0.000005</td>\n",
       "      <td id=\"T_6b161_row24_col2\" class=\"data row24 col2\" >Carbon Monoxide Detector</td>\n",
       "      <td id=\"T_6b161_row24_col3\" class=\"data row24 col3\" >True</td>\n",
       "      <td id=\"T_6b161_row24_col4\" class=\"data row24 col4\" >0.000411</td>\n",
       "    </tr>\n",
       "    <tr>\n",
       "      <th id=\"T_6b161_level0_row25\" class=\"row_heading level0 row25\" >24</th>\n",
       "      <td id=\"T_6b161_row25_col0\" class=\"data row25 col0\" >4.464446</td>\n",
       "      <td id=\"T_6b161_row25_col1\" class=\"data row25 col1\" >0.000008</td>\n",
       "      <td id=\"T_6b161_row25_col2\" class=\"data row25 col2\" >first_review_deltaDays</td>\n",
       "      <td id=\"T_6b161_row25_col3\" class=\"data row25 col3\" >True</td>\n",
       "      <td id=\"T_6b161_row25_col4\" class=\"data row25 col4\" >0.000689</td>\n",
       "    </tr>\n",
       "    <tr>\n",
       "      <th id=\"T_6b161_level0_row26\" class=\"row_heading level0 row26\" >54</th>\n",
       "      <td id=\"T_6b161_row26_col0\" class=\"data row26 col0\" >4.335055</td>\n",
       "      <td id=\"T_6b161_row26_col1\" class=\"data row26 col1\" >0.000015</td>\n",
       "      <td id=\"T_6b161_row26_col2\" class=\"data row26 col2\" >Hair Dryer</td>\n",
       "      <td id=\"T_6b161_row26_col3\" class=\"data row26 col3\" >True</td>\n",
       "      <td id=\"T_6b161_row26_col4\" class=\"data row26 col4\" >0.001247</td>\n",
       "    </tr>\n",
       "    <tr>\n",
       "      <th id=\"T_6b161_level0_row27\" class=\"row_heading level0 row27\" >62</th>\n",
       "      <td id=\"T_6b161_row27_col0\" class=\"data row27 col0\" >4.247454</td>\n",
       "      <td id=\"T_6b161_row27_col1\" class=\"data row27 col1\" >0.000022</td>\n",
       "      <td id=\"T_6b161_row27_col2\" class=\"data row27 col2\" >Laptop Friendly Workspace</td>\n",
       "      <td id=\"T_6b161_row27_col3\" class=\"data row27 col3\" >True</td>\n",
       "      <td id=\"T_6b161_row27_col4\" class=\"data row27 col4\" >0.001846</td>\n",
       "    </tr>\n",
       "    <tr>\n",
       "      <th id=\"T_6b161_level0_row28\" class=\"row_heading level0 row28\" >37</th>\n",
       "      <td id=\"T_6b161_row28_col0\" class=\"data row28 col0\" >4.136969</td>\n",
       "      <td id=\"T_6b161_row28_col1\" class=\"data row28 col1\" >0.000036</td>\n",
       "      <td id=\"T_6b161_row28_col2\" class=\"data row28 col2\" >24-Hour Check-in</td>\n",
       "      <td id=\"T_6b161_row28_col3\" class=\"data row28 col3\" >True</td>\n",
       "      <td id=\"T_6b161_row28_col4\" class=\"data row28 col4\" >0.002996</td>\n",
       "    </tr>\n",
       "    <tr>\n",
       "      <th id=\"T_6b161_level0_row29\" class=\"row_heading level0 row29\" >32</th>\n",
       "      <td id=\"T_6b161_row29_col0\" class=\"data row29 col0\" >4.058851</td>\n",
       "      <td id=\"T_6b161_row29_col1\" class=\"data row29 col1\" >0.000050</td>\n",
       "      <td id=\"T_6b161_row29_col2\" class=\"data row29 col2\" >instant_bookable</td>\n",
       "      <td id=\"T_6b161_row29_col3\" class=\"data row29 col3\" >True</td>\n",
       "      <td id=\"T_6b161_row29_col4\" class=\"data row29 col4\" >0.004191</td>\n",
       "    </tr>\n",
       "    <tr>\n",
       "      <th id=\"T_6b161_level0_row30\" class=\"row_heading level0 row30\" >33</th>\n",
       "      <td id=\"T_6b161_row30_col0\" class=\"data row30 col0\" >-3.939325</td>\n",
       "      <td id=\"T_6b161_row30_col1\" class=\"data row30 col1\" >0.000083</td>\n",
       "      <td id=\"T_6b161_row30_col2\" class=\"data row30 col2\" >cancellation_policy</td>\n",
       "      <td id=\"T_6b161_row30_col3\" class=\"data row30 col3\" >True</td>\n",
       "      <td id=\"T_6b161_row30_col4\" class=\"data row30 col4\" >0.006927</td>\n",
       "    </tr>\n",
       "    <tr>\n",
       "      <th id=\"T_6b161_level0_row31\" class=\"row_heading level0 row31\" >77</th>\n",
       "      <td id=\"T_6b161_row31_col0\" class=\"data row31 col0\" >3.739282</td>\n",
       "      <td id=\"T_6b161_row31_col1\" class=\"data row31 col1\" >0.000188</td>\n",
       "      <td id=\"T_6b161_row31_col2\" class=\"data row31 col2\" >Wireless Internet</td>\n",
       "      <td id=\"T_6b161_row31_col3\" class=\"data row31 col3\" >True</td>\n",
       "      <td id=\"T_6b161_row31_col4\" class=\"data row31 col4\" >0.015587</td>\n",
       "    </tr>\n",
       "    <tr>\n",
       "      <th id=\"T_6b161_level0_row32\" class=\"row_heading level0 row32\" >60</th>\n",
       "      <td id=\"T_6b161_row32_col0\" class=\"data row32 col0\" >3.494232</td>\n",
       "      <td id=\"T_6b161_row32_col1\" class=\"data row32 col1\" >0.000482</td>\n",
       "      <td id=\"T_6b161_row32_col2\" class=\"data row32 col2\" >Iron</td>\n",
       "      <td id=\"T_6b161_row32_col3\" class=\"data row32 col3\" >True</td>\n",
       "      <td id=\"T_6b161_row32_col4\" class=\"data row32 col4\" >0.039998</td>\n",
       "    </tr>\n",
       "    <tr>\n",
       "      <th id=\"T_6b161_level0_row33\" class=\"row_heading level0 row33\" >45</th>\n",
       "      <td id=\"T_6b161_row33_col0\" class=\"data row33 col0\" >3.471867</td>\n",
       "      <td id=\"T_6b161_row33_col1\" class=\"data row33 col1\" >0.000524</td>\n",
       "      <td id=\"T_6b161_row33_col2\" class=\"data row33 col2\" >Doorman</td>\n",
       "      <td id=\"T_6b161_row33_col3\" class=\"data row33 col3\" >True</td>\n",
       "      <td id=\"T_6b161_row33_col4\" class=\"data row33 col4\" >0.043469</td>\n",
       "    </tr>\n",
       "    <tr>\n",
       "      <th id=\"T_6b161_level0_row34\" class=\"row_heading level0 row34\" >61</th>\n",
       "      <td id=\"T_6b161_row34_col0\" class=\"data row34 col0\" >-3.457611</td>\n",
       "      <td id=\"T_6b161_row34_col1\" class=\"data row34 col1\" >0.000552</td>\n",
       "      <td id=\"T_6b161_row34_col2\" class=\"data row34 col2\" >Kitchen</td>\n",
       "      <td id=\"T_6b161_row34_col3\" class=\"data row34 col3\" >True</td>\n",
       "      <td id=\"T_6b161_row34_col4\" class=\"data row34 col4\" >0.045826</td>\n",
       "    </tr>\n",
       "    <tr>\n",
       "      <th id=\"T_6b161_level0_row35\" class=\"row_heading level0 row35\" >43</th>\n",
       "      <td id=\"T_6b161_row35_col0\" class=\"data row35 col0\" >3.238768</td>\n",
       "      <td id=\"T_6b161_row35_col1\" class=\"data row35 col1\" >0.001213</td>\n",
       "      <td id=\"T_6b161_row35_col2\" class=\"data row35 col2\" >Cat(s)</td>\n",
       "      <td id=\"T_6b161_row35_col3\" class=\"data row35 col3\" >False</td>\n",
       "      <td id=\"T_6b161_row35_col4\" class=\"data row35 col4\" >0.100661</td>\n",
       "    </tr>\n",
       "    <tr>\n",
       "      <th id=\"T_6b161_level0_row36\" class=\"row_heading level0 row36\" >47</th>\n",
       "      <td id=\"T_6b161_row36_col0\" class=\"data row36 col0\" >-3.155129</td>\n",
       "      <td id=\"T_6b161_row36_col1\" class=\"data row36 col1\" >0.001619</td>\n",
       "      <td id=\"T_6b161_row36_col2\" class=\"data row36 col2\" >Elevator in Building</td>\n",
       "      <td id=\"T_6b161_row36_col3\" class=\"data row36 col3\" >False</td>\n",
       "      <td id=\"T_6b161_row36_col4\" class=\"data row36 col4\" >0.134395</td>\n",
       "    </tr>\n",
       "    <tr>\n",
       "      <th id=\"T_6b161_level0_row37\" class=\"row_heading level0 row37\" >2</th>\n",
       "      <td id=\"T_6b161_row37_col0\" class=\"data row37 col0\" >-2.851064</td>\n",
       "      <td id=\"T_6b161_row37_col1\" class=\"data row37 col1\" >0.004385</td>\n",
       "      <td id=\"T_6b161_row37_col2\" class=\"data row37 col2\" >host_listings_count</td>\n",
       "      <td id=\"T_6b161_row37_col3\" class=\"data row37 col3\" >False</td>\n",
       "      <td id=\"T_6b161_row37_col4\" class=\"data row37 col4\" >0.363982</td>\n",
       "    </tr>\n",
       "    <tr>\n",
       "      <th id=\"T_6b161_level0_row38\" class=\"row_heading level0 row38\" >55</th>\n",
       "      <td id=\"T_6b161_row38_col0\" class=\"data row38 col0\" >2.777872</td>\n",
       "      <td id=\"T_6b161_row38_col1\" class=\"data row38 col1\" >0.005504</td>\n",
       "      <td id=\"T_6b161_row38_col2\" class=\"data row38 col2\" >Hangers</td>\n",
       "      <td id=\"T_6b161_row38_col3\" class=\"data row38 col3\" >False</td>\n",
       "      <td id=\"T_6b161_row38_col4\" class=\"data row38 col4\" >0.456801</td>\n",
       "    </tr>\n",
       "    <tr>\n",
       "      <th id=\"T_6b161_level0_row39\" class=\"row_heading level0 row39\" >78</th>\n",
       "      <td id=\"T_6b161_row39_col0\" class=\"data row39 col0\" >-2.573802</td>\n",
       "      <td id=\"T_6b161_row39_col1\" class=\"data row39 col1\" >0.010104</td>\n",
       "      <td id=\"T_6b161_row39_col2\" class=\"data row39 col2\" >property_type_Apartment</td>\n",
       "      <td id=\"T_6b161_row39_col3\" class=\"data row39 col3\" >False</td>\n",
       "      <td id=\"T_6b161_row39_col4\" class=\"data row39 col4\" >0.838593</td>\n",
       "    </tr>\n",
       "    <tr>\n",
       "      <th id=\"T_6b161_level0_row40\" class=\"row_heading level0 row40\" >9</th>\n",
       "      <td id=\"T_6b161_row40_col0\" class=\"data row40 col0\" >2.518940</td>\n",
       "      <td id=\"T_6b161_row40_col1\" class=\"data row40 col1\" >0.011819</td>\n",
       "      <td id=\"T_6b161_row40_col2\" class=\"data row40 col2\" >is_location_exact</td>\n",
       "      <td id=\"T_6b161_row40_col3\" class=\"data row40 col3\" >False</td>\n",
       "      <td id=\"T_6b161_row40_col4\" class=\"data row40 col4\" >0.981009</td>\n",
       "    </tr>\n",
       "    <tr>\n",
       "      <th id=\"T_6b161_level0_row41\" class=\"row_heading level0 row41\" >65</th>\n",
       "      <td id=\"T_6b161_row41_col0\" class=\"data row41 col0\" >-2.512893</td>\n",
       "      <td id=\"T_6b161_row41_col1\" class=\"data row41 col1\" >0.012023</td>\n",
       "      <td id=\"T_6b161_row41_col2\" class=\"data row41 col2\" >Pets Allowed</td>\n",
       "      <td id=\"T_6b161_row41_col3\" class=\"data row41 col3\" >False</td>\n",
       "      <td id=\"T_6b161_row41_col4\" class=\"data row41 col4\" >0.997950</td>\n",
       "    </tr>\n",
       "    <tr>\n",
       "      <th id=\"T_6b161_level0_row42\" class=\"row_heading level0 row42\" >3</th>\n",
       "      <td id=\"T_6b161_row42_col0\" class=\"data row42 col0\" >0.186417</td>\n",
       "      <td id=\"T_6b161_row42_col1\" class=\"data row42 col1\" >0.852129</td>\n",
       "      <td id=\"T_6b161_row42_col2\" class=\"data row42 col2\" >host_has_profile_pic</td>\n",
       "      <td id=\"T_6b161_row42_col3\" class=\"data row42 col3\" >False</td>\n",
       "      <td id=\"T_6b161_row42_col4\" class=\"data row42 col4\" >1.000000</td>\n",
       "    </tr>\n",
       "    <tr>\n",
       "      <th id=\"T_6b161_level0_row43\" class=\"row_heading level0 row43\" >5</th>\n",
       "      <td id=\"T_6b161_row43_col0\" class=\"data row43 col0\" >1.564535</td>\n",
       "      <td id=\"T_6b161_row43_col1\" class=\"data row43 col1\" >0.117791</td>\n",
       "      <td id=\"T_6b161_row43_col2\" class=\"data row43 col2\" >host_since_deltaDays</td>\n",
       "      <td id=\"T_6b161_row43_col3\" class=\"data row43 col3\" >False</td>\n",
       "      <td id=\"T_6b161_row43_col4\" class=\"data row43 col4\" >1.000000</td>\n",
       "    </tr>\n",
       "    <tr>\n",
       "      <th id=\"T_6b161_level0_row44\" class=\"row_heading level0 row44\" >7</th>\n",
       "      <td id=\"T_6b161_row44_col0\" class=\"data row44 col0\" >-0.268204</td>\n",
       "      <td id=\"T_6b161_row44_col1\" class=\"data row44 col1\" >0.788560</td>\n",
       "      <td id=\"T_6b161_row44_col2\" class=\"data row44 col2\" >latitude</td>\n",
       "      <td id=\"T_6b161_row44_col3\" class=\"data row44 col3\" >False</td>\n",
       "      <td id=\"T_6b161_row44_col4\" class=\"data row44 col4\" >1.000000</td>\n",
       "    </tr>\n",
       "    <tr>\n",
       "      <th id=\"T_6b161_level0_row45\" class=\"row_heading level0 row45\" >8</th>\n",
       "      <td id=\"T_6b161_row45_col0\" class=\"data row45 col0\" >-1.983660</td>\n",
       "      <td id=\"T_6b161_row45_col1\" class=\"data row45 col1\" >0.047379</td>\n",
       "      <td id=\"T_6b161_row45_col2\" class=\"data row45 col2\" >longitude</td>\n",
       "      <td id=\"T_6b161_row45_col3\" class=\"data row45 col3\" >False</td>\n",
       "      <td id=\"T_6b161_row45_col4\" class=\"data row45 col4\" >1.000000</td>\n",
       "    </tr>\n",
       "    <tr>\n",
       "      <th id=\"T_6b161_level0_row46\" class=\"row_heading level0 row46\" >10</th>\n",
       "      <td id=\"T_6b161_row46_col0\" class=\"data row46 col0\" >-1.541648</td>\n",
       "      <td id=\"T_6b161_row46_col1\" class=\"data row46 col1\" >0.123258</td>\n",
       "      <td id=\"T_6b161_row46_col2\" class=\"data row46 col2\" >accommodates</td>\n",
       "      <td id=\"T_6b161_row46_col3\" class=\"data row46 col3\" >False</td>\n",
       "      <td id=\"T_6b161_row46_col4\" class=\"data row46 col4\" >1.000000</td>\n",
       "    </tr>\n",
       "    <tr>\n",
       "      <th id=\"T_6b161_level0_row47\" class=\"row_heading level0 row47\" >11</th>\n",
       "      <td id=\"T_6b161_row47_col0\" class=\"data row47 col0\" >-1.014650</td>\n",
       "      <td id=\"T_6b161_row47_col1\" class=\"data row47 col1\" >0.310349</td>\n",
       "      <td id=\"T_6b161_row47_col2\" class=\"data row47 col2\" >bathrooms</td>\n",
       "      <td id=\"T_6b161_row47_col3\" class=\"data row47 col3\" >False</td>\n",
       "      <td id=\"T_6b161_row47_col4\" class=\"data row47 col4\" >1.000000</td>\n",
       "    </tr>\n",
       "    <tr>\n",
       "      <th id=\"T_6b161_level0_row48\" class=\"row_heading level0 row48\" >12</th>\n",
       "      <td id=\"T_6b161_row48_col0\" class=\"data row48 col0\" >-2.381225</td>\n",
       "      <td id=\"T_6b161_row48_col1\" class=\"data row48 col1\" >0.017314</td>\n",
       "      <td id=\"T_6b161_row48_col2\" class=\"data row48 col2\" >bedrooms</td>\n",
       "      <td id=\"T_6b161_row48_col3\" class=\"data row48 col3\" >False</td>\n",
       "      <td id=\"T_6b161_row48_col4\" class=\"data row48 col4\" >1.000000</td>\n",
       "    </tr>\n",
       "    <tr>\n",
       "      <th id=\"T_6b161_level0_row49\" class=\"row_heading level0 row49\" >13</th>\n",
       "      <td id=\"T_6b161_row49_col0\" class=\"data row49 col0\" >-2.299847</td>\n",
       "      <td id=\"T_6b161_row49_col1\" class=\"data row49 col1\" >0.021521</td>\n",
       "      <td id=\"T_6b161_row49_col2\" class=\"data row49 col2\" >beds</td>\n",
       "      <td id=\"T_6b161_row49_col3\" class=\"data row49 col3\" >False</td>\n",
       "      <td id=\"T_6b161_row49_col4\" class=\"data row49 col4\" >1.000000</td>\n",
       "    </tr>\n",
       "    <tr>\n",
       "      <th id=\"T_6b161_level0_row50\" class=\"row_heading level0 row50\" >14</th>\n",
       "      <td id=\"T_6b161_row50_col0\" class=\"data row50 col0\" >0.183314</td>\n",
       "      <td id=\"T_6b161_row50_col1\" class=\"data row50 col1\" >0.854563</td>\n",
       "      <td id=\"T_6b161_row50_col2\" class=\"data row50 col2\" >price</td>\n",
       "      <td id=\"T_6b161_row50_col3\" class=\"data row50 col3\" >False</td>\n",
       "      <td id=\"T_6b161_row50_col4\" class=\"data row50 col4\" >1.000000</td>\n",
       "    </tr>\n",
       "    <tr>\n",
       "      <th id=\"T_6b161_level0_row51\" class=\"row_heading level0 row51\" >15</th>\n",
       "      <td id=\"T_6b161_row51_col0\" class=\"data row51 col0\" >1.912414</td>\n",
       "      <td id=\"T_6b161_row51_col1\" class=\"data row51 col1\" >0.055913</td>\n",
       "      <td id=\"T_6b161_row51_col2\" class=\"data row51 col2\" >weekly_price</td>\n",
       "      <td id=\"T_6b161_row51_col3\" class=\"data row51 col3\" >False</td>\n",
       "      <td id=\"T_6b161_row51_col4\" class=\"data row51 col4\" >1.000000</td>\n",
       "    </tr>\n",
       "    <tr>\n",
       "      <th id=\"T_6b161_level0_row52\" class=\"row_heading level0 row52\" >16</th>\n",
       "      <td id=\"T_6b161_row52_col0\" class=\"data row52 col0\" >0.165384</td>\n",
       "      <td id=\"T_6b161_row52_col1\" class=\"data row52 col1\" >0.868652</td>\n",
       "      <td id=\"T_6b161_row52_col2\" class=\"data row52 col2\" >security_deposit</td>\n",
       "      <td id=\"T_6b161_row52_col3\" class=\"data row52 col3\" >False</td>\n",
       "      <td id=\"T_6b161_row52_col4\" class=\"data row52 col4\" >1.000000</td>\n",
       "    </tr>\n",
       "    <tr>\n",
       "      <th id=\"T_6b161_level0_row53\" class=\"row_heading level0 row53\" >17</th>\n",
       "      <td id=\"T_6b161_row53_col0\" class=\"data row53 col0\" >-2.308648</td>\n",
       "      <td id=\"T_6b161_row53_col1\" class=\"data row53 col1\" >0.021027</td>\n",
       "      <td id=\"T_6b161_row53_col2\" class=\"data row53 col2\" >cleaning_fee</td>\n",
       "      <td id=\"T_6b161_row53_col3\" class=\"data row53 col3\" >False</td>\n",
       "      <td id=\"T_6b161_row53_col4\" class=\"data row53 col4\" >1.000000</td>\n",
       "    </tr>\n",
       "    <tr>\n",
       "      <th id=\"T_6b161_level0_row54\" class=\"row_heading level0 row54\" >18</th>\n",
       "      <td id=\"T_6b161_row54_col0\" class=\"data row54 col0\" >1.867178</td>\n",
       "      <td id=\"T_6b161_row54_col1\" class=\"data row54 col1\" >0.061968</td>\n",
       "      <td id=\"T_6b161_row54_col2\" class=\"data row54 col2\" >guests_included</td>\n",
       "      <td id=\"T_6b161_row54_col3\" class=\"data row54 col3\" >False</td>\n",
       "      <td id=\"T_6b161_row54_col4\" class=\"data row54 col4\" >1.000000</td>\n",
       "    </tr>\n",
       "    <tr>\n",
       "      <th id=\"T_6b161_level0_row55\" class=\"row_heading level0 row55\" >19</th>\n",
       "      <td id=\"T_6b161_row55_col0\" class=\"data row55 col0\" >1.050342</td>\n",
       "      <td id=\"T_6b161_row55_col1\" class=\"data row55 col1\" >0.293641</td>\n",
       "      <td id=\"T_6b161_row55_col2\" class=\"data row55 col2\" >extra_people</td>\n",
       "      <td id=\"T_6b161_row55_col3\" class=\"data row55 col3\" >False</td>\n",
       "      <td id=\"T_6b161_row55_col4\" class=\"data row55 col4\" >1.000000</td>\n",
       "    </tr>\n",
       "    <tr>\n",
       "      <th id=\"T_6b161_level0_row56\" class=\"row_heading level0 row56\" >20</th>\n",
       "      <td id=\"T_6b161_row56_col0\" class=\"data row56 col0\" >-0.376840</td>\n",
       "      <td id=\"T_6b161_row56_col1\" class=\"data row56 col1\" >0.706318</td>\n",
       "      <td id=\"T_6b161_row56_col2\" class=\"data row56 col2\" >minimum_nights</td>\n",
       "      <td id=\"T_6b161_row56_col3\" class=\"data row56 col3\" >False</td>\n",
       "      <td id=\"T_6b161_row56_col4\" class=\"data row56 col4\" >1.000000</td>\n",
       "    </tr>\n",
       "    <tr>\n",
       "      <th id=\"T_6b161_level0_row57\" class=\"row_heading level0 row57\" >21</th>\n",
       "      <td id=\"T_6b161_row57_col0\" class=\"data row57 col0\" >-1.844778</td>\n",
       "      <td id=\"T_6b161_row57_col1\" class=\"data row57 col1\" >0.065162</td>\n",
       "      <td id=\"T_6b161_row57_col2\" class=\"data row57 col2\" >maximum_nights</td>\n",
       "      <td id=\"T_6b161_row57_col3\" class=\"data row57 col3\" >False</td>\n",
       "      <td id=\"T_6b161_row57_col4\" class=\"data row57 col4\" >1.000000</td>\n",
       "    </tr>\n",
       "    <tr>\n",
       "      <th id=\"T_6b161_level0_row58\" class=\"row_heading level0 row58\" >38</th>\n",
       "      <td id=\"T_6b161_row58_col0\" class=\"data row58 col0\" >1.122604</td>\n",
       "      <td id=\"T_6b161_row58_col1\" class=\"data row58 col1\" >0.261690</td>\n",
       "      <td id=\"T_6b161_row58_col2\" class=\"data row58 col2\" >Air Conditioning</td>\n",
       "      <td id=\"T_6b161_row58_col3\" class=\"data row58 col3\" >False</td>\n",
       "      <td id=\"T_6b161_row58_col4\" class=\"data row58 col4\" >1.000000</td>\n",
       "    </tr>\n",
       "    <tr>\n",
       "      <th id=\"T_6b161_level0_row59\" class=\"row_heading level0 row59\" >39</th>\n",
       "      <td id=\"T_6b161_row59_col0\" class=\"data row59 col0\" >1.306502</td>\n",
       "      <td id=\"T_6b161_row59_col1\" class=\"data row59 col1\" >0.191476</td>\n",
       "      <td id=\"T_6b161_row59_col2\" class=\"data row59 col2\" >Breakfast</td>\n",
       "      <td id=\"T_6b161_row59_col3\" class=\"data row59 col3\" >False</td>\n",
       "      <td id=\"T_6b161_row59_col4\" class=\"data row59 col4\" >1.000000</td>\n",
       "    </tr>\n",
       "    <tr>\n",
       "      <th id=\"T_6b161_level0_row60\" class=\"row_heading level0 row60\" >40</th>\n",
       "      <td id=\"T_6b161_row60_col0\" class=\"data row60 col0\" >-0.688970</td>\n",
       "      <td id=\"T_6b161_row60_col1\" class=\"data row60 col1\" >0.490892</td>\n",
       "      <td id=\"T_6b161_row60_col2\" class=\"data row60 col2\" >Buzzer/Wireless Intercom</td>\n",
       "      <td id=\"T_6b161_row60_col3\" class=\"data row60 col3\" >False</td>\n",
       "      <td id=\"T_6b161_row60_col4\" class=\"data row60 col4\" >1.000000</td>\n",
       "    </tr>\n",
       "    <tr>\n",
       "      <th id=\"T_6b161_level0_row61\" class=\"row_heading level0 row61\" >41</th>\n",
       "      <td id=\"T_6b161_row61_col0\" class=\"data row61 col0\" >-1.888098</td>\n",
       "      <td id=\"T_6b161_row61_col1\" class=\"data row61 col1\" >0.059104</td>\n",
       "      <td id=\"T_6b161_row61_col2\" class=\"data row61 col2\" >Cable TV</td>\n",
       "      <td id=\"T_6b161_row61_col3\" class=\"data row61 col3\" >False</td>\n",
       "      <td id=\"T_6b161_row61_col4\" class=\"data row61 col4\" >1.000000</td>\n",
       "    </tr>\n",
       "    <tr>\n",
       "      <th id=\"T_6b161_level0_row62\" class=\"row_heading level0 row62\" >46</th>\n",
       "      <td id=\"T_6b161_row62_col0\" class=\"data row62 col0\" >-2.392768</td>\n",
       "      <td id=\"T_6b161_row62_col1\" class=\"data row62 col1\" >0.016779</td>\n",
       "      <td id=\"T_6b161_row62_col2\" class=\"data row62 col2\" >Dryer</td>\n",
       "      <td id=\"T_6b161_row62_col3\" class=\"data row62 col3\" >False</td>\n",
       "      <td id=\"T_6b161_row62_col4\" class=\"data row62 col4\" >1.000000</td>\n",
       "    </tr>\n",
       "    <tr>\n",
       "      <th id=\"T_6b161_level0_row63\" class=\"row_heading level0 row63\" >49</th>\n",
       "      <td id=\"T_6b161_row63_col0\" class=\"data row63 col0\" >-0.804069</td>\n",
       "      <td id=\"T_6b161_row63_col1\" class=\"data row63 col1\" >0.421417</td>\n",
       "      <td id=\"T_6b161_row63_col2\" class=\"data row63 col2\" >Family/Kid Friendly</td>\n",
       "      <td id=\"T_6b161_row63_col3\" class=\"data row63 col3\" >False</td>\n",
       "      <td id=\"T_6b161_row63_col4\" class=\"data row63 col4\" >1.000000</td>\n",
       "    </tr>\n",
       "    <tr>\n",
       "      <th id=\"T_6b161_level0_row64\" class=\"row_heading level0 row64\" >52</th>\n",
       "      <td id=\"T_6b161_row64_col0\" class=\"data row64 col0\" >0.552956</td>\n",
       "      <td id=\"T_6b161_row64_col1\" class=\"data row64 col1\" >0.580332</td>\n",
       "      <td id=\"T_6b161_row64_col2\" class=\"data row64 col2\" >Free Parking on Premises</td>\n",
       "      <td id=\"T_6b161_row64_col3\" class=\"data row64 col3\" >False</td>\n",
       "      <td id=\"T_6b161_row64_col4\" class=\"data row64 col4\" >1.000000</td>\n",
       "    </tr>\n",
       "    <tr>\n",
       "      <th id=\"T_6b161_level0_row65\" class=\"row_heading level0 row65\" >53</th>\n",
       "      <td id=\"T_6b161_row65_col0\" class=\"data row65 col0\" >-0.532014</td>\n",
       "      <td id=\"T_6b161_row65_col1\" class=\"data row65 col1\" >0.594754</td>\n",
       "      <td id=\"T_6b161_row65_col2\" class=\"data row65 col2\" >Gym</td>\n",
       "      <td id=\"T_6b161_row65_col3\" class=\"data row65 col3\" >False</td>\n",
       "      <td id=\"T_6b161_row65_col4\" class=\"data row65 col4\" >1.000000</td>\n",
       "    </tr>\n",
       "    <tr>\n",
       "      <th id=\"T_6b161_level0_row66\" class=\"row_heading level0 row66\" >56</th>\n",
       "      <td id=\"T_6b161_row66_col0\" class=\"data row66 col0\" >2.196002</td>\n",
       "      <td id=\"T_6b161_row66_col1\" class=\"data row66 col1\" >0.028164</td>\n",
       "      <td id=\"T_6b161_row66_col2\" class=\"data row66 col2\" >Heating</td>\n",
       "      <td id=\"T_6b161_row66_col3\" class=\"data row66 col3\" >False</td>\n",
       "      <td id=\"T_6b161_row66_col4\" class=\"data row66 col4\" >1.000000</td>\n",
       "    </tr>\n",
       "    <tr>\n",
       "      <th id=\"T_6b161_level0_row67\" class=\"row_heading level0 row67\" >57</th>\n",
       "      <td id=\"T_6b161_row67_col0\" class=\"data row67 col0\" >-2.428846</td>\n",
       "      <td id=\"T_6b161_row67_col1\" class=\"data row67 col1\" >0.015202</td>\n",
       "      <td id=\"T_6b161_row67_col2\" class=\"data row67 col2\" >Hot Tub</td>\n",
       "      <td id=\"T_6b161_row67_col3\" class=\"data row67 col3\" >False</td>\n",
       "      <td id=\"T_6b161_row67_col4\" class=\"data row67 col4\" >1.000000</td>\n",
       "    </tr>\n",
       "    <tr>\n",
       "      <th id=\"T_6b161_level0_row68\" class=\"row_heading level0 row68\" >58</th>\n",
       "      <td id=\"T_6b161_row68_col0\" class=\"data row68 col0\" >-1.543988</td>\n",
       "      <td id=\"T_6b161_row68_col1\" class=\"data row68 col1\" >0.122691</td>\n",
       "      <td id=\"T_6b161_row68_col2\" class=\"data row68 col2\" >Indoor Fireplace</td>\n",
       "      <td id=\"T_6b161_row68_col3\" class=\"data row68 col3\" >False</td>\n",
       "      <td id=\"T_6b161_row68_col4\" class=\"data row68 col4\" >1.000000</td>\n",
       "    </tr>\n",
       "    <tr>\n",
       "      <th id=\"T_6b161_level0_row69\" class=\"row_heading level0 row69\" >59</th>\n",
       "      <td id=\"T_6b161_row69_col0\" class=\"data row69 col0\" >0.803976</td>\n",
       "      <td id=\"T_6b161_row69_col1\" class=\"data row69 col1\" >0.421471</td>\n",
       "      <td id=\"T_6b161_row69_col2\" class=\"data row69 col2\" >Internet</td>\n",
       "      <td id=\"T_6b161_row69_col3\" class=\"data row69 col3\" >False</td>\n",
       "      <td id=\"T_6b161_row69_col4\" class=\"data row69 col4\" >1.000000</td>\n",
       "    </tr>\n",
       "    <tr>\n",
       "      <th id=\"T_6b161_level0_row70\" class=\"row_heading level0 row70\" >63</th>\n",
       "      <td id=\"T_6b161_row70_col0\" class=\"data row70 col0\" >-0.481001</td>\n",
       "      <td id=\"T_6b161_row70_col1\" class=\"data row70 col1\" >0.630548</td>\n",
       "      <td id=\"T_6b161_row70_col2\" class=\"data row70 col2\" >Lock on Bedroom Door</td>\n",
       "      <td id=\"T_6b161_row70_col3\" class=\"data row70 col3\" >False</td>\n",
       "      <td id=\"T_6b161_row70_col4\" class=\"data row70 col4\" >1.000000</td>\n",
       "    </tr>\n",
       "    <tr>\n",
       "      <th id=\"T_6b161_level0_row71\" class=\"row_heading level0 row71\" >64</th>\n",
       "      <td id=\"T_6b161_row71_col0\" class=\"data row71 col0\" >-0.127131</td>\n",
       "      <td id=\"T_6b161_row71_col1\" class=\"data row71 col1\" >0.898845</td>\n",
       "      <td id=\"T_6b161_row71_col2\" class=\"data row71 col2\" >Other pet(s)</td>\n",
       "      <td id=\"T_6b161_row71_col3\" class=\"data row71 col3\" >False</td>\n",
       "      <td id=\"T_6b161_row71_col4\" class=\"data row71 col4\" >1.000000</td>\n",
       "    </tr>\n",
       "    <tr>\n",
       "      <th id=\"T_6b161_level0_row72\" class=\"row_heading level0 row72\" >67</th>\n",
       "      <td id=\"T_6b161_row72_col0\" class=\"data row72 col0\" >-2.272158</td>\n",
       "      <td id=\"T_6b161_row72_col1\" class=\"data row72 col1\" >0.023143</td>\n",
       "      <td id=\"T_6b161_row72_col2\" class=\"data row72 col2\" >Pool</td>\n",
       "      <td id=\"T_6b161_row72_col3\" class=\"data row72 col3\" >False</td>\n",
       "      <td id=\"T_6b161_row72_col4\" class=\"data row72 col4\" >1.000000</td>\n",
       "    </tr>\n",
       "    <tr>\n",
       "      <th id=\"T_6b161_level0_row73\" class=\"row_heading level0 row73\" >71</th>\n",
       "      <td id=\"T_6b161_row73_col0\" class=\"data row73 col0\" >0.791936</td>\n",
       "      <td id=\"T_6b161_row73_col1\" class=\"data row73 col1\" >0.428457</td>\n",
       "      <td id=\"T_6b161_row73_col2\" class=\"data row73 col2\" >Smoking Allowed</td>\n",
       "      <td id=\"T_6b161_row73_col3\" class=\"data row73 col3\" >False</td>\n",
       "      <td id=\"T_6b161_row73_col4\" class=\"data row73 col4\" >1.000000</td>\n",
       "    </tr>\n",
       "    <tr>\n",
       "      <th id=\"T_6b161_level0_row74\" class=\"row_heading level0 row74\" >72</th>\n",
       "      <td id=\"T_6b161_row74_col0\" class=\"data row74 col0\" >-1.741339</td>\n",
       "      <td id=\"T_6b161_row74_col1\" class=\"data row74 col1\" >0.081721</td>\n",
       "      <td id=\"T_6b161_row74_col2\" class=\"data row74 col2\" >Suitable for Events</td>\n",
       "      <td id=\"T_6b161_row74_col3\" class=\"data row74 col3\" >False</td>\n",
       "      <td id=\"T_6b161_row74_col4\" class=\"data row74 col4\" >1.000000</td>\n",
       "    </tr>\n",
       "    <tr>\n",
       "      <th id=\"T_6b161_level0_row75\" class=\"row_heading level0 row75\" >73</th>\n",
       "      <td id=\"T_6b161_row75_col0\" class=\"data row75 col0\" >2.509253</td>\n",
       "      <td id=\"T_6b161_row75_col1\" class=\"data row75 col1\" >0.012148</td>\n",
       "      <td id=\"T_6b161_row75_col2\" class=\"data row75 col2\" >TV</td>\n",
       "      <td id=\"T_6b161_row75_col3\" class=\"data row75 col3\" >False</td>\n",
       "      <td id=\"T_6b161_row75_col4\" class=\"data row75 col4\" >1.000000</td>\n",
       "    </tr>\n",
       "    <tr>\n",
       "      <th id=\"T_6b161_level0_row76\" class=\"row_heading level0 row76\" >74</th>\n",
       "      <td id=\"T_6b161_row76_col0\" class=\"data row76 col0\" >-2.369391</td>\n",
       "      <td id=\"T_6b161_row76_col1\" class=\"data row76 col1\" >0.017877</td>\n",
       "      <td id=\"T_6b161_row76_col2\" class=\"data row76 col2\" >Washer</td>\n",
       "      <td id=\"T_6b161_row76_col3\" class=\"data row76 col3\" >False</td>\n",
       "      <td id=\"T_6b161_row76_col4\" class=\"data row76 col4\" >1.000000</td>\n",
       "    </tr>\n",
       "    <tr>\n",
       "      <th id=\"T_6b161_level0_row77\" class=\"row_heading level0 row77\" >75</th>\n",
       "      <td id=\"T_6b161_row77_col0\" class=\"data row77 col0\" >-0.554725</td>\n",
       "      <td id=\"T_6b161_row77_col1\" class=\"data row77 col1\" >0.579122</td>\n",
       "      <td id=\"T_6b161_row77_col2\" class=\"data row77 col2\" >Washer / Dryer</td>\n",
       "      <td id=\"T_6b161_row77_col3\" class=\"data row77 col3\" >False</td>\n",
       "      <td id=\"T_6b161_row77_col4\" class=\"data row77 col4\" >1.000000</td>\n",
       "    </tr>\n",
       "    <tr>\n",
       "      <th id=\"T_6b161_level0_row78\" class=\"row_heading level0 row78\" >76</th>\n",
       "      <td id=\"T_6b161_row78_col0\" class=\"data row78 col0\" >-2.311820</td>\n",
       "      <td id=\"T_6b161_row78_col1\" class=\"data row78 col1\" >0.020851</td>\n",
       "      <td id=\"T_6b161_row78_col2\" class=\"data row78 col2\" >Wheelchair Accessible</td>\n",
       "      <td id=\"T_6b161_row78_col3\" class=\"data row78 col3\" >False</td>\n",
       "      <td id=\"T_6b161_row78_col4\" class=\"data row78 col4\" >1.000000</td>\n",
       "    </tr>\n",
       "    <tr>\n",
       "      <th id=\"T_6b161_level0_row79\" class=\"row_heading level0 row79\" >79</th>\n",
       "      <td id=\"T_6b161_row79_col0\" class=\"data row79 col0\" >2.092324</td>\n",
       "      <td id=\"T_6b161_row79_col1\" class=\"data row79 col1\" >0.036488</td>\n",
       "      <td id=\"T_6b161_row79_col2\" class=\"data row79 col2\" >property_type_House</td>\n",
       "      <td id=\"T_6b161_row79_col3\" class=\"data row79 col3\" >False</td>\n",
       "      <td id=\"T_6b161_row79_col4\" class=\"data row79 col4\" >1.000000</td>\n",
       "    </tr>\n",
       "    <tr>\n",
       "      <th id=\"T_6b161_level0_row80\" class=\"row_heading level0 row80\" >80</th>\n",
       "      <td id=\"T_6b161_row80_col0\" class=\"data row80 col0\" >-0.522350</td>\n",
       "      <td id=\"T_6b161_row80_col1\" class=\"data row80 col1\" >0.601463</td>\n",
       "      <td id=\"T_6b161_row80_col2\" class=\"data row80 col2\" >room_type_Entire home/apt</td>\n",
       "      <td id=\"T_6b161_row80_col3\" class=\"data row80 col3\" >False</td>\n",
       "      <td id=\"T_6b161_row80_col4\" class=\"data row80 col4\" >1.000000</td>\n",
       "    </tr>\n",
       "    <tr>\n",
       "      <th id=\"T_6b161_level0_row81\" class=\"row_heading level0 row81\" >81</th>\n",
       "      <td id=\"T_6b161_row81_col0\" class=\"data row81 col0\" >1.709696</td>\n",
       "      <td id=\"T_6b161_row81_col1\" class=\"data row81 col1\" >0.087419</td>\n",
       "      <td id=\"T_6b161_row81_col2\" class=\"data row81 col2\" >room_type_Private room</td>\n",
       "      <td id=\"T_6b161_row81_col3\" class=\"data row81 col3\" >False</td>\n",
       "      <td id=\"T_6b161_row81_col4\" class=\"data row81 col4\" >1.000000</td>\n",
       "    </tr>\n",
       "    <tr>\n",
       "      <th id=\"T_6b161_level0_row82\" class=\"row_heading level0 row82\" >82</th>\n",
       "      <td id=\"T_6b161_row82_col0\" class=\"data row82 col0\" >1.515253</td>\n",
       "      <td id=\"T_6b161_row82_col1\" class=\"data row82 col1\" >0.129807</td>\n",
       "      <td id=\"T_6b161_row82_col2\" class=\"data row82 col2\" >bed_type_Real Bed</td>\n",
       "      <td id=\"T_6b161_row82_col3\" class=\"data row82 col3\" >False</td>\n",
       "      <td id=\"T_6b161_row82_col4\" class=\"data row82 col4\" >1.000000</td>\n",
       "    </tr>\n",
       "  </tbody>\n",
       "</table>\n"
      ]
     },
     "metadata": {},
     "execution_count": 66
    }
   ],
   "source": [
    "# Пробегаем по всем столбцам, кроме host_is_superhost\n",
    "ttest_result = []\n",
    "for col in df_total.columns:\n",
    "    if col==\"host_is_superhost\":\n",
    "        continue\n",
    "    else:\n",
    "        ttest_result.append(ttest(df_total,\"host_is_superhost\",col))\n",
    "\n",
    "# Отображаем результаты\n",
    "ttest_result = pd.DataFrame(ttest_result,columns=['statistics','pvalue','feature'])\n",
    "# Применяем\n",
    "multitest_result = multi.multipletests(ttest_result.pvalue,method=\"bonferroni\")\n",
    "ttest_result['significant'],ttest_result['adjust_pvalue']=multitest_result[0],multitest_result[1]\n",
    "ttest_result.sort_values(['significant','adjust_pvalue'],ascending=[False,True]).style.bar(subset=['statistics'],\n",
    "                                                                     align='zero', color=['#d65f5f', '#5fba7d'])"
   ]
  },
  {
   "cell_type": "markdown",
   "source": [
    "### **[Задание 12 (Опционально)]**\n",
    "\n",
    "Обучите любую другую модель на обработанных нами данных и попробуйте вычленить из них какую-нибудь бизнесовую закономерность"
   ],
   "metadata": {
    "id": "GCICZkHjExZC"
   },
   "id": "GCICZkHjExZC"
  },
  {
   "cell_type": "code",
   "source": [
    "# Здесь могла быть ваша домашка"
   ],
   "metadata": {
    "id": "0rLOESvZEwxC"
   },
   "id": "0rLOESvZEwxC",
   "execution_count": null,
   "outputs": []
  },
  {
   "cell_type": "markdown",
   "id": "3fa35660",
   "metadata": {
    "id": "3fa35660",
    "papermill": {
     "duration": 0.01582,
     "end_time": "2023-04-17T19:26:29.154819",
     "exception": false,
     "start_time": "2023-04-17T19:26:29.138999",
     "status": "completed"
    },
    "tags": []
   },
   "source": [
    "<a id=\"q1-result\"></a>\n",
    "# 5 Результаты\n"
   ]
  },
  {
   "cell_type": "code",
   "execution_count": null,
   "id": "efaa90df",
   "metadata": {
    "execution": {
     "iopub.execute_input": "2023-04-17T19:26:29.189154Z",
     "iopub.status.busy": "2023-04-17T19:26:29.188707Z",
     "iopub.status.idle": "2023-04-17T19:26:29.197492Z",
     "shell.execute_reply": "2023-04-17T19:26:29.196495Z"
    },
    "id": "efaa90df",
    "papermill": {
     "duration": 0.028797,
     "end_time": "2023-04-17T19:26:29.199946",
     "exception": false,
     "start_time": "2023-04-17T19:26:29.171149",
     "status": "completed"
    },
    "tags": [],
    "colab": {
     "base_uri": "https://localhost:8080/"
    },
    "outputId": "406c981d-c422-4726-a5b9-49c15004170f"
   },
   "outputs": [
    {
     "output_type": "execute_result",
     "data": {
      "text/plain": [
       "0.45714285714285713"
      ]
     },
     "metadata": {},
     "execution_count": 68
    }
   ],
   "source": [
    "ttest_result.feature[ttest_result.significant==True].isin(unqiue_amenities).sum()/np.sum(ttest_result.significant==True)"
   ]
  },
  {
   "cell_type": "markdown",
   "id": "17504f6a",
   "metadata": {
    "papermill": {
     "duration": 0.01546,
     "end_time": "2023-04-17T19:26:29.231250",
     "exception": false,
     "start_time": "2023-04-17T19:26:29.215790",
     "status": "completed"
    },
    "tags": [],
    "id": "17504f6a"
   },
   "source": [
    "Давайте возьмем несколько важных фичей и визуализируем сравнение между ними."
   ]
  },
  {
   "cell_type": "code",
   "execution_count": null,
   "id": "768947e4",
   "metadata": {
    "execution": {
     "iopub.execute_input": "2023-04-17T19:26:29.265787Z",
     "iopub.status.busy": "2023-04-17T19:26:29.264650Z",
     "iopub.status.idle": "2023-04-17T19:26:30.222169Z",
     "shell.execute_reply": "2023-04-17T19:26:30.220613Z"
    },
    "id": "768947e4",
    "papermill": {
     "duration": 0.978064,
     "end_time": "2023-04-17T19:26:30.224964",
     "exception": false,
     "start_time": "2023-04-17T19:26:29.246900",
     "status": "completed"
    },
    "tags": [],
    "colab": {
     "base_uri": "https://localhost:8080/",
     "height": 607
    },
    "outputId": "79f220f5-44f7-4416-daa6-8ffb2b8cae03"
   },
   "outputs": [
    {
     "output_type": "display_data",
     "data": {
      "text/plain": [
       "<Figure size 600x600 with 4 Axes>"
      ],
      "image/png": "[encoded data removed]"
     },
     "metadata": {}
    }
   ],
   "source": [
    "matplotlib.rcParams['figure.figsize'] = (6,6)\n",
    "plt.subplot(221)\n",
    "sns.barplot(data=df_total,y=\"Shampoo\",x=\"host_is_superhost\")\n",
    "plt.title(\"Shampoo\")\n",
    "plt.subplot(222)\n",
    "sns.barplot(data=df_total,y=\"number_of_reviews\",x=\"host_is_superhost\")\n",
    "plt.title(\"number_of_reviews\")\n",
    "plt.subplot(223)\n",
    "sns.barplot(data=df_total,y=\"calculated_host_listings_count\",x=\"host_is_superhost\")\n",
    "plt.title(\"calculated_host_listings_count\")\n",
    "plt.subplot(224)\n",
    "sns.barplot(data=df_total,y=\"price\",x=\"host_is_superhost\")\n",
    "plt.title(\"price\")\n",
    "plt.tight_layout()\n",
    "\n"
   ]
  },
  {
   "cell_type": "code",
   "source": [
    "ttest_result"
   ],
   "metadata": {
    "colab": {
     "base_uri": "https://localhost:8080/",
     "height": 419
    },
    "id": "5sa1JZY9CoWx",
    "outputId": "83280c87-05d1-4ea1-b6b5-059d78f7cd26"
   },
   "id": "5sa1JZY9CoWx",
   "execution_count": null,
   "outputs": [
    {
     "output_type": "execute_result",
     "data": {
      "text/plain": [
       "    statistics        pvalue                    feature  significant  \\\n",
       "0    -7.517356  7.221318e-14         host_response_time         True   \n",
       "1     7.705804  1.724127e-14         host_response_rate         True   \n",
       "2    -2.851064  4.385325e-03        host_listings_count        False   \n",
       "3     0.186417  8.521295e-01       host_has_profile_pic        False   \n",
       "4     7.014558  2.804709e-12     host_identity_verified         True   \n",
       "..         ...           ...                        ...          ...   \n",
       "78   -2.573802  1.010354e-02    property_type_Apartment        False   \n",
       "79    2.092324  3.648845e-02        property_type_House        False   \n",
       "80   -0.522350  6.014629e-01  room_type_Entire home/apt        False   \n",
       "81    1.709696  8.741942e-02     room_type_Private room        False   \n",
       "82    1.515253  1.298075e-01          bed_type_Real Bed        False   \n",
       "\n",
       "    adjust_pvalue  \n",
       "0    5.993694e-12  \n",
       "1    1.431025e-12  \n",
       "2    3.639820e-01  \n",
       "3    1.000000e+00  \n",
       "4    2.327909e-10  \n",
       "..            ...  \n",
       "78   8.385935e-01  \n",
       "79   1.000000e+00  \n",
       "80   1.000000e+00  \n",
       "81   1.000000e+00  \n",
       "82   1.000000e+00  \n",
       "\n",
       "[83 rows x 5 columns]"
      ],
      "text/html": [
       "\n",
       "  <div id=\"df-40ac3b0d-e1ad-44c9-ab9f-de0ce8cb6bf3\" class=\"colab-df-container\">\n",
       "    <div>\n",
       "<style scoped>\n",
       "    .dataframe tbody tr th:only-of-type {\n",
       "        vertical-align: middle;\n",
       "    }\n",
       "\n",
       "    .dataframe tbody tr th {\n",
       "        vertical-align: top;\n",
       "    }\n",
       "\n",
       "    .dataframe thead th {\n",
       "        text-align: right;\n",
       "    }\n",
       "</style>\n",
       "<table border=\"1\" class=\"dataframe\">\n",
       "  <thead>\n",
       "    <tr style=\"text-align: right;\">\n",
       "      <th></th>\n",
       "      <th>statistics</th>\n",
       "      <th>pvalue</th>\n",
       "      <th>feature</th>\n",
       "      <th>significant</th>\n",
       "      <th>adjust_pvalue</th>\n",
       "    </tr>\n",
       "  </thead>\n",
       "  <tbody>\n",
       "    <tr>\n",
       "      <th>0</th>\n",
       "      <td>-7.517356</td>\n",
       "      <td>7.221318e-14</td>\n",
       "      <td>host_response_time</td>\n",
       "      <td>True</td>\n",
       "      <td>5.993694e-12</td>\n",
       "    </tr>\n",
       "    <tr>\n",
       "      <th>1</th>\n",
       "      <td>7.705804</td>\n",
       "      <td>1.724127e-14</td>\n",
       "      <td>host_response_rate</td>\n",
       "      <td>True</td>\n",
       "      <td>1.431025e-12</td>\n",
       "    </tr>\n",
       "    <tr>\n",
       "      <th>2</th>\n",
       "      <td>-2.851064</td>\n",
       "      <td>4.385325e-03</td>\n",
       "      <td>host_listings_count</td>\n",
       "      <td>False</td>\n",
       "      <td>3.639820e-01</td>\n",
       "    </tr>\n",
       "    <tr>\n",
       "      <th>3</th>\n",
       "      <td>0.186417</td>\n",
       "      <td>8.521295e-01</td>\n",
       "      <td>host_has_profile_pic</td>\n",
       "      <td>False</td>\n",
       "      <td>1.000000e+00</td>\n",
       "    </tr>\n",
       "    <tr>\n",
       "      <th>4</th>\n",
       "      <td>7.014558</td>\n",
       "      <td>2.804709e-12</td>\n",
       "      <td>host_identity_verified</td>\n",
       "      <td>True</td>\n",
       "      <td>2.327909e-10</td>\n",
       "    </tr>\n",
       "    <tr>\n",
       "      <th>...</th>\n",
       "      <td>...</td>\n",
       "      <td>...</td>\n",
       "      <td>...</td>\n",
       "      <td>...</td>\n",
       "      <td>...</td>\n",
       "    </tr>\n",
       "    <tr>\n",
       "      <th>78</th>\n",
       "      <td>-2.573802</td>\n",
       "      <td>1.010354e-02</td>\n",
       "      <td>property_type_Apartment</td>\n",
       "      <td>False</td>\n",
       "      <td>8.385935e-01</td>\n",
       "    </tr>\n",
       "    <tr>\n",
       "      <th>79</th>\n",
       "      <td>2.092324</td>\n",
       "      <td>3.648845e-02</td>\n",
       "      <td>property_type_House</td>\n",
       "      <td>False</td>\n",
       "      <td>1.000000e+00</td>\n",
       "    </tr>\n",
       "    <tr>\n",
       "      <th>80</th>\n",
       "      <td>-0.522350</td>\n",
       "      <td>6.014629e-01</td>\n",
       "      <td>room_type_Entire home/apt</td>\n",
       "      <td>False</td>\n",
       "      <td>1.000000e+00</td>\n",
       "    </tr>\n",
       "    <tr>\n",
       "      <th>81</th>\n",
       "      <td>1.709696</td>\n",
       "      <td>8.741942e-02</td>\n",
       "      <td>room_type_Private room</td>\n",
       "      <td>False</td>\n",
       "      <td>1.000000e+00</td>\n",
       "    </tr>\n",
       "    <tr>\n",
       "      <th>82</th>\n",
       "      <td>1.515253</td>\n",
       "      <td>1.298075e-01</td>\n",
       "      <td>bed_type_Real Bed</td>\n",
       "      <td>False</td>\n",
       "      <td>1.000000e+00</td>\n",
       "    </tr>\n",
       "  </tbody>\n",
       "</table>\n",
       "<p>83 rows × 5 columns</p>\n",
       "</div>\n",
       "    <div class=\"colab-df-buttons\">\n",
       "\n",
       "  <div class=\"colab-df-container\">\n",
       "    <button class=\"colab-df-convert\" onclick=\"convertToInteractive('df-40ac3b0d-e1ad-44c9-ab9f-de0ce8cb6bf3')\"\n",
       "            title=\"Convert this dataframe to an interactive table.\"\n",
       "            style=\"display:none;\">\n",
       "\n",
       "  <svg xmlns=\"http://www.w3.org/2000/svg\" height=\"24px\" viewBox=\"0 -960 960 960\">\n",
       "    <path d=\"M120-120v-720h720v720H120Zm60-500h600v-160H180v160Zm220 220h160v-160H400v160Zm0 220h160v-160H400v160ZM180-400h160v-160H180v160Zm440 0h160v-160H620v160ZM180-180h160v-160H180v160Zm440 0h160v-160H620v160Z\"/>\n",
       "  </svg>\n",
       "    </button>\n",
       "\n",
       "  <style>\n",
       "    .colab-df-container {\n",
       "      display:flex;\n",
       "      gap: 12px;\n",
       "    }\n",
       "\n",
       "    .colab-df-convert {\n",
       "      background-color: #E8F0FE;\n",
       "      border: none;\n",
       "      border-radius: 50%;\n",
       "      cursor: pointer;\n",
       "      display: none;\n",
       "      fill: #1967D2;\n",
       "      height: 32px;\n",
       "      padding: 0 0 0 0;\n",
       "      width: 32px;\n",
       "    }\n",
       "\n",
       "    .colab-df-convert:hover {\n",
       "      background-color: #E2EBFA;\n",
       "      box-shadow: 0px 1px 2px rgba(60, 64, 67, 0.3), 0px 1px 3px 1px rgba(60, 64, 67, 0.15);\n",
       "      fill: #174EA6;\n",
       "    }\n",
       "\n",
       "    .colab-df-buttons div {\n",
       "      margin-bottom: 4px;\n",
       "    }\n",
       "\n",
       "    [theme=dark] .colab-df-convert {\n",
       "      background-color: #3B4455;\n",
       "      fill: #D2E3FC;\n",
       "    }\n",
       "\n",
       "    [theme=dark] .colab-df-convert:hover {\n",
       "      background-color: #434B5C;\n",
       "      box-shadow: 0px 1px 3px 1px rgba(0, 0, 0, 0.15);\n",
       "      filter: drop-shadow(0px 1px 2px rgba(0, 0, 0, 0.3));\n",
       "      fill: #FFFFFF;\n",
       "    }\n",
       "  </style>\n",
       "\n",
       "    <script>\n",
       "      const buttonEl =\n",
       "        document.querySelector('#df-40ac3b0d-e1ad-44c9-ab9f-de0ce8cb6bf3 button.colab-df-convert');\n",
       "      buttonEl.style.display =\n",
       "        google.colab.kernel.accessAllowed ? 'block' : 'none';\n",
       "\n",
       "      async function convertToInteractive(key) {\n",
       "        const element = document.querySelector('#df-40ac3b0d-e1ad-44c9-ab9f-de0ce8cb6bf3');\n",
       "        const dataTable =\n",
       "          await google.colab.kernel.invokeFunction('convertToInteractive',\n",
       "                                                    [key], {});\n",
       "        if (!dataTable) return;\n",
       "\n",
       "        const docLinkHtml = 'Like what you see? Visit the ' +\n",
       "          '<a target=\"_blank\" href=https://colab.research.google.com/notebooks/data_table.ipynb>data table notebook</a>'\n",
       "          + ' to learn more about interactive tables.';\n",
       "        element.innerHTML = '';\n",
       "        dataTable['output_type'] = 'display_data';\n",
       "        await google.colab.output.renderOutput(dataTable, element);\n",
       "        const docLink = document.createElement('div');\n",
       "        docLink.innerHTML = docLinkHtml;\n",
       "        element.appendChild(docLink);\n",
       "      }\n",
       "    </script>\n",
       "  </div>\n",
       "\n",
       "\n",
       "<div id=\"df-108bfe63-dbf6-47cf-aa86-1d6e6ed17769\">\n",
       "  <button class=\"colab-df-quickchart\" onclick=\"quickchart('df-108bfe63-dbf6-47cf-aa86-1d6e6ed17769')\"\n",
       "            title=\"Suggest charts.\"\n",
       "            style=\"display:none;\">\n",
       "\n",
       "<svg xmlns=\"http://www.w3.org/2000/svg\" height=\"24px\"viewBox=\"0 0 24 24\"\n",
       "     width=\"24px\">\n",
       "    <g>\n",
       "        <path d=\"M19 3H5c-1.1 0-2 .9-2 2v14c0 1.1.9 2 2 2h14c1.1 0 2-.9 2-2V5c0-1.1-.9-2-2-2zM9 17H7v-7h2v7zm4 0h-2V7h2v10zm4 0h-2v-4h2v4z\"/>\n",
       "    </g>\n",
       "</svg>\n",
       "  </button>\n",
       "\n",
       "<style>\n",
       "  .colab-df-quickchart {\n",
       "    background-color: #E8F0FE;\n",
       "    border: none;\n",
       "    border-radius: 50%;\n",
       "    cursor: pointer;\n",
       "    display: none;\n",
       "    fill: #1967D2;\n",
       "    height: 32px;\n",
       "    padding: 0 0 0 0;\n",
       "    width: 32px;\n",
       "  }\n",
       "\n",
       "  .colab-df-quickchart:hover {\n",
       "    background-color: #E2EBFA;\n",
       "    box-shadow: 0px 1px 2px rgba(60, 64, 67, 0.3), 0px 1px 3px 1px rgba(60, 64, 67, 0.15);\n",
       "    fill: #174EA6;\n",
       "  }\n",
       "\n",
       "  [theme=dark] .colab-df-quickchart {\n",
       "    background-color: #3B4455;\n",
       "    fill: #D2E3FC;\n",
       "  }\n",
       "\n",
       "  [theme=dark] .colab-df-quickchart:hover {\n",
       "    background-color: #434B5C;\n",
       "    box-shadow: 0px 1px 3px 1px rgba(0, 0, 0, 0.15);\n",
       "    filter: drop-shadow(0px 1px 2px rgba(0, 0, 0, 0.3));\n",
       "    fill: #FFFFFF;\n",
       "  }\n",
       "</style>\n",
       "\n",
       "  <script>\n",
       "    async function quickchart(key) {\n",
       "      const charts = await google.colab.kernel.invokeFunction(\n",
       "          'suggestCharts', [key], {});\n",
       "    }\n",
       "    (() => {\n",
       "      let quickchartButtonEl =\n",
       "        document.querySelector('#df-108bfe63-dbf6-47cf-aa86-1d6e6ed17769 button');\n",
       "      quickchartButtonEl.style.display =\n",
       "        google.colab.kernel.accessAllowed ? 'block' : 'none';\n",
       "    })();\n",
       "  </script>\n",
       "</div>\n",
       "    </div>\n",
       "  </div>\n"
      ]
     },
     "metadata": {},
     "execution_count": 70
    }
   ]
  },
  {
   "cell_type": "markdown",
   "source": [
    "Теперь давайте построим двумерный график связи между `statistics` и  `pvalue`, чтобы отследить взаимосвязь между ними:"
   ],
   "metadata": {
    "id": "IDpfqymvC6bz"
   },
   "id": "IDpfqymvC6bz"
  },
  {
   "cell_type": "code",
   "source": [
    "with sns.axes_style('white'):\n",
    "    sns.jointplot(x = 'statistics', y = 'pvalue', data=ttest_result, kind='hex')\n"
   ],
   "metadata": {
    "colab": {
     "base_uri": "https://localhost:8080/",
     "height": 607
    },
    "id": "BPjkAbEx-sJk",
    "outputId": "ba885997-3fb3-491b-9f9c-a72b29dfcd32"
   },
   "id": "BPjkAbEx-sJk",
   "execution_count": null,
   "outputs": [
    {
     "output_type": "display_data",
     "data": {
      "text/plain": [
       "<Figure size 600x600 with 3 Axes>"
      ],
      "image/png": "[encoded data removed]"
     },
     "metadata": {}
    }
   ]
  },
  {
   "cell_type": "markdown",
   "metadata": {
    "id": "w7T8HcN84sTD"
   },
   "source": [
    "#6 Сохранение и загрузка модели"
   ],
   "id": "w7T8HcN84sTD"
  },
  {
   "cell_type": "markdown",
   "source": [
    "А как запускать вашу прекрасную модель в продакшн?\n",
    "\n",
    "Для этого нужно воспользоваться библиотекой [`joblib`](https://joblib.readthedocs.io/en/stable/), а именно ее методами [`dump`](https://joblib.readthedocs.io/en/stable/generated/joblib.dump.html) для выгрузки модели и [`load`](https://joblib.readthedocs.io/en/stable/generated/joblib.load.html) для загрузки.\n",
    "\n",
    "Подключим нужные методы из библиотеки:"
   ],
   "metadata": {
    "id": "eVTuiBSqvO7D"
   },
   "id": "eVTuiBSqvO7D"
  },
  {
   "cell_type": "code",
   "execution_count": null,
   "metadata": {
    "id": "HoetcMt14sTD"
   },
   "outputs": [],
   "source": [
    "from joblib import dump, load"
   ],
   "id": "HoetcMt14sTD"
  },
  {
   "cell_type": "markdown",
   "source": [
    "Выгрузим модель. Передадим `dump` два параметра: нашу модель (сохраним ее в переменную `model`) и название файла для выгрузки c расширением `.joblib` (или путь до места сохранения файла)"
   ],
   "metadata": {
    "id": "zKolnke3wI1k"
   },
   "id": "zKolnke3wI1k"
  },
  {
   "cell_type": "code",
   "source": [
    "model = ttest_result.feature[ttest_result.significant==True].isin(unqiue_amenities).sum()/np.sum(ttest_result.significant==True)"
   ],
   "metadata": {
    "id": "SAHr27wcr8HQ"
   },
   "id": "SAHr27wcr8HQ",
   "execution_count": null,
   "outputs": []
  },
  {
   "cell_type": "code",
   "execution_count": null,
   "metadata": {
    "id": "Wqy9FUqO4sTD",
    "outputId": "0e881580-5dbd-4ccf-eee3-4a8c19ea8b2f",
    "colab": {
     "base_uri": "https://localhost:8080/"
    }
   },
   "outputs": [
    {
     "output_type": "execute_result",
     "data": {
      "text/plain": [
       "['model.joblib']"
      ]
     },
     "metadata": {},
     "execution_count": 74
    }
   ],
   "source": [
    "dump(model, 'model.joblib')"
   ],
   "id": "Wqy9FUqO4sTD"
  },
  {
   "cell_type": "markdown",
   "source": [
    "Теперь модель сохранена в файле, который мы можем, например, передать нашим коллегам для деплоя ее в продакшн:)"
   ],
   "metadata": {
    "id": "Yz0jC_lEwXSm"
   },
   "id": "Yz0jC_lEwXSm"
  },
  {
   "cell_type": "markdown",
   "source": [
    "Если нам потребуется загрузить модель, то мы можем сделать это с помощью метода `load`, которому в качестве параметра передадим имя файла или путь до него в файловой системе. Загруженную модель передадим в объект `loaded_model`."
   ],
   "metadata": {
    "id": "SRXwkmskwiqw"
   },
   "id": "SRXwkmskwiqw"
  },
  {
   "cell_type": "code",
   "execution_count": null,
   "metadata": {
    "id": "QL2jwDsJ4sTD"
   },
   "outputs": [],
   "source": [
    "loaded_model = load('model.joblib')"
   ],
   "id": "QL2jwDsJ4sTD"
  },
  {
   "cell_type": "markdown",
   "source": [
    "Загруженный объект теперь можно использовать для предсказаний."
   ],
   "metadata": {
    "id": "C_-gMLxlxA7O"
   },
   "id": "C_-gMLxlxA7O"
  },
  {
   "cell_type": "markdown",
   "source": [
    "В следующих темах мы подробнее познакомимся с способом экспорта и импорта моделей, а также их запуском после загрузки:)"
   ],
   "metadata": {
    "id": "5Vc6AkVZA9si"
   },
   "id": "5Vc6AkVZA9si"
  },
  {
   "cell_type": "markdown",
   "id": "6ee32184",
   "metadata": {
    "papermill": {
     "duration": 0.021917,
     "end_time": "2023-04-17T19:26:34.040312",
     "exception": false,
     "start_time": "2023-04-17T19:26:34.018395",
     "status": "completed"
    },
    "tags": [],
    "id": "6ee32184"
   },
   "source": [
    "<a id=\"conclusions\"></a>\n",
    "# 6. Выводы"
   ]
  },
  {
   "cell_type": "markdown",
   "id": "6eebfc14",
   "metadata": {
    "papermill": {
     "duration": 0.021725,
     "end_time": "2023-04-17T19:26:34.084545",
     "exception": false,
     "start_time": "2023-04-17T19:26:34.062820",
     "status": "completed"
    },
    "tags": [],
    "id": "6eebfc14"
   },
   "source": [
    "Таким образом из нашего исследования можно заключить, что **супер-хосты получают больше отзывов и более высокие оценки по сравнению с другими хостами.** Это можно объяснить их быстрым откликом и заботой о безопасности.\n",
    "\n",
    "При анализе признаков, которые существенно отличают суперхоста, было обнаружено, что почти половину из них составляют удобства. Интересно, что самым влиятельным признаком был `Shampoo`, в то время как `Kitchen` едва преодолел порог значимости. Это понятно, поскольку путешественники обычно имеют ограниченное время для приготовления пищи и отдают предпочтение хорошему приему душа и хорошему ночному сну.\n",
    "\n",
    "Несмотря на качество супер-хозяев, можно предположить, что они сдают жилье по более высокой цене. Однако, по статистике, это не так.\n",
    "\n",
    "Еще одной интересной фичей является `calculated_host_listings_count`, которая указывает на количество объектов недвижимости, принадлежащих хосту. Похоже, что компании и владельцы, владеющие несколькими объектами недвижимости, не могут уделять достаточного внимания каждому из них, в то время как супер-хосты обычно владеют только 1 или 2."
   ]
  }
 ],
 "metadata": {
  "kernelspec": {
   "display_name": "Python 3",
   "language": "python",
   "name": "python3"
  },
  "language_info": {
   "codemirror_mode": {
    "name": "ipython",
    "version": 3
   },
   "file_extension": ".py",
   "mimetype": "text/x-python",
   "name": "python",
   "nbconvert_exporter": "python",
   "pygments_lexer": "ipython3",
   "version": "3.7.12"
  },
  "papermill": {
   "default_parameters": {},
   "duration": 26.705501,
   "end_time": "2023-04-17T19:26:35.030194",
   "environment_variables": {},
   "exception": null,
   "input_path": "__notebook__.ipynb",
   "output_path": "__notebook__.ipynb",
   "parameters": {},
   "start_time": "2023-04-17T19:26:08.324693",
   "version": "2.4.0"
  },
  "colab": {
   "provenance": [],
   "toc_visible": true
  }
 },
 "nbformat": 4,
 "nbformat_minor": 5
}
