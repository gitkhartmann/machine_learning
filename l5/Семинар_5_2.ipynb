{
 "cells": [
  {
   "cell_type": "markdown",
   "source": [
    "В этом занятии:\n",
    "\n",
    "* Познакомимся с полиномиальной регрессией поближе.\n",
    "\n",
    "* Разберем техники улучшения моделей машинного обучения с помощью Lasso и Ridge регрессий.\n",
    "\n",
    "* Вспомним, зачем нужна нормализация данных.\n",
    "\n",
    "* [Бонус] Узнаем, что такое Elastic Net.\n",
    "\n",
    "___"
   ],
   "metadata": {
    "id": "pycaiEHAUp_7"
   }
  },
  {
   "cell_type": "markdown",
   "metadata": {
    "id": "B37khJM_z61o"
   },
   "source": [
    "# Полиномиальная регрессия в SciKit-Learn\n",
    "\n",
    "Ранее мы видели, как можно построить простую линию тренда. В этом практическом занятии мы значительно расширим спектр наших знаний — обучим полиномиальную регрессионную модель, поговорим о переобучении (overfitting), недообучении (underfitting), оценке модели, а также о регуляризации."
   ]
  },
  {
   "cell_type": "code",
   "execution_count": 3,
   "metadata": {
    "id": "oywTgEn-z61p",
    "ExecuteTime": {
     "end_time": "2023-12-07T16:22:33.198171Z",
     "start_time": "2023-12-07T16:22:32.951319Z"
    }
   },
   "outputs": [],
   "source": [
    "import numpy as np\n",
    "import pandas as pd\n",
    "import matplotlib.pyplot as plt\n",
    "import seaborn as sns\n",
    "from sklearn.metrics import mean_absolute_error,mean_squared_error"
   ]
  },
  {
   "cell_type": "markdown",
   "metadata": {
    "id": "UXP04Apkz61r"
   },
   "source": [
    "## Данные\n",
    "\n",
    "Мы будем использовать те же данные из книги ISLR (Introduction to Statistical Learning: With Applications in R), что и на прошлом занятии."
   ]
  },
  {
   "cell_type": "code",
   "execution_count": 4,
   "metadata": {
    "id": "ighRWx98z61r",
    "ExecuteTime": {
     "end_time": "2023-12-07T16:22:37.287406Z",
     "start_time": "2023-12-07T16:22:37.256203Z"
    }
   },
   "outputs": [],
   "source": [
    "df = pd.read_csv(\"Advertising.csv\")"
   ]
  },
  {
   "cell_type": "code",
   "execution_count": 5,
   "metadata": {
    "colab": {
     "base_uri": "https://localhost:8080/",
     "height": 204
    },
    "id": "PbHhViAFz61s",
    "executionInfo": {
     "status": "ok",
     "timestamp": 1690139911822,
     "user_tz": -180,
     "elapsed": 30,
     "user": {
      "displayName": "Катерина Зайцева",
      "userId": "13243922588902490503"
     }
    },
    "outputId": "be3d068e-00be-4740-8808-a3c97ba606f5",
    "ExecuteTime": {
     "end_time": "2023-12-07T16:22:38.858868Z",
     "start_time": "2023-12-07T16:22:38.781078Z"
    }
   },
   "outputs": [
    {
     "data": {
      "text/plain": "      TV  radio  newspaper  sales\n0  230.1   37.8       69.2   22.1\n1   44.5   39.3       45.1   10.4\n2   17.2   45.9       69.3    9.3\n3  151.5   41.3       58.5   18.5\n4  180.8   10.8       58.4   12.9",
      "text/html": "<div>\n<style scoped>\n    .dataframe tbody tr th:only-of-type {\n        vertical-align: middle;\n    }\n\n    .dataframe tbody tr th {\n        vertical-align: top;\n    }\n\n    .dataframe thead th {\n        text-align: right;\n    }\n</style>\n<table border=\"1\" class=\"dataframe\">\n  <thead>\n    <tr style=\"text-align: right;\">\n      <th></th>\n      <th>TV</th>\n      <th>radio</th>\n      <th>newspaper</th>\n      <th>sales</th>\n    </tr>\n  </thead>\n  <tbody>\n    <tr>\n      <th>0</th>\n      <td>230.1</td>\n      <td>37.8</td>\n      <td>69.2</td>\n      <td>22.1</td>\n    </tr>\n    <tr>\n      <th>1</th>\n      <td>44.5</td>\n      <td>39.3</td>\n      <td>45.1</td>\n      <td>10.4</td>\n    </tr>\n    <tr>\n      <th>2</th>\n      <td>17.2</td>\n      <td>45.9</td>\n      <td>69.3</td>\n      <td>9.3</td>\n    </tr>\n    <tr>\n      <th>3</th>\n      <td>151.5</td>\n      <td>41.3</td>\n      <td>58.5</td>\n      <td>18.5</td>\n    </tr>\n    <tr>\n      <th>4</th>\n      <td>180.8</td>\n      <td>10.8</td>\n      <td>58.4</td>\n      <td>12.9</td>\n    </tr>\n  </tbody>\n</table>\n</div>"
     },
     "execution_count": 5,
     "metadata": {},
     "output_type": "execute_result"
    }
   ],
   "source": [
    "df.head()"
   ]
  },
  {
   "cell_type": "code",
   "execution_count": 6,
   "metadata": {
    "id": "P30SK9Woz61s",
    "ExecuteTime": {
     "end_time": "2023-12-07T16:22:44.939240Z",
     "start_time": "2023-12-07T16:22:44.907702Z"
    }
   },
   "outputs": [],
   "source": [
    "# Берём все колонки, КРОМЕ sales\n",
    "X = df.drop('sales',axis=1)"
   ]
  },
  {
   "cell_type": "code",
   "execution_count": 7,
   "metadata": {
    "id": "EWC2IlTyz61t",
    "ExecuteTime": {
     "end_time": "2023-12-07T16:22:47.140185Z",
     "start_time": "2023-12-07T16:22:47.108946Z"
    }
   },
   "outputs": [],
   "source": [
    "y = df['sales']"
   ]
  },
  {
   "cell_type": "markdown",
   "metadata": {
    "id": "5AgV68H3z61t"
   },
   "source": [
    "## SciKit Learn\n",
    "\n",
    "---"
   ]
  },
  {
   "cell_type": "markdown",
   "metadata": {
    "id": "f0KwX4Cvz61t"
   },
   "source": [
    "## Полиномиальная регрессия"
   ]
  },
  {
   "cell_type": "markdown",
   "metadata": {
    "id": "U_PVnKDhz61u"
   },
   "source": [
    "**Прежде всего импортируем из `Preprocessing` класс `PolynomialFeatures`. С его помощью мы трансформируем наши исходные данные, добавляя в них полиномиальные признаки.**\n",
    "\n",
    "Мы перейдём от уравнения в следующей форме (здесь показан случай, когда у нас только один признак $x$):\n",
    "\n",
    "$$\\hat{y} = \\beta_0 + \\beta_1x_1 + \\epsilon $$\n",
    "\n",
    "и добавим дополнительные признаки на основе исходного признака $x$ для полинома некоторой степени *d*.\n",
    "\n",
    "$$\\hat{y} = \\beta_0 + \\beta_1x_1 + \\beta_1x^2_1 +  ... + \\beta_dx^d_1 + \\epsilon$$\n",
    "\n",
    "Далее мы применим линейную регрессию, поскольку мы можем воспринимать эти полиномиальные признаки $x^2, x^3, ... x^d$ в качестве новых признаков. Конечно, нам нужно аккуратно выбрать правильное значение $d$, степень нашей модели. Наши метрики оценки модели помогут нам в этом!\n",
    "\n",
    "**Также нужно заметить, что когда у нас есть несколько признаков на основе признака $X$, то метод `PolynomialFeatures` также будет рассматривать *комбинации* признаков. Например, если на входе мы имеем два измерения в виде $[a, b]$, то полином второй степени имеет следующие признаки: $[1, a, b,  a^2, ab, b^2]$.**"
   ]
  },
  {
   "cell_type": "code",
   "execution_count": 8,
   "metadata": {
    "id": "nWpQXeZ8z61u",
    "ExecuteTime": {
     "end_time": "2023-12-07T16:22:51.587907Z",
     "start_time": "2023-12-07T16:22:51.537579Z"
    }
   },
   "outputs": [],
   "source": [
    "from sklearn.preprocessing import PolynomialFeatures"
   ]
  },
  {
   "cell_type": "code",
   "execution_count": 9,
   "metadata": {
    "id": "Y2Fk-Ul7z61u",
    "ExecuteTime": {
     "end_time": "2023-12-07T16:22:53.070300Z",
     "start_time": "2023-12-07T16:22:53.057798Z"
    }
   },
   "outputs": [],
   "source": [
    "polynomial_converter = PolynomialFeatures(degree=2,include_bias=False)"
   ]
  },
  {
   "cell_type": "code",
   "execution_count": 10,
   "metadata": {
    "id": "ZZ-G57tWz61v",
    "ExecuteTime": {
     "end_time": "2023-12-07T16:22:54.651951Z",
     "start_time": "2023-12-07T16:22:54.621467Z"
    }
   },
   "outputs": [],
   "source": [
    "# Метод Converter \"обучается\" на данных, в данном случае, на основе всех колонок X\n",
    "# Затем этот метод выполняет трансформацию и выдаёт на выходе новые полиномиальные данные\n",
    "poly_features = polynomial_converter.fit_transform(X)"
   ]
  },
  {
   "cell_type": "code",
   "execution_count": 11,
   "metadata": {
    "colab": {
     "base_uri": "https://localhost:8080/"
    },
    "id": "vvK0rHY_z61v",
    "executionInfo": {
     "status": "ok",
     "timestamp": 1690139911822,
     "user_tz": -180,
     "elapsed": 27,
     "user": {
      "displayName": "Катерина Зайцева",
      "userId": "13243922588902490503"
     }
    },
    "outputId": "22adbcf6-a61f-475e-cf1c-c885d91fe35c",
    "ExecuteTime": {
     "end_time": "2023-12-07T16:22:56.312348Z",
     "start_time": "2023-12-07T16:22:56.285782Z"
    }
   },
   "outputs": [
    {
     "data": {
      "text/plain": "(200, 9)"
     },
     "execution_count": 11,
     "metadata": {},
     "output_type": "execute_result"
    }
   ],
   "source": [
    "poly_features.shape"
   ]
  },
  {
   "cell_type": "code",
   "execution_count": 12,
   "metadata": {
    "colab": {
     "base_uri": "https://localhost:8080/"
    },
    "id": "iNGG2R23z61w",
    "executionInfo": {
     "status": "ok",
     "timestamp": 1690139911823,
     "user_tz": -180,
     "elapsed": 15,
     "user": {
      "displayName": "Катерина Зайцева",
      "userId": "13243922588902490503"
     }
    },
    "outputId": "93c5ceda-f3e5-4ad6-d2b2-7b2a5125e183",
    "ExecuteTime": {
     "end_time": "2023-12-07T16:22:58.619361Z",
     "start_time": "2023-12-07T16:22:58.591082Z"
    }
   },
   "outputs": [
    {
     "data": {
      "text/plain": "(200, 3)"
     },
     "execution_count": 12,
     "metadata": {},
     "output_type": "execute_result"
    }
   ],
   "source": [
    "X.shape"
   ]
  },
  {
   "cell_type": "code",
   "execution_count": 13,
   "metadata": {
    "colab": {
     "base_uri": "https://localhost:8080/"
    },
    "id": "FYvu73OZz61w",
    "executionInfo": {
     "status": "ok",
     "timestamp": 1690139912326,
     "user_tz": -180,
     "elapsed": 507,
     "user": {
      "displayName": "Катерина Зайцева",
      "userId": "13243922588902490503"
     }
    },
    "outputId": "67a4f895-7d9d-4702-de8e-909efaf32faf",
    "ExecuteTime": {
     "end_time": "2023-12-07T16:23:00.820549Z",
     "start_time": "2023-12-07T16:23:00.794619Z"
    }
   },
   "outputs": [
    {
     "data": {
      "text/plain": "TV           230.1\nradio         37.8\nnewspaper     69.2\nName: 0, dtype: float64"
     },
     "execution_count": 13,
     "metadata": {},
     "output_type": "execute_result"
    }
   ],
   "source": [
    "X.iloc[0]"
   ]
  },
  {
   "cell_type": "code",
   "execution_count": 14,
   "metadata": {
    "colab": {
     "base_uri": "https://localhost:8080/"
    },
    "id": "fKriaimkz61w",
    "executionInfo": {
     "status": "ok",
     "timestamp": 1690139912326,
     "user_tz": -180,
     "elapsed": 67,
     "user": {
      "displayName": "Катерина Зайцева",
      "userId": "13243922588902490503"
     }
    },
    "outputId": "91e4d5db-1b89-4a39-e43e-33beec50b66a",
    "ExecuteTime": {
     "end_time": "2023-12-07T16:23:04.880258Z",
     "start_time": "2023-12-07T16:23:04.841742Z"
    }
   },
   "outputs": [
    {
     "data": {
      "text/plain": "array([2.301000e+02, 3.780000e+01, 6.920000e+01, 5.294601e+04,\n       8.697780e+03, 1.592292e+04, 1.428840e+03, 2.615760e+03,\n       4.788640e+03])"
     },
     "execution_count": 14,
     "metadata": {},
     "output_type": "execute_result"
    }
   ],
   "source": [
    "poly_features[0]"
   ]
  },
  {
   "cell_type": "code",
   "execution_count": 15,
   "metadata": {
    "colab": {
     "base_uri": "https://localhost:8080/"
    },
    "id": "r2syCbOpz61x",
    "executionInfo": {
     "status": "ok",
     "timestamp": 1690139912326,
     "user_tz": -180,
     "elapsed": 56,
     "user": {
      "displayName": "Катерина Зайцева",
      "userId": "13243922588902490503"
     }
    },
    "outputId": "92ed77f6-70ea-46ea-b8e7-f8ad783f1a32",
    "ExecuteTime": {
     "end_time": "2023-12-07T16:23:07.668313Z",
     "start_time": "2023-12-07T16:23:07.642343Z"
    }
   },
   "outputs": [
    {
     "data": {
      "text/plain": "array([230.1,  37.8,  69.2])"
     },
     "execution_count": 15,
     "metadata": {},
     "output_type": "execute_result"
    }
   ],
   "source": [
    "poly_features[0][:3]"
   ]
  },
  {
   "cell_type": "code",
   "execution_count": 16,
   "metadata": {
    "scrolled": true,
    "colab": {
     "base_uri": "https://localhost:8080/"
    },
    "id": "6UpVCtE5z61x",
    "executionInfo": {
     "status": "ok",
     "timestamp": 1690139912327,
     "user_tz": -180,
     "elapsed": 46,
     "user": {
      "displayName": "Катерина Зайцева",
      "userId": "13243922588902490503"
     }
    },
    "outputId": "6967fec4-7165-4d9e-9189-b26b92df7d57",
    "ExecuteTime": {
     "end_time": "2023-12-07T16:23:10.367217Z",
     "start_time": "2023-12-07T16:23:10.334079Z"
    }
   },
   "outputs": [
    {
     "data": {
      "text/plain": "array([52946.01,  1428.84,  4788.64])"
     },
     "execution_count": 16,
     "metadata": {},
     "output_type": "execute_result"
    }
   ],
   "source": [
    "poly_features[0][:3]**2"
   ]
  },
  {
   "cell_type": "markdown",
   "metadata": {
    "id": "45LTuidzz61x"
   },
   "source": [
    "Комбинации признаков $$x_1  \\cdot x_2 \\text{  и  } x_1  \\cdot x_3 \\text{  и  }   x_2  \\cdot x_3 $$"
   ]
  },
  {
   "cell_type": "code",
   "execution_count": 17,
   "metadata": {
    "colab": {
     "base_uri": "https://localhost:8080/"
    },
    "id": "cX4k3-eJz61y",
    "executionInfo": {
     "status": "ok",
     "timestamp": 1690139912327,
     "user_tz": -180,
     "elapsed": 36,
     "user": {
      "displayName": "Катерина Зайцева",
      "userId": "13243922588902490503"
     }
    },
    "outputId": "508981f2-2b6f-4195-abb9-333a38dbfb43",
    "ExecuteTime": {
     "end_time": "2023-12-07T16:23:13.397772Z",
     "start_time": "2023-12-07T16:23:13.365357Z"
    }
   },
   "outputs": [
    {
     "data": {
      "text/plain": "8697.779999999999"
     },
     "execution_count": 17,
     "metadata": {},
     "output_type": "execute_result"
    }
   ],
   "source": [
    "230.1*37.8"
   ]
  },
  {
   "cell_type": "code",
   "execution_count": 20,
   "metadata": {
    "colab": {
     "base_uri": "https://localhost:8080/"
    },
    "id": "xwDHDsWXz61y",
    "executionInfo": {
     "status": "ok",
     "timestamp": 1690139912327,
     "user_tz": -180,
     "elapsed": 25,
     "user": {
      "displayName": "Катерина Зайцева",
      "userId": "13243922588902490503"
     }
    },
    "outputId": "c4e354d0-a170-4304-becb-3e5e08d3c88c",
    "ExecuteTime": {
     "end_time": "2023-12-05T17:02:25.390097Z",
     "start_time": "2023-12-05T17:02:25.365773Z"
    }
   },
   "outputs": [
    {
     "data": {
      "text/plain": "15922.92"
     },
     "execution_count": 20,
     "metadata": {},
     "output_type": "execute_result"
    }
   ],
   "source": [
    "230.1*69.2"
   ]
  },
  {
   "cell_type": "code",
   "execution_count": 21,
   "metadata": {
    "colab": {
     "base_uri": "https://localhost:8080/"
    },
    "id": "WUWcCvLGz61y",
    "executionInfo": {
     "status": "ok",
     "timestamp": 1690139912327,
     "user_tz": -180,
     "elapsed": 15,
     "user": {
      "displayName": "Катерина Зайцева",
      "userId": "13243922588902490503"
     }
    },
    "outputId": "6b183c20-bd9c-4e8a-93a9-7aa6f9c40d8f",
    "ExecuteTime": {
     "end_time": "2023-12-05T17:02:42.432489Z",
     "start_time": "2023-12-05T17:02:42.404283Z"
    }
   },
   "outputs": [
    {
     "data": {
      "text/plain": "2615.7599999999998"
     },
     "execution_count": 21,
     "metadata": {},
     "output_type": "execute_result"
    }
   ],
   "source": [
    "37.8*69.2"
   ]
  },
  {
   "cell_type": "markdown",
   "metadata": {
    "id": "vQLOKNjYz61z"
   },
   "source": [
    "## Разбиение на обучающий и тестовый наборы данных - Train | Test Split\n",
    "В лекциях, мы рассказывали о разбиении выборки на обучающую и тестовую, а ранее в практиках, мы уже применяли этот метод.\n",
    "\n",
    "Импортируем нужные библиотеки"
   ]
  },
  {
   "cell_type": "code",
   "execution_count": 18,
   "metadata": {
    "id": "UD9NAHnMz61z",
    "ExecuteTime": {
     "end_time": "2023-12-07T16:23:19.315894Z",
     "start_time": "2023-12-07T16:23:19.271621Z"
    }
   },
   "outputs": [],
   "source": [
    "from sklearn.model_selection import train_test_split"
   ]
  },
  {
   "cell_type": "markdown",
   "source": [
    "### **[Задание 1]**\n",
    "\n",
    "Разделите выборку на train и test в соотношении `0.7` к `0.3` с `random_state=101`\n"
   ],
   "metadata": {
    "id": "dqHq4YZS2tjM"
   }
  },
  {
   "cell_type": "code",
   "execution_count": 19,
   "metadata": {
    "id": "QpmLjt_Rz61z",
    "ExecuteTime": {
     "end_time": "2023-12-07T16:23:21.551770Z",
     "start_time": "2023-12-07T16:23:21.529924Z"
    }
   },
   "outputs": [],
   "source": [
    "X_train, X_test, y_train, y_test = train_test_split(poly_features, y, test_size=0.3, random_state=101)"
   ]
  },
  {
   "cell_type": "markdown",
   "metadata": {
    "id": "ZWsbqr-Mz61z"
   },
   "source": [
    "### Модель для обучения на полиномиальных данных\n",
    "\n",
    "Создаём экземпляр модели с параметрами"
   ]
  },
  {
   "cell_type": "code",
   "execution_count": 20,
   "metadata": {
    "id": "s2VYzDIcz610",
    "ExecuteTime": {
     "end_time": "2023-12-07T16:23:24.719851Z",
     "start_time": "2023-12-07T16:23:24.565866Z"
    }
   },
   "outputs": [],
   "source": [
    "from sklearn.linear_model import LinearRegression"
   ]
  },
  {
   "cell_type": "code",
   "execution_count": 21,
   "metadata": {
    "id": "BzZ8nvOWz610",
    "ExecuteTime": {
     "end_time": "2023-12-07T16:23:26.253037Z",
     "start_time": "2023-12-07T16:23:26.220813Z"
    }
   },
   "outputs": [],
   "source": [
    "model = LinearRegression(fit_intercept=True)"
   ]
  },
  {
   "cell_type": "markdown",
   "metadata": {
    "id": "oaXoh3bXz610"
   },
   "source": [
    "### Обучаем (Fit/Train) модель на обучающих данных\n",
    "\n",
    "**Повторим: обучение следует проводить не на всех данных, а только на обучающих; тогда у нас будет возможность оценить работу модели на тестовых данных, чтобы проверить её способность работать с неизвестными данными в будущем.**"
   ]
  },
  {
   "cell_type": "code",
   "execution_count": 22,
   "metadata": {
    "colab": {
     "base_uri": "https://localhost:8080/",
     "height": 74
    },
    "id": "YfEzito4z611",
    "executionInfo": {
     "status": "ok",
     "timestamp": 1690139912622,
     "user_tz": -180,
     "elapsed": 5,
     "user": {
      "displayName": "Катерина Зайцева",
      "userId": "13243922588902490503"
     }
    },
    "outputId": "df926abc-59ad-4d89-b897-2e1bfc83202d",
    "ExecuteTime": {
     "end_time": "2023-12-07T16:23:28.685397Z",
     "start_time": "2023-12-07T16:23:28.664796Z"
    }
   },
   "outputs": [
    {
     "data": {
      "text/plain": "LinearRegression()",
      "text/html": "<style>#sk-container-id-1 {color: black;}#sk-container-id-1 pre{padding: 0;}#sk-container-id-1 div.sk-toggleable {background-color: white;}#sk-container-id-1 label.sk-toggleable__label {cursor: pointer;display: block;width: 100%;margin-bottom: 0;padding: 0.3em;box-sizing: border-box;text-align: center;}#sk-container-id-1 label.sk-toggleable__label-arrow:before {content: \"▸\";float: left;margin-right: 0.25em;color: #696969;}#sk-container-id-1 label.sk-toggleable__label-arrow:hover:before {color: black;}#sk-container-id-1 div.sk-estimator:hover label.sk-toggleable__label-arrow:before {color: black;}#sk-container-id-1 div.sk-toggleable__content {max-height: 0;max-width: 0;overflow: hidden;text-align: left;background-color: #f0f8ff;}#sk-container-id-1 div.sk-toggleable__content pre {margin: 0.2em;color: black;border-radius: 0.25em;background-color: #f0f8ff;}#sk-container-id-1 input.sk-toggleable__control:checked~div.sk-toggleable__content {max-height: 200px;max-width: 100%;overflow: auto;}#sk-container-id-1 input.sk-toggleable__control:checked~label.sk-toggleable__label-arrow:before {content: \"▾\";}#sk-container-id-1 div.sk-estimator input.sk-toggleable__control:checked~label.sk-toggleable__label {background-color: #d4ebff;}#sk-container-id-1 div.sk-label input.sk-toggleable__control:checked~label.sk-toggleable__label {background-color: #d4ebff;}#sk-container-id-1 input.sk-hidden--visually {border: 0;clip: rect(1px 1px 1px 1px);clip: rect(1px, 1px, 1px, 1px);height: 1px;margin: -1px;overflow: hidden;padding: 0;position: absolute;width: 1px;}#sk-container-id-1 div.sk-estimator {font-family: monospace;background-color: #f0f8ff;border: 1px dotted black;border-radius: 0.25em;box-sizing: border-box;margin-bottom: 0.5em;}#sk-container-id-1 div.sk-estimator:hover {background-color: #d4ebff;}#sk-container-id-1 div.sk-parallel-item::after {content: \"\";width: 100%;border-bottom: 1px solid gray;flex-grow: 1;}#sk-container-id-1 div.sk-label:hover label.sk-toggleable__label {background-color: #d4ebff;}#sk-container-id-1 div.sk-serial::before {content: \"\";position: absolute;border-left: 1px solid gray;box-sizing: border-box;top: 0;bottom: 0;left: 50%;z-index: 0;}#sk-container-id-1 div.sk-serial {display: flex;flex-direction: column;align-items: center;background-color: white;padding-right: 0.2em;padding-left: 0.2em;position: relative;}#sk-container-id-1 div.sk-item {position: relative;z-index: 1;}#sk-container-id-1 div.sk-parallel {display: flex;align-items: stretch;justify-content: center;background-color: white;position: relative;}#sk-container-id-1 div.sk-item::before, #sk-container-id-1 div.sk-parallel-item::before {content: \"\";position: absolute;border-left: 1px solid gray;box-sizing: border-box;top: 0;bottom: 0;left: 50%;z-index: -1;}#sk-container-id-1 div.sk-parallel-item {display: flex;flex-direction: column;z-index: 1;position: relative;background-color: white;}#sk-container-id-1 div.sk-parallel-item:first-child::after {align-self: flex-end;width: 50%;}#sk-container-id-1 div.sk-parallel-item:last-child::after {align-self: flex-start;width: 50%;}#sk-container-id-1 div.sk-parallel-item:only-child::after {width: 0;}#sk-container-id-1 div.sk-dashed-wrapped {border: 1px dashed gray;margin: 0 0.4em 0.5em 0.4em;box-sizing: border-box;padding-bottom: 0.4em;background-color: white;}#sk-container-id-1 div.sk-label label {font-family: monospace;font-weight: bold;display: inline-block;line-height: 1.2em;}#sk-container-id-1 div.sk-label-container {text-align: center;}#sk-container-id-1 div.sk-container {/* jupyter's `normalize.less` sets `[hidden] { display: none; }` but bootstrap.min.css set `[hidden] { display: none !important; }` so we also need the `!important` here to be able to override the default hidden behavior on the sphinx rendered scikit-learn.org. See: https://github.com/scikit-learn/scikit-learn/issues/21755 */display: inline-block !important;position: relative;}#sk-container-id-1 div.sk-text-repr-fallback {display: none;}</style><div id=\"sk-container-id-1\" class=\"sk-top-container\"><div class=\"sk-text-repr-fallback\"><pre>LinearRegression()</pre><b>In a Jupyter environment, please rerun this cell to show the HTML representation or trust the notebook. <br />On GitHub, the HTML representation is unable to render, please try loading this page with nbviewer.org.</b></div><div class=\"sk-container\" hidden><div class=\"sk-item\"><div class=\"sk-estimator sk-toggleable\"><input class=\"sk-toggleable__control sk-hidden--visually\" id=\"sk-estimator-id-1\" type=\"checkbox\" checked><label for=\"sk-estimator-id-1\" class=\"sk-toggleable__label sk-toggleable__label-arrow\">LinearRegression</label><div class=\"sk-toggleable__content\"><pre>LinearRegression()</pre></div></div></div></div></div>"
     },
     "execution_count": 22,
     "metadata": {},
     "output_type": "execute_result"
    }
   ],
   "source": [
    "model.fit(X_train,y_train)"
   ]
  },
  {
   "cell_type": "markdown",
   "metadata": {
    "id": "Ckk7oYv3z611"
   },
   "source": [
    "\n",
    "-----\n",
    "\n",
    "## Оценка работы модели на тестовых данных"
   ]
  },
  {
   "cell_type": "markdown",
   "source": [
    "### **[Задание 2]**\n",
    "\n",
    "Постройте предсказание модели на тестовых данных. Результат сохраните в переменную `test_predictions`.\n"
   ],
   "metadata": {
    "id": "3I9qPBnB3TBH"
   }
  },
  {
   "cell_type": "code",
   "execution_count": 23,
   "metadata": {
    "id": "k7-_CAxyz612",
    "ExecuteTime": {
     "end_time": "2023-12-07T16:23:33.433890Z",
     "start_time": "2023-12-07T16:23:33.408803Z"
    }
   },
   "outputs": [],
   "source": [
    "test_predictions = model.predict(X_test)"
   ]
  },
  {
   "cell_type": "markdown",
   "source": [
    "### **[Задание 2]**\n",
    "\n",
    "Вычислите метрику MAE.\n"
   ],
   "metadata": {
    "id": "neCVMoCH3Ki7"
   }
  },
  {
   "cell_type": "code",
   "execution_count": 24,
   "metadata": {
    "id": "vKCGCK9hz613",
    "ExecuteTime": {
     "end_time": "2023-12-07T16:23:35.762587Z",
     "start_time": "2023-12-07T16:23:35.739713Z"
    }
   },
   "outputs": [],
   "source": [
    "from sklearn.metrics import mean_absolute_error,mean_squared_error"
   ]
  },
  {
   "cell_type": "code",
   "execution_count": 25,
   "metadata": {
    "id": "vt4R9EXbz613",
    "ExecuteTime": {
     "end_time": "2023-12-07T16:23:38.532114Z",
     "start_time": "2023-12-07T16:23:38.506692Z"
    }
   },
   "outputs": [
    {
     "data": {
      "text/plain": "0.48967980448035126"
     },
     "execution_count": 25,
     "metadata": {},
     "output_type": "execute_result"
    }
   ],
   "source": [
    "MAE = mean_absolute_error(y_test,test_predictions)\n",
    "MAE"
   ]
  },
  {
   "cell_type": "markdown",
   "source": [],
   "metadata": {
    "collapsed": false
   }
  },
  {
   "cell_type": "markdown",
   "source": [
    "### **[Задание 3]**\n",
    "\n",
    "Вычислите метрику MSE."
   ],
   "metadata": {
    "id": "sJTqPc7q4UzV"
   }
  },
  {
   "cell_type": "code",
   "source": [
    "MSE = mean_squared_error(y_test, test_predictions)"
   ],
   "metadata": {
    "id": "UCK4dB1T4Uac",
    "ExecuteTime": {
     "end_time": "2023-12-07T16:23:43.044063Z",
     "start_time": "2023-12-07T16:23:43.019421Z"
    }
   },
   "execution_count": 26,
   "outputs": []
  },
  {
   "cell_type": "code",
   "source": [
    "MSE"
   ],
   "metadata": {
    "id": "2tV4Qoy24Kf3",
    "ExecuteTime": {
     "end_time": "2023-12-07T16:23:44.724246Z",
     "start_time": "2023-12-07T16:23:44.695562Z"
    }
   },
   "execution_count": 27,
   "outputs": [
    {
     "data": {
      "text/plain": "0.4417505510403334"
     },
     "execution_count": 27,
     "metadata": {},
     "output_type": "execute_result"
    }
   ]
  },
  {
   "cell_type": "markdown",
   "source": [
    "### **[Задание 4]**\n",
    "\n",
    "Вычислите метрику RMSE."
   ],
   "metadata": {
    "id": "JoDd6EZo4ekC"
   }
  },
  {
   "cell_type": "code",
   "source": [
    "RMSE = np.sqrt(MSE)\n",
    "RMSE"
   ],
   "metadata": {
    "id": "pBk2YCSQ4Mod",
    "ExecuteTime": {
     "end_time": "2023-12-07T16:23:49.352248Z",
     "start_time": "2023-12-07T16:23:49.321210Z"
    }
   },
   "execution_count": 28,
   "outputs": [
    {
     "data": {
      "text/plain": "0.6646431757268959"
     },
     "execution_count": 28,
     "metadata": {},
     "output_type": "execute_result"
    }
   ]
  },
  {
   "cell_type": "markdown",
   "metadata": {
    "id": "7Ud5NntOz615"
   },
   "source": [
    "### Сравнение с простой линейной регрессией\n",
    "\n",
    "**Результаты на тестовом наборе данных (замечание: для правильного сравнения следует использовать одно и то же разбиение данных на обучающую и тестовую выборки!)**\n",
    "\n",
    "* Простая линейная регрессия:\n",
    "    * MAE: 1.213\n",
    "    * RMSE: 1.516\n",
    "\n",
    "* Полиномиальная регрессия 2й степени:\n",
    "    * MAE: 0.4896\n",
    "    * RMSE: 0.664"
   ]
  },
  {
   "cell_type": "markdown",
   "source": [
    "### **[Задание 5]**\n",
    "\n",
    "Какая модель лучше? Почему?"
   ],
   "metadata": {
    "id": "o1-Q5Th-5TNu"
   }
  },
  {
   "cell_type": "code",
   "source": [],
   "metadata": {
    "id": "v0IhONRJ-8fa"
   },
   "execution_count": null,
   "outputs": []
  },
  {
   "cell_type": "markdown",
   "metadata": {
    "id": "NLCwHXFmz616"
   },
   "source": [
    "---\n",
    "\n",
    "## Выбор модели\n",
    "\n",
    "### Подбор параметров\n",
    "\n",
    "Когда мы выбираем модель машинного обучения, нам важно понять, насколько точно она предсказывает результаты. Мы можем рассмотреть использование более высокой степени полинома, чтобы улучшить качество предсказаний. Но при этом возникает риск, что большие значения степени могут привести к переобучению модели (overfitting). Чтобы исследовать эту проблему, можно последовательно рассмотреть разные степени полиномов и оценить ошибки предсказания.\n",
    "\n",
    "Давайте используем цикл `for` для выполнения следующих шагов:\n",
    "\n",
    "1. Создадим полиномиальные данные определенной степени для набора X.\n",
    "2. Разделим полиномиальные данные на обучающую и тестовую выборки.\n",
    "3. Обучим модель на обучающем наборе данных.\n",
    "4. Рассчитаем метрики для обучающей и тестовой выборок.\n",
    "5. Визуализируем эти данные на графике, чтобы пронаблюдать момент переобучения модели."
   ]
  },
  {
   "cell_type": "markdown",
   "source": [
    "### **[Задание 6]**\n",
    "\n",
    "Выполните данные шаги и подберите значение степени полинома при котором происходит переобучение. Отрисуйте графики для полученных значений."
   ],
   "metadata": {
    "id": "pDfi0h4D5p7f"
   }
  },
  {
   "cell_type": "code",
   "execution_count": 29,
   "metadata": {
    "id": "krIN2_Yxz616",
    "ExecuteTime": {
     "end_time": "2023-12-07T16:24:01.190510Z",
     "start_time": "2023-12-07T16:23:59.677361Z"
    }
   },
   "outputs": [],
   "source": [
    "# Ошибка на обучающем наборе для той или иной степени полинома\n",
    "train_rmse_errors = []\n",
    "# Ошибка на тестовом наборе для той или иной степени полинома\n",
    "test_rmse_errors = []\n",
    "\n",
    "for d in range(1,10):\n",
    "\n",
    "    # Создаём полиномиальные данные для степени \"d\"\n",
    "    polynomial_converter = PolynomialFeatures(degree=d,include_bias=False)\n",
    "    poly_features = polynomial_converter.fit_transform(X)\n",
    "\n",
    "    # Разбиваем эти новые полиномиальные данные на обучающий и тестовый наборы данных\n",
    "    X_train, X_test, y_train, y_test = train_test_split(poly_features, y, test_size=0.3, random_state=101)\n",
    "\n",
    "    # Обучаем модель на этом новом наборе полиномиальных данных\n",
    "    model = LinearRegression(fit_intercept=True)\n",
    "    model.fit(X_train,y_train)\n",
    "\n",
    "    # Выполняем предсказание и на обучающем, и на тестовом наборе данных\n",
    "    train_pred = model.predict(X_train)\n",
    "    test_pred = model.predict(X_test)\n",
    "\n",
    "    # Вычисляем ошибки\n",
    "\n",
    "    # Ошибки на обучающем наборе данных\n",
    "    train_RMSE = np.sqrt(mean_squared_error(y_train,train_pred))\n",
    "\n",
    "    # Ошибки на тестовом наборе данных\n",
    "    test_RMSE = np.sqrt(mean_squared_error(y_test,test_pred))\n",
    "\n",
    "    # Добавляем ошибки в список для последующего нанесения на график\n",
    "\n",
    "    train_rmse_errors.append(train_RMSE)\n",
    "    test_rmse_errors.append(test_RMSE)"
   ]
  },
  {
   "cell_type": "markdown",
   "source": [
    "Отрисуем значения ошибок"
   ],
   "metadata": {
    "id": "M-TI4K1s51Kd"
   }
  },
  {
   "cell_type": "code",
   "execution_count": 30,
   "metadata": {
    "colab": {
     "base_uri": "https://localhost:8080/",
     "height": 466
    },
    "id": "0-6grg6Cz617",
    "executionInfo": {
     "status": "ok",
     "timestamp": 1690139913475,
     "user_tz": -180,
     "elapsed": 498,
     "user": {
      "displayName": "Катерина Зайцева",
      "userId": "13243922588902490503"
     }
    },
    "outputId": "8a539494-0430-483e-f6c8-0ec27324ecf9",
    "ExecuteTime": {
     "end_time": "2023-12-07T16:24:03.752014Z",
     "start_time": "2023-12-07T16:24:03.585784Z"
    }
   },
   "outputs": [
    {
     "data": {
      "text/plain": "<matplotlib.legend.Legend at 0x28781b040>"
     },
     "execution_count": 30,
     "metadata": {},
     "output_type": "execute_result"
    },
    {
     "data": {
      "text/plain": "<Figure size 640x480 with 1 Axes>",
      "image/png": "[encoded data removed]"
     },
     "metadata": {},
     "output_type": "display_data"
    }
   ],
   "source": [
    "plt.plot(range(1,6),train_rmse_errors[:5],label='TRAIN')\n",
    "plt.plot(range(1,6),test_rmse_errors[:5],label='TEST')\n",
    "plt.xlabel(\"Polynomial Complexity\")\n",
    "plt.ylabel(\"RMSE\")\n",
    "plt.legend()"
   ]
  },
  {
   "cell_type": "code",
   "execution_count": 31,
   "metadata": {
    "colab": {
     "base_uri": "https://localhost:8080/",
     "height": 466
    },
    "id": "A0YbOyOgz617",
    "executionInfo": {
     "status": "ok",
     "timestamp": 1690139913823,
     "user_tz": -180,
     "elapsed": 361,
     "user": {
      "displayName": "Катерина Зайцева",
      "userId": "13243922588902490503"
     }
    },
    "outputId": "cc432f1d-ca76-478f-803d-2d0956aab05f",
    "ExecuteTime": {
     "end_time": "2023-12-07T16:24:07.591581Z",
     "start_time": "2023-12-07T16:24:07.471515Z"
    }
   },
   "outputs": [
    {
     "data": {
      "text/plain": "<matplotlib.legend.Legend at 0x287983820>"
     },
     "execution_count": 31,
     "metadata": {},
     "output_type": "execute_result"
    },
    {
     "data": {
      "text/plain": "<Figure size 640x480 with 1 Axes>",
      "image/png": "[encoded data removed]"
     },
     "metadata": {},
     "output_type": "display_data"
    }
   ],
   "source": [
    "plt.plot(range(1,10),train_rmse_errors,label='TRAIN')\n",
    "plt.plot(range(1,10),test_rmse_errors,label='TEST')\n",
    "plt.xlabel(\"Polynomial Complexity\")\n",
    "plt.ylabel(\"RMSE\")\n",
    "plt.legend()"
   ]
  },
  {
   "cell_type": "code",
   "execution_count": 32,
   "metadata": {
    "colab": {
     "base_uri": "https://localhost:8080/",
     "height": 472
    },
    "id": "5BAUe4H6z617",
    "executionInfo": {
     "status": "ok",
     "timestamp": 1690139914189,
     "user_tz": -180,
     "elapsed": 368,
     "user": {
      "displayName": "Катерина Зайцева",
      "userId": "13243922588902490503"
     }
    },
    "outputId": "4c35ec59-485c-4c1b-c572-b1e39fd124a3",
    "ExecuteTime": {
     "end_time": "2023-12-07T16:24:10.876266Z",
     "start_time": "2023-12-07T16:24:10.748416Z"
    }
   },
   "outputs": [
    {
     "data": {
      "text/plain": "<matplotlib.legend.Legend at 0x28797aca0>"
     },
     "execution_count": 32,
     "metadata": {},
     "output_type": "execute_result"
    },
    {
     "data": {
      "text/plain": "<Figure size 640x480 with 1 Axes>",
      "image/png": "[encoded data removed]"
     },
     "metadata": {},
     "output_type": "display_data"
    }
   ],
   "source": [
    "plt.plot(range(1,10),train_rmse_errors,label='TRAIN')\n",
    "plt.plot(range(1,10),test_rmse_errors,label='TEST')\n",
    "plt.xlabel(\"Polynomial Complexity\")\n",
    "plt.ylabel(\"RMSE\")\n",
    "plt.ylim(0,100)\n",
    "plt.legend()"
   ]
  },
  {
   "cell_type": "markdown",
   "metadata": {
    "id": "y1DPHF6Iz618"
   },
   "source": [
    "## Финальный выбор модели\n",
    "\n",
    "Чтобы выбрать модель, необходимо сохранить две вещи: объект, создающий полиномиальные признаки, и саму модель. Дальнейшие шаги будут следующими:\n",
    "\n",
    "1. Выбираем окончательные значения параметров, основываясь на тестовых метриках.\n",
    "2. Повторно обучаем модель на всех данных.\n",
    "3. Сохраняем объект Polynomial Converter.\n",
    "4. Сохраняем модель."
   ]
  },
  {
   "cell_type": "markdown",
   "source": [
    "Начнем поэтапно выбирать модель."
   ],
   "metadata": {
    "id": "I24yWepbseM8"
   }
  },
  {
   "cell_type": "code",
   "execution_count": 33,
   "metadata": {
    "id": "SyvwlBM6z618",
    "ExecuteTime": {
     "end_time": "2023-12-07T16:24:14.985763Z",
     "start_time": "2023-12-07T16:24:14.961191Z"
    }
   },
   "outputs": [],
   "source": [
    "# На нашем графике видно, что мы могли бы выбрать и значение degree=4, однако\n",
    "# безопаснее взять чуть меньшую степень сложности\n",
    "final_poly_converter = PolynomialFeatures(degree=3,include_bias=False)"
   ]
  },
  {
   "cell_type": "code",
   "execution_count": 34,
   "metadata": {
    "id": "Qf-Lr3W7z618",
    "ExecuteTime": {
     "end_time": "2023-12-07T16:24:18.239324Z",
     "start_time": "2023-12-07T16:24:18.211818Z"
    }
   },
   "outputs": [],
   "source": [
    "final_model = LinearRegression()"
   ]
  },
  {
   "cell_type": "code",
   "execution_count": 35,
   "metadata": {
    "colab": {
     "base_uri": "https://localhost:8080/",
     "height": 74
    },
    "id": "mY6YsYBXz618",
    "executionInfo": {
     "status": "ok",
     "timestamp": 1690139914190,
     "user_tz": -180,
     "elapsed": 16,
     "user": {
      "displayName": "Катерина Зайцева",
      "userId": "13243922588902490503"
     }
    },
    "outputId": "c6fd63e4-33ef-473b-d1f3-9c4da3d29c1c",
    "ExecuteTime": {
     "end_time": "2023-12-07T16:24:19.780937Z",
     "start_time": "2023-12-07T16:24:19.754835Z"
    }
   },
   "outputs": [
    {
     "data": {
      "text/plain": "LinearRegression()",
      "text/html": "<style>#sk-container-id-2 {color: black;}#sk-container-id-2 pre{padding: 0;}#sk-container-id-2 div.sk-toggleable {background-color: white;}#sk-container-id-2 label.sk-toggleable__label {cursor: pointer;display: block;width: 100%;margin-bottom: 0;padding: 0.3em;box-sizing: border-box;text-align: center;}#sk-container-id-2 label.sk-toggleable__label-arrow:before {content: \"▸\";float: left;margin-right: 0.25em;color: #696969;}#sk-container-id-2 label.sk-toggleable__label-arrow:hover:before {color: black;}#sk-container-id-2 div.sk-estimator:hover label.sk-toggleable__label-arrow:before {color: black;}#sk-container-id-2 div.sk-toggleable__content {max-height: 0;max-width: 0;overflow: hidden;text-align: left;background-color: #f0f8ff;}#sk-container-id-2 div.sk-toggleable__content pre {margin: 0.2em;color: black;border-radius: 0.25em;background-color: #f0f8ff;}#sk-container-id-2 input.sk-toggleable__control:checked~div.sk-toggleable__content {max-height: 200px;max-width: 100%;overflow: auto;}#sk-container-id-2 input.sk-toggleable__control:checked~label.sk-toggleable__label-arrow:before {content: \"▾\";}#sk-container-id-2 div.sk-estimator input.sk-toggleable__control:checked~label.sk-toggleable__label {background-color: #d4ebff;}#sk-container-id-2 div.sk-label input.sk-toggleable__control:checked~label.sk-toggleable__label {background-color: #d4ebff;}#sk-container-id-2 input.sk-hidden--visually {border: 0;clip: rect(1px 1px 1px 1px);clip: rect(1px, 1px, 1px, 1px);height: 1px;margin: -1px;overflow: hidden;padding: 0;position: absolute;width: 1px;}#sk-container-id-2 div.sk-estimator {font-family: monospace;background-color: #f0f8ff;border: 1px dotted black;border-radius: 0.25em;box-sizing: border-box;margin-bottom: 0.5em;}#sk-container-id-2 div.sk-estimator:hover {background-color: #d4ebff;}#sk-container-id-2 div.sk-parallel-item::after {content: \"\";width: 100%;border-bottom: 1px solid gray;flex-grow: 1;}#sk-container-id-2 div.sk-label:hover label.sk-toggleable__label {background-color: #d4ebff;}#sk-container-id-2 div.sk-serial::before {content: \"\";position: absolute;border-left: 1px solid gray;box-sizing: border-box;top: 0;bottom: 0;left: 50%;z-index: 0;}#sk-container-id-2 div.sk-serial {display: flex;flex-direction: column;align-items: center;background-color: white;padding-right: 0.2em;padding-left: 0.2em;position: relative;}#sk-container-id-2 div.sk-item {position: relative;z-index: 1;}#sk-container-id-2 div.sk-parallel {display: flex;align-items: stretch;justify-content: center;background-color: white;position: relative;}#sk-container-id-2 div.sk-item::before, #sk-container-id-2 div.sk-parallel-item::before {content: \"\";position: absolute;border-left: 1px solid gray;box-sizing: border-box;top: 0;bottom: 0;left: 50%;z-index: -1;}#sk-container-id-2 div.sk-parallel-item {display: flex;flex-direction: column;z-index: 1;position: relative;background-color: white;}#sk-container-id-2 div.sk-parallel-item:first-child::after {align-self: flex-end;width: 50%;}#sk-container-id-2 div.sk-parallel-item:last-child::after {align-self: flex-start;width: 50%;}#sk-container-id-2 div.sk-parallel-item:only-child::after {width: 0;}#sk-container-id-2 div.sk-dashed-wrapped {border: 1px dashed gray;margin: 0 0.4em 0.5em 0.4em;box-sizing: border-box;padding-bottom: 0.4em;background-color: white;}#sk-container-id-2 div.sk-label label {font-family: monospace;font-weight: bold;display: inline-block;line-height: 1.2em;}#sk-container-id-2 div.sk-label-container {text-align: center;}#sk-container-id-2 div.sk-container {/* jupyter's `normalize.less` sets `[hidden] { display: none; }` but bootstrap.min.css set `[hidden] { display: none !important; }` so we also need the `!important` here to be able to override the default hidden behavior on the sphinx rendered scikit-learn.org. See: https://github.com/scikit-learn/scikit-learn/issues/21755 */display: inline-block !important;position: relative;}#sk-container-id-2 div.sk-text-repr-fallback {display: none;}</style><div id=\"sk-container-id-2\" class=\"sk-top-container\"><div class=\"sk-text-repr-fallback\"><pre>LinearRegression()</pre><b>In a Jupyter environment, please rerun this cell to show the HTML representation or trust the notebook. <br />On GitHub, the HTML representation is unable to render, please try loading this page with nbviewer.org.</b></div><div class=\"sk-container\" hidden><div class=\"sk-item\"><div class=\"sk-estimator sk-toggleable\"><input class=\"sk-toggleable__control sk-hidden--visually\" id=\"sk-estimator-id-2\" type=\"checkbox\" checked><label for=\"sk-estimator-id-2\" class=\"sk-toggleable__label sk-toggleable__label-arrow\">LinearRegression</label><div class=\"sk-toggleable__content\"><pre>LinearRegression()</pre></div></div></div></div></div>"
     },
     "execution_count": 35,
     "metadata": {},
     "output_type": "execute_result"
    }
   ],
   "source": [
    "final_model.fit(final_poly_converter.fit_transform(X),y)"
   ]
  },
  {
   "cell_type": "markdown",
   "metadata": {
    "id": "rsy3o99nz618"
   },
   "source": [
    "### Сохраняем модель и объект converter\n",
    "\n"
   ]
  },
  {
   "cell_type": "code",
   "execution_count": 36,
   "metadata": {
    "id": "cI_g4c4gz619",
    "ExecuteTime": {
     "end_time": "2023-12-07T16:24:22.799168Z",
     "start_time": "2023-12-07T16:24:22.773568Z"
    }
   },
   "outputs": [],
   "source": [
    "from joblib import dump, load"
   ]
  },
  {
   "cell_type": "markdown",
   "source": [
    "### **[Задание 7]**\n",
    "\n",
    "Экспортируйте модель `final_model` и `final_poly_converter`. Результаты сохраните в файлы `sales_poly_model.joblib` и `poly_converter.joblib`.\n",
    "\n",
    "\n",
    "\n"
   ],
   "metadata": {
    "id": "RkxhvZUm7sRT"
   }
  },
  {
   "cell_type": "code",
   "execution_count": 37,
   "metadata": {
    "id": "_z_i8yJfz619",
    "ExecuteTime": {
     "end_time": "2023-12-07T16:24:30.161111Z",
     "start_time": "2023-12-07T16:24:30.138322Z"
    }
   },
   "outputs": [
    {
     "data": {
      "text/plain": "['poly_converter.joblib']"
     },
     "execution_count": 37,
     "metadata": {},
     "output_type": "execute_result"
    }
   ],
   "source": [
    "dump(final_model, 'sales_poly_model.joblib')\n",
    "dump(final_poly_converter, 'poly_converter.joblib')"
   ]
  },
  {
   "cell_type": "markdown",
   "metadata": {
    "id": "DKaGYEK4z619"
   },
   "source": [
    "## Внедрение модели и предсказания"
   ]
  },
  {
   "cell_type": "markdown",
   "metadata": {
    "id": "VLKLiadVz619"
   },
   "source": [
    "### Предсказания на новых данных\n",
    "\n",
    "Вспомните, что нам нужно **сконвертировать** новые входящие данные в полиномиальные данные, поскольку именно на таких данных мы обучали нашу модель. Мы можем загрузить ранее сохранённый объект converter и просто вызвать метод **`.transform()`** на новых данных, поскольку нам не нужно выполнять обучение на новых данных.\n",
    "\n",
    "Попробуем ответить на следующий вопрос:\n",
    "**В нашей следующей рекламной кампании мы планируем потратить 149k на рекламу на ТВ, 22k на рекламу по радио и 12k на рекламу в газетах. Сколько единиц товара мы ожидаем продать в результате такой рекламы?**"
   ]
  },
  {
   "cell_type": "markdown",
   "source": [
    "### **[Задание 8]**\n",
    "\n",
    "Экспортируйте модель `sales_poly_model.joblib` и `poly_converter.joblib` в переменные `loaded_poly` и `loaded_model`.\n",
    "\n",
    "\n",
    "\n"
   ],
   "metadata": {
    "id": "spEmJqyhCREK"
   }
  },
  {
   "cell_type": "code",
   "execution_count": 38,
   "metadata": {
    "id": "JB8XIehZz619",
    "ExecuteTime": {
     "end_time": "2023-12-07T16:24:34.895825Z",
     "start_time": "2023-12-07T16:24:34.863543Z"
    }
   },
   "outputs": [
    {
     "data": {
      "text/plain": "LinearRegression()",
      "text/html": "<style>#sk-container-id-3 {color: black;}#sk-container-id-3 pre{padding: 0;}#sk-container-id-3 div.sk-toggleable {background-color: white;}#sk-container-id-3 label.sk-toggleable__label {cursor: pointer;display: block;width: 100%;margin-bottom: 0;padding: 0.3em;box-sizing: border-box;text-align: center;}#sk-container-id-3 label.sk-toggleable__label-arrow:before {content: \"▸\";float: left;margin-right: 0.25em;color: #696969;}#sk-container-id-3 label.sk-toggleable__label-arrow:hover:before {color: black;}#sk-container-id-3 div.sk-estimator:hover label.sk-toggleable__label-arrow:before {color: black;}#sk-container-id-3 div.sk-toggleable__content {max-height: 0;max-width: 0;overflow: hidden;text-align: left;background-color: #f0f8ff;}#sk-container-id-3 div.sk-toggleable__content pre {margin: 0.2em;color: black;border-radius: 0.25em;background-color: #f0f8ff;}#sk-container-id-3 input.sk-toggleable__control:checked~div.sk-toggleable__content {max-height: 200px;max-width: 100%;overflow: auto;}#sk-container-id-3 input.sk-toggleable__control:checked~label.sk-toggleable__label-arrow:before {content: \"▾\";}#sk-container-id-3 div.sk-estimator input.sk-toggleable__control:checked~label.sk-toggleable__label {background-color: #d4ebff;}#sk-container-id-3 div.sk-label input.sk-toggleable__control:checked~label.sk-toggleable__label {background-color: #d4ebff;}#sk-container-id-3 input.sk-hidden--visually {border: 0;clip: rect(1px 1px 1px 1px);clip: rect(1px, 1px, 1px, 1px);height: 1px;margin: -1px;overflow: hidden;padding: 0;position: absolute;width: 1px;}#sk-container-id-3 div.sk-estimator {font-family: monospace;background-color: #f0f8ff;border: 1px dotted black;border-radius: 0.25em;box-sizing: border-box;margin-bottom: 0.5em;}#sk-container-id-3 div.sk-estimator:hover {background-color: #d4ebff;}#sk-container-id-3 div.sk-parallel-item::after {content: \"\";width: 100%;border-bottom: 1px solid gray;flex-grow: 1;}#sk-container-id-3 div.sk-label:hover label.sk-toggleable__label {background-color: #d4ebff;}#sk-container-id-3 div.sk-serial::before {content: \"\";position: absolute;border-left: 1px solid gray;box-sizing: border-box;top: 0;bottom: 0;left: 50%;z-index: 0;}#sk-container-id-3 div.sk-serial {display: flex;flex-direction: column;align-items: center;background-color: white;padding-right: 0.2em;padding-left: 0.2em;position: relative;}#sk-container-id-3 div.sk-item {position: relative;z-index: 1;}#sk-container-id-3 div.sk-parallel {display: flex;align-items: stretch;justify-content: center;background-color: white;position: relative;}#sk-container-id-3 div.sk-item::before, #sk-container-id-3 div.sk-parallel-item::before {content: \"\";position: absolute;border-left: 1px solid gray;box-sizing: border-box;top: 0;bottom: 0;left: 50%;z-index: -1;}#sk-container-id-3 div.sk-parallel-item {display: flex;flex-direction: column;z-index: 1;position: relative;background-color: white;}#sk-container-id-3 div.sk-parallel-item:first-child::after {align-self: flex-end;width: 50%;}#sk-container-id-3 div.sk-parallel-item:last-child::after {align-self: flex-start;width: 50%;}#sk-container-id-3 div.sk-parallel-item:only-child::after {width: 0;}#sk-container-id-3 div.sk-dashed-wrapped {border: 1px dashed gray;margin: 0 0.4em 0.5em 0.4em;box-sizing: border-box;padding-bottom: 0.4em;background-color: white;}#sk-container-id-3 div.sk-label label {font-family: monospace;font-weight: bold;display: inline-block;line-height: 1.2em;}#sk-container-id-3 div.sk-label-container {text-align: center;}#sk-container-id-3 div.sk-container {/* jupyter's `normalize.less` sets `[hidden] { display: none; }` but bootstrap.min.css set `[hidden] { display: none !important; }` so we also need the `!important` here to be able to override the default hidden behavior on the sphinx rendered scikit-learn.org. See: https://github.com/scikit-learn/scikit-learn/issues/21755 */display: inline-block !important;position: relative;}#sk-container-id-3 div.sk-text-repr-fallback {display: none;}</style><div id=\"sk-container-id-3\" class=\"sk-top-container\"><div class=\"sk-text-repr-fallback\"><pre>LinearRegression()</pre><b>In a Jupyter environment, please rerun this cell to show the HTML representation or trust the notebook. <br />On GitHub, the HTML representation is unable to render, please try loading this page with nbviewer.org.</b></div><div class=\"sk-container\" hidden><div class=\"sk-item\"><div class=\"sk-estimator sk-toggleable\"><input class=\"sk-toggleable__control sk-hidden--visually\" id=\"sk-estimator-id-3\" type=\"checkbox\" checked><label for=\"sk-estimator-id-3\" class=\"sk-toggleable__label sk-toggleable__label-arrow\">LinearRegression</label><div class=\"sk-toggleable__content\"><pre>LinearRegression()</pre></div></div></div></div></div>"
     },
     "execution_count": 38,
     "metadata": {},
     "output_type": "execute_result"
    }
   ],
   "source": [
    "loaded_model = load('sales_poly_model.joblib')\n",
    "loaded_model"
   ]
  },
  {
   "cell_type": "code",
   "execution_count": 39,
   "outputs": [
    {
     "data": {
      "text/plain": "PolynomialFeatures(degree=3, include_bias=False)",
      "text/html": "<style>#sk-container-id-4 {color: black;}#sk-container-id-4 pre{padding: 0;}#sk-container-id-4 div.sk-toggleable {background-color: white;}#sk-container-id-4 label.sk-toggleable__label {cursor: pointer;display: block;width: 100%;margin-bottom: 0;padding: 0.3em;box-sizing: border-box;text-align: center;}#sk-container-id-4 label.sk-toggleable__label-arrow:before {content: \"▸\";float: left;margin-right: 0.25em;color: #696969;}#sk-container-id-4 label.sk-toggleable__label-arrow:hover:before {color: black;}#sk-container-id-4 div.sk-estimator:hover label.sk-toggleable__label-arrow:before {color: black;}#sk-container-id-4 div.sk-toggleable__content {max-height: 0;max-width: 0;overflow: hidden;text-align: left;background-color: #f0f8ff;}#sk-container-id-4 div.sk-toggleable__content pre {margin: 0.2em;color: black;border-radius: 0.25em;background-color: #f0f8ff;}#sk-container-id-4 input.sk-toggleable__control:checked~div.sk-toggleable__content {max-height: 200px;max-width: 100%;overflow: auto;}#sk-container-id-4 input.sk-toggleable__control:checked~label.sk-toggleable__label-arrow:before {content: \"▾\";}#sk-container-id-4 div.sk-estimator input.sk-toggleable__control:checked~label.sk-toggleable__label {background-color: #d4ebff;}#sk-container-id-4 div.sk-label input.sk-toggleable__control:checked~label.sk-toggleable__label {background-color: #d4ebff;}#sk-container-id-4 input.sk-hidden--visually {border: 0;clip: rect(1px 1px 1px 1px);clip: rect(1px, 1px, 1px, 1px);height: 1px;margin: -1px;overflow: hidden;padding: 0;position: absolute;width: 1px;}#sk-container-id-4 div.sk-estimator {font-family: monospace;background-color: #f0f8ff;border: 1px dotted black;border-radius: 0.25em;box-sizing: border-box;margin-bottom: 0.5em;}#sk-container-id-4 div.sk-estimator:hover {background-color: #d4ebff;}#sk-container-id-4 div.sk-parallel-item::after {content: \"\";width: 100%;border-bottom: 1px solid gray;flex-grow: 1;}#sk-container-id-4 div.sk-label:hover label.sk-toggleable__label {background-color: #d4ebff;}#sk-container-id-4 div.sk-serial::before {content: \"\";position: absolute;border-left: 1px solid gray;box-sizing: border-box;top: 0;bottom: 0;left: 50%;z-index: 0;}#sk-container-id-4 div.sk-serial {display: flex;flex-direction: column;align-items: center;background-color: white;padding-right: 0.2em;padding-left: 0.2em;position: relative;}#sk-container-id-4 div.sk-item {position: relative;z-index: 1;}#sk-container-id-4 div.sk-parallel {display: flex;align-items: stretch;justify-content: center;background-color: white;position: relative;}#sk-container-id-4 div.sk-item::before, #sk-container-id-4 div.sk-parallel-item::before {content: \"\";position: absolute;border-left: 1px solid gray;box-sizing: border-box;top: 0;bottom: 0;left: 50%;z-index: -1;}#sk-container-id-4 div.sk-parallel-item {display: flex;flex-direction: column;z-index: 1;position: relative;background-color: white;}#sk-container-id-4 div.sk-parallel-item:first-child::after {align-self: flex-end;width: 50%;}#sk-container-id-4 div.sk-parallel-item:last-child::after {align-self: flex-start;width: 50%;}#sk-container-id-4 div.sk-parallel-item:only-child::after {width: 0;}#sk-container-id-4 div.sk-dashed-wrapped {border: 1px dashed gray;margin: 0 0.4em 0.5em 0.4em;box-sizing: border-box;padding-bottom: 0.4em;background-color: white;}#sk-container-id-4 div.sk-label label {font-family: monospace;font-weight: bold;display: inline-block;line-height: 1.2em;}#sk-container-id-4 div.sk-label-container {text-align: center;}#sk-container-id-4 div.sk-container {/* jupyter's `normalize.less` sets `[hidden] { display: none; }` but bootstrap.min.css set `[hidden] { display: none !important; }` so we also need the `!important` here to be able to override the default hidden behavior on the sphinx rendered scikit-learn.org. See: https://github.com/scikit-learn/scikit-learn/issues/21755 */display: inline-block !important;position: relative;}#sk-container-id-4 div.sk-text-repr-fallback {display: none;}</style><div id=\"sk-container-id-4\" class=\"sk-top-container\"><div class=\"sk-text-repr-fallback\"><pre>PolynomialFeatures(degree=3, include_bias=False)</pre><b>In a Jupyter environment, please rerun this cell to show the HTML representation or trust the notebook. <br />On GitHub, the HTML representation is unable to render, please try loading this page with nbviewer.org.</b></div><div class=\"sk-container\" hidden><div class=\"sk-item\"><div class=\"sk-estimator sk-toggleable\"><input class=\"sk-toggleable__control sk-hidden--visually\" id=\"sk-estimator-id-4\" type=\"checkbox\" checked><label for=\"sk-estimator-id-4\" class=\"sk-toggleable__label sk-toggleable__label-arrow\">PolynomialFeatures</label><div class=\"sk-toggleable__content\"><pre>PolynomialFeatures(degree=3, include_bias=False)</pre></div></div></div></div></div>"
     },
     "execution_count": 39,
     "metadata": {},
     "output_type": "execute_result"
    }
   ],
   "source": [
    "loaded_poly = load('poly_converter.joblib')\n",
    "loaded_poly"
   ],
   "metadata": {
    "collapsed": false,
    "ExecuteTime": {
     "end_time": "2023-12-07T16:24:37.196273Z",
     "start_time": "2023-12-07T16:24:37.170295Z"
    }
   }
  },
  {
   "cell_type": "markdown",
   "source": [
    "Теперь протестируем наши загруженные модели:"
   ],
   "metadata": {
    "id": "rjmIRtxBCssU"
   }
  },
  {
   "cell_type": "code",
   "execution_count": 40,
   "metadata": {
    "id": "YaeI6s1Wz61-",
    "ExecuteTime": {
     "end_time": "2023-12-07T16:24:40.500073Z",
     "start_time": "2023-12-07T16:24:40.473859Z"
    }
   },
   "outputs": [],
   "source": [
    "campaign = [[149,22,12]]"
   ]
  },
  {
   "cell_type": "code",
   "execution_count": 41,
   "metadata": {
    "colab": {
     "base_uri": "https://localhost:8080/"
    },
    "id": "KKu5tURYz61-",
    "executionInfo": {
     "status": "ok",
     "timestamp": 1690139914580,
     "user_tz": -180,
     "elapsed": 64,
     "user": {
      "displayName": "Катерина Зайцева",
      "userId": "13243922588902490503"
     }
    },
    "outputId": "0d631764-a390-4a8d-de72-97c171de8d0f",
    "ExecuteTime": {
     "end_time": "2023-12-07T16:24:42.003028Z",
     "start_time": "2023-12-07T16:24:41.980150Z"
    }
   },
   "outputs": [
    {
     "name": "stderr",
     "output_type": "stream",
     "text": [
      "/Library/Python/3.9/site-packages/sklearn/base.py:465: UserWarning: X does not have valid feature names, but PolynomialFeatures was fitted with feature names\n",
      "  warnings.warn(\n"
     ]
    }
   ],
   "source": [
    "campaign_poly = loaded_poly.transform(campaign)"
   ]
  },
  {
   "cell_type": "code",
   "execution_count": 42,
   "metadata": {
    "colab": {
     "base_uri": "https://localhost:8080/"
    },
    "id": "6TnvzqJ8z61-",
    "executionInfo": {
     "status": "ok",
     "timestamp": 1690139914581,
     "user_tz": -180,
     "elapsed": 54,
     "user": {
      "displayName": "Катерина Зайцева",
      "userId": "13243922588902490503"
     }
    },
    "outputId": "14407d94-0db6-4311-a28a-a6117998b713",
    "ExecuteTime": {
     "end_time": "2023-12-07T16:24:45.445733Z",
     "start_time": "2023-12-07T16:24:45.412772Z"
    }
   },
   "outputs": [
    {
     "data": {
      "text/plain": "array([[1.490000e+02, 2.200000e+01, 1.200000e+01, 2.220100e+04,\n        3.278000e+03, 1.788000e+03, 4.840000e+02, 2.640000e+02,\n        1.440000e+02, 3.307949e+06, 4.884220e+05, 2.664120e+05,\n        7.211600e+04, 3.933600e+04, 2.145600e+04, 1.064800e+04,\n        5.808000e+03, 3.168000e+03, 1.728000e+03]])"
     },
     "execution_count": 42,
     "metadata": {},
     "output_type": "execute_result"
    }
   ],
   "source": [
    "campaign_poly"
   ]
  },
  {
   "cell_type": "code",
   "execution_count": 43,
   "metadata": {
    "colab": {
     "base_uri": "https://localhost:8080/"
    },
    "id": "wGdPP66Rz61-",
    "executionInfo": {
     "status": "ok",
     "timestamp": 1690139914581,
     "user_tz": -180,
     "elapsed": 44,
     "user": {
      "displayName": "Катерина Зайцева",
      "userId": "13243922588902490503"
     }
    },
    "outputId": "a4720840-ee44-40f9-d4c7-69bec83abd83",
    "ExecuteTime": {
     "end_time": "2023-12-07T16:24:48.170032Z",
     "start_time": "2023-12-07T16:24:48.129938Z"
    }
   },
   "outputs": [
    {
     "data": {
      "text/plain": "array([14.64501014])"
     },
     "execution_count": 43,
     "metadata": {},
     "output_type": "execute_result"
    }
   ],
   "source": [
    "final_model.predict(campaign_poly)"
   ]
  },
  {
   "cell_type": "markdown",
   "metadata": {
    "id": "6AivCMy9z61_"
   },
   "source": [
    "# Регуляризация в SciKit-Learn\n",
    "\n",
    "Ранее мы создали набор полиномиальных признаков и применили к ним линейную регрессию. Однако, чтобы улучшить модель, мы можем использовать **регуляризацию**.\n",
    "\n",
    "Регуляризация направлена на минимизацию метрики \"сумма квадратов остатков\" (RSS, residual sum of squares) и \"функции штрафа\". Функция штрафа стремится \"наказывать\" модели с очень большими коэффициентами. Некоторые методы регуляризации приводят к тому, что некоторые незначимые признаки получают нулевые коэффициенты, то есть модель не будет их использовать.\n",
    "\n",
    "Два метода регуляризации, которые мы рассмотрим — это гребневая регрессия (или ридж-регрессия, Ridge-regression) и регрессия лассо. Мы будем применять их вместе с полиномиальными признаками, так как регуляризация модели не так эффективна на исходном наборе признаков X."
   ]
  },
  {
   "cell_type": "markdown",
   "metadata": {
    "id": "8iWieKfWz61_"
   },
   "source": [
    "## Загрузка данных и подготовительные шаги"
   ]
  },
  {
   "cell_type": "code",
   "execution_count": 44,
   "metadata": {
    "id": "geeZy2iGz61_",
    "ExecuteTime": {
     "end_time": "2023-12-07T16:24:56.265156Z",
     "start_time": "2023-12-07T16:24:56.227811Z"
    }
   },
   "outputs": [],
   "source": [
    "df = pd.read_csv(\"Advertising.csv\")\n",
    "X = df.drop('sales',axis=1)\n",
    "y = df['sales']"
   ]
  },
  {
   "cell_type": "markdown",
   "metadata": {
    "id": "1Cl9P8dNz61_"
   },
   "source": [
    "### Полиномиальная конвертация"
   ]
  },
  {
   "cell_type": "code",
   "execution_count": 45,
   "metadata": {
    "id": "rAXfMJqRz61_",
    "ExecuteTime": {
     "end_time": "2023-12-07T16:24:59.254153Z",
     "start_time": "2023-12-07T16:24:59.228521Z"
    }
   },
   "outputs": [],
   "source": [
    "from sklearn.preprocessing import PolynomialFeatures"
   ]
  },
  {
   "cell_type": "code",
   "execution_count": 46,
   "metadata": {
    "id": "_nTgVulEz61_",
    "ExecuteTime": {
     "end_time": "2023-12-07T16:25:00.872690Z",
     "start_time": "2023-12-07T16:25:00.847436Z"
    }
   },
   "outputs": [],
   "source": [
    "polynomial_converter = PolynomialFeatures(degree=3,include_bias=False)"
   ]
  },
  {
   "cell_type": "code",
   "execution_count": 47,
   "metadata": {
    "id": "neylPrscz62A",
    "ExecuteTime": {
     "end_time": "2023-12-07T16:25:03.681945Z",
     "start_time": "2023-12-07T16:25:03.656548Z"
    }
   },
   "outputs": [],
   "source": [
    "poly_features = polynomial_converter.fit_transform(X)"
   ]
  },
  {
   "cell_type": "markdown",
   "metadata": {
    "id": "eue_6skwz62A"
   },
   "source": [
    "### Разбиение на обучающий и тестовый наборы данных -  Train | Test Split"
   ]
  },
  {
   "cell_type": "code",
   "execution_count": 48,
   "metadata": {
    "id": "wIZnjKdLz62A",
    "ExecuteTime": {
     "end_time": "2023-12-07T16:25:06.675024Z",
     "start_time": "2023-12-07T16:25:06.648651Z"
    }
   },
   "outputs": [],
   "source": [
    "from sklearn.model_selection import train_test_split"
   ]
  },
  {
   "cell_type": "code",
   "execution_count": 49,
   "metadata": {
    "id": "VMKKdIG2z62A",
    "ExecuteTime": {
     "end_time": "2023-12-07T16:25:08.862052Z",
     "start_time": "2023-12-07T16:25:08.830467Z"
    }
   },
   "outputs": [],
   "source": [
    "X_train, X_test, y_train, y_test = train_test_split(poly_features, y, test_size=0.3, random_state=101)"
   ]
  },
  {
   "cell_type": "markdown",
   "metadata": {
    "id": "RVHvgcDhz62A"
   },
   "source": [
    "## Нормализация данных\n",
    "\n",
    "В нашем датасете все признаки имеют одинаковый порядок величины (в $1000 долларов), однако это лишь везение - в других наборах данных величины могут быть разнопорядковыми. Поскольку математика регуляризации будет суммировать коэффициенты, важно стандартизировать признаки."
   ]
  },
  {
   "cell_type": "markdown",
   "source": [
    "Подключим метод `StandardScaler` для нормализации данных"
   ],
   "metadata": {
    "id": "uBtr5sBaELRs"
   }
  },
  {
   "cell_type": "code",
   "execution_count": 50,
   "metadata": {
    "id": "PyQsGSu3z62A",
    "ExecuteTime": {
     "end_time": "2023-12-07T16:25:12.024558Z",
     "start_time": "2023-12-07T16:25:11.996857Z"
    }
   },
   "outputs": [],
   "source": [
    "from sklearn.preprocessing import StandardScaler"
   ]
  },
  {
   "cell_type": "code",
   "execution_count": null,
   "metadata": {
    "id": "jio2as38z62A"
   },
   "outputs": [],
   "source": [
    "# help(StandardScaler)"
   ]
  },
  {
   "cell_type": "code",
   "execution_count": 51,
   "metadata": {
    "id": "4Rzps_YKz62A",
    "ExecuteTime": {
     "end_time": "2023-12-07T16:25:15.950090Z",
     "start_time": "2023-12-07T16:25:15.923261Z"
    }
   },
   "outputs": [],
   "source": [
    "scaler = StandardScaler()"
   ]
  },
  {
   "cell_type": "code",
   "execution_count": 52,
   "metadata": {
    "colab": {
     "base_uri": "https://localhost:8080/",
     "height": 74
    },
    "id": "pxx3xuIMz62B",
    "executionInfo": {
     "status": "ok",
     "timestamp": 1690139914582,
     "user_tz": -180,
     "elapsed": 32,
     "user": {
      "displayName": "Катерина Зайцева",
      "userId": "13243922588902490503"
     }
    },
    "outputId": "25b14c99-d288-4322-f199-6e57b1a341a2",
    "ExecuteTime": {
     "end_time": "2023-12-07T16:25:17.859955Z",
     "start_time": "2023-12-07T16:25:17.834987Z"
    }
   },
   "outputs": [
    {
     "data": {
      "text/plain": "StandardScaler()",
      "text/html": "<style>#sk-container-id-5 {color: black;}#sk-container-id-5 pre{padding: 0;}#sk-container-id-5 div.sk-toggleable {background-color: white;}#sk-container-id-5 label.sk-toggleable__label {cursor: pointer;display: block;width: 100%;margin-bottom: 0;padding: 0.3em;box-sizing: border-box;text-align: center;}#sk-container-id-5 label.sk-toggleable__label-arrow:before {content: \"▸\";float: left;margin-right: 0.25em;color: #696969;}#sk-container-id-5 label.sk-toggleable__label-arrow:hover:before {color: black;}#sk-container-id-5 div.sk-estimator:hover label.sk-toggleable__label-arrow:before {color: black;}#sk-container-id-5 div.sk-toggleable__content {max-height: 0;max-width: 0;overflow: hidden;text-align: left;background-color: #f0f8ff;}#sk-container-id-5 div.sk-toggleable__content pre {margin: 0.2em;color: black;border-radius: 0.25em;background-color: #f0f8ff;}#sk-container-id-5 input.sk-toggleable__control:checked~div.sk-toggleable__content {max-height: 200px;max-width: 100%;overflow: auto;}#sk-container-id-5 input.sk-toggleable__control:checked~label.sk-toggleable__label-arrow:before {content: \"▾\";}#sk-container-id-5 div.sk-estimator input.sk-toggleable__control:checked~label.sk-toggleable__label {background-color: #d4ebff;}#sk-container-id-5 div.sk-label input.sk-toggleable__control:checked~label.sk-toggleable__label {background-color: #d4ebff;}#sk-container-id-5 input.sk-hidden--visually {border: 0;clip: rect(1px 1px 1px 1px);clip: rect(1px, 1px, 1px, 1px);height: 1px;margin: -1px;overflow: hidden;padding: 0;position: absolute;width: 1px;}#sk-container-id-5 div.sk-estimator {font-family: monospace;background-color: #f0f8ff;border: 1px dotted black;border-radius: 0.25em;box-sizing: border-box;margin-bottom: 0.5em;}#sk-container-id-5 div.sk-estimator:hover {background-color: #d4ebff;}#sk-container-id-5 div.sk-parallel-item::after {content: \"\";width: 100%;border-bottom: 1px solid gray;flex-grow: 1;}#sk-container-id-5 div.sk-label:hover label.sk-toggleable__label {background-color: #d4ebff;}#sk-container-id-5 div.sk-serial::before {content: \"\";position: absolute;border-left: 1px solid gray;box-sizing: border-box;top: 0;bottom: 0;left: 50%;z-index: 0;}#sk-container-id-5 div.sk-serial {display: flex;flex-direction: column;align-items: center;background-color: white;padding-right: 0.2em;padding-left: 0.2em;position: relative;}#sk-container-id-5 div.sk-item {position: relative;z-index: 1;}#sk-container-id-5 div.sk-parallel {display: flex;align-items: stretch;justify-content: center;background-color: white;position: relative;}#sk-container-id-5 div.sk-item::before, #sk-container-id-5 div.sk-parallel-item::before {content: \"\";position: absolute;border-left: 1px solid gray;box-sizing: border-box;top: 0;bottom: 0;left: 50%;z-index: -1;}#sk-container-id-5 div.sk-parallel-item {display: flex;flex-direction: column;z-index: 1;position: relative;background-color: white;}#sk-container-id-5 div.sk-parallel-item:first-child::after {align-self: flex-end;width: 50%;}#sk-container-id-5 div.sk-parallel-item:last-child::after {align-self: flex-start;width: 50%;}#sk-container-id-5 div.sk-parallel-item:only-child::after {width: 0;}#sk-container-id-5 div.sk-dashed-wrapped {border: 1px dashed gray;margin: 0 0.4em 0.5em 0.4em;box-sizing: border-box;padding-bottom: 0.4em;background-color: white;}#sk-container-id-5 div.sk-label label {font-family: monospace;font-weight: bold;display: inline-block;line-height: 1.2em;}#sk-container-id-5 div.sk-label-container {text-align: center;}#sk-container-id-5 div.sk-container {/* jupyter's `normalize.less` sets `[hidden] { display: none; }` but bootstrap.min.css set `[hidden] { display: none !important; }` so we also need the `!important` here to be able to override the default hidden behavior on the sphinx rendered scikit-learn.org. See: https://github.com/scikit-learn/scikit-learn/issues/21755 */display: inline-block !important;position: relative;}#sk-container-id-5 div.sk-text-repr-fallback {display: none;}</style><div id=\"sk-container-id-5\" class=\"sk-top-container\"><div class=\"sk-text-repr-fallback\"><pre>StandardScaler()</pre><b>In a Jupyter environment, please rerun this cell to show the HTML representation or trust the notebook. <br />On GitHub, the HTML representation is unable to render, please try loading this page with nbviewer.org.</b></div><div class=\"sk-container\" hidden><div class=\"sk-item\"><div class=\"sk-estimator sk-toggleable\"><input class=\"sk-toggleable__control sk-hidden--visually\" id=\"sk-estimator-id-5\" type=\"checkbox\" checked><label for=\"sk-estimator-id-5\" class=\"sk-toggleable__label sk-toggleable__label-arrow\">StandardScaler</label><div class=\"sk-toggleable__content\"><pre>StandardScaler()</pre></div></div></div></div></div>"
     },
     "execution_count": 52,
     "metadata": {},
     "output_type": "execute_result"
    }
   ],
   "source": [
    "scaler.fit(X_train)"
   ]
  },
  {
   "cell_type": "code",
   "execution_count": 53,
   "metadata": {
    "id": "UoThcneEz62B",
    "ExecuteTime": {
     "end_time": "2023-12-07T16:25:21.185981Z",
     "start_time": "2023-12-07T16:25:21.157004Z"
    }
   },
   "outputs": [],
   "source": [
    "X_train = scaler.transform(X_train)"
   ]
  },
  {
   "cell_type": "code",
   "execution_count": 54,
   "metadata": {
    "id": "qRO2I2JHz62B",
    "ExecuteTime": {
     "end_time": "2023-12-07T16:25:23.312347Z",
     "start_time": "2023-12-07T16:25:23.285701Z"
    }
   },
   "outputs": [],
   "source": [
    "X_test = scaler.transform(X_test)"
   ]
  },
  {
   "cell_type": "markdown",
   "metadata": {
    "id": "E33c5LAmz62B"
   },
   "source": [
    "## Гребневая регрессия (Ridge Regression)\n",
    "\n",
    "В лонгриде мы разбирали гребневую регрессию, а теперь попробуем имплементировать ее. Для этого импортируем метод [`Ridge`](https://scikit-learn.org/stable/modules/generated/sklearn.linear_model.Ridge.html#sklearn.linear_model.Ridge) из `linear_model`."
   ]
  },
  {
   "cell_type": "code",
   "execution_count": 55,
   "metadata": {
    "id": "Iq7y64Eez62B",
    "ExecuteTime": {
     "end_time": "2023-12-07T16:25:25.936586Z",
     "start_time": "2023-12-07T16:25:25.904783Z"
    }
   },
   "outputs": [],
   "source": [
    "from sklearn.linear_model import Ridge"
   ]
  },
  {
   "cell_type": "markdown",
   "source": [
    "Для примера возьмем параметр α. Отметим что параметр α должен быть неотрицательным."
   ],
   "metadata": {
    "id": "EofoUZw2Gqg2"
   }
  },
  {
   "cell_type": "code",
   "execution_count": 56,
   "metadata": {
    "id": "sqnA3Mcrz62B",
    "ExecuteTime": {
     "end_time": "2023-12-07T16:25:27.702556Z",
     "start_time": "2023-12-07T16:25:27.675926Z"
    }
   },
   "outputs": [],
   "source": [
    "ridge_model = Ridge(alpha=10)"
   ]
  },
  {
   "cell_type": "markdown",
   "source": [],
   "metadata": {
    "id": "UB2KgwedHiiU"
   }
  },
  {
   "cell_type": "code",
   "execution_count": 57,
   "metadata": {
    "colab": {
     "base_uri": "https://localhost:8080/",
     "height": 74
    },
    "id": "0HysOzWYz62B",
    "executionInfo": {
     "status": "ok",
     "timestamp": 1690139914582,
     "user_tz": -180,
     "elapsed": 31,
     "user": {
      "displayName": "Катерина Зайцева",
      "userId": "13243922588902490503"
     }
    },
    "outputId": "5fd8e10c-294f-49c7-b674-9c9afb6137a3",
    "ExecuteTime": {
     "end_time": "2023-12-07T16:25:30.409899Z",
     "start_time": "2023-12-07T16:25:30.383988Z"
    }
   },
   "outputs": [
    {
     "data": {
      "text/plain": "Ridge(alpha=10)",
      "text/html": "<style>#sk-container-id-6 {color: black;}#sk-container-id-6 pre{padding: 0;}#sk-container-id-6 div.sk-toggleable {background-color: white;}#sk-container-id-6 label.sk-toggleable__label {cursor: pointer;display: block;width: 100%;margin-bottom: 0;padding: 0.3em;box-sizing: border-box;text-align: center;}#sk-container-id-6 label.sk-toggleable__label-arrow:before {content: \"▸\";float: left;margin-right: 0.25em;color: #696969;}#sk-container-id-6 label.sk-toggleable__label-arrow:hover:before {color: black;}#sk-container-id-6 div.sk-estimator:hover label.sk-toggleable__label-arrow:before {color: black;}#sk-container-id-6 div.sk-toggleable__content {max-height: 0;max-width: 0;overflow: hidden;text-align: left;background-color: #f0f8ff;}#sk-container-id-6 div.sk-toggleable__content pre {margin: 0.2em;color: black;border-radius: 0.25em;background-color: #f0f8ff;}#sk-container-id-6 input.sk-toggleable__control:checked~div.sk-toggleable__content {max-height: 200px;max-width: 100%;overflow: auto;}#sk-container-id-6 input.sk-toggleable__control:checked~label.sk-toggleable__label-arrow:before {content: \"▾\";}#sk-container-id-6 div.sk-estimator input.sk-toggleable__control:checked~label.sk-toggleable__label {background-color: #d4ebff;}#sk-container-id-6 div.sk-label input.sk-toggleable__control:checked~label.sk-toggleable__label {background-color: #d4ebff;}#sk-container-id-6 input.sk-hidden--visually {border: 0;clip: rect(1px 1px 1px 1px);clip: rect(1px, 1px, 1px, 1px);height: 1px;margin: -1px;overflow: hidden;padding: 0;position: absolute;width: 1px;}#sk-container-id-6 div.sk-estimator {font-family: monospace;background-color: #f0f8ff;border: 1px dotted black;border-radius: 0.25em;box-sizing: border-box;margin-bottom: 0.5em;}#sk-container-id-6 div.sk-estimator:hover {background-color: #d4ebff;}#sk-container-id-6 div.sk-parallel-item::after {content: \"\";width: 100%;border-bottom: 1px solid gray;flex-grow: 1;}#sk-container-id-6 div.sk-label:hover label.sk-toggleable__label {background-color: #d4ebff;}#sk-container-id-6 div.sk-serial::before {content: \"\";position: absolute;border-left: 1px solid gray;box-sizing: border-box;top: 0;bottom: 0;left: 50%;z-index: 0;}#sk-container-id-6 div.sk-serial {display: flex;flex-direction: column;align-items: center;background-color: white;padding-right: 0.2em;padding-left: 0.2em;position: relative;}#sk-container-id-6 div.sk-item {position: relative;z-index: 1;}#sk-container-id-6 div.sk-parallel {display: flex;align-items: stretch;justify-content: center;background-color: white;position: relative;}#sk-container-id-6 div.sk-item::before, #sk-container-id-6 div.sk-parallel-item::before {content: \"\";position: absolute;border-left: 1px solid gray;box-sizing: border-box;top: 0;bottom: 0;left: 50%;z-index: -1;}#sk-container-id-6 div.sk-parallel-item {display: flex;flex-direction: column;z-index: 1;position: relative;background-color: white;}#sk-container-id-6 div.sk-parallel-item:first-child::after {align-self: flex-end;width: 50%;}#sk-container-id-6 div.sk-parallel-item:last-child::after {align-self: flex-start;width: 50%;}#sk-container-id-6 div.sk-parallel-item:only-child::after {width: 0;}#sk-container-id-6 div.sk-dashed-wrapped {border: 1px dashed gray;margin: 0 0.4em 0.5em 0.4em;box-sizing: border-box;padding-bottom: 0.4em;background-color: white;}#sk-container-id-6 div.sk-label label {font-family: monospace;font-weight: bold;display: inline-block;line-height: 1.2em;}#sk-container-id-6 div.sk-label-container {text-align: center;}#sk-container-id-6 div.sk-container {/* jupyter's `normalize.less` sets `[hidden] { display: none; }` but bootstrap.min.css set `[hidden] { display: none !important; }` so we also need the `!important` here to be able to override the default hidden behavior on the sphinx rendered scikit-learn.org. See: https://github.com/scikit-learn/scikit-learn/issues/21755 */display: inline-block !important;position: relative;}#sk-container-id-6 div.sk-text-repr-fallback {display: none;}</style><div id=\"sk-container-id-6\" class=\"sk-top-container\"><div class=\"sk-text-repr-fallback\"><pre>Ridge(alpha=10)</pre><b>In a Jupyter environment, please rerun this cell to show the HTML representation or trust the notebook. <br />On GitHub, the HTML representation is unable to render, please try loading this page with nbviewer.org.</b></div><div class=\"sk-container\" hidden><div class=\"sk-item\"><div class=\"sk-estimator sk-toggleable\"><input class=\"sk-toggleable__control sk-hidden--visually\" id=\"sk-estimator-id-6\" type=\"checkbox\" checked><label for=\"sk-estimator-id-6\" class=\"sk-toggleable__label sk-toggleable__label-arrow\">Ridge</label><div class=\"sk-toggleable__content\"><pre>Ridge(alpha=10)</pre></div></div></div></div></div>"
     },
     "execution_count": 57,
     "metadata": {},
     "output_type": "execute_result"
    }
   ],
   "source": [
    "ridge_model.fit(X_train,y_train)"
   ]
  },
  {
   "cell_type": "code",
   "execution_count": 58,
   "metadata": {
    "id": "bkskXsqqz62B",
    "ExecuteTime": {
     "end_time": "2023-12-07T16:25:32.830477Z",
     "start_time": "2023-12-07T16:25:32.802700Z"
    }
   },
   "outputs": [],
   "source": [
    "test_predictions = ridge_model.predict(X_test)"
   ]
  },
  {
   "cell_type": "code",
   "execution_count": 59,
   "metadata": {
    "id": "JFlPqLePz62C",
    "ExecuteTime": {
     "end_time": "2023-12-07T16:25:34.949725Z",
     "start_time": "2023-12-07T16:25:34.921461Z"
    }
   },
   "outputs": [],
   "source": [
    "from sklearn.metrics import mean_absolute_error,mean_squared_error"
   ]
  },
  {
   "cell_type": "code",
   "execution_count": 60,
   "metadata": {
    "id": "X29kZ9y6z62C",
    "ExecuteTime": {
     "end_time": "2023-12-07T16:25:37.269113Z",
     "start_time": "2023-12-07T16:25:37.241946Z"
    }
   },
   "outputs": [],
   "source": [
    "MAE = mean_absolute_error(y_test,test_predictions)\n",
    "MSE = mean_squared_error(y_test,test_predictions)\n",
    "RMSE = np.sqrt(MSE)"
   ]
  },
  {
   "cell_type": "markdown",
   "source": [
    "### **[Задание 9]**\n",
    "\n",
    "Вычислите метрику MAE и RMSE для модели `test_predictions`.\n"
   ],
   "metadata": {
    "id": "utdS50GSIbbz"
   }
  },
  {
   "cell_type": "code",
   "execution_count": null,
   "metadata": {
    "id": "4IX7RU-az62C"
   },
   "outputs": [],
   "source": []
  },
  {
   "cell_type": "code",
   "execution_count": null,
   "metadata": {
    "id": "m1bKjHHtz62C"
   },
   "outputs": [],
   "source": []
  },
  {
   "cell_type": "markdown",
   "metadata": {
    "id": "3vKZnUUpz62C"
   },
   "source": [
    "Какова точность на обучающей выборке? (Мы будем использовать это позже для сравнения)"
   ]
  },
  {
   "cell_type": "code",
   "execution_count": 61,
   "metadata": {
    "colab": {
     "base_uri": "https://localhost:8080/"
    },
    "id": "mm3UrlCwz62C",
    "executionInfo": {
     "status": "ok",
     "timestamp": 1690139915006,
     "user_tz": -180,
     "elapsed": 90,
     "user": {
      "displayName": "Катерина Зайцева",
      "userId": "13243922588902490503"
     }
    },
    "outputId": "65477480-83c7-4186-cbff-73625ff7ed23",
    "ExecuteTime": {
     "end_time": "2023-12-07T16:26:29.809846Z",
     "start_time": "2023-12-07T16:26:29.780803Z"
    }
   },
   "outputs": [
    {
     "data": {
      "text/plain": "0.5288348183025325"
     },
     "execution_count": 61,
     "metadata": {},
     "output_type": "execute_result"
    }
   ],
   "source": [
    "# Производительность на обучающем наборе\n",
    "train_predictions = ridge_model.predict(X_train)\n",
    "MAE = mean_absolute_error(y_train,train_predictions)\n",
    "MAE"
   ]
  },
  {
   "cell_type": "markdown",
   "metadata": {
    "id": "sb9h5k4hz62C"
   },
   "source": [
    "### Выбираем значение alpha с помощью кросс-валидации\n",
    "\n",
    "А как подбирать параметр `alpha`? Для этого мы воспользуемся моделью [`RidgeCV`](https://scikit-learn.org/stable/modules/generated/sklearn.linear_model.RidgeCV.html)"
   ]
  },
  {
   "cell_type": "code",
   "execution_count": 62,
   "metadata": {
    "id": "uFmCu2dCz62C",
    "ExecuteTime": {
     "end_time": "2023-12-07T16:26:34.498410Z",
     "start_time": "2023-12-07T16:26:34.475014Z"
    }
   },
   "outputs": [],
   "source": [
    "from sklearn.linear_model import RidgeCV"
   ]
  },
  {
   "cell_type": "markdown",
   "source": [
    "Можно вывести справку по модели:"
   ],
   "metadata": {
    "id": "Wrd-Hl48JDPa"
   }
  },
  {
   "cell_type": "code",
   "execution_count": null,
   "metadata": {
    "id": "3WrcN65Sz62D"
   },
   "outputs": [],
   "source": [
    "# help(RidgeCV)"
   ]
  },
  {
   "cell_type": "markdown",
   "source": [
    "Выбираем [способ](https://scikit-learn.org/stable/modules/model_evaluation.html) для оценки модели и [параметры](https://scikit-learn.org/stable/modules/generated/sklearn.linear_model.RidgeCV.html) для метода"
   ],
   "metadata": {
    "id": "r7bRdjd7JF-v"
   }
  },
  {
   "cell_type": "code",
   "execution_count": 64,
   "metadata": {
    "id": "4XapyKd2z62D",
    "ExecuteTime": {
     "end_time": "2023-12-07T16:42:11.180065Z",
     "start_time": "2023-12-07T16:42:11.143168Z"
    }
   },
   "outputs": [],
   "source": [
    "# Смотрим все варианты: sklearn.metrics.SCORERS.keys()\n",
    "ridge_cv_model = RidgeCV(alphas=(0.1, 1.0, 10.0),scoring='neg_mean_absolute_error')"
   ]
  },
  {
   "cell_type": "code",
   "execution_count": 65,
   "metadata": {
    "colab": {
     "base_uri": "https://localhost:8080/",
     "height": 74
    },
    "id": "UIzf9KBzz62D",
    "executionInfo": {
     "status": "ok",
     "timestamp": 1690139915007,
     "user_tz": -180,
     "elapsed": 89,
     "user": {
      "displayName": "Катерина Зайцева",
      "userId": "13243922588902490503"
     }
    },
    "outputId": "3662b062-a1a1-4731-e94a-71092575e421",
    "ExecuteTime": {
     "end_time": "2023-12-07T16:42:12.130589Z",
     "start_time": "2023-12-07T16:42:12.056412Z"
    }
   },
   "outputs": [
    {
     "data": {
      "text/plain": "RidgeCV(scoring='neg_mean_absolute_error')",
      "text/html": "<style>#sk-container-id-7 {color: black;}#sk-container-id-7 pre{padding: 0;}#sk-container-id-7 div.sk-toggleable {background-color: white;}#sk-container-id-7 label.sk-toggleable__label {cursor: pointer;display: block;width: 100%;margin-bottom: 0;padding: 0.3em;box-sizing: border-box;text-align: center;}#sk-container-id-7 label.sk-toggleable__label-arrow:before {content: \"▸\";float: left;margin-right: 0.25em;color: #696969;}#sk-container-id-7 label.sk-toggleable__label-arrow:hover:before {color: black;}#sk-container-id-7 div.sk-estimator:hover label.sk-toggleable__label-arrow:before {color: black;}#sk-container-id-7 div.sk-toggleable__content {max-height: 0;max-width: 0;overflow: hidden;text-align: left;background-color: #f0f8ff;}#sk-container-id-7 div.sk-toggleable__content pre {margin: 0.2em;color: black;border-radius: 0.25em;background-color: #f0f8ff;}#sk-container-id-7 input.sk-toggleable__control:checked~div.sk-toggleable__content {max-height: 200px;max-width: 100%;overflow: auto;}#sk-container-id-7 input.sk-toggleable__control:checked~label.sk-toggleable__label-arrow:before {content: \"▾\";}#sk-container-id-7 div.sk-estimator input.sk-toggleable__control:checked~label.sk-toggleable__label {background-color: #d4ebff;}#sk-container-id-7 div.sk-label input.sk-toggleable__control:checked~label.sk-toggleable__label {background-color: #d4ebff;}#sk-container-id-7 input.sk-hidden--visually {border: 0;clip: rect(1px 1px 1px 1px);clip: rect(1px, 1px, 1px, 1px);height: 1px;margin: -1px;overflow: hidden;padding: 0;position: absolute;width: 1px;}#sk-container-id-7 div.sk-estimator {font-family: monospace;background-color: #f0f8ff;border: 1px dotted black;border-radius: 0.25em;box-sizing: border-box;margin-bottom: 0.5em;}#sk-container-id-7 div.sk-estimator:hover {background-color: #d4ebff;}#sk-container-id-7 div.sk-parallel-item::after {content: \"\";width: 100%;border-bottom: 1px solid gray;flex-grow: 1;}#sk-container-id-7 div.sk-label:hover label.sk-toggleable__label {background-color: #d4ebff;}#sk-container-id-7 div.sk-serial::before {content: \"\";position: absolute;border-left: 1px solid gray;box-sizing: border-box;top: 0;bottom: 0;left: 50%;z-index: 0;}#sk-container-id-7 div.sk-serial {display: flex;flex-direction: column;align-items: center;background-color: white;padding-right: 0.2em;padding-left: 0.2em;position: relative;}#sk-container-id-7 div.sk-item {position: relative;z-index: 1;}#sk-container-id-7 div.sk-parallel {display: flex;align-items: stretch;justify-content: center;background-color: white;position: relative;}#sk-container-id-7 div.sk-item::before, #sk-container-id-7 div.sk-parallel-item::before {content: \"\";position: absolute;border-left: 1px solid gray;box-sizing: border-box;top: 0;bottom: 0;left: 50%;z-index: -1;}#sk-container-id-7 div.sk-parallel-item {display: flex;flex-direction: column;z-index: 1;position: relative;background-color: white;}#sk-container-id-7 div.sk-parallel-item:first-child::after {align-self: flex-end;width: 50%;}#sk-container-id-7 div.sk-parallel-item:last-child::after {align-self: flex-start;width: 50%;}#sk-container-id-7 div.sk-parallel-item:only-child::after {width: 0;}#sk-container-id-7 div.sk-dashed-wrapped {border: 1px dashed gray;margin: 0 0.4em 0.5em 0.4em;box-sizing: border-box;padding-bottom: 0.4em;background-color: white;}#sk-container-id-7 div.sk-label label {font-family: monospace;font-weight: bold;display: inline-block;line-height: 1.2em;}#sk-container-id-7 div.sk-label-container {text-align: center;}#sk-container-id-7 div.sk-container {/* jupyter's `normalize.less` sets `[hidden] { display: none; }` but bootstrap.min.css set `[hidden] { display: none !important; }` so we also need the `!important` here to be able to override the default hidden behavior on the sphinx rendered scikit-learn.org. See: https://github.com/scikit-learn/scikit-learn/issues/21755 */display: inline-block !important;position: relative;}#sk-container-id-7 div.sk-text-repr-fallback {display: none;}</style><div id=\"sk-container-id-7\" class=\"sk-top-container\"><div class=\"sk-text-repr-fallback\"><pre>RidgeCV(scoring=&#x27;neg_mean_absolute_error&#x27;)</pre><b>In a Jupyter environment, please rerun this cell to show the HTML representation or trust the notebook. <br />On GitHub, the HTML representation is unable to render, please try loading this page with nbviewer.org.</b></div><div class=\"sk-container\" hidden><div class=\"sk-item\"><div class=\"sk-estimator sk-toggleable\"><input class=\"sk-toggleable__control sk-hidden--visually\" id=\"sk-estimator-id-7\" type=\"checkbox\" checked><label for=\"sk-estimator-id-7\" class=\"sk-toggleable__label sk-toggleable__label-arrow\">RidgeCV</label><div class=\"sk-toggleable__content\"><pre>RidgeCV(scoring=&#x27;neg_mean_absolute_error&#x27;)</pre></div></div></div></div></div>"
     },
     "execution_count": 65,
     "metadata": {},
     "output_type": "execute_result"
    }
   ],
   "source": [
    "# Чем больше значений alpha Вы укажете, тем дольше времени потребуется.\n",
    "# К счастью наш набор данных достаточно маленький.\n",
    "ridge_cv_model.fit(X_train,y_train)"
   ]
  },
  {
   "cell_type": "markdown",
   "source": [
    "Выведем значение `alpha`"
   ],
   "metadata": {
    "id": "MOKiAagGKWJ7"
   }
  },
  {
   "cell_type": "code",
   "execution_count": 71,
   "metadata": {
    "colab": {
     "base_uri": "https://localhost:8080/"
    },
    "id": "A9JS_Fkkz62D",
    "executionInfo": {
     "status": "ok",
     "timestamp": 1690139915007,
     "user_tz": -180,
     "elapsed": 88,
     "user": {
      "displayName": "Катерина Зайцева",
      "userId": "13243922588902490503"
     }
    },
    "outputId": "33e732a8-bcc8-414f-b680-1799db3528ac",
    "ExecuteTime": {
     "end_time": "2023-12-05T17:46:09.308710Z",
     "start_time": "2023-12-05T17:46:09.262497Z"
    }
   },
   "outputs": [
    {
     "data": {
      "text/plain": "0.1"
     },
     "execution_count": 71,
     "metadata": {},
     "output_type": "execute_result"
    }
   ],
   "source": [
    "ridge_cv_model.alpha_"
   ]
  },
  {
   "cell_type": "markdown",
   "source": [
    "Сделаем предсказание на модели и выведем loss-функции."
   ],
   "metadata": {
    "id": "vxlvKpaDKuE_"
   }
  },
  {
   "cell_type": "code",
   "execution_count": 72,
   "metadata": {
    "id": "XOQrRVQ5z62D",
    "ExecuteTime": {
     "end_time": "2023-12-05T17:46:27.001052Z",
     "start_time": "2023-12-05T17:46:26.945608Z"
    }
   },
   "outputs": [],
   "source": [
    "test_predictions = ridge_cv_model.predict(X_test)"
   ]
  },
  {
   "cell_type": "code",
   "execution_count": 73,
   "metadata": {
    "id": "KsJw5CMXz62D",
    "ExecuteTime": {
     "end_time": "2023-12-05T17:46:29.750378Z",
     "start_time": "2023-12-05T17:46:29.699683Z"
    }
   },
   "outputs": [],
   "source": [
    "MAE = mean_absolute_error(y_test,test_predictions)\n",
    "MSE = mean_squared_error(y_test,test_predictions)\n",
    "RMSE = np.sqrt(MSE)"
   ]
  },
  {
   "cell_type": "code",
   "execution_count": 74,
   "metadata": {
    "colab": {
     "base_uri": "https://localhost:8080/"
    },
    "id": "jz-unmxiz62E",
    "executionInfo": {
     "status": "ok",
     "timestamp": 1690139915007,
     "user_tz": -180,
     "elapsed": 77,
     "user": {
      "displayName": "Катерина Зайцева",
      "userId": "13243922588902490503"
     }
    },
    "outputId": "fad2b661-e0b2-446f-a1ce-36bdd711f049",
    "ExecuteTime": {
     "end_time": "2023-12-05T17:46:33.420724Z",
     "start_time": "2023-12-05T17:46:33.360479Z"
    }
   },
   "outputs": [
    {
     "data": {
      "text/plain": "8.664443957987068"
     },
     "execution_count": 74,
     "metadata": {},
     "output_type": "execute_result"
    }
   ],
   "source": [
    "MAE"
   ]
  },
  {
   "cell_type": "code",
   "execution_count": 75,
   "metadata": {
    "colab": {
     "base_uri": "https://localhost:8080/"
    },
    "id": "nap4SMPJz62E",
    "executionInfo": {
     "status": "ok",
     "timestamp": 1690139915007,
     "user_tz": -180,
     "elapsed": 67,
     "user": {
      "displayName": "Катерина Зайцева",
      "userId": "13243922588902490503"
     }
    },
    "outputId": "bc6e6fb3-22e2-47bd-96af-24e519c6b191",
    "ExecuteTime": {
     "end_time": "2023-12-05T17:46:47.185128Z",
     "start_time": "2023-12-05T17:46:47.145709Z"
    }
   },
   "outputs": [
    {
     "data": {
      "text/plain": "10.08352681043709"
     },
     "execution_count": 75,
     "metadata": {},
     "output_type": "execute_result"
    }
   ],
   "source": [
    "RMSE"
   ]
  },
  {
   "cell_type": "code",
   "execution_count": 76,
   "metadata": {
    "colab": {
     "base_uri": "https://localhost:8080/"
    },
    "id": "__Sh3MAXz62E",
    "executionInfo": {
     "status": "ok",
     "timestamp": 1690139915008,
     "user_tz": -180,
     "elapsed": 58,
     "user": {
      "displayName": "Катерина Зайцева",
      "userId": "13243922588902490503"
     }
    },
    "outputId": "d14135d3-f647-42c6-f3ee-284854b3c1ae",
    "ExecuteTime": {
     "end_time": "2023-12-05T17:46:57.144536Z",
     "start_time": "2023-12-05T17:46:57.093895Z"
    }
   },
   "outputs": [
    {
     "data": {
      "text/plain": "0.30941321056394455"
     },
     "execution_count": 76,
     "metadata": {},
     "output_type": "execute_result"
    }
   ],
   "source": [
    "# Метрика MAE на обучающем наборе\n",
    "train_predictions = ridge_cv_model.predict(X_train)\n",
    "MAE = mean_absolute_error(y_train,train_predictions)\n",
    "MAE"
   ]
  },
  {
   "cell_type": "code",
   "execution_count": 77,
   "metadata": {
    "colab": {
     "base_uri": "https://localhost:8080/"
    },
    "id": "Gqd4hzUEz62E",
    "executionInfo": {
     "status": "ok",
     "timestamp": 1690139915008,
     "user_tz": -180,
     "elapsed": 48,
     "user": {
      "displayName": "Катерина Зайцева",
      "userId": "13243922588902490503"
     }
    },
    "outputId": "47bd6244-2d63-4705-9d21-aa723c4bc34c",
    "ExecuteTime": {
     "end_time": "2023-12-05T17:47:13.506320Z",
     "start_time": "2023-12-05T17:47:13.468552Z"
    }
   },
   "outputs": [
    {
     "data": {
      "text/plain": "array([ 5.40769392,  0.5885865 ,  0.40390395, -6.18263924,  4.59607939,\n       -1.18789654, -1.15200458,  0.57837796, -0.1261586 ,  2.5569777 ,\n       -1.38900471,  0.86059434,  0.72219553, -0.26129256,  0.17870787,\n        0.44353612, -0.21362436, -0.04622473, -0.06441449])"
     },
     "execution_count": 77,
     "metadata": {},
     "output_type": "execute_result"
    }
   ],
   "source": [
    "ridge_cv_model.coef_"
   ]
  },
  {
   "cell_type": "markdown",
   "metadata": {
    "id": "hZinBNXpz62E"
   },
   "source": [
    "\n",
    "-----\n",
    "\n",
    "## Регрессия Лассо"
   ]
  },
  {
   "cell_type": "markdown",
   "source": [
    "Теперь перейдем к [`LassoCV`](https://scikit-learn.org/stable/modules/generated/sklearn.linear_model.LassoCV.html#sklearn.linear_model.LassoCV) из `linear_model`. Работа с ним примерно идентична Ridge, а потому трудностей она не вызывает"
   ],
   "metadata": {
    "id": "Tr33WgRFK2M-"
   }
  },
  {
   "cell_type": "code",
   "execution_count": 78,
   "metadata": {
    "id": "UzwlYmB6z62E",
    "ExecuteTime": {
     "end_time": "2023-12-05T17:47:28.375213Z",
     "start_time": "2023-12-05T17:47:28.333667Z"
    }
   },
   "outputs": [],
   "source": [
    "from sklearn.linear_model import LassoCV"
   ]
  },
  {
   "cell_type": "markdown",
   "source": [
    "Информация по параметрам Lasso представлена в [документации](https://scikit-learn.org/stable/modules/generated/sklearn.linear_model.LassoCV.html)."
   ],
   "metadata": {
    "id": "OcAScrtlLMCk"
   }
  },
  {
   "cell_type": "code",
   "execution_count": 79,
   "metadata": {
    "id": "637X_DGGz62F",
    "ExecuteTime": {
     "end_time": "2023-12-05T17:47:45.568148Z",
     "start_time": "2023-12-05T17:47:45.529096Z"
    }
   },
   "outputs": [],
   "source": [
    "# https://scikit-learn.org/stable/modules/generated/sklearn.linear_model.LassoCV.html\n",
    "lasso_cv_model = LassoCV(eps=0.1,n_alphas=100,cv=5)"
   ]
  },
  {
   "cell_type": "markdown",
   "source": [
    "Запустим обучение модели на поиск параметров и выведем коэффициенты"
   ],
   "metadata": {
    "id": "l-rECu34LSqt"
   }
  },
  {
   "cell_type": "code",
   "execution_count": 80,
   "metadata": {
    "colab": {
     "base_uri": "https://localhost:8080/",
     "height": 74
    },
    "id": "KkfSe5Duz62F",
    "executionInfo": {
     "status": "ok",
     "timestamp": 1690139915008,
     "user_tz": -180,
     "elapsed": 37,
     "user": {
      "displayName": "Катерина Зайцева",
      "userId": "13243922588902490503"
     }
    },
    "outputId": "7d965947-3c0a-4fd6-b8ec-834127948d70",
    "ExecuteTime": {
     "end_time": "2023-12-05T17:47:55.830257Z",
     "start_time": "2023-12-05T17:47:55.762674Z"
    }
   },
   "outputs": [
    {
     "data": {
      "text/plain": "LassoCV(cv=5, eps=0.1)",
      "text/html": "<style>#sk-container-id-8 {color: black;}#sk-container-id-8 pre{padding: 0;}#sk-container-id-8 div.sk-toggleable {background-color: white;}#sk-container-id-8 label.sk-toggleable__label {cursor: pointer;display: block;width: 100%;margin-bottom: 0;padding: 0.3em;box-sizing: border-box;text-align: center;}#sk-container-id-8 label.sk-toggleable__label-arrow:before {content: \"▸\";float: left;margin-right: 0.25em;color: #696969;}#sk-container-id-8 label.sk-toggleable__label-arrow:hover:before {color: black;}#sk-container-id-8 div.sk-estimator:hover label.sk-toggleable__label-arrow:before {color: black;}#sk-container-id-8 div.sk-toggleable__content {max-height: 0;max-width: 0;overflow: hidden;text-align: left;background-color: #f0f8ff;}#sk-container-id-8 div.sk-toggleable__content pre {margin: 0.2em;color: black;border-radius: 0.25em;background-color: #f0f8ff;}#sk-container-id-8 input.sk-toggleable__control:checked~div.sk-toggleable__content {max-height: 200px;max-width: 100%;overflow: auto;}#sk-container-id-8 input.sk-toggleable__control:checked~label.sk-toggleable__label-arrow:before {content: \"▾\";}#sk-container-id-8 div.sk-estimator input.sk-toggleable__control:checked~label.sk-toggleable__label {background-color: #d4ebff;}#sk-container-id-8 div.sk-label input.sk-toggleable__control:checked~label.sk-toggleable__label {background-color: #d4ebff;}#sk-container-id-8 input.sk-hidden--visually {border: 0;clip: rect(1px 1px 1px 1px);clip: rect(1px, 1px, 1px, 1px);height: 1px;margin: -1px;overflow: hidden;padding: 0;position: absolute;width: 1px;}#sk-container-id-8 div.sk-estimator {font-family: monospace;background-color: #f0f8ff;border: 1px dotted black;border-radius: 0.25em;box-sizing: border-box;margin-bottom: 0.5em;}#sk-container-id-8 div.sk-estimator:hover {background-color: #d4ebff;}#sk-container-id-8 div.sk-parallel-item::after {content: \"\";width: 100%;border-bottom: 1px solid gray;flex-grow: 1;}#sk-container-id-8 div.sk-label:hover label.sk-toggleable__label {background-color: #d4ebff;}#sk-container-id-8 div.sk-serial::before {content: \"\";position: absolute;border-left: 1px solid gray;box-sizing: border-box;top: 0;bottom: 0;left: 50%;z-index: 0;}#sk-container-id-8 div.sk-serial {display: flex;flex-direction: column;align-items: center;background-color: white;padding-right: 0.2em;padding-left: 0.2em;position: relative;}#sk-container-id-8 div.sk-item {position: relative;z-index: 1;}#sk-container-id-8 div.sk-parallel {display: flex;align-items: stretch;justify-content: center;background-color: white;position: relative;}#sk-container-id-8 div.sk-item::before, #sk-container-id-8 div.sk-parallel-item::before {content: \"\";position: absolute;border-left: 1px solid gray;box-sizing: border-box;top: 0;bottom: 0;left: 50%;z-index: -1;}#sk-container-id-8 div.sk-parallel-item {display: flex;flex-direction: column;z-index: 1;position: relative;background-color: white;}#sk-container-id-8 div.sk-parallel-item:first-child::after {align-self: flex-end;width: 50%;}#sk-container-id-8 div.sk-parallel-item:last-child::after {align-self: flex-start;width: 50%;}#sk-container-id-8 div.sk-parallel-item:only-child::after {width: 0;}#sk-container-id-8 div.sk-dashed-wrapped {border: 1px dashed gray;margin: 0 0.4em 0.5em 0.4em;box-sizing: border-box;padding-bottom: 0.4em;background-color: white;}#sk-container-id-8 div.sk-label label {font-family: monospace;font-weight: bold;display: inline-block;line-height: 1.2em;}#sk-container-id-8 div.sk-label-container {text-align: center;}#sk-container-id-8 div.sk-container {/* jupyter's `normalize.less` sets `[hidden] { display: none; }` but bootstrap.min.css set `[hidden] { display: none !important; }` so we also need the `!important` here to be able to override the default hidden behavior on the sphinx rendered scikit-learn.org. See: https://github.com/scikit-learn/scikit-learn/issues/21755 */display: inline-block !important;position: relative;}#sk-container-id-8 div.sk-text-repr-fallback {display: none;}</style><div id=\"sk-container-id-8\" class=\"sk-top-container\"><div class=\"sk-text-repr-fallback\"><pre>LassoCV(cv=5, eps=0.1)</pre><b>In a Jupyter environment, please rerun this cell to show the HTML representation or trust the notebook. <br />On GitHub, the HTML representation is unable to render, please try loading this page with nbviewer.org.</b></div><div class=\"sk-container\" hidden><div class=\"sk-item\"><div class=\"sk-estimator sk-toggleable\"><input class=\"sk-toggleable__control sk-hidden--visually\" id=\"sk-estimator-id-8\" type=\"checkbox\" checked><label for=\"sk-estimator-id-8\" class=\"sk-toggleable__label sk-toggleable__label-arrow\">LassoCV</label><div class=\"sk-toggleable__content\"><pre>LassoCV(cv=5, eps=0.1)</pre></div></div></div></div></div>"
     },
     "execution_count": 80,
     "metadata": {},
     "output_type": "execute_result"
    }
   ],
   "source": [
    "lasso_cv_model.fit(X_train,y_train)"
   ]
  },
  {
   "cell_type": "code",
   "execution_count": 81,
   "metadata": {
    "colab": {
     "base_uri": "https://localhost:8080/"
    },
    "id": "6-GDHrkfz62F",
    "executionInfo": {
     "status": "ok",
     "timestamp": 1690139915008,
     "user_tz": -180,
     "elapsed": 37,
     "user": {
      "displayName": "Катерина Зайцева",
      "userId": "13243922588902490503"
     }
    },
    "outputId": "9ab7220a-500c-4347-a60f-7a4f2ea15fae",
    "ExecuteTime": {
     "end_time": "2023-12-05T17:48:01.364910Z",
     "start_time": "2023-12-05T17:48:01.324955Z"
    }
   },
   "outputs": [
    {
     "data": {
      "text/plain": "0.4943070909225828"
     },
     "execution_count": 81,
     "metadata": {},
     "output_type": "execute_result"
    }
   ],
   "source": [
    "lasso_cv_model.alpha_"
   ]
  },
  {
   "cell_type": "markdown",
   "source": [
    "Сделаем предсказание на тестовой выборке и выведем значения метрик:"
   ],
   "metadata": {
    "id": "aBfnuBGILiVn"
   }
  },
  {
   "cell_type": "code",
   "execution_count": 82,
   "metadata": {
    "id": "ijJjJtxiz62F",
    "ExecuteTime": {
     "end_time": "2023-12-05T17:48:16.681521Z",
     "start_time": "2023-12-05T17:48:16.639387Z"
    }
   },
   "outputs": [],
   "source": [
    "test_predictions = lasso_cv_model.predict(X_test)"
   ]
  },
  {
   "cell_type": "code",
   "execution_count": 83,
   "metadata": {
    "id": "hbRiiOviz62F",
    "ExecuteTime": {
     "end_time": "2023-12-05T17:48:26.530202Z",
     "start_time": "2023-12-05T17:48:26.492615Z"
    }
   },
   "outputs": [],
   "source": [
    "MAE = mean_absolute_error(y_test,test_predictions)\n",
    "MSE = mean_squared_error(y_test,test_predictions)\n",
    "RMSE = np.sqrt(MSE)"
   ]
  },
  {
   "cell_type": "code",
   "execution_count": 84,
   "metadata": {
    "colab": {
     "base_uri": "https://localhost:8080/"
    },
    "id": "uBiP5HBnz62F",
    "executionInfo": {
     "status": "ok",
     "timestamp": 1690139915008,
     "user_tz": -180,
     "elapsed": 25,
     "user": {
      "displayName": "Катерина Зайцева",
      "userId": "13243922588902490503"
     }
    },
    "outputId": "7cb560e4-0a08-4640-f016-de14fc9dd10a",
    "ExecuteTime": {
     "end_time": "2023-12-05T17:48:29.900409Z",
     "start_time": "2023-12-05T17:48:29.860109Z"
    }
   },
   "outputs": [
    {
     "data": {
      "text/plain": "5.540755761616547"
     },
     "execution_count": 84,
     "metadata": {},
     "output_type": "execute_result"
    }
   ],
   "source": [
    "MAE"
   ]
  },
  {
   "cell_type": "code",
   "execution_count": 85,
   "metadata": {
    "colab": {
     "base_uri": "https://localhost:8080/"
    },
    "id": "5wSgMtMqz62F",
    "executionInfo": {
     "status": "ok",
     "timestamp": 1690139915009,
     "user_tz": -180,
     "elapsed": 16,
     "user": {
      "displayName": "Катерина Зайцева",
      "userId": "13243922588902490503"
     }
    },
    "outputId": "7302ef8e-a132-4527-a94f-0545f97487ec",
    "ExecuteTime": {
     "end_time": "2023-12-05T17:48:39.331300Z",
     "start_time": "2023-12-05T17:48:39.290549Z"
    }
   },
   "outputs": [
    {
     "data": {
      "text/plain": "7.303318812843016"
     },
     "execution_count": 85,
     "metadata": {},
     "output_type": "execute_result"
    }
   ],
   "source": [
    "RMSE"
   ]
  },
  {
   "cell_type": "code",
   "execution_count": 86,
   "metadata": {
    "colab": {
     "base_uri": "https://localhost:8080/"
    },
    "id": "TEBQ_SO3z62G",
    "executionInfo": {
     "status": "ok",
     "timestamp": 1690139915304,
     "user_tz": -180,
     "elapsed": 302,
     "user": {
      "displayName": "Катерина Зайцева",
      "userId": "13243922588902490503"
     }
    },
    "outputId": "cad8b05e-e7fc-487c-e30f-3cd1e0ceb476",
    "ExecuteTime": {
     "end_time": "2023-12-05T17:48:46.690678Z",
     "start_time": "2023-12-05T17:48:46.649371Z"
    }
   },
   "outputs": [
    {
     "data": {
      "text/plain": "0.6912807140820695"
     },
     "execution_count": 86,
     "metadata": {},
     "output_type": "execute_result"
    }
   ],
   "source": [
    "# Метрика MAE на обучающем наборе\n",
    "train_predictions = lasso_cv_model.predict(X_train)\n",
    "MAE = mean_absolute_error(y_train,train_predictions)\n",
    "MAE"
   ]
  },
  {
   "cell_type": "code",
   "execution_count": 87,
   "metadata": {
    "colab": {
     "base_uri": "https://localhost:8080/"
    },
    "id": "5bYrplQjz62G",
    "executionInfo": {
     "status": "ok",
     "timestamp": 1690139915304,
     "user_tz": -180,
     "elapsed": 13,
     "user": {
      "displayName": "Катерина Зайцева",
      "userId": "13243922588902490503"
     }
    },
    "outputId": "fbd3dad0-d37c-475e-fc5e-5f658ee1c9dc",
    "ExecuteTime": {
     "end_time": "2023-12-05T17:48:56.233342Z",
     "start_time": "2023-12-05T17:48:56.194532Z"
    }
   },
   "outputs": [
    {
     "data": {
      "text/plain": "array([1.002651  , 0.        , 0.        , 0.        , 3.79745279,\n       0.        , 0.        , 0.        , 0.        , 0.        ,\n       0.        , 0.        , 0.        , 0.        , 0.        ,\n       0.        , 0.        , 0.        , 0.        ])"
     },
     "execution_count": 87,
     "metadata": {},
     "output_type": "execute_result"
    }
   ],
   "source": [
    "lasso_cv_model.coef_"
   ]
  },
  {
   "cell_type": "markdown",
   "metadata": {
    "id": "U6MyXBMoz62G"
   },
   "source": [
    "## [Опционально] Elastic Net\n",
    "\n",
    "Elastic Net сочетает в себе ридж-регрессию и лассо-регрессию, чтобы взять лучшее из обеих регуляризаций!"
   ]
  },
  {
   "cell_type": "code",
   "execution_count": 88,
   "metadata": {
    "id": "qY0pwNPbz62G",
    "ExecuteTime": {
     "end_time": "2023-12-05T17:49:11.555441Z",
     "start_time": "2023-12-05T17:49:11.508520Z"
    }
   },
   "outputs": [],
   "source": [
    "from sklearn.linear_model import ElasticNetCV"
   ]
  },
  {
   "cell_type": "code",
   "execution_count": 89,
   "metadata": {
    "id": "etQWuLW4z62G",
    "ExecuteTime": {
     "end_time": "2023-12-05T17:49:16.813335Z",
     "start_time": "2023-12-05T17:49:16.773227Z"
    }
   },
   "outputs": [],
   "source": [
    "elastic_model = ElasticNetCV(l1_ratio=[.1, .5, .7,.9, .95, .99, 1],tol=0.01)"
   ]
  },
  {
   "cell_type": "code",
   "execution_count": 90,
   "metadata": {
    "colab": {
     "base_uri": "https://localhost:8080/",
     "height": 74
    },
    "id": "uqKpMtfBz62G",
    "executionInfo": {
     "status": "ok",
     "timestamp": 1690139915715,
     "user_tz": -180,
     "elapsed": 413,
     "user": {
      "displayName": "Катерина Зайцева",
      "userId": "13243922588902490503"
     }
    },
    "outputId": "f0279427-f5a6-47e9-c32f-28f17736f94e",
    "ExecuteTime": {
     "end_time": "2023-12-05T17:49:28.110955Z",
     "start_time": "2023-12-05T17:49:27.970548Z"
    }
   },
   "outputs": [
    {
     "data": {
      "text/plain": "ElasticNetCV(l1_ratio=[0.1, 0.5, 0.7, 0.9, 0.95, 0.99, 1], tol=0.01)",
      "text/html": "<style>#sk-container-id-9 {color: black;}#sk-container-id-9 pre{padding: 0;}#sk-container-id-9 div.sk-toggleable {background-color: white;}#sk-container-id-9 label.sk-toggleable__label {cursor: pointer;display: block;width: 100%;margin-bottom: 0;padding: 0.3em;box-sizing: border-box;text-align: center;}#sk-container-id-9 label.sk-toggleable__label-arrow:before {content: \"▸\";float: left;margin-right: 0.25em;color: #696969;}#sk-container-id-9 label.sk-toggleable__label-arrow:hover:before {color: black;}#sk-container-id-9 div.sk-estimator:hover label.sk-toggleable__label-arrow:before {color: black;}#sk-container-id-9 div.sk-toggleable__content {max-height: 0;max-width: 0;overflow: hidden;text-align: left;background-color: #f0f8ff;}#sk-container-id-9 div.sk-toggleable__content pre {margin: 0.2em;color: black;border-radius: 0.25em;background-color: #f0f8ff;}#sk-container-id-9 input.sk-toggleable__control:checked~div.sk-toggleable__content {max-height: 200px;max-width: 100%;overflow: auto;}#sk-container-id-9 input.sk-toggleable__control:checked~label.sk-toggleable__label-arrow:before {content: \"▾\";}#sk-container-id-9 div.sk-estimator input.sk-toggleable__control:checked~label.sk-toggleable__label {background-color: #d4ebff;}#sk-container-id-9 div.sk-label input.sk-toggleable__control:checked~label.sk-toggleable__label {background-color: #d4ebff;}#sk-container-id-9 input.sk-hidden--visually {border: 0;clip: rect(1px 1px 1px 1px);clip: rect(1px, 1px, 1px, 1px);height: 1px;margin: -1px;overflow: hidden;padding: 0;position: absolute;width: 1px;}#sk-container-id-9 div.sk-estimator {font-family: monospace;background-color: #f0f8ff;border: 1px dotted black;border-radius: 0.25em;box-sizing: border-box;margin-bottom: 0.5em;}#sk-container-id-9 div.sk-estimator:hover {background-color: #d4ebff;}#sk-container-id-9 div.sk-parallel-item::after {content: \"\";width: 100%;border-bottom: 1px solid gray;flex-grow: 1;}#sk-container-id-9 div.sk-label:hover label.sk-toggleable__label {background-color: #d4ebff;}#sk-container-id-9 div.sk-serial::before {content: \"\";position: absolute;border-left: 1px solid gray;box-sizing: border-box;top: 0;bottom: 0;left: 50%;z-index: 0;}#sk-container-id-9 div.sk-serial {display: flex;flex-direction: column;align-items: center;background-color: white;padding-right: 0.2em;padding-left: 0.2em;position: relative;}#sk-container-id-9 div.sk-item {position: relative;z-index: 1;}#sk-container-id-9 div.sk-parallel {display: flex;align-items: stretch;justify-content: center;background-color: white;position: relative;}#sk-container-id-9 div.sk-item::before, #sk-container-id-9 div.sk-parallel-item::before {content: \"\";position: absolute;border-left: 1px solid gray;box-sizing: border-box;top: 0;bottom: 0;left: 50%;z-index: -1;}#sk-container-id-9 div.sk-parallel-item {display: flex;flex-direction: column;z-index: 1;position: relative;background-color: white;}#sk-container-id-9 div.sk-parallel-item:first-child::after {align-self: flex-end;width: 50%;}#sk-container-id-9 div.sk-parallel-item:last-child::after {align-self: flex-start;width: 50%;}#sk-container-id-9 div.sk-parallel-item:only-child::after {width: 0;}#sk-container-id-9 div.sk-dashed-wrapped {border: 1px dashed gray;margin: 0 0.4em 0.5em 0.4em;box-sizing: border-box;padding-bottom: 0.4em;background-color: white;}#sk-container-id-9 div.sk-label label {font-family: monospace;font-weight: bold;display: inline-block;line-height: 1.2em;}#sk-container-id-9 div.sk-label-container {text-align: center;}#sk-container-id-9 div.sk-container {/* jupyter's `normalize.less` sets `[hidden] { display: none; }` but bootstrap.min.css set `[hidden] { display: none !important; }` so we also need the `!important` here to be able to override the default hidden behavior on the sphinx rendered scikit-learn.org. See: https://github.com/scikit-learn/scikit-learn/issues/21755 */display: inline-block !important;position: relative;}#sk-container-id-9 div.sk-text-repr-fallback {display: none;}</style><div id=\"sk-container-id-9\" class=\"sk-top-container\"><div class=\"sk-text-repr-fallback\"><pre>ElasticNetCV(l1_ratio=[0.1, 0.5, 0.7, 0.9, 0.95, 0.99, 1], tol=0.01)</pre><b>In a Jupyter environment, please rerun this cell to show the HTML representation or trust the notebook. <br />On GitHub, the HTML representation is unable to render, please try loading this page with nbviewer.org.</b></div><div class=\"sk-container\" hidden><div class=\"sk-item\"><div class=\"sk-estimator sk-toggleable\"><input class=\"sk-toggleable__control sk-hidden--visually\" id=\"sk-estimator-id-9\" type=\"checkbox\" checked><label for=\"sk-estimator-id-9\" class=\"sk-toggleable__label sk-toggleable__label-arrow\">ElasticNetCV</label><div class=\"sk-toggleable__content\"><pre>ElasticNetCV(l1_ratio=[0.1, 0.5, 0.7, 0.9, 0.95, 0.99, 1], tol=0.01)</pre></div></div></div></div></div>"
     },
     "execution_count": 90,
     "metadata": {},
     "output_type": "execute_result"
    }
   ],
   "source": [
    "elastic_model.fit(X_train,y_train)"
   ]
  },
  {
   "cell_type": "code",
   "execution_count": 91,
   "metadata": {
    "colab": {
     "base_uri": "https://localhost:8080/"
    },
    "id": "32NdQQJGz62G",
    "executionInfo": {
     "status": "ok",
     "timestamp": 1690139915716,
     "user_tz": -180,
     "elapsed": 43,
     "user": {
      "displayName": "Катерина Зайцева",
      "userId": "13243922588902490503"
     }
    },
    "outputId": "c8994902-c53c-4c8b-beb0-7ec20ad9f7ee",
    "ExecuteTime": {
     "end_time": "2023-12-05T17:49:38.425100Z",
     "start_time": "2023-12-05T17:49:38.384245Z"
    }
   },
   "outputs": [
    {
     "data": {
      "text/plain": "1.0"
     },
     "execution_count": 91,
     "metadata": {},
     "output_type": "execute_result"
    }
   ],
   "source": [
    "elastic_model.l1_ratio_"
   ]
  },
  {
   "cell_type": "code",
   "execution_count": 92,
   "metadata": {
    "id": "FE6z0cPez62G",
    "ExecuteTime": {
     "end_time": "2023-12-05T17:49:41.889474Z",
     "start_time": "2023-12-05T17:49:41.835812Z"
    }
   },
   "outputs": [],
   "source": [
    "test_predictions = elastic_model.predict(X_test)"
   ]
  },
  {
   "cell_type": "code",
   "execution_count": 93,
   "metadata": {
    "id": "c1lnGAJ-z62G",
    "ExecuteTime": {
     "end_time": "2023-12-05T17:49:44.347682Z",
     "start_time": "2023-12-05T17:49:44.299302Z"
    }
   },
   "outputs": [],
   "source": [
    "MAE = mean_absolute_error(y_test,test_predictions)\n",
    "MSE = mean_squared_error(y_test,test_predictions)\n",
    "RMSE = np.sqrt(MSE)"
   ]
  },
  {
   "cell_type": "code",
   "execution_count": 94,
   "metadata": {
    "colab": {
     "base_uri": "https://localhost:8080/"
    },
    "id": "SMPfokrIz62H",
    "executionInfo": {
     "status": "ok",
     "timestamp": 1690139915716,
     "user_tz": -180,
     "elapsed": 41,
     "user": {
      "displayName": "Катерина Зайцева",
      "userId": "13243922588902490503"
     }
    },
    "outputId": "f4d445ee-2aea-4f35-fcff-6c4803f12ed1",
    "ExecuteTime": {
     "end_time": "2023-12-05T17:49:46.926718Z",
     "start_time": "2023-12-05T17:49:46.886062Z"
    }
   },
   "outputs": [
    {
     "data": {
      "text/plain": "8.343321889341341"
     },
     "execution_count": 94,
     "metadata": {},
     "output_type": "execute_result"
    }
   ],
   "source": [
    "MAE"
   ]
  },
  {
   "cell_type": "code",
   "execution_count": 95,
   "metadata": {
    "colab": {
     "base_uri": "https://localhost:8080/"
    },
    "id": "pMQJV8n-z62H",
    "executionInfo": {
     "status": "ok",
     "timestamp": 1690139915716,
     "user_tz": -180,
     "elapsed": 32,
     "user": {
      "displayName": "Катерина Зайцева",
      "userId": "13243922588902490503"
     }
    },
    "outputId": "e7e6fa0f-dfab-468a-84ac-5488b4d6357f",
    "ExecuteTime": {
     "end_time": "2023-12-05T17:49:53.362086Z",
     "start_time": "2023-12-05T17:49:53.309641Z"
    }
   },
   "outputs": [
    {
     "data": {
      "text/plain": "9.803494264633578"
     },
     "execution_count": 95,
     "metadata": {},
     "output_type": "execute_result"
    }
   ],
   "source": [
    "RMSE"
   ]
  },
  {
   "cell_type": "code",
   "execution_count": 96,
   "metadata": {
    "colab": {
     "base_uri": "https://localhost:8080/"
    },
    "id": "B6vQ77lVz62H",
    "executionInfo": {
     "status": "ok",
     "timestamp": 1690139915716,
     "user_tz": -180,
     "elapsed": 23,
     "user": {
      "displayName": "Катерина Зайцева",
      "userId": "13243922588902490503"
     }
    },
    "outputId": "2b25139e-59f3-4d39-f5a8-ac93bf2fad31",
    "ExecuteTime": {
     "end_time": "2023-12-05T17:50:12.792708Z",
     "start_time": "2023-12-05T17:50:12.754885Z"
    }
   },
   "outputs": [
    {
     "data": {
      "text/plain": "0.430758299047237"
     },
     "execution_count": 96,
     "metadata": {},
     "output_type": "execute_result"
    }
   ],
   "source": [
    "# Метрика MAE на обучающем наборе\n",
    "train_predictions = elastic_model.predict(X_train)\n",
    "MAE = mean_absolute_error(y_train,train_predictions)\n",
    "MAE"
   ]
  },
  {
   "cell_type": "code",
   "execution_count": 97,
   "metadata": {
    "colab": {
     "base_uri": "https://localhost:8080/"
    },
    "id": "5SbSjUJSz62H",
    "executionInfo": {
     "status": "ok",
     "timestamp": 1690139915716,
     "user_tz": -180,
     "elapsed": 13,
     "user": {
      "displayName": "Катерина Зайцева",
      "userId": "13243922588902490503"
     }
    },
    "outputId": "e734a84c-2490-41d4-ef42-200dc89cf8a7",
    "ExecuteTime": {
     "end_time": "2023-12-05T17:50:19.002425Z",
     "start_time": "2023-12-05T17:50:18.955367Z"
    }
   },
   "outputs": [
    {
     "data": {
      "text/plain": "array([ 3.78993643,  0.89232919,  0.28765395, -1.01843566,  2.15516144,\n       -0.3567547 , -0.271502  ,  0.09741081,  0.        , -1.05563151,\n        0.2362506 ,  0.07980911,  1.26170778,  0.01464706,  0.00462336,\n       -0.39986069,  0.        ,  0.        , -0.05343757])"
     },
     "execution_count": 97,
     "metadata": {},
     "output_type": "execute_result"
    }
   ],
   "source": [
    "elastic_model.coef_"
   ]
  },
  {
   "cell_type": "markdown",
   "metadata": {
    "id": "wefbkssoz62H"
   },
   "source": [
    "-----\n",
    "---"
   ]
  }
 ],
 "metadata": {
  "anaconda-cloud": {},
  "kernelspec": {
   "display_name": "Python 3",
   "language": "python",
   "name": "python3"
  },
  "language_info": {
   "codemirror_mode": {
    "name": "ipython",
    "version": 3
   },
   "file_extension": ".py",
   "mimetype": "text/x-python",
   "name": "python",
   "nbconvert_exporter": "python",
   "pygments_lexer": "ipython3",
   "version": "3.8.5"
  },
  "colab": {
   "provenance": [
    {
     "file_id": "1j3h7uzSX-yWFItIAQnpPPlLY1b7bGL_p",
     "timestamp": 1691352315637
    }
   ]
  }
 },
 "nbformat": 4,
 "nbformat_minor": 0
}
