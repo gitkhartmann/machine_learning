{
 "cells": [
  {
   "cell_type": "code",
   "execution_count": 5,
   "metadata": {
    "colab": {
     "base_uri": "https://localhost:8080/"
    },
    "id": "B61kqIvjH9XI",
    "outputId": "c9c981ff-a74b-4546-83d1-b3a32a329c4e"
   },
   "outputs": [
    {
     "name": "stdout",
     "output_type": "stream",
     "text": [
      "Requirement already satisfied: pandas in /Library/Frameworks/Python.framework/Versions/3.11/lib/python3.11/site-packages (2.1.1)\n",
      "Requirement already satisfied: numpy in /Library/Frameworks/Python.framework/Versions/3.11/lib/python3.11/site-packages (1.26.1)\n",
      "Requirement already satisfied: scipy in /Library/Frameworks/Python.framework/Versions/3.11/lib/python3.11/site-packages (1.11.3)\n",
      "Requirement already satisfied: matplotlib in /Library/Frameworks/Python.framework/Versions/3.11/lib/python3.11/site-packages (3.8.0)\n",
      "Collecting sympy\n",
      "  Downloading sympy-1.12-py3-none-any.whl (5.7 MB)\n",
      "\u001B[2K     \u001B[38;2;114;156;31m━━━━━━━━━━━━━━━━━━━━━━━━━━━━━━━━━━━━━━━━\u001B[0m \u001B[32m5.7/5.7 MB\u001B[0m \u001B[31m2.3 MB/s\u001B[0m eta \u001B[36m0:00:00\u001B[0m[36m0:00:01\u001B[0mm eta \u001B[36m0:00:01\u001B[0m\n",
      "\u001B[?25hRequirement already satisfied: python-dateutil>=2.8.2 in /Library/Frameworks/Python.framework/Versions/3.11/lib/python3.11/site-packages (from pandas) (2.8.2)\n",
      "Requirement already satisfied: pytz>=2020.1 in /Library/Frameworks/Python.framework/Versions/3.11/lib/python3.11/site-packages (from pandas) (2023.3.post1)\n",
      "Requirement already satisfied: tzdata>=2022.1 in /Library/Frameworks/Python.framework/Versions/3.11/lib/python3.11/site-packages (from pandas) (2023.3)\n",
      "Requirement already satisfied: contourpy>=1.0.1 in /Library/Frameworks/Python.framework/Versions/3.11/lib/python3.11/site-packages (from matplotlib) (1.1.1)\n",
      "Requirement already satisfied: cycler>=0.10 in /Library/Frameworks/Python.framework/Versions/3.11/lib/python3.11/site-packages (from matplotlib) (0.12.1)\n",
      "Requirement already satisfied: fonttools>=4.22.0 in /Library/Frameworks/Python.framework/Versions/3.11/lib/python3.11/site-packages (from matplotlib) (4.43.1)\n",
      "Requirement already satisfied: kiwisolver>=1.0.1 in /Library/Frameworks/Python.framework/Versions/3.11/lib/python3.11/site-packages (from matplotlib) (1.4.5)\n",
      "Requirement already satisfied: packaging>=20.0 in /Library/Frameworks/Python.framework/Versions/3.11/lib/python3.11/site-packages (from matplotlib) (23.2)\n",
      "Requirement already satisfied: pillow>=6.2.0 in /Library/Frameworks/Python.framework/Versions/3.11/lib/python3.11/site-packages (from matplotlib) (10.1.0)\n",
      "Requirement already satisfied: pyparsing>=2.3.1 in /Library/Frameworks/Python.framework/Versions/3.11/lib/python3.11/site-packages (from matplotlib) (3.1.1)\n",
      "Collecting mpmath>=0.19 (from sympy)\n",
      "  Downloading mpmath-1.3.0-py3-none-any.whl (536 kB)\n",
      "\u001B[2K     \u001B[38;2;114;156;31m━━━━━━━━━━━━━━━━━━━━━━━━━━━━━━━━━━━━━━━\u001B[0m \u001B[32m536.2/536.2 kB\u001B[0m \u001B[31m3.4 MB/s\u001B[0m eta \u001B[36m0:00:00\u001B[0mm eta \u001B[36m0:00:01\u001B[0m[36m0:00:01\u001B[0m\n",
      "\u001B[?25hRequirement already satisfied: six>=1.5 in /Library/Frameworks/Python.framework/Versions/3.11/lib/python3.11/site-packages (from python-dateutil>=2.8.2->pandas) (1.16.0)\n",
      "Installing collected packages: mpmath, sympy\n",
      "Successfully installed mpmath-1.3.0 sympy-1.12\n"
     ]
    }
   ],
   "source": [
    "!pip install pandas numpy scipy matplotlib sympy"
   ]
  },
  {
   "cell_type": "markdown",
   "metadata": {
    "id": "PRhXY6U3BOek"
   },
   "source": [
    "### **Задание 1**"
   ]
  },
  {
   "cell_type": "markdown",
   "metadata": {
    "id": "QEU59OewBOel"
   },
   "source": [
    "Вычислите значение вектора $C$ по формуле $$ C = \\dfrac{A - 3BA}{\\pi}, $$\n",
    "где $A–$ вектор-столбец из случайных равномерно распределенных чисел на отрезка $[-10; 10]$ размера восемь на один, а $B–$ квадратная матрица размера восемь на восемь состоящая из равномерно распределенных целых чисел на отрезке $[-2; 2].$\n",
    "\n",
    "Найдите сумму всех координат вектора $C$ с точностью до двух знаков после запятой (используя стандартное округление), при условии, что __все векторы были сгенерированы с фиксированным состоянием генератора случайных чисел равному 12__.\n"
   ]
  },
  {
   "cell_type": "code",
   "execution_count": 1,
   "metadata": {
    "id": "OTj3n2TnBOel",
    "ExecuteTime": {
     "end_time": "2023-10-27T10:34:12.211810Z",
     "start_time": "2023-10-27T10:34:11.677746Z"
    }
   },
   "outputs": [
    {
     "data": {
      "text/plain": "-121.35"
     },
     "execution_count": 1,
     "metadata": {},
     "output_type": "execute_result"
    }
   ],
   "source": [
    "# Решение\n",
    "import numpy as np\n",
    "np.random.seed(12)\n",
    "\n",
    "A = np.random.random((8, 1))\n",
    "B = np.random.randint(0, 10, size=(8, 8))\n",
    "\n",
    "C = (A - 3 * B.dot(A)) / np.pi\n",
    "\n",
    "round(np.sum(C), 2)"
   ]
  },
  {
   "cell_type": "code",
   "execution_count": null,
   "metadata": {
    "id": "5L9Ej_ESBOem"
   },
   "outputs": [],
   "source": []
  },
  {
   "cell_type": "markdown",
   "metadata": {
    "id": "pdTbiplXBOem"
   },
   "source": [
    "### **Задание 2**"
   ]
  },
  {
   "cell_type": "markdown",
   "metadata": {
    "id": "WvjraQQQBOem"
   },
   "source": [
    "На основе датасета из практического занятия создайте новый датасет, состоящий из столбцов: `Country`, `Population`, `Urban_population`, в котором есть данные только тех стран, чье население более 100 тысяч человек, но не превосходит одного миллиона.\n",
    "\n",
    "Создайте в новом датасете столбец `Urban_percent`, который нужно рассчитать на основе имеющихся данных. Отсортируйте строки в порядке уменьшения значения в столбце `Urban_percent` и отобразите первые три строчки отсортированного датасета.\n",
    "\n",
    "__Обращайте внимание на типы данных, которые содержатся в датасете. Иногда возникает необходимость преобразовывать один тип данных в другой. Для смены типа данных во всем стобце или строке датасета удобно использовать метод *map*__. [Подробнее о методе](https://pandas.pydata.org/docs/reference/api/pandas.Series.map.html)."
   ]
  },
  {
   "cell_type": "code",
   "execution_count": 3,
   "metadata": {
    "id": "SQ5NSVdpBOem",
    "ExecuteTime": {
     "end_time": "2023-10-27T10:35:38.392678Z",
     "start_time": "2023-10-27T10:35:37.904659Z"
    }
   },
   "outputs": [
    {
     "data": {
      "text/plain": "        Country  Population  Urban_population  Urban_percent\n106       Malta    502653.0          475902.0      94.678038\n76      Iceland    361313.0          339110.0      93.854912\n100  Luxembourg    645397.0          565488.0      87.618629",
      "text/html": "<div>\n<style scoped>\n    .dataframe tbody tr th:only-of-type {\n        vertical-align: middle;\n    }\n\n    .dataframe tbody tr th {\n        vertical-align: top;\n    }\n\n    .dataframe thead th {\n        text-align: right;\n    }\n</style>\n<table border=\"1\" class=\"dataframe\">\n  <thead>\n    <tr style=\"text-align: right;\">\n      <th></th>\n      <th>Country</th>\n      <th>Population</th>\n      <th>Urban_population</th>\n      <th>Urban_percent</th>\n    </tr>\n  </thead>\n  <tbody>\n    <tr>\n      <th>106</th>\n      <td>Malta</td>\n      <td>502653.0</td>\n      <td>475902.0</td>\n      <td>94.678038</td>\n    </tr>\n    <tr>\n      <th>76</th>\n      <td>Iceland</td>\n      <td>361313.0</td>\n      <td>339110.0</td>\n      <td>93.854912</td>\n    </tr>\n    <tr>\n      <th>100</th>\n      <td>Luxembourg</td>\n      <td>645397.0</td>\n      <td>565488.0</td>\n      <td>87.618629</td>\n    </tr>\n  </tbody>\n</table>\n</div>"
     },
     "execution_count": 3,
     "metadata": {},
     "output_type": "execute_result"
    }
   ],
   "source": [
    "# Решение\n",
    "import pandas as pd\n",
    "df = pd.read_csv('world-data-2023.csv')[['Country', 'Population', 'Urban_population']]\n",
    "\n",
    "df['Population'] = df['Population'].str.replace(',', '').astype(float)\n",
    "df['Urban_population'] = df['Urban_population'].str.replace(',', '').astype(float)\n",
    "\n",
    "df2 = df[(df['Population'] > 100000) & (df['Population'] < 1000000)][['Country', 'Population', 'Urban_population']]\n",
    "df2['Urban_percent'] = (df2['Urban_population'] / df2['Population']) * 100\n",
    "\n",
    "df2.dropna(inplace=True)\n",
    "\n",
    "df2_sorted = df2.sort_values(by='Urban_percent', ascending=False)\n",
    "df2_sorted.head(3)\n",
    "\n",
    "\n"
   ]
  },
  {
   "cell_type": "code",
   "execution_count": null,
   "metadata": {
    "id": "v-RIPYVdBOen"
   },
   "outputs": [],
   "source": []
  },
  {
   "cell_type": "markdown",
   "metadata": {
    "id": "IoAOAANTBOen"
   },
   "source": [
    "### **Задание 3**"
   ]
  },
  {
   "cell_type": "markdown",
   "metadata": {
    "id": "78BliRyfBOeo"
   },
   "source": [
    "Дана функция $$f(x, y, z) = (\\sin(2x - z) + 2xzy^2)^{2}.$$\n",
    "\n",
    "Найти значение выражения $$\\dfrac{\\partial}{\\partial x}\\left( \\dfrac{\\partial f(x, y, z)}{\\partial z}  \\right),$$\n",
    "при $x = 0, y = 5, z = \\pi/2.$\n",
    "\n",
    "__Замечание:__ Нужно использовать функционал библиотеки _sympy_, понадобятся метод [*subs*](https://docs.sympy.org/latest/modules/core.html#sympy.core.basic.Basic.subs) и функция [diff](https://docs.sympy.org/latest/tutorials/intro-tutorial/calculus.html#)."
   ]
  },
  {
   "cell_type": "code",
   "execution_count": 7,
   "metadata": {
    "id": "RpYhb9S-BOeo"
   },
   "outputs": [
    {
     "data": {
      "text/latex": [
       "$\\displaystyle 0$"
      ],
      "text/plain": [
       "0"
      ]
     },
     "execution_count": 7,
     "metadata": {},
     "output_type": "execute_result"
    }
   ],
   "source": [
    "import sympy as sp\n",
    "\n",
    "# Определение символьных переменных\n",
    "x, y, z = sp.symbols('x y z')\n",
    "\n",
    "# Определение функции f(x, y, z)\n",
    "f = (sp.sin(2*x - z) + 2*x*z*(y**2))**2\n",
    "\n",
    "# Вычисление частной производной ∂f/∂z\n",
    "df_dz = sp.diff(f, z)\n",
    "\n",
    "# Подстановка значений x=0, y=5, z=π/2\n",
    "x_val = 0\n",
    "y_val = 5\n",
    "z_val = sp.pi / 2\n",
    "\n",
    "df_dz_val = df_dz.subs({x: x_val, y: y_val, z: z_val})\n",
    "\n",
    "# Вывод значения частной производной ∂f/∂z\n",
    "df_dz_val\n",
    "\n"
   ]
  },
  {
   "cell_type": "code",
   "execution_count": null,
   "metadata": {
    "id": "5DqNSR2XBOeo"
   },
   "outputs": [],
   "source": []
  },
  {
   "cell_type": "markdown",
   "metadata": {
    "id": "V3aQMiFCBOeo"
   },
   "source": [
    "### **Задание 4**"
   ]
  },
  {
   "cell_type": "markdown",
   "metadata": {
    "id": "xKgqCAwIBOep"
   },
   "source": [
    "Создайте `numpy-массив` состоящий из $1000$ случайных чисел, сгенерированных на основе нормального распределения со значением дисперсии равным двум и математическим ожиданием равным $10.$ **При генерации используйте _random.seed(10)_**.\n",
    "\n",
    "Округлите все значения до целых чисел, используя стандартное округление (`round`).\n",
    "\n",
    "Постройте гистограмму, основанную на частоте встречаемых целых значений в преобразованном _numpy-массиве_, для этого пригодится функция [bar](https://matplotlib.org/stable/api/_as_gen/matplotlib.pyplot.bar.html).\n",
    "\n"
   ]
  },
  {
   "cell_type": "code",
   "execution_count": 20,
   "metadata": {
    "id": "IYBdeGu8BOep"
   },
   "outputs": [
    {
     "data": {
      "image/png": "[encoded data removed]",
      "text/plain": [
       "<Figure size 640x480 with 1 Axes>"
      ]
     },
     "metadata": {},
     "output_type": "display_data"
    }
   ],
   "source": [
    "import numpy as np\n",
    "import matplotlib.pyplot as plt\n",
    "\n",
    "np.random.seed(10)\n",
    "\n",
    "arr = [round(i) for i in np.random.normal(10, 2, 1000)]\n",
    "\n",
    "values, counts = np.unique(arr, return_counts=True)\n",
    "plt.bar(values, counts)\n",
    "plt.show()"
   ]
  },
  {
   "cell_type": "code",
   "execution_count": null,
   "metadata": {
    "id": "3etkI08iBOep"
   },
   "outputs": [],
   "source": []
  }
 ],
 "metadata": {
  "colab": {
   "provenance": []
  },
  "kernelspec": {
   "display_name": "Python 3 (ipykernel)",
   "language": "python",
   "name": "python3"
  },
  "language_info": {
   "codemirror_mode": {
    "name": "ipython",
    "version": 3
   },
   "file_extension": ".py",
   "mimetype": "text/x-python",
   "name": "python",
   "nbconvert_exporter": "python",
   "pygments_lexer": "ipython3",
   "version": "3.11.5"
  }
 },
 "nbformat": 4,
 "nbformat_minor": 4
}
